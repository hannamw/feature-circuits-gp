{
 "cells": [
  {
   "cell_type": "code",
   "execution_count": 1,
   "metadata": {},
   "outputs": [
    {
     "name": "stderr",
     "output_type": "stream",
     "text": [
      "/share/u/smarks/.local/lib/python3.8/site-packages/tqdm/auto.py:21: TqdmWarning: IProgress not found. Please update jupyter and ipywidgets. See https://ipywidgets.readthedocs.io/en/stable/user_install.html\n",
      "  from .autonotebook import tqdm as notebook_tqdm\n"
     ]
    }
   ],
   "source": [
    "from nnsight import LanguageModel\n",
    "from circuit import get_circuit, slice_dag, CircuitNode, sum_dag, mean_dag\n",
    "import torch as t\n",
    "from dictionary_learning import AutoEncoder\n",
    "from attribution import patching_effect, get_grad\n",
    "from graph_utils import WeightedDAG"
   ]
  },
  {
   "cell_type": "code",
   "execution_count": 2,
   "metadata": {},
   "outputs": [
    {
     "name": "stderr",
     "output_type": "stream",
     "text": [
      "Special tokens have been added in the vocabulary, make sure the associated word embeddings are fine-tuned or trained.\n"
     ]
    }
   ],
   "source": [
    "model = LanguageModel('EleutherAI/pythia-70m-deduped', device_map='cpu')\n",
    "submodules = []\n",
    "submodule_names = {}\n",
    "dictionaries = {}\n",
    "for layer in range(len(model.gpt_neox.layers)):\n",
    "    submodule = model.gpt_neox.layers[layer].mlp\n",
    "    submodule_names[submodule] = f'mlp{layer}'\n",
    "    submodules.append(submodule)\n",
    "    ae = AutoEncoder(512, 64 * 512).cuda()\n",
    "    ae.load_state_dict(t.load(f'/share/projects/dictionary_circuits/autoencoders/pythia-70m-deduped/mlp_out_layer{layer}/5_32768/ae.pt'))\n",
    "    dictionaries[submodule] = ae\n",
    "\n",
    "    submodule = model.gpt_neox.layers[layer]\n",
    "    submodule_names[submodule] = f'resid{layer}'\n",
    "    submodules.append(submodule)\n",
    "    ae = AutoEncoder(512, 64 * 512).cuda()\n",
    "    ae.load_state_dict(t.load(f'/share/projects/dictionary_circuits/autoencoders/pythia-70m-deduped/resid_out_layer{layer}/5_32768/ae.pt'))\n",
    "    ae.load_state_dict(t.load(f'/share/projects/dictionary_circuits/autoencoders/pythia-70m-deduped/resid_out_layer{layer}/5_32768/ae.pt'))\n",
    "    dictionaries[submodule] = ae"
   ]
  },
  {
   "cell_type": "code",
   "execution_count": 3,
   "metadata": {},
   "outputs": [
    {
     "name": "stderr",
     "output_type": "stream",
     "text": [
      "You're using a GPTNeoXTokenizerFast tokenizer. Please note that with a fast tokenizer, using the `__call__` method is faster than using a method to encode the text followed by a call to the `pad` method to get a padded encoding.\n"
     ]
    }
   ],
   "source": [
    "clean_idx = model.tokenizer(\" is\").input_ids[-1]\n",
    "patch_idx = model.tokenizer(\" are\").input_ids[-1]\n",
    "\n",
    "def metric_fn(model):\n",
    "    return model.embed_out.output[:,-1,patch_idx] - model.embed_out.output[:,-1,clean_idx]\n",
    "\n",
    "dag = get_circuit(\n",
    "    [\"The man\", \"The tall boy\"],\n",
    "    [\"The men\", \"The tall boys\"],\n",
    "    model,\n",
    "    submodules,\n",
    "    submodule_names,\n",
    "    dictionaries,\n",
    "    metric_fn,\n",
    ")\n",
    "\n",
    "reduced_dag = mean_dag(sum_dag(dag, 1), 0, crosses=False)"
   ]
  }
 ],
 "metadata": {
  "kernelspec": {
   "display_name": "Python 3",
   "language": "python",
   "name": "python3"
  },
  "language_info": {
   "codemirror_mode": {
    "name": "ipython",
    "version": 3
   },
   "file_extension": ".py",
   "mimetype": "text/x-python",
   "name": "python",
   "nbconvert_exporter": "python",
   "pygments_lexer": "ipython3",
   "version": "3.8.10"
  }
 },
 "nbformat": 4,
 "nbformat_minor": 2
}
