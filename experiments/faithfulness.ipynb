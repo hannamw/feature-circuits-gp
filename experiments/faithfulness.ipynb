{
 "cells": [
  {
   "cell_type": "code",
   "execution_count": 1,
   "metadata": {},
   "outputs": [
    {
     "name": "stderr",
     "output_type": "stream",
     "text": [
      "/home/aaron/miniconda3/envs/othello/lib/python3.10/site-packages/transformers/utils/generic.py:441: UserWarning: torch.utils._pytree._register_pytree_node is deprecated. Please use torch.utils._pytree.register_pytree_node instead.\n",
      "  _torch_pytree._register_pytree_node(\n",
      "/home/aaron/miniconda3/envs/othello/lib/python3.10/site-packages/transformers/utils/generic.py:309: UserWarning: torch.utils._pytree._register_pytree_node is deprecated. Please use torch.utils._pytree.register_pytree_node instead.\n",
      "  _torch_pytree._register_pytree_node(\n"
     ]
    }
   ],
   "source": [
    "import sys\n",
    "import os\n",
    "parent_dir = os.path.abspath('..')\n",
    "sys.path.append(parent_dir)\n",
    "\n",
    "from nnsight import LanguageModel\n",
    "from activation_utils import SparseAct\n",
    "import torch as t\n",
    "import plotly.graph_objects as go\n",
    "from loading_utils import load_examples\n",
    "from dictionary_learning import AutoEncoder\n",
    "from dictionary_learning.dictionary import IdentityDict\n",
    "from ablation import run_with_ablations\n",
    "from scipy import interpolate\n",
    "import math\n",
    "from statistics import stdev\n"
   ]
  },
  {
   "cell_type": "code",
   "execution_count": 2,
   "metadata": {},
   "outputs": [
    {
     "name": "stderr",
     "output_type": "stream",
     "text": [
      "Special tokens have been added in the vocabulary, make sure the associated word embeddings are fine-tuned or trained.\n"
     ]
    }
   ],
   "source": [
    "device = 'cuda:0'\n",
    "model = LanguageModel('EleutherAI/pythia-70m-deduped', device_map=device, dispatch=True)\n",
    "\n",
    "start_layer = 2 # explain the model starting here"
   ]
  },
  {
   "cell_type": "code",
   "execution_count": 3,
   "metadata": {},
   "outputs": [],
   "source": [
    "# load submodules\n",
    "submodules = []\n",
    "if start_layer < 0: submodules.append(model.gpt_neox.embed_in)\n",
    "for i in range(start_layer, len(model.gpt_neox.layers)):\n",
    "    submodules.extend([\n",
    "        model.gpt_neox.layers[i].attention,\n",
    "        model.gpt_neox.layers[i].mlp,\n",
    "        model.gpt_neox.layers[i]\n",
    "    ])\n",
    "\n",
    "submod_names = {\n",
    "    model.gpt_neox.embed_in : 'embed'\n",
    "}\n",
    "for i in range(len(model.gpt_neox.layers)):\n",
    "    submod_names[model.gpt_neox.layers[i].attention] = f'attn_{i}'\n",
    "    submod_names[model.gpt_neox.layers[i].mlp] = f'mlp_{i}'\n",
    "    submod_names[model.gpt_neox.layers[i]] = f'resid_{i}'"
   ]
  },
  {
   "cell_type": "code",
   "execution_count": 5,
   "metadata": {},
   "outputs": [
    {
     "ename": "FileNotFoundError",
     "evalue": "[Errno 2] No such file or directory: 'dictionaries/pythia-70m-deduped/embed/10_32768/ae.pt'",
     "output_type": "error",
     "traceback": [
      "\u001b[0;31m---------------------------------------------------------------------------\u001b[0m",
      "\u001b[0;31mFileNotFoundError\u001b[0m                         Traceback (most recent call last)",
      "Cell \u001b[0;32mIn[5], line 10\u001b[0m\n\u001b[1;32m      8\u001b[0m feat_dicts \u001b[38;5;241m=\u001b[39m {}\n\u001b[1;32m      9\u001b[0m ae \u001b[38;5;241m=\u001b[39m AutoEncoder(activation_dim, dict_size)\u001b[38;5;241m.\u001b[39mto(device)\n\u001b[0;32m---> 10\u001b[0m ae\u001b[38;5;241m.\u001b[39mload_state_dict(\u001b[43mt\u001b[49m\u001b[38;5;241;43m.\u001b[39;49m\u001b[43mload\u001b[49m\u001b[43m(\u001b[49m\u001b[38;5;124;43mf\u001b[39;49m\u001b[38;5;124;43m'\u001b[39;49m\u001b[38;5;124;43mdictionaries/pythia-70m-deduped/embed/\u001b[39;49m\u001b[38;5;132;43;01m{\u001b[39;49;00m\u001b[43mdict_id\u001b[49m\u001b[38;5;132;43;01m}\u001b[39;49;00m\u001b[38;5;124;43m_\u001b[39;49m\u001b[38;5;132;43;01m{\u001b[39;49;00m\u001b[43mdict_size\u001b[49m\u001b[38;5;132;43;01m}\u001b[39;49;00m\u001b[38;5;124;43m/ae.pt\u001b[39;49m\u001b[38;5;124;43m'\u001b[39;49m\u001b[43m)\u001b[49m)\n\u001b[1;32m     11\u001b[0m feat_dicts[model\u001b[38;5;241m.\u001b[39mgpt_neox\u001b[38;5;241m.\u001b[39membed_in] \u001b[38;5;241m=\u001b[39m ae\n\u001b[1;32m     12\u001b[0m \u001b[38;5;28;01mfor\u001b[39;00m i \u001b[38;5;129;01min\u001b[39;00m \u001b[38;5;28mrange\u001b[39m(\u001b[38;5;28mlen\u001b[39m(model\u001b[38;5;241m.\u001b[39mgpt_neox\u001b[38;5;241m.\u001b[39mlayers)):\n",
      "File \u001b[0;32m~/miniconda3/envs/othello/lib/python3.10/site-packages/torch/serialization.py:998\u001b[0m, in \u001b[0;36mload\u001b[0;34m(f, map_location, pickle_module, weights_only, mmap, **pickle_load_args)\u001b[0m\n\u001b[1;32m    995\u001b[0m \u001b[38;5;28;01mif\u001b[39;00m \u001b[38;5;124m'\u001b[39m\u001b[38;5;124mencoding\u001b[39m\u001b[38;5;124m'\u001b[39m \u001b[38;5;129;01mnot\u001b[39;00m \u001b[38;5;129;01min\u001b[39;00m pickle_load_args\u001b[38;5;241m.\u001b[39mkeys():\n\u001b[1;32m    996\u001b[0m     pickle_load_args[\u001b[38;5;124m'\u001b[39m\u001b[38;5;124mencoding\u001b[39m\u001b[38;5;124m'\u001b[39m] \u001b[38;5;241m=\u001b[39m \u001b[38;5;124m'\u001b[39m\u001b[38;5;124mutf-8\u001b[39m\u001b[38;5;124m'\u001b[39m\n\u001b[0;32m--> 998\u001b[0m \u001b[38;5;28;01mwith\u001b[39;00m \u001b[43m_open_file_like\u001b[49m\u001b[43m(\u001b[49m\u001b[43mf\u001b[49m\u001b[43m,\u001b[49m\u001b[43m \u001b[49m\u001b[38;5;124;43m'\u001b[39;49m\u001b[38;5;124;43mrb\u001b[39;49m\u001b[38;5;124;43m'\u001b[39;49m\u001b[43m)\u001b[49m \u001b[38;5;28;01mas\u001b[39;00m opened_file:\n\u001b[1;32m    999\u001b[0m     \u001b[38;5;28;01mif\u001b[39;00m _is_zipfile(opened_file):\n\u001b[1;32m   1000\u001b[0m         \u001b[38;5;66;03m# The zipfile reader is going to advance the current file position.\u001b[39;00m\n\u001b[1;32m   1001\u001b[0m         \u001b[38;5;66;03m# If we want to actually tail call to torch.jit.load, we need to\u001b[39;00m\n\u001b[1;32m   1002\u001b[0m         \u001b[38;5;66;03m# reset back to the original position.\u001b[39;00m\n\u001b[1;32m   1003\u001b[0m         orig_position \u001b[38;5;241m=\u001b[39m opened_file\u001b[38;5;241m.\u001b[39mtell()\n",
      "File \u001b[0;32m~/miniconda3/envs/othello/lib/python3.10/site-packages/torch/serialization.py:445\u001b[0m, in \u001b[0;36m_open_file_like\u001b[0;34m(name_or_buffer, mode)\u001b[0m\n\u001b[1;32m    443\u001b[0m \u001b[38;5;28;01mdef\u001b[39;00m \u001b[38;5;21m_open_file_like\u001b[39m(name_or_buffer, mode):\n\u001b[1;32m    444\u001b[0m     \u001b[38;5;28;01mif\u001b[39;00m _is_path(name_or_buffer):\n\u001b[0;32m--> 445\u001b[0m         \u001b[38;5;28;01mreturn\u001b[39;00m \u001b[43m_open_file\u001b[49m\u001b[43m(\u001b[49m\u001b[43mname_or_buffer\u001b[49m\u001b[43m,\u001b[49m\u001b[43m \u001b[49m\u001b[43mmode\u001b[49m\u001b[43m)\u001b[49m\n\u001b[1;32m    446\u001b[0m     \u001b[38;5;28;01melse\u001b[39;00m:\n\u001b[1;32m    447\u001b[0m         \u001b[38;5;28;01mif\u001b[39;00m \u001b[38;5;124m'\u001b[39m\u001b[38;5;124mw\u001b[39m\u001b[38;5;124m'\u001b[39m \u001b[38;5;129;01min\u001b[39;00m mode:\n",
      "File \u001b[0;32m~/miniconda3/envs/othello/lib/python3.10/site-packages/torch/serialization.py:426\u001b[0m, in \u001b[0;36m_open_file.__init__\u001b[0;34m(self, name, mode)\u001b[0m\n\u001b[1;32m    425\u001b[0m \u001b[38;5;28;01mdef\u001b[39;00m \u001b[38;5;21m__init__\u001b[39m(\u001b[38;5;28mself\u001b[39m, name, mode):\n\u001b[0;32m--> 426\u001b[0m     \u001b[38;5;28msuper\u001b[39m()\u001b[38;5;241m.\u001b[39m\u001b[38;5;21m__init__\u001b[39m(\u001b[38;5;28;43mopen\u001b[39;49m\u001b[43m(\u001b[49m\u001b[43mname\u001b[49m\u001b[43m,\u001b[49m\u001b[43m \u001b[49m\u001b[43mmode\u001b[49m\u001b[43m)\u001b[49m)\n",
      "\u001b[0;31mFileNotFoundError\u001b[0m: [Errno 2] No such file or directory: 'dictionaries/pythia-70m-deduped/embed/10_32768/ae.pt'"
     ]
    }
   ],
   "source": [
    "# load dictionaries\n",
    "dict_id = 10\n",
    "\n",
    "activation_dim = 512\n",
    "expansion_factor = 64\n",
    "dict_size = expansion_factor * activation_dim\n",
    "\n",
    "feat_dicts = {}\n",
    "ae = AutoEncoder(activation_dim, dict_size).to(device)\n",
    "ae.load_state_dict(t.load(f'dictionaries/pythia-70m-deduped/embed/{dict_id}_{dict_size}/ae.pt'))\n",
    "feat_dicts[model.gpt_neox.embed_in] = ae\n",
    "for i in range(len(model.gpt_neox.layers)):\n",
    "    ae = AutoEncoder(activation_dim, dict_size).to(device)\n",
    "    ae.load_state_dict(t.load(f'dictionaries/pythia-70m-deduped/attn_out_layer{i}/{dict_id}_{dict_size}/ae.pt'))\n",
    "    feat_dicts[model.gpt_neox.layers[i].attention] = ae\n",
    "\n",
    "    ae = AutoEncoder(activation_dim, dict_size).to(device)\n",
    "    ae.load_state_dict(t.load(f'dictionaries/pythia-70m-deduped/mlp_out_layer{i}/{dict_id}_{dict_size}/ae.pt'))\n",
    "    feat_dicts[model.gpt_neox.layers[i].mlp] = ae\n",
    "\n",
    "    ae = AutoEncoder(activation_dim, dict_size).to(device)\n",
    "    ae.load_state_dict(t.load(f'dictionaries/pythia-70m-deduped/resid_out_layer{i}/{dict_id}_{dict_size}/ae.pt'))\n",
    "    feat_dicts[model.gpt_neox.layers[i]] = ae\n",
    "\n",
    "neuron_dicts = {\n",
    "    submod : IdentityDict(activation_dim).to(device) for submod in submodules\n",
    "}\n"
   ]
  },
  {
   "cell_type": "code",
   "execution_count": 13,
   "metadata": {},
   "outputs": [],
   "source": [
    "# use mean ablation\n",
    "ablation_fn = lambda x: x.mean(dim=0).expand_as(x)"
   ]
  },
  {
   "cell_type": "code",
   "execution_count": 14,
   "metadata": {},
   "outputs": [],
   "source": [
    "def get_fcs(\n",
    "        dataset,\n",
    "        model,\n",
    "        submodules,\n",
    "        dictionaries,\n",
    "        ablation_fn,\n",
    "        thresholds,\n",
    "        length,\n",
    "        handle_errors = 'default', # also 'remove' or 'resid_only'\n",
    "        use_neurons = False,\n",
    "        random = False\n",
    "):\n",
    "    # load data \n",
    "    if not use_neurons:\n",
    "        circuit = t.load(f'circuits/{dataset}_train_dict10_node0.2_edge0.02_n100_aggnone.pt')['nodes']\n",
    "    else:\n",
    "        circuit = t.load(f'circuits/{dataset}_train_dictid_node0.2_edge0.02_n100_aggnone.pt')['nodes']\n",
    "    examples = load_examples(f'/share/projects/dictionary_circuits/data/phenomena/{dataset}_test.json', 40, model, length=length)\n",
    "    clean_inputs = t.cat([e['clean_prefix'] for e in examples], dim=0).to('cuda:0')\n",
    "    clean_answer_idxs = t.tensor([e['clean_answer'] for e in examples], dtype=t.long, device='cuda:0')\n",
    "    patch_inputs = t.cat([e['patch_prefix'] for e in examples], dim=0).to('cuda:0')\n",
    "    patch_answer_idxs = t.tensor([e['patch_answer'] for e in examples], dtype=t.long, device='cuda:0')\n",
    "    def metric_fn(model):\n",
    "        return (\n",
    "            - t.gather(model.embed_out.output[:,-1,:], dim=-1, index=patch_answer_idxs.view(-1, 1)).squeeze(-1) + \\\n",
    "            t.gather(model.embed_out.output[:,-1,:], dim=-1, index=clean_answer_idxs.view(-1, 1)).squeeze(-1)\n",
    "        )\n",
    "    \n",
    "    with t.no_grad():\n",
    "        out = {}\n",
    "\n",
    "        # get F(M)\n",
    "        with model.trace(clean_inputs):\n",
    "            metric = metric_fn(model).save()\n",
    "        fm = metric.value.mean().item()\n",
    "\n",
    "        out['fm'] = fm\n",
    "\n",
    "        # get F(∅)\n",
    "        fempty = run_with_ablations(\n",
    "            clean_inputs,\n",
    "            patch_inputs,\n",
    "            model,\n",
    "            submodules,\n",
    "            dictionaries,\n",
    "            nodes = {\n",
    "                submod : SparseAct(\n",
    "                    act=t.zeros(dict_size if not use_neurons else activation_dim, dtype=t.bool), \n",
    "                    resc=t.zeros(1, dtype=t.bool)).to(device)\n",
    "                for submod in submodules\n",
    "            },\n",
    "            metric_fn=metric_fn,\n",
    "            ablation_fn=ablation_fn,\n",
    "        ).mean().item()\n",
    "        out['fempty'] = fempty\n",
    "\n",
    "        for threshold in thresholds:\n",
    "            out[threshold] = {}\n",
    "            nodes = {\n",
    "                submod : circuit[submod_names[submod]].abs() > threshold for submod in submodules\n",
    "            }\n",
    "\n",
    "            if handle_errors == 'remove':\n",
    "                for k in nodes: nodes[k].resc = t.zeros_like(nodes[k].resc, dtype=t.bool)\n",
    "            elif handle_errors == 'resid_only':\n",
    "                for k in nodes:\n",
    "                    if k not in model.gpt_neox.layers: nodes[k].resc = t.zeros_like(nodes[k].resc, dtype=t.bool)\n",
    "\n",
    "            n_nodes = sum([n.act.sum() + n.resc.sum() for n in nodes.values()]).item()\n",
    "            if random:\n",
    "                total_nodes = sum([n.act.numel() + n.resc.numel() for n in nodes.values()])\n",
    "                p = n_nodes / total_nodes\n",
    "                for k in nodes:\n",
    "                    nodes[k].act = t.bernoulli(t.ones_like(nodes[k].act, dtype=t.float) * p).to(device).to(dtype=t.bool)\n",
    "                    nodes[k].resc = t.ones_like(nodes[k].resc, dtype=t.bool).to(device)\n",
    "                out[threshold]['n_nodes'] = sum([n.act.sum() + n.resc.sum() for n in nodes.values()]).item()\n",
    "            else:\n",
    "                out[threshold]['n_nodes'] = n_nodes\n",
    "            \n",
    "            out[threshold]['fc'] = run_with_ablations(\n",
    "                clean_inputs,\n",
    "                patch_inputs,\n",
    "                model,\n",
    "                submodules,\n",
    "                dictionaries,\n",
    "                nodes=nodes,\n",
    "                metric_fn=metric_fn,\n",
    "                ablation_fn=ablation_fn,\n",
    "            ).mean().item()\n",
    "            out[threshold]['fccomp'] = run_with_ablations(\n",
    "                clean_inputs,\n",
    "                patch_inputs,\n",
    "                model,\n",
    "                submodules,\n",
    "                dictionaries,\n",
    "                nodes=nodes,\n",
    "                metric_fn=metric_fn,\n",
    "                ablation_fn=ablation_fn,\n",
    "                complement=True\n",
    "            ).mean().item()\n",
    "            out[threshold]['faithfulness'] = (out[threshold]['fc'] - fempty) / (fm - fempty)\n",
    "            out[threshold]['completeness'] = (out[threshold]['fccomp'] - fempty) / (fm - fempty)\n",
    "    return out\n"
   ]
  },
  {
   "cell_type": "code",
   "execution_count": 15,
   "metadata": {},
   "outputs": [
    {
     "name": "stderr",
     "output_type": "stream",
     "text": [
      "You're using a GPTNeoXTokenizerFast tokenizer. Please note that with a fast tokenizer, using the `__call__` method is faster than using a method to encode the text followed by a call to the `pad` method to get a padded encoding.\n"
     ]
    }
   ],
   "source": [
    "datasets = {\n",
    "    'rc' : 6,\n",
    "    'nounpp' : 5,\n",
    "    'simple' : 2,\n",
    "    'within_rc' : 5\n",
    "}\n",
    "thresholds = t.logspace(-4, 0, 15, 10).tolist()\n",
    "outs = {\n",
    "    'features' : {\n",
    "        dataset : get_fcs(\n",
    "            dataset,\n",
    "            model,\n",
    "            submodules,\n",
    "            feat_dicts,\n",
    "            ablation_fn=ablation_fn,\n",
    "            thresholds = thresholds,\n",
    "            length=length,\n",
    "        ) for dataset, length in datasets.items()\n",
    "    },\n",
    "    'features_wo_errs' : {\n",
    "        dataset : get_fcs(\n",
    "            dataset,\n",
    "            model,\n",
    "            submodules,\n",
    "            feat_dicts,\n",
    "            ablation_fn=ablation_fn,\n",
    "            thresholds = thresholds,\n",
    "            length=length,\n",
    "            handle_errors='remove'\n",
    "        ) for dataset, length in datasets.items()\n",
    "    },\n",
    "    'features_wo_some_errs' : {\n",
    "        dataset : get_fcs(\n",
    "            dataset,\n",
    "            model,\n",
    "            submodules,\n",
    "            feat_dicts,\n",
    "            ablation_fn=ablation_fn,\n",
    "            thresholds = thresholds,\n",
    "            length=length,\n",
    "            handle_errors='resid_only'\n",
    "        ) for dataset, length in datasets.items()\n",
    "    },\n",
    "    'neurons' : {\n",
    "        dataset : get_fcs(\n",
    "            dataset,\n",
    "            model,\n",
    "            submodules,\n",
    "            neuron_dicts,\n",
    "            ablation_fn=ablation_fn,\n",
    "            thresholds = thresholds,\n",
    "            length=length,\n",
    "            use_neurons=True\n",
    "        ) for dataset, length in datasets.items()\n",
    "    },\n",
    "}"
   ]
  },
  {
   "cell_type": "code",
   "execution_count": 54,
   "metadata": {},
   "outputs": [
    {
     "data": {
      "application/vnd.plotly.v1+json": {
       "config": {
        "plotlyServerURL": "https://plot.ly"
       },
       "data": [
        {
         "line": {
          "color": "blue"
         },
         "mode": "lines",
         "opacity": 0.17,
         "showlegend": false,
         "type": "scatter",
         "x": [
          11022,
          6798,
          3832,
          2017,
          1006,
          560,
          311,
          198,
          128,
          84,
          51,
          32,
          12,
          4,
          0
         ],
         "y": [
          0.967289472850368,
          0.9600418750462087,
          0.9680901222816042,
          0.8940335568077399,
          0.8546626132774955,
          0.7748645257924144,
          0.7308991929308506,
          0.6641409311330918,
          0.5145597228530085,
          0.37452446226195885,
          0.180405375911633,
          0.04616229678868862,
          -0.15332016809759821,
          -0.12364093616654696,
          0
         ]
        },
        {
         "line": {
          "color": "blue"
         },
         "mode": "lines",
         "opacity": 0.17,
         "showlegend": false,
         "type": "scatter",
         "x": [
          13181,
          8678,
          5122,
          2668,
          1306,
          609,
          322,
          183,
          124,
          84,
          49,
          32,
          14,
          4,
          1
         ],
         "y": [
          1.024629677835563,
          1.0248252667866713,
          0.9393402521617638,
          0.9729260735549761,
          0.9088775324910005,
          0.7987459512595465,
          0.7838117017025248,
          0.7297579636116717,
          0.6203872734058873,
          0.5109271859347024,
          0.2190457512692838,
          0.1516687896183003,
          0.06674895323269188,
          0.003765573067393177,
          0.003765573067393177
         ]
        },
        {
         "line": {
          "color": "blue"
         },
         "mode": "lines",
         "opacity": 0.17,
         "showlegend": false,
         "type": "scatter",
         "x": [
          4384,
          3548,
          2633,
          1794,
          1121,
          656,
          382,
          246,
          145,
          92,
          60,
          34,
          21,
          9,
          4
         ],
         "y": [
          1.014349843411104,
          1.0168741391184846,
          1.0125017566640193,
          0.985162878429882,
          0.9643905703524894,
          0.9117758481330858,
          0.8872049328424385,
          0.8586623035477343,
          0.8322749495309623,
          0.6731044379658684,
          0.4966590343620746,
          0.33240541138782725,
          0.19390050845579546,
          0.01741907144023706,
          0
         ]
        },
        {
         "line": {
          "color": "blue"
         },
         "mode": "lines",
         "opacity": 0.17,
         "showlegend": false,
         "type": "scatter",
         "x": [
          6735,
          5113,
          3542,
          2292,
          1384,
          783,
          454,
          248,
          147,
          84,
          56,
          30,
          20,
          12,
          4
         ],
         "y": [
          1.0687686441862596,
          1.0759519842411136,
          1.0849024147665651,
          1.0764834289074663,
          1.0610077139492173,
          1.0423122245448513,
          1.0191891435925697,
          0.9330116215360736,
          0.847646916107388,
          0.694652165320488,
          0.567983784799937,
          0.41932272779126545,
          0.7034775273587316,
          0.7470631881859767,
          0
         ]
        },
        {
         "line": {
          "color": "blue"
         },
         "mode": "lines",
         "name": "features",
         "type": "scatter",
         "x": [
          5,
          5.354208469390869,
          5.733509540557861,
          6.139681339263916,
          6.574626445770264,
          7.040384292602539,
          7.53913688659668,
          8.073222160339355,
          8.645142555236816,
          9.25757884979248,
          9.91340160369873,
          10.615683555603027,
          11.367716789245605,
          12.17302417755127,
          13.035382270812988,
          13.958830833435059,
          14.947697639465332,
          16.006616592407227,
          17.140552520751953,
          18.35481834411621,
          19.655105590820312,
          21.04750633239746,
          22.538545608520508,
          24.135215759277344,
          25.844993591308594,
          27.6758975982666,
          29.636503219604492,
          31.736003875732422,
          33.98423385620117,
          36.3917350769043,
          38.96978759765625,
          41.730472564697266,
          44.686729431152344,
          47.852413177490234,
          51.24235916137695,
          54.87245178222656,
          58.75971221923828,
          62.92234802246094,
          67.37987518310547,
          72.1531753540039,
          77.2646255493164,
          82.7381820678711,
          88.59949493408203,
          94.87602996826172,
          101.59721374511719,
          108.79452514648438,
          116.50171661376953,
          124.75489044189453,
          133.59274291992188,
          143.05667114257812,
          153.19107055664062,
          164.0433807373047,
          175.66448974609375,
          188.10885620117188,
          201.434814453125,
          215.7047882080078,
          230.9856719970703,
          247.34909057617188,
          264.8717041015625,
          283.63568115234375,
          303.7289123535156,
          325.2455749511719,
          348.2865295410156,
          372.959716796875,
          399.38079833984375,
          427.6736145019531,
          457.9707336425781,
          490.4141540527344,
          525.1559448242188,
          562.3588256835938,
          602.197265625,
          644.8579711914062,
          690.540771484375,
          739.4598388671875,
          791.8444213867188,
          847.9400024414062,
          908.009521484375,
          972.33447265625,
          1041.21630859375,
          1114.977783203125,
          1193.9647216796875,
          1278.547119140625,
          1369.12158203125,
          1466.1124267578125,
          1569.9742431640625,
          1681.1939697265625,
          1800.29248046875,
          1927.8282470703125,
          2064.39892578125,
          2210.644287109375,
          2367.250244140625,
          2534.9501953125,
          2714.5302734375,
          2906.83203125,
          3112.757080078125,
          3333.27001953125,
          3569.404296875,
          3822.26708984375,
          4093.042724609375,
          4383.0009765625
         ],
         "y": [
          -0.005105054065677704,
          0.003701909767817445,
          0.01313277069985077,
          0.02323173967013398,
          0.03404612202847926,
          0.04562662579021162,
          0.05802750390789764,
          0.07130688623871256,
          0.08552699295203342,
          0.10147717841590276,
          0.11962348561032302,
          0.1390552969655206,
          0.15986370289045776,
          0.17846305379830305,
          0.18396727855790607,
          0.18986142912287512,
          0.1957986531809799,
          0.20213905503243929,
          0.2089286298526265,
          0.2161991893730066,
          0.22398481228921496,
          0.22625925418690052,
          0.22511511834863351,
          0.223889927590331,
          0.22257794465035918,
          0.22117301660833322,
          0.21966856317642025,
          0.2328713773440305,
          0.24851392633868363,
          0.26241264539512965,
          0.2772776678078469,
          0.29319574689242145,
          0.31024149139292,
          0.32849478897398016,
          0.350422708249322,
          0.37425158558823585,
          0.3989449006840008,
          0.4244400800898425,
          0.45147459865247297,
          0.480424253343192,
          0.5114247588268548,
          0.5446214079938959,
          0.5682132329225024,
          0.5881586122696028,
          0.6072313609297899,
          0.6276552201701928,
          0.649525969522064,
          0.6727794596241722,
          0.6944461180565143,
          0.7167391586269324,
          0.7325460887735634,
          0.7463748375143355,
          0.76118324179843,
          0.7751697507114806,
          0.7859427720040688,
          0.7933849661784809,
          0.8013543784751163,
          0.8098710312381259,
          0.8169839991327948,
          0.8245264923696747,
          0.8326033014614653,
          0.8395037952934743,
          0.844439243079048,
          0.8497243204368523,
          0.8548615207676667,
          0.8600717537267064,
          0.8653055789403568,
          0.868457141791886,
          0.8718319689773923,
          0.8754472540530753,
          0.8793405949274571,
          0.8844597387453952,
          0.8903372282334024,
          0.8967011139560943,
          0.903429207426848,
          0.9101772916818645,
          0.9174034255062935,
          0.9251414715706432,
          0.9321953260192218,
          0.9384873241263365,
          0.9437240945045813,
          0.9491991792467477,
          0.9533107850072345,
          0.9566093047225557,
          0.9600854796662859,
          0.963807918191844,
          0.9677967590553076,
          0.9721201179221557,
          0.9767717927607659,
          0.9817973935945722,
          0.9869850974961896,
          0.9923157817141994,
          0.9967511009037133,
          0.9986082604359909,
          1.0005969872771607,
          1.002726597074567,
          1.0048801666342335,
          1.0060433093632004,
          1.0044489643701215,
          1.0026282852861097
         ]
        },
        {
         "line": {
          "color": "red"
         },
         "mode": "lines",
         "opacity": 0.17,
         "showlegend": false,
         "type": "scatter",
         "x": [
          10979,
          6757,
          3792,
          1977,
          967,
          524,
          279,
          171,
          106,
          66,
          37,
          21,
          5,
          2,
          0
         ],
         "y": [
          0.4551040968034094,
          0.4098818029209223,
          0.3553438419224432,
          0.3461887090194235,
          0.285148761704021,
          0.2621574032388386,
          0.22001288151939713,
          0.21449318222625927,
          0.22228794135975244,
          0.19336706958512448,
          0.15671901900104565,
          0.07418329405312953,
          0,
          0,
          0
         ]
        },
        {
         "line": {
          "color": "red"
         },
         "mode": "lines",
         "opacity": 0.17,
         "showlegend": false,
         "type": "scatter",
         "x": [
          13142,
          8639,
          5083,
          2631,
          1270,
          573,
          287,
          151,
          96,
          59,
          33,
          22,
          8,
          2,
          0
         ],
         "y": [
          0.11811678114855804,
          0.12278329481479276,
          0.1155975473394381,
          0.06452197653904104,
          0.03928611182744323,
          0.02639282808079558,
          0.011830518286321942,
          -0.019412387676165335,
          -0.02886617502839089,
          -0.037150919176446855,
          -0.027776840454591875,
          -0.031088322146819898,
          -0.023033038842514755,
          0,
          0
         ]
        },
        {
         "line": {
          "color": "red"
         },
         "mode": "lines",
         "opacity": 0.17,
         "showlegend": false,
         "type": "scatter",
         "x": [
          4372,
          3536,
          2621,
          1782,
          1109,
          644,
          371,
          235,
          134,
          83,
          52,
          27,
          16,
          6,
          3
         ],
         "y": [
          0.2860285591501811,
          0.2879660994227013,
          0.257720938936386,
          0.22909040472937156,
          0.20470111360171508,
          0.12779512042633348,
          0.09942119141417488,
          0.09559802108500827,
          0.07691897512881918,
          0.0647805512605885,
          0.03966756418300129,
          0.025950567684792158,
          0.018157179171064772,
          0,
          0
         ]
        },
        {
         "line": {
          "color": "red"
         },
         "mode": "lines",
         "opacity": 0.17,
         "showlegend": false,
         "type": "scatter",
         "x": [
          6723,
          5101,
          3530,
          2281,
          1373,
          772,
          443,
          237,
          137,
          75,
          48,
          22,
          15,
          8,
          4
         ],
         "y": [
          0.5162687365736954,
          0.51907069486599,
          0.47163503267301754,
          0.46690974470539653,
          0.44771073574140513,
          0.43313669002328165,
          0.3826374925889209,
          0.22355675561032748,
          0.1691137795459037,
          0.13706663062217717,
          0.1221602150779509,
          0.1035025161517339,
          0.08047325514276671,
          0.020105562687687085,
          0
         ]
        },
        {
         "line": {
          "color": "red"
         },
         "mode": "lines",
         "name": "features_wo_errs",
         "type": "scatter",
         "x": [
          5,
          5.354060173034668,
          5.733191967010498,
          6.139171123504639,
          6.5738983154296875,
          7.039409160614014,
          7.53788423538208,
          8.071657180786133,
          8.643227577209473,
          9.255271911621094,
          9.910656929016113,
          10.61245059967041,
          11.36393928527832,
          12.1686429977417,
          13.030328750610352,
          13.953033447265625,
          14.941075325012207,
          15.999083518981934,
          17.13201141357422,
          18.345163345336914,
          19.644222259521484,
          21.035268783569336,
          22.524818420410156,
          24.11984634399414,
          25.827821731567383,
          27.656742095947266,
          29.61517333984375,
          31.712284088134766,
          33.95789337158203,
          36.36252212524414,
          38.93742752075195,
          41.694664001464844,
          44.64714813232422,
          47.8087043762207,
          51.19413375854492,
          54.81929397583008,
          58.7011604309082,
          62.857906341552734,
          67.30900573730469,
          72.07528686523438,
          77.17908477783203,
          82.64429473876953,
          88.49650573730469,
          94.76312255859375,
          101.4734878540039,
          108.6590347290039,
          116.35340118408203,
          124.59262084960938,
          133.415283203125,
          142.86268615722656,
          152.97909545898438,
          163.81185913085938,
          175.41171264648438,
          187.83297729492188,
          201.13380432128906,
          215.37649536132812,
          230.62774658203125,
          246.95895385742188,
          264.4466247558594,
          283.1726379394531,
          303.22467041015625,
          324.69659423828125,
          347.68902587890625,
          372.3096008300781,
          398.673583984375,
          426.90447998046875,
          457.13446044921875,
          489.50506591796875,
          524.1679077148438,
          561.2853393554688,
          601.0310668945312,
          643.59130859375,
          689.165283203125,
          737.9664916992188,
          790.223388671875,
          846.1807250976562,
          906.1004638671875,
          970.2633056640625,
          1038.9696044921875,
          1112.5411376953125,
          1191.3223876953125,
          1275.682373046875,
          1366.01611328125,
          1462.7464599609375,
          1566.326416015625,
          1677.2412109375,
          1796.010009765625,
          1923.189208984375,
          2059.3740234375,
          2205.20263671875,
          2361.357421875,
          2528.56982421875,
          2707.623046875,
          2899.35546875,
          3104.66455078125,
          3324.51220703125,
          3559.927734375,
          3812.013427734375,
          4081.94970703125,
          4371.0009765625
         ],
         "y": [
          -0.0016225321873339015,
          -0.0011070199785246288,
          -0.0005550034473595583,
          0.00009927676451396746,
          0.0009295757766731435,
          0.0018186694475667911,
          0.002770722527874808,
          0.003913102589113286,
          0.00598515280019371,
          0.008203928650454648,
          0.010579822629796586,
          0.01312395670761735,
          0.015848244563290547,
          0.01876544690214642,
          0.02188921985695507,
          0.02523419796189771,
          0.028816035639552325,
          0.031319221108376254,
          0.033602172350487736,
          0.03604651056491952,
          0.03866393981149861,
          0.04147131455159336,
          0.04444444739521933,
          0.04719013654535626,
          0.05013025403234259,
          0.053252328325865905,
          0.056545337566362916,
          0.060071529815383704,
          0.0636889832689053,
          0.06733453571064207,
          0.06935178480455853,
          0.07084721892265984,
          0.07244854892584411,
          0.07416327274677535,
          0.07586724923797328,
          0.07786766505049135,
          0.08006613121183118,
          0.08298396501553926,
          0.08597823097358687,
          0.08872970929069045,
          0.09165685333777845,
          0.09476371542428536,
          0.09730445852017136,
          0.09997064016603167,
          0.10275442860838363,
          0.10515776689914798,
          0.10670984657259913,
          0.10837183205803491,
          0.11015150748479816,
          0.11197998867369677,
          0.11398469146618515,
          0.11625734756799966,
          0.11887956629662971,
          0.12201657651484932,
          0.12537572161588653,
          0.12897273597731612,
          0.13282446382259622,
          0.1370472365163345,
          0.14177408274306413,
          0.14696177639452412,
          0.15226259890622657,
          0.1577555666270339,
          0.16363751208454302,
          0.1699607949164104,
          0.17720499804098316,
          0.18496218494963354,
          0.19108227161505636,
          0.1949696772936674,
          0.1991273167894228,
          0.20247014240828867,
          0.205822490287217,
          0.20931056055519054,
          0.21373953747516744,
          0.21848886764568348,
          0.22298569226503195,
          0.22662342801977248,
          0.230518755961726,
          0.2346968883779837,
          0.23931004809626638,
          0.24413554104015733,
          0.24688152387287424,
          0.24982202029786452,
          0.2529716655983955,
          0.2562746657229153,
          0.2598057500129931,
          0.2635868820466759,
          0.2676283523543986,
          0.2718966966712988,
          0.2753265803677032,
          0.2782014156133702,
          0.28093104706145816,
          0.283501693203247,
          0.2862750366170825,
          0.28928103646464814,
          0.29249989253111014,
          0.2959466858001485,
          0.2996235656857564,
          0.30307783969531443,
          0.30760608941313866,
          0.3124549979522243
         ]
        },
        {
         "line": {
          "color": "green"
         },
         "mode": "lines",
         "opacity": 0.17,
         "showlegend": false,
         "type": "scatter",
         "x": [
          10994,
          6772,
          3807,
          1992,
          982,
          539,
          293,
          183,
          116,
          75,
          44,
          27,
          11,
          4,
          0
         ],
         "y": [
          0.8464136879614276,
          0.79210600753599,
          0.7583244271432947,
          0.6278668002540162,
          0.5270081175603882,
          0.4273999596663463,
          0.38895426421117674,
          0.35281952290766694,
          0.3006030986940082,
          0.2022222580706915,
          0.09420885410340467,
          -0.01680203687014148,
          -0.15332016809759821,
          -0.12364093616654696,
          0
         ]
        },
        {
         "line": {
          "color": "green"
         },
         "mode": "lines",
         "opacity": 0.17,
         "showlegend": false,
         "type": "scatter",
         "x": [
          13155,
          8652,
          5096,
          2644,
          1283,
          586,
          299,
          163,
          108,
          69,
          41,
          28,
          14,
          4,
          1
         ],
         "y": [
          0.9215968527562983,
          0.9038970433630915,
          0.840688978119894,
          0.7387769918947978,
          0.6800277508925445,
          0.5889486846944518,
          0.47831478046458936,
          0.3557778308418428,
          0.2555300254256644,
          0.17011261306002792,
          0.13451477529741562,
          0.12123503560503347,
          0.06674895323269188,
          0.003765573067393177,
          0.003765573067393177
         ]
        },
        {
         "line": {
          "color": "green"
         },
         "mode": "lines",
         "opacity": 0.17,
         "showlegend": false,
         "type": "scatter",
         "x": [
          4376,
          3540,
          2625,
          1786,
          1113,
          648,
          375,
          239,
          138,
          87,
          56,
          31,
          20,
          9,
          4
         ],
         "y": [
          0.8056554724850146,
          0.8040494762043117,
          0.80471842076122,
          0.7920941828772937,
          0.7614395831589603,
          0.7353073842720268,
          0.6854245282319933,
          0.6372038127376041,
          0.5713723250959469,
          0.5235682710020598,
          0.38292835146743465,
          0.27670417650506746,
          0.18552759371484243,
          0.01741907144023706,
          0
         ]
        },
        {
         "line": {
          "color": "green"
         },
         "mode": "lines",
         "opacity": 0.17,
         "showlegend": false,
         "type": "scatter",
         "x": [
          6727,
          5105,
          3534,
          2285,
          1377,
          776,
          447,
          241,
          141,
          79,
          52,
          26,
          18,
          11,
          4
         ],
         "y": [
          1.0738821843281987,
          1.0687291184310526,
          1.086916300196504,
          1.0718716409133342,
          1.0114628546271645,
          0.9416165391184471,
          0.899225391602223,
          0.8120738649600967,
          0.7620255182131788,
          0.6641269065954989,
          0.586090308316958,
          0.44138455828361817,
          0.6910983179059704,
          0.6931006348221903,
          0
         ]
        },
        {
         "line": {
          "color": "green"
         },
         "mode": "lines",
         "name": "features_wo_some_errs",
         "type": "scatter",
         "x": [
          5,
          5.354109764099121,
          5.733298301696777,
          6.139341354370117,
          6.574141025543213,
          7.039734363555908,
          7.538301944732666,
          8.072178840637207,
          8.643866539001465,
          9.256041526794434,
          9.911572456359863,
          10.61352825164795,
          11.365199089050293,
          12.170104026794434,
          13.032014846801758,
          13.95496654510498,
          14.943284034729004,
          16.001596450805664,
          17.13486099243164,
          18.348384857177734,
          19.647851943969727,
          21.039350509643555,
          22.52939796447754,
          24.12497329711914,
          25.83354949951172,
          27.663131713867188,
          29.62228775024414,
          31.72019386291504,
          33.966678619384766,
          36.37226486206055,
          38.948219299316406,
          41.706607818603516,
          44.66034698486328,
          47.823280334472656,
          51.2102165222168,
          54.83702087402344,
          58.72068405151367,
          62.879398345947266,
          67.33263397216797,
          72.10126495361328,
          77.20761108398438,
          82.67560577392578,
          88.53085327148438,
          94.80077362060547,
          101.5147476196289,
          108.70421600341797,
          116.4028549194336,
          124.646728515625,
          133.47445678710938,
          142.9273681640625,
          153.04978942871094,
          163.88906860351562,
          175.49600219726562,
          187.92495727539062,
          201.2341766357422,
          215.4859619140625,
          230.74708557128906,
          247.0890350341797,
          264.5883483886719,
          283.3270263671875,
          303.3927917480469,
          324.879638671875,
          347.88824462890625,
          372.5263671875,
          398.9093933105469,
          427.1609191894531,
          457.41326904296875,
          489.80816650390625,
          524.497314453125,
          561.6431884765625,
          601.4198608398438,
          644.0135498046875,
          689.6238403320312,
          738.46435546875,
          790.7637939453125,
          846.7672119140625,
          906.7368774414062,
          970.9537353515625,
          1039.718505859375,
          1113.3533935546875,
          1192.2032470703125,
          1276.6373291015625,
          1367.05126953125,
          1463.868408203125,
          1567.54248046875,
          1678.558837890625,
          1797.4375,
          1924.735595703125,
          2061.049072265625,
          2207.016357421875,
          2363.321533203125,
          2530.696533203125,
          2709.92529296875,
          2901.847412109375,
          3107.36181640625,
          3327.43115234375,
          3563.086181640625,
          3815.430908203125,
          4085.64697265625,
          4375.00048828125
         ],
         "y": [
          -0.003829681166817731,
          0.005426450475710054,
          0.015338120181488193,
          0.02595174434302428,
          0.03731704234531101,
          0.04948726092003272,
          0.06251939849977188,
          0.07647449189282865,
          0.0914179278862854,
          0.10817491192492167,
          0.12724355560418238,
          0.14766264543692928,
          0.161627888659837,
          0.1676299176597798,
          0.17405702910420345,
          0.18093931122100582,
          0.18774151673660955,
          0.19499645839436128,
          0.20276521174866347,
          0.2083904317626128,
          0.20725100028811116,
          0.2042136157598925,
          0.20030179660891184,
          0.19611293529257537,
          0.19162741297733224,
          0.20178468516175999,
          0.2125108195824885,
          0.22301037934653367,
          0.23276357357514893,
          0.24320751261855098,
          0.2543911112956686,
          0.26641088756211495,
          0.2789163247161786,
          0.29043748931139424,
          0.30277459698307874,
          0.3140879240560276,
          0.3258325937525106,
          0.3384986554289006,
          0.3520617312037155,
          0.3672977869891685,
          0.3834243095061832,
          0.39864628011837444,
          0.41293957176433393,
          0.4240781903132792,
          0.43600567761112696,
          0.4487131883313292,
          0.4615194570436446,
          0.47206827904413995,
          0.4833641987496108,
          0.4945886833846058,
          0.5040893788572784,
          0.5140580430803311,
          0.5222776003889722,
          0.5305241731411668,
          0.5384490979181696,
          0.5469352700377116,
          0.5560224489113539,
          0.565034269849648,
          0.5738151382084091,
          0.5832178994032831,
          0.5922729780693478,
          0.5993603986782104,
          0.606949770381707,
          0.6150766369342776,
          0.6227518931711263,
          0.6308569314023487,
          0.6387700423563933,
          0.6456809823666023,
          0.6530813645030604,
          0.661393987450564,
          0.669579254882082,
          0.6766827284527244,
          0.6829726981708368,
          0.68957311336691,
          0.6965943523720808,
          0.7039859243176496,
          0.7119009786728038,
          0.7203765957436434,
          0.7276489208188297,
          0.7350657407802627,
          0.7427989219122904,
          0.7510797749633966,
          0.7581083379416822,
          0.7644065533502047,
          0.7710184967974565,
          0.7780987036510336,
          0.7855931209634303,
          0.7927409911788434,
          0.799912037678664,
          0.8070870588355812,
          0.813703418675017,
          0.8196509153550673,
          0.8256582116749145,
          0.8316440014323079,
          0.8380537160693984,
          0.8449173792202096,
          0.8521106760883539,
          0.8585305607354962,
          0.8614556820851642,
          0.8645879686421056
         ]
        },
        {
         "line": {
          "color": "purple"
         },
         "mode": "lines",
         "opacity": 0.17,
         "showlegend": false,
         "type": "scatter",
         "x": [
          18875,
          16299,
          13381,
          10143,
          6978,
          4166,
          2068,
          828,
          236,
          36,
          2,
          0,
          0,
          0,
          0
         ],
         "y": [
          1.0064599429897756,
          0.983841766920867,
          1.1129283193470363,
          1.1053804554480544,
          0.9925852380751193,
          0.7413896308198488,
          0.3834657146478516,
          0.14334994935028414,
          0.027468418348746648,
          -0.0014301409482240747,
          0,
          0,
          0,
          0,
          0
         ]
        },
        {
         "line": {
          "color": "purple"
         },
         "mode": "lines",
         "opacity": 0.17,
         "showlegend": false,
         "type": "scatter",
         "x": [
          17832,
          16251,
          13996,
          11344,
          8348,
          5249,
          2704,
          1011,
          278,
          41,
          2,
          0,
          0,
          0,
          0
         ],
         "y": [
          1.019587250070451,
          1.0738608157068414,
          1.0209809678654935,
          1.1147502180835365,
          1.1995096974794954,
          1.1285861531124188,
          0.6743873844585172,
          0.2607664343624302,
          0.05807316654272621,
          -0.0021183834077193554,
          0,
          0,
          0,
          0,
          0
         ]
        },
        {
         "line": {
          "color": "purple"
         },
         "mode": "lines",
         "opacity": 0.17,
         "showlegend": false,
         "type": "scatter",
         "x": [
          5955,
          5816,
          5560,
          5128,
          4489,
          3616,
          2626,
          1615,
          794,
          275,
          64,
          1,
          0,
          0,
          0
         ],
         "y": [
          0.991696268126644,
          0.9876438514527179,
          0.998287400351749,
          1.0219399940338185,
          1.032956900017813,
          1.0018770344428352,
          0.9043629214447155,
          0.6884010198321983,
          0.3796088627693478,
          0.10510708321496251,
          0.00662568746511414,
          0,
          0,
          0,
          0
         ]
        },
        {
         "line": {
          "color": "purple"
         },
         "mode": "lines",
         "opacity": 0.17,
         "showlegend": false,
         "type": "scatter",
         "x": [
          6022,
          5910,
          5698,
          5320,
          4772,
          3878,
          2762,
          1713,
          887,
          334,
          61,
          6,
          0,
          0,
          0
         ],
         "y": [
          1.0736913681213538,
          1.054444639038271,
          1.0711411535414916,
          1.1216650304717866,
          1.0991359284294617,
          1.0654187882303228,
          0.9832459642757869,
          0.6884378168286527,
          0.3476946201590992,
          0.1174217518585942,
          0.03349665557481856,
          0,
          0,
          0,
          0
         ]
        },
        {
         "line": {
          "color": "purple"
         },
         "mode": "lines",
         "name": "neurons",
         "type": "scatter",
         "x": [
          1,
          1.0917655229568481,
          1.1919519901275635,
          1.3013321161270142,
          1.420749545097351,
          1.551125407218933,
          1.693465232849121,
          1.8488670587539673,
          2.0185294151306152,
          2.203760862350464,
          2.4059901237487793,
          2.626776933670044,
          2.8678245544433594,
          3.1309921741485596,
          3.418309211730957,
          3.731992244720459,
          4.074460506439209,
          4.448355674743652,
          4.856561660766602,
          5.302226543426514,
          5.788788318634033,
          6.3199992179870605,
          6.899957656860352,
          7.533135890960693,
          8.224418640136719,
          8.97913646697998,
          9.803112030029297,
          10.702699661254883,
          11.68483829498291,
          12.75710391998291,
          13.927766799926758,
          15.205855369567871,
          16.601228713989258,
          18.124649047851562,
          19.78786849975586,
          21.60371208190918,
          23.58618927001953,
          25.75058937072754,
          28.113605499267578,
          30.693466186523438,
          33.510066986083984,
          36.58513641357422,
          39.94239044189453,
          43.60772705078125,
          47.609413146972656,
          51.97831726074219,
          56.74813461303711,
          61.955657958984375,
          67.64105224609375,
          73.84817504882812,
          80.62489318847656,
          88.02347564697266,
          96.10099792480469,
          104.91976165771484,
          114.54777526855469,
          125.05931854248047,
          136.5354461669922,
          149.064697265625,
          162.7436981201172,
          177.67796325683594,
          193.98268127441406,
          211.7836151123047,
          231.21804809570312,
          252.43589782714844,
          275.6007995605469,
          300.8914794921875,
          328.5029296875,
          358.648193359375,
          391.5597229003906,
          427.4914245605469,
          466.72039794921875,
          509.54925537109375,
          556.3082885742188,
          607.3582763671875,
          663.0928344726562,
          723.94189453125,
          790.3748168945312,
          862.9039916992188,
          942.0888061523438,
          1028.5401611328125,
          1122.9246826171875,
          1225.970458984375,
          1338.4722900390625,
          1461.2978515625,
          1595.3946533203125,
          1741.7969970703125,
          1901.6339111328125,
          2076.138427734375,
          2266.65625,
          2474.6572265625,
          2701.74560546875,
          2949.672607421875,
          3220.35107421875,
          3515.8681640625,
          3838.503662109375,
          4190.74609375,
          4575.31201171875,
          4995.16845703125,
          5453.552734375,
          5954.00048828125
         ],
         "y": [
          0,
          0.0000024127368062890183,
          0.000005046880535285359,
          0.000007922747716901095,
          0.00001106251978930157,
          0.000014490415485382583,
          0.00001823287262214635,
          0.00002231876123307329,
          0.00002633312502792778,
          0.000026740131769803485,
          0.000027184487596144175,
          0.000027669619691713938,
          0.000028199270613522014,
          0.000028777525532279246,
          0.00002940884366484772,
          0.000030098095469306257,
          0.00003085059669677087,
          0.00003167215187295023,
          0.00003256909777970098,
          0.00003354835165145063,
          0.000034617467753607004,
          0.0000845069798591948,
          0.00017408435198505064,
          0.0002718817776215977,
          0.00037865372525878777,
          0.0004952235259439823,
          0.0006224905173119725,
          0.0007614361565178833,
          0.000913132195364309,
          0.0010787487817786564,
          0.001259563297788427,
          0.0014569702285936155,
          0.0016724923573354013,
          0.0019077919598648402,
          0.002164684209005375,
          0.002445149989616997,
          0.0027513531326480442,
          0.003085655145094009,
          0.0034506343589439806,
          0.0038491062585237954,
          0.0042841438078391894,
          0.004786393223600534,
          0.005461516040020425,
          0.006399576583011129,
          0.007512710922952347,
          0.008727992951589186,
          0.010054795544911094,
          0.011431293691824001,
          0.012913203870311855,
          0.014732852938383811,
          0.016719481725873793,
          0.01888841314603601,
          0.021256379167058283,
          0.023841643824794333,
          0.02666414412825717,
          0.029745655567658864,
          0.033109939729689356,
          0.03678295230086377,
          0.04079301975853791,
          0.04517107421339718,
          0.04995088377875527,
          0.05516931648877981,
          0.060866617636288825,
          0.06729733371869864,
          0.07439439602045461,
          0.08265468020118176,
          0.09168772838453279,
          0.10222130381045086,
          0.11388501189726806,
          0.12661905632095166,
          0.14052164002131615,
          0.15570000753043217,
          0.17227121285905006,
          0.19036311450436005,
          0.21011520822822646,
          0.23167986000158627,
          0.25522340916522657,
          0.2782771579320022,
          0.30322014861683794,
          0.3302852745070951,
          0.3592281306708968,
          0.39082694620524816,
          0.42532544514523773,
          0.46298969882267504,
          0.5041102595275859,
          0.5429064179124273,
          0.5801725409328617,
          0.6208115529946114,
          0.6641336082065447,
          0.7114311769254084,
          0.7608892236853568,
          0.796355512149962,
          0.8316249302447956,
          0.870130822195518,
          0.9086714917732576,
          0.94571888091747,
          0.977373774185131,
          1.0078213901766184,
          1.0244009642618963,
          1.024876328018238
         ]
        }
       ],
       "layout": {
        "height": 375,
        "plot_bgcolor": "rgba(0,0,0,0)",
        "template": {
         "data": {
          "bar": [
           {
            "error_x": {
             "color": "#2a3f5f"
            },
            "error_y": {
             "color": "#2a3f5f"
            },
            "marker": {
             "line": {
              "color": "#E5ECF6",
              "width": 0.5
             },
             "pattern": {
              "fillmode": "overlay",
              "size": 10,
              "solidity": 0.2
             }
            },
            "type": "bar"
           }
          ],
          "barpolar": [
           {
            "marker": {
             "line": {
              "color": "#E5ECF6",
              "width": 0.5
             },
             "pattern": {
              "fillmode": "overlay",
              "size": 10,
              "solidity": 0.2
             }
            },
            "type": "barpolar"
           }
          ],
          "carpet": [
           {
            "aaxis": {
             "endlinecolor": "#2a3f5f",
             "gridcolor": "white",
             "linecolor": "white",
             "minorgridcolor": "white",
             "startlinecolor": "#2a3f5f"
            },
            "baxis": {
             "endlinecolor": "#2a3f5f",
             "gridcolor": "white",
             "linecolor": "white",
             "minorgridcolor": "white",
             "startlinecolor": "#2a3f5f"
            },
            "type": "carpet"
           }
          ],
          "choropleth": [
           {
            "colorbar": {
             "outlinewidth": 0,
             "ticks": ""
            },
            "type": "choropleth"
           }
          ],
          "contour": [
           {
            "colorbar": {
             "outlinewidth": 0,
             "ticks": ""
            },
            "colorscale": [
             [
              0,
              "#0d0887"
             ],
             [
              0.1111111111111111,
              "#46039f"
             ],
             [
              0.2222222222222222,
              "#7201a8"
             ],
             [
              0.3333333333333333,
              "#9c179e"
             ],
             [
              0.4444444444444444,
              "#bd3786"
             ],
             [
              0.5555555555555556,
              "#d8576b"
             ],
             [
              0.6666666666666666,
              "#ed7953"
             ],
             [
              0.7777777777777778,
              "#fb9f3a"
             ],
             [
              0.8888888888888888,
              "#fdca26"
             ],
             [
              1,
              "#f0f921"
             ]
            ],
            "type": "contour"
           }
          ],
          "contourcarpet": [
           {
            "colorbar": {
             "outlinewidth": 0,
             "ticks": ""
            },
            "type": "contourcarpet"
           }
          ],
          "heatmap": [
           {
            "colorbar": {
             "outlinewidth": 0,
             "ticks": ""
            },
            "colorscale": [
             [
              0,
              "#0d0887"
             ],
             [
              0.1111111111111111,
              "#46039f"
             ],
             [
              0.2222222222222222,
              "#7201a8"
             ],
             [
              0.3333333333333333,
              "#9c179e"
             ],
             [
              0.4444444444444444,
              "#bd3786"
             ],
             [
              0.5555555555555556,
              "#d8576b"
             ],
             [
              0.6666666666666666,
              "#ed7953"
             ],
             [
              0.7777777777777778,
              "#fb9f3a"
             ],
             [
              0.8888888888888888,
              "#fdca26"
             ],
             [
              1,
              "#f0f921"
             ]
            ],
            "type": "heatmap"
           }
          ],
          "heatmapgl": [
           {
            "colorbar": {
             "outlinewidth": 0,
             "ticks": ""
            },
            "colorscale": [
             [
              0,
              "#0d0887"
             ],
             [
              0.1111111111111111,
              "#46039f"
             ],
             [
              0.2222222222222222,
              "#7201a8"
             ],
             [
              0.3333333333333333,
              "#9c179e"
             ],
             [
              0.4444444444444444,
              "#bd3786"
             ],
             [
              0.5555555555555556,
              "#d8576b"
             ],
             [
              0.6666666666666666,
              "#ed7953"
             ],
             [
              0.7777777777777778,
              "#fb9f3a"
             ],
             [
              0.8888888888888888,
              "#fdca26"
             ],
             [
              1,
              "#f0f921"
             ]
            ],
            "type": "heatmapgl"
           }
          ],
          "histogram": [
           {
            "marker": {
             "pattern": {
              "fillmode": "overlay",
              "size": 10,
              "solidity": 0.2
             }
            },
            "type": "histogram"
           }
          ],
          "histogram2d": [
           {
            "colorbar": {
             "outlinewidth": 0,
             "ticks": ""
            },
            "colorscale": [
             [
              0,
              "#0d0887"
             ],
             [
              0.1111111111111111,
              "#46039f"
             ],
             [
              0.2222222222222222,
              "#7201a8"
             ],
             [
              0.3333333333333333,
              "#9c179e"
             ],
             [
              0.4444444444444444,
              "#bd3786"
             ],
             [
              0.5555555555555556,
              "#d8576b"
             ],
             [
              0.6666666666666666,
              "#ed7953"
             ],
             [
              0.7777777777777778,
              "#fb9f3a"
             ],
             [
              0.8888888888888888,
              "#fdca26"
             ],
             [
              1,
              "#f0f921"
             ]
            ],
            "type": "histogram2d"
           }
          ],
          "histogram2dcontour": [
           {
            "colorbar": {
             "outlinewidth": 0,
             "ticks": ""
            },
            "colorscale": [
             [
              0,
              "#0d0887"
             ],
             [
              0.1111111111111111,
              "#46039f"
             ],
             [
              0.2222222222222222,
              "#7201a8"
             ],
             [
              0.3333333333333333,
              "#9c179e"
             ],
             [
              0.4444444444444444,
              "#bd3786"
             ],
             [
              0.5555555555555556,
              "#d8576b"
             ],
             [
              0.6666666666666666,
              "#ed7953"
             ],
             [
              0.7777777777777778,
              "#fb9f3a"
             ],
             [
              0.8888888888888888,
              "#fdca26"
             ],
             [
              1,
              "#f0f921"
             ]
            ],
            "type": "histogram2dcontour"
           }
          ],
          "mesh3d": [
           {
            "colorbar": {
             "outlinewidth": 0,
             "ticks": ""
            },
            "type": "mesh3d"
           }
          ],
          "parcoords": [
           {
            "line": {
             "colorbar": {
              "outlinewidth": 0,
              "ticks": ""
             }
            },
            "type": "parcoords"
           }
          ],
          "pie": [
           {
            "automargin": true,
            "type": "pie"
           }
          ],
          "scatter": [
           {
            "fillpattern": {
             "fillmode": "overlay",
             "size": 10,
             "solidity": 0.2
            },
            "type": "scatter"
           }
          ],
          "scatter3d": [
           {
            "line": {
             "colorbar": {
              "outlinewidth": 0,
              "ticks": ""
             }
            },
            "marker": {
             "colorbar": {
              "outlinewidth": 0,
              "ticks": ""
             }
            },
            "type": "scatter3d"
           }
          ],
          "scattercarpet": [
           {
            "marker": {
             "colorbar": {
              "outlinewidth": 0,
              "ticks": ""
             }
            },
            "type": "scattercarpet"
           }
          ],
          "scattergeo": [
           {
            "marker": {
             "colorbar": {
              "outlinewidth": 0,
              "ticks": ""
             }
            },
            "type": "scattergeo"
           }
          ],
          "scattergl": [
           {
            "marker": {
             "colorbar": {
              "outlinewidth": 0,
              "ticks": ""
             }
            },
            "type": "scattergl"
           }
          ],
          "scattermapbox": [
           {
            "marker": {
             "colorbar": {
              "outlinewidth": 0,
              "ticks": ""
             }
            },
            "type": "scattermapbox"
           }
          ],
          "scatterpolar": [
           {
            "marker": {
             "colorbar": {
              "outlinewidth": 0,
              "ticks": ""
             }
            },
            "type": "scatterpolar"
           }
          ],
          "scatterpolargl": [
           {
            "marker": {
             "colorbar": {
              "outlinewidth": 0,
              "ticks": ""
             }
            },
            "type": "scatterpolargl"
           }
          ],
          "scatterternary": [
           {
            "marker": {
             "colorbar": {
              "outlinewidth": 0,
              "ticks": ""
             }
            },
            "type": "scatterternary"
           }
          ],
          "surface": [
           {
            "colorbar": {
             "outlinewidth": 0,
             "ticks": ""
            },
            "colorscale": [
             [
              0,
              "#0d0887"
             ],
             [
              0.1111111111111111,
              "#46039f"
             ],
             [
              0.2222222222222222,
              "#7201a8"
             ],
             [
              0.3333333333333333,
              "#9c179e"
             ],
             [
              0.4444444444444444,
              "#bd3786"
             ],
             [
              0.5555555555555556,
              "#d8576b"
             ],
             [
              0.6666666666666666,
              "#ed7953"
             ],
             [
              0.7777777777777778,
              "#fb9f3a"
             ],
             [
              0.8888888888888888,
              "#fdca26"
             ],
             [
              1,
              "#f0f921"
             ]
            ],
            "type": "surface"
           }
          ],
          "table": [
           {
            "cells": {
             "fill": {
              "color": "#EBF0F8"
             },
             "line": {
              "color": "white"
             }
            },
            "header": {
             "fill": {
              "color": "#C8D4E3"
             },
             "line": {
              "color": "white"
             }
            },
            "type": "table"
           }
          ]
         },
         "layout": {
          "annotationdefaults": {
           "arrowcolor": "#2a3f5f",
           "arrowhead": 0,
           "arrowwidth": 1
          },
          "autotypenumbers": "strict",
          "coloraxis": {
           "colorbar": {
            "outlinewidth": 0,
            "ticks": ""
           }
          },
          "colorscale": {
           "diverging": [
            [
             0,
             "#8e0152"
            ],
            [
             0.1,
             "#c51b7d"
            ],
            [
             0.2,
             "#de77ae"
            ],
            [
             0.3,
             "#f1b6da"
            ],
            [
             0.4,
             "#fde0ef"
            ],
            [
             0.5,
             "#f7f7f7"
            ],
            [
             0.6,
             "#e6f5d0"
            ],
            [
             0.7,
             "#b8e186"
            ],
            [
             0.8,
             "#7fbc41"
            ],
            [
             0.9,
             "#4d9221"
            ],
            [
             1,
             "#276419"
            ]
           ],
           "sequential": [
            [
             0,
             "#0d0887"
            ],
            [
             0.1111111111111111,
             "#46039f"
            ],
            [
             0.2222222222222222,
             "#7201a8"
            ],
            [
             0.3333333333333333,
             "#9c179e"
            ],
            [
             0.4444444444444444,
             "#bd3786"
            ],
            [
             0.5555555555555556,
             "#d8576b"
            ],
            [
             0.6666666666666666,
             "#ed7953"
            ],
            [
             0.7777777777777778,
             "#fb9f3a"
            ],
            [
             0.8888888888888888,
             "#fdca26"
            ],
            [
             1,
             "#f0f921"
            ]
           ],
           "sequentialminus": [
            [
             0,
             "#0d0887"
            ],
            [
             0.1111111111111111,
             "#46039f"
            ],
            [
             0.2222222222222222,
             "#7201a8"
            ],
            [
             0.3333333333333333,
             "#9c179e"
            ],
            [
             0.4444444444444444,
             "#bd3786"
            ],
            [
             0.5555555555555556,
             "#d8576b"
            ],
            [
             0.6666666666666666,
             "#ed7953"
            ],
            [
             0.7777777777777778,
             "#fb9f3a"
            ],
            [
             0.8888888888888888,
             "#fdca26"
            ],
            [
             1,
             "#f0f921"
            ]
           ]
          },
          "colorway": [
           "#636efa",
           "#EF553B",
           "#00cc96",
           "#ab63fa",
           "#FFA15A",
           "#19d3f3",
           "#FF6692",
           "#B6E880",
           "#FF97FF",
           "#FECB52"
          ],
          "font": {
           "color": "#2a3f5f"
          },
          "geo": {
           "bgcolor": "white",
           "lakecolor": "white",
           "landcolor": "#E5ECF6",
           "showlakes": true,
           "showland": true,
           "subunitcolor": "white"
          },
          "hoverlabel": {
           "align": "left"
          },
          "hovermode": "closest",
          "mapbox": {
           "style": "light"
          },
          "paper_bgcolor": "white",
          "plot_bgcolor": "#E5ECF6",
          "polar": {
           "angularaxis": {
            "gridcolor": "white",
            "linecolor": "white",
            "ticks": ""
           },
           "bgcolor": "#E5ECF6",
           "radialaxis": {
            "gridcolor": "white",
            "linecolor": "white",
            "ticks": ""
           }
          },
          "scene": {
           "xaxis": {
            "backgroundcolor": "#E5ECF6",
            "gridcolor": "white",
            "gridwidth": 2,
            "linecolor": "white",
            "showbackground": true,
            "ticks": "",
            "zerolinecolor": "white"
           },
           "yaxis": {
            "backgroundcolor": "#E5ECF6",
            "gridcolor": "white",
            "gridwidth": 2,
            "linecolor": "white",
            "showbackground": true,
            "ticks": "",
            "zerolinecolor": "white"
           },
           "zaxis": {
            "backgroundcolor": "#E5ECF6",
            "gridcolor": "white",
            "gridwidth": 2,
            "linecolor": "white",
            "showbackground": true,
            "ticks": "",
            "zerolinecolor": "white"
           }
          },
          "shapedefaults": {
           "line": {
            "color": "#2a3f5f"
           }
          },
          "ternary": {
           "aaxis": {
            "gridcolor": "white",
            "linecolor": "white",
            "ticks": ""
           },
           "baxis": {
            "gridcolor": "white",
            "linecolor": "white",
            "ticks": ""
           },
           "bgcolor": "#E5ECF6",
           "caxis": {
            "gridcolor": "white",
            "linecolor": "white",
            "ticks": ""
           }
          },
          "title": {
           "x": 0.05
          },
          "xaxis": {
           "automargin": true,
           "gridcolor": "white",
           "linecolor": "white",
           "ticks": "",
           "title": {
            "standoff": 15
           },
           "zerolinecolor": "white",
           "zerolinewidth": 2
          },
          "yaxis": {
           "automargin": true,
           "gridcolor": "white",
           "linecolor": "white",
           "ticks": "",
           "title": {
            "standoff": 15
           },
           "zerolinecolor": "white",
           "zerolinewidth": 2
          }
         }
        },
        "width": 800,
        "xaxis": {
         "gridcolor": "rgb(200,200,200)",
         "mirror": true,
         "range": [
          0,
          1700
         ],
         "showline": true,
         "ticks": "outside",
         "title": {
          "text": "Nodes"
         }
        },
        "yaxis": {
         "gridcolor": "rgb(200,200,200)",
         "mirror": true,
         "range": [
          0,
          1.1
         ],
         "showline": true,
         "ticks": "outside",
         "title": {
          "text": "Faithfulness"
         }
        }
       }
      },
      "text/html": [
       "<div>                            <div id=\"6390f82a-15af-4311-b791-c2b1e3f0c57c\" class=\"plotly-graph-div\" style=\"height:375px; width:800px;\"></div>            <script type=\"text/javascript\">                require([\"plotly\"], function(Plotly) {                    window.PLOTLYENV=window.PLOTLYENV || {};                                    if (document.getElementById(\"6390f82a-15af-4311-b791-c2b1e3f0c57c\")) {                    Plotly.newPlot(                        \"6390f82a-15af-4311-b791-c2b1e3f0c57c\",                        [{\"line\":{\"color\":\"blue\"},\"mode\":\"lines\",\"opacity\":0.17,\"showlegend\":false,\"x\":[11022,6798,3832,2017,1006,560,311,198,128,84,51,32,12,4,0],\"y\":[0.967289472850368,0.9600418750462087,0.9680901222816042,0.8940335568077399,0.8546626132774955,0.7748645257924144,0.7308991929308506,0.6641409311330918,0.5145597228530085,0.37452446226195885,0.180405375911633,0.04616229678868862,-0.15332016809759821,-0.12364093616654696,0.0],\"type\":\"scatter\"},{\"line\":{\"color\":\"blue\"},\"mode\":\"lines\",\"opacity\":0.17,\"showlegend\":false,\"x\":[13181,8678,5122,2668,1306,609,322,183,124,84,49,32,14,4,1],\"y\":[1.024629677835563,1.0248252667866713,0.9393402521617638,0.9729260735549761,0.9088775324910005,0.7987459512595465,0.7838117017025248,0.7297579636116717,0.6203872734058873,0.5109271859347024,0.2190457512692838,0.1516687896183003,0.06674895323269188,0.003765573067393177,0.003765573067393177],\"type\":\"scatter\"},{\"line\":{\"color\":\"blue\"},\"mode\":\"lines\",\"opacity\":0.17,\"showlegend\":false,\"x\":[4384,3548,2633,1794,1121,656,382,246,145,92,60,34,21,9,4],\"y\":[1.014349843411104,1.0168741391184846,1.0125017566640193,0.985162878429882,0.9643905703524894,0.9117758481330858,0.8872049328424385,0.8586623035477343,0.8322749495309623,0.6731044379658684,0.4966590343620746,0.33240541138782725,0.19390050845579546,0.01741907144023706,0.0],\"type\":\"scatter\"},{\"line\":{\"color\":\"blue\"},\"mode\":\"lines\",\"opacity\":0.17,\"showlegend\":false,\"x\":[6735,5113,3542,2292,1384,783,454,248,147,84,56,30,20,12,4],\"y\":[1.0687686441862596,1.0759519842411136,1.0849024147665651,1.0764834289074663,1.0610077139492173,1.0423122245448513,1.0191891435925697,0.9330116215360736,0.847646916107388,0.694652165320488,0.567983784799937,0.41932272779126545,0.7034775273587316,0.7470631881859767,0.0],\"type\":\"scatter\"},{\"line\":{\"color\":\"blue\"},\"mode\":\"lines\",\"name\":\"features\",\"x\":[5.0,5.354208469390869,5.733509540557861,6.139681339263916,6.574626445770264,7.040384292602539,7.53913688659668,8.073222160339355,8.645142555236816,9.25757884979248,9.91340160369873,10.615683555603027,11.367716789245605,12.17302417755127,13.035382270812988,13.958830833435059,14.947697639465332,16.006616592407227,17.140552520751953,18.35481834411621,19.655105590820312,21.04750633239746,22.538545608520508,24.135215759277344,25.844993591308594,27.6758975982666,29.636503219604492,31.736003875732422,33.98423385620117,36.3917350769043,38.96978759765625,41.730472564697266,44.686729431152344,47.852413177490234,51.24235916137695,54.87245178222656,58.75971221923828,62.92234802246094,67.37987518310547,72.1531753540039,77.2646255493164,82.7381820678711,88.59949493408203,94.87602996826172,101.59721374511719,108.79452514648438,116.50171661376953,124.75489044189453,133.59274291992188,143.05667114257812,153.19107055664062,164.0433807373047,175.66448974609375,188.10885620117188,201.434814453125,215.7047882080078,230.9856719970703,247.34909057617188,264.8717041015625,283.63568115234375,303.7289123535156,325.2455749511719,348.2865295410156,372.959716796875,399.38079833984375,427.6736145019531,457.9707336425781,490.4141540527344,525.1559448242188,562.3588256835938,602.197265625,644.8579711914062,690.540771484375,739.4598388671875,791.8444213867188,847.9400024414062,908.009521484375,972.33447265625,1041.21630859375,1114.977783203125,1193.9647216796875,1278.547119140625,1369.12158203125,1466.1124267578125,1569.9742431640625,1681.1939697265625,1800.29248046875,1927.8282470703125,2064.39892578125,2210.644287109375,2367.250244140625,2534.9501953125,2714.5302734375,2906.83203125,3112.757080078125,3333.27001953125,3569.404296875,3822.26708984375,4093.042724609375,4383.0009765625],\"y\":[-0.005105054065677704,0.003701909767817445,0.01313277069985077,0.02323173967013398,0.03404612202847926,0.04562662579021162,0.05802750390789764,0.07130688623871256,0.08552699295203342,0.10147717841590276,0.11962348561032302,0.1390552969655206,0.15986370289045776,0.17846305379830305,0.18396727855790607,0.18986142912287512,0.1957986531809799,0.20213905503243929,0.2089286298526265,0.2161991893730066,0.22398481228921496,0.22625925418690052,0.22511511834863351,0.223889927590331,0.22257794465035918,0.22117301660833322,0.21966856317642025,0.2328713773440305,0.24851392633868363,0.26241264539512965,0.2772776678078469,0.29319574689242145,0.31024149139292,0.32849478897398016,0.350422708249322,0.37425158558823585,0.3989449006840008,0.4244400800898425,0.45147459865247297,0.480424253343192,0.5114247588268548,0.5446214079938959,0.5682132329225024,0.5881586122696028,0.6072313609297899,0.6276552201701928,0.649525969522064,0.6727794596241722,0.6944461180565143,0.7167391586269324,0.7325460887735634,0.7463748375143355,0.76118324179843,0.7751697507114806,0.7859427720040688,0.7933849661784809,0.8013543784751163,0.8098710312381259,0.8169839991327948,0.8245264923696747,0.8326033014614653,0.8395037952934743,0.844439243079048,0.8497243204368523,0.8548615207676667,0.8600717537267064,0.8653055789403568,0.868457141791886,0.8718319689773923,0.8754472540530753,0.8793405949274571,0.8844597387453952,0.8903372282334024,0.8967011139560943,0.903429207426848,0.9101772916818645,0.9174034255062935,0.9251414715706432,0.9321953260192218,0.9384873241263365,0.9437240945045813,0.9491991792467477,0.9533107850072345,0.9566093047225557,0.9600854796662859,0.963807918191844,0.9677967590553076,0.9721201179221557,0.9767717927607659,0.9817973935945722,0.9869850974961896,0.9923157817141994,0.9967511009037133,0.9986082604359909,1.0005969872771607,1.002726597074567,1.0048801666342335,1.0060433093632004,1.0044489643701215,1.0026282852861097],\"type\":\"scatter\"},{\"line\":{\"color\":\"red\"},\"mode\":\"lines\",\"opacity\":0.17,\"showlegend\":false,\"x\":[10979,6757,3792,1977,967,524,279,171,106,66,37,21,5,2,0],\"y\":[0.4551040968034094,0.4098818029209223,0.3553438419224432,0.3461887090194235,0.285148761704021,0.2621574032388386,0.22001288151939713,0.21449318222625927,0.22228794135975244,0.19336706958512448,0.15671901900104565,0.07418329405312953,0.0,0.0,0.0],\"type\":\"scatter\"},{\"line\":{\"color\":\"red\"},\"mode\":\"lines\",\"opacity\":0.17,\"showlegend\":false,\"x\":[13142,8639,5083,2631,1270,573,287,151,96,59,33,22,8,2,0],\"y\":[0.11811678114855804,0.12278329481479276,0.1155975473394381,0.06452197653904104,0.03928611182744323,0.02639282808079558,0.011830518286321942,-0.019412387676165335,-0.02886617502839089,-0.037150919176446855,-0.027776840454591875,-0.031088322146819898,-0.023033038842514755,0.0,0.0],\"type\":\"scatter\"},{\"line\":{\"color\":\"red\"},\"mode\":\"lines\",\"opacity\":0.17,\"showlegend\":false,\"x\":[4372,3536,2621,1782,1109,644,371,235,134,83,52,27,16,6,3],\"y\":[0.2860285591501811,0.2879660994227013,0.257720938936386,0.22909040472937156,0.20470111360171508,0.12779512042633348,0.09942119141417488,0.09559802108500827,0.07691897512881918,0.0647805512605885,0.03966756418300129,0.025950567684792158,0.018157179171064772,0.0,0.0],\"type\":\"scatter\"},{\"line\":{\"color\":\"red\"},\"mode\":\"lines\",\"opacity\":0.17,\"showlegend\":false,\"x\":[6723,5101,3530,2281,1373,772,443,237,137,75,48,22,15,8,4],\"y\":[0.5162687365736954,0.51907069486599,0.47163503267301754,0.46690974470539653,0.44771073574140513,0.43313669002328165,0.3826374925889209,0.22355675561032748,0.1691137795459037,0.13706663062217717,0.1221602150779509,0.1035025161517339,0.08047325514276671,0.020105562687687085,0.0],\"type\":\"scatter\"},{\"line\":{\"color\":\"red\"},\"mode\":\"lines\",\"name\":\"features_wo_errs\",\"x\":[5.0,5.354060173034668,5.733191967010498,6.139171123504639,6.5738983154296875,7.039409160614014,7.53788423538208,8.071657180786133,8.643227577209473,9.255271911621094,9.910656929016113,10.61245059967041,11.36393928527832,12.1686429977417,13.030328750610352,13.953033447265625,14.941075325012207,15.999083518981934,17.13201141357422,18.345163345336914,19.644222259521484,21.035268783569336,22.524818420410156,24.11984634399414,25.827821731567383,27.656742095947266,29.61517333984375,31.712284088134766,33.95789337158203,36.36252212524414,38.93742752075195,41.694664001464844,44.64714813232422,47.8087043762207,51.19413375854492,54.81929397583008,58.7011604309082,62.857906341552734,67.30900573730469,72.07528686523438,77.17908477783203,82.64429473876953,88.49650573730469,94.76312255859375,101.4734878540039,108.6590347290039,116.35340118408203,124.59262084960938,133.415283203125,142.86268615722656,152.97909545898438,163.81185913085938,175.41171264648438,187.83297729492188,201.13380432128906,215.37649536132812,230.62774658203125,246.95895385742188,264.4466247558594,283.1726379394531,303.22467041015625,324.69659423828125,347.68902587890625,372.3096008300781,398.673583984375,426.90447998046875,457.13446044921875,489.50506591796875,524.1679077148438,561.2853393554688,601.0310668945312,643.59130859375,689.165283203125,737.9664916992188,790.223388671875,846.1807250976562,906.1004638671875,970.2633056640625,1038.9696044921875,1112.5411376953125,1191.3223876953125,1275.682373046875,1366.01611328125,1462.7464599609375,1566.326416015625,1677.2412109375,1796.010009765625,1923.189208984375,2059.3740234375,2205.20263671875,2361.357421875,2528.56982421875,2707.623046875,2899.35546875,3104.66455078125,3324.51220703125,3559.927734375,3812.013427734375,4081.94970703125,4371.0009765625],\"y\":[-0.0016225321873339015,-0.0011070199785246288,-0.0005550034473595583,9.927676451396746e-05,0.0009295757766731435,0.0018186694475667911,0.002770722527874808,0.003913102589113286,0.00598515280019371,0.008203928650454648,0.010579822629796586,0.01312395670761735,0.015848244563290547,0.01876544690214642,0.02188921985695507,0.02523419796189771,0.028816035639552325,0.031319221108376254,0.033602172350487736,0.03604651056491952,0.03866393981149861,0.04147131455159336,0.04444444739521933,0.04719013654535626,0.05013025403234259,0.053252328325865905,0.056545337566362916,0.060071529815383704,0.0636889832689053,0.06733453571064207,0.06935178480455853,0.07084721892265984,0.07244854892584411,0.07416327274677535,0.07586724923797328,0.07786766505049135,0.08006613121183118,0.08298396501553926,0.08597823097358687,0.08872970929069045,0.09165685333777845,0.09476371542428536,0.09730445852017136,0.09997064016603167,0.10275442860838363,0.10515776689914798,0.10670984657259913,0.10837183205803491,0.11015150748479816,0.11197998867369677,0.11398469146618515,0.11625734756799966,0.11887956629662971,0.12201657651484932,0.12537572161588653,0.12897273597731612,0.13282446382259622,0.1370472365163345,0.14177408274306413,0.14696177639452412,0.15226259890622657,0.1577555666270339,0.16363751208454302,0.1699607949164104,0.17720499804098316,0.18496218494963354,0.19108227161505636,0.1949696772936674,0.1991273167894228,0.20247014240828867,0.205822490287217,0.20931056055519054,0.21373953747516744,0.21848886764568348,0.22298569226503195,0.22662342801977248,0.230518755961726,0.2346968883779837,0.23931004809626638,0.24413554104015733,0.24688152387287424,0.24982202029786452,0.2529716655983955,0.2562746657229153,0.2598057500129931,0.2635868820466759,0.2676283523543986,0.2718966966712988,0.2753265803677032,0.2782014156133702,0.28093104706145816,0.283501693203247,0.2862750366170825,0.28928103646464814,0.29249989253111014,0.2959466858001485,0.2996235656857564,0.30307783969531443,0.30760608941313866,0.3124549979522243],\"type\":\"scatter\"},{\"line\":{\"color\":\"green\"},\"mode\":\"lines\",\"opacity\":0.17,\"showlegend\":false,\"x\":[10994,6772,3807,1992,982,539,293,183,116,75,44,27,11,4,0],\"y\":[0.8464136879614276,0.79210600753599,0.7583244271432947,0.6278668002540162,0.5270081175603882,0.4273999596663463,0.38895426421117674,0.35281952290766694,0.3006030986940082,0.2022222580706915,0.09420885410340467,-0.01680203687014148,-0.15332016809759821,-0.12364093616654696,0.0],\"type\":\"scatter\"},{\"line\":{\"color\":\"green\"},\"mode\":\"lines\",\"opacity\":0.17,\"showlegend\":false,\"x\":[13155,8652,5096,2644,1283,586,299,163,108,69,41,28,14,4,1],\"y\":[0.9215968527562983,0.9038970433630915,0.840688978119894,0.7387769918947978,0.6800277508925445,0.5889486846944518,0.47831478046458936,0.3557778308418428,0.2555300254256644,0.17011261306002792,0.13451477529741562,0.12123503560503347,0.06674895323269188,0.003765573067393177,0.003765573067393177],\"type\":\"scatter\"},{\"line\":{\"color\":\"green\"},\"mode\":\"lines\",\"opacity\":0.17,\"showlegend\":false,\"x\":[4376,3540,2625,1786,1113,648,375,239,138,87,56,31,20,9,4],\"y\":[0.8056554724850146,0.8040494762043117,0.80471842076122,0.7920941828772937,0.7614395831589603,0.7353073842720268,0.6854245282319933,0.6372038127376041,0.5713723250959469,0.5235682710020598,0.38292835146743465,0.27670417650506746,0.18552759371484243,0.01741907144023706,0.0],\"type\":\"scatter\"},{\"line\":{\"color\":\"green\"},\"mode\":\"lines\",\"opacity\":0.17,\"showlegend\":false,\"x\":[6727,5105,3534,2285,1377,776,447,241,141,79,52,26,18,11,4],\"y\":[1.0738821843281987,1.0687291184310526,1.086916300196504,1.0718716409133342,1.0114628546271645,0.9416165391184471,0.899225391602223,0.8120738649600967,0.7620255182131788,0.6641269065954989,0.586090308316958,0.44138455828361817,0.6910983179059704,0.6931006348221903,0.0],\"type\":\"scatter\"},{\"line\":{\"color\":\"green\"},\"mode\":\"lines\",\"name\":\"features_wo_some_errs\",\"x\":[5.0,5.354109764099121,5.733298301696777,6.139341354370117,6.574141025543213,7.039734363555908,7.538301944732666,8.072178840637207,8.643866539001465,9.256041526794434,9.911572456359863,10.61352825164795,11.365199089050293,12.170104026794434,13.032014846801758,13.95496654510498,14.943284034729004,16.001596450805664,17.13486099243164,18.348384857177734,19.647851943969727,21.039350509643555,22.52939796447754,24.12497329711914,25.83354949951172,27.663131713867188,29.62228775024414,31.72019386291504,33.966678619384766,36.37226486206055,38.948219299316406,41.706607818603516,44.66034698486328,47.823280334472656,51.2102165222168,54.83702087402344,58.72068405151367,62.879398345947266,67.33263397216797,72.10126495361328,77.20761108398438,82.67560577392578,88.53085327148438,94.80077362060547,101.5147476196289,108.70421600341797,116.4028549194336,124.646728515625,133.47445678710938,142.9273681640625,153.04978942871094,163.88906860351562,175.49600219726562,187.92495727539062,201.2341766357422,215.4859619140625,230.74708557128906,247.0890350341797,264.5883483886719,283.3270263671875,303.3927917480469,324.879638671875,347.88824462890625,372.5263671875,398.9093933105469,427.1609191894531,457.41326904296875,489.80816650390625,524.497314453125,561.6431884765625,601.4198608398438,644.0135498046875,689.6238403320312,738.46435546875,790.7637939453125,846.7672119140625,906.7368774414062,970.9537353515625,1039.718505859375,1113.3533935546875,1192.2032470703125,1276.6373291015625,1367.05126953125,1463.868408203125,1567.54248046875,1678.558837890625,1797.4375,1924.735595703125,2061.049072265625,2207.016357421875,2363.321533203125,2530.696533203125,2709.92529296875,2901.847412109375,3107.36181640625,3327.43115234375,3563.086181640625,3815.430908203125,4085.64697265625,4375.00048828125],\"y\":[-0.003829681166817731,0.005426450475710054,0.015338120181488193,0.02595174434302428,0.03731704234531101,0.04948726092003272,0.06251939849977188,0.07647449189282865,0.0914179278862854,0.10817491192492167,0.12724355560418238,0.14766264543692928,0.161627888659837,0.1676299176597798,0.17405702910420345,0.18093931122100582,0.18774151673660955,0.19499645839436128,0.20276521174866347,0.2083904317626128,0.20725100028811116,0.2042136157598925,0.20030179660891184,0.19611293529257537,0.19162741297733224,0.20178468516175999,0.2125108195824885,0.22301037934653367,0.23276357357514893,0.24320751261855098,0.2543911112956686,0.26641088756211495,0.2789163247161786,0.29043748931139424,0.30277459698307874,0.3140879240560276,0.3258325937525106,0.3384986554289006,0.3520617312037155,0.3672977869891685,0.3834243095061832,0.39864628011837444,0.41293957176433393,0.4240781903132792,0.43600567761112696,0.4487131883313292,0.4615194570436446,0.47206827904413995,0.4833641987496108,0.4945886833846058,0.5040893788572784,0.5140580430803311,0.5222776003889722,0.5305241731411668,0.5384490979181696,0.5469352700377116,0.5560224489113539,0.565034269849648,0.5738151382084091,0.5832178994032831,0.5922729780693478,0.5993603986782104,0.606949770381707,0.6150766369342776,0.6227518931711263,0.6308569314023487,0.6387700423563933,0.6456809823666023,0.6530813645030604,0.661393987450564,0.669579254882082,0.6766827284527244,0.6829726981708368,0.68957311336691,0.6965943523720808,0.7039859243176496,0.7119009786728038,0.7203765957436434,0.7276489208188297,0.7350657407802627,0.7427989219122904,0.7510797749633966,0.7581083379416822,0.7644065533502047,0.7710184967974565,0.7780987036510336,0.7855931209634303,0.7927409911788434,0.799912037678664,0.8070870588355812,0.813703418675017,0.8196509153550673,0.8256582116749145,0.8316440014323079,0.8380537160693984,0.8449173792202096,0.8521106760883539,0.8585305607354962,0.8614556820851642,0.8645879686421056],\"type\":\"scatter\"},{\"line\":{\"color\":\"purple\"},\"mode\":\"lines\",\"opacity\":0.17,\"showlegend\":false,\"x\":[18875,16299,13381,10143,6978,4166,2068,828,236,36,2,0,0,0,0],\"y\":[1.0064599429897756,0.983841766920867,1.1129283193470363,1.1053804554480544,0.9925852380751193,0.7413896308198488,0.3834657146478516,0.14334994935028414,0.027468418348746648,-0.0014301409482240747,0.0,0.0,0.0,0.0,0.0],\"type\":\"scatter\"},{\"line\":{\"color\":\"purple\"},\"mode\":\"lines\",\"opacity\":0.17,\"showlegend\":false,\"x\":[17832,16251,13996,11344,8348,5249,2704,1011,278,41,2,0,0,0,0],\"y\":[1.019587250070451,1.0738608157068414,1.0209809678654935,1.1147502180835365,1.1995096974794954,1.1285861531124188,0.6743873844585172,0.2607664343624302,0.05807316654272621,-0.0021183834077193554,0.0,0.0,0.0,0.0,0.0],\"type\":\"scatter\"},{\"line\":{\"color\":\"purple\"},\"mode\":\"lines\",\"opacity\":0.17,\"showlegend\":false,\"x\":[5955,5816,5560,5128,4489,3616,2626,1615,794,275,64,1,0,0,0],\"y\":[0.991696268126644,0.9876438514527179,0.998287400351749,1.0219399940338185,1.032956900017813,1.0018770344428352,0.9043629214447155,0.6884010198321983,0.3796088627693478,0.10510708321496251,0.00662568746511414,0.0,0.0,0.0,0.0],\"type\":\"scatter\"},{\"line\":{\"color\":\"purple\"},\"mode\":\"lines\",\"opacity\":0.17,\"showlegend\":false,\"x\":[6022,5910,5698,5320,4772,3878,2762,1713,887,334,61,6,0,0,0],\"y\":[1.0736913681213538,1.054444639038271,1.0711411535414916,1.1216650304717866,1.0991359284294617,1.0654187882303228,0.9832459642757869,0.6884378168286527,0.3476946201590992,0.1174217518585942,0.03349665557481856,0.0,0.0,0.0,0.0],\"type\":\"scatter\"},{\"line\":{\"color\":\"purple\"},\"mode\":\"lines\",\"name\":\"neurons\",\"x\":[1.0,1.0917655229568481,1.1919519901275635,1.3013321161270142,1.420749545097351,1.551125407218933,1.693465232849121,1.8488670587539673,2.0185294151306152,2.203760862350464,2.4059901237487793,2.626776933670044,2.8678245544433594,3.1309921741485596,3.418309211730957,3.731992244720459,4.074460506439209,4.448355674743652,4.856561660766602,5.302226543426514,5.788788318634033,6.3199992179870605,6.899957656860352,7.533135890960693,8.224418640136719,8.97913646697998,9.803112030029297,10.702699661254883,11.68483829498291,12.75710391998291,13.927766799926758,15.205855369567871,16.601228713989258,18.124649047851562,19.78786849975586,21.60371208190918,23.58618927001953,25.75058937072754,28.113605499267578,30.693466186523438,33.510066986083984,36.58513641357422,39.94239044189453,43.60772705078125,47.609413146972656,51.97831726074219,56.74813461303711,61.955657958984375,67.64105224609375,73.84817504882812,80.62489318847656,88.02347564697266,96.10099792480469,104.91976165771484,114.54777526855469,125.05931854248047,136.5354461669922,149.064697265625,162.7436981201172,177.67796325683594,193.98268127441406,211.7836151123047,231.21804809570312,252.43589782714844,275.6007995605469,300.8914794921875,328.5029296875,358.648193359375,391.5597229003906,427.4914245605469,466.72039794921875,509.54925537109375,556.3082885742188,607.3582763671875,663.0928344726562,723.94189453125,790.3748168945312,862.9039916992188,942.0888061523438,1028.5401611328125,1122.9246826171875,1225.970458984375,1338.4722900390625,1461.2978515625,1595.3946533203125,1741.7969970703125,1901.6339111328125,2076.138427734375,2266.65625,2474.6572265625,2701.74560546875,2949.672607421875,3220.35107421875,3515.8681640625,3838.503662109375,4190.74609375,4575.31201171875,4995.16845703125,5453.552734375,5954.00048828125],\"y\":[0.0,2.4127368062890183e-06,5.046880535285359e-06,7.922747716901095e-06,1.106251978930157e-05,1.4490415485382583e-05,1.823287262214635e-05,2.231876123307329e-05,2.633312502792778e-05,2.6740131769803485e-05,2.7184487596144175e-05,2.7669619691713938e-05,2.8199270613522014e-05,2.8777525532279246e-05,2.940884366484772e-05,3.0098095469306257e-05,3.085059669677087e-05,3.167215187295023e-05,3.256909777970098e-05,3.354835165145063e-05,3.4617467753607004e-05,8.45069798591948e-05,0.00017408435198505064,0.0002718817776215977,0.00037865372525878777,0.0004952235259439823,0.0006224905173119725,0.0007614361565178833,0.000913132195364309,0.0010787487817786564,0.001259563297788427,0.0014569702285936155,0.0016724923573354013,0.0019077919598648402,0.002164684209005375,0.002445149989616997,0.0027513531326480442,0.003085655145094009,0.0034506343589439806,0.0038491062585237954,0.0042841438078391894,0.004786393223600534,0.005461516040020425,0.006399576583011129,0.007512710922952347,0.008727992951589186,0.010054795544911094,0.011431293691824001,0.012913203870311855,0.014732852938383811,0.016719481725873793,0.01888841314603601,0.021256379167058283,0.023841643824794333,0.02666414412825717,0.029745655567658864,0.033109939729689356,0.03678295230086377,0.04079301975853791,0.04517107421339718,0.04995088377875527,0.05516931648877981,0.060866617636288825,0.06729733371869864,0.07439439602045461,0.08265468020118176,0.09168772838453279,0.10222130381045086,0.11388501189726806,0.12661905632095166,0.14052164002131615,0.15570000753043217,0.17227121285905006,0.19036311450436005,0.21011520822822646,0.23167986000158627,0.25522340916522657,0.2782771579320022,0.30322014861683794,0.3302852745070951,0.3592281306708968,0.39082694620524816,0.42532544514523773,0.46298969882267504,0.5041102595275859,0.5429064179124273,0.5801725409328617,0.6208115529946114,0.6641336082065447,0.7114311769254084,0.7608892236853568,0.796355512149962,0.8316249302447956,0.870130822195518,0.9086714917732576,0.94571888091747,0.977373774185131,1.0078213901766184,1.0244009642618963,1.024876328018238],\"type\":\"scatter\"}],                        {\"template\":{\"data\":{\"histogram2dcontour\":[{\"type\":\"histogram2dcontour\",\"colorbar\":{\"outlinewidth\":0,\"ticks\":\"\"},\"colorscale\":[[0.0,\"#0d0887\"],[0.1111111111111111,\"#46039f\"],[0.2222222222222222,\"#7201a8\"],[0.3333333333333333,\"#9c179e\"],[0.4444444444444444,\"#bd3786\"],[0.5555555555555556,\"#d8576b\"],[0.6666666666666666,\"#ed7953\"],[0.7777777777777778,\"#fb9f3a\"],[0.8888888888888888,\"#fdca26\"],[1.0,\"#f0f921\"]]}],\"choropleth\":[{\"type\":\"choropleth\",\"colorbar\":{\"outlinewidth\":0,\"ticks\":\"\"}}],\"histogram2d\":[{\"type\":\"histogram2d\",\"colorbar\":{\"outlinewidth\":0,\"ticks\":\"\"},\"colorscale\":[[0.0,\"#0d0887\"],[0.1111111111111111,\"#46039f\"],[0.2222222222222222,\"#7201a8\"],[0.3333333333333333,\"#9c179e\"],[0.4444444444444444,\"#bd3786\"],[0.5555555555555556,\"#d8576b\"],[0.6666666666666666,\"#ed7953\"],[0.7777777777777778,\"#fb9f3a\"],[0.8888888888888888,\"#fdca26\"],[1.0,\"#f0f921\"]]}],\"heatmap\":[{\"type\":\"heatmap\",\"colorbar\":{\"outlinewidth\":0,\"ticks\":\"\"},\"colorscale\":[[0.0,\"#0d0887\"],[0.1111111111111111,\"#46039f\"],[0.2222222222222222,\"#7201a8\"],[0.3333333333333333,\"#9c179e\"],[0.4444444444444444,\"#bd3786\"],[0.5555555555555556,\"#d8576b\"],[0.6666666666666666,\"#ed7953\"],[0.7777777777777778,\"#fb9f3a\"],[0.8888888888888888,\"#fdca26\"],[1.0,\"#f0f921\"]]}],\"heatmapgl\":[{\"type\":\"heatmapgl\",\"colorbar\":{\"outlinewidth\":0,\"ticks\":\"\"},\"colorscale\":[[0.0,\"#0d0887\"],[0.1111111111111111,\"#46039f\"],[0.2222222222222222,\"#7201a8\"],[0.3333333333333333,\"#9c179e\"],[0.4444444444444444,\"#bd3786\"],[0.5555555555555556,\"#d8576b\"],[0.6666666666666666,\"#ed7953\"],[0.7777777777777778,\"#fb9f3a\"],[0.8888888888888888,\"#fdca26\"],[1.0,\"#f0f921\"]]}],\"contourcarpet\":[{\"type\":\"contourcarpet\",\"colorbar\":{\"outlinewidth\":0,\"ticks\":\"\"}}],\"contour\":[{\"type\":\"contour\",\"colorbar\":{\"outlinewidth\":0,\"ticks\":\"\"},\"colorscale\":[[0.0,\"#0d0887\"],[0.1111111111111111,\"#46039f\"],[0.2222222222222222,\"#7201a8\"],[0.3333333333333333,\"#9c179e\"],[0.4444444444444444,\"#bd3786\"],[0.5555555555555556,\"#d8576b\"],[0.6666666666666666,\"#ed7953\"],[0.7777777777777778,\"#fb9f3a\"],[0.8888888888888888,\"#fdca26\"],[1.0,\"#f0f921\"]]}],\"surface\":[{\"type\":\"surface\",\"colorbar\":{\"outlinewidth\":0,\"ticks\":\"\"},\"colorscale\":[[0.0,\"#0d0887\"],[0.1111111111111111,\"#46039f\"],[0.2222222222222222,\"#7201a8\"],[0.3333333333333333,\"#9c179e\"],[0.4444444444444444,\"#bd3786\"],[0.5555555555555556,\"#d8576b\"],[0.6666666666666666,\"#ed7953\"],[0.7777777777777778,\"#fb9f3a\"],[0.8888888888888888,\"#fdca26\"],[1.0,\"#f0f921\"]]}],\"mesh3d\":[{\"type\":\"mesh3d\",\"colorbar\":{\"outlinewidth\":0,\"ticks\":\"\"}}],\"scatter\":[{\"fillpattern\":{\"fillmode\":\"overlay\",\"size\":10,\"solidity\":0.2},\"type\":\"scatter\"}],\"parcoords\":[{\"type\":\"parcoords\",\"line\":{\"colorbar\":{\"outlinewidth\":0,\"ticks\":\"\"}}}],\"scatterpolargl\":[{\"type\":\"scatterpolargl\",\"marker\":{\"colorbar\":{\"outlinewidth\":0,\"ticks\":\"\"}}}],\"bar\":[{\"error_x\":{\"color\":\"#2a3f5f\"},\"error_y\":{\"color\":\"#2a3f5f\"},\"marker\":{\"line\":{\"color\":\"#E5ECF6\",\"width\":0.5},\"pattern\":{\"fillmode\":\"overlay\",\"size\":10,\"solidity\":0.2}},\"type\":\"bar\"}],\"scattergeo\":[{\"type\":\"scattergeo\",\"marker\":{\"colorbar\":{\"outlinewidth\":0,\"ticks\":\"\"}}}],\"scatterpolar\":[{\"type\":\"scatterpolar\",\"marker\":{\"colorbar\":{\"outlinewidth\":0,\"ticks\":\"\"}}}],\"histogram\":[{\"marker\":{\"pattern\":{\"fillmode\":\"overlay\",\"size\":10,\"solidity\":0.2}},\"type\":\"histogram\"}],\"scattergl\":[{\"type\":\"scattergl\",\"marker\":{\"colorbar\":{\"outlinewidth\":0,\"ticks\":\"\"}}}],\"scatter3d\":[{\"type\":\"scatter3d\",\"line\":{\"colorbar\":{\"outlinewidth\":0,\"ticks\":\"\"}},\"marker\":{\"colorbar\":{\"outlinewidth\":0,\"ticks\":\"\"}}}],\"scattermapbox\":[{\"type\":\"scattermapbox\",\"marker\":{\"colorbar\":{\"outlinewidth\":0,\"ticks\":\"\"}}}],\"scatterternary\":[{\"type\":\"scatterternary\",\"marker\":{\"colorbar\":{\"outlinewidth\":0,\"ticks\":\"\"}}}],\"scattercarpet\":[{\"type\":\"scattercarpet\",\"marker\":{\"colorbar\":{\"outlinewidth\":0,\"ticks\":\"\"}}}],\"carpet\":[{\"aaxis\":{\"endlinecolor\":\"#2a3f5f\",\"gridcolor\":\"white\",\"linecolor\":\"white\",\"minorgridcolor\":\"white\",\"startlinecolor\":\"#2a3f5f\"},\"baxis\":{\"endlinecolor\":\"#2a3f5f\",\"gridcolor\":\"white\",\"linecolor\":\"white\",\"minorgridcolor\":\"white\",\"startlinecolor\":\"#2a3f5f\"},\"type\":\"carpet\"}],\"table\":[{\"cells\":{\"fill\":{\"color\":\"#EBF0F8\"},\"line\":{\"color\":\"white\"}},\"header\":{\"fill\":{\"color\":\"#C8D4E3\"},\"line\":{\"color\":\"white\"}},\"type\":\"table\"}],\"barpolar\":[{\"marker\":{\"line\":{\"color\":\"#E5ECF6\",\"width\":0.5},\"pattern\":{\"fillmode\":\"overlay\",\"size\":10,\"solidity\":0.2}},\"type\":\"barpolar\"}],\"pie\":[{\"automargin\":true,\"type\":\"pie\"}]},\"layout\":{\"autotypenumbers\":\"strict\",\"colorway\":[\"#636efa\",\"#EF553B\",\"#00cc96\",\"#ab63fa\",\"#FFA15A\",\"#19d3f3\",\"#FF6692\",\"#B6E880\",\"#FF97FF\",\"#FECB52\"],\"font\":{\"color\":\"#2a3f5f\"},\"hovermode\":\"closest\",\"hoverlabel\":{\"align\":\"left\"},\"paper_bgcolor\":\"white\",\"plot_bgcolor\":\"#E5ECF6\",\"polar\":{\"bgcolor\":\"#E5ECF6\",\"angularaxis\":{\"gridcolor\":\"white\",\"linecolor\":\"white\",\"ticks\":\"\"},\"radialaxis\":{\"gridcolor\":\"white\",\"linecolor\":\"white\",\"ticks\":\"\"}},\"ternary\":{\"bgcolor\":\"#E5ECF6\",\"aaxis\":{\"gridcolor\":\"white\",\"linecolor\":\"white\",\"ticks\":\"\"},\"baxis\":{\"gridcolor\":\"white\",\"linecolor\":\"white\",\"ticks\":\"\"},\"caxis\":{\"gridcolor\":\"white\",\"linecolor\":\"white\",\"ticks\":\"\"}},\"coloraxis\":{\"colorbar\":{\"outlinewidth\":0,\"ticks\":\"\"}},\"colorscale\":{\"sequential\":[[0.0,\"#0d0887\"],[0.1111111111111111,\"#46039f\"],[0.2222222222222222,\"#7201a8\"],[0.3333333333333333,\"#9c179e\"],[0.4444444444444444,\"#bd3786\"],[0.5555555555555556,\"#d8576b\"],[0.6666666666666666,\"#ed7953\"],[0.7777777777777778,\"#fb9f3a\"],[0.8888888888888888,\"#fdca26\"],[1.0,\"#f0f921\"]],\"sequentialminus\":[[0.0,\"#0d0887\"],[0.1111111111111111,\"#46039f\"],[0.2222222222222222,\"#7201a8\"],[0.3333333333333333,\"#9c179e\"],[0.4444444444444444,\"#bd3786\"],[0.5555555555555556,\"#d8576b\"],[0.6666666666666666,\"#ed7953\"],[0.7777777777777778,\"#fb9f3a\"],[0.8888888888888888,\"#fdca26\"],[1.0,\"#f0f921\"]],\"diverging\":[[0,\"#8e0152\"],[0.1,\"#c51b7d\"],[0.2,\"#de77ae\"],[0.3,\"#f1b6da\"],[0.4,\"#fde0ef\"],[0.5,\"#f7f7f7\"],[0.6,\"#e6f5d0\"],[0.7,\"#b8e186\"],[0.8,\"#7fbc41\"],[0.9,\"#4d9221\"],[1,\"#276419\"]]},\"xaxis\":{\"gridcolor\":\"white\",\"linecolor\":\"white\",\"ticks\":\"\",\"title\":{\"standoff\":15},\"zerolinecolor\":\"white\",\"automargin\":true,\"zerolinewidth\":2},\"yaxis\":{\"gridcolor\":\"white\",\"linecolor\":\"white\",\"ticks\":\"\",\"title\":{\"standoff\":15},\"zerolinecolor\":\"white\",\"automargin\":true,\"zerolinewidth\":2},\"scene\":{\"xaxis\":{\"backgroundcolor\":\"#E5ECF6\",\"gridcolor\":\"white\",\"linecolor\":\"white\",\"showbackground\":true,\"ticks\":\"\",\"zerolinecolor\":\"white\",\"gridwidth\":2},\"yaxis\":{\"backgroundcolor\":\"#E5ECF6\",\"gridcolor\":\"white\",\"linecolor\":\"white\",\"showbackground\":true,\"ticks\":\"\",\"zerolinecolor\":\"white\",\"gridwidth\":2},\"zaxis\":{\"backgroundcolor\":\"#E5ECF6\",\"gridcolor\":\"white\",\"linecolor\":\"white\",\"showbackground\":true,\"ticks\":\"\",\"zerolinecolor\":\"white\",\"gridwidth\":2}},\"shapedefaults\":{\"line\":{\"color\":\"#2a3f5f\"}},\"annotationdefaults\":{\"arrowcolor\":\"#2a3f5f\",\"arrowhead\":0,\"arrowwidth\":1},\"geo\":{\"bgcolor\":\"white\",\"landcolor\":\"#E5ECF6\",\"subunitcolor\":\"white\",\"showland\":true,\"showlakes\":true,\"lakecolor\":\"white\"},\"title\":{\"x\":0.05},\"mapbox\":{\"style\":\"light\"}}},\"xaxis\":{\"range\":[0,1700],\"title\":{\"text\":\"Nodes\"},\"gridcolor\":\"rgb(200,200,200)\",\"mirror\":true,\"ticks\":\"outside\",\"showline\":true},\"yaxis\":{\"range\":[0,1.1],\"title\":{\"text\":\"Faithfulness\"},\"gridcolor\":\"rgb(200,200,200)\",\"mirror\":true,\"ticks\":\"outside\",\"showline\":true},\"width\":800,\"height\":375,\"plot_bgcolor\":\"rgba(0,0,0,0)\"},                        {\"responsive\": true}                    ).then(function(){\n",
       "                            \n",
       "var gd = document.getElementById('6390f82a-15af-4311-b791-c2b1e3f0c57c');\n",
       "var x = new MutationObserver(function (mutations, observer) {{\n",
       "        var display = window.getComputedStyle(gd).display;\n",
       "        if (!display || display === 'none') {{\n",
       "            console.log([gd, 'removed!']);\n",
       "            Plotly.purge(gd);\n",
       "            observer.disconnect();\n",
       "        }}\n",
       "}});\n",
       "\n",
       "// Listen for the removal of the full notebook cells\n",
       "var notebookContainer = gd.closest('#notebook-container');\n",
       "if (notebookContainer) {{\n",
       "    x.observe(notebookContainer, {childList: true});\n",
       "}}\n",
       "\n",
       "// Listen for the clearing of the current output cell\n",
       "var outputEl = gd.closest('.output');\n",
       "if (outputEl) {{\n",
       "    x.observe(outputEl, {childList: true});\n",
       "}}\n",
       "\n",
       "                        })                };                });            </script>        </div>"
      ]
     },
     "metadata": {},
     "output_type": "display_data"
    }
   ],
   "source": [
    "fig = go.Figure()\n",
    "\n",
    "colors = {\n",
    "    'features' : 'blue',\n",
    "    'features_wo_errs' : 'red',\n",
    "    'features_wo_some_errs' : 'green',\n",
    "    'neurons' : 'purple',\n",
    "    # 'random_features' : 'black'\n",
    "}\n",
    "\n",
    "for setting, subouts in outs.items():\n",
    "\n",
    "    x_min = max([min(subouts[dataset][t]['n_nodes'] for t in thresholds) for dataset in datasets]) + 1\n",
    "    x_max = min([max(subouts[dataset][t]['n_nodes'] for t in thresholds) for dataset in datasets]) - 1\n",
    "    fs = {\n",
    "        dataset : interpolate.interp1d([subouts[dataset][t]['n_nodes'] for t in thresholds], [subouts[dataset][t]['faithfulness'] for t in thresholds])\n",
    "        for dataset in datasets\n",
    "    }\n",
    "    xs = t.logspace(math.log10(x_min), math.log10(x_max), 100, 10).tolist()\n",
    "\n",
    "    for dataset in datasets:\n",
    "\n",
    "        \n",
    "\n",
    "        fig.add_trace(go.Scatter(\n",
    "            x = [subouts[dataset][t]['n_nodes'] for t in thresholds],\n",
    "            y = [subouts[dataset][t]['faithfulness'] for t in thresholds],\n",
    "            mode='lines', line=dict(color=colors[setting]), opacity=0.17, showlegend=False\n",
    "        ))\n",
    "\n",
    "    fig.add_trace(go.Scatter(\n",
    "        x=xs,\n",
    "        y=[ sum([f(x) for f in fs.values()]) / len(fs) for x in xs ],\n",
    "        mode='lines', line=dict(color=colors[setting]), name=setting\n",
    "    ))\n",
    "\n",
    "fig.update_xaxes(range=(0, 1700))\n",
    "fig.update_yaxes(range=(0, 1.1))\n",
    "\n",
    "fig.update_layout(\n",
    "    xaxis_title='Nodes',\n",
    "    yaxis_title='Faithfulness',\n",
    "    width=800,\n",
    "    height=375,\n",
    "    # set white background color\n",
    "    plot_bgcolor='rgba(0,0,0,0)',\n",
    "    # add grey gridlines\n",
    "    yaxis=dict(gridcolor='rgb(200,200,200)',mirror=True,ticks='outside',showline=True),\n",
    "    xaxis=dict(gridcolor='rgb(200,200,200)', mirror=True, ticks='outside', showline=True),\n",
    "\n",
    ")\n",
    "\n",
    "fig.show()\n",
    "fig.write_image('faithfulness.pdf')"
   ]
  },
  {
   "cell_type": "code",
   "execution_count": 58,
   "metadata": {},
   "outputs": [
    {
     "data": {
      "application/vnd.plotly.v1+json": {
       "config": {
        "plotlyServerURL": "https://plot.ly"
       },
       "data": [
        {
         "line": {
          "color": "blue"
         },
         "mode": "lines",
         "opacity": 0.17,
         "showlegend": false,
         "type": "scatter",
         "x": [
          11022,
          6798,
          3832,
          2017,
          1006,
          560,
          311,
          198,
          128,
          84,
          51,
          32,
          12,
          4,
          0
         ],
         "y": [
          0.007275108395662911,
          0.008694642024176759,
          0.02023046319050753,
          0.028033672443120307,
          0.03220143906070116,
          0.04643479701395637,
          0.06465002798931126,
          0.04407101994799533,
          0.030936110436316396,
          -0.006212571671037796,
          0.006075264971187182,
          0.08680488912701075,
          0.34561623601194563,
          0.5622936695967427,
          0.9997951136207607
         ]
        },
        {
         "line": {
          "color": "blue"
         },
         "mode": "lines",
         "opacity": 0.17,
         "showlegend": false,
         "type": "scatter",
         "x": [
          13181,
          8678,
          5122,
          2668,
          1306,
          609,
          322,
          183,
          124,
          84,
          49,
          32,
          14,
          4,
          1
         ],
         "y": [
          0.003096513996830628,
          0.001910562856696692,
          -0.0029226065361946697,
          -0.0035433587978190694,
          -0.0039467271022058485,
          0.005060215449031268,
          0.012576869909693504,
          0.004369417393053233,
          -0.0007415211267564106,
          -0.03334428513717759,
          0.0846420694700341,
          0.09756674987831158,
          0.1726439237556611,
          0.46105205057741694,
          0.6808755388907036
         ]
        },
        {
         "line": {
          "color": "blue"
         },
         "mode": "lines",
         "opacity": 0.17,
         "showlegend": false,
         "type": "scatter",
         "x": [
          4384,
          3548,
          2633,
          1794,
          1121,
          656,
          382,
          246,
          145,
          92,
          60,
          34,
          21,
          9,
          4
         ],
         "y": [
          -0.00015136989384373172,
          -0.00020182652512497562,
          -0.00015569193229332488,
          -0.00039211940204203857,
          -0.00016434304834308058,
          0.00004901712498980775,
          0.00004469156696492991,
          0.0022301859182912087,
          0.0005348416994112993,
          0.006666043913015795,
          0.004773198727035788,
          -0.0049173570111212,
          0.025915968499956064,
          0.21716678757991578,
          0.46396747340857925
         ]
        },
        {
         "line": {
          "color": "blue"
         },
         "mode": "lines",
         "opacity": 0.17,
         "showlegend": false,
         "type": "scatter",
         "x": [
          6735,
          5113,
          3542,
          2292,
          1384,
          783,
          454,
          248,
          147,
          84,
          56,
          30,
          20,
          12,
          4
         ],
         "y": [
          0.0016979445000554325,
          0.002020424853666335,
          0.00224254031707368,
          0.0028924337100062823,
          0.002754230139513062,
          0.004126408506713755,
          0.0046841635080875155,
          0.007637476521540733,
          -0.004749983530935331,
          0.004414335959278832,
          0.011107420076834212,
          -0.00282991553378247,
          -0.029118519423052512,
          0.08399090576240523,
          0.26232001722423154
         ]
        },
        {
         "line": {
          "color": "blue"
         },
         "mode": "lines",
         "name": "features",
         "type": "scatter",
         "x": [
          5,
          5.354208469390869,
          5.733509540557861,
          6.139681339263916,
          6.574626445770264,
          7.040384292602539,
          7.53913688659668,
          8.073222160339355,
          8.645142555236816,
          9.25757884979248,
          9.91340160369873,
          10.615683555603027,
          11.367716789245605,
          12.17302417755127,
          13.035382270812988,
          13.958830833435059,
          14.947697639465332,
          16.006616592407227,
          17.140552520751953,
          18.35481834411621,
          19.655105590820312,
          21.04750633239746,
          22.538545608520508,
          24.135215759277344,
          25.844993591308594,
          27.6758975982666,
          29.636503219604492,
          31.736003875732422,
          33.98423385620117,
          36.3917350769043,
          38.96978759765625,
          41.730472564697266,
          44.686729431152344,
          47.852413177490234,
          51.24235916137695,
          54.87245178222656,
          58.75971221923828,
          62.92234802246094,
          67.37987518310547,
          72.1531753540039,
          77.2646255493164,
          82.7381820678711,
          88.59949493408203,
          94.87602996826172,
          101.59721374511719,
          108.79452514648438,
          116.50171661376953,
          124.75489044189453,
          133.59274291992188,
          143.05667114257812,
          153.19107055664062,
          164.0433807373047,
          175.66448974609375,
          188.10885620117188,
          201.434814453125,
          215.7047882080078,
          230.9856719970703,
          247.34909057617188,
          264.8717041015625,
          283.63568115234375,
          303.7289123535156,
          325.2455749511719,
          348.2865295410156,
          372.959716796875,
          399.38079833984375,
          427.6736145019531,
          457.9707336425781,
          490.4141540527344,
          525.1559448242188,
          562.3588256835938,
          602.197265625,
          644.8579711914062,
          690.540771484375,
          739.4598388671875,
          791.8444213867188,
          847.9400024414062,
          908.009521484375,
          972.33447265625,
          1041.21630859375,
          1114.977783203125,
          1193.9647216796875,
          1278.547119140625,
          1369.12158203125,
          1466.1124267578125,
          1569.9742431640625,
          1681.1939697265625,
          1800.29248046875,
          1927.8282470703125,
          2064.39892578125,
          2210.644287109375,
          2367.250244140625,
          2534.9501953125,
          2714.5302734375,
          2906.83203125,
          3112.757080078125,
          3333.27001953125,
          3569.404296875,
          3822.26708984375,
          4093.042724609375,
          4383.0009765625
         ],
         "y": [
          0.40551411070705856,
          0.394216917778163,
          0.38211941659057364,
          0.36916489525981655,
          0.3552926725257548,
          0.3404377023358556,
          0.3245303913451597,
          0.3074961730828774,
          0.28925523420234234,
          0.2718743101534481,
          0.25643719362202155,
          0.23990649494636374,
          0.2222047232495166,
          0.2042134167475581,
          0.18872166531866286,
          0.17213245985831588,
          0.1602129461588645,
          0.14772094072712041,
          0.13434396439028323,
          0.12001934094397887,
          0.10467992775892987,
          0.09280599776196634,
          0.08652333404340537,
          0.07979558261035634,
          0.0725912390869359,
          0.06487651663737538,
          0.05661528167137594,
          0.04686051552336715,
          0.04221452113206955,
          0.03973575127093776,
          0.037092965234897315,
          0.034262960949850874,
          0.03123247405994943,
          0.027987301693599906,
          0.023283549183638595,
          0.020711054701011096,
          0.0174215597696301,
          0.013435985297632541,
          0.009063948275223029,
          0.004382194398209284,
          -0.0006312241827057142,
          -0.005999804312660946,
          -0.005428620824453592,
          -0.00308601269087327,
          -0.0007366079796280048,
          0.001779228199840735,
          0.004473294088362033,
          0.007220735654273178,
          0.007782444616907518,
          0.007813484389035357,
          0.008532965591036083,
          0.009655369425217532,
          0.01085728653703632,
          0.012109124203746038,
          0.013390739005902756,
          0.014748510034724053,
          0.016202467950832668,
          0.017748346537687594,
          0.01869388339414693,
          0.019682535081714275,
          0.020741223593321274,
          0.02089663818233741,
          0.020149245754380922,
          0.019348907675649136,
          0.01856176729921441,
          0.017757793995515893,
          0.016909414766457277,
          0.016090027885534344,
          0.015212593656404405,
          0.014297322049041874,
          0.01370190360231171,
          0.013183244870257727,
          0.01264790888279586,
          0.012073232819152771,
          0.011456545855918198,
          0.01078931978463781,
          0.010074825907559176,
          0.009309716006765549,
          0.008735078036842338,
          0.008370201035752782,
          0.007981671206012512,
          0.007565811897232685,
          0.00732908665346918,
          0.007222734022944089,
          0.007118547537850991,
          0.007006980142011907,
          0.006888485054641398,
          0.006780326502888656,
          0.006662409914890074,
          0.006531917858580972,
          0.006379536909772641,
          0.006201722639181724,
          0.0060040377223294986,
          0.005782089350721209,
          0.005544417424158149,
          0.0052899086334590095,
          0.005020556310534013,
          0.0047596421447331306,
          0.004506997465292678,
          0.004237522754699116
         ]
        },
        {
         "line": {
          "color": "red"
         },
         "mode": "lines",
         "opacity": 0.17,
         "showlegend": false,
         "type": "scatter",
         "x": [
          10979,
          6757,
          3792,
          1977,
          967,
          524,
          279,
          171,
          106,
          66,
          37,
          21,
          5,
          2,
          0
         ],
         "y": [
          -0.1087337192480645,
          -0.1317610029679232,
          -0.12493161514829054,
          -0.11603417864573981,
          -0.14821872004681608,
          -0.12400004431090844,
          -0.10898298873694272,
          -0.13736097968200445,
          -0.15687111598796988,
          -0.17524900337588062,
          -0.15319553851038772,
          -0.05303182331879298,
          0.5610072092280232,
          0.7121811759999578,
          0.9997951136207607
         ]
        },
        {
         "line": {
          "color": "red"
         },
         "mode": "lines",
         "opacity": 0.17,
         "showlegend": false,
         "type": "scatter",
         "x": [
          13142,
          8639,
          5083,
          2631,
          1270,
          573,
          287,
          151,
          96,
          59,
          33,
          22,
          8,
          2,
          0
         ],
         "y": [
          -0.03719922672249966,
          -0.049172250832303796,
          -0.07194925879620111,
          -0.04977609515796386,
          -0.09432531176909323,
          -0.0729250747646181,
          -0.09299203057433653,
          -0.13044727933007777,
          -0.1427536266870297,
          -0.13482394771999565,
          -0.05194752289118776,
          0.011130058684277614,
          0.42393256049564476,
          0.6609800949189912,
          0.999823752937448
         ]
        },
        {
         "line": {
          "color": "red"
         },
         "mode": "lines",
         "opacity": 0.17,
         "showlegend": false,
         "type": "scatter",
         "x": [
          4372,
          3536,
          2621,
          1782,
          1109,
          644,
          371,
          235,
          134,
          83,
          52,
          27,
          16,
          6,
          3
         ],
         "y": [
          -0.013046639711717782,
          -0.007967822184411659,
          -0.01339983613068649,
          -0.010783302913820127,
          -0.004463247329590005,
          0.01950076823705505,
          0.017498360432250445,
          0.011749186998346796,
          -0.009568018205045395,
          0.007283057136598634,
          -0.009112465497647479,
          -0.04288381103103244,
          0.09452112959600263,
          0.4718444799919202,
          0.5391334659938689
         ]
        },
        {
         "line": {
          "color": "red"
         },
         "mode": "lines",
         "opacity": 0.17,
         "showlegend": false,
         "type": "scatter",
         "x": [
          6723,
          5101,
          3530,
          2281,
          1373,
          772,
          443,
          237,
          137,
          75,
          48,
          22,
          15,
          8,
          4
         ],
         "y": [
          -0.04065700320865582,
          -0.03746512173450582,
          -0.0480049134048546,
          -0.032175483105953126,
          -0.01359346957400555,
          -0.01747473002784477,
          -0.0166981453423075,
          -0.030183023527464777,
          -0.065867935775468,
          -0.06892160564543469,
          -0.07701484143905883,
          -0.0281148865883971,
          -0.013058747162098979,
          0.09063627151823889,
          0.26232001722423154
         ]
        },
        {
         "line": {
          "color": "red"
         },
         "mode": "lines",
         "name": "features_wo_errs",
         "type": "scatter",
         "x": [
          5,
          5.354060173034668,
          5.733191967010498,
          6.139171123504639,
          6.5738983154296875,
          7.039409160614014,
          7.53788423538208,
          8.071657180786133,
          8.643227577209473,
          9.255271911621094,
          9.910656929016113,
          10.61245059967041,
          11.36393928527832,
          12.1686429977417,
          13.030328750610352,
          13.953033447265625,
          14.941075325012207,
          15.999083518981934,
          17.13201141357422,
          18.345163345336914,
          19.644222259521484,
          21.035268783569336,
          22.524818420410156,
          24.11984634399414,
          25.827821731567383,
          27.656742095947266,
          29.61517333984375,
          31.712284088134766,
          33.95789337158203,
          36.36252212524414,
          38.93742752075195,
          41.694664001464844,
          44.64714813232422,
          47.8087043762207,
          51.19413375854492,
          54.81929397583008,
          58.7011604309082,
          62.857906341552734,
          67.30900573730469,
          72.07528686523438,
          77.17908477783203,
          82.64429473876953,
          88.49650573730469,
          94.76312255859375,
          101.4734878540039,
          108.6590347290039,
          116.35340118408203,
          124.59262084960938,
          133.415283203125,
          142.86268615722656,
          152.97909545898438,
          163.81185913085938,
          175.41171264648438,
          187.83297729492188,
          201.13380432128906,
          215.37649536132812,
          230.62774658203125,
          246.95895385742188,
          264.4466247558594,
          283.1726379394531,
          303.22467041015625,
          324.69659423828125,
          347.68902587890625,
          372.3096008300781,
          398.673583984375,
          426.90447998046875,
          457.13446044921875,
          489.50506591796875,
          524.1679077148438,
          561.2853393554688,
          601.0310668945312,
          643.59130859375,
          689.165283203125,
          737.9664916992188,
          790.223388671875,
          846.1807250976562,
          906.1004638671875,
          970.2633056640625,
          1038.9696044921875,
          1112.5411376953125,
          1191.3223876953125,
          1275.682373046875,
          1366.01611328125,
          1462.7464599609375,
          1566.326416015625,
          1677.2412109375,
          1796.010009765625,
          1923.189208984375,
          2059.3740234375,
          2205.20263671875,
          2361.357421875,
          2528.56982421875,
          2707.623046875,
          2899.35546875,
          3104.66455078125,
          3324.51220703125,
          3559.927734375,
          3812.013427734375,
          4081.94970703125,
          4371.0009765625
         ],
         "y": [
          0.45428418993141106,
          0.44160565270348734,
          0.42802932604970867,
          0.4129591999076707,
          0.3957289361798147,
          0.3772785728722305,
          0.3575216835872894,
          0.33704883643858596,
          0.31984324694178534,
          0.30141929839996945,
          0.28169069516541645,
          0.26056508424453984,
          0.2379435385574826,
          0.213720097613313,
          0.1877813656008196,
          0.1600058224013043,
          0.13026347909497837,
          0.10157776099785838,
          0.07820376296809624,
          0.05318081572246509,
          0.02638591738571995,
          -0.0020231697384938364,
          -0.017635406115287678,
          -0.028149305236079,
          -0.039407716866509616,
          -0.04919066713871747,
          -0.05532274619883282,
          -0.06188904713301966,
          -0.06831043076767274,
          -0.0743085972514078,
          -0.07806765565736579,
          -0.08115433556198245,
          -0.08445959192978844,
          -0.08799890101466881,
          -0.09004761660109872,
          -0.09270908264593408,
          -0.0957363385443208,
          -0.09611033838968051,
          -0.09587374447299328,
          -0.09459427343628404,
          -0.09336066205317031,
          -0.09223582332775893,
          -0.09221212112658529,
          -0.09226856605645241,
          -0.09172956876314824,
          -0.09111324246215925,
          -0.09064629596254392,
          -0.09014628406359926,
          -0.08961086489331226,
          -0.08738696691281733,
          -0.08460008949641011,
          -0.081503346995739,
          -0.07822856386121262,
          -0.07479384825515922,
          -0.07111591694511125,
          -0.06717754234542242,
          -0.06296028169908563,
          -0.059674506254379825,
          -0.05685068755122856,
          -0.054164946989269616,
          -0.05338402635000519,
          -0.052758098381391914,
          -0.05208784609540693,
          -0.05138157068448777,
          -0.050843313865504766,
          -0.050266941464302536,
          -0.0498894083742341,
          -0.04977736995274958,
          -0.049657119763085705,
          -0.049467181777657125,
          -0.049970650378386335,
          -0.05082609700565373,
          -0.052406842601791695,
          -0.05410596656357846,
          -0.055885232618544396,
          -0.05771014913058696,
          -0.059664290046905044,
          -0.06168621174638214,
          -0.06244052074358062,
          -0.0632109339130242,
          -0.06324580124164532,
          -0.06319302078803057,
          -0.061800396885383704,
          -0.060913216113938434,
          -0.06001354784152243,
          -0.059050171086660164,
          -0.05799660799303458,
          -0.05669253837920204,
          -0.0560533101033063,
          -0.05589847168378565,
          -0.05557615114007895,
          -0.055072916070586966,
          -0.05513819022342679,
          -0.05612954816151738,
          -0.057191104606918494,
          -0.058327833163636676,
          -0.05947188971497294,
          -0.06029777938748922,
          -0.06102069536449568,
          -0.06179480317046545
         ]
        },
        {
         "line": {
          "color": "green"
         },
         "mode": "lines",
         "opacity": 0.17,
         "showlegend": false,
         "type": "scatter",
         "x": [
          10994,
          6772,
          3807,
          1992,
          982,
          539,
          293,
          183,
          116,
          75,
          44,
          27,
          11,
          4,
          0
         ],
         "y": [
          0.002951024244173074,
          0.0035530584861908398,
          0.017057636857170017,
          0.023325130434563763,
          0.026385999780755898,
          0.0384140094424318,
          0.025898034411009834,
          0.022564666128857113,
          0.045889796563420876,
          0.0008787582375381553,
          0.012477951751671271,
          0.06470072870402888,
          0.349158736361812,
          0.5622936695967427,
          0.9997951136207607
         ]
        },
        {
         "line": {
          "color": "green"
         },
         "mode": "lines",
         "opacity": 0.17,
         "showlegend": false,
         "type": "scatter",
         "x": [
          13155,
          8652,
          5096,
          2644,
          1283,
          586,
          299,
          163,
          108,
          69,
          41,
          28,
          14,
          4,
          1
         ],
         "y": [
          0.002929853110371384,
          -0.0002705225527415671,
          -0.0053887061724986135,
          -0.0022704546644818097,
          -0.00281391455757586,
          0.019523495179509718,
          0.02836860641950942,
          0.010849875138305744,
          0.00971464780606484,
          -0.008816127154636814,
          0.0590970367585442,
          0.06891796322984624,
          0.1726439237556611,
          0.46105205057741694,
          0.6808755388907036
         ]
        },
        {
         "line": {
          "color": "green"
         },
         "mode": "lines",
         "opacity": 0.17,
         "showlegend": false,
         "type": "scatter",
         "x": [
          4376,
          3540,
          2625,
          1786,
          1113,
          648,
          375,
          239,
          138,
          87,
          56,
          31,
          20,
          9,
          4
         ],
         "y": [
          -0.0001917323832084991,
          -0.0001859673188921851,
          0.00017299416439283625,
          -0.000018738218815662847,
          -0.0004915896387378056,
          -0.00008072849830481944,
          0.0003777067412512536,
          0.002852964206190362,
          -0.00017587669655099326,
          0.004964934629819571,
          0.0036631528388484215,
          0.003916879021121362,
          0.026465226379733434,
          0.21716678757991578,
          0.46396747340857925
         ]
        },
        {
         "line": {
          "color": "green"
         },
         "mode": "lines",
         "opacity": 0.17,
         "showlegend": false,
         "type": "scatter",
         "x": [
          6727,
          5105,
          3534,
          2285,
          1377,
          776,
          447,
          241,
          141,
          79,
          52,
          26,
          18,
          11,
          4
         ],
         "y": [
          0.0014824166625159267,
          0.0016337794173646605,
          0.0019036069661733446,
          0.0025913470730856924,
          0.004480147948436564,
          0.0056186985743413576,
          0.004758201995889964,
          -0.0008522700798066772,
          -0.009679303125587464,
          -0.0031737815703936027,
          0.004381429964699966,
          -0.0051645942424149915,
          -0.0042234876176734755,
          0.08718772324871582,
          0.26232001722423154
         ]
        },
        {
         "line": {
          "color": "green"
         },
         "mode": "lines",
         "name": "features_wo_some_errs",
         "type": "scatter",
         "x": [
          5,
          5.354109764099121,
          5.733298301696777,
          6.139341354370117,
          6.574141025543213,
          7.039734363555908,
          7.538301944732666,
          8.072178840637207,
          8.643866539001465,
          9.256041526794434,
          9.911572456359863,
          10.61352825164795,
          11.365199089050293,
          12.170104026794434,
          13.032014846801758,
          13.95496654510498,
          14.943284034729004,
          16.001596450805664,
          17.13486099243164,
          18.348384857177734,
          19.647851943969727,
          21.039350509643555,
          22.52939796447754,
          24.12497329711914,
          25.83354949951172,
          27.663131713867188,
          29.62228775024414,
          31.72019386291504,
          33.966678619384766,
          36.37226486206055,
          38.948219299316406,
          41.706607818603516,
          44.66034698486328,
          47.823280334472656,
          51.2102165222168,
          54.83702087402344,
          58.72068405151367,
          62.879398345947266,
          67.33263397216797,
          72.10126495361328,
          77.20761108398438,
          82.67560577392578,
          88.53085327148438,
          94.80077362060547,
          101.5147476196289,
          108.70421600341797,
          116.4028549194336,
          124.646728515625,
          133.47445678710938,
          142.9273681640625,
          153.04978942871094,
          163.88906860351562,
          175.49600219726562,
          187.92495727539062,
          201.2341766357422,
          215.4859619140625,
          230.74708557128906,
          247.0890350341797,
          264.5883483886719,
          283.3270263671875,
          303.3927917480469,
          324.879638671875,
          347.88824462890625,
          372.5263671875,
          398.9093933105469,
          427.1609191894531,
          457.41326904296875,
          489.80816650390625,
          524.497314453125,
          561.6431884765625,
          601.4198608398438,
          644.0135498046875,
          689.6238403320312,
          738.46435546875,
          790.7637939453125,
          846.7672119140625,
          906.7368774414062,
          970.9537353515625,
          1039.718505859375,
          1113.3533935546875,
          1192.2032470703125,
          1276.6373291015625,
          1367.05126953125,
          1463.868408203125,
          1567.54248046875,
          1678.558837890625,
          1797.4375,
          1924.735595703125,
          2061.049072265625,
          2207.016357421875,
          2363.321533203125,
          2530.696533203125,
          2709.92529296875,
          2901.847412109375,
          3107.36181640625,
          3327.43115234375,
          3563.086181640625,
          3815.430908203125,
          4085.64697265625,
          4375.00048828125
         ],
         "y": [
          0.40399137855367817,
          0.3921581194266888,
          0.3794868048279724,
          0.36591809493593896,
          0.35138842730474423,
          0.3358297300445299,
          0.31916913500166216,
          0.30132861126681604,
          0.2822245668141961,
          0.26381740656400093,
          0.24715969946204586,
          0.22932228934292231,
          0.212470225978831,
          0.19697285028937583,
          0.1803779020388461,
          0.16260769273697154,
          0.1486330242763143,
          0.13392701321935763,
          0.11817948855042157,
          0.10244382429632509,
          0.08859093125747597,
          0.0777289903842773,
          0.06753888709796252,
          0.05662710211556709,
          0.044942529306535535,
          0.035070111346739645,
          0.031810993488496676,
          0.029288331409871263,
          0.02733929347371331,
          0.02525221995488708,
          0.023017335918586814,
          0.02032916178373779,
          0.01697868165150209,
          0.01504721114351239,
          0.012978951513609416,
          0.010305342357717392,
          0.007341057305302797,
          0.004183067572120176,
          0.0008014281058380992,
          -0.0005708157307451644,
          0.00006688412271451218,
          0.002052741633470346,
          0.0042085123471741585,
          0.006351649950890468,
          0.00864657067499468,
          0.01102400348025518,
          0.012635093941624454,
          0.011536136607602318,
          0.010359347976201633,
          0.009353420763383177,
          0.008823924691309082,
          0.008280973794137891,
          0.007987715272444577,
          0.008139637460007258,
          0.009062553307782753,
          0.01005083054150534,
          0.011109099437431321,
          0.012051955600454084,
          0.012787593605133544,
          0.0135753321523096,
          0.01429700674844176,
          0.014453289305252361,
          0.014620640233025053,
          0.014799843296281392,
          0.015090490554484493,
          0.015412662450005148,
          0.015693557962852347,
          0.01586359056357863,
          0.016045665103246384,
          0.01579892684427363,
          0.015227032208720882,
          0.01460662365421228,
          0.013950555858337592,
          0.013248872990695406,
          0.012480850520144944,
          0.01161311681272594,
          0.010683928879415213,
          0.009688933677081795,
          0.008971524442589519,
          0.008274774858218183,
          0.007559797465512283,
          0.006794184631313975,
          0.0066561569390013505,
          0.0065595880898722345,
          0.006455685177185241,
          0.006344423772670529,
          0.006223927143555999,
          0.0060812607707142995,
          0.005921195571733732,
          0.005742184667342071,
          0.005580444682082908,
          0.005439181732241715,
          0.005247192489585805,
          0.004975247372432657,
          0.0046840425910170125,
          0.0043722141180337175,
          0.00404328085415269,
          0.003731613996741336,
          0.003325949918127389,
          0.0028915555842920523
         ]
        },
        {
         "line": {
          "color": "purple"
         },
         "mode": "lines",
         "opacity": 0.17,
         "showlegend": false,
         "type": "scatter",
         "x": [
          18875,
          16299,
          13381,
          10143,
          6978,
          4166,
          2068,
          828,
          236,
          36,
          2,
          0,
          0,
          0,
          0
         ],
         "y": [
          0.003451771586862695,
          0.00818370006963717,
          -0.007463349715410981,
          -0.015300605197264882,
          -0.025153155461620422,
          -0.012579745658878701,
          -0.06256495735290622,
          -0.13129621642166442,
          0.13663441632515105,
          0.6405044820625079,
          0.9264354548671258,
          1,
          1,
          1,
          1
         ]
        },
        {
         "line": {
          "color": "purple"
         },
         "mode": "lines",
         "opacity": 0.17,
         "showlegend": false,
         "type": "scatter",
         "x": [
          17832,
          16251,
          13996,
          11344,
          8348,
          5249,
          2704,
          1011,
          278,
          41,
          2,
          0,
          0,
          0,
          0
         ],
         "y": [
          0.0008188496003243571,
          0.0002729498667747857,
          -0.0024589681223012487,
          0.0006908290229128527,
          0.0025338469282716707,
          -0.008154688899418809,
          0.09641662612165712,
          0.07905168412665511,
          0.1561613137118265,
          0.6091836877384763,
          0.9260256752208251,
          1,
          1,
          1,
          1
         ]
        },
        {
         "line": {
          "color": "purple"
         },
         "mode": "lines",
         "opacity": 0.17,
         "showlegend": false,
         "type": "scatter",
         "x": [
          5955,
          5816,
          5560,
          5128,
          4489,
          3616,
          2626,
          1615,
          794,
          275,
          64,
          1,
          0,
          0,
          0
         ],
         "y": [
          -0.00004036606718933116,
          0.000005765072635462937,
          0.0004930333760644412,
          0.0009125462379150941,
          0.0015281173239162127,
          -0.0009903923163956613,
          0.0016852525088263948,
          0.015529131195353214,
          -0.009062025462678668,
          -0.03297273460986847,
          0.2584738463907518,
          0.9548196255362886,
          1,
          1,
          1
         ]
        },
        {
         "line": {
          "color": "purple"
         },
         "mode": "lines",
         "opacity": 0.17,
         "showlegend": false,
         "type": "scatter",
         "x": [
          6022,
          5910,
          5698,
          5320,
          4772,
          3878,
          2762,
          1713,
          887,
          334,
          61,
          6,
          0,
          0,
          0
         ],
         "y": [
          0,
          -0.00038335965705783777,
          -0.0019184210906859004,
          -0.0006630606109781982,
          0.0024942759958160544,
          0.00042942483599221694,
          0.017042011378918632,
          0.02556302108522299,
          0.036960011504244196,
          -0.012807011483356605,
          0.3458518844626827,
          0.8491474166062801,
          1,
          1,
          1
         ]
        },
        {
         "line": {
          "color": "purple"
         },
         "mode": "lines",
         "name": "neurons",
         "type": "scatter",
         "x": [
          1,
          1.0917655229568481,
          1.1919519901275635,
          1.3013321161270142,
          1.420749545097351,
          1.551125407218933,
          1.693465232849121,
          1.8488670587539673,
          2.0185294151306152,
          2.203760862350464,
          2.4059901237487793,
          2.626776933670044,
          2.8678245544433594,
          3.1309921741485596,
          3.418309211730957,
          3.731992244720459,
          4.074460506439209,
          4.448355674743652,
          4.856561660766602,
          5.302226543426514,
          5.788788318634033,
          6.3199992179870605,
          6.899957656860352,
          7.533135890960693,
          8.224418640136719,
          8.97913646697998,
          9.803112030029297,
          10.702699661254883,
          11.68483829498291,
          12.75710391998291,
          13.927766799926758,
          15.205855369567871,
          16.601228713989258,
          18.124649047851562,
          19.78786849975586,
          21.60371208190918,
          23.58618927001953,
          25.75058937072754,
          28.113605499267578,
          30.693466186523438,
          33.510066986083984,
          36.58513641357422,
          39.94239044189453,
          43.60772705078125,
          47.609413146972656,
          51.97831726074219,
          56.74813461303711,
          61.955657958984375,
          67.64105224609375,
          73.84817504882812,
          80.62489318847656,
          88.02347564697266,
          96.10099792480469,
          104.91976165771484,
          114.54777526855469,
          125.05931854248047,
          136.5354461669922,
          149.064697265625,
          162.7436981201172,
          177.67796325683594,
          193.98268127441406,
          211.7836151123047,
          231.21804809570312,
          252.43589782714844,
          275.6007995605469,
          300.8914794921875,
          328.5029296875,
          358.648193359375,
          391.5597229003906,
          427.4914245605469,
          466.72039794921875,
          509.54925537109375,
          556.3082885742188,
          607.3582763671875,
          663.0928344726562,
          723.94189453125,
          790.3748168945312,
          862.9039916992188,
          942.0888061523438,
          1028.5401611328125,
          1122.9246826171875,
          1225.970458984375,
          1338.4722900390625,
          1461.2978515625,
          1595.3946533203125,
          1741.7969970703125,
          1901.6339111328125,
          2076.138427734375,
          2266.65625,
          2474.6572265625,
          2701.74560546875,
          2949.672607421875,
          3220.35107421875,
          3515.8681640625,
          3838.503662109375,
          4190.74609375,
          4575.31201171875,
          4995.16845703125,
          5453.552734375,
          5954.00048828125
         ],
         "y": [
          0.9639770233369944,
          0.9614542826676346,
          0.9587000404739743,
          0.9556930539349419,
          0.952410130294486,
          0.9488259466154846,
          0.9449128597020507,
          0.9406406832498195,
          0.9362416035757923,
          0.9337998320306595,
          0.93113399065498,
          0.9282235186044836,
          0.925045963009792,
          0.92157681554568,
          0.9177893238571446,
          0.9136542684135858,
          0.9091397582203816,
          0.9042109699582845,
          0.898829887122816,
          0.8929550108775726,
          0.8865410206211506,
          0.8808177518351288,
          0.8754911491465609,
          0.8696757515972922,
          0.8633266956934327,
          0.8563950231180955,
          0.8488272559208816,
          0.8405650330202238,
          0.8315446240800153,
          0.8216964477657264,
          0.8109445462056255,
          0.7992059981391397,
          0.7863902532344006,
          0.7723984664057882,
          0.7571227007467816,
          0.7404451654987262,
          0.7222371912502125,
          0.7023583540391093,
          0.6806553366852045,
          0.6569607200510118,
          0.6310917743025745,
          0.6037106044133065,
          0.5778199319361214,
          0.5536036045443271,
          0.5289584477936955,
          0.5020517079535048,
          0.4726758664973067,
          0.4424767150900121,
          0.42740523136554204,
          0.41634744474632546,
          0.4042749426308855,
          0.39109460953441627,
          0.376704767316233,
          0.3609944276463221,
          0.3438424357397531,
          0.3251164645844009,
          0.3046721179008063,
          0.2823516661310694,
          0.2579829727089862,
          0.23137806695073482,
          0.20233174412859709,
          0.1706199616719209,
          0.13599815381897884,
          0.10669153102847018,
          0.077607501200952,
          0.06498217489612283,
          0.05238113074910736,
          0.04727378787480656,
          0.043803945942687696,
          0.0400156891569489,
          0.0358798030794467,
          0.031364383484560984,
          0.026434607920306403,
          0.021052439703012023,
          0.015176380173737921,
          0.008761101909073823,
          0.0017571205413273693,
          -0.0017343054846070856,
          -0.001774489255943085,
          -0.0019947117901559595,
          -0.00006359930457602511,
          0.0020447229308860303,
          0.004346516563820612,
          0.00685953428829509,
          0.009603162206075214,
          0.01125587311976465,
          0.013008848687064376,
          0.014858387684449328,
          0.015442603063910407,
          0.016080429845707827,
          0.016984909453100716,
          0.014955516945565378,
          0.012597078226958734,
          0.010022219003966031,
          0.007521888632312919,
          0.006114221909176637,
          0.0021503669277824003,
          -0.0029408198699661,
          -0.006574051713769871,
          -0.006642603632977227
         ]
        }
       ],
       "layout": {
        "height": 375,
        "plot_bgcolor": "rgba(0,0,0,0)",
        "template": {
         "data": {
          "bar": [
           {
            "error_x": {
             "color": "#2a3f5f"
            },
            "error_y": {
             "color": "#2a3f5f"
            },
            "marker": {
             "line": {
              "color": "#E5ECF6",
              "width": 0.5
             },
             "pattern": {
              "fillmode": "overlay",
              "size": 10,
              "solidity": 0.2
             }
            },
            "type": "bar"
           }
          ],
          "barpolar": [
           {
            "marker": {
             "line": {
              "color": "#E5ECF6",
              "width": 0.5
             },
             "pattern": {
              "fillmode": "overlay",
              "size": 10,
              "solidity": 0.2
             }
            },
            "type": "barpolar"
           }
          ],
          "carpet": [
           {
            "aaxis": {
             "endlinecolor": "#2a3f5f",
             "gridcolor": "white",
             "linecolor": "white",
             "minorgridcolor": "white",
             "startlinecolor": "#2a3f5f"
            },
            "baxis": {
             "endlinecolor": "#2a3f5f",
             "gridcolor": "white",
             "linecolor": "white",
             "minorgridcolor": "white",
             "startlinecolor": "#2a3f5f"
            },
            "type": "carpet"
           }
          ],
          "choropleth": [
           {
            "colorbar": {
             "outlinewidth": 0,
             "ticks": ""
            },
            "type": "choropleth"
           }
          ],
          "contour": [
           {
            "colorbar": {
             "outlinewidth": 0,
             "ticks": ""
            },
            "colorscale": [
             [
              0,
              "#0d0887"
             ],
             [
              0.1111111111111111,
              "#46039f"
             ],
             [
              0.2222222222222222,
              "#7201a8"
             ],
             [
              0.3333333333333333,
              "#9c179e"
             ],
             [
              0.4444444444444444,
              "#bd3786"
             ],
             [
              0.5555555555555556,
              "#d8576b"
             ],
             [
              0.6666666666666666,
              "#ed7953"
             ],
             [
              0.7777777777777778,
              "#fb9f3a"
             ],
             [
              0.8888888888888888,
              "#fdca26"
             ],
             [
              1,
              "#f0f921"
             ]
            ],
            "type": "contour"
           }
          ],
          "contourcarpet": [
           {
            "colorbar": {
             "outlinewidth": 0,
             "ticks": ""
            },
            "type": "contourcarpet"
           }
          ],
          "heatmap": [
           {
            "colorbar": {
             "outlinewidth": 0,
             "ticks": ""
            },
            "colorscale": [
             [
              0,
              "#0d0887"
             ],
             [
              0.1111111111111111,
              "#46039f"
             ],
             [
              0.2222222222222222,
              "#7201a8"
             ],
             [
              0.3333333333333333,
              "#9c179e"
             ],
             [
              0.4444444444444444,
              "#bd3786"
             ],
             [
              0.5555555555555556,
              "#d8576b"
             ],
             [
              0.6666666666666666,
              "#ed7953"
             ],
             [
              0.7777777777777778,
              "#fb9f3a"
             ],
             [
              0.8888888888888888,
              "#fdca26"
             ],
             [
              1,
              "#f0f921"
             ]
            ],
            "type": "heatmap"
           }
          ],
          "heatmapgl": [
           {
            "colorbar": {
             "outlinewidth": 0,
             "ticks": ""
            },
            "colorscale": [
             [
              0,
              "#0d0887"
             ],
             [
              0.1111111111111111,
              "#46039f"
             ],
             [
              0.2222222222222222,
              "#7201a8"
             ],
             [
              0.3333333333333333,
              "#9c179e"
             ],
             [
              0.4444444444444444,
              "#bd3786"
             ],
             [
              0.5555555555555556,
              "#d8576b"
             ],
             [
              0.6666666666666666,
              "#ed7953"
             ],
             [
              0.7777777777777778,
              "#fb9f3a"
             ],
             [
              0.8888888888888888,
              "#fdca26"
             ],
             [
              1,
              "#f0f921"
             ]
            ],
            "type": "heatmapgl"
           }
          ],
          "histogram": [
           {
            "marker": {
             "pattern": {
              "fillmode": "overlay",
              "size": 10,
              "solidity": 0.2
             }
            },
            "type": "histogram"
           }
          ],
          "histogram2d": [
           {
            "colorbar": {
             "outlinewidth": 0,
             "ticks": ""
            },
            "colorscale": [
             [
              0,
              "#0d0887"
             ],
             [
              0.1111111111111111,
              "#46039f"
             ],
             [
              0.2222222222222222,
              "#7201a8"
             ],
             [
              0.3333333333333333,
              "#9c179e"
             ],
             [
              0.4444444444444444,
              "#bd3786"
             ],
             [
              0.5555555555555556,
              "#d8576b"
             ],
             [
              0.6666666666666666,
              "#ed7953"
             ],
             [
              0.7777777777777778,
              "#fb9f3a"
             ],
             [
              0.8888888888888888,
              "#fdca26"
             ],
             [
              1,
              "#f0f921"
             ]
            ],
            "type": "histogram2d"
           }
          ],
          "histogram2dcontour": [
           {
            "colorbar": {
             "outlinewidth": 0,
             "ticks": ""
            },
            "colorscale": [
             [
              0,
              "#0d0887"
             ],
             [
              0.1111111111111111,
              "#46039f"
             ],
             [
              0.2222222222222222,
              "#7201a8"
             ],
             [
              0.3333333333333333,
              "#9c179e"
             ],
             [
              0.4444444444444444,
              "#bd3786"
             ],
             [
              0.5555555555555556,
              "#d8576b"
             ],
             [
              0.6666666666666666,
              "#ed7953"
             ],
             [
              0.7777777777777778,
              "#fb9f3a"
             ],
             [
              0.8888888888888888,
              "#fdca26"
             ],
             [
              1,
              "#f0f921"
             ]
            ],
            "type": "histogram2dcontour"
           }
          ],
          "mesh3d": [
           {
            "colorbar": {
             "outlinewidth": 0,
             "ticks": ""
            },
            "type": "mesh3d"
           }
          ],
          "parcoords": [
           {
            "line": {
             "colorbar": {
              "outlinewidth": 0,
              "ticks": ""
             }
            },
            "type": "parcoords"
           }
          ],
          "pie": [
           {
            "automargin": true,
            "type": "pie"
           }
          ],
          "scatter": [
           {
            "fillpattern": {
             "fillmode": "overlay",
             "size": 10,
             "solidity": 0.2
            },
            "type": "scatter"
           }
          ],
          "scatter3d": [
           {
            "line": {
             "colorbar": {
              "outlinewidth": 0,
              "ticks": ""
             }
            },
            "marker": {
             "colorbar": {
              "outlinewidth": 0,
              "ticks": ""
             }
            },
            "type": "scatter3d"
           }
          ],
          "scattercarpet": [
           {
            "marker": {
             "colorbar": {
              "outlinewidth": 0,
              "ticks": ""
             }
            },
            "type": "scattercarpet"
           }
          ],
          "scattergeo": [
           {
            "marker": {
             "colorbar": {
              "outlinewidth": 0,
              "ticks": ""
             }
            },
            "type": "scattergeo"
           }
          ],
          "scattergl": [
           {
            "marker": {
             "colorbar": {
              "outlinewidth": 0,
              "ticks": ""
             }
            },
            "type": "scattergl"
           }
          ],
          "scattermapbox": [
           {
            "marker": {
             "colorbar": {
              "outlinewidth": 0,
              "ticks": ""
             }
            },
            "type": "scattermapbox"
           }
          ],
          "scatterpolar": [
           {
            "marker": {
             "colorbar": {
              "outlinewidth": 0,
              "ticks": ""
             }
            },
            "type": "scatterpolar"
           }
          ],
          "scatterpolargl": [
           {
            "marker": {
             "colorbar": {
              "outlinewidth": 0,
              "ticks": ""
             }
            },
            "type": "scatterpolargl"
           }
          ],
          "scatterternary": [
           {
            "marker": {
             "colorbar": {
              "outlinewidth": 0,
              "ticks": ""
             }
            },
            "type": "scatterternary"
           }
          ],
          "surface": [
           {
            "colorbar": {
             "outlinewidth": 0,
             "ticks": ""
            },
            "colorscale": [
             [
              0,
              "#0d0887"
             ],
             [
              0.1111111111111111,
              "#46039f"
             ],
             [
              0.2222222222222222,
              "#7201a8"
             ],
             [
              0.3333333333333333,
              "#9c179e"
             ],
             [
              0.4444444444444444,
              "#bd3786"
             ],
             [
              0.5555555555555556,
              "#d8576b"
             ],
             [
              0.6666666666666666,
              "#ed7953"
             ],
             [
              0.7777777777777778,
              "#fb9f3a"
             ],
             [
              0.8888888888888888,
              "#fdca26"
             ],
             [
              1,
              "#f0f921"
             ]
            ],
            "type": "surface"
           }
          ],
          "table": [
           {
            "cells": {
             "fill": {
              "color": "#EBF0F8"
             },
             "line": {
              "color": "white"
             }
            },
            "header": {
             "fill": {
              "color": "#C8D4E3"
             },
             "line": {
              "color": "white"
             }
            },
            "type": "table"
           }
          ]
         },
         "layout": {
          "annotationdefaults": {
           "arrowcolor": "#2a3f5f",
           "arrowhead": 0,
           "arrowwidth": 1
          },
          "autotypenumbers": "strict",
          "coloraxis": {
           "colorbar": {
            "outlinewidth": 0,
            "ticks": ""
           }
          },
          "colorscale": {
           "diverging": [
            [
             0,
             "#8e0152"
            ],
            [
             0.1,
             "#c51b7d"
            ],
            [
             0.2,
             "#de77ae"
            ],
            [
             0.3,
             "#f1b6da"
            ],
            [
             0.4,
             "#fde0ef"
            ],
            [
             0.5,
             "#f7f7f7"
            ],
            [
             0.6,
             "#e6f5d0"
            ],
            [
             0.7,
             "#b8e186"
            ],
            [
             0.8,
             "#7fbc41"
            ],
            [
             0.9,
             "#4d9221"
            ],
            [
             1,
             "#276419"
            ]
           ],
           "sequential": [
            [
             0,
             "#0d0887"
            ],
            [
             0.1111111111111111,
             "#46039f"
            ],
            [
             0.2222222222222222,
             "#7201a8"
            ],
            [
             0.3333333333333333,
             "#9c179e"
            ],
            [
             0.4444444444444444,
             "#bd3786"
            ],
            [
             0.5555555555555556,
             "#d8576b"
            ],
            [
             0.6666666666666666,
             "#ed7953"
            ],
            [
             0.7777777777777778,
             "#fb9f3a"
            ],
            [
             0.8888888888888888,
             "#fdca26"
            ],
            [
             1,
             "#f0f921"
            ]
           ],
           "sequentialminus": [
            [
             0,
             "#0d0887"
            ],
            [
             0.1111111111111111,
             "#46039f"
            ],
            [
             0.2222222222222222,
             "#7201a8"
            ],
            [
             0.3333333333333333,
             "#9c179e"
            ],
            [
             0.4444444444444444,
             "#bd3786"
            ],
            [
             0.5555555555555556,
             "#d8576b"
            ],
            [
             0.6666666666666666,
             "#ed7953"
            ],
            [
             0.7777777777777778,
             "#fb9f3a"
            ],
            [
             0.8888888888888888,
             "#fdca26"
            ],
            [
             1,
             "#f0f921"
            ]
           ]
          },
          "colorway": [
           "#636efa",
           "#EF553B",
           "#00cc96",
           "#ab63fa",
           "#FFA15A",
           "#19d3f3",
           "#FF6692",
           "#B6E880",
           "#FF97FF",
           "#FECB52"
          ],
          "font": {
           "color": "#2a3f5f"
          },
          "geo": {
           "bgcolor": "white",
           "lakecolor": "white",
           "landcolor": "#E5ECF6",
           "showlakes": true,
           "showland": true,
           "subunitcolor": "white"
          },
          "hoverlabel": {
           "align": "left"
          },
          "hovermode": "closest",
          "mapbox": {
           "style": "light"
          },
          "paper_bgcolor": "white",
          "plot_bgcolor": "#E5ECF6",
          "polar": {
           "angularaxis": {
            "gridcolor": "white",
            "linecolor": "white",
            "ticks": ""
           },
           "bgcolor": "#E5ECF6",
           "radialaxis": {
            "gridcolor": "white",
            "linecolor": "white",
            "ticks": ""
           }
          },
          "scene": {
           "xaxis": {
            "backgroundcolor": "#E5ECF6",
            "gridcolor": "white",
            "gridwidth": 2,
            "linecolor": "white",
            "showbackground": true,
            "ticks": "",
            "zerolinecolor": "white"
           },
           "yaxis": {
            "backgroundcolor": "#E5ECF6",
            "gridcolor": "white",
            "gridwidth": 2,
            "linecolor": "white",
            "showbackground": true,
            "ticks": "",
            "zerolinecolor": "white"
           },
           "zaxis": {
            "backgroundcolor": "#E5ECF6",
            "gridcolor": "white",
            "gridwidth": 2,
            "linecolor": "white",
            "showbackground": true,
            "ticks": "",
            "zerolinecolor": "white"
           }
          },
          "shapedefaults": {
           "line": {
            "color": "#2a3f5f"
           }
          },
          "ternary": {
           "aaxis": {
            "gridcolor": "white",
            "linecolor": "white",
            "ticks": ""
           },
           "baxis": {
            "gridcolor": "white",
            "linecolor": "white",
            "ticks": ""
           },
           "bgcolor": "#E5ECF6",
           "caxis": {
            "gridcolor": "white",
            "linecolor": "white",
            "ticks": ""
           }
          },
          "title": {
           "x": 0.05
          },
          "xaxis": {
           "automargin": true,
           "gridcolor": "white",
           "linecolor": "white",
           "ticks": "",
           "title": {
            "standoff": 15
           },
           "zerolinecolor": "white",
           "zerolinewidth": 2
          },
          "yaxis": {
           "automargin": true,
           "gridcolor": "white",
           "linecolor": "white",
           "ticks": "",
           "title": {
            "standoff": 15
           },
           "zerolinecolor": "white",
           "zerolinewidth": 2
          }
         }
        },
        "width": 800,
        "xaxis": {
         "gridcolor": "rgb(200,200,200)",
         "mirror": true,
         "range": [
          0,
          300
         ],
         "showline": true,
         "ticks": "outside",
         "title": {
          "text": "Nodes"
         }
        },
        "yaxis": {
         "gridcolor": "rgb(200,200,200)",
         "mirror": true,
         "range": [
          -0.15,
          1
         ],
         "showline": true,
         "ticks": "outside",
         "title": {
          "text": "Faithfulness"
         }
        }
       }
      },
      "text/html": [
       "<div>                            <div id=\"0063b231-efde-4d19-b9cf-82c3043140e7\" class=\"plotly-graph-div\" style=\"height:375px; width:800px;\"></div>            <script type=\"text/javascript\">                require([\"plotly\"], function(Plotly) {                    window.PLOTLYENV=window.PLOTLYENV || {};                                    if (document.getElementById(\"0063b231-efde-4d19-b9cf-82c3043140e7\")) {                    Plotly.newPlot(                        \"0063b231-efde-4d19-b9cf-82c3043140e7\",                        [{\"line\":{\"color\":\"blue\"},\"mode\":\"lines\",\"opacity\":0.17,\"showlegend\":false,\"x\":[11022,6798,3832,2017,1006,560,311,198,128,84,51,32,12,4,0],\"y\":[0.007275108395662911,0.008694642024176759,0.02023046319050753,0.028033672443120307,0.03220143906070116,0.04643479701395637,0.06465002798931126,0.04407101994799533,0.030936110436316396,-0.006212571671037796,0.006075264971187182,0.08680488912701075,0.34561623601194563,0.5622936695967427,0.9997951136207607],\"type\":\"scatter\"},{\"line\":{\"color\":\"blue\"},\"mode\":\"lines\",\"opacity\":0.17,\"showlegend\":false,\"x\":[13181,8678,5122,2668,1306,609,322,183,124,84,49,32,14,4,1],\"y\":[0.003096513996830628,0.001910562856696692,-0.0029226065361946697,-0.0035433587978190694,-0.0039467271022058485,0.005060215449031268,0.012576869909693504,0.004369417393053233,-0.0007415211267564106,-0.03334428513717759,0.0846420694700341,0.09756674987831158,0.1726439237556611,0.46105205057741694,0.6808755388907036],\"type\":\"scatter\"},{\"line\":{\"color\":\"blue\"},\"mode\":\"lines\",\"opacity\":0.17,\"showlegend\":false,\"x\":[4384,3548,2633,1794,1121,656,382,246,145,92,60,34,21,9,4],\"y\":[-0.00015136989384373172,-0.00020182652512497562,-0.00015569193229332488,-0.00039211940204203857,-0.00016434304834308058,4.901712498980775e-05,4.469156696492991e-05,0.0022301859182912087,0.0005348416994112993,0.006666043913015795,0.004773198727035788,-0.0049173570111212,0.025915968499956064,0.21716678757991578,0.46396747340857925],\"type\":\"scatter\"},{\"line\":{\"color\":\"blue\"},\"mode\":\"lines\",\"opacity\":0.17,\"showlegend\":false,\"x\":[6735,5113,3542,2292,1384,783,454,248,147,84,56,30,20,12,4],\"y\":[0.0016979445000554325,0.002020424853666335,0.00224254031707368,0.0028924337100062823,0.002754230139513062,0.004126408506713755,0.0046841635080875155,0.007637476521540733,-0.004749983530935331,0.004414335959278832,0.011107420076834212,-0.00282991553378247,-0.029118519423052512,0.08399090576240523,0.26232001722423154],\"type\":\"scatter\"},{\"line\":{\"color\":\"blue\"},\"mode\":\"lines\",\"name\":\"features\",\"x\":[5.0,5.354208469390869,5.733509540557861,6.139681339263916,6.574626445770264,7.040384292602539,7.53913688659668,8.073222160339355,8.645142555236816,9.25757884979248,9.91340160369873,10.615683555603027,11.367716789245605,12.17302417755127,13.035382270812988,13.958830833435059,14.947697639465332,16.006616592407227,17.140552520751953,18.35481834411621,19.655105590820312,21.04750633239746,22.538545608520508,24.135215759277344,25.844993591308594,27.6758975982666,29.636503219604492,31.736003875732422,33.98423385620117,36.3917350769043,38.96978759765625,41.730472564697266,44.686729431152344,47.852413177490234,51.24235916137695,54.87245178222656,58.75971221923828,62.92234802246094,67.37987518310547,72.1531753540039,77.2646255493164,82.7381820678711,88.59949493408203,94.87602996826172,101.59721374511719,108.79452514648438,116.50171661376953,124.75489044189453,133.59274291992188,143.05667114257812,153.19107055664062,164.0433807373047,175.66448974609375,188.10885620117188,201.434814453125,215.7047882080078,230.9856719970703,247.34909057617188,264.8717041015625,283.63568115234375,303.7289123535156,325.2455749511719,348.2865295410156,372.959716796875,399.38079833984375,427.6736145019531,457.9707336425781,490.4141540527344,525.1559448242188,562.3588256835938,602.197265625,644.8579711914062,690.540771484375,739.4598388671875,791.8444213867188,847.9400024414062,908.009521484375,972.33447265625,1041.21630859375,1114.977783203125,1193.9647216796875,1278.547119140625,1369.12158203125,1466.1124267578125,1569.9742431640625,1681.1939697265625,1800.29248046875,1927.8282470703125,2064.39892578125,2210.644287109375,2367.250244140625,2534.9501953125,2714.5302734375,2906.83203125,3112.757080078125,3333.27001953125,3569.404296875,3822.26708984375,4093.042724609375,4383.0009765625],\"y\":[0.40551411070705856,0.394216917778163,0.38211941659057364,0.36916489525981655,0.3552926725257548,0.3404377023358556,0.3245303913451597,0.3074961730828774,0.28925523420234234,0.2718743101534481,0.25643719362202155,0.23990649494636374,0.2222047232495166,0.2042134167475581,0.18872166531866286,0.17213245985831588,0.1602129461588645,0.14772094072712041,0.13434396439028323,0.12001934094397887,0.10467992775892987,0.09280599776196634,0.08652333404340537,0.07979558261035634,0.0725912390869359,0.06487651663737538,0.05661528167137594,0.04686051552336715,0.04221452113206955,0.03973575127093776,0.037092965234897315,0.034262960949850874,0.03123247405994943,0.027987301693599906,0.023283549183638595,0.020711054701011096,0.0174215597696301,0.013435985297632541,0.009063948275223029,0.004382194398209284,-0.0006312241827057142,-0.005999804312660946,-0.005428620824453592,-0.00308601269087327,-0.0007366079796280048,0.001779228199840735,0.004473294088362033,0.007220735654273178,0.007782444616907518,0.007813484389035357,0.008532965591036083,0.009655369425217532,0.01085728653703632,0.012109124203746038,0.013390739005902756,0.014748510034724053,0.016202467950832668,0.017748346537687594,0.01869388339414693,0.019682535081714275,0.020741223593321274,0.02089663818233741,0.020149245754380922,0.019348907675649136,0.01856176729921441,0.017757793995515893,0.016909414766457277,0.016090027885534344,0.015212593656404405,0.014297322049041874,0.01370190360231171,0.013183244870257727,0.01264790888279586,0.012073232819152771,0.011456545855918198,0.01078931978463781,0.010074825907559176,0.009309716006765549,0.008735078036842338,0.008370201035752782,0.007981671206012512,0.007565811897232685,0.00732908665346918,0.007222734022944089,0.007118547537850991,0.007006980142011907,0.006888485054641398,0.006780326502888656,0.006662409914890074,0.006531917858580972,0.006379536909772641,0.006201722639181724,0.0060040377223294986,0.005782089350721209,0.005544417424158149,0.0052899086334590095,0.005020556310534013,0.0047596421447331306,0.004506997465292678,0.004237522754699116],\"type\":\"scatter\"},{\"line\":{\"color\":\"red\"},\"mode\":\"lines\",\"opacity\":0.17,\"showlegend\":false,\"x\":[10979,6757,3792,1977,967,524,279,171,106,66,37,21,5,2,0],\"y\":[-0.1087337192480645,-0.1317610029679232,-0.12493161514829054,-0.11603417864573981,-0.14821872004681608,-0.12400004431090844,-0.10898298873694272,-0.13736097968200445,-0.15687111598796988,-0.17524900337588062,-0.15319553851038772,-0.05303182331879298,0.5610072092280232,0.7121811759999578,0.9997951136207607],\"type\":\"scatter\"},{\"line\":{\"color\":\"red\"},\"mode\":\"lines\",\"opacity\":0.17,\"showlegend\":false,\"x\":[13142,8639,5083,2631,1270,573,287,151,96,59,33,22,8,2,0],\"y\":[-0.03719922672249966,-0.049172250832303796,-0.07194925879620111,-0.04977609515796386,-0.09432531176909323,-0.0729250747646181,-0.09299203057433653,-0.13044727933007777,-0.1427536266870297,-0.13482394771999565,-0.05194752289118776,0.011130058684277614,0.42393256049564476,0.6609800949189912,0.999823752937448],\"type\":\"scatter\"},{\"line\":{\"color\":\"red\"},\"mode\":\"lines\",\"opacity\":0.17,\"showlegend\":false,\"x\":[4372,3536,2621,1782,1109,644,371,235,134,83,52,27,16,6,3],\"y\":[-0.013046639711717782,-0.007967822184411659,-0.01339983613068649,-0.010783302913820127,-0.004463247329590005,0.01950076823705505,0.017498360432250445,0.011749186998346796,-0.009568018205045395,0.007283057136598634,-0.009112465497647479,-0.04288381103103244,0.09452112959600263,0.4718444799919202,0.5391334659938689],\"type\":\"scatter\"},{\"line\":{\"color\":\"red\"},\"mode\":\"lines\",\"opacity\":0.17,\"showlegend\":false,\"x\":[6723,5101,3530,2281,1373,772,443,237,137,75,48,22,15,8,4],\"y\":[-0.04065700320865582,-0.03746512173450582,-0.0480049134048546,-0.032175483105953126,-0.01359346957400555,-0.01747473002784477,-0.0166981453423075,-0.030183023527464777,-0.065867935775468,-0.06892160564543469,-0.07701484143905883,-0.0281148865883971,-0.013058747162098979,0.09063627151823889,0.26232001722423154],\"type\":\"scatter\"},{\"line\":{\"color\":\"red\"},\"mode\":\"lines\",\"name\":\"features_wo_errs\",\"x\":[5.0,5.354060173034668,5.733191967010498,6.139171123504639,6.5738983154296875,7.039409160614014,7.53788423538208,8.071657180786133,8.643227577209473,9.255271911621094,9.910656929016113,10.61245059967041,11.36393928527832,12.1686429977417,13.030328750610352,13.953033447265625,14.941075325012207,15.999083518981934,17.13201141357422,18.345163345336914,19.644222259521484,21.035268783569336,22.524818420410156,24.11984634399414,25.827821731567383,27.656742095947266,29.61517333984375,31.712284088134766,33.95789337158203,36.36252212524414,38.93742752075195,41.694664001464844,44.64714813232422,47.8087043762207,51.19413375854492,54.81929397583008,58.7011604309082,62.857906341552734,67.30900573730469,72.07528686523438,77.17908477783203,82.64429473876953,88.49650573730469,94.76312255859375,101.4734878540039,108.6590347290039,116.35340118408203,124.59262084960938,133.415283203125,142.86268615722656,152.97909545898438,163.81185913085938,175.41171264648438,187.83297729492188,201.13380432128906,215.37649536132812,230.62774658203125,246.95895385742188,264.4466247558594,283.1726379394531,303.22467041015625,324.69659423828125,347.68902587890625,372.3096008300781,398.673583984375,426.90447998046875,457.13446044921875,489.50506591796875,524.1679077148438,561.2853393554688,601.0310668945312,643.59130859375,689.165283203125,737.9664916992188,790.223388671875,846.1807250976562,906.1004638671875,970.2633056640625,1038.9696044921875,1112.5411376953125,1191.3223876953125,1275.682373046875,1366.01611328125,1462.7464599609375,1566.326416015625,1677.2412109375,1796.010009765625,1923.189208984375,2059.3740234375,2205.20263671875,2361.357421875,2528.56982421875,2707.623046875,2899.35546875,3104.66455078125,3324.51220703125,3559.927734375,3812.013427734375,4081.94970703125,4371.0009765625],\"y\":[0.45428418993141106,0.44160565270348734,0.42802932604970867,0.4129591999076707,0.3957289361798147,0.3772785728722305,0.3575216835872894,0.33704883643858596,0.31984324694178534,0.30141929839996945,0.28169069516541645,0.26056508424453984,0.2379435385574826,0.213720097613313,0.1877813656008196,0.1600058224013043,0.13026347909497837,0.10157776099785838,0.07820376296809624,0.05318081572246509,0.02638591738571995,-0.0020231697384938364,-0.017635406115287678,-0.028149305236079,-0.039407716866509616,-0.04919066713871747,-0.05532274619883282,-0.06188904713301966,-0.06831043076767274,-0.0743085972514078,-0.07806765565736579,-0.08115433556198245,-0.08445959192978844,-0.08799890101466881,-0.09004761660109872,-0.09270908264593408,-0.0957363385443208,-0.09611033838968051,-0.09587374447299328,-0.09459427343628404,-0.09336066205317031,-0.09223582332775893,-0.09221212112658529,-0.09226856605645241,-0.09172956876314824,-0.09111324246215925,-0.09064629596254392,-0.09014628406359926,-0.08961086489331226,-0.08738696691281733,-0.08460008949641011,-0.081503346995739,-0.07822856386121262,-0.07479384825515922,-0.07111591694511125,-0.06717754234542242,-0.06296028169908563,-0.059674506254379825,-0.05685068755122856,-0.054164946989269616,-0.05338402635000519,-0.052758098381391914,-0.05208784609540693,-0.05138157068448777,-0.050843313865504766,-0.050266941464302536,-0.0498894083742341,-0.04977736995274958,-0.049657119763085705,-0.049467181777657125,-0.049970650378386335,-0.05082609700565373,-0.052406842601791695,-0.05410596656357846,-0.055885232618544396,-0.05771014913058696,-0.059664290046905044,-0.06168621174638214,-0.06244052074358062,-0.0632109339130242,-0.06324580124164532,-0.06319302078803057,-0.061800396885383704,-0.060913216113938434,-0.06001354784152243,-0.059050171086660164,-0.05799660799303458,-0.05669253837920204,-0.0560533101033063,-0.05589847168378565,-0.05557615114007895,-0.055072916070586966,-0.05513819022342679,-0.05612954816151738,-0.057191104606918494,-0.058327833163636676,-0.05947188971497294,-0.06029777938748922,-0.06102069536449568,-0.06179480317046545],\"type\":\"scatter\"},{\"line\":{\"color\":\"green\"},\"mode\":\"lines\",\"opacity\":0.17,\"showlegend\":false,\"x\":[10994,6772,3807,1992,982,539,293,183,116,75,44,27,11,4,0],\"y\":[0.002951024244173074,0.0035530584861908398,0.017057636857170017,0.023325130434563763,0.026385999780755898,0.0384140094424318,0.025898034411009834,0.022564666128857113,0.045889796563420876,0.0008787582375381553,0.012477951751671271,0.06470072870402888,0.349158736361812,0.5622936695967427,0.9997951136207607],\"type\":\"scatter\"},{\"line\":{\"color\":\"green\"},\"mode\":\"lines\",\"opacity\":0.17,\"showlegend\":false,\"x\":[13155,8652,5096,2644,1283,586,299,163,108,69,41,28,14,4,1],\"y\":[0.002929853110371384,-0.0002705225527415671,-0.0053887061724986135,-0.0022704546644818097,-0.00281391455757586,0.019523495179509718,0.02836860641950942,0.010849875138305744,0.00971464780606484,-0.008816127154636814,0.0590970367585442,0.06891796322984624,0.1726439237556611,0.46105205057741694,0.6808755388907036],\"type\":\"scatter\"},{\"line\":{\"color\":\"green\"},\"mode\":\"lines\",\"opacity\":0.17,\"showlegend\":false,\"x\":[4376,3540,2625,1786,1113,648,375,239,138,87,56,31,20,9,4],\"y\":[-0.0001917323832084991,-0.0001859673188921851,0.00017299416439283625,-1.8738218815662847e-05,-0.0004915896387378056,-8.072849830481944e-05,0.0003777067412512536,0.002852964206190362,-0.00017587669655099326,0.004964934629819571,0.0036631528388484215,0.003916879021121362,0.026465226379733434,0.21716678757991578,0.46396747340857925],\"type\":\"scatter\"},{\"line\":{\"color\":\"green\"},\"mode\":\"lines\",\"opacity\":0.17,\"showlegend\":false,\"x\":[6727,5105,3534,2285,1377,776,447,241,141,79,52,26,18,11,4],\"y\":[0.0014824166625159267,0.0016337794173646605,0.0019036069661733446,0.0025913470730856924,0.004480147948436564,0.0056186985743413576,0.004758201995889964,-0.0008522700798066772,-0.009679303125587464,-0.0031737815703936027,0.004381429964699966,-0.0051645942424149915,-0.0042234876176734755,0.08718772324871582,0.26232001722423154],\"type\":\"scatter\"},{\"line\":{\"color\":\"green\"},\"mode\":\"lines\",\"name\":\"features_wo_some_errs\",\"x\":[5.0,5.354109764099121,5.733298301696777,6.139341354370117,6.574141025543213,7.039734363555908,7.538301944732666,8.072178840637207,8.643866539001465,9.256041526794434,9.911572456359863,10.61352825164795,11.365199089050293,12.170104026794434,13.032014846801758,13.95496654510498,14.943284034729004,16.001596450805664,17.13486099243164,18.348384857177734,19.647851943969727,21.039350509643555,22.52939796447754,24.12497329711914,25.83354949951172,27.663131713867188,29.62228775024414,31.72019386291504,33.966678619384766,36.37226486206055,38.948219299316406,41.706607818603516,44.66034698486328,47.823280334472656,51.2102165222168,54.83702087402344,58.72068405151367,62.879398345947266,67.33263397216797,72.10126495361328,77.20761108398438,82.67560577392578,88.53085327148438,94.80077362060547,101.5147476196289,108.70421600341797,116.4028549194336,124.646728515625,133.47445678710938,142.9273681640625,153.04978942871094,163.88906860351562,175.49600219726562,187.92495727539062,201.2341766357422,215.4859619140625,230.74708557128906,247.0890350341797,264.5883483886719,283.3270263671875,303.3927917480469,324.879638671875,347.88824462890625,372.5263671875,398.9093933105469,427.1609191894531,457.41326904296875,489.80816650390625,524.497314453125,561.6431884765625,601.4198608398438,644.0135498046875,689.6238403320312,738.46435546875,790.7637939453125,846.7672119140625,906.7368774414062,970.9537353515625,1039.718505859375,1113.3533935546875,1192.2032470703125,1276.6373291015625,1367.05126953125,1463.868408203125,1567.54248046875,1678.558837890625,1797.4375,1924.735595703125,2061.049072265625,2207.016357421875,2363.321533203125,2530.696533203125,2709.92529296875,2901.847412109375,3107.36181640625,3327.43115234375,3563.086181640625,3815.430908203125,4085.64697265625,4375.00048828125],\"y\":[0.40399137855367817,0.3921581194266888,0.3794868048279724,0.36591809493593896,0.35138842730474423,0.3358297300445299,0.31916913500166216,0.30132861126681604,0.2822245668141961,0.26381740656400093,0.24715969946204586,0.22932228934292231,0.212470225978831,0.19697285028937583,0.1803779020388461,0.16260769273697154,0.1486330242763143,0.13392701321935763,0.11817948855042157,0.10244382429632509,0.08859093125747597,0.0777289903842773,0.06753888709796252,0.05662710211556709,0.044942529306535535,0.035070111346739645,0.031810993488496676,0.029288331409871263,0.02733929347371331,0.02525221995488708,0.023017335918586814,0.02032916178373779,0.01697868165150209,0.01504721114351239,0.012978951513609416,0.010305342357717392,0.007341057305302797,0.004183067572120176,0.0008014281058380992,-0.0005708157307451644,6.688412271451218e-05,0.002052741633470346,0.0042085123471741585,0.006351649950890468,0.00864657067499468,0.01102400348025518,0.012635093941624454,0.011536136607602318,0.010359347976201633,0.009353420763383177,0.008823924691309082,0.008280973794137891,0.007987715272444577,0.008139637460007258,0.009062553307782753,0.01005083054150534,0.011109099437431321,0.012051955600454084,0.012787593605133544,0.0135753321523096,0.01429700674844176,0.014453289305252361,0.014620640233025053,0.014799843296281392,0.015090490554484493,0.015412662450005148,0.015693557962852347,0.01586359056357863,0.016045665103246384,0.01579892684427363,0.015227032208720882,0.01460662365421228,0.013950555858337592,0.013248872990695406,0.012480850520144944,0.01161311681272594,0.010683928879415213,0.009688933677081795,0.008971524442589519,0.008274774858218183,0.007559797465512283,0.006794184631313975,0.0066561569390013505,0.0065595880898722345,0.006455685177185241,0.006344423772670529,0.006223927143555999,0.0060812607707142995,0.005921195571733732,0.005742184667342071,0.005580444682082908,0.005439181732241715,0.005247192489585805,0.004975247372432657,0.0046840425910170125,0.0043722141180337175,0.00404328085415269,0.003731613996741336,0.003325949918127389,0.0028915555842920523],\"type\":\"scatter\"},{\"line\":{\"color\":\"purple\"},\"mode\":\"lines\",\"opacity\":0.17,\"showlegend\":false,\"x\":[18875,16299,13381,10143,6978,4166,2068,828,236,36,2,0,0,0,0],\"y\":[0.003451771586862695,0.00818370006963717,-0.007463349715410981,-0.015300605197264882,-0.025153155461620422,-0.012579745658878701,-0.06256495735290622,-0.13129621642166442,0.13663441632515105,0.6405044820625079,0.9264354548671258,1.0,1.0,1.0,1.0],\"type\":\"scatter\"},{\"line\":{\"color\":\"purple\"},\"mode\":\"lines\",\"opacity\":0.17,\"showlegend\":false,\"x\":[17832,16251,13996,11344,8348,5249,2704,1011,278,41,2,0,0,0,0],\"y\":[0.0008188496003243571,0.0002729498667747857,-0.0024589681223012487,0.0006908290229128527,0.0025338469282716707,-0.008154688899418809,0.09641662612165712,0.07905168412665511,0.1561613137118265,0.6091836877384763,0.9260256752208251,1.0,1.0,1.0,1.0],\"type\":\"scatter\"},{\"line\":{\"color\":\"purple\"},\"mode\":\"lines\",\"opacity\":0.17,\"showlegend\":false,\"x\":[5955,5816,5560,5128,4489,3616,2626,1615,794,275,64,1,0,0,0],\"y\":[-4.036606718933116e-05,5.765072635462937e-06,0.0004930333760644412,0.0009125462379150941,0.0015281173239162127,-0.0009903923163956613,0.0016852525088263948,0.015529131195353214,-0.009062025462678668,-0.03297273460986847,0.2584738463907518,0.9548196255362886,1.0,1.0,1.0],\"type\":\"scatter\"},{\"line\":{\"color\":\"purple\"},\"mode\":\"lines\",\"opacity\":0.17,\"showlegend\":false,\"x\":[6022,5910,5698,5320,4772,3878,2762,1713,887,334,61,6,0,0,0],\"y\":[0.0,-0.00038335965705783777,-0.0019184210906859004,-0.0006630606109781982,0.0024942759958160544,0.00042942483599221694,0.017042011378918632,0.02556302108522299,0.036960011504244196,-0.012807011483356605,0.3458518844626827,0.8491474166062801,1.0,1.0,1.0],\"type\":\"scatter\"},{\"line\":{\"color\":\"purple\"},\"mode\":\"lines\",\"name\":\"neurons\",\"x\":[1.0,1.0917655229568481,1.1919519901275635,1.3013321161270142,1.420749545097351,1.551125407218933,1.693465232849121,1.8488670587539673,2.0185294151306152,2.203760862350464,2.4059901237487793,2.626776933670044,2.8678245544433594,3.1309921741485596,3.418309211730957,3.731992244720459,4.074460506439209,4.448355674743652,4.856561660766602,5.302226543426514,5.788788318634033,6.3199992179870605,6.899957656860352,7.533135890960693,8.224418640136719,8.97913646697998,9.803112030029297,10.702699661254883,11.68483829498291,12.75710391998291,13.927766799926758,15.205855369567871,16.601228713989258,18.124649047851562,19.78786849975586,21.60371208190918,23.58618927001953,25.75058937072754,28.113605499267578,30.693466186523438,33.510066986083984,36.58513641357422,39.94239044189453,43.60772705078125,47.609413146972656,51.97831726074219,56.74813461303711,61.955657958984375,67.64105224609375,73.84817504882812,80.62489318847656,88.02347564697266,96.10099792480469,104.91976165771484,114.54777526855469,125.05931854248047,136.5354461669922,149.064697265625,162.7436981201172,177.67796325683594,193.98268127441406,211.7836151123047,231.21804809570312,252.43589782714844,275.6007995605469,300.8914794921875,328.5029296875,358.648193359375,391.5597229003906,427.4914245605469,466.72039794921875,509.54925537109375,556.3082885742188,607.3582763671875,663.0928344726562,723.94189453125,790.3748168945312,862.9039916992188,942.0888061523438,1028.5401611328125,1122.9246826171875,1225.970458984375,1338.4722900390625,1461.2978515625,1595.3946533203125,1741.7969970703125,1901.6339111328125,2076.138427734375,2266.65625,2474.6572265625,2701.74560546875,2949.672607421875,3220.35107421875,3515.8681640625,3838.503662109375,4190.74609375,4575.31201171875,4995.16845703125,5453.552734375,5954.00048828125],\"y\":[0.9639770233369944,0.9614542826676346,0.9587000404739743,0.9556930539349419,0.952410130294486,0.9488259466154846,0.9449128597020507,0.9406406832498195,0.9362416035757923,0.9337998320306595,0.93113399065498,0.9282235186044836,0.925045963009792,0.92157681554568,0.9177893238571446,0.9136542684135858,0.9091397582203816,0.9042109699582845,0.898829887122816,0.8929550108775726,0.8865410206211506,0.8808177518351288,0.8754911491465609,0.8696757515972922,0.8633266956934327,0.8563950231180955,0.8488272559208816,0.8405650330202238,0.8315446240800153,0.8216964477657264,0.8109445462056255,0.7992059981391397,0.7863902532344006,0.7723984664057882,0.7571227007467816,0.7404451654987262,0.7222371912502125,0.7023583540391093,0.6806553366852045,0.6569607200510118,0.6310917743025745,0.6037106044133065,0.5778199319361214,0.5536036045443271,0.5289584477936955,0.5020517079535048,0.4726758664973067,0.4424767150900121,0.42740523136554204,0.41634744474632546,0.4042749426308855,0.39109460953441627,0.376704767316233,0.3609944276463221,0.3438424357397531,0.3251164645844009,0.3046721179008063,0.2823516661310694,0.2579829727089862,0.23137806695073482,0.20233174412859709,0.1706199616719209,0.13599815381897884,0.10669153102847018,0.077607501200952,0.06498217489612283,0.05238113074910736,0.04727378787480656,0.043803945942687696,0.0400156891569489,0.0358798030794467,0.031364383484560984,0.026434607920306403,0.021052439703012023,0.015176380173737921,0.008761101909073823,0.0017571205413273693,-0.0017343054846070856,-0.001774489255943085,-0.0019947117901559595,-6.359930457602511e-05,0.0020447229308860303,0.004346516563820612,0.00685953428829509,0.009603162206075214,0.01125587311976465,0.013008848687064376,0.014858387684449328,0.015442603063910407,0.016080429845707827,0.016984909453100716,0.014955516945565378,0.012597078226958734,0.010022219003966031,0.007521888632312919,0.006114221909176637,0.0021503669277824003,-0.0029408198699661,-0.006574051713769871,-0.006642603632977227],\"type\":\"scatter\"}],                        {\"template\":{\"data\":{\"histogram2dcontour\":[{\"type\":\"histogram2dcontour\",\"colorbar\":{\"outlinewidth\":0,\"ticks\":\"\"},\"colorscale\":[[0.0,\"#0d0887\"],[0.1111111111111111,\"#46039f\"],[0.2222222222222222,\"#7201a8\"],[0.3333333333333333,\"#9c179e\"],[0.4444444444444444,\"#bd3786\"],[0.5555555555555556,\"#d8576b\"],[0.6666666666666666,\"#ed7953\"],[0.7777777777777778,\"#fb9f3a\"],[0.8888888888888888,\"#fdca26\"],[1.0,\"#f0f921\"]]}],\"choropleth\":[{\"type\":\"choropleth\",\"colorbar\":{\"outlinewidth\":0,\"ticks\":\"\"}}],\"histogram2d\":[{\"type\":\"histogram2d\",\"colorbar\":{\"outlinewidth\":0,\"ticks\":\"\"},\"colorscale\":[[0.0,\"#0d0887\"],[0.1111111111111111,\"#46039f\"],[0.2222222222222222,\"#7201a8\"],[0.3333333333333333,\"#9c179e\"],[0.4444444444444444,\"#bd3786\"],[0.5555555555555556,\"#d8576b\"],[0.6666666666666666,\"#ed7953\"],[0.7777777777777778,\"#fb9f3a\"],[0.8888888888888888,\"#fdca26\"],[1.0,\"#f0f921\"]]}],\"heatmap\":[{\"type\":\"heatmap\",\"colorbar\":{\"outlinewidth\":0,\"ticks\":\"\"},\"colorscale\":[[0.0,\"#0d0887\"],[0.1111111111111111,\"#46039f\"],[0.2222222222222222,\"#7201a8\"],[0.3333333333333333,\"#9c179e\"],[0.4444444444444444,\"#bd3786\"],[0.5555555555555556,\"#d8576b\"],[0.6666666666666666,\"#ed7953\"],[0.7777777777777778,\"#fb9f3a\"],[0.8888888888888888,\"#fdca26\"],[1.0,\"#f0f921\"]]}],\"heatmapgl\":[{\"type\":\"heatmapgl\",\"colorbar\":{\"outlinewidth\":0,\"ticks\":\"\"},\"colorscale\":[[0.0,\"#0d0887\"],[0.1111111111111111,\"#46039f\"],[0.2222222222222222,\"#7201a8\"],[0.3333333333333333,\"#9c179e\"],[0.4444444444444444,\"#bd3786\"],[0.5555555555555556,\"#d8576b\"],[0.6666666666666666,\"#ed7953\"],[0.7777777777777778,\"#fb9f3a\"],[0.8888888888888888,\"#fdca26\"],[1.0,\"#f0f921\"]]}],\"contourcarpet\":[{\"type\":\"contourcarpet\",\"colorbar\":{\"outlinewidth\":0,\"ticks\":\"\"}}],\"contour\":[{\"type\":\"contour\",\"colorbar\":{\"outlinewidth\":0,\"ticks\":\"\"},\"colorscale\":[[0.0,\"#0d0887\"],[0.1111111111111111,\"#46039f\"],[0.2222222222222222,\"#7201a8\"],[0.3333333333333333,\"#9c179e\"],[0.4444444444444444,\"#bd3786\"],[0.5555555555555556,\"#d8576b\"],[0.6666666666666666,\"#ed7953\"],[0.7777777777777778,\"#fb9f3a\"],[0.8888888888888888,\"#fdca26\"],[1.0,\"#f0f921\"]]}],\"surface\":[{\"type\":\"surface\",\"colorbar\":{\"outlinewidth\":0,\"ticks\":\"\"},\"colorscale\":[[0.0,\"#0d0887\"],[0.1111111111111111,\"#46039f\"],[0.2222222222222222,\"#7201a8\"],[0.3333333333333333,\"#9c179e\"],[0.4444444444444444,\"#bd3786\"],[0.5555555555555556,\"#d8576b\"],[0.6666666666666666,\"#ed7953\"],[0.7777777777777778,\"#fb9f3a\"],[0.8888888888888888,\"#fdca26\"],[1.0,\"#f0f921\"]]}],\"mesh3d\":[{\"type\":\"mesh3d\",\"colorbar\":{\"outlinewidth\":0,\"ticks\":\"\"}}],\"scatter\":[{\"fillpattern\":{\"fillmode\":\"overlay\",\"size\":10,\"solidity\":0.2},\"type\":\"scatter\"}],\"parcoords\":[{\"type\":\"parcoords\",\"line\":{\"colorbar\":{\"outlinewidth\":0,\"ticks\":\"\"}}}],\"scatterpolargl\":[{\"type\":\"scatterpolargl\",\"marker\":{\"colorbar\":{\"outlinewidth\":0,\"ticks\":\"\"}}}],\"bar\":[{\"error_x\":{\"color\":\"#2a3f5f\"},\"error_y\":{\"color\":\"#2a3f5f\"},\"marker\":{\"line\":{\"color\":\"#E5ECF6\",\"width\":0.5},\"pattern\":{\"fillmode\":\"overlay\",\"size\":10,\"solidity\":0.2}},\"type\":\"bar\"}],\"scattergeo\":[{\"type\":\"scattergeo\",\"marker\":{\"colorbar\":{\"outlinewidth\":0,\"ticks\":\"\"}}}],\"scatterpolar\":[{\"type\":\"scatterpolar\",\"marker\":{\"colorbar\":{\"outlinewidth\":0,\"ticks\":\"\"}}}],\"histogram\":[{\"marker\":{\"pattern\":{\"fillmode\":\"overlay\",\"size\":10,\"solidity\":0.2}},\"type\":\"histogram\"}],\"scattergl\":[{\"type\":\"scattergl\",\"marker\":{\"colorbar\":{\"outlinewidth\":0,\"ticks\":\"\"}}}],\"scatter3d\":[{\"type\":\"scatter3d\",\"line\":{\"colorbar\":{\"outlinewidth\":0,\"ticks\":\"\"}},\"marker\":{\"colorbar\":{\"outlinewidth\":0,\"ticks\":\"\"}}}],\"scattermapbox\":[{\"type\":\"scattermapbox\",\"marker\":{\"colorbar\":{\"outlinewidth\":0,\"ticks\":\"\"}}}],\"scatterternary\":[{\"type\":\"scatterternary\",\"marker\":{\"colorbar\":{\"outlinewidth\":0,\"ticks\":\"\"}}}],\"scattercarpet\":[{\"type\":\"scattercarpet\",\"marker\":{\"colorbar\":{\"outlinewidth\":0,\"ticks\":\"\"}}}],\"carpet\":[{\"aaxis\":{\"endlinecolor\":\"#2a3f5f\",\"gridcolor\":\"white\",\"linecolor\":\"white\",\"minorgridcolor\":\"white\",\"startlinecolor\":\"#2a3f5f\"},\"baxis\":{\"endlinecolor\":\"#2a3f5f\",\"gridcolor\":\"white\",\"linecolor\":\"white\",\"minorgridcolor\":\"white\",\"startlinecolor\":\"#2a3f5f\"},\"type\":\"carpet\"}],\"table\":[{\"cells\":{\"fill\":{\"color\":\"#EBF0F8\"},\"line\":{\"color\":\"white\"}},\"header\":{\"fill\":{\"color\":\"#C8D4E3\"},\"line\":{\"color\":\"white\"}},\"type\":\"table\"}],\"barpolar\":[{\"marker\":{\"line\":{\"color\":\"#E5ECF6\",\"width\":0.5},\"pattern\":{\"fillmode\":\"overlay\",\"size\":10,\"solidity\":0.2}},\"type\":\"barpolar\"}],\"pie\":[{\"automargin\":true,\"type\":\"pie\"}]},\"layout\":{\"autotypenumbers\":\"strict\",\"colorway\":[\"#636efa\",\"#EF553B\",\"#00cc96\",\"#ab63fa\",\"#FFA15A\",\"#19d3f3\",\"#FF6692\",\"#B6E880\",\"#FF97FF\",\"#FECB52\"],\"font\":{\"color\":\"#2a3f5f\"},\"hovermode\":\"closest\",\"hoverlabel\":{\"align\":\"left\"},\"paper_bgcolor\":\"white\",\"plot_bgcolor\":\"#E5ECF6\",\"polar\":{\"bgcolor\":\"#E5ECF6\",\"angularaxis\":{\"gridcolor\":\"white\",\"linecolor\":\"white\",\"ticks\":\"\"},\"radialaxis\":{\"gridcolor\":\"white\",\"linecolor\":\"white\",\"ticks\":\"\"}},\"ternary\":{\"bgcolor\":\"#E5ECF6\",\"aaxis\":{\"gridcolor\":\"white\",\"linecolor\":\"white\",\"ticks\":\"\"},\"baxis\":{\"gridcolor\":\"white\",\"linecolor\":\"white\",\"ticks\":\"\"},\"caxis\":{\"gridcolor\":\"white\",\"linecolor\":\"white\",\"ticks\":\"\"}},\"coloraxis\":{\"colorbar\":{\"outlinewidth\":0,\"ticks\":\"\"}},\"colorscale\":{\"sequential\":[[0.0,\"#0d0887\"],[0.1111111111111111,\"#46039f\"],[0.2222222222222222,\"#7201a8\"],[0.3333333333333333,\"#9c179e\"],[0.4444444444444444,\"#bd3786\"],[0.5555555555555556,\"#d8576b\"],[0.6666666666666666,\"#ed7953\"],[0.7777777777777778,\"#fb9f3a\"],[0.8888888888888888,\"#fdca26\"],[1.0,\"#f0f921\"]],\"sequentialminus\":[[0.0,\"#0d0887\"],[0.1111111111111111,\"#46039f\"],[0.2222222222222222,\"#7201a8\"],[0.3333333333333333,\"#9c179e\"],[0.4444444444444444,\"#bd3786\"],[0.5555555555555556,\"#d8576b\"],[0.6666666666666666,\"#ed7953\"],[0.7777777777777778,\"#fb9f3a\"],[0.8888888888888888,\"#fdca26\"],[1.0,\"#f0f921\"]],\"diverging\":[[0,\"#8e0152\"],[0.1,\"#c51b7d\"],[0.2,\"#de77ae\"],[0.3,\"#f1b6da\"],[0.4,\"#fde0ef\"],[0.5,\"#f7f7f7\"],[0.6,\"#e6f5d0\"],[0.7,\"#b8e186\"],[0.8,\"#7fbc41\"],[0.9,\"#4d9221\"],[1,\"#276419\"]]},\"xaxis\":{\"gridcolor\":\"white\",\"linecolor\":\"white\",\"ticks\":\"\",\"title\":{\"standoff\":15},\"zerolinecolor\":\"white\",\"automargin\":true,\"zerolinewidth\":2},\"yaxis\":{\"gridcolor\":\"white\",\"linecolor\":\"white\",\"ticks\":\"\",\"title\":{\"standoff\":15},\"zerolinecolor\":\"white\",\"automargin\":true,\"zerolinewidth\":2},\"scene\":{\"xaxis\":{\"backgroundcolor\":\"#E5ECF6\",\"gridcolor\":\"white\",\"linecolor\":\"white\",\"showbackground\":true,\"ticks\":\"\",\"zerolinecolor\":\"white\",\"gridwidth\":2},\"yaxis\":{\"backgroundcolor\":\"#E5ECF6\",\"gridcolor\":\"white\",\"linecolor\":\"white\",\"showbackground\":true,\"ticks\":\"\",\"zerolinecolor\":\"white\",\"gridwidth\":2},\"zaxis\":{\"backgroundcolor\":\"#E5ECF6\",\"gridcolor\":\"white\",\"linecolor\":\"white\",\"showbackground\":true,\"ticks\":\"\",\"zerolinecolor\":\"white\",\"gridwidth\":2}},\"shapedefaults\":{\"line\":{\"color\":\"#2a3f5f\"}},\"annotationdefaults\":{\"arrowcolor\":\"#2a3f5f\",\"arrowhead\":0,\"arrowwidth\":1},\"geo\":{\"bgcolor\":\"white\",\"landcolor\":\"#E5ECF6\",\"subunitcolor\":\"white\",\"showland\":true,\"showlakes\":true,\"lakecolor\":\"white\"},\"title\":{\"x\":0.05},\"mapbox\":{\"style\":\"light\"}}},\"xaxis\":{\"range\":[0,300],\"title\":{\"text\":\"Nodes\"},\"gridcolor\":\"rgb(200,200,200)\",\"mirror\":true,\"ticks\":\"outside\",\"showline\":true},\"yaxis\":{\"range\":[-0.15,1],\"title\":{\"text\":\"Faithfulness\"},\"gridcolor\":\"rgb(200,200,200)\",\"mirror\":true,\"ticks\":\"outside\",\"showline\":true},\"width\":800,\"height\":375,\"plot_bgcolor\":\"rgba(0,0,0,0)\"},                        {\"responsive\": true}                    ).then(function(){\n",
       "                            \n",
       "var gd = document.getElementById('0063b231-efde-4d19-b9cf-82c3043140e7');\n",
       "var x = new MutationObserver(function (mutations, observer) {{\n",
       "        var display = window.getComputedStyle(gd).display;\n",
       "        if (!display || display === 'none') {{\n",
       "            console.log([gd, 'removed!']);\n",
       "            Plotly.purge(gd);\n",
       "            observer.disconnect();\n",
       "        }}\n",
       "}});\n",
       "\n",
       "// Listen for the removal of the full notebook cells\n",
       "var notebookContainer = gd.closest('#notebook-container');\n",
       "if (notebookContainer) {{\n",
       "    x.observe(notebookContainer, {childList: true});\n",
       "}}\n",
       "\n",
       "// Listen for the clearing of the current output cell\n",
       "var outputEl = gd.closest('.output');\n",
       "if (outputEl) {{\n",
       "    x.observe(outputEl, {childList: true});\n",
       "}}\n",
       "\n",
       "                        })                };                });            </script>        </div>"
      ]
     },
     "metadata": {},
     "output_type": "display_data"
    },
    {
     "ename": "",
     "evalue": "",
     "output_type": "error",
     "traceback": [
      "\u001b[1;31mThe Kernel crashed while executing code in the current cell or a previous cell. \n",
      "\u001b[1;31mPlease review the code in the cell(s) to identify a possible cause of the failure. \n",
      "\u001b[1;31mClick <a href='https://aka.ms/vscodeJupyterKernelCrash'>here</a> for more info. \n",
      "\u001b[1;31mView Jupyter <a href='command:jupyter.viewOutput'>log</a> for further details."
     ]
    }
   ],
   "source": [
    "fig = go.Figure()\n",
    "\n",
    "colors = {\n",
    "    'features' : 'blue',\n",
    "    'features_wo_errs' : 'red',\n",
    "    'features_wo_some_errs' : 'green',\n",
    "    'neurons' : 'purple'\n",
    "}\n",
    "\n",
    "for setting, subouts in outs.items():\n",
    "\n",
    "    x_min = max([min(subouts[dataset][t]['n_nodes'] for t in thresholds) for dataset in datasets]) + 1\n",
    "    x_max = min([max(subouts[dataset][t]['n_nodes'] for t in thresholds) for dataset in datasets]) - 1\n",
    "    fs = {\n",
    "        dataset : interpolate.interp1d([subouts[dataset][t]['n_nodes'] for t in thresholds], [subouts[dataset][t]['completeness'] for t in thresholds])\n",
    "        for dataset in datasets\n",
    "    }\n",
    "    xs = t.logspace(math.log10(x_min), math.log10(x_max), 100, 10).tolist()\n",
    "\n",
    "    for dataset in datasets:\n",
    "        fig.add_trace(go.Scatter(\n",
    "            x = [subouts[dataset][t]['n_nodes'] for t in thresholds],\n",
    "            y = [subouts[dataset][t]['completeness'] for t in thresholds],\n",
    "            mode='lines', line=dict(color=colors[setting]), opacity=0.17, showlegend=False\n",
    "        ))\n",
    "    fig.add_trace(go.Scatter(\n",
    "        x=xs,\n",
    "        y=[ sum([f(x) for f in fs.values()]) / len(fs) for x in xs ],\n",
    "        mode='lines', line=dict(color=colors[setting]), name=setting\n",
    "    ))\n",
    "\n",
    "fig.update_xaxes(range=(0,300))\n",
    "fig.update_yaxes(range=(-.15, 1))\n",
    "\n",
    "fig.update_layout(\n",
    "    xaxis_title='Nodes',\n",
    "    yaxis_title='Faithfulness',\n",
    "    width=800,\n",
    "    height=375,\n",
    "    # set white background color\n",
    "    plot_bgcolor='rgba(0,0,0,0)',\n",
    "    # add grey gridlines\n",
    "    yaxis=dict(gridcolor='rgb(200,200,200)',mirror=True,ticks='outside',showline=True),\n",
    "    xaxis=dict(gridcolor='rgb(200,200,200)', mirror=True, ticks='outside', showline=True),\n",
    ")\n",
    "fig.show()\n",
    "fig.write_image('completeness.pdf')"
   ]
  }
 ],
 "metadata": {
  "kernelspec": {
   "display_name": "Python 3",
   "language": "python",
   "name": "python3"
  },
  "language_info": {
   "codemirror_mode": {
    "name": "ipython",
    "version": 3
   },
   "file_extension": ".py",
   "mimetype": "text/x-python",
   "name": "python",
   "nbconvert_exporter": "python",
   "pygments_lexer": "ipython3",
   "version": "3.10.13"
  }
 },
 "nbformat": 4,
 "nbformat_minor": 2
}
