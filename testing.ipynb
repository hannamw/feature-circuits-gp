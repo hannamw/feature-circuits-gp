{
 "cells": [
  {
   "cell_type": "code",
   "execution_count": 1,
   "metadata": {},
   "outputs": [
    {
     "name": "stderr",
     "output_type": "stream",
     "text": [
      "/share/u/smarks/.local/lib/python3.8/site-packages/tqdm/auto.py:21: TqdmWarning: IProgress not found. Please update jupyter and ipywidgets. See https://ipywidgets.readthedocs.io/en/stable/user_install.html\n",
      "  from .autonotebook import tqdm as notebook_tqdm\n"
     ]
    }
   ],
   "source": [
    "import zstandard as zstd\n",
    "import json\n",
    "import os\n",
    "import io\n",
    "from tqdm import tqdm\n",
    "from nnsight import LanguageModel\n",
    "from dictionary_learning.buffer import ActivationBuffer\n",
    "from dictionary_learning.dictionary import AutoEncoder\n",
    "from dictionary_learning.training import trainSAE\n",
    "import torch as t"
   ]
  },
  {
   "cell_type": "code",
   "execution_count": 2,
   "metadata": {},
   "outputs": [],
   "source": [
    "model = LanguageModel('EleutherAI/pythia-70m-deduped', device_map='cuda:0')\n",
    "submodule = model.gpt_neox.layers[2].mlp.dense_4h_to_h"
   ]
  },
  {
   "cell_type": "code",
   "execution_count": 3,
   "metadata": {},
   "outputs": [],
   "source": [
    "# set up data as a generator\n",
    "data_path = '/share/data/datasets/pile/the-eye.eu/public/AI/pile/train/00.jsonl.zst'\n",
    "compressed_file = open(data_path, 'rb')\n",
    "dctx = zstd.ZstdDecompressor()\n",
    "reader = dctx.stream_reader(compressed_file)\n",
    "text_stream = io.TextIOWrapper(reader, encoding='utf-8')\n",
    "def generator():\n",
    "    for line in text_stream:\n",
    "        yield json.loads(line)['text']\n",
    "data = generator()"
   ]
  },
  {
   "cell_type": "code",
   "execution_count": 5,
   "metadata": {},
   "outputs": [],
   "source": [
    "buffer = ActivationBuffer(\n",
    "    data,\n",
    "    model,\n",
    "    submodule,\n",
    "    in_batch_size=64,\n",
    "    out_batch_size=4096,\n",
    "    n_ctxs=5e3,\n",
    "    device='cuda:0'\n",
    ")"
   ]
  },
  {
   "cell_type": "code",
   "execution_count": 7,
   "metadata": {},
   "outputs": [
    {
     "name": "stderr",
     "output_type": "stream",
     "text": [
      "You're using a GPTNeoXTokenizerFast tokenizer. Please note that with a fast tokenizer, using the `__call__` method is faster than using a method to encode the text followed by a call to the `pad` method to get a padded encoding.\n"
     ]
    },
    {
     "name": "stdout",
     "output_type": "stream",
     "text": [
      "refreshing buffer...\n"
     ]
    },
    {
     "name": "stderr",
     "output_type": "stream",
     "text": [
      "/share/u/smarks/.local/lib/python3.8/site-packages/transformers/generation/utils.py:2507: UserWarning: Specified kernel cache directory is not writable! This disables kernel caching. Specified directory is /share/u/smarks/.cache/torch/kernels. This warning will appear only once per process. (Triggered internally at ../aten/src/ATen/native/cuda/jit_utils.cpp:1460.)\n",
      "  next_tokens.tile(eos_token_id_tensor.shape[0], 1).ne(eos_token_id_tensor.unsqueeze(1)).prod(dim=0)\n"
     ]
    }
   ],
   "source": [
    "ae = trainSAE(\n",
    "    buffer,\n",
    "    activation_dim=512,\n",
    "    dictionary_size = 8 * 512,\n",
    "    steps=1000,\n",
    "    lr = 1e-3,\n",
    "    sparsity_penalty = 1e-2,\n",
    "    resample_steps = 10,\n",
    "    log_steps = 100,\n",
    "    device='cuda:0'\n",
    ")"
   ]
  },
  {
   "cell_type": "code",
   "execution_count": 61,
   "metadata": {},
   "outputs": [
    {
     "data": {
      "text/plain": [
       "<All keys matched successfully>"
      ]
     },
     "execution_count": 61,
     "metadata": {},
     "output_type": "execute_result"
    }
   ],
   "source": [
    "ae = AutoEncoder(512, 4*512).cuda()\n",
    "ae.load_state_dict(t.load('autoencoders/reg0.0001_entFalse.pt'))"
   ]
  },
  {
   "cell_type": "code",
   "execution_count": 93,
   "metadata": {},
   "outputs": [
    {
     "data": {
      "text/plain": [
       "torch.Size([2048, 512])"
      ]
     },
     "execution_count": 93,
     "metadata": {},
     "output_type": "execute_result"
    }
   ],
   "source": [
    "ae.encoder.weight.shape"
   ]
  },
  {
   "cell_type": "code",
   "execution_count": 62,
   "metadata": {},
   "outputs": [],
   "source": [
    "acts = next(buffer)"
   ]
  },
  {
   "cell_type": "code",
   "execution_count": 63,
   "metadata": {},
   "outputs": [
    {
     "data": {
      "image/png": "[encoded data removed]",
      "text/plain": [
       "<Figure size 640x480 with 1 Axes>"
      ]
     },
     "metadata": {},
     "output_type": "display_data"
    }
   ],
   "source": [
    "import numpy as np\n",
    "dict_acts = ae.encode(acts.cuda())\n",
    "freqs = (dict_acts !=0).sum(dim=0) / dict_acts.shape[0]\n",
    "\n",
    "import matplotlib.pyplot as plt\n",
    "plt.hist(freqs.cpu(), bins=np.logspace(np.log10(1e-4), np.log10(4096), 100))\n",
    "plt.xscale('log')\n",
    "\n",
    "plt.show()"
   ]
  },
  {
   "cell_type": "code",
   "execution_count": 30,
   "metadata": {},
   "outputs": [
    {
     "data": {
      "text/plain": [
       "tensor([[   1],\n",
       "        [   2],\n",
       "        [   4],\n",
       "        ...,\n",
       "        [4083],\n",
       "        [4089],\n",
       "        [4093]], device='cuda:0')"
      ]
     },
     "execution_count": 30,
     "metadata": {},
     "output_type": "execute_result"
    }
   ],
   "source": [
    "t.nonzero(1 - (dict_acts == 0).all(dim=0).float())"
   ]
  },
  {
   "cell_type": "code",
   "execution_count": 8,
   "metadata": {},
   "outputs": [
    {
     "data": {
      "text/plain": [
       "tensor([[2.1049e-01, 7.3272e-02, 2.1830e-01,  ..., 2.0369e-01, 4.2124e-02,\n",
       "         2.5463e-01],\n",
       "        [2.1436e-01, 3.4365e-02, 1.2208e-01,  ..., 3.8042e-02, 0.0000e+00,\n",
       "         3.0747e-02],\n",
       "        [2.8846e-01, 2.4418e-01, 2.6713e-01,  ..., 3.2065e-01, 5.4556e-03,\n",
       "         3.1329e-01],\n",
       "        ...,\n",
       "        [4.7642e-01, 2.5845e-01, 2.6834e-01,  ..., 0.0000e+00, 1.3256e-01,\n",
       "         3.3008e-01],\n",
       "        [7.5465e-01, 0.0000e+00, 0.0000e+00,  ..., 6.1018e+00, 0.0000e+00,\n",
       "         0.0000e+00],\n",
       "        [1.4123e-01, 3.7879e-01, 1.3614e-01,  ..., 1.5555e-01, 2.5206e-01,\n",
       "         2.3779e-01]], device='cuda:0', grad_fn=<ReluBackward0>)"
      ]
     },
     "execution_count": 8,
     "metadata": {},
     "output_type": "execute_result"
    }
   ],
   "source": [
    "ae.encode(acts.cuda())"
   ]
  },
  {
   "cell_type": "code",
   "execution_count": 64,
   "metadata": {},
   "outputs": [],
   "source": [
    "from einops import rearrange\n",
    "import torch as t\n",
    "\n",
    "inputs = buffer.tokenized_batch()\n",
    "with model.generate(max_new_tokens=1, pad_token_id=model.tokenizer.pad_token_id) as generator:\n",
    "    with generator.invoke(inputs['input_ids'], scan=False) as invoker:\n",
    "        hidden_states = submodule.output.save()\n",
    "dictionary_activations = ae.encode(hidden_states.value)\n",
    "flattened_acts = rearrange(dictionary_activations, 'b n d -> (b n) d')\n",
    "freqs = (flattened_acts !=0).sum(dim=0) / flattened_acts.shape[0]"
   ]
  },
  {
   "cell_type": "code",
   "execution_count": 85,
   "metadata": {},
   "outputs": [
    {
     "name": "stdout",
     "output_type": "stream",
     "text": [
      "feat 1 freq: 0.0845947265625\n",
      "feat 9 freq: 0.0977783203125\n",
      "feat 12 freq: 0.04443359375\n",
      "feat 21 freq: 0.084228515625\n",
      "feat 26 freq: 0.0328369140625\n",
      "feat 41 freq: 0.088134765625\n",
      "feat 51 freq: 0.09375\n",
      "feat 104 freq: 0.0928955078125\n",
      "feat 105 freq: 0.0921630859375\n",
      "feat 164 freq: 0.0880126953125\n",
      "feat 201 freq: 0.0966796875\n",
      "feat 207 freq: 0.0748291015625\n",
      "feat 239 freq: 0.095947265625\n",
      "feat 261 freq: 0.0931396484375\n",
      "feat 276 freq: 0.083251953125\n",
      "feat 297 freq: 0.087646484375\n",
      "feat 310 freq: 0.08251953125\n",
      "feat 343 freq: 0.0633544921875\n",
      "feat 367 freq: 0.097412109375\n",
      "feat 368 freq: 0.0892333984375\n",
      "feat 385 freq: 0.0938720703125\n",
      "feat 390 freq: 0.0897216796875\n",
      "feat 396 freq: 0.0838623046875\n",
      "feat 401 freq: 0.087158203125\n",
      "feat 426 freq: 0.089111328125\n",
      "feat 434 freq: 0.09619140625\n",
      "feat 472 freq: 0.098388671875\n",
      "feat 483 freq: 0.0347900390625\n",
      "feat 500 freq: 0.0849609375\n",
      "feat 505 freq: 0.090087890625\n",
      "feat 509 freq: 0.0858154296875\n",
      "feat 536 freq: 0.09814453125\n",
      "feat 599 freq: 0.0924072265625\n",
      "feat 605 freq: 0.0885009765625\n",
      "feat 653 freq: 0.0933837890625\n",
      "feat 663 freq: 0.084716796875\n",
      "feat 672 freq: 0.085205078125\n",
      "feat 673 freq: 0.0902099609375\n",
      "feat 695 freq: 0.082275390625\n",
      "feat 696 freq: 0.088134765625\n",
      "feat 718 freq: 0.088134765625\n",
      "feat 745 freq: 0.091796875\n",
      "feat 752 freq: 0.047119140625\n",
      "feat 769 freq: 0.0887451171875\n",
      "feat 816 freq: 0.0679931640625\n",
      "feat 836 freq: 0.0963134765625\n",
      "feat 851 freq: 0.08642578125\n",
      "feat 892 freq: 0.0982666015625\n",
      "feat 935 freq: 0.08642578125\n",
      "feat 954 freq: 0.038330078125\n",
      "feat 966 freq: 0.083251953125\n",
      "feat 1020 freq: 0.08251953125\n",
      "feat 1100 freq: 0.031005859375\n",
      "feat 1117 freq: 0.087646484375\n",
      "feat 1123 freq: 0.039794921875\n",
      "feat 1133 freq: 0.09375\n",
      "feat 1135 freq: 0.0843505859375\n",
      "feat 1139 freq: 0.0975341796875\n",
      "feat 1170 freq: 0.043212890625\n",
      "feat 1175 freq: 0.0882568359375\n",
      "feat 1199 freq: 0.0941162109375\n",
      "feat 1205 freq: 0.0799560546875\n",
      "feat 1226 freq: 0.0999755859375\n",
      "feat 1263 freq: 0.092041015625\n",
      "feat 1273 freq: 0.08984375\n",
      "feat 1286 freq: 0.0877685546875\n",
      "feat 1288 freq: 0.0384521484375\n",
      "feat 1290 freq: 0.0859375\n",
      "feat 1319 freq: 0.096923828125\n",
      "feat 1341 freq: 0.08447265625\n",
      "feat 1344 freq: 0.098876953125\n",
      "feat 1360 freq: 0.092041015625\n",
      "feat 1369 freq: 0.092529296875\n",
      "feat 1385 freq: 0.094970703125\n",
      "feat 1403 freq: 0.091552734375\n",
      "feat 1413 freq: 0.0802001953125\n",
      "feat 1429 freq: 0.0970458984375\n",
      "feat 1453 freq: 0.0863037109375\n",
      "feat 1464 freq: 0.0865478515625\n",
      "feat 1499 freq: 0.09326171875\n",
      "feat 1505 freq: 0.08740234375\n",
      "feat 1583 freq: 0.0877685546875\n",
      "feat 1603 freq: 0.0877685546875\n",
      "feat 1612 freq: 0.099609375\n",
      "feat 1613 freq: 0.043212890625\n",
      "feat 1623 freq: 0.090576171875\n",
      "feat 1654 freq: 0.0303955078125\n",
      "feat 1708 freq: 0.087158203125\n",
      "feat 1718 freq: 0.07666015625\n",
      "feat 1729 freq: 0.097900390625\n",
      "feat 1731 freq: 0.0948486328125\n",
      "feat 1760 freq: 0.0966796875\n",
      "feat 1788 freq: 0.0723876953125\n",
      "feat 1794 freq: 0.0936279296875\n",
      "feat 1797 freq: 0.093994140625\n",
      "feat 1812 freq: 0.083984375\n",
      "feat 1837 freq: 0.0921630859375\n",
      "feat 1840 freq: 0.09326171875\n",
      "feat 1843 freq: 0.0863037109375\n",
      "feat 1844 freq: 0.08984375\n",
      "feat 1907 freq: 0.0970458984375\n",
      "feat 1914 freq: 0.072265625\n",
      "feat 1928 freq: 0.0728759765625\n",
      "feat 1945 freq: 0.0885009765625\n",
      "feat 1967 freq: 0.0457763671875\n",
      "feat 1978 freq: 0.0928955078125\n",
      "feat 1995 freq: 0.096923828125\n",
      "feat 2025 freq: 0.087158203125\n",
      "feat 2033 freq: 0.0877685546875\n"
     ]
    }
   ],
   "source": [
    "for idx, freq in enumerate(freqs):\n",
    "    if 3e-2 < freq and freq < 1e-1:\n",
    "        print(f\"feat {idx} freq: {freq}\")"
   ]
  },
  {
   "cell_type": "code",
   "execution_count": 82,
   "metadata": {},
   "outputs": [],
   "source": [
    "def list_decode(x):\n",
    "    if isinstance(x, int):\n",
    "        return model.tokenizer.decode(x)\n",
    "    else:\n",
    "        return [list_decode(y) for y in x]"
   ]
  },
  {
   "cell_type": "code",
   "execution_count": 90,
   "metadata": {},
   "outputs": [],
   "source": [
    "k = 30\n",
    "feat = 12\n",
    "acts = dictionary_activations[:, :, feat].cpu()\n",
    "flattened_acts = rearrange(acts, 'b l -> (b l)')\n",
    "topk_indices = t.argsort(flattened_acts, dim=0, descending=True)[:k]\n",
    "batch_indices = topk_indices // acts.shape[1]\n",
    "token_indices = topk_indices % acts.shape[1]"
   ]
  },
  {
   "cell_type": "code",
   "execution_count": 91,
   "metadata": {},
   "outputs": [
    {
     "data": {
      "text/html": [
       "<div id=\"circuits-vis-3f4e37bb-7d0a\" style=\"margin: 15px 0;\"/>\n",
       "    <script crossorigin type=\"module\">\n",
       "    import { render, TextNeuronActivations } from \"https://unpkg.com/circuitsvis@1.43.2/dist/cdn/esm.js\";\n",
       "    render(\n",
       "      \"circuits-vis-3f4e37bb-7d0a\",\n",
       "      TextNeuronActivations,\n",
       "      {\"tokens\": [[\"Q\", \":\", \"\\n\", \"\\n\", \"Could\", \" the\", \" Russian\", \" fleet\", \" go\", \" via\", \" northern\", \" route\", \" to\", \" Port\", \" Arthur\", \" instead\", \" of\", \" via\", \" Cape\", \" of\", \" Good\", \" Hope\", \"?\", \"\\n\", \"\\n\", \"Was\", \" there\", \" a\", \" route\", \" via\", \" the\", \" north\", \" of\", \" Russia\", \" that\", \" Admiral\", \" R\", \"oz\", \"hest\", \"vens\", \"ky\", \" could\", \" have\", \" passed\", \" (\", \"maybe\", \" during\", \" the\", \" summer\", \" months\", \")\", \" instead\", \" of\", \" the\", \" seven\", \" month\", \" od\", \"ys\", \"sey\", \" of\", \" going\", \" through\", \" Cape\", \" of\", \" Good\", \" Hope\", \" around\", \" Africa\", \" and\", \" then\", \" through\", \" Indian\", \" Ocean\", \" and\", \" South\", \" China\", \" Sea\", \" to\", \" reach\", \" Vlad\", \"iv\", \"ost\", \"ok\", \" and\", \" eventually\", \" Port\", \" Arthur\", \".\", \"\\n\", \"\\n\", \"A\", \":\", \"\\n\"], [\"Q\", \":\", \"\\n\", \"\\n\", \"Spr\", \"ite\", \"-\", \"Kit\", \":\", \" Two\", \" different\", \" gravity\", \" vectors\", \" in\", \" one\", \" scene\", \"?\", \"\\n\", \"\\n\", \"I\", \"'d\", \" like\", \" to\", \" have\", \" two\", \" objects\", \" in\", \" one\", \" scene\", \",\", \" one\", \" which\", \" is\", \" pulled\", \" down\", \"wards\", \",\", \" and\", \" one\", \" which\", \" is\", \" pulled\", \" upwards\", \",\", \" but\", \" I\", \" can\", \" only\", \" specify\", \" one\", \" gravity\", \" vector\", \" which\", \" is\", \" applied\", \" to\", \" all\", \" objects\", \" in\", \" the\", \" physics\", \" world\", \".\", \"\\n\", \"If\", \" there\", \" is\", \" no\", \" way\", \" to\", \" do\", \" this\", \" with\", \" gravity\", \",\", \" how\", \" do\", \" I\", \" best\", \" go\", \" about\", \" it\", \" without\", \" it\", \"?\", \"\\n\", \"\\n\", \"A\", \":\", \"\\n\"], [\"You\", \"'re\", \" telling\", \" me\", \" that\", \" this\", \" prince\", \" among\", \" men\", \" owns\", \" a\", \" car\", \" that\", \" needs\", \" ref\", \"uel\", \"ing\", \"?\", \" Just\", \" like\", \" us\", \" mere\", \" mort\", \"als\", \"?\", \" Thank\", \" you\", \" so\", \" much\", \",\", \" Gaz\", \"ette\", \",\", \" for\", \" this\", \" fascinating\", \" insight\", \" into\", \" the\", \" world\", \" of\", \" this\", \" particular\", \" man\", \".\", \" I\", \" would\", \" have\"], [\"Just\", \" minutes\", \" after\", \" the\", \" roll\", \"out\", \" began\", \",\", \" social\", \" media\", \" sites\", \" filled\", \" up\", \" with\", \" complaints\", \" from\", \" iPhone\", \" users\", \" who\", \",\", \" after\", \" trying\", \" to\", \" download\", \" iOS\", \" 10\", \" over\", \" WiFi\", \",\", \" found\", \" that\", \" their\", \" i\", \"Device\", \" had\", \" been\", \" rendered\", \" useless\", \".\", \"\\n\", \"\\n\", \"Apple\", \" has\", \" also\", \" recommended\", \" using\", \" Apple\", \"Care\", \" directly\", \",\", \" or\", \" you\", \" can\", \" head\", \" over\", \" to\", \" an\"], [\"All\", \" relevant\", \" data\", \" are\", \" within\", \" the\", \" paper\", \" and\", \" its\", \" Supporting\", \" Information\", \" files\", \".\", \"\\n\", \"\\n\", \"Introduction\", \" {#\", \"sec\", \"005\", \"}\", \"\\n\", \"============\", \"\\n\", \"\\n\", \"L\", \"ung\", \" transplantation\", \" is\", \" an\", \" established\", \" therapeutic\", \" option\", \" for\", \" patients\", \" with\", \" various\", \" types\", \" of\", \" end\", \"-\", \"stage\", \" lung\", \" disease\", \".\", \" Intern\", \"ationally\", \",\", \" the\", \" annual\", \" number\", \" of\", \" bilateral\", \" lung\", \" trans\", \"plants\", \" (\", \"BL\", \"Ts\", \")\", \" is\", \" greater\", \" than\", \" that\", \" of\", \" single\", \" lung\", \" trans\", \"plants\", \" (\", \"SL\", \"Ts\", \")\", \" because\", \" of\", \" the\", \" better\", \" survival\", \" with\", \" the\", \" former\", \" procedure\", \" \\\\[[@\", \"pone\", \".\", \"02\", \"109\", \"75\"], [\"Q\", \":\", \"\\n\", \"\\n\", \"How\", \" do\", \" I\", \" add\", \" css\", \" to\", \" a\", \" line\", \" like\", \" document\", \".\", \"write\", \"(\", \"text\", \"[\", \"0\", \"]);\", \"\\n\", \"\\n\", \"I\", \"'ve\", \" already\", \" tried\", \" this\", \":\", \"\\n\", \"document\", \".\", \"write\", \"(<\", \"div\", \" class\", \"=\\\"\", \"line\", \"01\", \"\\\">\", \" +\", \" text\", \"[\", \"0\", \"]\", \" +\", \" </\", \"div\", \">\", \");\", \"\\n\", \"\\n\", \"A\", \":\", \"\\n\"], [\"C\", \"oug\", \"ar\", \" J\", \"V\", \"\\u2019\", \"s\", \" st\", \"umble\", \" against\", \" Spart\", \"ans\", \"\\n\", \"\\n\", \"The\", \" C\", \"oug\", \"ar\", \" junior\", \" vars\", \"ity\", \" basketball\", \" squad\", \" saw\", \" their\", \" six\", \" game\", \" winning\", \" streak\", \" come\", \" to\", \" an\"], [\"Q\", \":\", \"\\n\", \"\\n\", \"Could\", \" the\", \" Russian\", \" fleet\", \" go\", \" via\", \" northern\", \" route\", \" to\", \" Port\", \" Arthur\", \" instead\", \" of\", \" via\", \" Cape\", \" of\", \" Good\", \" Hope\", \"?\", \"\\n\", \"\\n\", \"Was\", \" there\", \" a\", \" route\", \" via\", \" the\", \" north\", \" of\", \" Russia\", \" that\", \" Admiral\", \" R\", \"oz\", \"hest\", \"vens\", \"ky\", \" could\", \" have\", \" passed\", \" (\", \"maybe\", \" during\", \" the\", \" summer\", \" months\", \")\", \" instead\", \" of\", \" the\", \" seven\", \" month\", \" od\", \"ys\", \"sey\", \" of\", \" going\", \" through\", \" Cape\", \" of\", \" Good\", \" Hope\", \" around\", \" Africa\", \" and\", \" then\", \" through\", \" Indian\", \" Ocean\", \" and\", \" South\", \" China\", \" Sea\", \" to\", \" reach\", \" Vlad\", \"iv\", \"ost\", \"ok\", \" and\", \" eventually\", \" Port\", \" Arthur\", \".\", \"\\n\", \"\\n\", \"A\", \":\", \"\\n\", \"\\n\", \"Absolutely\", \" no\", \".\", \" The\", \" first\", \" time\", \" when\", \" the\", \" North\", \"-\", \"East\", \" passage\", \" was\", \" made\", \" in\", \" one\", \" navigation\", \" (\", \"that\", \" is\", \" in\", \" less\"], [\"HIV\", \"-\", \"1\", \" variants\", \" in\", \" South\", \" and\", \" South\", \"-\", \"East\", \" Asia\", \".\", \"\\n\", \"HIV\", \" spread\", \" in\", \" South\", \" and\", \" South\", \"-\", \"East\", \" Asia\", \" is\", \" most\", \" alarming\", \",\", \" and\", \" genetic\", \" variability\", \" of\", \" HIV\", \"-\", \"1\", \" is\", \" an\", \" important\", \" consideration\", \" in\", \" vaccine\", \" development\", \".\", \" In\", \" this\", \" study\", \",\", \" we\", \" examined\", \" the\", \" third\", \" variable\", \" (\", \"V\", \"3\", \")\", \" region\", \" of\", \" env\", \" gene\", \" of\", \" HIV\", \"-\", \"1\", \" variants\", \" prevalent\", \" in\", \" Thailand\", \",\", \" Malaysia\", \",\", \" India\", \",\", \" and\", \" the\", \" Philippines\", \".\", \" By\", \" phylogenetic\", \" tree\", \" analyses\", \",\", \" an\", \" HIV\", \"-\", \"1\", \" variant\", \" from\", \" an\"], [\"K\", \"AKT\", \"OV\", \"IK\", \",\", \" Alaska\", \" (\", \"Thom\", \"son\", \" Reuters\", \" Foundation\", \")\", \" -\", \" When\", \" In\", \"up\", \"ia\", \"q\", \" hunters\", \" wrest\", \"le\", \" a\", \" 100\", \"-\", \"ton\", \" bow\", \"head\", \" whale\", \" back\", \" to\", \" land\", \" from\", \" the\", \" high\", \" seas\", \",\", \" the\", \" next\", \" challenge\", \" is\", \" where\", \" to\", \" store\", \" all\", \" that\", \" meat\", \".\", \"\\n\", \"\\n\", \"For\", \" centuries\", \",\", \" the\", \" In\", \"up\", \"ia\", \"q\", \",\", \" a\", \" Native\", \" Al\", \"ask\", \"an\", \" group\", \" that\", \" lives\", \" north\", \" of\", \" the\", \" Arctic\", \" Circle\", \",\", \" have\", \" dug\", \" cell\", \"ars\", \" into\", \" the\", \" per\", \"ma\", \"f\"], [\"N\", \"uclear\", \" war\", \" may\", \" break\", \" out\", \" for\", \" reasons\", \" that\", \" no\", \" one\", \" speaks\", \" about\", \"\\n\", \"\\n\", \"Scient\", \"ists\", \" from\", \" the\", \" United\", \" Nations\", \" University\", \" named\", \" a\", \" place\", \" in\", \" the\", \" world\", \",\", \" where\", \" a\", \" nuclear\", \" conflict\", \" may\", \" break\", \" out\", \" already\", \" in\", \" the\", \" near\", \" future\", \".\", \"\\n\", \"\\n\", \"\\\"\", \"The\", \" Ind\", \"us\", \" river\", \" basin\", \" may\", \" be\", \" seen\", \" as\", \" a\", \" water\", \" time\", \" bomb\", \",\", \" which\", \" may\", \" go\", \" off\", \" any\"], [\"All\", \" relevant\", \" data\", \" are\", \" within\", \" the\", \" paper\", \" and\", \" its\", \" Supporting\", \" Information\", \" files\", \".\", \"\\n\", \"\\n\", \"Introduction\", \" {#\", \"sec\", \"005\", \"}\", \"\\n\", \"============\", \"\\n\", \"\\n\", \"L\", \"ung\", \" transplantation\", \" is\", \" an\", \" established\", \" therapeutic\", \" option\", \" for\", \" patients\", \" with\", \" various\", \" types\", \" of\", \" end\", \"-\", \"stage\", \" lung\", \" disease\", \".\", \" Intern\", \"ationally\", \",\", \" the\", \" annual\", \" number\", \" of\", \" bilateral\", \" lung\", \" trans\", \"plants\", \" (\", \"BL\", \"Ts\", \")\", \" is\", \" greater\", \" than\", \" that\", \" of\", \" single\", \" lung\", \" trans\", \"plants\", \" (\", \"SL\", \"Ts\", \")\", \" because\", \" of\", \" the\", \" better\", \" survival\", \" with\", \" the\", \" former\", \" procedure\", \" \\\\[[@\", \"pone\", \".\", \"02\", \"109\"], [\"Alpha\", \"-\", \"ben\", \"zo\", \"in\", \" ox\", \"ime\", \" in\", \" higher\", \" oxidation\", \" state\", \" 3\", \"d\", \" metal\", \" cluster\", \" chemistry\", \":\", \" structural\", \" and\", \" magnetic\", \" study\", \" of\", \" a\", \" new\", \" Mn\", \"(\", \"III\", \")(\", \"9\", \")\", \" complex\", \".\", \"\\n\", \"The\", \" initial\", \" employment\", \" of\", \" alpha\", \"-\", \"ben\", \"zo\", \"in\", \" ox\", \"ime\", \" (\", \"bz\", \"ox\", \"H\", \"(\", \"2\", \"))\", \" in\", \" higher\"], [\"import\", \" {\", \"Event\", \"E\", \"mitter\", \"}\", \" from\", \" '\", \"events\", \"';\", \"\\n\", \"\\n\", \"/**\", \"\\n\", \" *\", \"  \", \"Require\", \" options\", \" for\", \" a\", \" VM\", \"\\n\", \" */\", \"\\n\", \"export\", \" interface\", \" VM\", \"Require\", \" {\", \"\\n\", \"  \", \"/**\", \" Array\", \" of\", \" allowed\", \" built\", \"in\", \" modules\", \",\", \" accepts\", \" [\\\"\", \"*\", \"\\\"]\", \" for\", \" all\", \" (\", \"default\", \":\", \" none\", \")\", \" */\", \"\\n\", \"  \"], [\"You\", \"'re\"], [\"Alpha\", \"-\", \"ben\", \"zo\", \"in\", \" ox\", \"ime\", \" in\", \" higher\"], [\"Comb\", \"ust\", \"ion\", \" engines\", \" are\", \" machines\", \" that\", \" convert\", \" chemical\", \" energy\", \" stored\", \" in\", \" fuel\", \" into\", \" mechanical\", \" energy\", \" useful\", \" for\", \" generating\", \" electricity\", \",\", \" producing\", \" thrust\", \",\", \" or\", \" otherwise\", \" doing\", \" work\", \".\", \" These\", \" engines\", \" typically\", \" include\", \" several\", \" cooperative\", \" sections\", \" that\", \" contribute\", \" in\", \" some\", \" way\", \" to\", \" this\", \" energy\", \" conversion\", \" process\", \".\", \" In\", \" gas\", \" turbine\", \" engines\", \",\", \" air\", \" discharged\", \" from\", \" a\", \" compressor\", \" section\", \" and\", \" fuel\", \" introduced\", \" from\", \" a\"], [\"Sport\", \" news\", \"\\n\", \"\\n\", \"Daniel\", \" Pol\", \"esh\", \"ch\", \"uk\", \" climbed\", \" to\", \" the\", \" top\", \" of\", \" the\", \" Under\", \" 15\", \" world\", \" rankings\", \" after\", \" finishing\", \" third\", \" at\", \" the\", \" British\", \" Junior\", \" Open\", \".\", \"\\n\", \"\\n\", \"Playing\", \" his\", \" last\", \" competition\", \" in\", \" his\", \" age\", \" group\", \",\", \" Pol\", \"esh\", \"ch\", \"uk\", \" was\", \" one\", \" of\", \" two\", \" Israelis\", \" in\", \" the\", \" Under\", \" 15\", \" competition\", \".\", \" Se\", \"eded\", \" five\", \" out\", \" of\", \" eight\", \",\", \" he\", \" featured\", \" in\", \" a\", \" high\", \" quality\", \" field\", \" with\", \" the\", \" first\", \" four\", \" seed\", \"ings\", \" going\", \" to\", \" Egyptian\", \" players\", \".\", \"\\n\", \"\\n\", \"Having\", \" dispatched\", \" the\", \" third\", \" seed\", \" in\", \" the\", \" quarter\", \"-\", \"finals\", \",\", \" Pol\", \"esh\", \"ch\", \"uk\", \" went\", \" on\", \" to\", \" take\", \" the\", \" bronze\", \",\", \" achieving\", \" the\", \" best\", \" performance\", \" ever\", \" by\", \" an\", \" Israeli\", \" squash\", \" player\", \" and\", \" the\", \" highest\"], [\"List\", \" of\", \" Central\", \" American\", \" folk\", \" music\", \" traditions\", \"\\n\", \"\\n\", \"This\", \" is\", \" a\", \" list\", \" of\", \" folk\", \" music\", \" traditions\", \",\", \" with\", \" styles\", \",\", \" dances\", \",\", \" instruments\", \" and\", \" other\", \" related\", \" topics\", \".\", \"  \", \"The\", \" term\", \" folk\", \" music\", \" can\", \" not\", \" be\", \" easily\", \" defined\", \" in\", \" a\"], [\"Comb\", \"ust\", \"ion\", \" engines\", \" are\", \" machines\", \" that\", \" convert\", \" chemical\", \" energy\", \" stored\", \" in\", \" fuel\", \" into\", \" mechanical\", \" energy\", \" useful\", \" for\", \" generating\", \" electricity\", \",\", \" producing\", \" thrust\", \",\", \" or\", \" otherwise\", \" doing\", \" work\", \".\", \" These\", \" engines\", \" typically\", \" include\", \" several\", \" cooperative\", \" sections\", \" that\", \" contribute\", \" in\", \" some\", \" way\", \" to\", \" this\", \" energy\", \" conversion\", \" process\", \".\", \" In\", \" gas\", \" turbine\", \" engines\", \",\", \" air\", \" discharged\", \" from\", \" a\", \" compressor\", \" section\", \" and\", \" fuel\", \" introduced\", \" from\", \" a\", \" fuel\", \" supply\", \" are\", \" mixed\", \" together\", \" and\", \" burned\", \" in\", \" a\"], [\"<|endoftext|>\", \"<|endoftext|>\", \"<|endoftext|>\", \"<|endoftext|>\", \"<|endoftext|>\", \"<|endoftext|>\", \"<|endoftext|>\", \"<|endoftext|>\", \"<|endoftext|>\", \"<|endoftext|>\", \"<|endoftext|>\", \"<|endoftext|>\", \"<|endoftext|>\", \"<|endoftext|>\", \"<|endoftext|>\", \"<|endoftext|>\", \"<|endoftext|>\", \"<|endoftext|>\", \"<|endoftext|>\", \"<|endoftext|>\", \"<|endoftext|>\", \"<|endoftext|>\", \"<|endoftext|>\", \"<|endoftext|>\", \"<|endoftext|>\", \"<|endoftext|>\", \"<|endoftext|>\", \"<|endoftext|>\", \"<|endoftext|>\", \"<|endoftext|>\", \"<|endoftext|>\", \"<|endoftext|>\", \"<|endoftext|>\", \"<|endoftext|>\", \"<|endoftext|>\", \"<|endoftext|>\", \"<|endoftext|>\", \"<|endoftext|>\", \"<|endoftext|>\", \"<|endoftext|>\", \"<|endoftext|>\", \"<|endoftext|>\", \"<|endoftext|>\", \"<|endoftext|>\", \"<|endoftext|>\", \"<|endoftext|>\", \"<|endoftext|>\", \"<|endoftext|>\", \"<|endoftext|>\", \"<|endoftext|>\", \"<|endoftext|>\", \"<|endoftext|>\", \"<|endoftext|>\", \"<|endoftext|>\", \"<|endoftext|>\", \"<|endoftext|>\", \"<|endoftext|>\", \"<|endoftext|>\", \"<|endoftext|>\", \"<|endoftext|>\", \"<|endoftext|>\", \"<|endoftext|>\", \"<|endoftext|>\", \"<|endoftext|>\", \"<|endoftext|>\", \"<|endoftext|>\", \"<|endoftext|>\", \"<|endoftext|>\", \"<|endoftext|>\", \"<|endoftext|>\", \"<|endoftext|>\", \"<|endoftext|>\", \"<|endoftext|>\", \"<|endoftext|>\", \"<|endoftext|>\", \"<|endoftext|>\", \"<|endoftext|>\", \"<|endoftext|>\", \"<|endoftext|>\", \"<|endoftext|>\", \"<|endoftext|>\", \"<|endoftext|>\", \"<|endoftext|>\", \"<|endoftext|>\", \"<|endoftext|>\", \"<|endoftext|>\", \"<|endoftext|>\", \"<|endoftext|>\", \"<|endoftext|>\", \"<|endoftext|>\", \"<|endoftext|>\", \"<|endoftext|>\", \"<|endoftext|>\", \"<|endoftext|>\", \"<|endoftext|>\", \"<|endoftext|>\", \"<|endoftext|>\", \"<|endoftext|>\", \"<|endoftext|>\", \"<|endoftext|>\", \"<|endoftext|>\", \"<|endoftext|>\", \"<|endoftext|>\", \"<|endoftext|>\", \"<|endoftext|>\", \"This\", \" invention\", \" relates\", \" to\", \" neck\", \"ties\", \",\", \" particularly\", \" to\", \" a\", \" device\", \" and\", \" method\", \" for\", \" tying\", \" a\", \" neck\", \"tie\", \" to\", \" a\"], [\"Comb\", \"ust\", \"ion\", \" engines\", \" are\", \" machines\", \" that\", \" convert\", \" chemical\", \" energy\", \" stored\", \" in\", \" fuel\", \" into\", \" mechanical\", \" energy\", \" useful\", \" for\", \" generating\", \" electricity\", \",\", \" producing\", \" thrust\", \",\", \" or\", \" otherwise\", \" doing\", \" work\", \".\", \" These\", \" engines\", \" typically\", \" include\", \" several\", \" cooperative\", \" sections\", \" that\", \" contribute\", \" in\", \" some\", \" way\", \" to\", \" this\", \" energy\", \" conversion\", \" process\", \".\", \" In\", \" gas\", \" turbine\", \" engines\", \",\", \" air\", \" discharged\", \" from\", \" a\"], [\"import\", \" {\", \"Event\", \"E\", \"mitter\", \"}\", \" from\", \" '\", \"events\", \"';\", \"\\n\", \"\\n\", \"/**\", \"\\n\", \" *\", \"  \", \"Require\", \" options\", \" for\", \" a\", \" VM\", \"\\n\", \" */\", \"\\n\", \"export\", \" interface\", \" VM\", \"Require\", \" {\", \"\\n\", \"  \", \"/**\", \" Array\", \" of\", \" allowed\", \" built\", \"in\", \" modules\", \",\", \" accepts\", \" [\\\"\", \"*\", \"\\\"]\", \" for\", \" all\", \" (\", \"default\", \":\", \" none\", \")\", \" */\", \"\\n\", \"  \", \"built\", \"in\", \"?:\", \" string\", \"[\", \"];\", \"\\n\", \"  \", \"/*\", \"\\n\", \"   \", \"*\", \" `\", \"host\", \"`\", \" (\", \"default\", \")\", \" to\", \" require\", \" modules\", \" in\", \" host\", \" and\", \" proxy\", \" them\", \" to\", \" sand\", \"box\", \".\", \" `\", \"sand\", \"box\", \"`\", \" to\", \" load\", \",\", \" compile\", \" and\", \" \\n\", \"   \", \"*\", \" require\", \" modules\", \" in\", \" sand\", \"box\", \".\", \" Built\", \"in\", \" modules\", \" except\", \" `\", \"events\", \"`\", \" always\", \" required\", \" in\", \" host\", \" and\", \" prox\", \"ied\", \" to\", \" sand\", \"box\", \" \\n\", \"   \", \"*/\", \"\\n\", \"  \"], [\"C\", \"oug\", \"ar\", \" J\", \"V\", \"\\u2019\", \"s\", \" st\", \"umble\", \" against\", \" Spart\", \"ans\", \"\\n\", \"\\n\", \"The\", \" C\", \"oug\", \"ar\", \" junior\", \" vars\", \"ity\", \" basketball\", \" squad\", \" saw\", \" their\", \" six\", \" game\", \" winning\", \" streak\", \" come\", \" to\", \" an\", \" end\", \" Friday\", \" night\", \",\", \" dropping\", \" their\", \" contest\", \" against\", \" Salem\", \" by\", \" a\"], [\"All\", \" the\", \" child\", \" sweat\", \"sh\", \"ops\", \" in\", \" poverty\", \"-\", \"st\", \"ric\", \"ken\", \" nations\", \" mum\", \"bo\", \" j\", \"umbo\", \" aside\", \",\", \" you\", \" have\", \" to\", \" admit\", \" that\", \" Nike\", \" makes\", \" some\", \" pretty\", \" bad\", \" ass\", \" commercials\", \".\", \" For\", \" over\", \" twenty\", \" years\", \" Nike\", \" has\", \" looked\", \" upon\", \" Portland\", \" agency\", \" We\", \"iden\", \"+\", \"Kenn\", \"edy\", \" as\", \" their\", \" primary\", \".\", \" During\", \" that\", \" time\", \" they\", \" have\", \" continually\", \" created\", \" some\", \" of\", \" the\", \" most\", \" memorable\", \" and\", \" inspiring\", \" commercials\", \" on\", \" television\", \".\", \"\\n\", \"\\n\", \"11\", \".\", \" I\", \" FE\", \"EL\", \" PRE\", \"TT\", \"Y\", \"\\n\", \"\\n\", \"This\", \" commercial\", \" has\", \" everything\", \" you\", \" need\", \" for\", \" a\", \" classic\", \".\", \" A\", \" catch\", \"y\"], [\"Share\", \" 0\", \" T\", \"weet\", \" 0\", \" Share\", \" Email\", \" Print\", \" 0\", \" Sh\", \"ares\", \"\\n\", \"\\n\", \"The\", \" video\", \" about\", \" police\", \" preparing\", \" for\", \" riots\", \" has\", \" me\", \" extremely\", \" worried\", \".\", \" But\", \" protest\", \"ors\", \" need\", \" to\", \" understand\", \" that\", \" they\", \"\\u2019\", \"re\", \" part\", \" of\", \" the\", \" dynamic\", \" too\", \".\", \" This\", \" is\", \" a\", \" very\", \" complex\", \" conflict\", \" dynamic\", \".\", \" Dem\", \"on\", \"izing\", \" the\", \" police\", \" isn\", \"\\u2019\", \"t\", \" going\", \" to\", \" help\", \".\", \" It\", \" will\", \" more\", \" likely\", \" make\", \" things\", \" worse\", \".\", \" And\", \" if\", \" things\", \" escal\", \"ate\", \" beyond\", \" a\", \" certain\", \" point\", \",\", \" an\", \" incident\", \" could\", \" easily\", \" turn\", \" into\", \" a\"], [\"Just\", \" to\", \" See\", \" You\", \" Sm\", \"ile\", \"\\n\", \"\\n\", \"\\\"\", \"Just\", \" to\", \" See\", \" You\", \" Sm\", \"ile\", \"\\\"\", \" is\", \" a\", \" song\", \" written\", \" by\", \" Mark\", \" N\", \"es\", \"ler\", \" and\", \" Tony\", \" Martin\", \",\", \" and\", \" performed\", \" by\", \" American\", \" country\", \" music\", \" artist\", \" Tim\", \" McG\", \"raw\", \".\", \" It\", \" was\", \" released\", \" in\", \" August\", \" 1997\", \" as\", \" the\", \" third\", \" single\", \" from\", \" McG\", \"raw\", \"'s\", \" fourth\", \" studio\", \" album\", \" Every\", \"where\", \".\", \" Having\", \" spent\", \" 42\", \" weeks\", \" on\", \" the\", \" Billboard\", \" chart\", \",\", \" it\", \" set\", \" what\", \" was\", \" then\", \" a\", \" record\", \" for\", \" being\", \" the\", \" longest\", \"-\", \"running\", \" single\", \" on\", \" the\", \" Billboard\", \" country\", \" chart\", \" since\", \" the\", \" inception\", \" of\", \" Nielsen\", \" Sound\", \"Scan\", \" in\", \" 1990\", \".\", \" It\", \" was\", \" also\", \" the\", \" longest\", \" chart\", \" run\", \" for\", \" any\"], [\"B\", \"logs\", \"\\n\", \"\\n\", \"Web\", \" Sh\", \"ows\", \"\\n\", \"\\n\", \"Resources\", \"\\n\", \"\\n\", \"G\", \"ates\", \":\", \" U\", \".\", \"S\", \".\", \" Open\", \" to\", \" St\", \"aying\", \" in\", \" Iraq\", \" if\", \" Iraq\", \" As\", \"ks\", \"\\n\", \"\\n\", \"U\", \".\", \"S\", \".\", \" soldiers\", \" fold\", \" a\", \" flag\", \" during\", \" a\"], [\"M\", \"au\", \"ville\", \"City\", \"_\", \"B\", \"ike\", \"Shop\", \"_\", \"Text\", \"_\", \"180\", \"F\", \"9\", \"F\", \"::\", \" @\", \" 8\", \"180\", \"F\", \"9\", \"F\", \"\\n\", \"\\t\", \".\", \"string\", \" \\\"\", \"Well\", \",\", \" well\", \",\", \" what\", \" have\", \" we\", \" here\"], [\"Sport\", \" news\", \"\\n\", \"\\n\", \"Daniel\", \" Pol\", \"esh\", \"ch\", \"uk\", \" climbed\", \" to\", \" the\", \" top\", \" of\", \" the\", \" Under\", \" 15\", \" world\", \" rankings\", \" after\", \" finishing\", \" third\", \" at\", \" the\", \" British\", \" Junior\", \" Open\", \".\", \"\\n\", \"\\n\", \"Playing\", \" his\", \" last\", \" competition\", \" in\", \" his\", \" age\", \" group\", \",\", \" Pol\", \"esh\", \"ch\", \"uk\", \" was\", \" one\", \" of\", \" two\", \" Israelis\", \" in\", \" the\", \" Under\", \" 15\", \" competition\", \".\", \" Se\", \"eded\", \" five\", \" out\", \" of\", \" eight\", \",\", \" he\", \" featured\", \" in\", \" a\", \" high\", \" quality\", \" field\", \" with\", \" the\", \" first\", \" four\", \" seed\", \"ings\", \" going\", \" to\", \" Egyptian\", \" players\", \".\", \"\\n\", \"\\n\", \"Having\", \" dispatched\", \" the\", \" third\", \" seed\", \" in\", \" the\", \" quarter\", \"-\", \"finals\", \",\", \" Pol\", \"esh\", \"ch\", \"uk\", \" went\", \" on\", \" to\", \" take\", \" the\", \" bronze\", \",\", \" achieving\", \" the\", \" best\", \" performance\", \" ever\", \" by\", \" an\"]], \"activations\": [[[[0.0]], [[0.0]], [[0.0]], [[0.0]], [[0.0]], [[0.0]], [[0.0]], [[0.0]], [[0.0]], [[0.034099429845809937]], [[0.0]], [[0.0]], [[0.0]], [[0.0]], [[0.0]], [[0.0]], [[0.0]], [[0.0]], [[0.0]], [[0.0]], [[0.0]], [[0.0]], [[0.0]], [[0.0]], [[0.0]], [[0.0]], [[0.0]], [[0.0]], [[0.0]], [[0.003904612734913826]], [[0.0]], [[0.0]], [[0.0]], [[0.0]], [[0.0]], [[0.0]], [[0.0]], [[0.0]], [[0.0]], [[0.0]], [[0.0]], [[0.0]], [[0.03196319565176964]], [[0.0]], [[0.0]], [[0.0]], [[0.0]], [[0.0]], [[0.0]], [[0.0]], [[0.0]], [[0.0]], [[0.0]], [[0.0]], [[0.0]], [[0.0]], [[0.0]], [[0.0]], [[0.0]], [[0.0]], [[0.0]], [[0.0]], [[0.0]], [[0.0]], [[0.0]], [[0.0]], [[0.0]], [[0.0]], [[0.0]], [[0.04305249825119972]], [[0.0]], [[0.0]], [[0.0]], [[0.0]], [[0.0]], [[0.0]], [[0.0]], [[0.0]], [[0.0]], [[0.0]], [[0.0]], [[0.0]], [[0.0]], [[0.0]], [[0.0]], [[0.0]], [[0.0]], [[0.0]], [[0.0]], [[0.0]], [[0.0]], [[0.010029712691903114]], [[0.567310094833374]]], [[[0.0]], [[0.0]], [[0.0]], [[0.0]], [[0.10052406787872314]], [[0.0]], [[0.0]], [[0.0]], [[0.0]], [[0.00917041301727295]], [[0.0]], [[0.0]], [[0.0]], [[0.0]], [[0.0]], [[0.0]], [[0.0]], [[0.0]], [[0.0]], [[0.0]], [[0.15822401642799377]], [[0.0]], [[0.0]], [[0.0]], [[0.0]], [[0.0]], [[0.0]], [[0.010971931740641594]], [[0.0]], [[0.0]], [[0.0]], [[0.0]], [[0.0]], [[0.0]], [[0.0]], [[0.0]], [[0.0]], [[0.0]], [[0.0]], [[0.0]], [[0.0]], [[0.0]], [[0.0]], [[0.0]], [[0.0]], [[0.0]], [[0.0]], [[0.0]], [[0.0]], [[0.0]], [[0.0]], [[0.0]], [[0.0]], [[0.0]], [[0.0]], [[0.0]], [[0.0]], [[0.0]], [[0.0]], [[0.0]], [[0.0]], [[0.0]], [[0.0]], [[0.0]], [[0.0]], [[0.0]], [[0.0]], [[0.0]], [[0.10828672349452972]], [[0.0]], [[0.0]], [[0.0]], [[0.0]], [[0.0]], [[0.0]], [[0.0]], [[0.0]], [[0.0]], [[0.0]], [[0.0]], [[0.0]], [[0.0]], [[0.0]], [[0.0]], [[0.0]], [[0.0]], [[0.0]], [[0.0]], [[0.0]], [[0.5535635352134705]]], [[[0.15253110229969025]], [[0.30585575103759766]], [[0.0]], [[0.0]], [[0.0]], [[0.0]], [[0.0]], [[0.0]], [[0.0]], [[0.0]], [[0.008605793118476868]], [[0.0]], [[0.0]], [[0.0]], [[0.0]], [[0.0]], [[0.0]], [[0.0]], [[0.0]], [[0.0]], [[0.0]], [[0.0]], [[0.0]], [[0.0]], [[0.0]], [[0.0]], [[0.0]], [[0.018388656899333]], [[0.0]], [[0.0]], [[0.0]], [[0.0]], [[0.0]], [[0.0]], [[0.0]], [[0.0]], [[0.0]], [[0.0]], [[0.0]], [[0.0]], [[0.041478198021650314]], [[0.0]], [[0.0]], [[0.0]], [[0.0]], [[0.0]], [[0.15125487744808197]], [[0.5111055970191956]]], [[[0.0]], [[0.0]], [[0.0]], [[0.04754135385155678]], [[0.0]], [[0.0]], [[0.0]], [[0.0]], [[0.0]], [[0.03380066528916359]], [[0.0]], [[0.0]], [[0.0]], [[0.0]], [[0.0]], [[0.0]], [[0.0]], [[0.0]], [[0.0]], [[0.0]], [[0.0]], [[0.0]], [[0.0]], [[0.0]], [[0.0]], [[0.0]], [[0.0]], [[0.0]], [[0.0]], [[0.0]], [[0.0]], [[0.0]], [[0.0]], [[0.0]], [[0.0]], [[0.0]], [[0.0]], [[0.0]], [[0.0]], [[0.0]], [[0.0]], [[0.0]], [[0.0]], [[0.0]], [[0.0]], [[0.0]], [[0.0]], [[0.0]], [[0.0]], [[0.0]], [[0.0]], [[0.0]], [[0.0]], [[0.0]], [[0.0]], [[0.0]], [[0.49640092253685]]], [[[0.0]], [[0.0]], [[0.0]], [[0.0]], [[0.0]], [[0.0]], [[0.0]], [[0.0]], [[0.0]], [[0.0]], [[0.0]], [[0.0]], [[0.0]], [[0.0]], [[0.0]], [[0.0]], [[0.0]], [[0.0]], [[0.0]], [[0.0]], [[0.0]], [[0.0]], [[0.0]], [[0.0]], [[0.0]], [[0.0]], [[0.0]], [[0.0]], [[0.0]], [[0.0]], [[0.0]], [[0.0]], [[0.0]], [[0.0]], [[0.0]], [[0.0]], [[0.0]], [[0.0]], [[0.0]], [[0.0]], [[0.0]], [[0.0]], [[0.0]], [[0.0]], [[0.0]], [[0.0]], [[0.0]], [[0.0]], [[0.0]], [[0.039099887013435364]], [[0.0]], [[0.0]], [[0.0]], [[0.0]], [[0.0]], [[0.0]], [[0.0]], [[0.0]], [[0.0]], [[0.0]], [[0.0308268703520298]], [[0.0]], [[0.0]], [[0.09387949854135513]], [[0.0]], [[0.0]], [[0.0]], [[0.0]], [[0.0]], [[0.0]], [[0.0]], [[0.0]], [[0.0]], [[0.0]], [[0.0]], [[0.0]], [[0.0]], [[0.0]], [[0.0]], [[0.0]], [[0.0]], [[0.0]], [[0.0]], [[0.0]], [[0.042328111827373505]], [[0.3155307471752167]], [[0.47053343057632446]]], [[[0.0]], [[0.0]], [[0.0]], [[0.0]], [[0.0]], [[0.0]], [[0.0]], [[0.0]], [[0.0]], [[0.0]], [[0.16395947337150574]], [[0.0]], [[0.0]], [[0.0]], [[0.0]], [[0.0]], [[0.0]], [[0.0]], [[0.0]], [[0.0]], [[0.0]], [[0.0]], [[0.0]], [[0.0]], [[0.0]], [[0.0]], [[0.0]], [[0.0]], [[0.0]], [[0.0]], [[0.0]], [[0.0]], [[0.0]], [[0.0]], [[0.0]], [[0.0]], [[0.19301502406597137]], [[0.0]], [[0.0]], [[0.0]], [[0.12264431267976761]], [[0.0]], [[0.0]], [[0.0]], [[0.0]], [[0.0]], [[0.0]], [[0.0]], [[0.0]], [[0.0]], [[0.0]], [[0.0]], [[0.0]], [[0.0]], [[0.4420216381549835]]], [[[0.0]], [[0.0]], [[0.0]], [[0.0]], [[0.05850879102945328]], [[0.0]], [[0.03961716964840889]], [[0.0]], [[0.0]], [[0.0]], [[0.0]], [[0.0]], [[0.0]], [[0.0]], [[0.0]], [[0.0]], [[0.0]], [[0.0]], [[0.0]], [[0.0]], [[0.0]], [[0.0]], [[0.0]], [[0.0]], [[0.0]], [[0.0]], [[0.0]], [[0.0]], [[0.0]], [[0.0]], [[0.0]], [[0.41980159282684326]]], [[[0.0]], [[0.0]], [[0.0]], [[0.0]], [[0.0]], [[0.0]], [[0.0]], [[0.0]], [[0.0]], [[0.034099429845809937]], [[0.0]], [[0.0]], [[0.0]], [[0.0]], [[0.0]], [[0.0]], [[0.0]], [[0.0]], [[0.0]], [[0.0]], [[0.0]], [[0.0]], [[0.0]], [[0.0]], [[0.0]], [[0.0]], [[0.0]], [[0.0]], [[0.0]], [[0.003904612734913826]], [[0.0]], [[0.0]], [[0.0]], [[0.0]], [[0.0]], [[0.0]], [[0.0]], [[0.0]], [[0.0]], [[0.0]], [[0.0]], [[0.0]], [[0.03196319565176964]], [[0.0]], [[0.0]], [[0.0]], [[0.0]], [[0.0]], [[0.0]], [[0.0]], [[0.0]], [[0.0]], [[0.0]], [[0.0]], [[0.0]], [[0.0]], [[0.0]], [[0.0]], [[0.0]], [[0.0]], [[0.0]], [[0.0]], [[0.0]], [[0.0]], [[0.0]], [[0.0]], [[0.0]], [[0.0]], [[0.0]], [[0.04305249825119972]], [[0.0]], [[0.0]], [[0.0]], [[0.0]], [[0.0]], [[0.0]], [[0.0]], [[0.0]], [[0.0]], [[0.0]], [[0.0]], [[0.0]], [[0.0]], [[0.0]], [[0.0]], [[0.0]], [[0.0]], [[0.0]], [[0.0]], [[0.0]], [[0.0]], [[0.010029712691903114]], [[0.567310094833374]], [[0.14586545526981354]], [[0.0]], [[0.0]], [[0.0]], [[0.0]], [[0.0]], [[0.0]], [[0.0]], [[0.03645269572734833]], [[0.0]], [[0.0]], [[0.0]], [[0.0]], [[0.0]], [[0.0]], [[0.0]], [[0.04458920285105705]], [[0.0]], [[0.0]], [[0.0]], [[0.0]], [[0.0]], [[0.3581453859806061]]], [[[0.0]], [[0.0]], [[0.0]], [[0.0]], [[0.0]], [[0.0]], [[0.0]], [[0.0]], [[0.0]], [[0.0]], [[0.0]], [[0.0]], [[0.0]], [[0.0]], [[0.0]], [[0.0]], [[0.0]], [[0.0]], [[0.0]], [[0.0]], [[0.0]], [[0.0]], [[0.0]], [[0.0]], [[0.0]], [[0.0]], [[0.0]], [[0.0]], [[0.0]], [[0.0]], [[0.0]], [[0.0]], [[0.0]], [[0.0]], [[0.0]], [[0.0]], [[0.0]], [[0.0]], [[0.0]], [[0.0]], [[0.0]], [[0.0]], [[0.0]], [[0.0]], [[0.0]], [[0.0]], [[0.0]], [[0.0]], [[0.0]], [[0.0]], [[0.0]], [[0.0]], [[0.0]], [[0.0]], [[0.0]], [[0.0]], [[0.0]], [[0.0]], [[0.0]], [[0.0]], [[0.0]], [[0.0]], [[0.0]], [[0.0]], [[0.0]], [[0.0]], [[0.0]], [[0.0]], [[0.0]], [[0.0]], [[0.0]], [[0.0]], [[0.0]], [[0.0]], [[0.0]], [[0.0]], [[0.0]], [[0.0]], [[0.0]], [[0.0]], [[0.0]], [[0.0]], [[0.0]], [[0.0]], [[0.0]], [[0.0]], [[0.35272228717803955]]], [[[0.0]], [[0.0]], [[0.0]], [[0.0]], [[0.0]], [[0.0]], [[0.0]], [[0.0]], [[0.0]], [[0.0]], [[0.0]], [[0.0]], [[0.0]], [[0.0]], [[0.0]], [[0.0]], [[0.0]], [[0.0]], [[0.0]], [[0.0]], [[0.0]], [[0.0]], [[0.0]], [[0.0]], [[0.0]], [[0.0]], [[0.0573500394821167]], [[0.0]], [[0.0]], [[0.0]], [[0.0]], [[0.0]], [[0.0]], [[0.0]], [[0.0]], [[0.0]], [[0.0]], [[0.0]], [[0.0]], [[0.0]], [[0.0]], [[0.0]], [[0.0]], [[0.0]], [[0.0]], [[0.0]], [[0.0]], [[0.0]], [[0.0]], [[0.0]], [[0.0]], [[0.0]], [[0.0]], [[0.02281375229358673]], [[0.0]], [[0.0]], [[0.1357681006193161]], [[0.0]], [[0.0]], [[0.0]], [[0.0]], [[0.0]], [[0.0812324807047844]], [[0.0]], [[0.0]], [[0.0]], [[0.0]], [[0.0]], [[0.0]], [[0.0]], [[0.0]], [[0.0]], [[0.0]], [[0.0]], [[0.0]], [[0.0]], [[0.0]], [[0.0658189132809639]], [[0.0]], [[0.0]], [[0.35268592834472656]]], [[[0.0]], [[0.0]], [[0.0]], [[0.0]], [[0.0]], [[0.0]], [[0.0]], [[0.0]], [[0.0]], [[0.0]], [[0.0]], [[0.0]], [[0.0]], [[0.0]], [[0.0]], [[0.0]], [[0.0]], [[0.0]], [[0.0]], [[0.0]], [[0.0]], [[0.0]], [[0.0]], [[0.0]], [[0.04506384953856468]], [[0.0]], [[0.0]], [[0.0]], [[0.0]], [[0.0]], [[0.0]], [[0.0]], [[0.0]], [[0.0]], [[0.0]], [[0.0]], [[0.0]], [[0.0]], [[0.0]], [[0.062330134212970734]], [[0.0]], [[0.0]], [[0.0]], [[0.0]], [[0.0]], [[0.0]], [[0.0]], [[0.0]], [[0.0]], [[0.0]], [[0.0]], [[0.0]], [[0.0]], [[0.0]], [[0.0]], [[0.0]], [[0.0]], [[0.0]], [[0.0]], [[0.0]], [[0.0]], [[0.0]], [[0.0]], [[0.3160770833492279]]], [[[0.0]], [[0.0]], [[0.0]], [[0.0]], [[0.0]], [[0.0]], [[0.0]], [[0.0]], [[0.0]], [[0.0]], [[0.0]], [[0.0]], [[0.0]], [[0.0]], [[0.0]], [[0.0]], [[0.0]], [[0.0]], [[0.0]], [[0.0]], [[0.0]], [[0.0]], [[0.0]], [[0.0]], [[0.0]], [[0.0]], [[0.0]], [[0.0]], [[0.0]], [[0.0]], [[0.0]], [[0.0]], [[0.0]], [[0.0]], [[0.0]], [[0.0]], [[0.0]], [[0.0]], [[0.0]], [[0.0]], [[0.0]], [[0.0]], [[0.0]], [[0.0]], [[0.0]], [[0.0]], [[0.0]], [[0.0]], [[0.0]], [[0.039099887013435364]], [[0.0]], [[0.0]], [[0.0]], [[0.0]], [[0.0]], [[0.0]], [[0.0]], [[0.0]], [[0.0]], [[0.0]], [[0.0308268703520298]], [[0.0]], [[0.0]], [[0.09387949854135513]], [[0.0]], [[0.0]], [[0.0]], [[0.0]], [[0.0]], [[0.0]], [[0.0]], [[0.0]], [[0.0]], [[0.0]], [[0.0]], [[0.0]], [[0.0]], [[0.0]], [[0.0]], [[0.0]], [[0.0]], [[0.0]], [[0.0]], [[0.0]], [[0.042328111827373505]], [[0.3155307471752167]]], [[[0.0]], [[0.0]], [[0.0]], [[0.0]], [[0.0]], [[0.0]], [[0.0]], [[0.0]], [[0.302970290184021]], [[0.0]], [[0.0]], [[0.0]], [[0.0]], [[0.0]], [[0.0]], [[0.0]], [[0.0]], [[0.0]], [[0.0]], [[0.0]], [[0.0]], [[0.0]], [[0.0]], [[0.0]], [[0.0]], [[0.0]], [[0.0]], [[0.0]], [[0.0]], [[0.0]], [[0.0]], [[0.0]], [[0.0]], [[0.0]], [[0.0]], [[0.0]], [[0.0]], [[0.0]], [[0.0]], [[0.0]], [[0.0]], [[0.0]], [[0.0]], [[0.0]], [[0.0]], [[0.0]], [[0.0]], [[0.0]], [[0.0]], [[0.0]], [[0.0]], [[0.0]], [[0.3118932843208313]]], [[[0.0]], [[0.2188294231891632]], [[0.0]], [[0.0]], [[0.031749602407217026]], [[0.03084336593747139]], [[0.0]], [[0.0]], [[0.0]], [[0.003057430498301983]], [[0.0]], [[0.0]], [[0.0]], [[0.0]], [[0.0]], [[0.0]], [[0.0]], [[0.0]], [[0.0]], [[0.1438654214143753]], [[0.0]], [[0.0]], [[0.0]], [[0.0]], [[0.0]], [[0.0]], [[0.0]], [[0.0]], [[0.0]], [[0.0]], [[0.23126660287380219]], [[0.0]], [[0.0]], [[0.0]], [[0.0]], [[0.0]], [[0.0]], [[0.0]], [[0.0]], [[0.0]], [[0.0]], [[0.0]], [[0.0]], [[0.0]], [[0.08911330252885818]], [[0.0]], [[0.0]], [[0.0]], [[0.0]], [[0.0]], [[0.0]], [[0.0]], [[0.3087088167667389]]], [[[0.15253110229969025]], [[0.30585575103759766]]], [[[0.0]], [[0.0]], [[0.0]], [[0.0]], [[0.0]], [[0.0]], [[0.0]], [[0.0]], [[0.302970290184021]]], [[[0.0]], [[0.0]], [[0.0]], [[0.0]], [[0.0]], [[0.0]], [[0.0]], [[0.0]], [[0.0]], [[0.0]], [[0.0]], [[0.0]], [[0.0]], [[0.0]], [[0.0]], [[0.0]], [[0.0]], [[0.0]], [[0.0]], [[0.0]], [[0.0]], [[0.0]], [[0.0]], [[0.0]], [[0.0]], [[0.0]], [[0.0]], [[0.0]], [[0.0]], [[0.0]], [[0.0]], [[0.0]], [[0.0]], [[0.0]], [[0.0]], [[0.0]], [[0.0]], [[0.0]], [[0.0]], [[0.0]], [[0.023618493229150772]], [[0.0]], [[0.0]], [[0.0]], [[0.0]], [[0.0]], [[0.0]], [[0.0]], [[0.0]], [[0.0]], [[0.0]], [[0.0]], [[0.0]], [[0.0]], [[0.0]], [[0.285693496465683]], [[0.0]], [[0.0]], [[0.0]], [[0.0]], [[0.0]], [[0.0]], [[0.30134493112564087]]], [[[0.0]], [[0.007115042302757502]], [[0.0]], [[0.0]], [[0.0]], [[0.0]], [[0.0]], [[0.0]], [[0.0]], [[0.0]], [[0.0]], [[0.05443057045340538]], [[0.0]], [[0.0]], [[0.06279578059911728]], [[0.0]], [[0.0]], [[0.0]], [[0.0]], [[0.0]], [[0.0]], [[0.0]], [[0.0]], [[0.0]], [[0.0]], [[0.0]], [[0.0]], [[0.0]], [[0.0]], [[0.0]], [[0.0]], [[0.0]], [[0.0]], [[0.0]], [[0.0]], [[0.0]], [[0.0]], [[0.0]], [[0.0]], [[0.0]], [[0.0]], [[0.0]], [[0.0]], [[0.0]], [[0.0]], [[0.0]], [[0.0]], [[0.0]], [[0.0]], [[0.0]], [[0.0]], [[0.0]], [[0.0]], [[0.0]], [[0.020346930250525475]], [[0.0]], [[0.0]], [[0.0]], [[0.0]], [[0.0]], [[0.0]], [[0.0]], [[0.0]], [[0.0]], [[0.18559660017490387]], [[0.0]], [[0.0]], [[0.0]], [[0.0]], [[0.0]], [[0.0]], [[0.0]], [[0.0]], [[0.0]], [[0.0]], [[0.0]], [[0.0]], [[0.0]], [[0.0]], [[0.0]], [[0.0]], [[0.0]], [[0.0]], [[0.0]], [[0.0]], [[0.0]], [[0.0]], [[0.0]], [[0.0]], [[0.0]], [[0.0]], [[0.0]], [[0.0]], [[0.0]], [[0.0]], [[0.0]], [[0.0]], [[0.0]], [[0.0]], [[0.0]], [[0.0]], [[0.0]], [[0.0]], [[0.0]], [[0.0]], [[0.12704263627529144]], [[0.0]], [[0.0]], [[0.0]], [[0.25843799114227295]], [[0.0]], [[0.0]], [[0.0]], [[0.0]], [[0.0]], [[0.301206111907959]]], [[[0.0]], [[0.0]], [[0.0]], [[0.0]], [[0.0]], [[0.0]], [[0.0]], [[0.0]], [[0.0]], [[0.0]], [[0.0]], [[0.0]], [[0.0]], [[0.0]], [[0.0]], [[0.0]], [[0.0]], [[0.0]], [[0.0]], [[0.0]], [[0.0]], [[0.0]], [[0.0]], [[0.0]], [[0.0]], [[0.0]], [[0.0]], [[0.0]], [[0.0]], [[0.0]], [[0.0]], [[0.0]], [[0.0]], [[0.0]], [[0.0]], [[0.0]], [[0.0]], [[0.0]], [[0.0]], [[0.0]], [[0.30020228028297424]]], [[[0.0]], [[0.0]], [[0.0]], [[0.0]], [[0.0]], [[0.0]], [[0.0]], [[0.0]], [[0.0]], [[0.0]], [[0.0]], [[0.0]], [[0.0]], [[0.0]], [[0.0]], [[0.0]], [[0.0]], [[0.0]], [[0.0]], [[0.0]], [[0.0]], [[0.0]], [[0.0]], [[0.0]], [[0.0]], [[0.0]], [[0.0]], [[0.0]], [[0.0]], [[0.0]], [[0.0]], [[0.0]], [[0.0]], [[0.0]], [[0.0]], [[0.0]], [[0.0]], [[0.0]], [[0.0]], [[0.0]], [[0.023618493229150772]], [[0.0]], [[0.0]], [[0.0]], [[0.0]], [[0.0]], [[0.0]], [[0.0]], [[0.0]], [[0.0]], [[0.0]], [[0.0]], [[0.0]], [[0.0]], [[0.0]], [[0.285693496465683]], [[0.0]], [[0.0]], [[0.0]], [[0.0]], [[0.0]], [[0.0]], [[0.30134493112564087]], [[0.0]], [[0.0]], [[0.0]], [[0.0]], [[0.0]], [[0.0]], [[0.0]], [[0.0]], [[0.2992609739303589]]], [[[0.0]], [[0.0]], [[0.0]], [[0.0]], [[0.0]], [[0.0]], [[0.0]], [[0.0]], [[0.0]], [[0.0]], [[0.0]], [[0.0]], [[0.0]], [[0.0]], [[0.0]], [[0.0]], [[0.0]], [[0.0]], [[0.0]], [[0.0]], [[0.0]], [[0.0]], [[0.0]], [[0.0]], [[0.0]], [[0.0]], [[0.0]], [[0.0]], [[0.0]], [[0.0]], [[0.0]], [[0.0]], [[0.0]], [[0.0]], [[0.0]], [[0.0]], [[0.0]], [[0.0]], [[0.0]], [[0.0]], [[0.0]], [[0.0]], [[0.0]], [[0.0]], [[0.0]], [[0.0]], [[0.0]], [[0.0]], [[0.0]], [[0.0]], [[0.0]], [[0.0]], [[0.0]], [[0.0]], [[0.0]], [[0.0]], [[0.0]], [[0.0]], [[0.0]], [[0.0]], [[0.0]], [[0.0]], [[0.0]], [[0.0]], [[0.0]], [[0.0]], [[0.0]], [[0.0]], [[0.0]], [[0.0]], [[0.0]], [[0.0]], [[0.0]], [[0.0]], [[0.0]], [[0.0]], [[0.0]], [[0.0]], [[0.0]], [[0.0]], [[0.0]], [[0.0]], [[0.0]], [[0.0]], [[0.0]], [[0.0]], [[0.0]], [[0.0]], [[0.0]], [[0.0]], [[0.0]], [[0.0]], [[0.0]], [[0.0]], [[0.0]], [[0.0]], [[0.0]], [[0.0]], [[0.0]], [[0.0]], [[0.0]], [[0.0]], [[0.0]], [[0.0]], [[0.0]], [[0.0]], [[0.0]], [[0.0]], [[0.0]], [[0.0]], [[0.0]], [[0.0]], [[0.0]], [[0.0]], [[0.0]], [[0.0]], [[0.0]], [[0.0]], [[0.0]], [[0.0]], [[0.04211447760462761]], [[0.0]], [[0.0]], [[0.0]], [[0.2895721197128296]]], [[[0.0]], [[0.0]], [[0.0]], [[0.0]], [[0.0]], [[0.0]], [[0.0]], [[0.0]], [[0.0]], [[0.0]], [[0.0]], [[0.0]], [[0.0]], [[0.0]], [[0.0]], [[0.0]], [[0.0]], [[0.0]], [[0.0]], [[0.0]], [[0.0]], [[0.0]], [[0.0]], [[0.0]], [[0.0]], [[0.0]], [[0.0]], [[0.0]], [[0.0]], [[0.0]], [[0.0]], [[0.0]], [[0.0]], [[0.0]], [[0.0]], [[0.0]], [[0.0]], [[0.0]], [[0.0]], [[0.0]], [[0.023618493229150772]], [[0.0]], [[0.0]], [[0.0]], [[0.0]], [[0.0]], [[0.0]], [[0.0]], [[0.0]], [[0.0]], [[0.0]], [[0.0]], [[0.0]], [[0.0]], [[0.0]], [[0.285693496465683]]], [[[0.0]], [[0.2188294231891632]], [[0.0]], [[0.0]], [[0.031749602407217026]], [[0.03084336593747139]], [[0.0]], [[0.0]], [[0.0]], [[0.003057430498301983]], [[0.0]], [[0.0]], [[0.0]], [[0.0]], [[0.0]], [[0.0]], [[0.0]], [[0.0]], [[0.0]], [[0.1438654214143753]], [[0.0]], [[0.0]], [[0.0]], [[0.0]], [[0.0]], [[0.0]], [[0.0]], [[0.0]], [[0.0]], [[0.0]], [[0.23126660287380219]], [[0.0]], [[0.0]], [[0.0]], [[0.0]], [[0.0]], [[0.0]], [[0.0]], [[0.0]], [[0.0]], [[0.0]], [[0.0]], [[0.0]], [[0.0]], [[0.08911330252885818]], [[0.0]], [[0.0]], [[0.0]], [[0.0]], [[0.0]], [[0.0]], [[0.0]], [[0.3087088167667389]], [[0.0]], [[0.0]], [[0.0]], [[0.0]], [[0.0]], [[0.0]], [[0.0]], [[0.20742811262607574]], [[0.0]], [[0.0]], [[0.0]], [[0.0]], [[0.0]], [[0.0]], [[0.0]], [[0.0]], [[0.0]], [[0.0]], [[0.0]], [[0.0]], [[0.0]], [[0.0]], [[0.0]], [[0.0]], [[0.0]], [[0.0]], [[0.0]], [[0.0]], [[0.0]], [[0.0]], [[0.0]], [[0.0]], [[0.0]], [[0.0]], [[0.0]], [[0.0]], [[0.0]], [[0.0]], [[0.0]], [[0.0]], [[0.0]], [[0.0]], [[0.0]], [[0.0]], [[0.0]], [[0.0]], [[0.0]], [[0.0]], [[0.026780396699905396]], [[0.0]], [[0.0]], [[0.0]], [[0.0]], [[0.0]], [[0.0]], [[0.0]], [[0.0]], [[0.0]], [[0.0]], [[0.0]], [[0.0]], [[0.0]], [[0.0]], [[0.0]], [[0.0]], [[0.0]], [[0.0]], [[0.0]], [[0.0]], [[0.2826654016971588]]], [[[0.0]], [[0.0]], [[0.0]], [[0.0]], [[0.05850879102945328]], [[0.0]], [[0.03961716964840889]], [[0.0]], [[0.0]], [[0.0]], [[0.0]], [[0.0]], [[0.0]], [[0.0]], [[0.0]], [[0.0]], [[0.0]], [[0.0]], [[0.0]], [[0.0]], [[0.0]], [[0.0]], [[0.0]], [[0.0]], [[0.0]], [[0.0]], [[0.0]], [[0.0]], [[0.0]], [[0.0]], [[0.0]], [[0.41980159282684326]], [[0.0]], [[0.0]], [[0.0]], [[0.0]], [[0.0]], [[0.0]], [[0.0]], [[0.0]], [[0.0]], [[0.0]], [[0.2695440649986267]]], [[[0.0]], [[0.0]], [[0.0]], [[0.0]], [[0.0]], [[0.0]], [[0.0]], [[0.0]], [[0.0]], [[0.0]], [[0.0]], [[0.0]], [[0.0]], [[0.0]], [[0.0]], [[0.0]], [[0.0]], [[0.0]], [[0.0]], [[0.0]], [[0.0]], [[0.0]], [[0.0]], [[0.0]], [[0.0]], [[0.0]], [[0.0]], [[0.0]], [[0.0]], [[0.0]], [[0.0]], [[0.0]], [[0.0]], [[0.0]], [[0.0]], [[0.0]], [[0.0]], [[0.0]], [[0.0]], [[0.0]], [[0.0]], [[0.0]], [[0.1582665741443634]], [[0.0]], [[0.0]], [[0.0]], [[0.0]], [[0.0]], [[0.0]], [[0.0]], [[0.0]], [[0.0]], [[0.0]], [[0.0]], [[0.0]], [[0.0]], [[0.0]], [[0.0]], [[0.0]], [[0.0]], [[0.0]], [[0.0]], [[0.0]], [[0.0]], [[0.0]], [[0.0]], [[0.0]], [[0.0]], [[0.0]], [[0.0]], [[0.0]], [[0.0]], [[0.0]], [[0.0]], [[0.01021205261349678]], [[0.16805748641490936]], [[0.07020057737827301]], [[0.0]], [[0.0]], [[0.0]], [[0.0]], [[0.0]], [[0.0]], [[0.0]], [[0.06871994584798813]], [[0.0]], [[0.00902598537504673]], [[0.0]], [[0.019797950983047485]], [[0.0]], [[0.0]], [[0.0]], [[0.0]], [[0.26914945244789124]]], [[[0.0]], [[0.0]], [[0.0]], [[0.0]], [[0.0]], [[0.0]], [[0.0]], [[0.0]], [[0.0]], [[0.0]], [[0.0]], [[0.0]], [[0.0]], [[0.0]], [[0.0]], [[0.0]], [[0.0]], [[0.0]], [[0.0]], [[0.0]], [[0.0]], [[0.0]], [[0.0]], [[0.0]], [[0.0]], [[0.0]], [[0.0]], [[0.0]], [[0.0]], [[0.0]], [[0.0]], [[0.0]], [[0.0]], [[0.04921834543347359]], [[0.0]], [[0.0]], [[0.0]], [[0.0]], [[0.0]], [[0.0]], [[0.0]], [[0.0]], [[0.0]], [[0.0]], [[0.0]], [[0.0]], [[0.0]], [[0.0]], [[0.0]], [[0.10060904920101166]], [[0.0]], [[0.0]], [[0.0]], [[0.0]], [[0.0]], [[0.0]], [[0.0]], [[0.0]], [[0.0]], [[0.0]], [[0.0]], [[0.0]], [[0.0]], [[0.12723666429519653]], [[0.1473306566476822]], [[0.0]], [[0.0]], [[0.0]], [[0.0]], [[0.0]], [[0.0]], [[0.0]], [[0.0]], [[0.0]], [[0.0]], [[0.05677999183535576]], [[0.008017274551093578]], [[0.0]], [[0.0]], [[0.0]], [[0.0]], [[0.0]], [[0.0]], [[0.0]], [[0.0]], [[0.26680827140808105]]], [[[0.0]], [[0.0]], [[0.13041286170482635]], [[0.10580435395240784]], [[0.126128152012825]], [[0.07923977077007294]], [[0.0]], [[0.0]], [[0.0]], [[0.004554189741611481]], [[0.0]], [[0.10538070648908615]], [[0.01492889691144228]], [[0.000944826751947403]], [[0.009182587265968323]], [[0.0]], [[0.0]], [[0.0]], [[0.0]], [[0.0]], [[0.0]], [[0.0]], [[0.0]], [[0.0]], [[0.0]], [[0.0]], [[0.0]], [[0.0]], [[0.0]], [[0.0]], [[0.0]], [[0.0]], [[0.0]], [[0.0]], [[0.0]], [[0.0]], [[0.0]], [[0.017155898734927177]], [[0.0]], [[0.0]], [[0.0]], [[0.0]], [[0.0]], [[0.0]], [[0.0]], [[0.0]], [[0.0]], [[0.0]], [[0.0]], [[0.007024514954537153]], [[0.0]], [[0.0]], [[0.0]], [[0.0]], [[0.0]], [[0.0]], [[0.0]], [[0.0005016494542360306]], [[0.0]], [[0.0]], [[0.0]], [[0.0]], [[0.0]], [[0.0]], [[0.0]], [[0.0]], [[0.0]], [[0.0]], [[0.0]], [[0.0]], [[0.0]], [[0.0]], [[0.0]], [[0.0]], [[0.0]], [[0.0]], [[0.000581362284719944]], [[0.0]], [[0.0]], [[0.014723512344062328]], [[0.0]], [[0.0]], [[0.0]], [[0.053015053272247314]], [[0.0]], [[0.0]], [[0.0]], [[0.0]], [[0.23462852835655212]], [[0.0]], [[0.0]], [[0.0022438326850533485]], [[0.0]], [[0.0]], [[0.0]], [[0.0]], [[0.0]], [[0.0]], [[0.0]], [[0.0]], [[0.0]], [[0.0]], [[0.1306273639202118]], [[0.0]], [[0.0]], [[0.0]], [[0.2628355622291565]]], [[[0.0]], [[0.0990682914853096]], [[0.0]], [[0.0]], [[0.0]], [[0.0]], [[0.0]], [[0.0]], [[0.0]], [[0.0]], [[0.0]], [[0.0]], [[0.0]], [[0.0]], [[0.0]], [[0.0]], [[0.0]], [[0.0]], [[0.0]], [[0.0]], [[0.0]], [[0.0]], [[0.0]], [[0.0]], [[0.0]], [[0.0]], [[0.0]], [[0.0]], [[0.0]], [[0.0]], [[0.0]], [[0.0]], [[0.0]], [[0.0]], [[0.0]], [[0.0]], [[0.0]], [[0.0]], [[0.0]], [[0.0]], [[0.2618899941444397]]], [[[0.0]], [[0.0]], [[0.0]], [[0.0]], [[0.0]], [[0.0]], [[0.0]], [[0.0]], [[0.0]], [[0.0]], [[0.0]], [[0.0]], [[0.0]], [[0.0]], [[0.0]], [[0.0]], [[0.0]], [[0.0]], [[0.0]], [[0.0]], [[0.0]], [[0.0]], [[0.0]], [[0.0]], [[0.0]], [[0.0]], [[0.0]], [[0.0]], [[0.0]], [[0.0]], [[0.0]], [[0.0]], [[0.0]], [[0.0]], [[0.25930142402648926]]], [[[0.0]], [[0.007115042302757502]], [[0.0]], [[0.0]], [[0.0]], [[0.0]], [[0.0]], [[0.0]], [[0.0]], [[0.0]], [[0.0]], [[0.05443057045340538]], [[0.0]], [[0.0]], [[0.06279578059911728]], [[0.0]], [[0.0]], [[0.0]], [[0.0]], [[0.0]], [[0.0]], [[0.0]], [[0.0]], [[0.0]], [[0.0]], [[0.0]], [[0.0]], [[0.0]], [[0.0]], [[0.0]], [[0.0]], [[0.0]], [[0.0]], [[0.0]], [[0.0]], [[0.0]], [[0.0]], [[0.0]], [[0.0]], [[0.0]], [[0.0]], [[0.0]], [[0.0]], [[0.0]], [[0.0]], [[0.0]], [[0.0]], [[0.0]], [[0.0]], [[0.0]], [[0.0]], [[0.0]], [[0.0]], [[0.0]], [[0.020346930250525475]], [[0.0]], [[0.0]], [[0.0]], [[0.0]], [[0.0]], [[0.0]], [[0.0]], [[0.0]], [[0.0]], [[0.18559660017490387]], [[0.0]], [[0.0]], [[0.0]], [[0.0]], [[0.0]], [[0.0]], [[0.0]], [[0.0]], [[0.0]], [[0.0]], [[0.0]], [[0.0]], [[0.0]], [[0.0]], [[0.0]], [[0.0]], [[0.0]], [[0.0]], [[0.0]], [[0.0]], [[0.0]], [[0.0]], [[0.0]], [[0.0]], [[0.0]], [[0.0]], [[0.0]], [[0.0]], [[0.0]], [[0.0]], [[0.0]], [[0.0]], [[0.0]], [[0.0]], [[0.0]], [[0.0]], [[0.0]], [[0.0]], [[0.0]], [[0.0]], [[0.12704263627529144]], [[0.0]], [[0.0]], [[0.0]], [[0.25843799114227295]]]], \"firstDimensionName\": \"Layer\", \"secondDimensionName\": \"Neuron\"}\n",
       "    )\n",
       "    </script>"
      ],
      "text/plain": [
       "<circuitsvis.utils.render.RenderedHTML at 0x7f59f87ced30>"
      ]
     },
     "execution_count": 91,
     "metadata": {},
     "output_type": "execute_result"
    }
   ],
   "source": [
    "from circuitsvis.activations import text_neuron_activations\n",
    "\n",
    "tokens = [\n",
    "    inputs['input_ids'][batch_idx, :token_idx+1].tolist() for batch_idx, token_idx in zip(batch_indices, token_indices)\n",
    "]\n",
    "tokens = list_decode(tokens)\n",
    "activations = [\n",
    "    acts[batch_idx, :token_id+1, None, None] for batch_idx, token_id in zip(batch_indices, token_indices)\n",
    "]\n",
    "text_neuron_activations(tokens, activations)"
   ]
  },
  {
   "cell_type": "code",
   "execution_count": 18,
   "metadata": {},
   "outputs": [
    {
     "data": {
      "text/plain": [
       "tensor([40, 40, 40, 40, 40, 40, 40, 40, 15,  7,  7,  1, 15, 15, 15, 40, 15, 15,\n",
       "        15,  7, 53, 53, 15, 15,  7, 15, 15, 46,  1, 15])"
      ]
     },
     "execution_count": 18,
     "metadata": {},
     "output_type": "execute_result"
    }
   ],
   "source": [
    "batch_indices"
   ]
  },
  {
   "cell_type": "code",
   "execution_count": null,
   "metadata": {},
   "outputs": [],
   "source": []
  },
  {
   "cell_type": "code",
   "execution_count": 19,
   "metadata": {},
   "outputs": [
    {
     "name": "stdout",
     "output_type": "stream",
     "text": [
      "\n",
      "972 P.2d 566 (1999)\n",
      "CITY OF TACOMA, a municipal corporation, Appellant,\n",
      "v.\n",
      "FRANCISCAN FOUNDATION, aka St. Joseph Hospital And Healthcare Center, a Washington nonprofit corporation, Respondent.\n",
      "No. 23107-7-II.\n",
      "Court of Appeals of Washington, Division 2.\n",
      "March 5, 1999.\n",
      "*567 Jean P Homan, Assistant City Attorney, Tacoma, for Appellant.\n",
      "Linda Gayle White Atkins, Davis Wright Tremaine, Bellevue, for Respondent.\n",
      "HOUGHTON, J.\n",
      "\n"
     ]
    }
   ],
   "source": [
    "print(model.tokenizer.decode(inputs[40].ids))"
   ]
  },
  {
   "cell_type": "code",
   "execution_count": 22,
   "metadata": {},
   "outputs": [
    {
     "ename": "TypeError",
     "evalue": "can't convert cuda:0 device type tensor to numpy. Use Tensor.cpu() to copy the tensor to host memory first.",
     "output_type": "error",
     "traceback": [
      "\u001b[0;31m---------------------------------------------------------------------------\u001b[0m",
      "\u001b[0;31mTypeError\u001b[0m                                 Traceback (most recent call last)",
      "\u001b[1;32m/share/u/smarks/dictionary-circuits/testing.ipynb Cell 13\u001b[0m line \u001b[0;36m6\n\u001b[1;32m      <a href='vscode-notebook-cell://ssh-remote%2B10.200.205.162/share/u/smarks/dictionary-circuits/testing.ipynb#X15sdnNjb2RlLXJlbW90ZQ%3D%3D?line=3'>4</a>\u001b[0m found_indices \u001b[39m=\u001b[39m torch\u001b[39m.\u001b[39margsort(dictionary_activations, descending\u001b[39m=\u001b[39m\u001b[39mTrue\u001b[39;00m)[:k]\n\u001b[1;32m      <a href='vscode-notebook-cell://ssh-remote%2B10.200.205.162/share/u/smarks/dictionary-circuits/testing.ipynb#X15sdnNjb2RlLXJlbW90ZQ%3D%3D?line=4'>5</a>\u001b[0m num_datapoints \u001b[39m=\u001b[39m \u001b[39mint\u001b[39m(dictionary_activations\u001b[39m.\u001b[39mshape[\u001b[39m0\u001b[39m]\u001b[39m/\u001b[39m\u001b[39m128\u001b[39m)\n\u001b[0;32m----> <a href='vscode-notebook-cell://ssh-remote%2B10.200.205.162/share/u/smarks/dictionary-circuits/testing.ipynb#X15sdnNjb2RlLXJlbW90ZQ%3D%3D?line=5'>6</a>\u001b[0m datapoint_indices \u001b[39m=\u001b[39m[np\u001b[39m.\u001b[39munravel_index(i, (\u001b[39m64\u001b[39m, \u001b[39m128\u001b[39m)) \u001b[39mfor\u001b[39;00m i \u001b[39min\u001b[39;00m found_indices]\n\u001b[1;32m      <a href='vscode-notebook-cell://ssh-remote%2B10.200.205.162/share/u/smarks/dictionary-circuits/testing.ipynb#X15sdnNjb2RlLXJlbW90ZQ%3D%3D?line=6'>7</a>\u001b[0m text_list \u001b[39m=\u001b[39m []\n\u001b[1;32m      <a href='vscode-notebook-cell://ssh-remote%2B10.200.205.162/share/u/smarks/dictionary-circuits/testing.ipynb#X15sdnNjb2RlLXJlbW90ZQ%3D%3D?line=7'>8</a>\u001b[0m full_text \u001b[39m=\u001b[39m []\n",
      "\u001b[1;32m/share/u/smarks/dictionary-circuits/testing.ipynb Cell 13\u001b[0m line \u001b[0;36m6\n\u001b[1;32m      <a href='vscode-notebook-cell://ssh-remote%2B10.200.205.162/share/u/smarks/dictionary-circuits/testing.ipynb#X15sdnNjb2RlLXJlbW90ZQ%3D%3D?line=3'>4</a>\u001b[0m found_indices \u001b[39m=\u001b[39m torch\u001b[39m.\u001b[39margsort(dictionary_activations, descending\u001b[39m=\u001b[39m\u001b[39mTrue\u001b[39;00m)[:k]\n\u001b[1;32m      <a href='vscode-notebook-cell://ssh-remote%2B10.200.205.162/share/u/smarks/dictionary-circuits/testing.ipynb#X15sdnNjb2RlLXJlbW90ZQ%3D%3D?line=4'>5</a>\u001b[0m num_datapoints \u001b[39m=\u001b[39m \u001b[39mint\u001b[39m(dictionary_activations\u001b[39m.\u001b[39mshape[\u001b[39m0\u001b[39m]\u001b[39m/\u001b[39m\u001b[39m128\u001b[39m)\n\u001b[0;32m----> <a href='vscode-notebook-cell://ssh-remote%2B10.200.205.162/share/u/smarks/dictionary-circuits/testing.ipynb#X15sdnNjb2RlLXJlbW90ZQ%3D%3D?line=5'>6</a>\u001b[0m datapoint_indices \u001b[39m=\u001b[39m[np\u001b[39m.\u001b[39;49munravel_index(i, (\u001b[39m64\u001b[39;49m, \u001b[39m128\u001b[39;49m)) \u001b[39mfor\u001b[39;00m i \u001b[39min\u001b[39;00m found_indices]\n\u001b[1;32m      <a href='vscode-notebook-cell://ssh-remote%2B10.200.205.162/share/u/smarks/dictionary-circuits/testing.ipynb#X15sdnNjb2RlLXJlbW90ZQ%3D%3D?line=6'>7</a>\u001b[0m text_list \u001b[39m=\u001b[39m []\n\u001b[1;32m      <a href='vscode-notebook-cell://ssh-remote%2B10.200.205.162/share/u/smarks/dictionary-circuits/testing.ipynb#X15sdnNjb2RlLXJlbW90ZQ%3D%3D?line=7'>8</a>\u001b[0m full_text \u001b[39m=\u001b[39m []\n",
      "File \u001b[0;32m<__array_function__ internals>:200\u001b[0m, in \u001b[0;36munravel_index\u001b[0;34m(*args, **kwargs)\u001b[0m\n",
      "File \u001b[0;32m~/.local/lib/python3.8/site-packages/torch/_tensor.py:1030\u001b[0m, in \u001b[0;36mTensor.__array__\u001b[0;34m(self, dtype)\u001b[0m\n\u001b[1;32m   1028\u001b[0m     \u001b[39mreturn\u001b[39;00m handle_torch_function(Tensor\u001b[39m.\u001b[39m__array__, (\u001b[39mself\u001b[39m,), \u001b[39mself\u001b[39m, dtype\u001b[39m=\u001b[39mdtype)\n\u001b[1;32m   1029\u001b[0m \u001b[39mif\u001b[39;00m dtype \u001b[39mis\u001b[39;00m \u001b[39mNone\u001b[39;00m:\n\u001b[0;32m-> 1030\u001b[0m     \u001b[39mreturn\u001b[39;00m \u001b[39mself\u001b[39;49m\u001b[39m.\u001b[39;49mnumpy()\n\u001b[1;32m   1031\u001b[0m \u001b[39melse\u001b[39;00m:\n\u001b[1;32m   1032\u001b[0m     \u001b[39mreturn\u001b[39;00m \u001b[39mself\u001b[39m\u001b[39m.\u001b[39mnumpy()\u001b[39m.\u001b[39mastype(dtype, copy\u001b[39m=\u001b[39m\u001b[39mFalse\u001b[39;00m)\n",
      "\u001b[0;31mTypeError\u001b[0m: can't convert cuda:0 device type tensor to numpy. Use Tensor.cpu() to copy the tensor to host memory first."
     ]
    }
   ],
   "source": [
    "import numpy as np\n",
    "import torch\n",
    "k = 10\n",
    "found_indices = torch.argsort(dictionary_activations, descending=True)[:k]\n",
    "num_datapoints = int(dictionary_activations.shape[0]/128)\n",
    "datapoint_indices =[np.unravel_index(i, (64, 128)) for i in found_indices]\n",
    "text_list = []\n",
    "full_text = []\n",
    "token_list = []\n",
    "full_token_list = []\n",
    "for md, s_ind in datapoint_indices:\n",
    "    md = int(md)\n",
    "    s_ind = int(s_ind)\n",
    "    full_tok = torch.tensor(dataset[md][\"input_ids\"])\n",
    "    full_text.append(tokenizer.decode(full_tok))\n",
    "    tok = dataset[md][\"input_ids\"][:s_ind+1]\n",
    "    text = tokenizer.decode(tok)\n",
    "    text_list.append(text)\n",
    "    token_list.append(tok)\n",
    "    full_token_list.append(full_tok)\n",
    "text_list, full_text, token_list, full_token_list"
   ]
  },
  {
   "cell_type": "code",
   "execution_count": null,
   "metadata": {},
   "outputs": [],
   "source": [
    "# Now we can use the model to get the activations\n",
    "from torch.utils.data import DataLoader\n",
    "from tqdm.auto import tqdm\n",
    "from einops import rearrange\n",
    "import torch \n",
    "# num_features, d_model = autoencoder.encoder.shape # Fix this for shape purposes\n",
    "texts = buffer.text_batch()\n",
    "datapoints = len(texts)\n",
    "batch_size = 64\n",
    "neuron_activations = torch.zeros((datapoints*max_length, d_model))\n",
    "dictionary_activations = torch.zeros((datapoints*max_length))\n",
    "\n",
    "with torch.no_grad(), dataset.formatted_as(\"pt\"):\n",
    "    dl = DataLoader(dataset[\"input_ids\"], batch_size=batch_size)\n",
    "    for i, batch in enumerate(tqdm(dl)):\n",
    "        # Replace this with your residual stream stuff\n",
    "        # _, cache = model.run_with_cache(batch.to(device))\n",
    "        # batched_neuron_activations = rearrange(cache[cache_name], \"b s n -> (b s) n\" )\n",
    "\n",
    "        # Replace with your projection to probe direction\n",
    "        # batched_dictionary_activations = smaller_auto_encoder.encode(batched_neuron_activations)\n",
    "        dictionary_activations[i*batch_size*max_length:(i+1)*batch_size*max_length] = batched_dictionary_activations.cpu()"
   ]
  },
  {
   "cell_type": "code",
   "execution_count": 9,
   "metadata": {},
   "outputs": [],
   "source": [
    "import torch as t\n",
    "def entropy(p):\n",
    "    p = p/p.sum(dim=-1, keepdim=True)\n",
    "    log_p = p.log().nan_to_num()\n",
    "    entropies = -(p * log_p).sum(dim=-1)\n",
    "    out = entropies.nan_to_num().mean()\n",
    "    return out"
   ]
  },
  {
   "cell_type": "code",
   "execution_count": 10,
   "metadata": {},
   "outputs": [
    {
     "data": {
      "text/plain": [
       "tensor(0.4778)"
      ]
     },
     "execution_count": 10,
     "metadata": {},
     "output_type": "execute_result"
    }
   ],
   "source": [
    "x = t.Tensor([[0, 0,0], [1, 4, 2]])\n",
    "entropy(x)"
   ]
  },
  {
   "cell_type": "code",
   "execution_count": 11,
   "metadata": {},
   "outputs": [
    {
     "data": {
      "text/plain": [
       "tensor([[0., 0., 0.],\n",
       "        [1., 4., 2.]])"
      ]
     },
     "execution_count": 11,
     "metadata": {},
     "output_type": "execute_result"
    }
   ],
   "source": [
    "x"
   ]
  },
  {
   "cell_type": "code",
   "execution_count": 12,
   "metadata": {},
   "outputs": [
    {
     "data": {
      "text/plain": [
       "tensor([[   nan,    nan,    nan],\n",
       "        [0.0000, 5.5452, 1.3863]])"
      ]
     },
     "execution_count": 12,
     "metadata": {},
     "output_type": "execute_result"
    }
   ],
   "source": [
    "x * x.log()"
   ]
  },
  {
   "cell_type": "code",
   "execution_count": 6,
   "metadata": {},
   "outputs": [
    {
     "data": {
      "text/plain": [
       "nan"
      ]
     },
     "execution_count": 6,
     "metadata": {},
     "output_type": "execute_result"
    }
   ],
   "source": [
    "0 * float(\"-inf\")"
   ]
  },
  {
   "cell_type": "code",
   "execution_count": 1,
   "metadata": {},
   "outputs": [
    {
     "name": "stdout",
     "output_type": "stream",
     "text": [
      "Entropy: 0.6302395462989807\n",
      "Gradients: tensor([[ 0.5003,  0.2692, -0.1484,  6.2063,  6.2063],\n",
      "        [ 0.0000,  0.0000,  0.0000,  0.0000,  0.0000],\n",
      "        [ 0.0384,  0.0384, -0.0575,  6.1106,  6.1106]])\n"
     ]
    }
   ],
   "source": [
    "import torch as t\n",
    "\n",
    "def entropy(p):\n",
    "    eps = 1e-8\n",
    "    # Calculate the sum along the last dimension (i.e., sum of each vector in the batch)\n",
    "    p_sum = p.sum(dim=-1, keepdim=True)\n",
    "    \n",
    "    # Avoid in-place operations that can interfere with autograd\n",
    "    p_normed = p / (p_sum + eps)  # Add eps to prevent division by zero\n",
    "    \n",
    "    # Compute the log safely, adding eps inside the log to prevent log(0)\n",
    "    p_log = t.log(p_normed + eps)  # Add eps to prevent log(0)\n",
    "\n",
    "    # Compute the entropy, this will give zero for elements where p_normed is zero\n",
    "    ent = -(p_normed * p_log)\n",
    "    \n",
    "    # Zero out the entropy where the sum of p is zero (i.e., for all-zero vectors)\n",
    "    ent = t.where(p_sum > 0, ent, t.zeros_like(ent))\n",
    "\n",
    "    # Sum the entropy across the features and then take the mean across the batch\n",
    "    return ent.sum(dim=-1).mean()\n",
    "\n",
    "# Example usage:\n",
    "batch_size = 3\n",
    "vector_length = 5\n",
    "p = t.tensor([[0.1, 0.2, 0.7, 0.0, 0.0],\n",
    "              [0.0, 0.0, 0.0, 0.0, 0.0],  # All-zero vector\n",
    "              [0.3, 0.3, 0.4, 0.0, 0.0]], requires_grad=True)\n",
    "\n",
    "entropy_value = entropy(p)\n",
    "entropy_value.backward()\n",
    "\n",
    "print(\"Entropy:\", entropy_value.item())\n",
    "print(\"Gradients:\", p.grad)"
   ]
  },
  {
   "cell_type": "code",
   "execution_count": null,
   "metadata": {},
   "outputs": [],
   "source": []
  }
 ],
 "metadata": {
  "kernelspec": {
   "display_name": "Python 3",
   "language": "python",
   "name": "python3"
  },
  "language_info": {
   "codemirror_mode": {
    "name": "ipython",
    "version": 3
   },
   "file_extension": ".py",
   "mimetype": "text/x-python",
   "name": "python",
   "nbconvert_exporter": "python",
   "pygments_lexer": "ipython3",
   "version": "3.8.10"
  }
 },
 "nbformat": 4,
 "nbformat_minor": 2
}
