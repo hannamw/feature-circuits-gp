{
 "cells": [
  {
   "cell_type": "code",
   "execution_count": 1,
   "metadata": {},
   "outputs": [
    {
     "name": "stderr",
     "output_type": "stream",
     "text": [
      "/share/u/smarks/.local/lib/python3.8/site-packages/tqdm/auto.py:21: TqdmWarning: IProgress not found. Please update jupyter and ipywidgets. See https://ipywidgets.readthedocs.io/en/stable/user_install.html\n",
      "  from .autonotebook import tqdm as notebook_tqdm\n"
     ]
    }
   ],
   "source": [
    "import zstandard as zstd\n",
    "import json\n",
    "import os\n",
    "import io\n",
    "from tqdm import tqdm\n",
    "from nnsight import LanguageModel\n",
    "from dictionary_learning.buffer import ActivationBuffer\n",
    "from dictionary_learning.dictionary import AutoEncoder\n",
    "from dictionary_learning.training import trainSAE"
   ]
  },
  {
   "cell_type": "code",
   "execution_count": 2,
   "metadata": {},
   "outputs": [],
   "source": [
    "model = LanguageModel('EleutherAI/pythia-70m-deduped', device_map='cuda:0')\n",
    "submodule = model.gpt_neox.layers[2].mlp.dense_4h_to_h"
   ]
  },
  {
   "cell_type": "code",
   "execution_count": 8,
   "metadata": {},
   "outputs": [],
   "source": [
    "# set up data as a generator\n",
    "data_path = '/share/data/datasets/pile/the-eye.eu/public/AI/pile/train/00.jsonl.zst'\n",
    "compressed_file = open(data_path, 'rb')\n",
    "dctx = zstd.ZstdDecompressor()\n",
    "reader = dctx.stream_reader(compressed_file)\n",
    "text_stream = io.TextIOWrapper(reader, encoding='utf-8')\n",
    "def generator():\n",
    "    for line in text_stream:\n",
    "        yield json.loads(line)['text']\n",
    "data = generator()"
   ]
  },
  {
   "cell_type": "code",
   "execution_count": 9,
   "metadata": {},
   "outputs": [],
   "source": [
    "buffer = ActivationBuffer(\n",
    "    data,\n",
    "    model,\n",
    "    submodule,\n",
    "    in_batch_size=32,\n",
    "    n_ctxs=50000,\n",
    "    device='cuda:0'\n",
    ")"
   ]
  },
  {
   "cell_type": "code",
   "execution_count": 10,
   "metadata": {},
   "outputs": [
    {
     "name": "stderr",
     "output_type": "stream",
     "text": [
      "You're using a GPTNeoXTokenizerFast tokenizer. Please note that with a fast tokenizer, using the `__call__` method is faster than using a method to encode the text followed by a call to the `pad` method to get a padded encoding.\n"
     ]
    },
    {
     "name": "stdout",
     "output_type": "stream",
     "text": [
      "refreshing buffer...\n",
      "buffer refreshed...\n",
      "step 0 autoencoder loss: 1450.4136962890625\n"
     ]
    },
    {
     "name": "stderr",
     "output_type": "stream",
     "text": [
      "Setting `pad_token_id` to `eos_token_id`:0 for open-end generation.\n"
     ]
    },
    {
     "name": "stdout",
     "output_type": "stream",
     "text": [
      "step 0 reconstruction loss: 3.590599536895752, 4.790876865386963, 4.392487525939941\n",
      "step 10 autoencoder loss: 78.89643096923828\n"
     ]
    },
    {
     "name": "stderr",
     "output_type": "stream",
     "text": [
      "Setting `pad_token_id` to `eos_token_id`:0 for open-end generation.\n"
     ]
    },
    {
     "name": "stdout",
     "output_type": "stream",
     "text": [
      "step 10 reconstruction loss: 3.2184197902679443, 4.140627861022949, 4.1184797286987305\n",
      "step 20 autoencoder loss: 16.856502532958984\n"
     ]
    },
    {
     "name": "stderr",
     "output_type": "stream",
     "text": [
      "Setting `pad_token_id` to `eos_token_id`:0 for open-end generation.\n"
     ]
    },
    {
     "name": "stdout",
     "output_type": "stream",
     "text": [
      "step 20 reconstruction loss: 3.527282953262329, 4.245248317718506, 4.214369297027588\n",
      "step 30 autoencoder loss: 6.718308448791504\n"
     ]
    },
    {
     "name": "stderr",
     "output_type": "stream",
     "text": [
      "Setting `pad_token_id` to `eos_token_id`:0 for open-end generation.\n"
     ]
    },
    {
     "name": "stdout",
     "output_type": "stream",
     "text": [
      "step 30 reconstruction loss: 3.672372817993164, 4.391404151916504, 4.341726303100586\n",
      "step 40 autoencoder loss: 3.991628885269165\n"
     ]
    },
    {
     "name": "stderr",
     "output_type": "stream",
     "text": [
      "Setting `pad_token_id` to `eos_token_id`:0 for open-end generation.\n"
     ]
    },
    {
     "name": "stdout",
     "output_type": "stream",
     "text": [
      "step 40 reconstruction loss: 3.3809401988983154, 4.3255767822265625, 4.261267185211182\n",
      "step 50 autoencoder loss: 4.025025844573975\n"
     ]
    },
    {
     "name": "stderr",
     "output_type": "stream",
     "text": [
      "Setting `pad_token_id` to `eos_token_id`:0 for open-end generation.\n"
     ]
    },
    {
     "name": "stdout",
     "output_type": "stream",
     "text": [
      "step 50 reconstruction loss: 3.35168719291687, 4.712932109832764, 4.672419548034668\n",
      "step 60 autoencoder loss: 1.0466097593307495\n"
     ]
    },
    {
     "name": "stderr",
     "output_type": "stream",
     "text": [
      "Setting `pad_token_id` to `eos_token_id`:0 for open-end generation.\n"
     ]
    },
    {
     "name": "stdout",
     "output_type": "stream",
     "text": [
      "step 60 reconstruction loss: 3.5529887676239014, 4.261916637420654, 4.1940388679504395\n",
      "step 70 autoencoder loss: 1.6538187265396118\n"
     ]
    },
    {
     "name": "stderr",
     "output_type": "stream",
     "text": [
      "Setting `pad_token_id` to `eos_token_id`:0 for open-end generation.\n"
     ]
    },
    {
     "name": "stdout",
     "output_type": "stream",
     "text": [
      "step 70 reconstruction loss: 3.5036566257476807, 4.446699619293213, 4.395413398742676\n",
      "step 80 autoencoder loss: 1.0579885244369507\n"
     ]
    },
    {
     "name": "stderr",
     "output_type": "stream",
     "text": [
      "Setting `pad_token_id` to `eos_token_id`:0 for open-end generation.\n"
     ]
    },
    {
     "name": "stdout",
     "output_type": "stream",
     "text": [
      "step 80 reconstruction loss: 3.558642864227295, 4.425388813018799, 4.339437961578369\n",
      "step 90 autoencoder loss: 1.08426833152771\n"
     ]
    },
    {
     "name": "stderr",
     "output_type": "stream",
     "text": [
      "Setting `pad_token_id` to `eos_token_id`:0 for open-end generation.\n"
     ]
    },
    {
     "name": "stdout",
     "output_type": "stream",
     "text": [
      "step 90 reconstruction loss: 3.258854866027832, 4.260544300079346, 4.168935298919678\n",
      "step 100 autoencoder loss: 1.3136922121047974\n"
     ]
    },
    {
     "name": "stderr",
     "output_type": "stream",
     "text": [
      "Setting `pad_token_id` to `eos_token_id`:0 for open-end generation.\n"
     ]
    },
    {
     "name": "stdout",
     "output_type": "stream",
     "text": [
      "step 100 reconstruction loss: 3.4956300258636475, 4.268211841583252, 4.195052623748779\n",
      "step 110 autoencoder loss: 0.768514096736908\n"
     ]
    },
    {
     "name": "stderr",
     "output_type": "stream",
     "text": [
      "Setting `pad_token_id` to `eos_token_id`:0 for open-end generation.\n"
     ]
    },
    {
     "name": "stdout",
     "output_type": "stream",
     "text": [
      "step 110 reconstruction loss: 3.443350315093994, 4.42365026473999, 4.334343433380127\n",
      "step 120 autoencoder loss: 1.3317840099334717\n"
     ]
    },
    {
     "name": "stderr",
     "output_type": "stream",
     "text": [
      "Setting `pad_token_id` to `eos_token_id`:0 for open-end generation.\n"
     ]
    },
    {
     "name": "stdout",
     "output_type": "stream",
     "text": [
      "step 120 reconstruction loss: 3.556145429611206, 4.345280170440674, 4.260939598083496\n",
      "step 130 autoencoder loss: 0.8515788912773132\n"
     ]
    },
    {
     "name": "stderr",
     "output_type": "stream",
     "text": [
      "Setting `pad_token_id` to `eos_token_id`:0 for open-end generation.\n"
     ]
    },
    {
     "name": "stdout",
     "output_type": "stream",
     "text": [
      "step 130 reconstruction loss: 3.4467084407806396, 4.372257709503174, 4.279202461242676\n",
      "step 140 autoencoder loss: 0.8472854495048523\n"
     ]
    },
    {
     "name": "stderr",
     "output_type": "stream",
     "text": [
      "Setting `pad_token_id` to `eos_token_id`:0 for open-end generation.\n"
     ]
    },
    {
     "name": "stdout",
     "output_type": "stream",
     "text": [
      "step 140 reconstruction loss: 3.5446951389312744, 4.391582489013672, 4.297210693359375\n",
      "step 150 autoencoder loss: 0.8573634028434753\n"
     ]
    },
    {
     "name": "stderr",
     "output_type": "stream",
     "text": [
      "Setting `pad_token_id` to `eos_token_id`:0 for open-end generation.\n"
     ]
    },
    {
     "name": "stdout",
     "output_type": "stream",
     "text": [
      "step 150 reconstruction loss: 3.579547166824341, 4.371214866638184, 4.286500930786133\n",
      "step 160 autoencoder loss: 0.8456496596336365\n"
     ]
    },
    {
     "name": "stderr",
     "output_type": "stream",
     "text": [
      "Setting `pad_token_id` to `eos_token_id`:0 for open-end generation.\n"
     ]
    },
    {
     "name": "stdout",
     "output_type": "stream",
     "text": [
      "step 160 reconstruction loss: 3.717186689376831, 4.574251651763916, 4.497876167297363\n",
      "step 170 autoencoder loss: 0.8049551844596863\n"
     ]
    },
    {
     "name": "stderr",
     "output_type": "stream",
     "text": [
      "Setting `pad_token_id` to `eos_token_id`:0 for open-end generation.\n"
     ]
    },
    {
     "name": "stdout",
     "output_type": "stream",
     "text": [
      "step 170 reconstruction loss: 3.4970574378967285, 4.546909332275391, 4.445028305053711\n",
      "step 180 autoencoder loss: 0.63819420337677\n"
     ]
    },
    {
     "name": "stderr",
     "output_type": "stream",
     "text": [
      "Setting `pad_token_id` to `eos_token_id`:0 for open-end generation.\n"
     ]
    },
    {
     "name": "stdout",
     "output_type": "stream",
     "text": [
      "step 180 reconstruction loss: 3.401989698410034, 4.233234882354736, 4.138561248779297\n",
      "step 190 autoencoder loss: 0.7767212986946106\n"
     ]
    },
    {
     "name": "stderr",
     "output_type": "stream",
     "text": [
      "Setting `pad_token_id` to `eos_token_id`:0 for open-end generation.\n"
     ]
    },
    {
     "name": "stdout",
     "output_type": "stream",
     "text": [
      "step 190 reconstruction loss: 3.3804962635040283, 4.316519737243652, 4.207769870758057\n",
      "step 200 autoencoder loss: 0.7330249547958374\n"
     ]
    },
    {
     "name": "stderr",
     "output_type": "stream",
     "text": [
      "Setting `pad_token_id` to `eos_token_id`:0 for open-end generation.\n"
     ]
    },
    {
     "name": "stdout",
     "output_type": "stream",
     "text": [
      "step 200 reconstruction loss: 3.4100453853607178, 4.251415729522705, 4.150090217590332\n",
      "step 210 autoencoder loss: 0.7213724851608276\n"
     ]
    },
    {
     "name": "stderr",
     "output_type": "stream",
     "text": [
      "Setting `pad_token_id` to `eos_token_id`:0 for open-end generation.\n"
     ]
    },
    {
     "name": "stdout",
     "output_type": "stream",
     "text": [
      "step 210 reconstruction loss: 3.2418150901794434, 4.1892499923706055, 4.091891288757324\n",
      "step 220 autoencoder loss: 0.8191694021224976\n"
     ]
    },
    {
     "name": "stderr",
     "output_type": "stream",
     "text": [
      "Setting `pad_token_id` to `eos_token_id`:0 for open-end generation.\n"
     ]
    },
    {
     "name": "stdout",
     "output_type": "stream",
     "text": [
      "step 220 reconstruction loss: 3.336033821105957, 4.287071704864502, 4.221377372741699\n",
      "step 230 autoencoder loss: 0.9064232707023621\n"
     ]
    },
    {
     "name": "stderr",
     "output_type": "stream",
     "text": [
      "Setting `pad_token_id` to `eos_token_id`:0 for open-end generation.\n"
     ]
    },
    {
     "name": "stdout",
     "output_type": "stream",
     "text": [
      "step 230 reconstruction loss: 3.679743528366089, 4.603598117828369, 4.511556625366211\n",
      "step 240 autoencoder loss: 0.6473414897918701\n"
     ]
    },
    {
     "name": "stderr",
     "output_type": "stream",
     "text": [
      "Setting `pad_token_id` to `eos_token_id`:0 for open-end generation.\n"
     ]
    },
    {
     "name": "stdout",
     "output_type": "stream",
     "text": [
      "step 240 reconstruction loss: 3.4659769535064697, 4.26053524017334, 4.163230895996094\n",
      "step 250 autoencoder loss: 0.7874559760093689\n"
     ]
    },
    {
     "name": "stderr",
     "output_type": "stream",
     "text": [
      "Setting `pad_token_id` to `eos_token_id`:0 for open-end generation.\n"
     ]
    },
    {
     "name": "stdout",
     "output_type": "stream",
     "text": [
      "step 250 reconstruction loss: 3.4773426055908203, 4.331633567810059, 4.231361389160156\n",
      "step 260 autoencoder loss: 0.6856497526168823\n"
     ]
    },
    {
     "name": "stderr",
     "output_type": "stream",
     "text": [
      "Setting `pad_token_id` to `eos_token_id`:0 for open-end generation.\n"
     ]
    },
    {
     "name": "stdout",
     "output_type": "stream",
     "text": [
      "step 260 reconstruction loss: 3.238802671432495, 4.384406089782715, 4.266166687011719\n",
      "step 270 autoencoder loss: 0.6877039670944214\n"
     ]
    },
    {
     "name": "stderr",
     "output_type": "stream",
     "text": [
      "Setting `pad_token_id` to `eos_token_id`:0 for open-end generation.\n"
     ]
    },
    {
     "name": "stdout",
     "output_type": "stream",
     "text": [
      "step 270 reconstruction loss: 3.5886404514312744, 4.446045875549316, 4.377697467803955\n",
      "step 280 autoencoder loss: 0.6471118330955505\n"
     ]
    },
    {
     "name": "stderr",
     "output_type": "stream",
     "text": [
      "Setting `pad_token_id` to `eos_token_id`:0 for open-end generation.\n"
     ]
    },
    {
     "name": "stdout",
     "output_type": "stream",
     "text": [
      "step 280 reconstruction loss: 3.6754400730133057, 5.382715225219727, 5.298365592956543\n",
      "step 290 autoencoder loss: 0.7167354822158813\n"
     ]
    },
    {
     "name": "stderr",
     "output_type": "stream",
     "text": [
      "Setting `pad_token_id` to `eos_token_id`:0 for open-end generation.\n"
     ]
    },
    {
     "name": "stdout",
     "output_type": "stream",
     "text": [
      "step 290 reconstruction loss: 3.4944212436676025, 4.504805564880371, 4.39358377456665\n",
      "step 300 autoencoder loss: 0.7003014087677002\n"
     ]
    },
    {
     "name": "stderr",
     "output_type": "stream",
     "text": [
      "Setting `pad_token_id` to `eos_token_id`:0 for open-end generation.\n"
     ]
    },
    {
     "name": "stdout",
     "output_type": "stream",
     "text": [
      "step 300 reconstruction loss: 3.5667240619659424, 4.35846471786499, 4.258049964904785\n",
      "step 310 autoencoder loss: 0.686279296875\n"
     ]
    },
    {
     "name": "stderr",
     "output_type": "stream",
     "text": [
      "Setting `pad_token_id` to `eos_token_id`:0 for open-end generation.\n"
     ]
    },
    {
     "name": "stdout",
     "output_type": "stream",
     "text": [
      "step 310 reconstruction loss: 3.760366201400757, 4.6005144119262695, 4.498544216156006\n",
      "step 320 autoencoder loss: 0.7911717891693115\n"
     ]
    },
    {
     "name": "stderr",
     "output_type": "stream",
     "text": [
      "Setting `pad_token_id` to `eos_token_id`:0 for open-end generation.\n"
     ]
    },
    {
     "name": "stdout",
     "output_type": "stream",
     "text": [
      "step 320 reconstruction loss: 3.461460590362549, 4.340712547302246, 4.249142646789551\n",
      "step 330 autoencoder loss: 0.6578054428100586\n"
     ]
    },
    {
     "name": "stderr",
     "output_type": "stream",
     "text": [
      "Setting `pad_token_id` to `eos_token_id`:0 for open-end generation.\n"
     ]
    },
    {
     "name": "stdout",
     "output_type": "stream",
     "text": [
      "step 330 reconstruction loss: 3.4211151599884033, 4.336319446563721, 4.240719795227051\n",
      "step 340 autoencoder loss: 0.561064600944519\n"
     ]
    },
    {
     "name": "stderr",
     "output_type": "stream",
     "text": [
      "Setting `pad_token_id` to `eos_token_id`:0 for open-end generation.\n"
     ]
    },
    {
     "name": "stdout",
     "output_type": "stream",
     "text": [
      "step 340 reconstruction loss: 3.51365065574646, 4.364659786224365, 4.262423038482666\n",
      "step 350 autoencoder loss: 0.7659068703651428\n"
     ]
    },
    {
     "name": "stderr",
     "output_type": "stream",
     "text": [
      "Setting `pad_token_id` to `eos_token_id`:0 for open-end generation.\n"
     ]
    },
    {
     "name": "stdout",
     "output_type": "stream",
     "text": [
      "step 350 reconstruction loss: 3.1447017192840576, 4.370701313018799, 4.263537883758545\n",
      "step 360 autoencoder loss: 0.6668990254402161\n"
     ]
    },
    {
     "name": "stderr",
     "output_type": "stream",
     "text": [
      "Setting `pad_token_id` to `eos_token_id`:0 for open-end generation.\n"
     ]
    },
    {
     "name": "stdout",
     "output_type": "stream",
     "text": [
      "step 360 reconstruction loss: 3.633835792541504, 4.403352737426758, 4.299761772155762\n",
      "step 370 autoencoder loss: 0.6346428990364075\n"
     ]
    },
    {
     "name": "stderr",
     "output_type": "stream",
     "text": [
      "Setting `pad_token_id` to `eos_token_id`:0 for open-end generation.\n"
     ]
    },
    {
     "name": "stdout",
     "output_type": "stream",
     "text": [
      "step 370 reconstruction loss: 3.354438066482544, 4.235866069793701, 4.128443717956543\n",
      "step 380 autoencoder loss: 0.7282699942588806\n"
     ]
    },
    {
     "name": "stderr",
     "output_type": "stream",
     "text": [
      "Setting `pad_token_id` to `eos_token_id`:0 for open-end generation.\n"
     ]
    },
    {
     "name": "stdout",
     "output_type": "stream",
     "text": [
      "step 380 reconstruction loss: 3.7530810832977295, 4.6022443771362305, 4.492023468017578\n",
      "step 390 autoencoder loss: 0.812287449836731\n"
     ]
    },
    {
     "name": "stderr",
     "output_type": "stream",
     "text": [
      "Setting `pad_token_id` to `eos_token_id`:0 for open-end generation.\n"
     ]
    },
    {
     "name": "stdout",
     "output_type": "stream",
     "text": [
      "step 390 reconstruction loss: 3.3427956104278564, 4.269778728485107, 4.1504364013671875\n",
      "step 400 autoencoder loss: 0.7233824133872986\n"
     ]
    },
    {
     "name": "stderr",
     "output_type": "stream",
     "text": [
      "Setting `pad_token_id` to `eos_token_id`:0 for open-end generation.\n"
     ]
    },
    {
     "name": "stdout",
     "output_type": "stream",
     "text": [
      "step 400 reconstruction loss: 3.3928070068359375, 4.274655342102051, 4.161077976226807\n",
      "step 410 autoencoder loss: 0.8648385405540466\n"
     ]
    },
    {
     "name": "stderr",
     "output_type": "stream",
     "text": [
      "Setting `pad_token_id` to `eos_token_id`:0 for open-end generation.\n"
     ]
    },
    {
     "name": "stdout",
     "output_type": "stream",
     "text": [
      "step 410 reconstruction loss: 3.445444345474243, 4.368004322052002, 4.255974292755127\n",
      "step 420 autoencoder loss: 0.5673783421516418\n"
     ]
    },
    {
     "name": "stderr",
     "output_type": "stream",
     "text": [
      "Setting `pad_token_id` to `eos_token_id`:0 for open-end generation.\n"
     ]
    },
    {
     "name": "stdout",
     "output_type": "stream",
     "text": [
      "step 420 reconstruction loss: 3.617023229598999, 4.59238338470459, 4.51646614074707\n",
      "step 430 autoencoder loss: 0.6648508906364441\n"
     ]
    },
    {
     "name": "stderr",
     "output_type": "stream",
     "text": [
      "Setting `pad_token_id` to `eos_token_id`:0 for open-end generation.\n"
     ]
    },
    {
     "name": "stdout",
     "output_type": "stream",
     "text": [
      "step 430 reconstruction loss: 3.4771881103515625, 4.355823040008545, 4.237181663513184\n",
      "step 440 autoencoder loss: 0.6399553418159485\n"
     ]
    },
    {
     "name": "stderr",
     "output_type": "stream",
     "text": [
      "Setting `pad_token_id` to `eos_token_id`:0 for open-end generation.\n"
     ]
    },
    {
     "name": "stdout",
     "output_type": "stream",
     "text": [
      "step 440 reconstruction loss: 3.391021728515625, 4.656366348266602, 4.575791358947754\n",
      "step 450 autoencoder loss: 0.5908512473106384\n"
     ]
    },
    {
     "name": "stderr",
     "output_type": "stream",
     "text": [
      "Setting `pad_token_id` to `eos_token_id`:0 for open-end generation.\n"
     ]
    },
    {
     "name": "stdout",
     "output_type": "stream",
     "text": [
      "step 450 reconstruction loss: 3.3910703659057617, 4.346498966217041, 4.216588497161865\n",
      "step 460 autoencoder loss: 0.604373574256897\n"
     ]
    },
    {
     "name": "stderr",
     "output_type": "stream",
     "text": [
      "Setting `pad_token_id` to `eos_token_id`:0 for open-end generation.\n"
     ]
    },
    {
     "name": "stdout",
     "output_type": "stream",
     "text": [
      "step 460 reconstruction loss: 3.4986724853515625, 4.40947151184082, 4.301242351531982\n",
      "step 470 autoencoder loss: 0.7329536080360413\n"
     ]
    },
    {
     "name": "stderr",
     "output_type": "stream",
     "text": [
      "Setting `pad_token_id` to `eos_token_id`:0 for open-end generation.\n"
     ]
    },
    {
     "name": "stdout",
     "output_type": "stream",
     "text": [
      "step 470 reconstruction loss: 3.1037473678588867, 4.15472936630249, 4.028903484344482\n",
      "step 480 autoencoder loss: 0.6148553490638733\n"
     ]
    },
    {
     "name": "stderr",
     "output_type": "stream",
     "text": [
      "Setting `pad_token_id` to `eos_token_id`:0 for open-end generation.\n"
     ]
    },
    {
     "name": "stdout",
     "output_type": "stream",
     "text": [
      "step 480 reconstruction loss: 3.3911545276641846, 4.257999420166016, 4.153192520141602\n",
      "step 490 autoencoder loss: 0.7283810973167419\n"
     ]
    },
    {
     "name": "stderr",
     "output_type": "stream",
     "text": [
      "Setting `pad_token_id` to `eos_token_id`:0 for open-end generation.\n"
     ]
    },
    {
     "name": "stdout",
     "output_type": "stream",
     "text": [
      "step 490 reconstruction loss: 3.4806666374206543, 4.282260894775391, 4.1614155769348145\n",
      "step 500 autoencoder loss: 0.6720120906829834\n"
     ]
    },
    {
     "name": "stderr",
     "output_type": "stream",
     "text": [
      "Setting `pad_token_id` to `eos_token_id`:0 for open-end generation.\n"
     ]
    },
    {
     "name": "stdout",
     "output_type": "stream",
     "text": [
      "step 500 reconstruction loss: 3.5245044231414795, 4.490935802459717, 4.387037754058838\n",
      "step 510 autoencoder loss: 0.6539084911346436\n"
     ]
    },
    {
     "name": "stderr",
     "output_type": "stream",
     "text": [
      "Setting `pad_token_id` to `eos_token_id`:0 for open-end generation.\n"
     ]
    },
    {
     "name": "stdout",
     "output_type": "stream",
     "text": [
      "step 510 reconstruction loss: 3.2809789180755615, 4.133242607116699, 4.009017467498779\n",
      "step 520 autoencoder loss: 0.6181953549385071\n"
     ]
    },
    {
     "name": "stderr",
     "output_type": "stream",
     "text": [
      "Setting `pad_token_id` to `eos_token_id`:0 for open-end generation.\n"
     ]
    },
    {
     "name": "stdout",
     "output_type": "stream",
     "text": [
      "step 520 reconstruction loss: 3.4175424575805664, 4.3159871101379395, 4.198557376861572\n",
      "step 530 autoencoder loss: 0.789790689945221\n"
     ]
    },
    {
     "name": "stderr",
     "output_type": "stream",
     "text": [
      "Setting `pad_token_id` to `eos_token_id`:0 for open-end generation.\n"
     ]
    },
    {
     "name": "stdout",
     "output_type": "stream",
     "text": [
      "step 530 reconstruction loss: 3.4929463863372803, 4.3760271072387695, 4.255693435668945\n",
      "step 540 autoencoder loss: 0.6703746318817139\n"
     ]
    },
    {
     "name": "stderr",
     "output_type": "stream",
     "text": [
      "Setting `pad_token_id` to `eos_token_id`:0 for open-end generation.\n"
     ]
    },
    {
     "name": "stdout",
     "output_type": "stream",
     "text": [
      "step 540 reconstruction loss: 3.541059970855713, 4.350634574890137, 4.230865955352783\n",
      "step 550 autoencoder loss: 0.7096288204193115\n"
     ]
    },
    {
     "name": "stderr",
     "output_type": "stream",
     "text": [
      "Setting `pad_token_id` to `eos_token_id`:0 for open-end generation.\n"
     ]
    },
    {
     "name": "stdout",
     "output_type": "stream",
     "text": [
      "step 550 reconstruction loss: 3.561678886413574, 4.527472972869873, 4.406067371368408\n",
      "step 560 autoencoder loss: 0.5410515069961548\n"
     ]
    },
    {
     "name": "stderr",
     "output_type": "stream",
     "text": [
      "Setting `pad_token_id` to `eos_token_id`:0 for open-end generation.\n"
     ]
    },
    {
     "name": "stdout",
     "output_type": "stream",
     "text": [
      "step 560 reconstruction loss: 3.438183307647705, 4.318231582641602, 4.19899320602417\n",
      "step 570 autoencoder loss: 0.49803590774536133\n"
     ]
    },
    {
     "name": "stderr",
     "output_type": "stream",
     "text": [
      "Setting `pad_token_id` to `eos_token_id`:0 for open-end generation.\n"
     ]
    },
    {
     "name": "stdout",
     "output_type": "stream",
     "text": [
      "step 570 reconstruction loss: 3.424777030944824, 4.308020114898682, 4.193495273590088\n",
      "step 580 autoencoder loss: 0.5114027857780457\n"
     ]
    },
    {
     "name": "stderr",
     "output_type": "stream",
     "text": [
      "Setting `pad_token_id` to `eos_token_id`:0 for open-end generation.\n"
     ]
    },
    {
     "name": "stdout",
     "output_type": "stream",
     "text": [
      "step 580 reconstruction loss: 3.609578847885132, 4.466050148010254, 4.348686218261719\n",
      "step 590 autoencoder loss: 0.8141752481460571\n"
     ]
    },
    {
     "name": "stderr",
     "output_type": "stream",
     "text": [
      "Setting `pad_token_id` to `eos_token_id`:0 for open-end generation.\n"
     ]
    },
    {
     "name": "stdout",
     "output_type": "stream",
     "text": [
      "step 590 reconstruction loss: 3.3369290828704834, 4.265807151794434, 4.153492450714111\n",
      "step 600 autoencoder loss: 0.7115910649299622\n"
     ]
    },
    {
     "name": "stderr",
     "output_type": "stream",
     "text": [
      "Setting `pad_token_id` to `eos_token_id`:0 for open-end generation.\n"
     ]
    },
    {
     "name": "stdout",
     "output_type": "stream",
     "text": [
      "step 600 reconstruction loss: 3.4728012084960938, 4.329510688781738, 4.21223258972168\n",
      "step 610 autoencoder loss: 0.7135298848152161\n"
     ]
    },
    {
     "name": "stderr",
     "output_type": "stream",
     "text": [
      "Setting `pad_token_id` to `eos_token_id`:0 for open-end generation.\n"
     ]
    },
    {
     "name": "stdout",
     "output_type": "stream",
     "text": [
      "step 610 reconstruction loss: 3.416138172149658, 4.3033037185668945, 4.180057525634766\n",
      "step 620 autoencoder loss: 0.5996581315994263\n"
     ]
    },
    {
     "name": "stderr",
     "output_type": "stream",
     "text": [
      "Setting `pad_token_id` to `eos_token_id`:0 for open-end generation.\n"
     ]
    },
    {
     "name": "stdout",
     "output_type": "stream",
     "text": [
      "step 620 reconstruction loss: 3.5676047801971436, 4.530853271484375, 4.423983573913574\n",
      "step 630 autoencoder loss: 0.7138349413871765\n"
     ]
    },
    {
     "name": "stderr",
     "output_type": "stream",
     "text": [
      "Setting `pad_token_id` to `eos_token_id`:0 for open-end generation.\n"
     ]
    },
    {
     "name": "stdout",
     "output_type": "stream",
     "text": [
      "step 630 reconstruction loss: 3.4211106300354004, 4.266877174377441, 4.144010543823242\n",
      "step 640 autoencoder loss: 0.7129166722297668\n"
     ]
    },
    {
     "name": "stderr",
     "output_type": "stream",
     "text": [
      "Setting `pad_token_id` to `eos_token_id`:0 for open-end generation.\n"
     ]
    },
    {
     "name": "stdout",
     "output_type": "stream",
     "text": [
      "step 640 reconstruction loss: 3.303272247314453, 4.391583442687988, 4.251872539520264\n",
      "step 650 autoencoder loss: 0.6950992345809937\n"
     ]
    },
    {
     "name": "stderr",
     "output_type": "stream",
     "text": [
      "Setting `pad_token_id` to `eos_token_id`:0 for open-end generation.\n"
     ]
    },
    {
     "name": "stdout",
     "output_type": "stream",
     "text": [
      "step 650 reconstruction loss: 3.09118390083313, 3.9634106159210205, 3.8326385021209717\n",
      "step 660 autoencoder loss: 0.6365888714790344\n"
     ]
    },
    {
     "name": "stderr",
     "output_type": "stream",
     "text": [
      "Setting `pad_token_id` to `eos_token_id`:0 for open-end generation.\n"
     ]
    },
    {
     "name": "stdout",
     "output_type": "stream",
     "text": [
      "step 660 reconstruction loss: 3.4666175842285156, 4.3129496574401855, 4.193431854248047\n",
      "step 670 autoencoder loss: 0.6689017415046692\n"
     ]
    },
    {
     "name": "stderr",
     "output_type": "stream",
     "text": [
      "Setting `pad_token_id` to `eos_token_id`:0 for open-end generation.\n"
     ]
    },
    {
     "name": "stdout",
     "output_type": "stream",
     "text": [
      "step 670 reconstruction loss: 3.5214359760284424, 4.359617710113525, 4.245688438415527\n",
      "step 680 autoencoder loss: 0.5638435482978821\n"
     ]
    },
    {
     "name": "stderr",
     "output_type": "stream",
     "text": [
      "Setting `pad_token_id` to `eos_token_id`:0 for open-end generation.\n"
     ]
    },
    {
     "name": "stdout",
     "output_type": "stream",
     "text": [
      "step 680 reconstruction loss: 3.4792041778564453, 4.376461029052734, 4.254787445068359\n",
      "step 690 autoencoder loss: 0.9162218570709229\n"
     ]
    },
    {
     "name": "stderr",
     "output_type": "stream",
     "text": [
      "Setting `pad_token_id` to `eos_token_id`:0 for open-end generation.\n"
     ]
    },
    {
     "name": "stdout",
     "output_type": "stream",
     "text": [
      "step 690 reconstruction loss: 3.33476185798645, 4.3475213050842285, 4.208383560180664\n",
      "step 700 autoencoder loss: 0.7245649695396423\n"
     ]
    },
    {
     "name": "stderr",
     "output_type": "stream",
     "text": [
      "Setting `pad_token_id` to `eos_token_id`:0 for open-end generation.\n"
     ]
    },
    {
     "name": "stdout",
     "output_type": "stream",
     "text": [
      "step 700 reconstruction loss: 3.2612600326538086, 4.183578968048096, 4.0559773445129395\n",
      "step 710 autoencoder loss: 0.8387758731842041\n"
     ]
    },
    {
     "name": "stderr",
     "output_type": "stream",
     "text": [
      "Setting `pad_token_id` to `eos_token_id`:0 for open-end generation.\n"
     ]
    },
    {
     "name": "stdout",
     "output_type": "stream",
     "text": [
      "step 710 reconstruction loss: 3.562415599822998, 4.459833145141602, 4.336504936218262\n",
      "step 720 autoencoder loss: 0.7022346258163452\n"
     ]
    },
    {
     "name": "stderr",
     "output_type": "stream",
     "text": [
      "Setting `pad_token_id` to `eos_token_id`:0 for open-end generation.\n"
     ]
    },
    {
     "name": "stdout",
     "output_type": "stream",
     "text": [
      "step 720 reconstruction loss: 3.3809382915496826, 4.351256847381592, 4.240760326385498\n",
      "step 730 autoencoder loss: 0.7764738202095032\n"
     ]
    },
    {
     "name": "stderr",
     "output_type": "stream",
     "text": [
      "Setting `pad_token_id` to `eos_token_id`:0 for open-end generation.\n"
     ]
    },
    {
     "name": "stdout",
     "output_type": "stream",
     "text": [
      "step 730 reconstruction loss: 3.225510358810425, 4.083312034606934, 3.9601545333862305\n",
      "step 740 autoencoder loss: 0.6824787855148315\n"
     ]
    },
    {
     "name": "stderr",
     "output_type": "stream",
     "text": [
      "Setting `pad_token_id` to `eos_token_id`:0 for open-end generation.\n"
     ]
    },
    {
     "name": "stdout",
     "output_type": "stream",
     "text": [
      "step 740 reconstruction loss: 3.5186867713928223, 4.358073711395264, 4.230801105499268\n",
      "step 750 autoencoder loss: 0.804563045501709\n"
     ]
    },
    {
     "name": "stderr",
     "output_type": "stream",
     "text": [
      "Setting `pad_token_id` to `eos_token_id`:0 for open-end generation.\n"
     ]
    },
    {
     "name": "stdout",
     "output_type": "stream",
     "text": [
      "step 750 reconstruction loss: 3.334333658218384, 4.251237869262695, 4.11647367477417\n",
      "step 760 autoencoder loss: 0.7606722712516785\n"
     ]
    },
    {
     "name": "stderr",
     "output_type": "stream",
     "text": [
      "Setting `pad_token_id` to `eos_token_id`:0 for open-end generation.\n"
     ]
    },
    {
     "name": "stdout",
     "output_type": "stream",
     "text": [
      "step 760 reconstruction loss: 3.392336368560791, 4.31434440612793, 4.190186023712158\n",
      "step 770 autoencoder loss: 0.6427271366119385\n"
     ]
    },
    {
     "name": "stderr",
     "output_type": "stream",
     "text": [
      "Setting `pad_token_id` to `eos_token_id`:0 for open-end generation.\n"
     ]
    },
    {
     "name": "stdout",
     "output_type": "stream",
     "text": [
      "step 770 reconstruction loss: 3.4173061847686768, 4.487847805023193, 4.348167419433594\n",
      "step 780 autoencoder loss: 0.5607128143310547\n"
     ]
    },
    {
     "name": "stderr",
     "output_type": "stream",
     "text": [
      "Setting `pad_token_id` to `eos_token_id`:0 for open-end generation.\n"
     ]
    },
    {
     "name": "stdout",
     "output_type": "stream",
     "text": [
      "step 780 reconstruction loss: 3.516533136367798, 4.515657424926758, 4.429915428161621\n",
      "refreshing buffer...\n"
     ]
    },
    {
     "name": "stderr",
     "output_type": "stream",
     "text": [
      "A decoder-only architecture is being used, but right-padding was detected! For correct generation results, please set `padding_side='left'` when initializing the tokenizer.\n"
     ]
    },
    {
     "name": "stdout",
     "output_type": "stream",
     "text": [
      "buffer refreshed...\n",
      "step 790 autoencoder loss: 0.7432670593261719\n"
     ]
    },
    {
     "name": "stderr",
     "output_type": "stream",
     "text": [
      "Setting `pad_token_id` to `eos_token_id`:0 for open-end generation.\n"
     ]
    },
    {
     "name": "stdout",
     "output_type": "stream",
     "text": [
      "step 790 reconstruction loss: 3.4490621089935303, 4.267612457275391, 4.142925262451172\n",
      "step 800 autoencoder loss: 0.6583617329597473\n"
     ]
    },
    {
     "name": "stderr",
     "output_type": "stream",
     "text": [
      "Setting `pad_token_id` to `eos_token_id`:0 for open-end generation.\n"
     ]
    },
    {
     "name": "stdout",
     "output_type": "stream",
     "text": [
      "step 800 reconstruction loss: 3.5026066303253174, 4.376205921173096, 4.251692771911621\n",
      "step 810 autoencoder loss: 0.617378294467926\n"
     ]
    },
    {
     "name": "stderr",
     "output_type": "stream",
     "text": [
      "Setting `pad_token_id` to `eos_token_id`:0 for open-end generation.\n"
     ]
    },
    {
     "name": "stdout",
     "output_type": "stream",
     "text": [
      "step 810 reconstruction loss: 3.4154698848724365, 4.295929908752441, 4.175555229187012\n",
      "step 820 autoencoder loss: 0.5067479610443115\n"
     ]
    },
    {
     "name": "stderr",
     "output_type": "stream",
     "text": [
      "Setting `pad_token_id` to `eos_token_id`:0 for open-end generation.\n"
     ]
    },
    {
     "name": "stdout",
     "output_type": "stream",
     "text": [
      "step 820 reconstruction loss: 3.391645908355713, 4.320748329162598, 4.187114238739014\n",
      "step 830 autoencoder loss: 0.59215247631073\n"
     ]
    },
    {
     "name": "stderr",
     "output_type": "stream",
     "text": [
      "Setting `pad_token_id` to `eos_token_id`:0 for open-end generation.\n"
     ]
    },
    {
     "name": "stdout",
     "output_type": "stream",
     "text": [
      "step 830 reconstruction loss: 3.5051379203796387, 4.433913707733154, 4.315235137939453\n",
      "step 840 autoencoder loss: 0.578594982624054\n"
     ]
    },
    {
     "name": "stderr",
     "output_type": "stream",
     "text": [
      "Setting `pad_token_id` to `eos_token_id`:0 for open-end generation.\n"
     ]
    },
    {
     "name": "stdout",
     "output_type": "stream",
     "text": [
      "step 840 reconstruction loss: 3.4937052726745605, 4.479977607727051, 4.367404937744141\n",
      "step 850 autoencoder loss: 0.7028577327728271\n"
     ]
    },
    {
     "name": "stderr",
     "output_type": "stream",
     "text": [
      "Setting `pad_token_id` to `eos_token_id`:0 for open-end generation.\n"
     ]
    },
    {
     "name": "stdout",
     "output_type": "stream",
     "text": [
      "step 850 reconstruction loss: 3.39273738861084, 4.305047988891602, 4.179038047790527\n",
      "step 860 autoencoder loss: 0.6758405566215515\n"
     ]
    },
    {
     "name": "stderr",
     "output_type": "stream",
     "text": [
      "Setting `pad_token_id` to `eos_token_id`:0 for open-end generation.\n"
     ]
    },
    {
     "name": "stdout",
     "output_type": "stream",
     "text": [
      "step 860 reconstruction loss: 3.4986729621887207, 4.3552117347717285, 4.224839687347412\n",
      "step 870 autoencoder loss: 0.6996312141418457\n"
     ]
    },
    {
     "name": "stderr",
     "output_type": "stream",
     "text": [
      "Setting `pad_token_id` to `eos_token_id`:0 for open-end generation.\n"
     ]
    },
    {
     "name": "stdout",
     "output_type": "stream",
     "text": [
      "step 870 reconstruction loss: 3.2858924865722656, 4.270685195922852, 4.1342315673828125\n",
      "step 880 autoencoder loss: 0.5549380779266357\n"
     ]
    },
    {
     "name": "stderr",
     "output_type": "stream",
     "text": [
      "Setting `pad_token_id` to `eos_token_id`:0 for open-end generation.\n"
     ]
    },
    {
     "name": "stdout",
     "output_type": "stream",
     "text": [
      "step 880 reconstruction loss: 3.3863885402679443, 4.416962146759033, 4.263726234436035\n",
      "step 890 autoencoder loss: 0.7107099890708923\n"
     ]
    },
    {
     "name": "stderr",
     "output_type": "stream",
     "text": [
      "Setting `pad_token_id` to `eos_token_id`:0 for open-end generation.\n"
     ]
    },
    {
     "name": "stdout",
     "output_type": "stream",
     "text": [
      "step 890 reconstruction loss: 3.2954370975494385, 4.351032257080078, 4.244321346282959\n",
      "step 900 autoencoder loss: 0.623889684677124\n"
     ]
    },
    {
     "name": "stderr",
     "output_type": "stream",
     "text": [
      "Setting `pad_token_id` to `eos_token_id`:0 for open-end generation.\n"
     ]
    },
    {
     "name": "stdout",
     "output_type": "stream",
     "text": [
      "step 900 reconstruction loss: 3.547588586807251, 4.4087090492248535, 4.273038387298584\n",
      "step 910 autoencoder loss: 0.6954890489578247\n"
     ]
    },
    {
     "name": "stderr",
     "output_type": "stream",
     "text": [
      "Setting `pad_token_id` to `eos_token_id`:0 for open-end generation.\n"
     ]
    },
    {
     "name": "stdout",
     "output_type": "stream",
     "text": [
      "step 910 reconstruction loss: 3.681828737258911, 4.634382724761963, 4.501318454742432\n",
      "step 920 autoencoder loss: 0.592931866645813\n"
     ]
    },
    {
     "name": "stderr",
     "output_type": "stream",
     "text": [
      "Setting `pad_token_id` to `eos_token_id`:0 for open-end generation.\n"
     ]
    },
    {
     "name": "stdout",
     "output_type": "stream",
     "text": [
      "step 920 reconstruction loss: 3.489297389984131, 4.363773822784424, 4.238108158111572\n",
      "step 930 autoencoder loss: 0.6680298447608948\n"
     ]
    },
    {
     "name": "stderr",
     "output_type": "stream",
     "text": [
      "Setting `pad_token_id` to `eos_token_id`:0 for open-end generation.\n"
     ]
    },
    {
     "name": "stdout",
     "output_type": "stream",
     "text": [
      "step 930 reconstruction loss: 3.3967814445495605, 4.231713771820068, 4.104377269744873\n",
      "step 940 autoencoder loss: 0.564824640750885\n"
     ]
    },
    {
     "name": "stderr",
     "output_type": "stream",
     "text": [
      "Setting `pad_token_id` to `eos_token_id`:0 for open-end generation.\n"
     ]
    },
    {
     "name": "stdout",
     "output_type": "stream",
     "text": [
      "step 940 reconstruction loss: 3.421910047531128, 4.393640995025635, 4.256707668304443\n",
      "step 950 autoencoder loss: 0.5686062574386597\n"
     ]
    },
    {
     "name": "stderr",
     "output_type": "stream",
     "text": [
      "Setting `pad_token_id` to `eos_token_id`:0 for open-end generation.\n"
     ]
    },
    {
     "name": "stdout",
     "output_type": "stream",
     "text": [
      "step 950 reconstruction loss: 3.676663398742676, 4.603694438934326, 4.479471206665039\n",
      "step 960 autoencoder loss: 0.6093002557754517\n"
     ]
    },
    {
     "name": "stderr",
     "output_type": "stream",
     "text": [
      "Setting `pad_token_id` to `eos_token_id`:0 for open-end generation.\n"
     ]
    },
    {
     "name": "stdout",
     "output_type": "stream",
     "text": [
      "step 960 reconstruction loss: 3.4925897121429443, 4.501026630401611, 4.364416122436523\n",
      "step 970 autoencoder loss: 0.6102194786071777\n"
     ]
    },
    {
     "name": "stderr",
     "output_type": "stream",
     "text": [
      "Setting `pad_token_id` to `eos_token_id`:0 for open-end generation.\n"
     ]
    },
    {
     "name": "stdout",
     "output_type": "stream",
     "text": [
      "step 970 reconstruction loss: 3.4030325412750244, 4.225927352905273, 4.098886489868164\n",
      "step 980 autoencoder loss: 0.6729822754859924\n"
     ]
    },
    {
     "name": "stderr",
     "output_type": "stream",
     "text": [
      "Setting `pad_token_id` to `eos_token_id`:0 for open-end generation.\n"
     ]
    },
    {
     "name": "stdout",
     "output_type": "stream",
     "text": [
      "step 980 reconstruction loss: 3.6239547729492188, 4.606357097625732, 4.458871841430664\n",
      "step 990 autoencoder loss: 0.5954568386077881\n"
     ]
    },
    {
     "name": "stderr",
     "output_type": "stream",
     "text": [
      "Setting `pad_token_id` to `eos_token_id`:0 for open-end generation.\n"
     ]
    },
    {
     "name": "stdout",
     "output_type": "stream",
     "text": [
      "step 990 reconstruction loss: 3.3433594703674316, 4.234307765960693, 4.098685264587402\n",
      "step 1000 autoencoder loss: 0.5513225793838501\n"
     ]
    },
    {
     "name": "stderr",
     "output_type": "stream",
     "text": [
      "Setting `pad_token_id` to `eos_token_id`:0 for open-end generation.\n"
     ]
    },
    {
     "name": "stdout",
     "output_type": "stream",
     "text": [
      "step 1000 reconstruction loss: 3.297581672668457, 4.409980297088623, 4.273377418518066\n",
      "step 1010 autoencoder loss: 0.7222540974617004\n"
     ]
    },
    {
     "name": "stderr",
     "output_type": "stream",
     "text": [
      "Setting `pad_token_id` to `eos_token_id`:0 for open-end generation.\n"
     ]
    },
    {
     "name": "stdout",
     "output_type": "stream",
     "text": [
      "step 1010 reconstruction loss: 3.4571452140808105, 4.822048664093018, 4.724248886108398\n",
      "step 1020 autoencoder loss: 0.7127078771591187\n"
     ]
    },
    {
     "name": "stderr",
     "output_type": "stream",
     "text": [
      "Setting `pad_token_id` to `eos_token_id`:0 for open-end generation.\n"
     ]
    },
    {
     "name": "stdout",
     "output_type": "stream",
     "text": [
      "step 1020 reconstruction loss: 3.335754632949829, 4.2873053550720215, 4.15281867980957\n",
      "step 1030 autoencoder loss: 0.6897050738334656\n"
     ]
    },
    {
     "name": "stderr",
     "output_type": "stream",
     "text": [
      "Setting `pad_token_id` to `eos_token_id`:0 for open-end generation.\n"
     ]
    },
    {
     "name": "stdout",
     "output_type": "stream",
     "text": [
      "step 1030 reconstruction loss: 3.5797617435455322, 4.473335266113281, 4.34436559677124\n",
      "step 1040 autoencoder loss: 0.6884739995002747\n"
     ]
    },
    {
     "name": "stderr",
     "output_type": "stream",
     "text": [
      "Setting `pad_token_id` to `eos_token_id`:0 for open-end generation.\n"
     ]
    },
    {
     "name": "stdout",
     "output_type": "stream",
     "text": [
      "step 1040 reconstruction loss: 3.5462522506713867, 4.377167224884033, 4.256750106811523\n",
      "step 1050 autoencoder loss: 0.6350782513618469\n"
     ]
    },
    {
     "name": "stderr",
     "output_type": "stream",
     "text": [
      "Setting `pad_token_id` to `eos_token_id`:0 for open-end generation.\n"
     ]
    },
    {
     "name": "stdout",
     "output_type": "stream",
     "text": [
      "step 1050 reconstruction loss: 3.4297866821289062, 4.385569095611572, 4.2674150466918945\n",
      "step 1060 autoencoder loss: 0.581352710723877\n"
     ]
    },
    {
     "name": "stderr",
     "output_type": "stream",
     "text": [
      "Setting `pad_token_id` to `eos_token_id`:0 for open-end generation.\n"
     ]
    },
    {
     "name": "stdout",
     "output_type": "stream",
     "text": [
      "step 1060 reconstruction loss: 3.470156192779541, 4.427011489868164, 4.290038108825684\n",
      "step 1070 autoencoder loss: 0.7551239728927612\n"
     ]
    },
    {
     "name": "stderr",
     "output_type": "stream",
     "text": [
      "Setting `pad_token_id` to `eos_token_id`:0 for open-end generation.\n"
     ]
    },
    {
     "name": "stdout",
     "output_type": "stream",
     "text": [
      "step 1070 reconstruction loss: 3.619121551513672, 4.48594856262207, 4.359537124633789\n",
      "step 1080 autoencoder loss: 0.844952404499054\n"
     ]
    },
    {
     "name": "stderr",
     "output_type": "stream",
     "text": [
      "Setting `pad_token_id` to `eos_token_id`:0 for open-end generation.\n"
     ]
    },
    {
     "name": "stdout",
     "output_type": "stream",
     "text": [
      "step 1080 reconstruction loss: 3.4155771732330322, 4.349115371704102, 4.228577613830566\n",
      "step 1090 autoencoder loss: 0.5395939350128174\n"
     ]
    },
    {
     "name": "stderr",
     "output_type": "stream",
     "text": [
      "Setting `pad_token_id` to `eos_token_id`:0 for open-end generation.\n"
     ]
    },
    {
     "name": "stdout",
     "output_type": "stream",
     "text": [
      "step 1090 reconstruction loss: 3.118805170059204, 4.207561016082764, 4.0608086585998535\n",
      "step 1100 autoencoder loss: 0.6099563837051392\n"
     ]
    },
    {
     "name": "stderr",
     "output_type": "stream",
     "text": [
      "Setting `pad_token_id` to `eos_token_id`:0 for open-end generation.\n"
     ]
    },
    {
     "name": "stdout",
     "output_type": "stream",
     "text": [
      "step 1100 reconstruction loss: 3.5133841037750244, 4.607276916503906, 4.4635748863220215\n",
      "step 1110 autoencoder loss: 0.6295568346977234\n"
     ]
    },
    {
     "name": "stderr",
     "output_type": "stream",
     "text": [
      "Setting `pad_token_id` to `eos_token_id`:0 for open-end generation.\n"
     ]
    },
    {
     "name": "stdout",
     "output_type": "stream",
     "text": [
      "step 1110 reconstruction loss: 3.496872901916504, 4.438260078430176, 4.293954849243164\n",
      "step 1120 autoencoder loss: 0.5489581227302551\n"
     ]
    },
    {
     "name": "stderr",
     "output_type": "stream",
     "text": [
      "Setting `pad_token_id` to `eos_token_id`:0 for open-end generation.\n"
     ]
    },
    {
     "name": "stdout",
     "output_type": "stream",
     "text": [
      "step 1120 reconstruction loss: 3.584906578063965, 4.5698957443237305, 4.440072536468506\n",
      "step 1130 autoencoder loss: 0.7593082189559937\n"
     ]
    },
    {
     "name": "stderr",
     "output_type": "stream",
     "text": [
      "Setting `pad_token_id` to `eos_token_id`:0 for open-end generation.\n"
     ]
    },
    {
     "name": "stdout",
     "output_type": "stream",
     "text": [
      "step 1130 reconstruction loss: 3.437426805496216, 4.412421226501465, 4.264393329620361\n",
      "step 1140 autoencoder loss: 0.5580887794494629\n"
     ]
    },
    {
     "name": "stderr",
     "output_type": "stream",
     "text": [
      "Setting `pad_token_id` to `eos_token_id`:0 for open-end generation.\n"
     ]
    },
    {
     "name": "stdout",
     "output_type": "stream",
     "text": [
      "step 1140 reconstruction loss: 3.714559316635132, 4.604588508605957, 4.476282119750977\n",
      "step 1150 autoencoder loss: 0.672675609588623\n"
     ]
    },
    {
     "name": "stderr",
     "output_type": "stream",
     "text": [
      "Setting `pad_token_id` to `eos_token_id`:0 for open-end generation.\n"
     ]
    },
    {
     "name": "stdout",
     "output_type": "stream",
     "text": [
      "step 1150 reconstruction loss: 3.47575306892395, 4.435375213623047, 4.298378944396973\n",
      "step 1160 autoencoder loss: 0.6592017412185669\n"
     ]
    },
    {
     "name": "stderr",
     "output_type": "stream",
     "text": [
      "Setting `pad_token_id` to `eos_token_id`:0 for open-end generation.\n"
     ]
    },
    {
     "name": "stdout",
     "output_type": "stream",
     "text": [
      "step 1160 reconstruction loss: 3.3204195499420166, 4.246543884277344, 4.115236282348633\n",
      "step 1170 autoencoder loss: 0.6582189798355103\n"
     ]
    },
    {
     "name": "stderr",
     "output_type": "stream",
     "text": [
      "Setting `pad_token_id` to `eos_token_id`:0 for open-end generation.\n"
     ]
    },
    {
     "name": "stdout",
     "output_type": "stream",
     "text": [
      "step 1170 reconstruction loss: 3.4843873977661133, 5.186341285705566, 5.067811489105225\n",
      "step 1180 autoencoder loss: 0.6781044602394104\n"
     ]
    },
    {
     "name": "stderr",
     "output_type": "stream",
     "text": [
      "Setting `pad_token_id` to `eos_token_id`:0 for open-end generation.\n"
     ]
    },
    {
     "name": "stdout",
     "output_type": "stream",
     "text": [
      "step 1180 reconstruction loss: 3.4841091632843018, 4.450978755950928, 4.303083896636963\n",
      "step 1190 autoencoder loss: 0.6595204472541809\n"
     ]
    },
    {
     "name": "stderr",
     "output_type": "stream",
     "text": [
      "Setting `pad_token_id` to `eos_token_id`:0 for open-end generation.\n"
     ]
    },
    {
     "name": "stdout",
     "output_type": "stream",
     "text": [
      "step 1190 reconstruction loss: 3.423548460006714, 4.494688987731934, 4.349541664123535\n",
      "step 1200 autoencoder loss: 0.6343865394592285\n"
     ]
    },
    {
     "name": "stderr",
     "output_type": "stream",
     "text": [
      "Setting `pad_token_id` to `eos_token_id`:0 for open-end generation.\n"
     ]
    },
    {
     "name": "stdout",
     "output_type": "stream",
     "text": [
      "step 1200 reconstruction loss: 3.328709840774536, 4.3205108642578125, 4.195980548858643\n",
      "step 1210 autoencoder loss: 0.7463816404342651\n"
     ]
    },
    {
     "name": "stderr",
     "output_type": "stream",
     "text": [
      "Setting `pad_token_id` to `eos_token_id`:0 for open-end generation.\n"
     ]
    },
    {
     "name": "stdout",
     "output_type": "stream",
     "text": [
      "step 1210 reconstruction loss: 3.1674273014068604, 4.3071980476379395, 4.163342475891113\n",
      "step 1220 autoencoder loss: 0.6987240314483643\n"
     ]
    },
    {
     "name": "stderr",
     "output_type": "stream",
     "text": [
      "Setting `pad_token_id` to `eos_token_id`:0 for open-end generation.\n"
     ]
    },
    {
     "name": "stdout",
     "output_type": "stream",
     "text": [
      "step 1220 reconstruction loss: 3.259587049484253, 4.200579643249512, 4.070377349853516\n",
      "step 1230 autoencoder loss: 0.6611238121986389\n"
     ]
    },
    {
     "name": "stderr",
     "output_type": "stream",
     "text": [
      "Setting `pad_token_id` to `eos_token_id`:0 for open-end generation.\n"
     ]
    },
    {
     "name": "stdout",
     "output_type": "stream",
     "text": [
      "step 1230 reconstruction loss: 3.72701358795166, 4.641921043395996, 4.498995304107666\n",
      "step 1240 autoencoder loss: 0.6068414449691772\n"
     ]
    },
    {
     "name": "stderr",
     "output_type": "stream",
     "text": [
      "Setting `pad_token_id` to `eos_token_id`:0 for open-end generation.\n"
     ]
    },
    {
     "name": "stdout",
     "output_type": "stream",
     "text": [
      "step 1240 reconstruction loss: 3.4792277812957764, 4.439026832580566, 4.303231239318848\n",
      "step 1250 autoencoder loss: 0.6092082858085632\n"
     ]
    },
    {
     "name": "stderr",
     "output_type": "stream",
     "text": [
      "Setting `pad_token_id` to `eos_token_id`:0 for open-end generation.\n"
     ]
    },
    {
     "name": "stdout",
     "output_type": "stream",
     "text": [
      "step 1250 reconstruction loss: 3.6008009910583496, 4.533802509307861, 4.394349098205566\n",
      "step 1260 autoencoder loss: 0.6592316031455994\n"
     ]
    },
    {
     "name": "stderr",
     "output_type": "stream",
     "text": [
      "Setting `pad_token_id` to `eos_token_id`:0 for open-end generation.\n"
     ]
    },
    {
     "name": "stdout",
     "output_type": "stream",
     "text": [
      "step 1260 reconstruction loss: 3.4941513538360596, 4.428574562072754, 4.30499792098999\n",
      "step 1270 autoencoder loss: 0.7088696956634521\n"
     ]
    },
    {
     "name": "stderr",
     "output_type": "stream",
     "text": [
      "Setting `pad_token_id` to `eos_token_id`:0 for open-end generation.\n"
     ]
    },
    {
     "name": "stdout",
     "output_type": "stream",
     "text": [
      "step 1270 reconstruction loss: 3.5532727241516113, 4.592254638671875, 4.4205098152160645\n",
      "step 1280 autoencoder loss: 0.47848108410835266\n"
     ]
    },
    {
     "name": "stderr",
     "output_type": "stream",
     "text": [
      "Setting `pad_token_id` to `eos_token_id`:0 for open-end generation.\n"
     ]
    },
    {
     "name": "stdout",
     "output_type": "stream",
     "text": [
      "step 1280 reconstruction loss: 3.2242980003356934, 4.252133369445801, 4.103145122528076\n",
      "step 1290 autoencoder loss: 0.7080821990966797\n"
     ]
    },
    {
     "name": "stderr",
     "output_type": "stream",
     "text": [
      "Setting `pad_token_id` to `eos_token_id`:0 for open-end generation.\n"
     ]
    },
    {
     "name": "stdout",
     "output_type": "stream",
     "text": [
      "step 1290 reconstruction loss: 3.4065253734588623, 4.286180019378662, 4.143792152404785\n",
      "step 1300 autoencoder loss: 0.6523863077163696\n"
     ]
    },
    {
     "name": "stderr",
     "output_type": "stream",
     "text": [
      "Setting `pad_token_id` to `eos_token_id`:0 for open-end generation.\n"
     ]
    },
    {
     "name": "stdout",
     "output_type": "stream",
     "text": [
      "step 1300 reconstruction loss: 3.6150965690612793, 4.894249439239502, 4.778733253479004\n",
      "step 1310 autoencoder loss: 0.5546073317527771\n"
     ]
    },
    {
     "name": "stderr",
     "output_type": "stream",
     "text": [
      "Setting `pad_token_id` to `eos_token_id`:0 for open-end generation.\n"
     ]
    },
    {
     "name": "stdout",
     "output_type": "stream",
     "text": [
      "step 1310 reconstruction loss: 3.5758118629455566, 4.50754451751709, 4.360206127166748\n",
      "step 1320 autoencoder loss: 0.6513904929161072\n"
     ]
    },
    {
     "name": "stderr",
     "output_type": "stream",
     "text": [
      "Setting `pad_token_id` to `eos_token_id`:0 for open-end generation.\n"
     ]
    },
    {
     "name": "stdout",
     "output_type": "stream",
     "text": [
      "step 1320 reconstruction loss: 3.207758903503418, 4.135983943939209, 3.9931955337524414\n",
      "step 1330 autoencoder loss: 0.6424969434738159\n"
     ]
    },
    {
     "name": "stderr",
     "output_type": "stream",
     "text": [
      "Setting `pad_token_id` to `eos_token_id`:0 for open-end generation.\n"
     ]
    },
    {
     "name": "stdout",
     "output_type": "stream",
     "text": [
      "step 1330 reconstruction loss: 3.265385150909424, 4.192192077636719, 4.04750919342041\n",
      "step 1340 autoencoder loss: 0.6169910430908203\n"
     ]
    },
    {
     "name": "stderr",
     "output_type": "stream",
     "text": [
      "Setting `pad_token_id` to `eos_token_id`:0 for open-end generation.\n"
     ]
    },
    {
     "name": "stdout",
     "output_type": "stream",
     "text": [
      "step 1340 reconstruction loss: 3.4337539672851562, 4.2244086265563965, 4.0900115966796875\n",
      "step 1350 autoencoder loss: 0.6190397143363953\n"
     ]
    },
    {
     "name": "stderr",
     "output_type": "stream",
     "text": [
      "Setting `pad_token_id` to `eos_token_id`:0 for open-end generation.\n"
     ]
    },
    {
     "name": "stdout",
     "output_type": "stream",
     "text": [
      "step 1350 reconstruction loss: 3.5803632736206055, 4.514435291290283, 4.368330955505371\n",
      "step 1360 autoencoder loss: 0.7042635083198547\n"
     ]
    },
    {
     "name": "stderr",
     "output_type": "stream",
     "text": [
      "Setting `pad_token_id` to `eos_token_id`:0 for open-end generation.\n"
     ]
    },
    {
     "name": "stdout",
     "output_type": "stream",
     "text": [
      "step 1360 reconstruction loss: 3.495002269744873, 4.410651683807373, 4.276302814483643\n",
      "step 1370 autoencoder loss: 0.6404458284378052\n"
     ]
    },
    {
     "name": "stderr",
     "output_type": "stream",
     "text": [
      "Setting `pad_token_id` to `eos_token_id`:0 for open-end generation.\n"
     ]
    },
    {
     "name": "stdout",
     "output_type": "stream",
     "text": [
      "step 1370 reconstruction loss: 3.54506516456604, 4.432639122009277, 4.307188034057617\n",
      "step 1380 autoencoder loss: 0.7179437875747681\n"
     ]
    },
    {
     "name": "stderr",
     "output_type": "stream",
     "text": [
      "Setting `pad_token_id` to `eos_token_id`:0 for open-end generation.\n"
     ]
    },
    {
     "name": "stdout",
     "output_type": "stream",
     "text": [
      "step 1380 reconstruction loss: 3.2772696018218994, 4.148001670837402, 4.003532409667969\n",
      "step 1390 autoencoder loss: 0.7840611338615417\n"
     ]
    },
    {
     "name": "stderr",
     "output_type": "stream",
     "text": [
      "Setting `pad_token_id` to `eos_token_id`:0 for open-end generation.\n"
     ]
    },
    {
     "name": "stdout",
     "output_type": "stream",
     "text": [
      "step 1390 reconstruction loss: 3.510118246078491, 4.4363017082214355, 4.296629428863525\n",
      "step 1400 autoencoder loss: 0.7015995383262634\n"
     ]
    },
    {
     "name": "stderr",
     "output_type": "stream",
     "text": [
      "Setting `pad_token_id` to `eos_token_id`:0 for open-end generation.\n"
     ]
    },
    {
     "name": "stdout",
     "output_type": "stream",
     "text": [
      "step 1400 reconstruction loss: 3.7249057292938232, 4.616265296936035, 4.479917049407959\n",
      "step 1410 autoencoder loss: 0.7078916430473328\n"
     ]
    },
    {
     "name": "stderr",
     "output_type": "stream",
     "text": [
      "Setting `pad_token_id` to `eos_token_id`:0 for open-end generation.\n"
     ]
    },
    {
     "name": "stdout",
     "output_type": "stream",
     "text": [
      "step 1410 reconstruction loss: 3.5856130123138428, 4.571377277374268, 4.440618515014648\n",
      "step 1420 autoencoder loss: 0.8417680263519287\n"
     ]
    },
    {
     "name": "stderr",
     "output_type": "stream",
     "text": [
      "Setting `pad_token_id` to `eos_token_id`:0 for open-end generation.\n"
     ]
    },
    {
     "name": "stdout",
     "output_type": "stream",
     "text": [
      "step 1420 reconstruction loss: 3.344963312149048, 4.3914475440979, 4.243793964385986\n",
      "step 1430 autoencoder loss: 0.6105795502662659\n"
     ]
    },
    {
     "name": "stderr",
     "output_type": "stream",
     "text": [
      "Setting `pad_token_id` to `eos_token_id`:0 for open-end generation.\n"
     ]
    },
    {
     "name": "stdout",
     "output_type": "stream",
     "text": [
      "step 1430 reconstruction loss: 3.691891670227051, 4.542425155639648, 4.409804821014404\n",
      "step 1440 autoencoder loss: 0.6040564775466919\n"
     ]
    },
    {
     "name": "stderr",
     "output_type": "stream",
     "text": [
      "Setting `pad_token_id` to `eos_token_id`:0 for open-end generation.\n"
     ]
    },
    {
     "name": "stdout",
     "output_type": "stream",
     "text": [
      "step 1440 reconstruction loss: 3.280416250228882, 4.204315662384033, 4.0598297119140625\n",
      "step 1450 autoencoder loss: 0.7115362882614136\n"
     ]
    },
    {
     "name": "stderr",
     "output_type": "stream",
     "text": [
      "Setting `pad_token_id` to `eos_token_id`:0 for open-end generation.\n"
     ]
    },
    {
     "name": "stdout",
     "output_type": "stream",
     "text": [
      "step 1450 reconstruction loss: 3.3361828327178955, 4.462429523468018, 4.35690975189209\n",
      "step 1460 autoencoder loss: 0.7193238139152527\n"
     ]
    },
    {
     "name": "stderr",
     "output_type": "stream",
     "text": [
      "Setting `pad_token_id` to `eos_token_id`:0 for open-end generation.\n"
     ]
    },
    {
     "name": "stdout",
     "output_type": "stream",
     "text": [
      "step 1460 reconstruction loss: 3.4401495456695557, 4.398997783660889, 4.264882564544678\n",
      "step 1470 autoencoder loss: 0.522343099117279\n"
     ]
    },
    {
     "name": "stderr",
     "output_type": "stream",
     "text": [
      "Setting `pad_token_id` to `eos_token_id`:0 for open-end generation.\n"
     ]
    },
    {
     "name": "stdout",
     "output_type": "stream",
     "text": [
      "step 1470 reconstruction loss: 3.7061517238616943, 4.576045989990234, 4.433155059814453\n",
      "step 1480 autoencoder loss: 0.6470734477043152\n"
     ]
    },
    {
     "name": "stderr",
     "output_type": "stream",
     "text": [
      "Setting `pad_token_id` to `eos_token_id`:0 for open-end generation.\n"
     ]
    },
    {
     "name": "stdout",
     "output_type": "stream",
     "text": [
      "step 1480 reconstruction loss: 3.657703399658203, 4.518289089202881, 4.382997035980225\n",
      "step 1490 autoencoder loss: 0.7495706081390381\n"
     ]
    },
    {
     "name": "stderr",
     "output_type": "stream",
     "text": [
      "Setting `pad_token_id` to `eos_token_id`:0 for open-end generation.\n"
     ]
    },
    {
     "name": "stdout",
     "output_type": "stream",
     "text": [
      "step 1490 reconstruction loss: 3.4778573513031006, 4.42434024810791, 4.280080318450928\n",
      "step 1500 autoencoder loss: 0.6016226410865784\n"
     ]
    },
    {
     "name": "stderr",
     "output_type": "stream",
     "text": [
      "Setting `pad_token_id` to `eos_token_id`:0 for open-end generation.\n"
     ]
    },
    {
     "name": "stdout",
     "output_type": "stream",
     "text": [
      "step 1500 reconstruction loss: 3.695323944091797, 4.490362644195557, 4.3538055419921875\n",
      "step 1510 autoencoder loss: 0.6227996945381165\n"
     ]
    },
    {
     "name": "stderr",
     "output_type": "stream",
     "text": [
      "Setting `pad_token_id` to `eos_token_id`:0 for open-end generation.\n"
     ]
    },
    {
     "name": "stdout",
     "output_type": "stream",
     "text": [
      "step 1510 reconstruction loss: 3.5953187942504883, 4.5219902992248535, 4.4068498611450195\n",
      "step 1520 autoencoder loss: 0.6269816756248474\n"
     ]
    },
    {
     "name": "stderr",
     "output_type": "stream",
     "text": [
      "Setting `pad_token_id` to `eos_token_id`:0 for open-end generation.\n"
     ]
    },
    {
     "name": "stdout",
     "output_type": "stream",
     "text": [
      "step 1520 reconstruction loss: 3.5686182975769043, 4.493189334869385, 4.358150959014893\n",
      "step 1530 autoencoder loss: 0.6220303773880005\n"
     ]
    },
    {
     "name": "stderr",
     "output_type": "stream",
     "text": [
      "Setting `pad_token_id` to `eos_token_id`:0 for open-end generation.\n"
     ]
    },
    {
     "name": "stdout",
     "output_type": "stream",
     "text": [
      "step 1530 reconstruction loss: 3.446103096008301, 4.577515125274658, 4.503325462341309\n",
      "step 1540 autoencoder loss: 0.6580400466918945\n"
     ]
    },
    {
     "name": "stderr",
     "output_type": "stream",
     "text": [
      "Setting `pad_token_id` to `eos_token_id`:0 for open-end generation.\n"
     ]
    },
    {
     "name": "stdout",
     "output_type": "stream",
     "text": [
      "step 1540 reconstruction loss: 2.9342377185821533, 4.065134525299072, 3.9466075897216797\n",
      "step 1550 autoencoder loss: 0.59529048204422\n"
     ]
    },
    {
     "name": "stderr",
     "output_type": "stream",
     "text": [
      "Setting `pad_token_id` to `eos_token_id`:0 for open-end generation.\n"
     ]
    },
    {
     "name": "stdout",
     "output_type": "stream",
     "text": [
      "step 1550 reconstruction loss: 3.5035462379455566, 4.4501776695251465, 4.308160781860352\n",
      "step 1560 autoencoder loss: 0.6012927889823914\n"
     ]
    },
    {
     "name": "stderr",
     "output_type": "stream",
     "text": [
      "Setting `pad_token_id` to `eos_token_id`:0 for open-end generation.\n"
     ]
    },
    {
     "name": "stdout",
     "output_type": "stream",
     "text": [
      "step 1560 reconstruction loss: 3.512653112411499, 4.5059380531311035, 4.357263088226318\n",
      "refreshing buffer...\n"
     ]
    },
    {
     "name": "stderr",
     "output_type": "stream",
     "text": [
      "A decoder-only architecture is being used, but right-padding was detected! For correct generation results, please set `padding_side='left'` when initializing the tokenizer.\n"
     ]
    },
    {
     "name": "stdout",
     "output_type": "stream",
     "text": [
      "buffer refreshed...\n",
      "step 1570 autoencoder loss: 0.6177184581756592\n"
     ]
    },
    {
     "name": "stderr",
     "output_type": "stream",
     "text": [
      "Setting `pad_token_id` to `eos_token_id`:0 for open-end generation.\n"
     ]
    },
    {
     "name": "stdout",
     "output_type": "stream",
     "text": [
      "step 1570 reconstruction loss: 3.4206321239471436, 4.260167121887207, 4.119752883911133\n",
      "step 1580 autoencoder loss: 0.6002644300460815\n"
     ]
    },
    {
     "name": "stderr",
     "output_type": "stream",
     "text": [
      "Setting `pad_token_id` to `eos_token_id`:0 for open-end generation.\n"
     ]
    },
    {
     "name": "stdout",
     "output_type": "stream",
     "text": [
      "step 1580 reconstruction loss: 3.5412533283233643, 4.521304130554199, 4.379476070404053\n",
      "step 1590 autoencoder loss: 0.6600446701049805\n"
     ]
    },
    {
     "name": "stderr",
     "output_type": "stream",
     "text": [
      "Setting `pad_token_id` to `eos_token_id`:0 for open-end generation.\n"
     ]
    },
    {
     "name": "stdout",
     "output_type": "stream",
     "text": [
      "step 1590 reconstruction loss: 3.3461644649505615, 4.581641674041748, 4.456676483154297\n",
      "step 1600 autoencoder loss: 0.6056702136993408\n"
     ]
    },
    {
     "name": "stderr",
     "output_type": "stream",
     "text": [
      "Setting `pad_token_id` to `eos_token_id`:0 for open-end generation.\n"
     ]
    },
    {
     "name": "stdout",
     "output_type": "stream",
     "text": [
      "step 1600 reconstruction loss: 3.376796245574951, 4.275519847869873, 4.130242347717285\n",
      "step 1610 autoencoder loss: 0.660427451133728\n"
     ]
    },
    {
     "name": "stderr",
     "output_type": "stream",
     "text": [
      "Setting `pad_token_id` to `eos_token_id`:0 for open-end generation.\n"
     ]
    },
    {
     "name": "stdout",
     "output_type": "stream",
     "text": [
      "step 1610 reconstruction loss: 3.577453374862671, 4.47946310043335, 4.346580982208252\n",
      "step 1620 autoencoder loss: 0.5108023881912231\n"
     ]
    },
    {
     "name": "stderr",
     "output_type": "stream",
     "text": [
      "Setting `pad_token_id` to `eos_token_id`:0 for open-end generation.\n"
     ]
    },
    {
     "name": "stdout",
     "output_type": "stream",
     "text": [
      "step 1620 reconstruction loss: 3.5027687549591064, 4.400396347045898, 4.251685619354248\n",
      "step 1630 autoencoder loss: 0.7861132621765137\n"
     ]
    },
    {
     "name": "stderr",
     "output_type": "stream",
     "text": [
      "Setting `pad_token_id` to `eos_token_id`:0 for open-end generation.\n"
     ]
    },
    {
     "name": "stdout",
     "output_type": "stream",
     "text": [
      "step 1630 reconstruction loss: 3.555701494216919, 5.403225898742676, 5.246513843536377\n",
      "step 1640 autoencoder loss: 0.5403509140014648\n"
     ]
    },
    {
     "name": "stderr",
     "output_type": "stream",
     "text": [
      "Setting `pad_token_id` to `eos_token_id`:0 for open-end generation.\n"
     ]
    },
    {
     "name": "stdout",
     "output_type": "stream",
     "text": [
      "step 1640 reconstruction loss: 3.4775173664093018, 4.410201549530029, 4.26181697845459\n",
      "step 1650 autoencoder loss: 0.5679762959480286\n"
     ]
    },
    {
     "name": "stderr",
     "output_type": "stream",
     "text": [
      "Setting `pad_token_id` to `eos_token_id`:0 for open-end generation.\n"
     ]
    },
    {
     "name": "stdout",
     "output_type": "stream",
     "text": [
      "step 1650 reconstruction loss: 3.428549289703369, 4.435003280639648, 4.278595924377441\n",
      "step 1660 autoencoder loss: 0.552247166633606\n"
     ]
    },
    {
     "name": "stderr",
     "output_type": "stream",
     "text": [
      "Setting `pad_token_id` to `eos_token_id`:0 for open-end generation.\n"
     ]
    },
    {
     "name": "stdout",
     "output_type": "stream",
     "text": [
      "step 1660 reconstruction loss: 3.569765329360962, 4.561125755310059, 4.412368297576904\n",
      "step 1670 autoencoder loss: 0.6859667897224426\n"
     ]
    },
    {
     "name": "stderr",
     "output_type": "stream",
     "text": [
      "Setting `pad_token_id` to `eos_token_id`:0 for open-end generation.\n"
     ]
    },
    {
     "name": "stdout",
     "output_type": "stream",
     "text": [
      "step 1670 reconstruction loss: 3.643594264984131, 4.566967487335205, 4.419530868530273\n",
      "step 1680 autoencoder loss: 0.5649406313896179\n"
     ]
    },
    {
     "name": "stderr",
     "output_type": "stream",
     "text": [
      "Setting `pad_token_id` to `eos_token_id`:0 for open-end generation.\n"
     ]
    },
    {
     "name": "stdout",
     "output_type": "stream",
     "text": [
      "step 1680 reconstruction loss: 3.4026973247528076, 4.585433483123779, 4.375078201293945\n",
      "step 1690 autoencoder loss: 0.6526761651039124\n"
     ]
    },
    {
     "name": "stderr",
     "output_type": "stream",
     "text": [
      "Setting `pad_token_id` to `eos_token_id`:0 for open-end generation.\n"
     ]
    },
    {
     "name": "stdout",
     "output_type": "stream",
     "text": [
      "step 1690 reconstruction loss: 3.4236602783203125, 4.3443217277526855, 4.197187423706055\n",
      "step 1700 autoencoder loss: 0.7258288264274597\n"
     ]
    },
    {
     "name": "stderr",
     "output_type": "stream",
     "text": [
      "Setting `pad_token_id` to `eos_token_id`:0 for open-end generation.\n"
     ]
    },
    {
     "name": "stdout",
     "output_type": "stream",
     "text": [
      "step 1700 reconstruction loss: 3.09060001373291, 4.078352928161621, 3.9309048652648926\n",
      "step 1710 autoencoder loss: 0.6196255087852478\n"
     ]
    },
    {
     "name": "stderr",
     "output_type": "stream",
     "text": [
      "Setting `pad_token_id` to `eos_token_id`:0 for open-end generation.\n"
     ]
    },
    {
     "name": "stdout",
     "output_type": "stream",
     "text": [
      "step 1710 reconstruction loss: 3.326598644256592, 4.430350303649902, 4.258857727050781\n",
      "step 1720 autoencoder loss: 0.667572021484375\n"
     ]
    },
    {
     "name": "stderr",
     "output_type": "stream",
     "text": [
      "Setting `pad_token_id` to `eos_token_id`:0 for open-end generation.\n"
     ]
    },
    {
     "name": "stdout",
     "output_type": "stream",
     "text": [
      "step 1720 reconstruction loss: 3.4218032360076904, 4.4413957595825195, 4.30131196975708\n",
      "step 1730 autoencoder loss: 0.678418755531311\n"
     ]
    },
    {
     "name": "stderr",
     "output_type": "stream",
     "text": [
      "Setting `pad_token_id` to `eos_token_id`:0 for open-end generation.\n"
     ]
    },
    {
     "name": "stdout",
     "output_type": "stream",
     "text": [
      "step 1730 reconstruction loss: 3.307215929031372, 4.349005699157715, 4.194606781005859\n",
      "step 1740 autoencoder loss: 0.720662534236908\n"
     ]
    },
    {
     "name": "stderr",
     "output_type": "stream",
     "text": [
      "Setting `pad_token_id` to `eos_token_id`:0 for open-end generation.\n"
     ]
    },
    {
     "name": "stdout",
     "output_type": "stream",
     "text": [
      "step 1740 reconstruction loss: 3.4652178287506104, 4.263203144073486, 4.124812602996826\n",
      "step 1750 autoencoder loss: 0.620964765548706\n"
     ]
    },
    {
     "name": "stderr",
     "output_type": "stream",
     "text": [
      "Setting `pad_token_id` to `eos_token_id`:0 for open-end generation.\n"
     ]
    },
    {
     "name": "stdout",
     "output_type": "stream",
     "text": [
      "step 1750 reconstruction loss: 3.266568899154663, 4.510457515716553, 4.338807106018066\n",
      "step 1760 autoencoder loss: 0.5626864433288574\n"
     ]
    },
    {
     "name": "stderr",
     "output_type": "stream",
     "text": [
      "Setting `pad_token_id` to `eos_token_id`:0 for open-end generation.\n"
     ]
    },
    {
     "name": "stdout",
     "output_type": "stream",
     "text": [
      "step 1760 reconstruction loss: 3.277348518371582, 4.125967025756836, 4.001603603363037\n",
      "step 1770 autoencoder loss: 0.6606223583221436\n"
     ]
    },
    {
     "name": "stderr",
     "output_type": "stream",
     "text": [
      "Setting `pad_token_id` to `eos_token_id`:0 for open-end generation.\n"
     ]
    },
    {
     "name": "stdout",
     "output_type": "stream",
     "text": [
      "step 1770 reconstruction loss: 3.483823299407959, 4.442807197570801, 4.284746170043945\n",
      "step 1780 autoencoder loss: 0.5802521109580994\n"
     ]
    },
    {
     "name": "stderr",
     "output_type": "stream",
     "text": [
      "Setting `pad_token_id` to `eos_token_id`:0 for open-end generation.\n"
     ]
    },
    {
     "name": "stdout",
     "output_type": "stream",
     "text": [
      "step 1780 reconstruction loss: 3.5201830863952637, 4.803713321685791, 4.660194396972656\n",
      "step 1790 autoencoder loss: 0.5650907754898071\n"
     ]
    },
    {
     "name": "stderr",
     "output_type": "stream",
     "text": [
      "Setting `pad_token_id` to `eos_token_id`:0 for open-end generation.\n"
     ]
    },
    {
     "name": "stdout",
     "output_type": "stream",
     "text": [
      "step 1790 reconstruction loss: 3.5397562980651855, 4.449717044830322, 4.312982559204102\n",
      "step 1800 autoencoder loss: 0.6720508337020874\n"
     ]
    },
    {
     "name": "stderr",
     "output_type": "stream",
     "text": [
      "Setting `pad_token_id` to `eos_token_id`:0 for open-end generation.\n"
     ]
    },
    {
     "name": "stdout",
     "output_type": "stream",
     "text": [
      "step 1800 reconstruction loss: 3.463371753692627, 4.4216532707214355, 4.270332336425781\n",
      "step 1810 autoencoder loss: 0.6190621256828308\n"
     ]
    },
    {
     "name": "stderr",
     "output_type": "stream",
     "text": [
      "Setting `pad_token_id` to `eos_token_id`:0 for open-end generation.\n"
     ]
    },
    {
     "name": "stdout",
     "output_type": "stream",
     "text": [
      "step 1810 reconstruction loss: 3.5924935340881348, 4.720524311065674, 4.576319694519043\n",
      "step 1820 autoencoder loss: 0.6354968547821045\n"
     ]
    },
    {
     "name": "stderr",
     "output_type": "stream",
     "text": [
      "Setting `pad_token_id` to `eos_token_id`:0 for open-end generation.\n"
     ]
    },
    {
     "name": "stdout",
     "output_type": "stream",
     "text": [
      "step 1820 reconstruction loss: 3.4959824085235596, 4.296733856201172, 4.154674530029297\n",
      "step 1830 autoencoder loss: 0.7328065633773804\n"
     ]
    },
    {
     "name": "stderr",
     "output_type": "stream",
     "text": [
      "Setting `pad_token_id` to `eos_token_id`:0 for open-end generation.\n"
     ]
    },
    {
     "name": "stdout",
     "output_type": "stream",
     "text": [
      "step 1830 reconstruction loss: 3.2417733669281006, 4.261873722076416, 4.1280412673950195\n",
      "step 1840 autoencoder loss: 0.46355438232421875\n"
     ]
    },
    {
     "name": "stderr",
     "output_type": "stream",
     "text": [
      "Setting `pad_token_id` to `eos_token_id`:0 for open-end generation.\n"
     ]
    },
    {
     "name": "stdout",
     "output_type": "stream",
     "text": [
      "step 1840 reconstruction loss: 3.2133824825286865, 4.296323299407959, 4.152348041534424\n",
      "step 1850 autoencoder loss: 0.6508377194404602\n"
     ]
    },
    {
     "name": "stderr",
     "output_type": "stream",
     "text": [
      "Setting `pad_token_id` to `eos_token_id`:0 for open-end generation.\n"
     ]
    },
    {
     "name": "stdout",
     "output_type": "stream",
     "text": [
      "step 1850 reconstruction loss: 3.4433228969573975, 4.8107404708862305, 4.724618434906006\n",
      "step 1860 autoencoder loss: 0.5662335753440857\n"
     ]
    },
    {
     "name": "stderr",
     "output_type": "stream",
     "text": [
      "Setting `pad_token_id` to `eos_token_id`:0 for open-end generation.\n"
     ]
    },
    {
     "name": "stdout",
     "output_type": "stream",
     "text": [
      "step 1860 reconstruction loss: 3.541665554046631, 4.358885765075684, 4.218544006347656\n",
      "step 1870 autoencoder loss: 0.6966084241867065\n"
     ]
    },
    {
     "name": "stderr",
     "output_type": "stream",
     "text": [
      "Setting `pad_token_id` to `eos_token_id`:0 for open-end generation.\n"
     ]
    },
    {
     "name": "stdout",
     "output_type": "stream",
     "text": [
      "step 1870 reconstruction loss: 3.4700064659118652, 4.374558448791504, 4.235559940338135\n",
      "step 1880 autoencoder loss: 0.7186247706413269\n"
     ]
    },
    {
     "name": "stderr",
     "output_type": "stream",
     "text": [
      "Setting `pad_token_id` to `eos_token_id`:0 for open-end generation.\n"
     ]
    },
    {
     "name": "stdout",
     "output_type": "stream",
     "text": [
      "step 1880 reconstruction loss: 3.5283374786376953, 4.488562107086182, 4.346209526062012\n",
      "step 1890 autoencoder loss: 0.581354022026062\n"
     ]
    },
    {
     "name": "stderr",
     "output_type": "stream",
     "text": [
      "Setting `pad_token_id` to `eos_token_id`:0 for open-end generation.\n"
     ]
    },
    {
     "name": "stdout",
     "output_type": "stream",
     "text": [
      "step 1890 reconstruction loss: 3.3217175006866455, 4.696641445159912, 4.515578269958496\n",
      "step 1900 autoencoder loss: 0.7241693139076233\n"
     ]
    },
    {
     "name": "stderr",
     "output_type": "stream",
     "text": [
      "Setting `pad_token_id` to `eos_token_id`:0 for open-end generation.\n"
     ]
    },
    {
     "name": "stdout",
     "output_type": "stream",
     "text": [
      "step 1900 reconstruction loss: 3.424379348754883, 4.5273613929748535, 4.411947250366211\n",
      "step 1910 autoencoder loss: 0.6579492092132568\n"
     ]
    },
    {
     "name": "stderr",
     "output_type": "stream",
     "text": [
      "Setting `pad_token_id` to `eos_token_id`:0 for open-end generation.\n"
     ]
    },
    {
     "name": "stdout",
     "output_type": "stream",
     "text": [
      "step 1910 reconstruction loss: 3.5054025650024414, 4.400479793548584, 4.261013984680176\n",
      "step 1920 autoencoder loss: 0.6322336792945862\n"
     ]
    },
    {
     "name": "stderr",
     "output_type": "stream",
     "text": [
      "Setting `pad_token_id` to `eos_token_id`:0 for open-end generation.\n"
     ]
    },
    {
     "name": "stdout",
     "output_type": "stream",
     "text": [
      "step 1920 reconstruction loss: 3.4394493103027344, 4.213108539581299, 4.082298755645752\n",
      "step 1930 autoencoder loss: 0.6032449007034302\n"
     ]
    },
    {
     "name": "stderr",
     "output_type": "stream",
     "text": [
      "Setting `pad_token_id` to `eos_token_id`:0 for open-end generation.\n"
     ]
    },
    {
     "name": "stdout",
     "output_type": "stream",
     "text": [
      "step 1930 reconstruction loss: 3.5870654582977295, 4.4067816734313965, 4.271983623504639\n",
      "step 1940 autoencoder loss: 0.5362200140953064\n"
     ]
    },
    {
     "name": "stderr",
     "output_type": "stream",
     "text": [
      "Setting `pad_token_id` to `eos_token_id`:0 for open-end generation.\n"
     ]
    },
    {
     "name": "stdout",
     "output_type": "stream",
     "text": [
      "step 1940 reconstruction loss: 3.541785955429077, 4.432816982269287, 4.28711462020874\n",
      "step 1950 autoencoder loss: 0.7125890254974365\n"
     ]
    },
    {
     "name": "stderr",
     "output_type": "stream",
     "text": [
      "Setting `pad_token_id` to `eos_token_id`:0 for open-end generation.\n"
     ]
    },
    {
     "name": "stdout",
     "output_type": "stream",
     "text": [
      "step 1950 reconstruction loss: 3.3299241065979004, 4.292172908782959, 4.145936489105225\n",
      "step 1960 autoencoder loss: 0.7045402526855469\n"
     ]
    },
    {
     "name": "stderr",
     "output_type": "stream",
     "text": [
      "Setting `pad_token_id` to `eos_token_id`:0 for open-end generation.\n"
     ]
    },
    {
     "name": "stdout",
     "output_type": "stream",
     "text": [
      "step 1960 reconstruction loss: 3.425602912902832, 4.235021114349365, 4.101496696472168\n",
      "step 1970 autoencoder loss: 0.6740018129348755\n"
     ]
    },
    {
     "name": "stderr",
     "output_type": "stream",
     "text": [
      "Setting `pad_token_id` to `eos_token_id`:0 for open-end generation.\n"
     ]
    },
    {
     "name": "stdout",
     "output_type": "stream",
     "text": [
      "step 1970 reconstruction loss: 3.3995254039764404, 4.330264091491699, 4.172374248504639\n",
      "step 1980 autoencoder loss: 0.6097932457923889\n"
     ]
    },
    {
     "name": "stderr",
     "output_type": "stream",
     "text": [
      "Setting `pad_token_id` to `eos_token_id`:0 for open-end generation.\n"
     ]
    },
    {
     "name": "stdout",
     "output_type": "stream",
     "text": [
      "step 1980 reconstruction loss: 3.4134116172790527, 4.526829719543457, 4.411947727203369\n",
      "step 1990 autoencoder loss: 0.593020498752594\n"
     ]
    },
    {
     "name": "stderr",
     "output_type": "stream",
     "text": [
      "Setting `pad_token_id` to `eos_token_id`:0 for open-end generation.\n"
     ]
    },
    {
     "name": "stdout",
     "output_type": "stream",
     "text": [
      "step 1990 reconstruction loss: 3.505552053451538, 4.336951732635498, 4.197113037109375\n",
      "step 2000 autoencoder loss: 0.7270505428314209\n"
     ]
    },
    {
     "name": "stderr",
     "output_type": "stream",
     "text": [
      "Setting `pad_token_id` to `eos_token_id`:0 for open-end generation.\n"
     ]
    },
    {
     "name": "stdout",
     "output_type": "stream",
     "text": [
      "step 2000 reconstruction loss: 3.4490864276885986, 4.390534400939941, 4.2440924644470215\n",
      "step 2010 autoencoder loss: 0.8375660181045532\n"
     ]
    },
    {
     "name": "stderr",
     "output_type": "stream",
     "text": [
      "Setting `pad_token_id` to `eos_token_id`:0 for open-end generation.\n"
     ]
    },
    {
     "name": "stdout",
     "output_type": "stream",
     "text": [
      "step 2010 reconstruction loss: 3.5842368602752686, 4.376198768615723, 4.247402191162109\n",
      "step 2020 autoencoder loss: 0.6328905820846558\n"
     ]
    },
    {
     "name": "stderr",
     "output_type": "stream",
     "text": [
      "Setting `pad_token_id` to `eos_token_id`:0 for open-end generation.\n"
     ]
    },
    {
     "name": "stdout",
     "output_type": "stream",
     "text": [
      "step 2020 reconstruction loss: 3.319148302078247, 4.293340682983398, 4.121407985687256\n",
      "step 2030 autoencoder loss: 0.670707106590271\n"
     ]
    },
    {
     "name": "stderr",
     "output_type": "stream",
     "text": [
      "Setting `pad_token_id` to `eos_token_id`:0 for open-end generation.\n"
     ]
    },
    {
     "name": "stdout",
     "output_type": "stream",
     "text": [
      "step 2030 reconstruction loss: 3.5112860202789307, 4.435095310211182, 4.313261032104492\n",
      "step 2040 autoencoder loss: 0.5565640926361084\n"
     ]
    },
    {
     "name": "stderr",
     "output_type": "stream",
     "text": [
      "Setting `pad_token_id` to `eos_token_id`:0 for open-end generation.\n"
     ]
    },
    {
     "name": "stdout",
     "output_type": "stream",
     "text": [
      "step 2040 reconstruction loss: 3.4318125247955322, 4.700220108032227, 4.562653541564941\n",
      "step 2050 autoencoder loss: 0.6369968056678772\n"
     ]
    },
    {
     "name": "stderr",
     "output_type": "stream",
     "text": [
      "Setting `pad_token_id` to `eos_token_id`:0 for open-end generation.\n"
     ]
    },
    {
     "name": "stdout",
     "output_type": "stream",
     "text": [
      "step 2050 reconstruction loss: 3.2656455039978027, 4.294544696807861, 4.143011093139648\n",
      "step 2060 autoencoder loss: 0.4876832067966461\n"
     ]
    },
    {
     "name": "stderr",
     "output_type": "stream",
     "text": [
      "Setting `pad_token_id` to `eos_token_id`:0 for open-end generation.\n"
     ]
    },
    {
     "name": "stdout",
     "output_type": "stream",
     "text": [
      "step 2060 reconstruction loss: 2.971965789794922, 4.182176113128662, 4.010186195373535\n",
      "step 2070 autoencoder loss: 0.6417497396469116\n"
     ]
    },
    {
     "name": "stderr",
     "output_type": "stream",
     "text": [
      "Setting `pad_token_id` to `eos_token_id`:0 for open-end generation.\n"
     ]
    },
    {
     "name": "stdout",
     "output_type": "stream",
     "text": [
      "step 2070 reconstruction loss: 3.5891613960266113, 4.720800876617432, 4.582437992095947\n",
      "step 2080 autoencoder loss: 0.7820701599121094\n"
     ]
    },
    {
     "name": "stderr",
     "output_type": "stream",
     "text": [
      "Setting `pad_token_id` to `eos_token_id`:0 for open-end generation.\n"
     ]
    },
    {
     "name": "stdout",
     "output_type": "stream",
     "text": [
      "step 2080 reconstruction loss: 3.449901819229126, 4.306211471557617, 4.174104690551758\n",
      "step 2090 autoencoder loss: 0.6141542196273804\n"
     ]
    },
    {
     "name": "stderr",
     "output_type": "stream",
     "text": [
      "Setting `pad_token_id` to `eos_token_id`:0 for open-end generation.\n"
     ]
    },
    {
     "name": "stdout",
     "output_type": "stream",
     "text": [
      "step 2090 reconstruction loss: 3.2240350246429443, 4.253373622894287, 4.123414039611816\n",
      "step 2100 autoencoder loss: 0.6673332452774048\n"
     ]
    },
    {
     "name": "stderr",
     "output_type": "stream",
     "text": [
      "Setting `pad_token_id` to `eos_token_id`:0 for open-end generation.\n"
     ]
    },
    {
     "name": "stdout",
     "output_type": "stream",
     "text": [
      "step 2100 reconstruction loss: 3.364159107208252, 4.382730007171631, 4.2276153564453125\n",
      "step 2110 autoencoder loss: 0.6637579202651978\n"
     ]
    },
    {
     "name": "stderr",
     "output_type": "stream",
     "text": [
      "Setting `pad_token_id` to `eos_token_id`:0 for open-end generation.\n"
     ]
    },
    {
     "name": "stdout",
     "output_type": "stream",
     "text": [
      "step 2110 reconstruction loss: 3.3154397010803223, 4.6887006759643555, 4.5345869064331055\n",
      "step 2120 autoencoder loss: 0.5939117074012756\n"
     ]
    },
    {
     "name": "stderr",
     "output_type": "stream",
     "text": [
      "Setting `pad_token_id` to `eos_token_id`:0 for open-end generation.\n"
     ]
    },
    {
     "name": "stdout",
     "output_type": "stream",
     "text": [
      "step 2120 reconstruction loss: 3.295938491821289, 4.152777194976807, 4.022490978240967\n",
      "step 2130 autoencoder loss: 0.7708600163459778\n"
     ]
    },
    {
     "name": "stderr",
     "output_type": "stream",
     "text": [
      "Setting `pad_token_id` to `eos_token_id`:0 for open-end generation.\n"
     ]
    },
    {
     "name": "stdout",
     "output_type": "stream",
     "text": [
      "step 2130 reconstruction loss: 3.5840742588043213, 4.398258209228516, 4.26887845993042\n",
      "step 2140 autoencoder loss: 0.7370349764823914\n"
     ]
    },
    {
     "name": "stderr",
     "output_type": "stream",
     "text": [
      "Setting `pad_token_id` to `eos_token_id`:0 for open-end generation.\n"
     ]
    },
    {
     "name": "stdout",
     "output_type": "stream",
     "text": [
      "step 2140 reconstruction loss: 3.468876600265503, 4.284550666809082, 4.144954681396484\n",
      "step 2150 autoencoder loss: 0.6284599304199219\n"
     ]
    },
    {
     "name": "stderr",
     "output_type": "stream",
     "text": [
      "Setting `pad_token_id` to `eos_token_id`:0 for open-end generation.\n"
     ]
    },
    {
     "name": "stdout",
     "output_type": "stream",
     "text": [
      "step 2150 reconstruction loss: 3.338531017303467, 4.221968650817871, 4.08704948425293\n",
      "step 2160 autoencoder loss: 0.6762182712554932\n"
     ]
    },
    {
     "name": "stderr",
     "output_type": "stream",
     "text": [
      "Setting `pad_token_id` to `eos_token_id`:0 for open-end generation.\n"
     ]
    },
    {
     "name": "stdout",
     "output_type": "stream",
     "text": [
      "step 2160 reconstruction loss: 3.504926919937134, 4.537068843841553, 4.382080554962158\n",
      "step 2170 autoencoder loss: 0.810497522354126\n"
     ]
    },
    {
     "name": "stderr",
     "output_type": "stream",
     "text": [
      "Setting `pad_token_id` to `eos_token_id`:0 for open-end generation.\n"
     ]
    },
    {
     "name": "stdout",
     "output_type": "stream",
     "text": [
      "step 2170 reconstruction loss: 3.5624752044677734, 4.513696193695068, 4.364754676818848\n",
      "step 2180 autoencoder loss: 0.7622469663619995\n"
     ]
    },
    {
     "name": "stderr",
     "output_type": "stream",
     "text": [
      "Setting `pad_token_id` to `eos_token_id`:0 for open-end generation.\n"
     ]
    },
    {
     "name": "stdout",
     "output_type": "stream",
     "text": [
      "step 2180 reconstruction loss: 3.4029619693756104, 4.36228609085083, 4.21962308883667\n",
      "step 2190 autoencoder loss: 0.7421272397041321\n"
     ]
    },
    {
     "name": "stderr",
     "output_type": "stream",
     "text": [
      "Setting `pad_token_id` to `eos_token_id`:0 for open-end generation.\n"
     ]
    },
    {
     "name": "stdout",
     "output_type": "stream",
     "text": [
      "step 2190 reconstruction loss: 3.5321192741394043, 4.4127607345581055, 4.280378818511963\n",
      "step 2200 autoencoder loss: 0.651422917842865\n"
     ]
    },
    {
     "name": "stderr",
     "output_type": "stream",
     "text": [
      "Setting `pad_token_id` to `eos_token_id`:0 for open-end generation.\n"
     ]
    },
    {
     "name": "stdout",
     "output_type": "stream",
     "text": [
      "step 2200 reconstruction loss: 3.3227550983428955, 4.133596897125244, 3.9973883628845215\n",
      "step 2210 autoencoder loss: 0.8138377666473389\n"
     ]
    },
    {
     "name": "stderr",
     "output_type": "stream",
     "text": [
      "Setting `pad_token_id` to `eos_token_id`:0 for open-end generation.\n"
     ]
    },
    {
     "name": "stdout",
     "output_type": "stream",
     "text": [
      "step 2210 reconstruction loss: 3.363912582397461, 4.4155592918396, 4.25351095199585\n",
      "step 2220 autoencoder loss: 0.6364636421203613\n"
     ]
    },
    {
     "name": "stderr",
     "output_type": "stream",
     "text": [
      "Setting `pad_token_id` to `eos_token_id`:0 for open-end generation.\n"
     ]
    },
    {
     "name": "stdout",
     "output_type": "stream",
     "text": [
      "step 2220 reconstruction loss: 3.33097505569458, 4.406466484069824, 4.245298385620117\n",
      "step 2230 autoencoder loss: 0.6661202907562256\n"
     ]
    },
    {
     "name": "stderr",
     "output_type": "stream",
     "text": [
      "Setting `pad_token_id` to `eos_token_id`:0 for open-end generation.\n"
     ]
    },
    {
     "name": "stdout",
     "output_type": "stream",
     "text": [
      "step 2230 reconstruction loss: 3.565497875213623, 4.462564468383789, 4.333077430725098\n",
      "step 2240 autoencoder loss: 0.5739428400993347\n"
     ]
    },
    {
     "name": "stderr",
     "output_type": "stream",
     "text": [
      "Setting `pad_token_id` to `eos_token_id`:0 for open-end generation.\n"
     ]
    },
    {
     "name": "stdout",
     "output_type": "stream",
     "text": [
      "step 2240 reconstruction loss: 3.5045673847198486, 4.533171653747559, 4.370770454406738\n",
      "step 2250 autoencoder loss: 0.7880793213844299\n"
     ]
    },
    {
     "name": "stderr",
     "output_type": "stream",
     "text": [
      "Setting `pad_token_id` to `eos_token_id`:0 for open-end generation.\n"
     ]
    },
    {
     "name": "stdout",
     "output_type": "stream",
     "text": [
      "step 2250 reconstruction loss: 3.355316638946533, 4.443473815917969, 4.308408260345459\n",
      "step 2260 autoencoder loss: 0.5707895159721375\n"
     ]
    },
    {
     "name": "stderr",
     "output_type": "stream",
     "text": [
      "Setting `pad_token_id` to `eos_token_id`:0 for open-end generation.\n"
     ]
    },
    {
     "name": "stdout",
     "output_type": "stream",
     "text": [
      "step 2260 reconstruction loss: 3.4642269611358643, 4.561126232147217, 4.445715427398682\n",
      "step 2270 autoencoder loss: 0.629048764705658\n"
     ]
    },
    {
     "name": "stderr",
     "output_type": "stream",
     "text": [
      "Setting `pad_token_id` to `eos_token_id`:0 for open-end generation.\n"
     ]
    },
    {
     "name": "stdout",
     "output_type": "stream",
     "text": [
      "step 2270 reconstruction loss: 3.512101173400879, 4.323124885559082, 4.193482875823975\n",
      "step 2280 autoencoder loss: 0.6603596210479736\n"
     ]
    },
    {
     "name": "stderr",
     "output_type": "stream",
     "text": [
      "Setting `pad_token_id` to `eos_token_id`:0 for open-end generation.\n"
     ]
    },
    {
     "name": "stdout",
     "output_type": "stream",
     "text": [
      "step 2280 reconstruction loss: 3.4971306324005127, 4.390298366546631, 4.247849941253662\n",
      "step 2290 autoencoder loss: 0.7339901328086853\n"
     ]
    },
    {
     "name": "stderr",
     "output_type": "stream",
     "text": [
      "Setting `pad_token_id` to `eos_token_id`:0 for open-end generation.\n"
     ]
    },
    {
     "name": "stdout",
     "output_type": "stream",
     "text": [
      "step 2290 reconstruction loss: 3.295163631439209, 4.204076766967773, 4.049081802368164\n",
      "step 2300 autoencoder loss: 0.6204562187194824\n"
     ]
    },
    {
     "name": "stderr",
     "output_type": "stream",
     "text": [
      "Setting `pad_token_id` to `eos_token_id`:0 for open-end generation.\n"
     ]
    },
    {
     "name": "stdout",
     "output_type": "stream",
     "text": [
      "step 2300 reconstruction loss: 3.363271951675415, 4.356673717498779, 4.195423126220703\n",
      "step 2310 autoencoder loss: 0.791279137134552\n"
     ]
    },
    {
     "name": "stderr",
     "output_type": "stream",
     "text": [
      "Setting `pad_token_id` to `eos_token_id`:0 for open-end generation.\n"
     ]
    },
    {
     "name": "stdout",
     "output_type": "stream",
     "text": [
      "step 2310 reconstruction loss: 3.4774346351623535, 4.386269569396973, 4.243641376495361\n",
      "step 2320 autoencoder loss: 0.6860108971595764\n"
     ]
    },
    {
     "name": "stderr",
     "output_type": "stream",
     "text": [
      "Setting `pad_token_id` to `eos_token_id`:0 for open-end generation.\n"
     ]
    },
    {
     "name": "stdout",
     "output_type": "stream",
     "text": [
      "step 2320 reconstruction loss: 3.5086777210235596, 4.491399765014648, 4.333690643310547\n",
      "step 2330 autoencoder loss: 0.6602063179016113\n"
     ]
    },
    {
     "name": "stderr",
     "output_type": "stream",
     "text": [
      "Setting `pad_token_id` to `eos_token_id`:0 for open-end generation.\n"
     ]
    },
    {
     "name": "stdout",
     "output_type": "stream",
     "text": [
      "step 2330 reconstruction loss: 3.733757495880127, 4.55851411819458, 4.426078796386719\n",
      "step 2340 autoencoder loss: 0.5969859957695007\n"
     ]
    },
    {
     "name": "stderr",
     "output_type": "stream",
     "text": [
      "Setting `pad_token_id` to `eos_token_id`:0 for open-end generation.\n"
     ]
    },
    {
     "name": "stdout",
     "output_type": "stream",
     "text": [
      "step 2340 reconstruction loss: 3.484492778778076, 4.484477519989014, 4.336982727050781\n",
      "refreshing buffer...\n",
      "buffer refreshed...\n",
      "step 2350 autoencoder loss: 0.6044826507568359\n"
     ]
    },
    {
     "name": "stderr",
     "output_type": "stream",
     "text": [
      "Setting `pad_token_id` to `eos_token_id`:0 for open-end generation.\n"
     ]
    },
    {
     "name": "stdout",
     "output_type": "stream",
     "text": [
      "step 2350 reconstruction loss: 3.135878801345825, 4.133274555206299, 3.9870247840881348\n",
      "step 2360 autoencoder loss: 0.7077126502990723\n"
     ]
    },
    {
     "name": "stderr",
     "output_type": "stream",
     "text": [
      "Setting `pad_token_id` to `eos_token_id`:0 for open-end generation.\n"
     ]
    },
    {
     "name": "stdout",
     "output_type": "stream",
     "text": [
      "step 2360 reconstruction loss: 3.6085071563720703, 4.963397026062012, 4.821635723114014\n",
      "step 2370 autoencoder loss: 0.556176483631134\n"
     ]
    },
    {
     "name": "stderr",
     "output_type": "stream",
     "text": [
      "Setting `pad_token_id` to `eos_token_id`:0 for open-end generation.\n"
     ]
    },
    {
     "name": "stdout",
     "output_type": "stream",
     "text": [
      "step 2370 reconstruction loss: 3.321408271789551, 4.411754608154297, 4.288956642150879\n",
      "step 2380 autoencoder loss: 0.6458369493484497\n"
     ]
    },
    {
     "name": "stderr",
     "output_type": "stream",
     "text": [
      "Setting `pad_token_id` to `eos_token_id`:0 for open-end generation.\n"
     ]
    },
    {
     "name": "stdout",
     "output_type": "stream",
     "text": [
      "step 2380 reconstruction loss: 3.524301528930664, 4.433809280395508, 4.272773742675781\n",
      "step 2390 autoencoder loss: 0.6814998984336853\n"
     ]
    },
    {
     "name": "stderr",
     "output_type": "stream",
     "text": [
      "Setting `pad_token_id` to `eos_token_id`:0 for open-end generation.\n"
     ]
    },
    {
     "name": "stdout",
     "output_type": "stream",
     "text": [
      "step 2390 reconstruction loss: 3.581336498260498, 4.566136360168457, 4.41672945022583\n",
      "step 2400 autoencoder loss: 0.6292661428451538\n"
     ]
    },
    {
     "name": "stderr",
     "output_type": "stream",
     "text": [
      "Setting `pad_token_id` to `eos_token_id`:0 for open-end generation.\n"
     ]
    },
    {
     "name": "stdout",
     "output_type": "stream",
     "text": [
      "step 2400 reconstruction loss: 3.6489670276641846, 4.474569320678711, 4.334155082702637\n",
      "step 2410 autoencoder loss: 0.6652423143386841\n"
     ]
    },
    {
     "name": "stderr",
     "output_type": "stream",
     "text": [
      "Setting `pad_token_id` to `eos_token_id`:0 for open-end generation.\n"
     ]
    },
    {
     "name": "stdout",
     "output_type": "stream",
     "text": [
      "step 2410 reconstruction loss: 2.993224859237671, 4.064698219299316, 3.9019293785095215\n",
      "step 2420 autoencoder loss: 0.5827752351760864\n"
     ]
    },
    {
     "name": "stderr",
     "output_type": "stream",
     "text": [
      "Setting `pad_token_id` to `eos_token_id`:0 for open-end generation.\n"
     ]
    },
    {
     "name": "stdout",
     "output_type": "stream",
     "text": [
      "step 2420 reconstruction loss: 3.431607961654663, 4.282160758972168, 4.149107933044434\n",
      "step 2430 autoencoder loss: 0.7348138093948364\n"
     ]
    },
    {
     "name": "stderr",
     "output_type": "stream",
     "text": [
      "Setting `pad_token_id` to `eos_token_id`:0 for open-end generation.\n"
     ]
    },
    {
     "name": "stdout",
     "output_type": "stream",
     "text": [
      "step 2430 reconstruction loss: 3.65274977684021, 4.496091842651367, 4.368894100189209\n",
      "step 2440 autoencoder loss: 0.6907675266265869\n"
     ]
    },
    {
     "name": "stderr",
     "output_type": "stream",
     "text": [
      "Setting `pad_token_id` to `eos_token_id`:0 for open-end generation.\n"
     ]
    },
    {
     "name": "stdout",
     "output_type": "stream",
     "text": [
      "step 2440 reconstruction loss: 3.2861547470092773, 4.616271018981934, 4.443819522857666\n",
      "step 2450 autoencoder loss: 0.6689414381980896\n"
     ]
    },
    {
     "name": "stderr",
     "output_type": "stream",
     "text": [
      "Setting `pad_token_id` to `eos_token_id`:0 for open-end generation.\n"
     ]
    },
    {
     "name": "stdout",
     "output_type": "stream",
     "text": [
      "step 2450 reconstruction loss: 3.5685231685638428, 4.400050640106201, 4.264225482940674\n",
      "step 2460 autoencoder loss: 0.5955439209938049\n"
     ]
    },
    {
     "name": "stderr",
     "output_type": "stream",
     "text": [
      "Setting `pad_token_id` to `eos_token_id`:0 for open-end generation.\n"
     ]
    },
    {
     "name": "stdout",
     "output_type": "stream",
     "text": [
      "step 2460 reconstruction loss: 3.3270225524902344, 4.5448222160339355, 4.413389682769775\n",
      "step 2470 autoencoder loss: 0.5722886323928833\n"
     ]
    },
    {
     "name": "stderr",
     "output_type": "stream",
     "text": [
      "Setting `pad_token_id` to `eos_token_id`:0 for open-end generation.\n"
     ]
    },
    {
     "name": "stdout",
     "output_type": "stream",
     "text": [
      "step 2470 reconstruction loss: 3.6522974967956543, 5.070310115814209, 5.042244911193848\n",
      "step 2480 autoencoder loss: 0.6992084383964539\n"
     ]
    },
    {
     "name": "stderr",
     "output_type": "stream",
     "text": [
      "Setting `pad_token_id` to `eos_token_id`:0 for open-end generation.\n"
     ]
    },
    {
     "name": "stdout",
     "output_type": "stream",
     "text": [
      "step 2480 reconstruction loss: 3.4396719932556152, 4.243439674377441, 4.113694190979004\n",
      "step 2490 autoencoder loss: 0.7397032976150513\n"
     ]
    },
    {
     "name": "stderr",
     "output_type": "stream",
     "text": [
      "Setting `pad_token_id` to `eos_token_id`:0 for open-end generation.\n"
     ]
    },
    {
     "name": "stdout",
     "output_type": "stream",
     "text": [
      "step 2490 reconstruction loss: 3.3995516300201416, 4.300243854522705, 4.163102626800537\n",
      "step 2500 autoencoder loss: 0.559470534324646\n"
     ]
    },
    {
     "name": "stderr",
     "output_type": "stream",
     "text": [
      "Setting `pad_token_id` to `eos_token_id`:0 for open-end generation.\n"
     ]
    },
    {
     "name": "stdout",
     "output_type": "stream",
     "text": [
      "step 2500 reconstruction loss: 3.5532710552215576, 4.470484256744385, 4.324193954467773\n",
      "step 2510 autoencoder loss: 0.5535773634910583\n"
     ]
    },
    {
     "name": "stderr",
     "output_type": "stream",
     "text": [
      "Setting `pad_token_id` to `eos_token_id`:0 for open-end generation.\n"
     ]
    },
    {
     "name": "stdout",
     "output_type": "stream",
     "text": [
      "step 2510 reconstruction loss: 3.589611291885376, 4.53747034072876, 4.392726421356201\n",
      "step 2520 autoencoder loss: 0.6972466111183167\n"
     ]
    },
    {
     "name": "stderr",
     "output_type": "stream",
     "text": [
      "Setting `pad_token_id` to `eos_token_id`:0 for open-end generation.\n"
     ]
    },
    {
     "name": "stdout",
     "output_type": "stream",
     "text": [
      "step 2520 reconstruction loss: 3.652031898498535, 4.547811985015869, 4.401787281036377\n",
      "step 2530 autoencoder loss: 0.6746158003807068\n"
     ]
    },
    {
     "name": "stderr",
     "output_type": "stream",
     "text": [
      "Setting `pad_token_id` to `eos_token_id`:0 for open-end generation.\n"
     ]
    },
    {
     "name": "stdout",
     "output_type": "stream",
     "text": [
      "step 2530 reconstruction loss: 3.164695978164673, 4.080928325653076, 3.938366651535034\n",
      "step 2540 autoencoder loss: 0.6049854159355164\n"
     ]
    },
    {
     "name": "stderr",
     "output_type": "stream",
     "text": [
      "Setting `pad_token_id` to `eos_token_id`:0 for open-end generation.\n"
     ]
    },
    {
     "name": "stdout",
     "output_type": "stream",
     "text": [
      "step 2540 reconstruction loss: 3.534560441970825, 4.531414985656738, 4.386754512786865\n",
      "step 2550 autoencoder loss: 0.6933817267417908\n"
     ]
    },
    {
     "name": "stderr",
     "output_type": "stream",
     "text": [
      "Setting `pad_token_id` to `eos_token_id`:0 for open-end generation.\n"
     ]
    },
    {
     "name": "stdout",
     "output_type": "stream",
     "text": [
      "step 2550 reconstruction loss: 3.519268751144409, 4.542288303375244, 4.390340805053711\n",
      "step 2560 autoencoder loss: 0.7461408972740173\n"
     ]
    },
    {
     "name": "stderr",
     "output_type": "stream",
     "text": [
      "Setting `pad_token_id` to `eos_token_id`:0 for open-end generation.\n"
     ]
    },
    {
     "name": "stdout",
     "output_type": "stream",
     "text": [
      "step 2560 reconstruction loss: 3.5529680252075195, 4.419839859008789, 4.27974796295166\n",
      "step 2570 autoencoder loss: 0.584954023361206\n"
     ]
    },
    {
     "name": "stderr",
     "output_type": "stream",
     "text": [
      "Setting `pad_token_id` to `eos_token_id`:0 for open-end generation.\n"
     ]
    },
    {
     "name": "stdout",
     "output_type": "stream",
     "text": [
      "step 2570 reconstruction loss: 3.3838860988616943, 4.285928249359131, 4.145485877990723\n",
      "step 2580 autoencoder loss: 0.5981323719024658\n"
     ]
    },
    {
     "name": "stderr",
     "output_type": "stream",
     "text": [
      "Setting `pad_token_id` to `eos_token_id`:0 for open-end generation.\n"
     ]
    },
    {
     "name": "stdout",
     "output_type": "stream",
     "text": [
      "step 2580 reconstruction loss: 3.7279672622680664, 4.56884241104126, 4.441100597381592\n",
      "step 2590 autoencoder loss: 0.6682191491127014\n"
     ]
    },
    {
     "name": "stderr",
     "output_type": "stream",
     "text": [
      "Setting `pad_token_id` to `eos_token_id`:0 for open-end generation.\n"
     ]
    },
    {
     "name": "stdout",
     "output_type": "stream",
     "text": [
      "step 2590 reconstruction loss: 3.601116895675659, 4.534570693969727, 4.4051947593688965\n",
      "step 2600 autoencoder loss: 0.5849865674972534\n"
     ]
    },
    {
     "name": "stderr",
     "output_type": "stream",
     "text": [
      "Setting `pad_token_id` to `eos_token_id`:0 for open-end generation.\n"
     ]
    },
    {
     "name": "stdout",
     "output_type": "stream",
     "text": [
      "step 2600 reconstruction loss: 3.6184754371643066, 4.474417209625244, 4.319374084472656\n",
      "step 2610 autoencoder loss: 0.6259697675704956\n"
     ]
    },
    {
     "name": "stderr",
     "output_type": "stream",
     "text": [
      "Setting `pad_token_id` to `eos_token_id`:0 for open-end generation.\n"
     ]
    },
    {
     "name": "stdout",
     "output_type": "stream",
     "text": [
      "step 2610 reconstruction loss: 3.3357160091400146, 4.218941688537598, 4.076077938079834\n",
      "step 2620 autoencoder loss: 0.7215258479118347\n"
     ]
    },
    {
     "name": "stderr",
     "output_type": "stream",
     "text": [
      "Setting `pad_token_id` to `eos_token_id`:0 for open-end generation.\n"
     ]
    },
    {
     "name": "stdout",
     "output_type": "stream",
     "text": [
      "step 2620 reconstruction loss: 3.528229236602783, 4.360307693481445, 4.233161926269531\n",
      "step 2630 autoencoder loss: 0.6613365411758423\n"
     ]
    },
    {
     "name": "stderr",
     "output_type": "stream",
     "text": [
      "Setting `pad_token_id` to `eos_token_id`:0 for open-end generation.\n"
     ]
    },
    {
     "name": "stdout",
     "output_type": "stream",
     "text": [
      "step 2630 reconstruction loss: 3.3852498531341553, 4.4817070960998535, 4.336000919342041\n",
      "step 2640 autoencoder loss: 0.6756830811500549\n"
     ]
    },
    {
     "name": "stderr",
     "output_type": "stream",
     "text": [
      "Setting `pad_token_id` to `eos_token_id`:0 for open-end generation.\n"
     ]
    },
    {
     "name": "stdout",
     "output_type": "stream",
     "text": [
      "step 2640 reconstruction loss: 3.505585193634033, 4.498178005218506, 4.360154628753662\n",
      "step 2650 autoencoder loss: 0.7901790142059326\n"
     ]
    },
    {
     "name": "stderr",
     "output_type": "stream",
     "text": [
      "Setting `pad_token_id` to `eos_token_id`:0 for open-end generation.\n"
     ]
    },
    {
     "name": "stdout",
     "output_type": "stream",
     "text": [
      "step 2650 reconstruction loss: 3.108001708984375, 4.070137023925781, 3.927924871444702\n",
      "step 2660 autoencoder loss: 0.4352796673774719\n"
     ]
    },
    {
     "name": "stderr",
     "output_type": "stream",
     "text": [
      "Setting `pad_token_id` to `eos_token_id`:0 for open-end generation.\n"
     ]
    },
    {
     "name": "stdout",
     "output_type": "stream",
     "text": [
      "step 2660 reconstruction loss: 3.686777353286743, 4.530190944671631, 4.38559103012085\n",
      "step 2670 autoencoder loss: 0.6737184524536133\n"
     ]
    },
    {
     "name": "stderr",
     "output_type": "stream",
     "text": [
      "Setting `pad_token_id` to `eos_token_id`:0 for open-end generation.\n"
     ]
    },
    {
     "name": "stdout",
     "output_type": "stream",
     "text": [
      "step 2670 reconstruction loss: 3.4525890350341797, 4.350492000579834, 4.207736015319824\n",
      "step 2680 autoencoder loss: 0.6561902761459351\n"
     ]
    },
    {
     "name": "stderr",
     "output_type": "stream",
     "text": [
      "Setting `pad_token_id` to `eos_token_id`:0 for open-end generation.\n"
     ]
    },
    {
     "name": "stdout",
     "output_type": "stream",
     "text": [
      "step 2680 reconstruction loss: 3.5366997718811035, 4.616740703582764, 4.458491802215576\n",
      "step 2690 autoencoder loss: 0.7265446782112122\n"
     ]
    },
    {
     "name": "stderr",
     "output_type": "stream",
     "text": [
      "Setting `pad_token_id` to `eos_token_id`:0 for open-end generation.\n"
     ]
    },
    {
     "name": "stdout",
     "output_type": "stream",
     "text": [
      "step 2690 reconstruction loss: 3.514895439147949, 4.3464508056640625, 4.202545642852783\n",
      "step 2700 autoencoder loss: 0.6126548647880554\n"
     ]
    },
    {
     "name": "stderr",
     "output_type": "stream",
     "text": [
      "Setting `pad_token_id` to `eos_token_id`:0 for open-end generation.\n"
     ]
    },
    {
     "name": "stdout",
     "output_type": "stream",
     "text": [
      "step 2700 reconstruction loss: 3.512298345565796, 4.4878740310668945, 4.351726055145264\n",
      "step 2710 autoencoder loss: 0.5881814956665039\n"
     ]
    },
    {
     "name": "stderr",
     "output_type": "stream",
     "text": [
      "Setting `pad_token_id` to `eos_token_id`:0 for open-end generation.\n"
     ]
    },
    {
     "name": "stdout",
     "output_type": "stream",
     "text": [
      "step 2710 reconstruction loss: 3.4962687492370605, 4.534245491027832, 4.387129783630371\n",
      "step 2720 autoencoder loss: 0.5269634127616882\n"
     ]
    },
    {
     "name": "stderr",
     "output_type": "stream",
     "text": [
      "Setting `pad_token_id` to `eos_token_id`:0 for open-end generation.\n"
     ]
    },
    {
     "name": "stdout",
     "output_type": "stream",
     "text": [
      "step 2720 reconstruction loss: 3.298626184463501, 4.200063705444336, 4.063713550567627\n",
      "step 2730 autoencoder loss: 0.558081328868866\n"
     ]
    },
    {
     "name": "stderr",
     "output_type": "stream",
     "text": [
      "Setting `pad_token_id` to `eos_token_id`:0 for open-end generation.\n"
     ]
    },
    {
     "name": "stdout",
     "output_type": "stream",
     "text": [
      "step 2730 reconstruction loss: 3.3490121364593506, 4.332812309265137, 4.180426120758057\n",
      "step 2740 autoencoder loss: 0.552071750164032\n"
     ]
    },
    {
     "name": "stderr",
     "output_type": "stream",
     "text": [
      "Setting `pad_token_id` to `eos_token_id`:0 for open-end generation.\n"
     ]
    },
    {
     "name": "stdout",
     "output_type": "stream",
     "text": [
      "step 2740 reconstruction loss: 3.385223627090454, 4.335172176361084, 4.188655376434326\n",
      "step 2750 autoencoder loss: 0.5812628269195557\n"
     ]
    },
    {
     "name": "stderr",
     "output_type": "stream",
     "text": [
      "Setting `pad_token_id` to `eos_token_id`:0 for open-end generation.\n"
     ]
    },
    {
     "name": "stdout",
     "output_type": "stream",
     "text": [
      "step 2750 reconstruction loss: 3.309818744659424, 4.588280200958252, 4.432683944702148\n",
      "step 2760 autoencoder loss: 0.5159199833869934\n"
     ]
    },
    {
     "name": "stderr",
     "output_type": "stream",
     "text": [
      "Setting `pad_token_id` to `eos_token_id`:0 for open-end generation.\n"
     ]
    },
    {
     "name": "stdout",
     "output_type": "stream",
     "text": [
      "step 2760 reconstruction loss: 3.332425594329834, 4.258492469787598, 4.107437610626221\n",
      "step 2770 autoencoder loss: 0.6559259295463562\n"
     ]
    },
    {
     "name": "stderr",
     "output_type": "stream",
     "text": [
      "Setting `pad_token_id` to `eos_token_id`:0 for open-end generation.\n"
     ]
    },
    {
     "name": "stdout",
     "output_type": "stream",
     "text": [
      "step 2770 reconstruction loss: 3.4174482822418213, 4.492258548736572, 4.339751243591309\n",
      "step 2780 autoencoder loss: 0.44781461358070374\n"
     ]
    },
    {
     "name": "stderr",
     "output_type": "stream",
     "text": [
      "Setting `pad_token_id` to `eos_token_id`:0 for open-end generation.\n"
     ]
    },
    {
     "name": "stdout",
     "output_type": "stream",
     "text": [
      "step 2780 reconstruction loss: 3.2462406158447266, 4.280082702636719, 4.125044822692871\n",
      "step 2790 autoencoder loss: 0.6240885257720947\n"
     ]
    },
    {
     "name": "stderr",
     "output_type": "stream",
     "text": [
      "Setting `pad_token_id` to `eos_token_id`:0 for open-end generation.\n"
     ]
    },
    {
     "name": "stdout",
     "output_type": "stream",
     "text": [
      "step 2790 reconstruction loss: 3.61777400970459, 4.453508377075195, 4.314939498901367\n",
      "step 2800 autoencoder loss: 0.6321813464164734\n"
     ]
    },
    {
     "name": "stderr",
     "output_type": "stream",
     "text": [
      "Setting `pad_token_id` to `eos_token_id`:0 for open-end generation.\n"
     ]
    },
    {
     "name": "stdout",
     "output_type": "stream",
     "text": [
      "step 2800 reconstruction loss: 3.651752471923828, 4.550606727600098, 4.428393840789795\n",
      "step 2810 autoencoder loss: 0.6391177177429199\n"
     ]
    },
    {
     "name": "stderr",
     "output_type": "stream",
     "text": [
      "Setting `pad_token_id` to `eos_token_id`:0 for open-end generation.\n"
     ]
    },
    {
     "name": "stdout",
     "output_type": "stream",
     "text": [
      "step 2810 reconstruction loss: 3.2741308212280273, 4.321854114532471, 4.195647716522217\n",
      "step 2820 autoencoder loss: 0.6644243597984314\n"
     ]
    },
    {
     "name": "stderr",
     "output_type": "stream",
     "text": [
      "Setting `pad_token_id` to `eos_token_id`:0 for open-end generation.\n"
     ]
    },
    {
     "name": "stdout",
     "output_type": "stream",
     "text": [
      "step 2820 reconstruction loss: 3.343722343444824, 4.322574615478516, 4.181497573852539\n",
      "step 2830 autoencoder loss: 0.7150235176086426\n"
     ]
    },
    {
     "name": "stderr",
     "output_type": "stream",
     "text": [
      "Setting `pad_token_id` to `eos_token_id`:0 for open-end generation.\n"
     ]
    },
    {
     "name": "stdout",
     "output_type": "stream",
     "text": [
      "step 2830 reconstruction loss: 3.5954086780548096, 4.402256011962891, 4.273812294006348\n",
      "step 2840 autoencoder loss: 0.8578069806098938\n"
     ]
    },
    {
     "name": "stderr",
     "output_type": "stream",
     "text": [
      "Setting `pad_token_id` to `eos_token_id`:0 for open-end generation.\n"
     ]
    },
    {
     "name": "stdout",
     "output_type": "stream",
     "text": [
      "step 2840 reconstruction loss: 3.4057271480560303, 4.445220470428467, 4.304365634918213\n",
      "step 2850 autoencoder loss: 0.6318384408950806\n"
     ]
    },
    {
     "name": "stderr",
     "output_type": "stream",
     "text": [
      "Setting `pad_token_id` to `eos_token_id`:0 for open-end generation.\n"
     ]
    },
    {
     "name": "stdout",
     "output_type": "stream",
     "text": [
      "step 2850 reconstruction loss: 3.4626879692077637, 4.452103137969971, 4.310960292816162\n",
      "step 2860 autoencoder loss: 0.5835472941398621\n"
     ]
    },
    {
     "name": "stderr",
     "output_type": "stream",
     "text": [
      "Setting `pad_token_id` to `eos_token_id`:0 for open-end generation.\n"
     ]
    },
    {
     "name": "stdout",
     "output_type": "stream",
     "text": [
      "step 2860 reconstruction loss: 3.4025986194610596, 4.240198612213135, 4.109127521514893\n",
      "step 2870 autoencoder loss: 0.7405017614364624\n"
     ]
    },
    {
     "name": "stderr",
     "output_type": "stream",
     "text": [
      "Setting `pad_token_id` to `eos_token_id`:0 for open-end generation.\n"
     ]
    },
    {
     "name": "stdout",
     "output_type": "stream",
     "text": [
      "step 2870 reconstruction loss: 3.4519665241241455, 4.319073677062988, 4.170807838439941\n",
      "step 2880 autoencoder loss: 0.6449573636054993\n"
     ]
    },
    {
     "name": "stderr",
     "output_type": "stream",
     "text": [
      "Setting `pad_token_id` to `eos_token_id`:0 for open-end generation.\n",
      "A decoder-only architecture is being used, but right-padding was detected! For correct generation results, please set `padding_side='left'` when initializing the tokenizer.\n"
     ]
    },
    {
     "name": "stdout",
     "output_type": "stream",
     "text": [
      "step 2880 reconstruction loss: 3.256978750228882, 4.303203582763672, 4.153457164764404\n",
      "step 2890 autoencoder loss: 0.8044247031211853\n"
     ]
    },
    {
     "name": "stderr",
     "output_type": "stream",
     "text": [
      "Setting `pad_token_id` to `eos_token_id`:0 for open-end generation.\n"
     ]
    },
    {
     "name": "stdout",
     "output_type": "stream",
     "text": [
      "step 2890 reconstruction loss: 3.323293685913086, 4.308821678161621, 4.15192174911499\n",
      "step 2900 autoencoder loss: 0.6985996961593628\n"
     ]
    },
    {
     "name": "stderr",
     "output_type": "stream",
     "text": [
      "Setting `pad_token_id` to `eos_token_id`:0 for open-end generation.\n"
     ]
    },
    {
     "name": "stdout",
     "output_type": "stream",
     "text": [
      "step 2900 reconstruction loss: 3.5266072750091553, 4.563533306121826, 4.421893119812012\n",
      "step 2910 autoencoder loss: 0.5812140703201294\n"
     ]
    },
    {
     "name": "stderr",
     "output_type": "stream",
     "text": [
      "Setting `pad_token_id` to `eos_token_id`:0 for open-end generation.\n"
     ]
    },
    {
     "name": "stdout",
     "output_type": "stream",
     "text": [
      "step 2910 reconstruction loss: 3.3703839778900146, 4.342578887939453, 4.19796085357666\n",
      "step 2920 autoencoder loss: 0.7578226923942566\n"
     ]
    },
    {
     "name": "stderr",
     "output_type": "stream",
     "text": [
      "Setting `pad_token_id` to `eos_token_id`:0 for open-end generation.\n"
     ]
    },
    {
     "name": "stdout",
     "output_type": "stream",
     "text": [
      "step 2920 reconstruction loss: 3.2690393924713135, 4.331614017486572, 4.181926727294922\n",
      "step 2930 autoencoder loss: 0.8007989525794983\n"
     ]
    },
    {
     "name": "stderr",
     "output_type": "stream",
     "text": [
      "Setting `pad_token_id` to `eos_token_id`:0 for open-end generation.\n"
     ]
    },
    {
     "name": "stdout",
     "output_type": "stream",
     "text": [
      "step 2930 reconstruction loss: 3.552180767059326, 4.460439682006836, 4.328638076782227\n",
      "step 2940 autoencoder loss: 0.7857339978218079\n"
     ]
    },
    {
     "name": "stderr",
     "output_type": "stream",
     "text": [
      "Setting `pad_token_id` to `eos_token_id`:0 for open-end generation.\n"
     ]
    },
    {
     "name": "stdout",
     "output_type": "stream",
     "text": [
      "step 2940 reconstruction loss: 3.5362720489501953, 4.376034736633301, 4.241031169891357\n",
      "step 2950 autoencoder loss: 0.4973723888397217\n"
     ]
    },
    {
     "name": "stderr",
     "output_type": "stream",
     "text": [
      "Setting `pad_token_id` to `eos_token_id`:0 for open-end generation.\n"
     ]
    },
    {
     "name": "stdout",
     "output_type": "stream",
     "text": [
      "step 2950 reconstruction loss: 3.4947879314422607, 4.490936279296875, 4.333719253540039\n",
      "step 2960 autoencoder loss: 0.7490541934967041\n"
     ]
    },
    {
     "name": "stderr",
     "output_type": "stream",
     "text": [
      "Setting `pad_token_id` to `eos_token_id`:0 for open-end generation.\n"
     ]
    },
    {
     "name": "stdout",
     "output_type": "stream",
     "text": [
      "step 2960 reconstruction loss: 3.05159068107605, 4.199787139892578, 4.038963794708252\n",
      "step 2970 autoencoder loss: 0.7103502154350281\n"
     ]
    },
    {
     "name": "stderr",
     "output_type": "stream",
     "text": [
      "Setting `pad_token_id` to `eos_token_id`:0 for open-end generation.\n"
     ]
    },
    {
     "name": "stdout",
     "output_type": "stream",
     "text": [
      "step 2970 reconstruction loss: 3.315652847290039, 4.3777594566345215, 4.242656707763672\n",
      "step 2980 autoencoder loss: 0.7596338391304016\n"
     ]
    },
    {
     "name": "stderr",
     "output_type": "stream",
     "text": [
      "Setting `pad_token_id` to `eos_token_id`:0 for open-end generation.\n"
     ]
    },
    {
     "name": "stdout",
     "output_type": "stream",
     "text": [
      "step 2980 reconstruction loss: 3.6019811630249023, 4.5669450759887695, 4.4212775230407715\n",
      "step 2990 autoencoder loss: 0.678125262260437\n"
     ]
    },
    {
     "name": "stderr",
     "output_type": "stream",
     "text": [
      "Setting `pad_token_id` to `eos_token_id`:0 for open-end generation.\n"
     ]
    },
    {
     "name": "stdout",
     "output_type": "stream",
     "text": [
      "step 2990 reconstruction loss: 3.246438503265381, 5.776844501495361, 5.577157020568848\n",
      "step 3000 autoencoder loss: 0.7462610602378845\n"
     ]
    },
    {
     "name": "stderr",
     "output_type": "stream",
     "text": [
      "Setting `pad_token_id` to `eos_token_id`:0 for open-end generation.\n"
     ]
    },
    {
     "name": "stdout",
     "output_type": "stream",
     "text": [
      "step 3000 reconstruction loss: 3.217956781387329, 4.305961608886719, 4.155415058135986\n",
      "step 3010 autoencoder loss: 0.6930079460144043\n"
     ]
    },
    {
     "name": "stderr",
     "output_type": "stream",
     "text": [
      "Setting `pad_token_id` to `eos_token_id`:0 for open-end generation.\n"
     ]
    },
    {
     "name": "stdout",
     "output_type": "stream",
     "text": [
      "step 3010 reconstruction loss: 3.4658756256103516, 4.379742622375488, 4.24840784072876\n",
      "step 3020 autoencoder loss: 0.659483015537262\n"
     ]
    },
    {
     "name": "stderr",
     "output_type": "stream",
     "text": [
      "Setting `pad_token_id` to `eos_token_id`:0 for open-end generation.\n"
     ]
    },
    {
     "name": "stdout",
     "output_type": "stream",
     "text": [
      "step 3020 reconstruction loss: 3.515275001525879, 4.4302802085876465, 4.292555809020996\n",
      "step 3030 autoencoder loss: 0.5938572287559509\n"
     ]
    },
    {
     "name": "stderr",
     "output_type": "stream",
     "text": [
      "Setting `pad_token_id` to `eos_token_id`:0 for open-end generation.\n"
     ]
    },
    {
     "name": "stdout",
     "output_type": "stream",
     "text": [
      "step 3030 reconstruction loss: 3.511155843734741, 4.423165798187256, 4.278751373291016\n",
      "step 3040 autoencoder loss: 0.6785171031951904\n"
     ]
    },
    {
     "name": "stderr",
     "output_type": "stream",
     "text": [
      "Setting `pad_token_id` to `eos_token_id`:0 for open-end generation.\n"
     ]
    },
    {
     "name": "stdout",
     "output_type": "stream",
     "text": [
      "step 3040 reconstruction loss: 3.1180825233459473, 4.1010541915893555, 3.9558329582214355\n",
      "step 3050 autoencoder loss: 0.6726130247116089\n"
     ]
    },
    {
     "name": "stderr",
     "output_type": "stream",
     "text": [
      "Setting `pad_token_id` to `eos_token_id`:0 for open-end generation.\n"
     ]
    },
    {
     "name": "stdout",
     "output_type": "stream",
     "text": [
      "step 3050 reconstruction loss: 3.5728816986083984, 5.033310413360596, 4.897531032562256\n",
      "step 3060 autoencoder loss: 0.6921142935752869\n"
     ]
    },
    {
     "name": "stderr",
     "output_type": "stream",
     "text": [
      "Setting `pad_token_id` to `eos_token_id`:0 for open-end generation.\n"
     ]
    },
    {
     "name": "stdout",
     "output_type": "stream",
     "text": [
      "step 3060 reconstruction loss: 3.371762990951538, 4.237771034240723, 4.100131511688232\n",
      "step 3070 autoencoder loss: 0.6023848056793213\n"
     ]
    },
    {
     "name": "stderr",
     "output_type": "stream",
     "text": [
      "Setting `pad_token_id` to `eos_token_id`:0 for open-end generation.\n"
     ]
    },
    {
     "name": "stdout",
     "output_type": "stream",
     "text": [
      "step 3070 reconstruction loss: 3.6481964588165283, 4.597254753112793, 4.47728967666626\n",
      "step 3080 autoencoder loss: 0.5972663760185242\n"
     ]
    },
    {
     "name": "stderr",
     "output_type": "stream",
     "text": [
      "Setting `pad_token_id` to `eos_token_id`:0 for open-end generation.\n"
     ]
    },
    {
     "name": "stdout",
     "output_type": "stream",
     "text": [
      "step 3080 reconstruction loss: 3.334099531173706, 4.297150135040283, 4.159282684326172\n",
      "step 3090 autoencoder loss: 0.7087940573692322\n"
     ]
    },
    {
     "name": "stderr",
     "output_type": "stream",
     "text": [
      "Setting `pad_token_id` to `eos_token_id`:0 for open-end generation.\n"
     ]
    },
    {
     "name": "stdout",
     "output_type": "stream",
     "text": [
      "step 3090 reconstruction loss: 3.631683111190796, 4.534979343414307, 4.392035007476807\n",
      "step 3100 autoencoder loss: 0.5659782886505127\n"
     ]
    },
    {
     "name": "stderr",
     "output_type": "stream",
     "text": [
      "Setting `pad_token_id` to `eos_token_id`:0 for open-end generation.\n"
     ]
    },
    {
     "name": "stdout",
     "output_type": "stream",
     "text": [
      "step 3100 reconstruction loss: 3.4751827716827393, 4.432918548583984, 4.300543785095215\n",
      "step 3110 autoencoder loss: 0.7422707676887512\n"
     ]
    },
    {
     "name": "stderr",
     "output_type": "stream",
     "text": [
      "Setting `pad_token_id` to `eos_token_id`:0 for open-end generation.\n"
     ]
    },
    {
     "name": "stdout",
     "output_type": "stream",
     "text": [
      "step 3110 reconstruction loss: 3.3850772380828857, 4.270270824432373, 4.135957717895508\n",
      "step 3120 autoencoder loss: 0.7754629254341125\n"
     ]
    },
    {
     "name": "stderr",
     "output_type": "stream",
     "text": [
      "Setting `pad_token_id` to `eos_token_id`:0 for open-end generation.\n"
     ]
    },
    {
     "name": "stdout",
     "output_type": "stream",
     "text": [
      "step 3120 reconstruction loss: 3.5180933475494385, 4.402188301086426, 4.263331413269043\n",
      "refreshing buffer...\n"
     ]
    },
    {
     "name": "stderr",
     "output_type": "stream",
     "text": [
      "A decoder-only architecture is being used, but right-padding was detected! For correct generation results, please set `padding_side='left'` when initializing the tokenizer.\n"
     ]
    },
    {
     "name": "stdout",
     "output_type": "stream",
     "text": [
      "buffer refreshed...\n",
      "step 3130 autoencoder loss: 0.581078052520752\n"
     ]
    },
    {
     "name": "stderr",
     "output_type": "stream",
     "text": [
      "Setting `pad_token_id` to `eos_token_id`:0 for open-end generation.\n"
     ]
    },
    {
     "name": "stdout",
     "output_type": "stream",
     "text": [
      "step 3130 reconstruction loss: 3.7220449447631836, 4.619440078735352, 4.46433687210083\n",
      "step 3140 autoencoder loss: 0.7126457095146179\n"
     ]
    },
    {
     "name": "stderr",
     "output_type": "stream",
     "text": [
      "Setting `pad_token_id` to `eos_token_id`:0 for open-end generation.\n"
     ]
    },
    {
     "name": "stdout",
     "output_type": "stream",
     "text": [
      "step 3140 reconstruction loss: 3.4160237312316895, 4.313352584838867, 4.174988269805908\n",
      "step 3150 autoencoder loss: 0.5667829513549805\n"
     ]
    },
    {
     "name": "stderr",
     "output_type": "stream",
     "text": [
      "Setting `pad_token_id` to `eos_token_id`:0 for open-end generation.\n"
     ]
    },
    {
     "name": "stdout",
     "output_type": "stream",
     "text": [
      "step 3150 reconstruction loss: 3.417084217071533, 4.358954906463623, 4.224948883056641\n",
      "step 3160 autoencoder loss: 0.5764890909194946\n"
     ]
    },
    {
     "name": "stderr",
     "output_type": "stream",
     "text": [
      "Setting `pad_token_id` to `eos_token_id`:0 for open-end generation.\n"
     ]
    },
    {
     "name": "stdout",
     "output_type": "stream",
     "text": [
      "step 3160 reconstruction loss: 3.5138304233551025, 4.380681991577148, 4.232362270355225\n",
      "step 3170 autoencoder loss: 0.5841659903526306\n"
     ]
    },
    {
     "name": "stderr",
     "output_type": "stream",
     "text": [
      "Setting `pad_token_id` to `eos_token_id`:0 for open-end generation.\n"
     ]
    },
    {
     "name": "stdout",
     "output_type": "stream",
     "text": [
      "step 3170 reconstruction loss: 3.1558609008789062, 4.1550703048706055, 4.003459453582764\n",
      "step 3180 autoencoder loss: 0.6271101832389832\n"
     ]
    },
    {
     "name": "stderr",
     "output_type": "stream",
     "text": [
      "Setting `pad_token_id` to `eos_token_id`:0 for open-end generation.\n"
     ]
    },
    {
     "name": "stdout",
     "output_type": "stream",
     "text": [
      "step 3180 reconstruction loss: 3.464961528778076, 4.461126804351807, 4.316810607910156\n",
      "step 3190 autoencoder loss: 0.6313572525978088\n"
     ]
    },
    {
     "name": "stderr",
     "output_type": "stream",
     "text": [
      "Setting `pad_token_id` to `eos_token_id`:0 for open-end generation.\n"
     ]
    },
    {
     "name": "stdout",
     "output_type": "stream",
     "text": [
      "step 3190 reconstruction loss: 3.593444585800171, 4.455369472503662, 4.324122905731201\n",
      "step 3200 autoencoder loss: 0.5197249054908752\n"
     ]
    },
    {
     "name": "stderr",
     "output_type": "stream",
     "text": [
      "Setting `pad_token_id` to `eos_token_id`:0 for open-end generation.\n"
     ]
    },
    {
     "name": "stdout",
     "output_type": "stream",
     "text": [
      "step 3200 reconstruction loss: 3.5471317768096924, 4.411168575286865, 4.286123752593994\n",
      "step 3210 autoencoder loss: 0.7747547626495361\n"
     ]
    },
    {
     "name": "stderr",
     "output_type": "stream",
     "text": [
      "Setting `pad_token_id` to `eos_token_id`:0 for open-end generation.\n"
     ]
    },
    {
     "name": "stdout",
     "output_type": "stream",
     "text": [
      "step 3210 reconstruction loss: 3.259995937347412, 4.2790913581848145, 4.1373982429504395\n",
      "step 3220 autoencoder loss: 0.5813422799110413\n"
     ]
    },
    {
     "name": "stderr",
     "output_type": "stream",
     "text": [
      "Setting `pad_token_id` to `eos_token_id`:0 for open-end generation.\n"
     ]
    },
    {
     "name": "stdout",
     "output_type": "stream",
     "text": [
      "step 3220 reconstruction loss: 3.298039436340332, 4.261951923370361, 4.113097190856934\n",
      "step 3230 autoencoder loss: 0.6458300352096558\n"
     ]
    },
    {
     "name": "stderr",
     "output_type": "stream",
     "text": [
      "Setting `pad_token_id` to `eos_token_id`:0 for open-end generation.\n"
     ]
    },
    {
     "name": "stdout",
     "output_type": "stream",
     "text": [
      "step 3230 reconstruction loss: 3.3955979347229004, 4.765263557434082, 4.643749713897705\n",
      "step 3240 autoencoder loss: 0.6359034180641174\n"
     ]
    },
    {
     "name": "stderr",
     "output_type": "stream",
     "text": [
      "Setting `pad_token_id` to `eos_token_id`:0 for open-end generation.\n"
     ]
    },
    {
     "name": "stdout",
     "output_type": "stream",
     "text": [
      "step 3240 reconstruction loss: 3.485398769378662, 4.544262409210205, 4.385308265686035\n",
      "step 3250 autoencoder loss: 0.7549654245376587\n"
     ]
    },
    {
     "name": "stderr",
     "output_type": "stream",
     "text": [
      "Setting `pad_token_id` to `eos_token_id`:0 for open-end generation.\n"
     ]
    },
    {
     "name": "stdout",
     "output_type": "stream",
     "text": [
      "step 3250 reconstruction loss: 3.4951064586639404, 4.491539478302002, 4.383184909820557\n",
      "step 3260 autoencoder loss: 0.5901205539703369\n"
     ]
    },
    {
     "name": "stderr",
     "output_type": "stream",
     "text": [
      "Setting `pad_token_id` to `eos_token_id`:0 for open-end generation.\n"
     ]
    },
    {
     "name": "stdout",
     "output_type": "stream",
     "text": [
      "step 3260 reconstruction loss: 3.5279934406280518, 4.444015026092529, 4.289332866668701\n",
      "step 3270 autoencoder loss: 0.5670130252838135\n"
     ]
    },
    {
     "name": "stderr",
     "output_type": "stream",
     "text": [
      "Setting `pad_token_id` to `eos_token_id`:0 for open-end generation.\n"
     ]
    },
    {
     "name": "stdout",
     "output_type": "stream",
     "text": [
      "step 3270 reconstruction loss: 3.2177953720092773, 4.086000442504883, 3.957874059677124\n",
      "step 3280 autoencoder loss: 0.6497654914855957\n"
     ]
    },
    {
     "name": "stderr",
     "output_type": "stream",
     "text": [
      "Setting `pad_token_id` to `eos_token_id`:0 for open-end generation.\n"
     ]
    },
    {
     "name": "stdout",
     "output_type": "stream",
     "text": [
      "step 3280 reconstruction loss: 3.554633617401123, 4.4536590576171875, 4.3137898445129395\n",
      "step 3290 autoencoder loss: 0.6825488805770874\n"
     ]
    },
    {
     "name": "stderr",
     "output_type": "stream",
     "text": [
      "Setting `pad_token_id` to `eos_token_id`:0 for open-end generation.\n"
     ]
    },
    {
     "name": "stdout",
     "output_type": "stream",
     "text": [
      "step 3290 reconstruction loss: 3.496393918991089, 4.413468837738037, 4.2631683349609375\n",
      "step 3300 autoencoder loss: 0.5676625370979309\n"
     ]
    },
    {
     "name": "stderr",
     "output_type": "stream",
     "text": [
      "Setting `pad_token_id` to `eos_token_id`:0 for open-end generation.\n"
     ]
    },
    {
     "name": "stdout",
     "output_type": "stream",
     "text": [
      "step 3300 reconstruction loss: 3.451148748397827, 4.3837504386901855, 4.276545524597168\n",
      "step 3310 autoencoder loss: 0.5453386902809143\n"
     ]
    },
    {
     "name": "stderr",
     "output_type": "stream",
     "text": [
      "Setting `pad_token_id` to `eos_token_id`:0 for open-end generation.\n"
     ]
    },
    {
     "name": "stdout",
     "output_type": "stream",
     "text": [
      "step 3310 reconstruction loss: 3.4656002521514893, 4.779896259307861, 4.682626247406006\n",
      "step 3320 autoencoder loss: 0.6438574194908142\n"
     ]
    },
    {
     "name": "stderr",
     "output_type": "stream",
     "text": [
      "Setting `pad_token_id` to `eos_token_id`:0 for open-end generation.\n"
     ]
    },
    {
     "name": "stdout",
     "output_type": "stream",
     "text": [
      "step 3320 reconstruction loss: 3.41526198387146, 4.420928955078125, 4.285179615020752\n",
      "step 3330 autoencoder loss: 0.6991547346115112\n"
     ]
    },
    {
     "name": "stderr",
     "output_type": "stream",
     "text": [
      "Setting `pad_token_id` to `eos_token_id`:0 for open-end generation.\n"
     ]
    },
    {
     "name": "stdout",
     "output_type": "stream",
     "text": [
      "step 3330 reconstruction loss: 3.629397392272949, 4.520445346832275, 4.372561931610107\n",
      "step 3340 autoencoder loss: 0.6643335819244385\n"
     ]
    },
    {
     "name": "stderr",
     "output_type": "stream",
     "text": [
      "Setting `pad_token_id` to `eos_token_id`:0 for open-end generation.\n"
     ]
    },
    {
     "name": "stdout",
     "output_type": "stream",
     "text": [
      "step 3340 reconstruction loss: 3.475480556488037, 4.668278694152832, 4.519368648529053\n",
      "step 3350 autoencoder loss: 0.842494785785675\n"
     ]
    },
    {
     "name": "stderr",
     "output_type": "stream",
     "text": [
      "Setting `pad_token_id` to `eos_token_id`:0 for open-end generation.\n"
     ]
    },
    {
     "name": "stdout",
     "output_type": "stream",
     "text": [
      "step 3350 reconstruction loss: 3.3495123386383057, 4.24941873550415, 4.111789703369141\n",
      "step 3360 autoencoder loss: 0.6580007672309875\n"
     ]
    },
    {
     "name": "stderr",
     "output_type": "stream",
     "text": [
      "Setting `pad_token_id` to `eos_token_id`:0 for open-end generation.\n"
     ]
    },
    {
     "name": "stdout",
     "output_type": "stream",
     "text": [
      "step 3360 reconstruction loss: 3.2505252361297607, 4.300800323486328, 4.153481960296631\n",
      "step 3370 autoencoder loss: 0.7141215801239014\n"
     ]
    },
    {
     "name": "stderr",
     "output_type": "stream",
     "text": [
      "Setting `pad_token_id` to `eos_token_id`:0 for open-end generation.\n"
     ]
    },
    {
     "name": "stdout",
     "output_type": "stream",
     "text": [
      "step 3370 reconstruction loss: 3.3111462593078613, 4.718028545379639, 4.529876708984375\n",
      "step 3380 autoencoder loss: 0.5669185519218445\n"
     ]
    },
    {
     "name": "stderr",
     "output_type": "stream",
     "text": [
      "Setting `pad_token_id` to `eos_token_id`:0 for open-end generation.\n"
     ]
    },
    {
     "name": "stdout",
     "output_type": "stream",
     "text": [
      "step 3380 reconstruction loss: 3.341226816177368, 4.335780620574951, 4.1887969970703125\n",
      "step 3390 autoencoder loss: 0.719520628452301\n"
     ]
    },
    {
     "name": "stderr",
     "output_type": "stream",
     "text": [
      "Setting `pad_token_id` to `eos_token_id`:0 for open-end generation.\n"
     ]
    },
    {
     "name": "stdout",
     "output_type": "stream",
     "text": [
      "step 3390 reconstruction loss: 3.191638469696045, 4.203657627105713, 4.064426422119141\n",
      "step 3400 autoencoder loss: 0.6679347157478333\n"
     ]
    },
    {
     "name": "stderr",
     "output_type": "stream",
     "text": [
      "Setting `pad_token_id` to `eos_token_id`:0 for open-end generation.\n"
     ]
    },
    {
     "name": "stdout",
     "output_type": "stream",
     "text": [
      "step 3400 reconstruction loss: 3.2840442657470703, 4.234964370727539, 4.101931571960449\n",
      "step 3410 autoencoder loss: 0.5540851950645447\n"
     ]
    },
    {
     "name": "stderr",
     "output_type": "stream",
     "text": [
      "Setting `pad_token_id` to `eos_token_id`:0 for open-end generation.\n"
     ]
    },
    {
     "name": "stdout",
     "output_type": "stream",
     "text": [
      "step 3410 reconstruction loss: 3.653219699859619, 5.408090591430664, 5.237222194671631\n",
      "step 3420 autoencoder loss: 0.7729976773262024\n"
     ]
    },
    {
     "name": "stderr",
     "output_type": "stream",
     "text": [
      "Setting `pad_token_id` to `eos_token_id`:0 for open-end generation.\n"
     ]
    },
    {
     "name": "stdout",
     "output_type": "stream",
     "text": [
      "step 3420 reconstruction loss: 3.3800694942474365, 4.449496269226074, 4.30226993560791\n",
      "step 3430 autoencoder loss: 0.6996703743934631\n"
     ]
    },
    {
     "name": "stderr",
     "output_type": "stream",
     "text": [
      "Setting `pad_token_id` to `eos_token_id`:0 for open-end generation.\n"
     ]
    },
    {
     "name": "stdout",
     "output_type": "stream",
     "text": [
      "step 3430 reconstruction loss: 3.469670057296753, 4.381589889526367, 4.240143299102783\n",
      "step 3440 autoencoder loss: 0.5487950444221497\n"
     ]
    },
    {
     "name": "stderr",
     "output_type": "stream",
     "text": [
      "Setting `pad_token_id` to `eos_token_id`:0 for open-end generation.\n"
     ]
    },
    {
     "name": "stdout",
     "output_type": "stream",
     "text": [
      "step 3440 reconstruction loss: 3.6608197689056396, 4.642252445220947, 4.503449440002441\n",
      "step 3450 autoencoder loss: 0.6099519729614258\n"
     ]
    },
    {
     "name": "stderr",
     "output_type": "stream",
     "text": [
      "Setting `pad_token_id` to `eos_token_id`:0 for open-end generation.\n"
     ]
    },
    {
     "name": "stdout",
     "output_type": "stream",
     "text": [
      "step 3450 reconstruction loss: 3.6879117488861084, 4.696438312530518, 4.556177139282227\n",
      "step 3460 autoencoder loss: 0.6263125538825989\n"
     ]
    },
    {
     "name": "stderr",
     "output_type": "stream",
     "text": [
      "Setting `pad_token_id` to `eos_token_id`:0 for open-end generation.\n"
     ]
    },
    {
     "name": "stdout",
     "output_type": "stream",
     "text": [
      "step 3460 reconstruction loss: 3.436776638031006, 4.304751396179199, 4.180807590484619\n",
      "step 3470 autoencoder loss: 0.619137167930603\n"
     ]
    },
    {
     "name": "stderr",
     "output_type": "stream",
     "text": [
      "Setting `pad_token_id` to `eos_token_id`:0 for open-end generation.\n"
     ]
    },
    {
     "name": "stdout",
     "output_type": "stream",
     "text": [
      "step 3470 reconstruction loss: 3.3515512943267822, 4.50703239440918, 4.377510070800781\n",
      "step 3480 autoencoder loss: 0.7341651320457458\n"
     ]
    },
    {
     "name": "stderr",
     "output_type": "stream",
     "text": [
      "Setting `pad_token_id` to `eos_token_id`:0 for open-end generation.\n"
     ]
    },
    {
     "name": "stdout",
     "output_type": "stream",
     "text": [
      "step 3480 reconstruction loss: 3.353985071182251, 4.278388023376465, 4.142612934112549\n",
      "step 3490 autoencoder loss: 0.5648731589317322\n"
     ]
    },
    {
     "name": "stderr",
     "output_type": "stream",
     "text": [
      "Setting `pad_token_id` to `eos_token_id`:0 for open-end generation.\n"
     ]
    },
    {
     "name": "stdout",
     "output_type": "stream",
     "text": [
      "step 3490 reconstruction loss: 3.132755756378174, 4.125698566436768, 3.9921064376831055\n",
      "step 3500 autoencoder loss: 0.5859475135803223\n"
     ]
    },
    {
     "name": "stderr",
     "output_type": "stream",
     "text": [
      "Setting `pad_token_id` to `eos_token_id`:0 for open-end generation.\n"
     ]
    },
    {
     "name": "stdout",
     "output_type": "stream",
     "text": [
      "step 3500 reconstruction loss: 3.09033465385437, 4.053999900817871, 3.920625686645508\n",
      "step 3510 autoencoder loss: 0.6650481224060059\n"
     ]
    },
    {
     "name": "stderr",
     "output_type": "stream",
     "text": [
      "Setting `pad_token_id` to `eos_token_id`:0 for open-end generation.\n"
     ]
    },
    {
     "name": "stdout",
     "output_type": "stream",
     "text": [
      "step 3510 reconstruction loss: 3.2464816570281982, 4.261841297149658, 4.1149749755859375\n",
      "step 3520 autoencoder loss: 0.635272741317749\n"
     ]
    },
    {
     "name": "stderr",
     "output_type": "stream",
     "text": [
      "Setting `pad_token_id` to `eos_token_id`:0 for open-end generation.\n"
     ]
    },
    {
     "name": "stdout",
     "output_type": "stream",
     "text": [
      "step 3520 reconstruction loss: 3.5877315998077393, 4.461602687835693, 4.335935115814209\n",
      "step 3530 autoencoder loss: 0.6947113275527954\n"
     ]
    },
    {
     "name": "stderr",
     "output_type": "stream",
     "text": [
      "Setting `pad_token_id` to `eos_token_id`:0 for open-end generation.\n"
     ]
    },
    {
     "name": "stdout",
     "output_type": "stream",
     "text": [
      "step 3530 reconstruction loss: 3.5615804195404053, 4.461697578430176, 4.328798770904541\n",
      "step 3540 autoencoder loss: 0.7791957855224609\n"
     ]
    },
    {
     "name": "stderr",
     "output_type": "stream",
     "text": [
      "Setting `pad_token_id` to `eos_token_id`:0 for open-end generation.\n"
     ]
    },
    {
     "name": "stdout",
     "output_type": "stream",
     "text": [
      "step 3540 reconstruction loss: 3.5473101139068604, 4.504088401794434, 4.380252361297607\n",
      "step 3550 autoencoder loss: 0.6473106145858765\n"
     ]
    },
    {
     "name": "stderr",
     "output_type": "stream",
     "text": [
      "Setting `pad_token_id` to `eos_token_id`:0 for open-end generation.\n"
     ]
    },
    {
     "name": "stdout",
     "output_type": "stream",
     "text": [
      "step 3550 reconstruction loss: 3.159871816635132, 4.445685386657715, 4.297053337097168\n",
      "step 3560 autoencoder loss: 0.6891793012619019\n"
     ]
    },
    {
     "name": "stderr",
     "output_type": "stream",
     "text": [
      "Setting `pad_token_id` to `eos_token_id`:0 for open-end generation.\n"
     ]
    },
    {
     "name": "stdout",
     "output_type": "stream",
     "text": [
      "step 3560 reconstruction loss: 3.3274612426757812, 4.316261291503906, 4.165605545043945\n",
      "step 3570 autoencoder loss: 0.7617504596710205\n"
     ]
    },
    {
     "name": "stderr",
     "output_type": "stream",
     "text": [
      "Setting `pad_token_id` to `eos_token_id`:0 for open-end generation.\n"
     ]
    },
    {
     "name": "stdout",
     "output_type": "stream",
     "text": [
      "step 3570 reconstruction loss: 3.4933128356933594, 4.369333267211914, 4.235177516937256\n",
      "step 3580 autoencoder loss: 0.7257118225097656\n"
     ]
    },
    {
     "name": "stderr",
     "output_type": "stream",
     "text": [
      "Setting `pad_token_id` to `eos_token_id`:0 for open-end generation.\n"
     ]
    },
    {
     "name": "stdout",
     "output_type": "stream",
     "text": [
      "step 3580 reconstruction loss: 3.1133275032043457, 4.1770734786987305, 4.0352678298950195\n",
      "step 3590 autoencoder loss: 0.6493119597434998\n"
     ]
    },
    {
     "name": "stderr",
     "output_type": "stream",
     "text": [
      "Setting `pad_token_id` to `eos_token_id`:0 for open-end generation.\n"
     ]
    },
    {
     "name": "stdout",
     "output_type": "stream",
     "text": [
      "step 3590 reconstruction loss: 3.466160297393799, 4.319958686828613, 4.197126865386963\n",
      "step 3600 autoencoder loss: 0.5253005623817444\n"
     ]
    },
    {
     "name": "stderr",
     "output_type": "stream",
     "text": [
      "Setting `pad_token_id` to `eos_token_id`:0 for open-end generation.\n"
     ]
    },
    {
     "name": "stdout",
     "output_type": "stream",
     "text": [
      "step 3600 reconstruction loss: 3.3166539669036865, 4.286035060882568, 4.139857292175293\n",
      "step 3610 autoencoder loss: 0.7108890414237976\n"
     ]
    },
    {
     "name": "stderr",
     "output_type": "stream",
     "text": [
      "Setting `pad_token_id` to `eos_token_id`:0 for open-end generation.\n"
     ]
    },
    {
     "name": "stdout",
     "output_type": "stream",
     "text": [
      "step 3610 reconstruction loss: 3.4913551807403564, 4.431121349334717, 4.290209770202637\n",
      "step 3620 autoencoder loss: 0.6998151540756226\n"
     ]
    },
    {
     "name": "stderr",
     "output_type": "stream",
     "text": [
      "Setting `pad_token_id` to `eos_token_id`:0 for open-end generation.\n"
     ]
    },
    {
     "name": "stdout",
     "output_type": "stream",
     "text": [
      "step 3620 reconstruction loss: 3.572737693786621, 4.371608257293701, 4.24576473236084\n",
      "step 3630 autoencoder loss: 0.6211732029914856\n"
     ]
    },
    {
     "name": "stderr",
     "output_type": "stream",
     "text": [
      "Setting `pad_token_id` to `eos_token_id`:0 for open-end generation.\n"
     ]
    },
    {
     "name": "stdout",
     "output_type": "stream",
     "text": [
      "step 3630 reconstruction loss: 3.461447238922119, 4.364789009094238, 4.2121758460998535\n",
      "step 3640 autoencoder loss: 0.6718949675559998\n"
     ]
    },
    {
     "name": "stderr",
     "output_type": "stream",
     "text": [
      "Setting `pad_token_id` to `eos_token_id`:0 for open-end generation.\n"
     ]
    },
    {
     "name": "stdout",
     "output_type": "stream",
     "text": [
      "step 3640 reconstruction loss: 3.3723158836364746, 4.68271017074585, 4.538454055786133\n",
      "step 3650 autoencoder loss: 0.7666588425636292\n"
     ]
    },
    {
     "name": "stderr",
     "output_type": "stream",
     "text": [
      "Setting `pad_token_id` to `eos_token_id`:0 for open-end generation.\n"
     ]
    },
    {
     "name": "stdout",
     "output_type": "stream",
     "text": [
      "step 3650 reconstruction loss: 3.6609702110290527, 4.593348026275635, 4.455721855163574\n",
      "step 3660 autoencoder loss: 0.8103256821632385\n"
     ]
    },
    {
     "name": "stderr",
     "output_type": "stream",
     "text": [
      "Setting `pad_token_id` to `eos_token_id`:0 for open-end generation.\n"
     ]
    },
    {
     "name": "stdout",
     "output_type": "stream",
     "text": [
      "step 3660 reconstruction loss: 3.4270737171173096, 4.279213905334473, 4.148855686187744\n",
      "step 3670 autoencoder loss: 0.6631811261177063\n"
     ]
    },
    {
     "name": "stderr",
     "output_type": "stream",
     "text": [
      "Setting `pad_token_id` to `eos_token_id`:0 for open-end generation.\n"
     ]
    },
    {
     "name": "stdout",
     "output_type": "stream",
     "text": [
      "step 3670 reconstruction loss: 3.58760404586792, 4.415943145751953, 4.2816243171691895\n",
      "step 3680 autoencoder loss: 0.6093528270721436\n"
     ]
    },
    {
     "name": "stderr",
     "output_type": "stream",
     "text": [
      "Setting `pad_token_id` to `eos_token_id`:0 for open-end generation.\n"
     ]
    },
    {
     "name": "stdout",
     "output_type": "stream",
     "text": [
      "step 3680 reconstruction loss: 3.555935859680176, 4.568664073944092, 4.416168689727783\n",
      "step 3690 autoencoder loss: 0.7064051032066345\n"
     ]
    },
    {
     "name": "stderr",
     "output_type": "stream",
     "text": [
      "Setting `pad_token_id` to `eos_token_id`:0 for open-end generation.\n"
     ]
    },
    {
     "name": "stdout",
     "output_type": "stream",
     "text": [
      "step 3690 reconstruction loss: 3.4816033840179443, 4.407329559326172, 4.279225826263428\n",
      "step 3700 autoencoder loss: 0.8874959349632263\n"
     ]
    },
    {
     "name": "stderr",
     "output_type": "stream",
     "text": [
      "Setting `pad_token_id` to `eos_token_id`:0 for open-end generation.\n"
     ]
    },
    {
     "name": "stdout",
     "output_type": "stream",
     "text": [
      "step 3700 reconstruction loss: 3.553353786468506, 4.648487567901611, 4.522688388824463\n",
      "step 3710 autoencoder loss: 0.6185789704322815\n"
     ]
    },
    {
     "name": "stderr",
     "output_type": "stream",
     "text": [
      "Setting `pad_token_id` to `eos_token_id`:0 for open-end generation.\n"
     ]
    },
    {
     "name": "stdout",
     "output_type": "stream",
     "text": [
      "step 3710 reconstruction loss: 3.53621506690979, 4.395316123962402, 4.264780044555664\n",
      "step 3720 autoencoder loss: 0.7369989156723022\n"
     ]
    },
    {
     "name": "stderr",
     "output_type": "stream",
     "text": [
      "Setting `pad_token_id` to `eos_token_id`:0 for open-end generation.\n"
     ]
    },
    {
     "name": "stdout",
     "output_type": "stream",
     "text": [
      "step 3720 reconstruction loss: 3.338421106338501, 4.313414096832275, 4.179724216461182\n",
      "step 3730 autoencoder loss: 0.6302812099456787\n"
     ]
    },
    {
     "name": "stderr",
     "output_type": "stream",
     "text": [
      "Setting `pad_token_id` to `eos_token_id`:0 for open-end generation.\n"
     ]
    },
    {
     "name": "stdout",
     "output_type": "stream",
     "text": [
      "step 3730 reconstruction loss: 3.3907198905944824, 4.2794294357299805, 4.155374526977539\n",
      "step 3740 autoencoder loss: 0.705622136592865\n"
     ]
    },
    {
     "name": "stderr",
     "output_type": "stream",
     "text": [
      "Setting `pad_token_id` to `eos_token_id`:0 for open-end generation.\n"
     ]
    },
    {
     "name": "stdout",
     "output_type": "stream",
     "text": [
      "step 3740 reconstruction loss: 3.614097833633423, 4.6276750564575195, 4.498154640197754\n",
      "step 3750 autoencoder loss: 0.4583454728126526\n"
     ]
    },
    {
     "name": "stderr",
     "output_type": "stream",
     "text": [
      "Setting `pad_token_id` to `eos_token_id`:0 for open-end generation.\n"
     ]
    },
    {
     "name": "stdout",
     "output_type": "stream",
     "text": [
      "step 3750 reconstruction loss: 3.643324375152588, 4.498805522918701, 4.367401599884033\n",
      "step 3760 autoencoder loss: 0.6616806387901306\n"
     ]
    },
    {
     "name": "stderr",
     "output_type": "stream",
     "text": [
      "Setting `pad_token_id` to `eos_token_id`:0 for open-end generation.\n"
     ]
    },
    {
     "name": "stdout",
     "output_type": "stream",
     "text": [
      "step 3760 reconstruction loss: 3.5227437019348145, 4.374556064605713, 4.242218494415283\n",
      "step 3770 autoencoder loss: 0.5891434550285339\n"
     ]
    },
    {
     "name": "stderr",
     "output_type": "stream",
     "text": [
      "Setting `pad_token_id` to `eos_token_id`:0 for open-end generation.\n"
     ]
    },
    {
     "name": "stdout",
     "output_type": "stream",
     "text": [
      "step 3770 reconstruction loss: 3.276214599609375, 4.325169563293457, 4.195777893066406\n",
      "step 3780 autoencoder loss: 0.6063147187232971\n"
     ]
    },
    {
     "name": "stderr",
     "output_type": "stream",
     "text": [
      "Setting `pad_token_id` to `eos_token_id`:0 for open-end generation.\n"
     ]
    },
    {
     "name": "stdout",
     "output_type": "stream",
     "text": [
      "step 3780 reconstruction loss: 3.364875316619873, 4.2910475730896, 4.167348861694336\n",
      "step 3790 autoencoder loss: 0.5475435256958008\n"
     ]
    },
    {
     "name": "stderr",
     "output_type": "stream",
     "text": [
      "Setting `pad_token_id` to `eos_token_id`:0 for open-end generation.\n"
     ]
    },
    {
     "name": "stdout",
     "output_type": "stream",
     "text": [
      "step 3790 reconstruction loss: 3.28355073928833, 4.281764030456543, 4.1418776512146\n",
      "step 3800 autoencoder loss: 0.732503354549408\n"
     ]
    },
    {
     "name": "stderr",
     "output_type": "stream",
     "text": [
      "Setting `pad_token_id` to `eos_token_id`:0 for open-end generation.\n"
     ]
    },
    {
     "name": "stdout",
     "output_type": "stream",
     "text": [
      "step 3800 reconstruction loss: 3.544346570968628, 4.454380512237549, 4.329440116882324\n",
      "step 3810 autoencoder loss: 0.5908023118972778\n"
     ]
    },
    {
     "name": "stderr",
     "output_type": "stream",
     "text": [
      "Setting `pad_token_id` to `eos_token_id`:0 for open-end generation.\n"
     ]
    },
    {
     "name": "stdout",
     "output_type": "stream",
     "text": [
      "step 3810 reconstruction loss: 3.4322822093963623, 4.4868035316467285, 4.348973274230957\n",
      "step 3820 autoencoder loss: 0.5409839749336243\n"
     ]
    },
    {
     "name": "stderr",
     "output_type": "stream",
     "text": [
      "Setting `pad_token_id` to `eos_token_id`:0 for open-end generation.\n"
     ]
    },
    {
     "name": "stdout",
     "output_type": "stream",
     "text": [
      "step 3820 reconstruction loss: 3.597684383392334, 4.463184833526611, 4.33641242980957\n",
      "step 3830 autoencoder loss: 0.7208211421966553\n"
     ]
    },
    {
     "name": "stderr",
     "output_type": "stream",
     "text": [
      "Setting `pad_token_id` to `eos_token_id`:0 for open-end generation.\n"
     ]
    },
    {
     "name": "stdout",
     "output_type": "stream",
     "text": [
      "step 3830 reconstruction loss: 3.483660936355591, 5.118973255157471, 4.928001880645752\n",
      "step 3840 autoencoder loss: 0.5874773859977722\n"
     ]
    },
    {
     "name": "stderr",
     "output_type": "stream",
     "text": [
      "Setting `pad_token_id` to `eos_token_id`:0 for open-end generation.\n"
     ]
    },
    {
     "name": "stdout",
     "output_type": "stream",
     "text": [
      "step 3840 reconstruction loss: 3.941864013671875, 4.746392726898193, 4.6149468421936035\n",
      "step 3850 autoencoder loss: 0.6028777360916138\n"
     ]
    },
    {
     "name": "stderr",
     "output_type": "stream",
     "text": [
      "Setting `pad_token_id` to `eos_token_id`:0 for open-end generation.\n"
     ]
    },
    {
     "name": "stdout",
     "output_type": "stream",
     "text": [
      "step 3850 reconstruction loss: 3.536686658859253, 4.359734535217285, 4.234984874725342\n",
      "step 3860 autoencoder loss: 0.7328448295593262\n"
     ]
    },
    {
     "name": "stderr",
     "output_type": "stream",
     "text": [
      "Setting `pad_token_id` to `eos_token_id`:0 for open-end generation.\n"
     ]
    },
    {
     "name": "stdout",
     "output_type": "stream",
     "text": [
      "step 3860 reconstruction loss: 3.3916311264038086, 4.822452545166016, 4.732175350189209\n",
      "step 3870 autoencoder loss: 0.6643763184547424\n"
     ]
    },
    {
     "name": "stderr",
     "output_type": "stream",
     "text": [
      "Setting `pad_token_id` to `eos_token_id`:0 for open-end generation.\n"
     ]
    },
    {
     "name": "stdout",
     "output_type": "stream",
     "text": [
      "step 3870 reconstruction loss: 3.500685930252075, 4.4044365882873535, 4.294870376586914\n",
      "step 3880 autoencoder loss: 0.6815258264541626\n"
     ]
    },
    {
     "name": "stderr",
     "output_type": "stream",
     "text": [
      "Setting `pad_token_id` to `eos_token_id`:0 for open-end generation.\n"
     ]
    },
    {
     "name": "stdout",
     "output_type": "stream",
     "text": [
      "step 3880 reconstruction loss: 3.2543997764587402, 4.300557613372803, 4.159916877746582\n",
      "step 3890 autoencoder loss: 0.7693604826927185\n"
     ]
    },
    {
     "name": "stderr",
     "output_type": "stream",
     "text": [
      "Setting `pad_token_id` to `eos_token_id`:0 for open-end generation.\n"
     ]
    },
    {
     "name": "stdout",
     "output_type": "stream",
     "text": [
      "step 3890 reconstruction loss: 3.420448064804077, 4.741487503051758, 4.6651082038879395\n",
      "step 3900 autoencoder loss: 0.6412810683250427\n"
     ]
    },
    {
     "name": "stderr",
     "output_type": "stream",
     "text": [
      "Setting `pad_token_id` to `eos_token_id`:0 for open-end generation.\n"
     ]
    },
    {
     "name": "stdout",
     "output_type": "stream",
     "text": [
      "step 3900 reconstruction loss: 3.6427907943725586, 4.51646089553833, 4.385227680206299\n",
      "refreshing buffer...\n",
      "buffer refreshed...\n",
      "step 3910 autoencoder loss: 0.5798903703689575\n"
     ]
    },
    {
     "name": "stderr",
     "output_type": "stream",
     "text": [
      "Setting `pad_token_id` to `eos_token_id`:0 for open-end generation.\n"
     ]
    },
    {
     "name": "stdout",
     "output_type": "stream",
     "text": [
      "step 3910 reconstruction loss: 3.6321821212768555, 4.571831226348877, 4.443845272064209\n",
      "step 3920 autoencoder loss: 0.610282838344574\n"
     ]
    },
    {
     "name": "stderr",
     "output_type": "stream",
     "text": [
      "Setting `pad_token_id` to `eos_token_id`:0 for open-end generation.\n"
     ]
    },
    {
     "name": "stdout",
     "output_type": "stream",
     "text": [
      "step 3920 reconstruction loss: 3.6148946285247803, 4.633596897125244, 4.507517337799072\n",
      "step 3930 autoencoder loss: 0.8397619724273682\n"
     ]
    },
    {
     "name": "stderr",
     "output_type": "stream",
     "text": [
      "Setting `pad_token_id` to `eos_token_id`:0 for open-end generation.\n"
     ]
    },
    {
     "name": "stdout",
     "output_type": "stream",
     "text": [
      "step 3930 reconstruction loss: 3.542797565460205, 4.445091724395752, 4.3197455406188965\n",
      "step 3940 autoencoder loss: 0.6365600228309631\n"
     ]
    },
    {
     "name": "stderr",
     "output_type": "stream",
     "text": [
      "Setting `pad_token_id` to `eos_token_id`:0 for open-end generation.\n"
     ]
    },
    {
     "name": "stdout",
     "output_type": "stream",
     "text": [
      "step 3940 reconstruction loss: 3.241884231567383, 4.463010311126709, 4.299474716186523\n",
      "step 3950 autoencoder loss: 0.6091766953468323\n"
     ]
    },
    {
     "name": "stderr",
     "output_type": "stream",
     "text": [
      "Setting `pad_token_id` to `eos_token_id`:0 for open-end generation.\n"
     ]
    },
    {
     "name": "stdout",
     "output_type": "stream",
     "text": [
      "step 3950 reconstruction loss: 3.5966403484344482, 4.451086044311523, 4.308431148529053\n",
      "step 3960 autoencoder loss: 0.6337999105453491\n"
     ]
    },
    {
     "name": "stderr",
     "output_type": "stream",
     "text": [
      "Setting `pad_token_id` to `eos_token_id`:0 for open-end generation.\n"
     ]
    },
    {
     "name": "stdout",
     "output_type": "stream",
     "text": [
      "step 3960 reconstruction loss: 3.445666790008545, 4.240284442901611, 4.114267826080322\n",
      "step 3970 autoencoder loss: 0.7959242463111877\n"
     ]
    },
    {
     "name": "stderr",
     "output_type": "stream",
     "text": [
      "Setting `pad_token_id` to `eos_token_id`:0 for open-end generation.\n"
     ]
    },
    {
     "name": "stdout",
     "output_type": "stream",
     "text": [
      "step 3970 reconstruction loss: 3.352822780609131, 4.284880638122559, 4.167359828948975\n",
      "step 3980 autoencoder loss: 0.680808961391449\n"
     ]
    },
    {
     "name": "stderr",
     "output_type": "stream",
     "text": [
      "Setting `pad_token_id` to `eos_token_id`:0 for open-end generation.\n"
     ]
    },
    {
     "name": "stdout",
     "output_type": "stream",
     "text": [
      "step 3980 reconstruction loss: 3.5096402168273926, 4.635910511016846, 4.467034816741943\n",
      "step 3990 autoencoder loss: 0.5305719375610352\n"
     ]
    },
    {
     "name": "stderr",
     "output_type": "stream",
     "text": [
      "Setting `pad_token_id` to `eos_token_id`:0 for open-end generation.\n"
     ]
    },
    {
     "name": "stdout",
     "output_type": "stream",
     "text": [
      "step 3990 reconstruction loss: 3.3758201599121094, 4.268030643463135, 4.162280559539795\n",
      "step 4000 autoencoder loss: 0.7362862229347229\n"
     ]
    },
    {
     "name": "stderr",
     "output_type": "stream",
     "text": [
      "Setting `pad_token_id` to `eos_token_id`:0 for open-end generation.\n"
     ]
    },
    {
     "name": "stdout",
     "output_type": "stream",
     "text": [
      "step 4000 reconstruction loss: 3.2111916542053223, 4.080709457397461, 3.9561052322387695\n",
      "step 4010 autoencoder loss: 0.6432278752326965\n"
     ]
    },
    {
     "name": "stderr",
     "output_type": "stream",
     "text": [
      "Setting `pad_token_id` to `eos_token_id`:0 for open-end generation.\n"
     ]
    },
    {
     "name": "stdout",
     "output_type": "stream",
     "text": [
      "step 4010 reconstruction loss: 3.411013126373291, 4.527493000030518, 4.427358627319336\n",
      "step 4020 autoencoder loss: 0.7525702714920044\n"
     ]
    },
    {
     "name": "stderr",
     "output_type": "stream",
     "text": [
      "Setting `pad_token_id` to `eos_token_id`:0 for open-end generation.\n"
     ]
    },
    {
     "name": "stdout",
     "output_type": "stream",
     "text": [
      "step 4020 reconstruction loss: 3.2844977378845215, 4.2645463943481445, 4.139413833618164\n",
      "step 4030 autoencoder loss: 0.667343020439148\n"
     ]
    },
    {
     "name": "stderr",
     "output_type": "stream",
     "text": [
      "Setting `pad_token_id` to `eos_token_id`:0 for open-end generation.\n"
     ]
    },
    {
     "name": "stdout",
     "output_type": "stream",
     "text": [
      "step 4030 reconstruction loss: 3.573403835296631, 4.382115840911865, 4.2565155029296875\n",
      "step 4040 autoencoder loss: 0.6755351424217224\n"
     ]
    },
    {
     "name": "stderr",
     "output_type": "stream",
     "text": [
      "Setting `pad_token_id` to `eos_token_id`:0 for open-end generation.\n"
     ]
    },
    {
     "name": "stdout",
     "output_type": "stream",
     "text": [
      "step 4040 reconstruction loss: 3.5191614627838135, 4.481502056121826, 4.35605001449585\n",
      "step 4050 autoencoder loss: 0.620149552822113\n"
     ]
    },
    {
     "name": "stderr",
     "output_type": "stream",
     "text": [
      "Setting `pad_token_id` to `eos_token_id`:0 for open-end generation.\n"
     ]
    },
    {
     "name": "stdout",
     "output_type": "stream",
     "text": [
      "step 4050 reconstruction loss: 3.367664337158203, 4.251401901245117, 4.12835168838501\n",
      "step 4060 autoencoder loss: 0.6092703342437744\n"
     ]
    },
    {
     "name": "stderr",
     "output_type": "stream",
     "text": [
      "Setting `pad_token_id` to `eos_token_id`:0 for open-end generation.\n"
     ]
    },
    {
     "name": "stdout",
     "output_type": "stream",
     "text": [
      "step 4060 reconstruction loss: 3.5249063968658447, 4.550865173339844, 4.4362406730651855\n",
      "step 4070 autoencoder loss: 0.7833861112594604\n"
     ]
    },
    {
     "name": "stderr",
     "output_type": "stream",
     "text": [
      "Setting `pad_token_id` to `eos_token_id`:0 for open-end generation.\n"
     ]
    },
    {
     "name": "stdout",
     "output_type": "stream",
     "text": [
      "step 4070 reconstruction loss: 3.6731722354888916, 4.6750807762146, 4.544585704803467\n",
      "step 4080 autoencoder loss: 0.7231126427650452\n"
     ]
    },
    {
     "name": "stderr",
     "output_type": "stream",
     "text": [
      "Setting `pad_token_id` to `eos_token_id`:0 for open-end generation.\n"
     ]
    },
    {
     "name": "stdout",
     "output_type": "stream",
     "text": [
      "step 4080 reconstruction loss: 3.4671528339385986, 4.437506198883057, 4.322423458099365\n",
      "step 4090 autoencoder loss: 0.6790636777877808\n"
     ]
    },
    {
     "name": "stderr",
     "output_type": "stream",
     "text": [
      "Setting `pad_token_id` to `eos_token_id`:0 for open-end generation.\n"
     ]
    },
    {
     "name": "stdout",
     "output_type": "stream",
     "text": [
      "step 4090 reconstruction loss: 3.552278757095337, 4.393326759338379, 4.263835430145264\n",
      "step 4100 autoencoder loss: 0.6708226799964905\n"
     ]
    },
    {
     "name": "stderr",
     "output_type": "stream",
     "text": [
      "Setting `pad_token_id` to `eos_token_id`:0 for open-end generation.\n"
     ]
    },
    {
     "name": "stdout",
     "output_type": "stream",
     "text": [
      "step 4100 reconstruction loss: 3.294006824493408, 4.196192264556885, 4.075549125671387\n",
      "step 4110 autoencoder loss: 0.46498963236808777\n"
     ]
    },
    {
     "name": "stderr",
     "output_type": "stream",
     "text": [
      "Setting `pad_token_id` to `eos_token_id`:0 for open-end generation.\n"
     ]
    },
    {
     "name": "stdout",
     "output_type": "stream",
     "text": [
      "step 4110 reconstruction loss: 3.611337661743164, 4.413498878479004, 4.301874160766602\n",
      "step 4120 autoencoder loss: 0.6920691132545471\n"
     ]
    },
    {
     "name": "stderr",
     "output_type": "stream",
     "text": [
      "Setting `pad_token_id` to `eos_token_id`:0 for open-end generation.\n"
     ]
    },
    {
     "name": "stdout",
     "output_type": "stream",
     "text": [
      "step 4120 reconstruction loss: 3.5991017818450928, 4.481509208679199, 4.363112449645996\n",
      "step 4130 autoencoder loss: 0.7304105758666992\n"
     ]
    },
    {
     "name": "stderr",
     "output_type": "stream",
     "text": [
      "Setting `pad_token_id` to `eos_token_id`:0 for open-end generation.\n"
     ]
    },
    {
     "name": "stdout",
     "output_type": "stream",
     "text": [
      "step 4130 reconstruction loss: 3.4811229705810547, 4.365636825561523, 4.236968517303467\n",
      "step 4140 autoencoder loss: 0.6110903024673462\n"
     ]
    },
    {
     "name": "stderr",
     "output_type": "stream",
     "text": [
      "Setting `pad_token_id` to `eos_token_id`:0 for open-end generation.\n"
     ]
    },
    {
     "name": "stdout",
     "output_type": "stream",
     "text": [
      "step 4140 reconstruction loss: 3.4663519859313965, 4.359155654907227, 4.241713523864746\n",
      "step 4150 autoencoder loss: 0.6131536364555359\n"
     ]
    },
    {
     "name": "stderr",
     "output_type": "stream",
     "text": [
      "Setting `pad_token_id` to `eos_token_id`:0 for open-end generation.\n"
     ]
    },
    {
     "name": "stdout",
     "output_type": "stream",
     "text": [
      "step 4150 reconstruction loss: 3.0907504558563232, 4.0317463874816895, 3.899974822998047\n",
      "step 4160 autoencoder loss: 0.7118295431137085\n"
     ]
    },
    {
     "name": "stderr",
     "output_type": "stream",
     "text": [
      "Setting `pad_token_id` to `eos_token_id`:0 for open-end generation.\n"
     ]
    },
    {
     "name": "stdout",
     "output_type": "stream",
     "text": [
      "step 4160 reconstruction loss: 3.3283774852752686, 4.187919616699219, 4.069403648376465\n",
      "step 4170 autoencoder loss: 0.587873637676239\n"
     ]
    },
    {
     "name": "stderr",
     "output_type": "stream",
     "text": [
      "Setting `pad_token_id` to `eos_token_id`:0 for open-end generation.\n"
     ]
    },
    {
     "name": "stdout",
     "output_type": "stream",
     "text": [
      "step 4170 reconstruction loss: 3.279207229614258, 4.246170520782471, 4.115623950958252\n",
      "step 4180 autoencoder loss: 0.5985752940177917\n"
     ]
    },
    {
     "name": "stderr",
     "output_type": "stream",
     "text": [
      "Setting `pad_token_id` to `eos_token_id`:0 for open-end generation.\n"
     ]
    },
    {
     "name": "stdout",
     "output_type": "stream",
     "text": [
      "step 4180 reconstruction loss: 3.3869805335998535, 4.279426097869873, 4.148920059204102\n",
      "step 4190 autoencoder loss: 0.5824715495109558\n"
     ]
    },
    {
     "name": "stderr",
     "output_type": "stream",
     "text": [
      "Setting `pad_token_id` to `eos_token_id`:0 for open-end generation.\n"
     ]
    },
    {
     "name": "stdout",
     "output_type": "stream",
     "text": [
      "step 4190 reconstruction loss: 3.3003909587860107, 4.394481658935547, 4.337917804718018\n",
      "step 4200 autoencoder loss: 0.7128204107284546\n"
     ]
    },
    {
     "name": "stderr",
     "output_type": "stream",
     "text": [
      "Setting `pad_token_id` to `eos_token_id`:0 for open-end generation.\n"
     ]
    },
    {
     "name": "stdout",
     "output_type": "stream",
     "text": [
      "step 4200 reconstruction loss: 3.5854110717773438, 4.665641784667969, 4.538449287414551\n",
      "step 4210 autoencoder loss: 0.6476112008094788\n"
     ]
    },
    {
     "name": "stderr",
     "output_type": "stream",
     "text": [
      "Setting `pad_token_id` to `eos_token_id`:0 for open-end generation.\n"
     ]
    },
    {
     "name": "stdout",
     "output_type": "stream",
     "text": [
      "step 4210 reconstruction loss: 3.4455230236053467, 4.284695148468018, 4.15886926651001\n",
      "step 4220 autoencoder loss: 0.5753742456436157\n"
     ]
    },
    {
     "name": "stderr",
     "output_type": "stream",
     "text": [
      "Setting `pad_token_id` to `eos_token_id`:0 for open-end generation.\n"
     ]
    },
    {
     "name": "stdout",
     "output_type": "stream",
     "text": [
      "step 4220 reconstruction loss: 3.4007835388183594, 4.387731075286865, 4.272307872772217\n",
      "step 4230 autoencoder loss: 0.7517098784446716\n"
     ]
    },
    {
     "name": "stderr",
     "output_type": "stream",
     "text": [
      "Setting `pad_token_id` to `eos_token_id`:0 for open-end generation.\n"
     ]
    },
    {
     "name": "stdout",
     "output_type": "stream",
     "text": [
      "step 4230 reconstruction loss: 3.433234453201294, 4.30417537689209, 4.179527759552002\n",
      "step 4240 autoencoder loss: 0.7713536620140076\n"
     ]
    },
    {
     "name": "stderr",
     "output_type": "stream",
     "text": [
      "Setting `pad_token_id` to `eos_token_id`:0 for open-end generation.\n"
     ]
    },
    {
     "name": "stdout",
     "output_type": "stream",
     "text": [
      "step 4240 reconstruction loss: 3.1832709312438965, 4.153542518615723, 4.032303810119629\n",
      "step 4250 autoencoder loss: 0.7511540651321411\n"
     ]
    },
    {
     "name": "stderr",
     "output_type": "stream",
     "text": [
      "Setting `pad_token_id` to `eos_token_id`:0 for open-end generation.\n"
     ]
    },
    {
     "name": "stdout",
     "output_type": "stream",
     "text": [
      "step 4250 reconstruction loss: 3.277243137359619, 4.287529468536377, 4.182626724243164\n",
      "step 4260 autoencoder loss: 0.598027765750885\n"
     ]
    },
    {
     "name": "stderr",
     "output_type": "stream",
     "text": [
      "Setting `pad_token_id` to `eos_token_id`:0 for open-end generation.\n"
     ]
    },
    {
     "name": "stdout",
     "output_type": "stream",
     "text": [
      "step 4260 reconstruction loss: 3.4335579872131348, 4.625576972961426, 4.480334758758545\n",
      "step 4270 autoencoder loss: 0.5365811586380005\n"
     ]
    },
    {
     "name": "stderr",
     "output_type": "stream",
     "text": [
      "Setting `pad_token_id` to `eos_token_id`:0 for open-end generation.\n"
     ]
    },
    {
     "name": "stdout",
     "output_type": "stream",
     "text": [
      "step 4270 reconstruction loss: 3.489417791366577, 4.375511646270752, 4.267655849456787\n",
      "step 4280 autoencoder loss: 0.6435228586196899\n"
     ]
    },
    {
     "name": "stderr",
     "output_type": "stream",
     "text": [
      "Setting `pad_token_id` to `eos_token_id`:0 for open-end generation.\n"
     ]
    },
    {
     "name": "stdout",
     "output_type": "stream",
     "text": [
      "step 4280 reconstruction loss: 3.6204512119293213, 4.624637603759766, 4.501550674438477\n",
      "step 4290 autoencoder loss: 0.7580586075782776\n"
     ]
    },
    {
     "name": "stderr",
     "output_type": "stream",
     "text": [
      "Setting `pad_token_id` to `eos_token_id`:0 for open-end generation.\n"
     ]
    },
    {
     "name": "stdout",
     "output_type": "stream",
     "text": [
      "step 4290 reconstruction loss: 3.424097776412964, 4.598259449005127, 4.456578254699707\n",
      "step 4300 autoencoder loss: 0.5963985323905945\n"
     ]
    },
    {
     "name": "stderr",
     "output_type": "stream",
     "text": [
      "Setting `pad_token_id` to `eos_token_id`:0 for open-end generation.\n"
     ]
    },
    {
     "name": "stdout",
     "output_type": "stream",
     "text": [
      "step 4300 reconstruction loss: 3.3651721477508545, 4.412336826324463, 4.281679630279541\n",
      "step 4310 autoencoder loss: 0.6594263315200806\n"
     ]
    },
    {
     "name": "stderr",
     "output_type": "stream",
     "text": [
      "Setting `pad_token_id` to `eos_token_id`:0 for open-end generation.\n"
     ]
    },
    {
     "name": "stdout",
     "output_type": "stream",
     "text": [
      "step 4310 reconstruction loss: 3.425697088241577, 4.265361785888672, 4.1511759757995605\n",
      "step 4320 autoencoder loss: 0.7096682786941528\n"
     ]
    },
    {
     "name": "stderr",
     "output_type": "stream",
     "text": [
      "Setting `pad_token_id` to `eos_token_id`:0 for open-end generation.\n"
     ]
    },
    {
     "name": "stdout",
     "output_type": "stream",
     "text": [
      "step 4320 reconstruction loss: 3.541862964630127, 4.482493877410889, 4.351010799407959\n",
      "step 4330 autoencoder loss: 0.6120085716247559\n"
     ]
    },
    {
     "name": "stderr",
     "output_type": "stream",
     "text": [
      "Setting `pad_token_id` to `eos_token_id`:0 for open-end generation.\n"
     ]
    },
    {
     "name": "stdout",
     "output_type": "stream",
     "text": [
      "step 4330 reconstruction loss: 3.5400032997131348, 4.341304302215576, 4.225616931915283\n",
      "step 4340 autoencoder loss: 0.7576208710670471\n"
     ]
    },
    {
     "name": "stderr",
     "output_type": "stream",
     "text": [
      "Setting `pad_token_id` to `eos_token_id`:0 for open-end generation.\n"
     ]
    },
    {
     "name": "stdout",
     "output_type": "stream",
     "text": [
      "step 4340 reconstruction loss: 3.3751015663146973, 4.446136474609375, 4.316694259643555\n",
      "step 4350 autoencoder loss: 0.5904566645622253\n"
     ]
    },
    {
     "name": "stderr",
     "output_type": "stream",
     "text": [
      "Setting `pad_token_id` to `eos_token_id`:0 for open-end generation.\n"
     ]
    },
    {
     "name": "stdout",
     "output_type": "stream",
     "text": [
      "step 4350 reconstruction loss: 3.516421318054199, 4.449888706207275, 4.339958190917969\n",
      "step 4360 autoencoder loss: 0.6989306807518005\n"
     ]
    },
    {
     "name": "stderr",
     "output_type": "stream",
     "text": [
      "Setting `pad_token_id` to `eos_token_id`:0 for open-end generation.\n"
     ]
    },
    {
     "name": "stdout",
     "output_type": "stream",
     "text": [
      "step 4360 reconstruction loss: 3.4632034301757812, 4.316328048706055, 4.194497585296631\n",
      "step 4370 autoencoder loss: 0.5453473925590515\n"
     ]
    },
    {
     "name": "stderr",
     "output_type": "stream",
     "text": [
      "Setting `pad_token_id` to `eos_token_id`:0 for open-end generation.\n"
     ]
    },
    {
     "name": "stdout",
     "output_type": "stream",
     "text": [
      "step 4370 reconstruction loss: 3.4378280639648438, 4.303508281707764, 4.185530185699463\n",
      "step 4380 autoencoder loss: 0.5561108589172363\n"
     ]
    },
    {
     "name": "stderr",
     "output_type": "stream",
     "text": [
      "Setting `pad_token_id` to `eos_token_id`:0 for open-end generation.\n"
     ]
    },
    {
     "name": "stdout",
     "output_type": "stream",
     "text": [
      "step 4380 reconstruction loss: 3.3002564907073975, 4.253846645355225, 4.129951477050781\n",
      "step 4390 autoencoder loss: 0.631125807762146\n"
     ]
    },
    {
     "name": "stderr",
     "output_type": "stream",
     "text": [
      "Setting `pad_token_id` to `eos_token_id`:0 for open-end generation.\n"
     ]
    },
    {
     "name": "stdout",
     "output_type": "stream",
     "text": [
      "step 4390 reconstruction loss: 3.351577043533325, 4.189906120300293, 4.085219383239746\n",
      "step 4400 autoencoder loss: 0.6248537302017212\n"
     ]
    },
    {
     "name": "stderr",
     "output_type": "stream",
     "text": [
      "Setting `pad_token_id` to `eos_token_id`:0 for open-end generation.\n"
     ]
    },
    {
     "name": "stdout",
     "output_type": "stream",
     "text": [
      "step 4400 reconstruction loss: 3.534475088119507, 4.357790470123291, 4.234750747680664\n",
      "step 4410 autoencoder loss: 0.7219875454902649\n"
     ]
    },
    {
     "name": "stderr",
     "output_type": "stream",
     "text": [
      "Setting `pad_token_id` to `eos_token_id`:0 for open-end generation.\n"
     ]
    },
    {
     "name": "stdout",
     "output_type": "stream",
     "text": [
      "step 4410 reconstruction loss: 3.4604902267456055, 4.4123334884643555, 4.288200378417969\n",
      "step 4420 autoencoder loss: 0.5752405524253845\n"
     ]
    },
    {
     "name": "stderr",
     "output_type": "stream",
     "text": [
      "Setting `pad_token_id` to `eos_token_id`:0 for open-end generation.\n"
     ]
    },
    {
     "name": "stdout",
     "output_type": "stream",
     "text": [
      "step 4420 reconstruction loss: 3.479233980178833, 4.568737506866455, 4.477052211761475\n",
      "step 4430 autoencoder loss: 0.7714201807975769\n"
     ]
    },
    {
     "name": "stderr",
     "output_type": "stream",
     "text": [
      "Setting `pad_token_id` to `eos_token_id`:0 for open-end generation.\n"
     ]
    },
    {
     "name": "stdout",
     "output_type": "stream",
     "text": [
      "step 4430 reconstruction loss: 3.6544501781463623, 4.536614894866943, 4.419347763061523\n",
      "step 4440 autoencoder loss: 0.9135720133781433\n"
     ]
    },
    {
     "name": "stderr",
     "output_type": "stream",
     "text": [
      "Setting `pad_token_id` to `eos_token_id`:0 for open-end generation.\n"
     ]
    },
    {
     "name": "stdout",
     "output_type": "stream",
     "text": [
      "step 4440 reconstruction loss: 3.245330810546875, 4.099148750305176, 3.991119861602783\n",
      "step 4450 autoencoder loss: 0.6867942810058594\n"
     ]
    },
    {
     "name": "stderr",
     "output_type": "stream",
     "text": [
      "Setting `pad_token_id` to `eos_token_id`:0 for open-end generation.\n"
     ]
    },
    {
     "name": "stdout",
     "output_type": "stream",
     "text": [
      "step 4450 reconstruction loss: 3.8143715858459473, 4.808720111846924, 4.713129997253418\n",
      "step 4460 autoencoder loss: 0.8189997673034668\n"
     ]
    },
    {
     "name": "stderr",
     "output_type": "stream",
     "text": [
      "Setting `pad_token_id` to `eos_token_id`:0 for open-end generation.\n"
     ]
    },
    {
     "name": "stdout",
     "output_type": "stream",
     "text": [
      "step 4460 reconstruction loss: 3.260667085647583, 4.2330145835876465, 4.112203598022461\n",
      "step 4470 autoencoder loss: 0.5443035960197449\n"
     ]
    },
    {
     "name": "stderr",
     "output_type": "stream",
     "text": [
      "Setting `pad_token_id` to `eos_token_id`:0 for open-end generation.\n"
     ]
    },
    {
     "name": "stdout",
     "output_type": "stream",
     "text": [
      "step 4470 reconstruction loss: 3.380432367324829, 4.3343048095703125, 4.241944789886475\n",
      "step 4480 autoencoder loss: 0.643014669418335\n"
     ]
    },
    {
     "name": "stderr",
     "output_type": "stream",
     "text": [
      "Setting `pad_token_id` to `eos_token_id`:0 for open-end generation.\n"
     ]
    },
    {
     "name": "stdout",
     "output_type": "stream",
     "text": [
      "step 4480 reconstruction loss: 3.4723782539367676, 4.4437432289123535, 4.312885761260986\n",
      "step 4490 autoencoder loss: 0.6869446635246277\n"
     ]
    },
    {
     "name": "stderr",
     "output_type": "stream",
     "text": [
      "Setting `pad_token_id` to `eos_token_id`:0 for open-end generation.\n"
     ]
    },
    {
     "name": "stdout",
     "output_type": "stream",
     "text": [
      "step 4490 reconstruction loss: 3.483572244644165, 4.425962448120117, 4.301297187805176\n",
      "step 4500 autoencoder loss: 0.7223964929580688\n"
     ]
    },
    {
     "name": "stderr",
     "output_type": "stream",
     "text": [
      "Setting `pad_token_id` to `eos_token_id`:0 for open-end generation.\n"
     ]
    },
    {
     "name": "stdout",
     "output_type": "stream",
     "text": [
      "step 4500 reconstruction loss: 3.6944217681884766, 4.682469367980957, 4.555097579956055\n",
      "step 4510 autoencoder loss: 0.5317744612693787\n"
     ]
    },
    {
     "name": "stderr",
     "output_type": "stream",
     "text": [
      "Setting `pad_token_id` to `eos_token_id`:0 for open-end generation.\n"
     ]
    },
    {
     "name": "stdout",
     "output_type": "stream",
     "text": [
      "step 4510 reconstruction loss: 3.76200532913208, 4.763251781463623, 4.643677234649658\n",
      "step 4520 autoencoder loss: 0.4568636119365692\n"
     ]
    },
    {
     "name": "stderr",
     "output_type": "stream",
     "text": [
      "Setting `pad_token_id` to `eos_token_id`:0 for open-end generation.\n"
     ]
    },
    {
     "name": "stdout",
     "output_type": "stream",
     "text": [
      "step 4520 reconstruction loss: 3.3532538414001465, 4.28801965713501, 4.160306930541992\n",
      "step 4530 autoencoder loss: 0.6591453552246094\n"
     ]
    },
    {
     "name": "stderr",
     "output_type": "stream",
     "text": [
      "Setting `pad_token_id` to `eos_token_id`:0 for open-end generation.\n"
     ]
    },
    {
     "name": "stdout",
     "output_type": "stream",
     "text": [
      "step 4530 reconstruction loss: 3.6009035110473633, 4.487343788146973, 4.373049736022949\n",
      "step 4540 autoencoder loss: 0.5045250058174133\n"
     ]
    },
    {
     "name": "stderr",
     "output_type": "stream",
     "text": [
      "Setting `pad_token_id` to `eos_token_id`:0 for open-end generation.\n"
     ]
    },
    {
     "name": "stdout",
     "output_type": "stream",
     "text": [
      "step 4540 reconstruction loss: 3.3304522037506104, 4.558371543884277, 4.415523529052734\n",
      "step 4550 autoencoder loss: 0.5540282726287842\n"
     ]
    },
    {
     "name": "stderr",
     "output_type": "stream",
     "text": [
      "Setting `pad_token_id` to `eos_token_id`:0 for open-end generation.\n"
     ]
    },
    {
     "name": "stdout",
     "output_type": "stream",
     "text": [
      "step 4550 reconstruction loss: 3.4901719093322754, 4.776738166809082, 4.657251358032227\n",
      "step 4560 autoencoder loss: 0.6347246170043945\n"
     ]
    },
    {
     "name": "stderr",
     "output_type": "stream",
     "text": [
      "Setting `pad_token_id` to `eos_token_id`:0 for open-end generation.\n"
     ]
    },
    {
     "name": "stdout",
     "output_type": "stream",
     "text": [
      "step 4560 reconstruction loss: 3.3058385848999023, 4.574613571166992, 4.44398832321167\n",
      "step 4570 autoencoder loss: 0.6198189854621887\n"
     ]
    },
    {
     "name": "stderr",
     "output_type": "stream",
     "text": [
      "Setting `pad_token_id` to `eos_token_id`:0 for open-end generation.\n"
     ]
    },
    {
     "name": "stdout",
     "output_type": "stream",
     "text": [
      "step 4570 reconstruction loss: 3.3977675437927246, 4.3655829429626465, 4.235879421234131\n",
      "step 4580 autoencoder loss: 0.6307566165924072\n"
     ]
    },
    {
     "name": "stderr",
     "output_type": "stream",
     "text": [
      "Setting `pad_token_id` to `eos_token_id`:0 for open-end generation.\n"
     ]
    },
    {
     "name": "stdout",
     "output_type": "stream",
     "text": [
      "step 4580 reconstruction loss: 3.5737719535827637, 4.453857421875, 4.340036392211914\n",
      "step 4590 autoencoder loss: 0.6843920946121216\n"
     ]
    },
    {
     "name": "stderr",
     "output_type": "stream",
     "text": [
      "Setting `pad_token_id` to `eos_token_id`:0 for open-end generation.\n"
     ]
    },
    {
     "name": "stdout",
     "output_type": "stream",
     "text": [
      "step 4590 reconstruction loss: 3.2792341709136963, 4.406534671783447, 4.267580986022949\n",
      "step 4600 autoencoder loss: 0.5375980138778687\n"
     ]
    },
    {
     "name": "stderr",
     "output_type": "stream",
     "text": [
      "Setting `pad_token_id` to `eos_token_id`:0 for open-end generation.\n"
     ]
    },
    {
     "name": "stdout",
     "output_type": "stream",
     "text": [
      "step 4600 reconstruction loss: 3.561746597290039, 4.521411895751953, 4.397416591644287\n",
      "step 4610 autoencoder loss: 0.7225088477134705\n"
     ]
    },
    {
     "name": "stderr",
     "output_type": "stream",
     "text": [
      "Setting `pad_token_id` to `eos_token_id`:0 for open-end generation.\n"
     ]
    },
    {
     "name": "stdout",
     "output_type": "stream",
     "text": [
      "step 4610 reconstruction loss: 3.491497755050659, 4.340418338775635, 4.232950210571289\n",
      "step 4620 autoencoder loss: 0.5299670100212097\n"
     ]
    },
    {
     "name": "stderr",
     "output_type": "stream",
     "text": [
      "Setting `pad_token_id` to `eos_token_id`:0 for open-end generation.\n"
     ]
    },
    {
     "name": "stdout",
     "output_type": "stream",
     "text": [
      "step 4620 reconstruction loss: 3.2050857543945312, 4.1301703453063965, 4.013373374938965\n",
      "step 4630 autoencoder loss: 0.6314466595649719\n"
     ]
    },
    {
     "name": "stderr",
     "output_type": "stream",
     "text": [
      "Setting `pad_token_id` to `eos_token_id`:0 for open-end generation.\n"
     ]
    },
    {
     "name": "stdout",
     "output_type": "stream",
     "text": [
      "step 4630 reconstruction loss: 3.6095130443573, 4.5278730392456055, 4.4488749504089355\n",
      "step 4640 autoencoder loss: 0.8071519732475281\n"
     ]
    },
    {
     "name": "stderr",
     "output_type": "stream",
     "text": [
      "Setting `pad_token_id` to `eos_token_id`:0 for open-end generation.\n"
     ]
    },
    {
     "name": "stdout",
     "output_type": "stream",
     "text": [
      "step 4640 reconstruction loss: 3.600841999053955, 4.562108993530273, 4.432793617248535\n",
      "step 4650 autoencoder loss: 0.8243449926376343\n"
     ]
    },
    {
     "name": "stderr",
     "output_type": "stream",
     "text": [
      "Setting `pad_token_id` to `eos_token_id`:0 for open-end generation.\n"
     ]
    },
    {
     "name": "stdout",
     "output_type": "stream",
     "text": [
      "step 4650 reconstruction loss: 3.583916425704956, 4.395929336547852, 4.284512996673584\n",
      "step 4660 autoencoder loss: 0.7030786871910095\n"
     ]
    },
    {
     "name": "stderr",
     "output_type": "stream",
     "text": [
      "Setting `pad_token_id` to `eos_token_id`:0 for open-end generation.\n"
     ]
    },
    {
     "name": "stdout",
     "output_type": "stream",
     "text": [
      "step 4660 reconstruction loss: 3.4170351028442383, 4.251852035522461, 4.133913516998291\n",
      "step 4670 autoencoder loss: 0.6730664372444153\n"
     ]
    },
    {
     "name": "stderr",
     "output_type": "stream",
     "text": [
      "Setting `pad_token_id` to `eos_token_id`:0 for open-end generation.\n"
     ]
    },
    {
     "name": "stdout",
     "output_type": "stream",
     "text": [
      "step 4670 reconstruction loss: 3.287226915359497, 4.268824100494385, 4.147487640380859\n",
      "step 4680 autoencoder loss: 0.657968282699585\n"
     ]
    },
    {
     "name": "stderr",
     "output_type": "stream",
     "text": [
      "Setting `pad_token_id` to `eos_token_id`:0 for open-end generation.\n"
     ]
    },
    {
     "name": "stdout",
     "output_type": "stream",
     "text": [
      "step 4680 reconstruction loss: 3.048391103744507, 4.120026588439941, 3.9915409088134766\n",
      "step 4690 autoencoder loss: 0.6007556319236755\n"
     ]
    },
    {
     "name": "stderr",
     "output_type": "stream",
     "text": [
      "Setting `pad_token_id` to `eos_token_id`:0 for open-end generation.\n"
     ]
    },
    {
     "name": "stdout",
     "output_type": "stream",
     "text": [
      "step 4690 reconstruction loss: 3.7235076427459717, 4.4978413581848145, 4.393585205078125\n",
      "refreshing buffer...\n",
      "buffer refreshed...\n",
      "step 4700 autoencoder loss: 0.5717935562133789\n"
     ]
    },
    {
     "name": "stderr",
     "output_type": "stream",
     "text": [
      "Setting `pad_token_id` to `eos_token_id`:0 for open-end generation.\n"
     ]
    },
    {
     "name": "stdout",
     "output_type": "stream",
     "text": [
      "step 4700 reconstruction loss: 3.2974843978881836, 4.2189836502075195, 4.104525089263916\n",
      "step 4710 autoencoder loss: 0.683896541595459\n"
     ]
    },
    {
     "name": "stderr",
     "output_type": "stream",
     "text": [
      "Setting `pad_token_id` to `eos_token_id`:0 for open-end generation.\n"
     ]
    },
    {
     "name": "stdout",
     "output_type": "stream",
     "text": [
      "step 4710 reconstruction loss: 3.1355652809143066, 4.192467212677002, 4.061689376831055\n",
      "step 4720 autoencoder loss: 0.6012268662452698\n"
     ]
    },
    {
     "name": "stderr",
     "output_type": "stream",
     "text": [
      "Setting `pad_token_id` to `eos_token_id`:0 for open-end generation.\n"
     ]
    },
    {
     "name": "stdout",
     "output_type": "stream",
     "text": [
      "step 4720 reconstruction loss: 3.4086413383483887, 4.298484802246094, 4.177181720733643\n",
      "step 4730 autoencoder loss: 0.5242568850517273\n"
     ]
    },
    {
     "name": "stderr",
     "output_type": "stream",
     "text": [
      "Setting `pad_token_id` to `eos_token_id`:0 for open-end generation.\n"
     ]
    },
    {
     "name": "stdout",
     "output_type": "stream",
     "text": [
      "step 4730 reconstruction loss: 3.518561363220215, 4.387794494628906, 4.291972637176514\n",
      "step 4740 autoencoder loss: 0.7108982801437378\n"
     ]
    },
    {
     "name": "stderr",
     "output_type": "stream",
     "text": [
      "Setting `pad_token_id` to `eos_token_id`:0 for open-end generation.\n"
     ]
    },
    {
     "name": "stdout",
     "output_type": "stream",
     "text": [
      "step 4740 reconstruction loss: 3.2974536418914795, 4.242591857910156, 4.1173996925354\n",
      "step 4750 autoencoder loss: 0.6033962965011597\n"
     ]
    },
    {
     "name": "stderr",
     "output_type": "stream",
     "text": [
      "Setting `pad_token_id` to `eos_token_id`:0 for open-end generation.\n"
     ]
    },
    {
     "name": "stdout",
     "output_type": "stream",
     "text": [
      "step 4750 reconstruction loss: 3.3644721508026123, 4.326606750488281, 4.205441951751709\n",
      "step 4760 autoencoder loss: 0.5973336100578308\n"
     ]
    },
    {
     "name": "stderr",
     "output_type": "stream",
     "text": [
      "Setting `pad_token_id` to `eos_token_id`:0 for open-end generation.\n"
     ]
    },
    {
     "name": "stdout",
     "output_type": "stream",
     "text": [
      "step 4760 reconstruction loss: 3.296745777130127, 4.170114517211914, 4.074446201324463\n",
      "step 4770 autoencoder loss: 0.6269214153289795\n"
     ]
    },
    {
     "name": "stderr",
     "output_type": "stream",
     "text": [
      "Setting `pad_token_id` to `eos_token_id`:0 for open-end generation.\n"
     ]
    },
    {
     "name": "stdout",
     "output_type": "stream",
     "text": [
      "step 4770 reconstruction loss: 3.604597330093384, 4.490624904632568, 4.3759260177612305\n",
      "step 4780 autoencoder loss: 0.6742979884147644\n"
     ]
    },
    {
     "name": "stderr",
     "output_type": "stream",
     "text": [
      "Setting `pad_token_id` to `eos_token_id`:0 for open-end generation.\n"
     ]
    },
    {
     "name": "stdout",
     "output_type": "stream",
     "text": [
      "step 4780 reconstruction loss: 3.2803471088409424, 4.408751010894775, 4.302152156829834\n",
      "step 4790 autoencoder loss: 0.6866590976715088\n"
     ]
    },
    {
     "name": "stderr",
     "output_type": "stream",
     "text": [
      "Setting `pad_token_id` to `eos_token_id`:0 for open-end generation.\n"
     ]
    },
    {
     "name": "stdout",
     "output_type": "stream",
     "text": [
      "step 4790 reconstruction loss: 3.473458766937256, 4.364765644073486, 4.25285005569458\n",
      "step 4800 autoencoder loss: 0.6418633460998535\n"
     ]
    },
    {
     "name": "stderr",
     "output_type": "stream",
     "text": [
      "Setting `pad_token_id` to `eos_token_id`:0 for open-end generation.\n"
     ]
    },
    {
     "name": "stdout",
     "output_type": "stream",
     "text": [
      "step 4800 reconstruction loss: 3.441169023513794, 4.275783061981201, 4.1703290939331055\n",
      "step 4810 autoencoder loss: 0.6522372364997864\n"
     ]
    },
    {
     "name": "stderr",
     "output_type": "stream",
     "text": [
      "Setting `pad_token_id` to `eos_token_id`:0 for open-end generation.\n"
     ]
    },
    {
     "name": "stdout",
     "output_type": "stream",
     "text": [
      "step 4810 reconstruction loss: 3.3508458137512207, 4.2487359046936035, 4.135143280029297\n",
      "step 4820 autoencoder loss: 0.6095358729362488\n"
     ]
    },
    {
     "name": "stderr",
     "output_type": "stream",
     "text": [
      "Setting `pad_token_id` to `eos_token_id`:0 for open-end generation.\n"
     ]
    },
    {
     "name": "stdout",
     "output_type": "stream",
     "text": [
      "step 4820 reconstruction loss: 3.3918168544769287, 4.428224086761475, 4.305394172668457\n",
      "step 4830 autoencoder loss: 0.631843090057373\n"
     ]
    },
    {
     "name": "stderr",
     "output_type": "stream",
     "text": [
      "Setting `pad_token_id` to `eos_token_id`:0 for open-end generation.\n"
     ]
    },
    {
     "name": "stdout",
     "output_type": "stream",
     "text": [
      "step 4830 reconstruction loss: 3.560717821121216, 4.461050033569336, 4.354965686798096\n",
      "step 4840 autoencoder loss: 0.6656907796859741\n"
     ]
    },
    {
     "name": "stderr",
     "output_type": "stream",
     "text": [
      "Setting `pad_token_id` to `eos_token_id`:0 for open-end generation.\n"
     ]
    },
    {
     "name": "stdout",
     "output_type": "stream",
     "text": [
      "step 4840 reconstruction loss: 3.095573663711548, 4.045907020568848, 3.9409985542297363\n",
      "step 4850 autoencoder loss: 0.6488165259361267\n"
     ]
    },
    {
     "name": "stderr",
     "output_type": "stream",
     "text": [
      "Setting `pad_token_id` to `eos_token_id`:0 for open-end generation.\n"
     ]
    },
    {
     "name": "stdout",
     "output_type": "stream",
     "text": [
      "step 4850 reconstruction loss: 3.485612154006958, 4.355708599090576, 4.253917694091797\n",
      "step 4860 autoencoder loss: 0.6743189096450806\n"
     ]
    },
    {
     "name": "stderr",
     "output_type": "stream",
     "text": [
      "Setting `pad_token_id` to `eos_token_id`:0 for open-end generation.\n"
     ]
    },
    {
     "name": "stdout",
     "output_type": "stream",
     "text": [
      "step 4860 reconstruction loss: 3.618879795074463, 4.495698928833008, 4.395362854003906\n",
      "step 4870 autoencoder loss: 0.6356435418128967\n"
     ]
    },
    {
     "name": "stderr",
     "output_type": "stream",
     "text": [
      "Setting `pad_token_id` to `eos_token_id`:0 for open-end generation.\n"
     ]
    },
    {
     "name": "stdout",
     "output_type": "stream",
     "text": [
      "step 4870 reconstruction loss: 3.4610557556152344, 4.294249057769775, 4.183465003967285\n",
      "step 4880 autoencoder loss: 0.6921784281730652\n"
     ]
    },
    {
     "name": "stderr",
     "output_type": "stream",
     "text": [
      "Setting `pad_token_id` to `eos_token_id`:0 for open-end generation.\n"
     ]
    },
    {
     "name": "stdout",
     "output_type": "stream",
     "text": [
      "step 4880 reconstruction loss: 3.325652599334717, 4.158547401428223, 4.070068836212158\n",
      "step 4890 autoencoder loss: 0.7282862067222595\n"
     ]
    },
    {
     "name": "stderr",
     "output_type": "stream",
     "text": [
      "Setting `pad_token_id` to `eos_token_id`:0 for open-end generation.\n"
     ]
    },
    {
     "name": "stdout",
     "output_type": "stream",
     "text": [
      "step 4890 reconstruction loss: 3.243048667907715, 4.24873161315918, 4.125982761383057\n",
      "step 4900 autoencoder loss: 0.6084904670715332\n"
     ]
    },
    {
     "name": "stderr",
     "output_type": "stream",
     "text": [
      "Setting `pad_token_id` to `eos_token_id`:0 for open-end generation.\n"
     ]
    },
    {
     "name": "stdout",
     "output_type": "stream",
     "text": [
      "step 4900 reconstruction loss: 3.5361616611480713, 4.39985466003418, 4.300155162811279\n",
      "step 4910 autoencoder loss: 0.5918524861335754\n"
     ]
    },
    {
     "name": "stderr",
     "output_type": "stream",
     "text": [
      "Setting `pad_token_id` to `eos_token_id`:0 for open-end generation.\n"
     ]
    },
    {
     "name": "stdout",
     "output_type": "stream",
     "text": [
      "step 4910 reconstruction loss: 3.5321028232574463, 4.593995571136475, 4.470265865325928\n",
      "step 4920 autoencoder loss: 0.6275380849838257\n"
     ]
    },
    {
     "name": "stderr",
     "output_type": "stream",
     "text": [
      "Setting `pad_token_id` to `eos_token_id`:0 for open-end generation.\n"
     ]
    },
    {
     "name": "stdout",
     "output_type": "stream",
     "text": [
      "step 4920 reconstruction loss: 3.615443468093872, 4.578189373016357, 4.470378875732422\n",
      "step 4930 autoencoder loss: 0.6073433756828308\n"
     ]
    },
    {
     "name": "stderr",
     "output_type": "stream",
     "text": [
      "Setting `pad_token_id` to `eos_token_id`:0 for open-end generation.\n"
     ]
    },
    {
     "name": "stdout",
     "output_type": "stream",
     "text": [
      "step 4930 reconstruction loss: 3.5218331813812256, 4.396857261657715, 4.286014080047607\n",
      "step 4940 autoencoder loss: 0.5885194540023804\n"
     ]
    },
    {
     "name": "stderr",
     "output_type": "stream",
     "text": [
      "Setting `pad_token_id` to `eos_token_id`:0 for open-end generation.\n"
     ]
    },
    {
     "name": "stdout",
     "output_type": "stream",
     "text": [
      "step 4940 reconstruction loss: 3.4794816970825195, 4.354231834411621, 4.258415699005127\n",
      "step 4950 autoencoder loss: 0.6905810832977295\n"
     ]
    },
    {
     "name": "stderr",
     "output_type": "stream",
     "text": [
      "Setting `pad_token_id` to `eos_token_id`:0 for open-end generation.\n"
     ]
    },
    {
     "name": "stdout",
     "output_type": "stream",
     "text": [
      "step 4950 reconstruction loss: 3.6061041355133057, 4.450072288513184, 4.340959548950195\n",
      "step 4960 autoencoder loss: 0.6760119199752808\n"
     ]
    },
    {
     "name": "stderr",
     "output_type": "stream",
     "text": [
      "Setting `pad_token_id` to `eos_token_id`:0 for open-end generation.\n"
     ]
    },
    {
     "name": "stdout",
     "output_type": "stream",
     "text": [
      "step 4960 reconstruction loss: 3.1460134983062744, 3.9656431674957275, 3.8524458408355713\n",
      "step 4970 autoencoder loss: 0.6160955429077148\n"
     ]
    },
    {
     "name": "stderr",
     "output_type": "stream",
     "text": [
      "Setting `pad_token_id` to `eos_token_id`:0 for open-end generation.\n"
     ]
    },
    {
     "name": "stdout",
     "output_type": "stream",
     "text": [
      "step 4970 reconstruction loss: 3.3893332481384277, 4.298818111419678, 4.203365325927734\n",
      "step 4980 autoencoder loss: 0.7475594878196716\n"
     ]
    },
    {
     "name": "stderr",
     "output_type": "stream",
     "text": [
      "Setting `pad_token_id` to `eos_token_id`:0 for open-end generation.\n"
     ]
    },
    {
     "name": "stdout",
     "output_type": "stream",
     "text": [
      "step 4980 reconstruction loss: 3.252727746963501, 4.074464321136475, 3.9599506855010986\n",
      "step 4990 autoencoder loss: 0.6393164992332458\n"
     ]
    },
    {
     "name": "stderr",
     "output_type": "stream",
     "text": [
      "Setting `pad_token_id` to `eos_token_id`:0 for open-end generation.\n"
     ]
    },
    {
     "name": "stdout",
     "output_type": "stream",
     "text": [
      "step 4990 reconstruction loss: 3.233323574066162, 4.5184245109558105, 4.445420742034912\n",
      "step 5000 autoencoder loss: 0.7037338018417358\n"
     ]
    },
    {
     "name": "stderr",
     "output_type": "stream",
     "text": [
      "Setting `pad_token_id` to `eos_token_id`:0 for open-end generation.\n"
     ]
    },
    {
     "name": "stdout",
     "output_type": "stream",
     "text": [
      "step 5000 reconstruction loss: 3.2521088123321533, 4.108417987823486, 4.0042901039123535\n"
     ]
    }
   ],
   "source": [
    "ae = trainSAE(\n",
    "    buffer,\n",
    "    dictionary_size = 8 * 512,\n",
    "    steps=5000,\n",
    "    lr = 1e-3,\n",
    "    l1_penalty = 1e-3,\n",
    "    log_steps = 10,\n",
    "    device='cuda:0'\n",
    ")"
   ]
  },
  {
   "cell_type": "code",
   "execution_count": null,
   "metadata": {},
   "outputs": [],
   "source": []
  }
 ],
 "metadata": {
  "kernelspec": {
   "display_name": "Python 3",
   "language": "python",
   "name": "python3"
  },
  "language_info": {
   "codemirror_mode": {
    "name": "ipython",
    "version": 3
   },
   "file_extension": ".py",
   "mimetype": "text/x-python",
   "name": "python",
   "nbconvert_exporter": "python",
   "pygments_lexer": "ipython3",
   "version": "3.8.10"
  }
 },
 "nbformat": 4,
 "nbformat_minor": 2
}
