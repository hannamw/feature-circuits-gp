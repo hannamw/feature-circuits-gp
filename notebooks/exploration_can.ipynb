{
 "cells": [
  {
   "cell_type": "code",
   "execution_count": 1,
   "metadata": {},
   "outputs": [
    {
     "name": "stderr",
     "output_type": "stream",
     "text": [
      "/home/can/.local/lib/python3.8/site-packages/tqdm/auto.py:21: TqdmWarning: IProgress not found. Please update jupyter and ipywidgets. See https://ipywidgets.readthedocs.io/en/stable/user_install.html\n",
      "  from .autonotebook import tqdm as notebook_tqdm\n"
     ]
    }
   ],
   "source": [
    "# Imports\n",
    "import zstandard as zstd\n",
    "import json\n",
    "import os\n",
    "import io\n",
    "from tqdm import tqdm\n",
    "\n",
    "from einops import rearrange\n",
    "import torch as t\n",
    "from nnsight import LanguageModel\n",
    "from dictionary_learning.buffer import ActivationBuffer\n",
    "from dictionary_learning.dictionary import AutoEncoder\n",
    "from dictionary_learning.training import trainSAE\n",
    "\n",
    "import matplotlib.pyplot as plt\n",
    "import imageio\n",
    "from circuitsvis.activations import text_neuron_activations"
   ]
  },
  {
   "cell_type": "markdown",
   "metadata": {},
   "source": [
    "# Experiment setup"
   ]
  },
  {
   "cell_type": "code",
   "execution_count": 2,
   "metadata": {},
   "outputs": [],
   "source": [
    "ACTIVATION_DIM = 512\n",
    "DICTIONARY_SIZE = 64 * ACTIVATION_DIM # This is the dict_size sam mostly works with.\n",
    "EPS = 1e-8"
   ]
  },
  {
   "cell_type": "code",
   "execution_count": 3,
   "metadata": {},
   "outputs": [
    {
     "name": "stderr",
     "output_type": "stream",
     "text": [
      "Special tokens have been added in the vocabulary, make sure the associated word embeddings are fine-tuned or trained.\n"
     ]
    }
   ],
   "source": [
    "model = LanguageModel('EleutherAI/pythia-70m-deduped', device_map='cuda:0')\n",
    "submodules = [\n",
    "    layer.mlp for layer in model.gpt_neox.layers\n",
    "]\n",
    "\n",
    "dictionaries = []\n",
    "for i in range(len(submodules)):\n",
    "    dictionary = AutoEncoder(ACTIVATION_DIM, DICTIONARY_SIZE).to('cuda:0')\n",
    "    dictionary.load_state_dict(t.load(f'/share/projects/dictionary_circuits/autoencoders/pythia-70m-deduped/mlp_out_layer{i}/1_32768/ae.pt'))\n",
    "    dictionaries.append(dictionary)"
   ]
  },
  {
   "cell_type": "code",
   "execution_count": 4,
   "metadata": {},
   "outputs": [],
   "source": [
    "# set up data as a generator\n",
    "data_path = '/share/data/datasets/pile/the-eye.eu/public/AI/pile/train/00.jsonl.zst'\n",
    "compressed_file = open(data_path, 'rb')\n",
    "dctx = zstd.ZstdDecompressor()\n",
    "reader = dctx.stream_reader(compressed_file)\n",
    "text_stream = io.TextIOWrapper(reader, encoding='utf-8')\n",
    "def generator():\n",
    "    for line in text_stream:\n",
    "        yield json.loads(line)['text']\n",
    "data = generator()"
   ]
  },
  {
   "cell_type": "markdown",
   "metadata": {},
   "source": [
    "# Mean feature activation – random contexts\n",
    "for final token prediction, one activation per prompt."
   ]
  },
  {
   "cell_type": "code",
   "execution_count": 5,
   "metadata": {},
   "outputs": [],
   "source": [
    "# Probs look at other interpretability measures from anthropic paper, too?"
   ]
  },
  {
   "cell_type": "code",
   "execution_count": 6,
   "metadata": {},
   "outputs": [],
   "source": [
    "layer_acts_random = 5"
   ]
  },
  {
   "cell_type": "code",
   "execution_count": 7,
   "metadata": {},
   "outputs": [
    {
     "name": "stdout",
     "output_type": "stream",
     "text": [
      "refreshing buffer...\n"
     ]
    },
    {
     "name": "stderr",
     "output_type": "stream",
     "text": [
      "You're using a GPTNeoXTokenizerFast tokenizer. Please note that with a fast tokenizer, using the `__call__` method is faster than using a method to encode the text followed by a call to the `pad` method to get a padded encoding.\n"
     ]
    },
    {
     "name": "stdout",
     "output_type": "stream",
     "text": [
      "buffer refreshed...\n"
     ]
    },
    {
     "data": {
      "text/plain": [
       "torch.Size([32768, 512])"
      ]
     },
     "execution_count": 7,
     "metadata": {},
     "output_type": "execute_result"
    }
   ],
   "source": [
    "# Buffer tied to one specific submodule!\n",
    "buffer = ActivationBuffer(\n",
    "    data,\n",
    "    model,\n",
    "    submodules[layer_acts_random],\n",
    "    io='out',\n",
    "    in_feats=ACTIVATION_DIM,\n",
    "    out_feats=ACTIVATION_DIM,\n",
    "    in_batch_size=512,\n",
    "    out_batch_size=2 ** 15,\n",
    "    n_ctxs=1e4,\n",
    ")\n",
    "\n",
    "# returns activations on dataset examples for the submodule specified\n",
    "# for each example, activations per each token positon are concatenated along dim out_batch_size\n",
    "acts = next(buffer) # [out_batch_size, activation_size]\n",
    "acts.shape"
   ]
  },
  {
   "cell_type": "code",
   "execution_count": 15,
   "metadata": {},
   "outputs": [
    {
     "data": {
      "image/png": "[encoded data removed]",
      "text/plain": [
       "<Figure size 640x480 with 1 Axes>"
      ]
     },
     "metadata": {},
     "output_type": "display_data"
    }
   ],
   "source": [
    "dict_acts_random = dictionaries[layer_acts_random].encode(acts.cuda()) # [batch, dictionary_size] \n",
    "mean_acts_random = (dict_acts_random !=0 ).sum(dim=0) / dict_acts_random.shape[0]\n",
    "\n",
    "plt.figure()\n",
    "plt.hist(mean_acts_random.cpu(), bins=t.logspace(-5, 0, 100))\n",
    "plt.xscale('log')\n",
    "plt.title(f'Feature activation distribution\\nMLP={layer_acts_random}')\n",
    "plt.xlabel('Mean feature activation')\n",
    "plt.ylabel('Frequency');"
   ]
  },
  {
   "cell_type": "code",
   "execution_count": 9,
   "metadata": {},
   "outputs": [],
   "source": [
    "# mean feature activation for multiple checkpoints\n",
    "# make gif\n",
    "def make_gif_mean_feat_activation():\n",
    "    for checkpoint in range(0, 101000, 5000):\n",
    "        ae = AutoEncoder(ACTIVATION_DIM, DICTIONARY_SIZE).cuda()\n",
    "        ae.load_state_dict(\n",
    "            t.load(f'/share/projects/dictionary_circuits/autoencoders/pythia-70m-deduped/mlp_out_layer{layer_acts_random}/1_{DICTIONARY_SIZE}/checkpoints/ae_{checkpoint}.pt')\n",
    "        )\n",
    "\n",
    "        dict_acts = ae.encode(acts.cuda())\n",
    "        freqs = (dict_acts !=0).sum(dim=0) / dict_acts.shape[0]\n",
    "\n",
    "        plt.figure()\n",
    "        plt.hist(freqs.cpu(), bins=t.logspace(-5, 0, 100))\n",
    "        plt.xscale('log')\n",
    "        plt.title(f'Layer {layer_acts_random} - checkpoint {checkpoint}, 1_32768')\n",
    "        plt.savefig(f'junk/{checkpoint}_hist.png')\n",
    "        plt.close()\n",
    "    \n",
    "    images = [\n",
    "        imageio.imread(f'junk/{checkpoint}_hist.png')\n",
    "        for checkpoint in range(0, 103000, 5000)\n",
    "    ]\n",
    "    imageio.mimsave('junk/hist.gif', images, fps=1)"
   ]
  },
  {
   "cell_type": "markdown",
   "metadata": {},
   "source": [
    "# Mean feature activation – coherent contexts\n",
    "\n",
    "mean over batch and token_position"
   ]
  },
  {
   "cell_type": "code",
   "execution_count": 8,
   "metadata": {},
   "outputs": [],
   "source": [
    "tokenized_prompts = buffer.tokenized_batch(batch_size=512) # [batch, n_ctx]"
   ]
  },
  {
   "cell_type": "code",
   "execution_count": 9,
   "metadata": {},
   "outputs": [],
   "source": [
    "# Get feature activations from autoencoder\n",
    "def get_feature_activations(layer):\n",
    "    '''\n",
    "    Function for retrieving feature activations from tokenized batch\n",
    "    returns activations for all submodules, dictionaries if layer == None\n",
    "    \n",
    "    '''\n",
    "    with model.generate(max_new_tokens=1, pad_token_id=model.tokenizer.pad_token_id) as generator:\n",
    "        with generator.invoke(tokenized_prompts['input_ids'], scan=False) as invoker:\n",
    "            hidden_states = submodules[layer].output.save() # hidden_states.value: [batch, n_ctx, d_mlp]\n",
    "    dictionary_activation = dictionaries[layer].encode(hidden_states.value)\n",
    "    return dictionary_activation\n",
    "    # else:\n",
    "    #     dictionary_activations = []\n",
    "    #     with model.generate(max_new_tokens=1, pad_token_id=model.tokenizer.pad_token_id) as generator:\n",
    "    #         with generator.invoke(tokenized_prompts['input_ids'], scan=False) as invoker:\n",
    "    #             for layer in range(len(submodules)):\n",
    "    #                 x = submodules[layer].output\n",
    "    #                 f = dictionaries[layer].encode(x).save()\n",
    "    #                 dictionary_activations.append(f)\n",
    "    #     return dictionary_activations"
   ]
  },
  {
   "cell_type": "markdown",
   "metadata": {},
   "source": [
    "### Analyze frequencies in second mode\n",
    "Second mode refers to the smaller frequency peak usually above 1e-2 in mean feature activations."
   ]
  },
  {
   "cell_type": "code",
   "execution_count": 10,
   "metadata": {},
   "outputs": [],
   "source": [
    "layer_acts_coherent = 5"
   ]
  },
  {
   "cell_type": "code",
   "execution_count": 11,
   "metadata": {},
   "outputs": [
    {
     "data": {
      "image/png": "[encoded data removed]",
      "text/plain": [
       "<Figure size 640x480 with 1 Axes>"
      ]
     },
     "metadata": {},
     "output_type": "display_data"
    }
   ],
   "source": [
    "dict_acts_coherent = get_feature_activations(layer_acts_coherent)\n",
    "flattened_acts_coherent = rearrange(dict_acts_coherent, 'b n d -> (b n) d')\n",
    "mean_activations = (flattened_acts_coherent !=0).sum(dim=0) / flattened_acts_coherent.shape[0] # [d_sae]\n",
    "\n",
    "plt.figure()\n",
    "plt.hist(mean_activations.cpu(), bins=t.logspace(-5, 0, 100))\n",
    "plt.xscale('log')\n",
    "plt.title(f'Feature activation distribution\\nMLP={layer_acts_random}');\n",
    "plt.xlabel('Mean feature activation')\n",
    "plt.ylabel('Frequency');"
   ]
  },
  {
   "cell_type": "code",
   "execution_count": 12,
   "metadata": {},
   "outputs": [
    {
     "name": "stdout",
     "output_type": "stream",
     "text": [
      "layer 5\t feat 6381:\t 0.4892425537109375\n",
      "layer 5\t feat 29434:\t 0.4373626708984375\n",
      "layer 5\t feat 22606:\t 0.4359893798828125\n",
      "layer 5\t feat 23543:\t 0.4336395263671875\n",
      "layer 5\t feat 16556:\t 0.431732177734375\n",
      "layer 5\t feat 26992:\t 0.416595458984375\n",
      "layer 5\t feat 26716:\t 0.38433837890625\n",
      "layer 5\t feat 32034:\t 0.355926513671875\n",
      "layer 5\t feat 9746:\t 0.3291473388671875\n",
      "layer 5\t feat 8395:\t 0.293304443359375\n"
     ]
    }
   ],
   "source": [
    "topk_mean_activations_coherent = sorted(enumerate(mean_activations), key=lambda x: x[1].abs(), reverse=True)\n",
    "for i, eff in topk_mean_activations_coherent[:10]:\n",
    "    print(f'layer {layer_acts_coherent}\\t feat {i}:\\t {eff}')"
   ]
  },
  {
   "cell_type": "markdown",
   "metadata": {},
   "source": [
    "Manually setting interval for second peak could be improved with interactive click and drag interval. plotly?"
   ]
  },
  {
   "cell_type": "markdown",
   "metadata": {},
   "source": [
    "## Visualize prompts with highest activation for given feature"
   ]
  },
  {
   "cell_type": "code",
   "execution_count": 13,
   "metadata": {},
   "outputs": [],
   "source": [
    "feature_id_coherent = 1202"
   ]
  },
  {
   "cell_type": "code",
   "execution_count": 14,
   "metadata": {},
   "outputs": [],
   "source": [
    "def list_decode(x):\n",
    "    if isinstance(x, int):\n",
    "        return model.tokenizer.decode(x)\n",
    "    else:\n",
    "        return [list_decode(y) for y in x]\n",
    "    \n",
    "def topk_prompts_provider(feature_layer: int, feature_id: int, k: int = 30):\n",
    "    # Sort examples in batch by max feature activation\n",
    "    dictionary_activations = get_feature_activations(feature_layer)\n",
    "    acts = dictionary_activations[:, :, feature_id].cpu() # acts: [batch, pos]\n",
    "    flattened_acts = rearrange(acts, 'b l -> (b l)')\n",
    "    topk_indices = t.argsort(flattened_acts, dim=0, descending=True)[:k] \n",
    "    batch_indices = topk_indices // acts.shape[1]\n",
    "    token_indices = topk_indices % acts.shape[1]\n",
    "\n",
    "    # Visualize\n",
    "    tokens = [\n",
    "    tokenized_prompts['input_ids'][batch_idx, :token_idx+1].tolist() for batch_idx, token_idx in zip(batch_indices, token_indices)\n",
    "    ]\n",
    "    tokens = list_decode(tokens)\n",
    "    activations = [\n",
    "        acts[batch_idx, :token_id+1, None, None] for batch_idx, token_id in zip(batch_indices, token_indices)\n",
    "    ]\n",
    "    return tokens, activations"
   ]
  },
  {
   "cell_type": "code",
   "execution_count": null,
   "metadata": {},
   "outputs": [
    {
     "data": {
      "text/html": [
       "<div id=\"circuits-vis-693fd19c-1236\" style=\"margin: 15px 0;\"/>\n",
       "    <script crossorigin type=\"module\">\n",
       "    import { render, TextNeuronActivations } from \"https://unpkg.com/circuitsvis@1.43.2/dist/cdn/esm.js\";\n",
       "    render(\n",
       "      \"circuits-vis-693fd19c-1236\",\n",
       "      TextNeuronActivations,\n",
       "      {\"tokens\": [[\"Shadow\", \" Communications\", \" Minister\", \" Michelle\", \" Row\", \"land\"], [\"Shadow\", \" Communications\", \" Minister\"], [\"Ask\", \" Microsoft\"], [\"for\", \"president\", \"ob\", \"ama\", \"once\", \"again\"], [\"Ra\", \"ise\", \" the\", \" Hammer\", \"\\n\", \"\\n\", \"Comment\", \" 545\", \"97\", \"\\n\", \"\\n\", \"By\", \" j\", \"ason\", \" (\", \"registered\", \")\", \" |\", \" Posted\", \" January\", \" 05\", \",\", \" 2011\", \" at\", \" 12\", \":\", \"50\", \":\", \"46\", \"\\n\", \"\\n\", \"he\", \" doesn\", \"'t\", \" want\", \" to\", \" be\", \" the\", \" mayor\", \" that\", \" lost\", \" the\", \" C\", \"ats\", \".\", \"\\n\", \"\\n\", \"I\", \" can\", \" understand\", \" why\", \".\", \" Nobody\", \" would\", \" want\", \" that\", \".\", \" But\", \" he\", \" may\", \" have\", \" no\", \" choice\", \".\", \" The\", \" C\", \"ats\"], [\"Travel\", \" Safety\", \" Tips\"], [\"Much\", \" evidence\"], [\"Compar\", \"ative\", \" chromatography\", \"-\", \"mass\", \" spectrometry\", \" studies\"], [\"Phone\", \" calls\"], [\"Search\", \" form\"], [\"Sometimes\", \" called\"], [\"Security\", \" update\", \" released\"], [\"Drive\"], [\"Gordon\"], [\"By\", \" seeking\"], [\"Gordon\", \" Goodman\"], [\"Pro\", \"gn\", \"ostic\", \" factors\"], [\"Soc\", \"cer\", \" ace\", \" Ra\", \"he\", \"em\", \" Sterling\", \" has\"], [\"Ra\", \"ise\", \" the\", \" Hammer\", \"\\n\", \"\\n\", \"Comment\", \" 545\", \"97\", \"\\n\", \"\\n\", \"By\", \" j\", \"ason\", \" (\", \"registered\", \")\", \" |\", \" Posted\", \" January\", \" 05\", \",\", \" 2011\", \" at\", \" 12\", \":\", \"50\", \":\", \"46\", \"\\n\", \"\\n\", \"he\", \" doesn\", \"'t\", \" want\", \" to\", \" be\", \" the\", \" mayor\", \" that\", \" lost\", \" the\", \" C\", \"ats\", \".\", \"\\n\", \"\\n\", \"I\", \" can\", \" understand\", \" why\", \".\", \" Nobody\", \" would\", \" want\"], [\"R\", \"ent\", \"ers\"], [\"Arm\", \"ed\", \" robbery\", \" suspects\", \" sought\"], [\"A\", \" Raj\", \"as\", \"th\", \"ani\", \" '\", \"aff\", \"air\", \"'\", \" to\"], [\"Ra\", \"ise\", \" the\", \" Hammer\", \"\\n\", \"\\n\", \"Comment\", \" 545\", \"97\", \"\\n\", \"\\n\", \"By\", \" j\", \"ason\", \" (\", \"registered\", \")\", \" |\", \" Posted\", \" January\", \" 05\", \",\", \" 2011\", \" at\", \" 12\", \":\", \"50\", \":\", \"46\", \"\\n\", \"\\n\", \"he\", \" doesn\", \"'t\", \" want\", \" to\", \" be\", \" the\", \" mayor\", \" that\", \" lost\", \" the\", \" C\", \"ats\", \".\", \"\\n\", \"\\n\", \"I\", \" can\", \" understand\", \" why\", \".\", \" Nobody\"], [\"Winter\", \" may\", \" be\", \" coming\", \" but\", \" while\", \" we\", \" wait\", \" (\", \"and\"], [\"Pod\", \"cast\"], [\"Cold\", \" storage\", \" has\"], [\"Article\", \" content\"], [\"Mouse\", \" models\"], [\"'\", \"What\", \" if\", \" doing\", \" things\", \" more\", \" \\u201c\", \"efficient\", \"ly\", \"\\u201d,\", \" in\", \" a\", \" superficial\", \" sense\", \",\", \" results\", \" in\", \" doing\", \" them\", \" worse\", \"?'\", \" Ill\", \"ustration\", \":\", \" Mick\", \" Brown\", \"field\", \" for\", \" the\", \" Guardian\", \"\\n\", \"\\n\", \"I\", \" hereby\", \" announce\", \" the\", \" formation\", \" of\", \" an\", \" international\", \" campaign\", \" to\", \" eliminate\", \" all\", \" future\", \" uses\", \" of\", \" the\", \" phrase\", \",\", \" \\\"\", \"Work\", \" smarter\", \",\", \" not\", \" harder\", \".\\\"\", \" It\"], [\"have\"]], \"activations\": [[[[0.10924622416496277]], [[0.7625600099563599]], [[1.3909987211227417]], [[0.8787785768508911]], [[0.0]], [[1.5288126468658447]]], [[[0.10924622416496277]], [[0.7625600099563599]], [[1.3909987211227417]]], [[[0.43213698267936707]], [[1.2888998985290527]]], [[[0.030028939247131348]], [[0.6186726093292236]], [[0.0]], [[0.17243245244026184]], [[0.3521820604801178]], [[1.2795201539993286]]], [[[0.0]], [[0.4435177147388458]], [[0.0007101595401763916]], [[0.0]], [[0.0]], [[0.18689128756523132]], [[0.0]], [[0.323567658662796]], [[0.10851037502288818]], [[0.0]], [[0.17227724194526672]], [[0.1115446388721466]], [[0.0]], [[0.10225135087966919]], [[0.10249942541122437]], [[0.0]], [[0.12309542298316956]], [[0.31213393807411194]], [[0.0]], [[0.22198238968849182]], [[0.0]], [[0.0]], [[0.0]], [[0.0]], [[0.0]], [[0.0]], [[0.0]], [[0.0]], [[0.0]], [[0.0]], [[0.0]], [[0.4258081018924713]], [[0.0]], [[0.4301101863384247]], [[0.7583538293838501]], [[0.7317359447479248]], [[0.217669278383255]], [[0.0]], [[0.4047054946422577]], [[0.5261012315750122]], [[0.7021151781082153]], [[0.17103171348571777]], [[0.0]], [[0.0]], [[0.2244066298007965]], [[0.3593163788318634]], [[0.0]], [[0.5338453054428101]], [[0.0]], [[0.042935699224472046]], [[0.0]], [[0.09116163849830627]], [[1.0018672943115234]], [[0.7691501379013062]], [[1.0209031105041504]], [[0.8176835775375366]], [[0.13916626572608948]], [[0.5991617441177368]], [[0.7210124731063843]], [[0.67922043800354]], [[0.8415600061416626]], [[0.2327263057231903]], [[0.0]], [[0.17852604389190674]], [[0.24417468905448914]], [[0.0]], [[1.2755178213119507]]], [[[0.0]], [[0.7400200366973877]], [[1.2549508810043335]]], [[[0.28297415375709534]], [[1.2275137901306152]]], [[[0.0]], [[0.0]], [[0.0]], [[0.0]], [[0.0]], [[0.08820992708206177]], [[1.2251238822937012]]], [[[0.49943122267723083]], [[1.2183479070663452]]], [[[0.3442767560482025]], [[1.1975083351135254]]], [[[0.6961491107940674]], [[1.1904619932174683]]], [[[0.0]], [[0.901330828666687]], [[1.1744332313537598]]], [[[1.142305850982666]]], [[[1.1084574460983276]]], [[[0.31745895743370056]], [[1.0601621866226196]]], [[[1.1084574460983276]], [[1.0574702024459839]]], [[[0.0]], [[0.0]], [[0.0]], [[1.0349420309066772]]], [[[0.0]], [[0.0]], [[0.6997716426849365]], [[0.0]], [[0.0]], [[0.0]], [[0.6249935626983643]], [[1.022627592086792]]], [[[0.0]], [[0.4435177147388458]], [[0.0007101595401763916]], [[0.0]], [[0.0]], [[0.18689128756523132]], [[0.0]], [[0.323567658662796]], [[0.10851037502288818]], [[0.0]], [[0.17227724194526672]], [[0.1115446388721466]], [[0.0]], [[0.10225135087966919]], [[0.10249942541122437]], [[0.0]], [[0.12309542298316956]], [[0.31213393807411194]], [[0.0]], [[0.22198238968849182]], [[0.0]], [[0.0]], [[0.0]], [[0.0]], [[0.0]], [[0.0]], [[0.0]], [[0.0]], [[0.0]], [[0.0]], [[0.0]], [[0.4258081018924713]], [[0.0]], [[0.4301101863384247]], [[0.7583538293838501]], [[0.7317359447479248]], [[0.217669278383255]], [[0.0]], [[0.4047054946422577]], [[0.5261012315750122]], [[0.7021151781082153]], [[0.17103171348571777]], [[0.0]], [[0.0]], [[0.2244066298007965]], [[0.3593163788318634]], [[0.0]], [[0.5338453054428101]], [[0.0]], [[0.042935699224472046]], [[0.0]], [[0.09116163849830627]], [[1.0018672943115234]], [[0.7691501379013062]], [[1.0209031105041504]]], [[[0.0]], [[0.2985669672489166]], [[1.0207958221435547]]], [[[0.0]], [[0.5097877979278564]], [[0.108985036611557]], [[0.7989945411682129]], [[1.0072749853134155]]], [[[0.0]], [[0.0]], [[0.0]], [[0.0]], [[0.130008727312088]], [[0.1752261221408844]], [[0.0]], [[0.0]], [[0.11966711282730103]], [[1.0047587156295776]]], [[[0.0]], [[0.4435177147388458]], [[0.0007101595401763916]], [[0.0]], [[0.0]], [[0.18689128756523132]], [[0.0]], [[0.323567658662796]], [[0.10851037502288818]], [[0.0]], [[0.17227724194526672]], [[0.1115446388721466]], [[0.0]], [[0.10225135087966919]], [[0.10249942541122437]], [[0.0]], [[0.12309542298316956]], [[0.31213393807411194]], [[0.0]], [[0.22198238968849182]], [[0.0]], [[0.0]], [[0.0]], [[0.0]], [[0.0]], [[0.0]], [[0.0]], [[0.0]], [[0.0]], [[0.0]], [[0.0]], [[0.4258081018924713]], [[0.0]], [[0.4301101863384247]], [[0.7583538293838501]], [[0.7317359447479248]], [[0.217669278383255]], [[0.0]], [[0.4047054946422577]], [[0.5261012315750122]], [[0.7021151781082153]], [[0.17103171348571777]], [[0.0]], [[0.0]], [[0.2244066298007965]], [[0.3593163788318634]], [[0.0]], [[0.5338453054428101]], [[0.0]], [[0.042935699224472046]], [[0.0]], [[0.09116163849830627]], [[1.0018672943115234]]], [[[0.36705413460731506]], [[0.2618893086910248]], [[0.31600770354270935]], [[0.009273618459701538]], [[0.6220877170562744]], [[0.36293014883995056]], [[0.11509793996810913]], [[0.38912251591682434]], [[0.2309582531452179]], [[1.001379132270813]]], [[[0.0]], [[0.9912389516830444]]], [[[0.35833802819252014]], [[0.9143081903457642]], [[0.9910690784454346]]], [[[0.3539232313632965]], [[0.9878710508346558]]], [[[0.0]], [[0.9766191244125366]]], [[[0.19017884135246277]], [[0.5988783836364746]], [[0.2062012255191803]], [[0.12954556941986084]], [[0.0]], [[0.0]], [[0.07892882823944092]], [[0.0]], [[0.0]], [[0.18763431906700134]], [[0.3092562258243561]], [[0.2003314197063446]], [[0.0]], [[0.023072123527526855]], [[0.2623501121997833]], [[0.0]], [[0.12088000774383545]], [[0.07473814487457275]], [[0.0]], [[0.0]], [[0.35156503319740295]], [[0.0]], [[0.0]], [[0.14205896854400635]], [[0.0]], [[0.4041461646556854]], [[0.2290397584438324]], [[0.0]], [[0.014647841453552246]], [[0.047908931970596313]], [[0.0]], [[0.0]], [[0.21891549229621887]], [[0.0]], [[0.41594037413597107]], [[0.01611003279685974]], [[0.08901265263557434]], [[0.07367151975631714]], [[0.0]], [[0.0]], [[0.16706562042236328]], [[0.0]], [[0.0]], [[0.0]], [[0.0]], [[0.06834062933921814]], [[0.0]], [[0.0]], [[0.0]], [[0.4241640865802765]], [[0.03780600428581238]], [[0.09487095475196838]], [[0.0]], [[0.0]], [[0.0]], [[0.0]], [[0.24753323197364807]], [[0.9712165594100952]]], [[[0.963699460029602]]]], \"firstDimensionName\": \"Layer\", \"secondDimensionName\": \"Neuron\"}\n",
       "    )\n",
       "    </script>"
      ],
      "text/plain": [
       "<circuitsvis.utils.render.RenderedHTML at 0x7f8291dda250>"
      ]
     },
     "execution_count": 17,
     "metadata": {},
     "output_type": "execute_result"
    }
   ],
   "source": [
    "tokens, activations = topk_prompts_provider(feature_layer=layer_acts_coherent, feature_id=feature_id_coherent)\n",
    "text_neuron_activations(tokens, activations)"
   ]
  },
  {
   "cell_type": "markdown",
   "metadata": {},
   "source": [
    "# Plural feature (testing acdc.py)\n",
    "## Setup"
   ]
  },
  {
   "cell_type": "code",
   "execution_count": 15,
   "metadata": {},
   "outputs": [
    {
     "data": {
      "text/plain": [
       "tensor([ 510, 1821])"
      ]
     },
     "execution_count": 15,
     "metadata": {},
     "output_type": "execute_result"
    }
   ],
   "source": [
    "# Create toy dataset\n",
    "patch = (\n",
    "    \"The man\", \" is\"\n",
    ")\n",
    "clean = (\n",
    "    \"The men\", \" are\"\n",
    ")\n",
    "plural_token_pos = 1\n",
    "\n",
    "tok = lambda x: t.tensor(model.tokenizer.encode(x))\n",
    "toy_dataset = [dict(\n",
    "    clean_prefix=tok(clean[0]),\n",
    "    clean_answer=tok(clean[1]),\n",
    "    patch_prefix=tok(patch[0]),\n",
    "    patch_answer=tok(patch[1]),\n",
    "\n",
    ")]\n",
    "\n",
    "toy_dataset[0]['clean_prefix']"
   ]
  },
  {
   "cell_type": "markdown",
   "metadata": {},
   "source": [
    "## Patching on y"
   ]
  },
  {
   "cell_type": "code",
   "execution_count": 16,
   "metadata": {},
   "outputs": [],
   "source": [
    "layer_patching_on_y = 5"
   ]
  },
  {
   "cell_type": "code",
   "execution_count": 17,
   "metadata": {},
   "outputs": [
    {
     "name": "stdout",
     "output_type": "stream",
     "text": [
      "total metric diff after replacing clean prefix with patch prefix: 8.8028564453125\n"
     ]
    }
   ],
   "source": [
    "from acdc import patching_on_y\n",
    "\n",
    "effects, total_effect = patching_on_y(\n",
    "    toy_dataset,\n",
    "    model,\n",
    "    submodules,\n",
    "    dictionaries,\n",
    "    method='all-folded'\n",
    ")\n",
    "plural_effect = effects[submodules[layer_patching_on_y]][plural_token_pos].detach().cpu()\n",
    "\n",
    "print(f'total metric diff after replacing clean prefix with patch prefix: {total_effect}')"
   ]
  },
  {
   "cell_type": "code",
   "execution_count": 18,
   "metadata": {},
   "outputs": [
    {
     "name": "stdout",
     "output_type": "stream",
     "text": [
      "feat 22167:\t 0.2865937054157257\n",
      "feat 21277:\t 0.12576480209827423\n",
      "feat 10880:\t 0.10416737198829651\n",
      "feat 14747:\t 0.10214502364397049\n",
      "feat 13505:\t 0.07417690753936768\n",
      "feat 7352:\t 0.053832706063985825\n",
      "feat 27530:\t -0.053781237453222275\n",
      "feat 22606:\t 0.031817931681871414\n",
      "feat 30204:\t 0.0313369482755661\n",
      "feat 8810:\t -0.024746902287006378\n"
     ]
    }
   ],
   "source": [
    "# TopK features with highest mean activation\n",
    "topk_effects = sorted(enumerate(plural_effect), key=lambda x: x[1].abs(), reverse=True)\n",
    "\n",
    "topk_features = []\n",
    "for i, eff in topk_effects[:10]:\n",
    "    topk_features.append(i)\n",
    "    print(f'feat {i}:\\t {eff}')"
   ]
  },
  {
   "cell_type": "code",
   "execution_count": 19,
   "metadata": {},
   "outputs": [
    {
     "data": {
      "image/png": "[encoded data removed]",
      "text/plain": [
       "<Figure size 640x480 with 1 Axes>"
      ]
     },
     "metadata": {},
     "output_type": "display_data"
    }
   ],
   "source": [
    "plt.figure()\n",
    "plt.hist(plural_effect[plural_effect.abs() > EPS], bins=100)\n",
    "plt.xscale('log')\n",
    "plt.title(f'Feature activation distribution\\nMLP={layer_patching_on_y}');\n",
    "plt.xlabel('Mean feature activation')\n",
    "plt.ylabel('Frequency');"
   ]
  },
  {
   "cell_type": "code",
   "execution_count": 20,
   "metadata": {},
   "outputs": [
    {
     "data": {
      "text/html": [
       "<div id=\"circuits-vis-3ce778b1-d607\" style=\"margin: 15px 0;\"/>\n",
       "    <script crossorigin type=\"module\">\n",
       "    import { render, TextNeuronActivations } from \"https://unpkg.com/circuitsvis@1.43.2/dist/cdn/esm.js\";\n",
       "    render(\n",
       "      \"circuits-vis-3ce778b1-d607\",\n",
       "      TextNeuronActivations,\n",
       "      {\"tokens\": [[\"J\", \"ER\", \"SE\", \"Y\", \" CITY\", \",\", \" N\", \".\", \"J\", \".\", \" (\", \"AP\", \")\", \" \\u2014\", \" A\", \" New\", \" Jersey\", \" man\"], [\"John\", \" Dou\", \"c\", \"ette\", \"\\n\", \"\\n\", \"John\", \" Arthur\", \" Dou\", \"c\", \"ette\", \" (\", \"January\", \" 21\", \",\", \" 1921\", \" \\u2013\", \" August\", \" 16\", \",\", \" 1994\", \")\", \" was\", \" an\", \" American\", \" character\", \" actor\", \" who\", \" performed\", \" in\", \" more\", \" than\", \" 280\", \" film\", \" and\", \" television\", \" productions\", \" between\", \" 1941\", \" and\", \" 1987\", \".\", \" A\", \" man\"], [\"B\", \"irmingham\", \" mother\", \" '\", \"d\", \"oused\", \" daughter\", \"'s\", \" body\", \" in\", \" acid\", \"'\", \" Published\", \" duration\", \" 26\", \" October\", \" 2010\", \"\\n\", \"\\n\", \"image\", \" caption\", \" I\", \"man\", \" Omar\", \" Y\", \"ouse\", \"f\", \" has\", \" been\", \" declared\", \" unf\", \"it\", \" to\", \" stand\", \" trial\", \"\\n\", \"\\n\", \"A\", \" three\", \"-\", \"year\", \"-\", \"old\", \" girl\"], [\"Rate\", \" this\", \":\", \"\\n\", \"\\n\", \"Im\", \"am\", \" I\", \"bn\", \" Ul\", \" J\", \"au\", \"zi\", \" Rh\", \".\", \"A\", \" was\", \" a\", \" great\", \" scholar\", \" of\", \" his\", \" time\", \",\", \" he\", \" had\", \" written\", \" around\", \" 150\", \" books\", \" on\", \" different\", \" aspects\", \" of\", \" religious\", \" and\", \" world\", \"ly\", \" matters\", \".\", \"\\n\", \"\\n\", \"Norm\", \"ally\", \" I\", \"bn\", \" Ul\", \" J\", \"au\", \"zi\", \" is\", \" famous\", \" as\", \" a\", \" scholar\", \" only\", \",\", \" but\", \" he\", \" also\", \" wrote\", \" some\", \" books\", \" which\", \" have\", \" got\", \" a\", \" lot\", \" of\", \" humor\", \" in\", \" them\", \".\", \" One\", \" of\", \" those\", \" hum\", \"orous\", \" black\", \" and\", \" white\", \" is\", \" \\u201c\", \"\\u0645\", \"\\u0646\", \" \\u0627\\ufffd\", \"\\ufffd\", \"\\u0628\", \"\\u0627\\u0631\", \" \\u0627\\u0644\\ufffd\", \"\\ufffd\", \"\\u0645\", \"\\u0642\", \"\\u06cc\", \" \\u0648\", \"\\u0627\\u0644\", \"\\u0645\", \"\\u063a\", \"\\u0641\", \"\\u0644\", \"\\u06cc\", \"\\u0646\", \"\\u201d\", \"\\n\", \"\\n\", \"He\", \" writes\", \" in\", \" this\", \" book\", \":\", \"\\n\", \"\\n\", \"An\", \" innocent\", \" man\", \" was\", \" going\", \" somewhere\", \" with\", \" his\", \" donkey\", \".\", \" A\", \" man\"], [\"Pages\", \"\\n\", \"\\n\", \"Wednesday\", \",\", \" July\", \" 26\", \",\", \" 2017\", \"\\n\", \"\\n\", \"F\", \"ear\", \"\\n\", \"\\n\", \"\\\"\", \"The\", \" Lord\", \",\", \" Himself\", \" will\", \" fight\", \" for\", \" you\", \".\", \" Just\", \" stay\", \" calm\", \".\\\"\", \" (\", \"Ex\", \"odus\", \" 14\", \":\", \"14\", \")\", \"It\", \"'s\", \" funny\", \" how\", \" fear\", \" can\", \" creep\", \" in\", \" at\", \" the\", \" most\", \" unexpected\", \" time\", \".\", \" I\", \"'m\", \" not\", \" talking\", \" about\", \" a\", \" fear\", \" of\", \" spiders\", \",\", \" mice\", \" or\", \" vel\", \"our\", \" pants\", \".\", \" I\", \"'m\", \" talking\", \" about\", \" disturbances\", \" that\", \" throw\", \" off\", \" your\", \" balance\", \".\", \"I\", \" have\", \" a\", \" fear\", \" of\", \" confrontation\", \".\", \" Isn\", \"'t\", \" that\", \" silly\", \"?\", \"A\", \" woman\"], [\"Rate\", \" this\", \":\", \"\\n\", \"\\n\", \"Im\", \"am\", \" I\", \"bn\", \" Ul\", \" J\", \"au\", \"zi\", \" Rh\", \".\", \"A\", \" was\", \" a\", \" great\", \" scholar\", \" of\", \" his\", \" time\", \",\", \" he\", \" had\", \" written\", \" around\", \" 150\", \" books\", \" on\", \" different\", \" aspects\", \" of\", \" religious\", \" and\", \" world\", \"ly\", \" matters\", \".\", \"\\n\", \"\\n\", \"Norm\", \"ally\", \" I\", \"bn\", \" Ul\", \" J\", \"au\", \"zi\", \" is\", \" famous\", \" as\", \" a\", \" scholar\", \" only\", \",\", \" but\", \" he\", \" also\", \" wrote\", \" some\", \" books\", \" which\", \" have\", \" got\", \" a\", \" lot\", \" of\", \" humor\", \" in\", \" them\", \".\", \" One\", \" of\", \" those\", \" hum\", \"orous\", \" black\", \" and\", \" white\", \" is\", \" \\u201c\", \"\\u0645\", \"\\u0646\", \" \\u0627\\ufffd\", \"\\ufffd\", \"\\u0628\", \"\\u0627\\u0631\", \" \\u0627\\u0644\\ufffd\", \"\\ufffd\", \"\\u0645\", \"\\u0642\", \"\\u06cc\", \" \\u0648\", \"\\u0627\\u0644\", \"\\u0645\", \"\\u063a\", \"\\u0641\", \"\\u0644\", \"\\u06cc\", \"\\u0646\", \"\\u201d\", \"\\n\", \"\\n\", \"He\", \" writes\", \" in\", \" this\", \" book\", \":\", \"\\n\", \"\\n\", \"An\", \" innocent\", \" man\"], [\"On\", \" the\", \" wall\", \" of\", \" the\", \" deputy\", \" Shin\", \" Bet\", \" head\", \"'s\", \" office\", \" there\", \"'s\", \" one\", \" picture\", \":\", \" An\", \" enlarged\", \" ID\", \" card\", \" with\", \" the\", \" photo\", \" of\", \" an\", \" elderly\", \" man\", \",\", \" sporting\", \" a\", \" white\", \" beard\", \".\", \" What\", \" does\", \" this\", \" man\", \" have\", \" to\", \" do\", \" with\", \" Nad\", \"av\", \" Arg\", \"aman\", \",\", \" who\", \" will\", \" take\", \" on\", \" the\", \" role\", \" of\", \" the\", \" head\", \" of\", \" the\", \" Shin\", \" Bet\", \" in\", \" May\", \"?\", \" The\", \" answer\", \" is\", \" known\", \" to\", \" only\", \" a\", \" handful\", \" of\", \" conf\", \"id\", \"ants\", \" in\", \" the\", \" organization\", \".\", \" The\", \" elegant\", \" old\", \" man\"], [\"On\", \" the\", \" wall\", \" of\", \" the\", \" deputy\", \" Shin\", \" Bet\", \" head\", \"'s\", \" office\", \" there\", \"'s\", \" one\", \" picture\", \":\", \" An\", \" enlarged\", \" ID\", \" card\", \" with\", \" the\", \" photo\", \" of\", \" an\", \" elderly\", \" man\"], [\"Get\", \" breaking\", \" news\", \" alerts\", \" and\", \" special\", \" reports\", \".\", \" The\", \" news\", \" and\", \" stories\", \" that\", \" matter\", \",\", \" delivered\", \" week\", \"day\", \" mornings\", \".\", \"\\n\", \"\\n\", \"Mal\", \"ays\", \"ian\", \" police\", \" on\", \" Wednesday\", \" named\", \" a\", \" North\", \" Korean\", \" embassy\", \" official\", \" as\", \" a\", \" person\", \" of\", \" interest\", \" in\", \" the\", \" airport\", \" murder\", \" of\", \" Kim\", \" Jong\", \" Un\", \"'s\", \" estr\", \"anged\", \" half\", \"-\", \"brother\", \".\", \"\\n\", \"\\n\", \"Royal\", \" Malaysia\", \" Police\", \" Inspector\", \" General\", \" Khal\", \"id\", \" Abu\", \" Bak\", \"ar\", \" said\", \" the\", \" embassy\", \" official\", \",\", \" identified\", \" as\", \" Hy\", \"on\", \" K\", \"wang\", \" Song\", \",\", \" holds\", \" the\", \" title\", \" of\", \" second\", \" secretary\", \".\", \" A\", \" Malaysia\", \"-\", \"based\", \" employee\"], [\"According\", \" to\", \" Phoenix\", \" police\", \" spokesman\", \" Sgt\", \".\", \" Trent\", \" Cr\", \"ump\", \",\", \" two\", \" officers\", \" were\", \" investigating\", \" a\", \" burglary\", \" complaint\", \" Tuesday\", \" evening\", \" (\", \"Dec\", \".\", \" 2\", \")\", \" when\", \" a\", \" resident\"], [\"Arm\", \"ed\", \" robbery\", \" suspects\", \" sought\", \" in\", \" Rolling\", \" Hills\", \" incident\", \"\\n\", \"\\n\", \"L\", \"OWER\", \" P\", \"OT\", \"TS\", \"GR\", \"OVE\", \" \\u2014\", \" Police\", \" are\", \" investigating\", \" a\", \" robbery\", \" in\", \" which\", \" two\", \" men\"], [\"wild\", \"ness\", \",\", \" wonder\", \",\", \" and\", \" the\", \" spirit\", \" of\", \" place\", \"\\n\", \"\\n\", \"Tag\", \" Archives\", \":\", \" Phoenix\", \"\\n\", \"\\n\", \"I\", \" am\", \" back\", \",\", \" pre\", \"-\", \"da\", \"wn\", \",\", \" scr\", \"ambling\", \" up\", \" a\", \" hot\", \" j\", \"umble\", \" of\", \" granite\", \" b\", \"ould\", \"ers\", \".\", \" Burn\", \"ing\", \" my\", \" hands\", \",\", \" then\", \" knees\", \",\", \" all\", \" to\", \" investigate\", \" sc\", \"at\", \",\", \" what\", \" appears\", \" to\", \" be\", \" a\", \" b\", \"usted\", \" lamp\", \" someone\", \" discarded\", \",\", \" a\", \" broken\", \" man\"], [\"Q\", \":\", \"\\n\", \"\\n\", \"M\", \"eno\", \"'s\", \" paradox\", \" -\", \" Did\", \" Socrates\", \" contradict\", \" himself\", \"?\", \"\\n\", \"\\n\", \"[\", \"Source\", \":]\", \" Men\", \"o\", \" then\", \" pro\", \"ff\", \"ers\", \" a\", \" paradox\", \":\", \" \\\"\", \"And\", \" how\", \" will\", \" you\", \" inquire\", \" into\", \" a\", \" thing\", \" when\", \" you\", \" are\", \" wholly\", \" ignorant\", \" of\", \" what\", \" it\", \" is\", \"?\", \" Even\", \" if\", \" you\", \" happen\", \" to\", \" bump\", \" right\", \" into\", \" it\", \",\", \" how\", \" will\", \" you\", \" know\", \" it\", \" is\", \" the\", \" thing\", \" you\", \" didn\", \"'t\", \" know\", \"?\\\"\", \" Socrates\", \" re\", \"ph\", \"r\", \"ases\", \" the\", \" question\", \",\", \" which\", \" has\", \" come\", \" to\", \" be\", \" the\", \" canonical\", \" statement\", \" of\", \" the\", \" paradox\", \":\", \" \\\"[\", \"A\", \"]\", \" man\"], [\"[\", \"A\", \" case\", \" of\", \" tub\", \"ercul\", \"ous\", \" aneurysm\", \" of\", \" sub\", \"cl\", \"avian\", \" artery\", \" occurred\", \" in\", \" the\", \" course\", \" of\", \" treatment\", \" for\", \" mil\", \"iary\", \" tuberculosis\", \"].\", \"\\n\", \"This\", \" case\", \" is\", \" a\", \" 56\", \"-\", \"year\", \" old\", \" woman\"], [\"Arm\", \"ed\", \" robbery\", \" suspects\", \" sought\", \" in\", \" Rolling\", \" Hills\", \" incident\", \"\\n\", \"\\n\", \"L\", \"OWER\", \" P\", \"OT\", \"TS\", \"GR\", \"OVE\", \" \\u2014\", \" Police\", \" are\", \" investigating\", \" a\", \" robbery\", \" in\", \" which\", \" two\", \" men\", \" reportedly\", \" pointed\", \" hand\", \"guns\", \" at\", \" their\", \" victims\", \" before\", \" stealing\", \" two\", \" cell\", \" phones\", \" Sunday\", \".\", \"\\n\", \"\\n\", \"Four\", \" people\"], [\"Get\", \" breaking\", \" news\", \" alerts\", \" and\", \" special\", \" reports\", \".\", \" The\", \" news\", \" and\", \" stories\", \" that\", \" matter\", \",\", \" delivered\", \" week\", \"day\", \" mornings\", \".\", \"\\n\", \"\\n\", \"Mal\", \"ays\", \"ian\", \" police\", \" on\", \" Wednesday\", \" named\", \" a\", \" North\", \" Korean\", \" embassy\", \" official\", \" as\", \" a\", \" person\"], [\"Our\", \" Story\", \"\\n\", \"\\n\", \"Our\", \" Mission\", \"\\n\", \"\\n\", \"National\", \" reach\", \" with\", \" local\", \" impact\", \".\", \" The\", \" mission\", \" of\", \" the\", \" M\", \"BA\", \" Op\", \"ens\", \" Do\", \"ors\", \" Foundation\", \" is\", \" to\", \" help\", \" vulnerable\", \" families\", \" with\", \" critically\", \" ill\", \" or\", \" injured\", \" children\", \" stay\", \" in\", \" their\", \" homes\", \" while\", \" a\", \" child\"], [\"S\", \"afety\", \" and\", \" delay\", \" time\", \" in\", \" pre\", \"hospital\", \" thromb\", \"olysis\", \" of\", \" acute\", \" myocardial\", \" infarction\", \" in\", \" urban\", \" and\", \" rural\", \" areas\", \" in\", \" Sweden\", \".\", \"\\n\", \"Six\", \"teen\", \" hospitals\", \" in\", \" Sweden\", \",\", \" including\", \" those\", \" in\", \" urban\", \" and\", \" more\", \" spars\", \"ely\", \" populated\", \" areas\", \",\", \" and\", \" the\", \" associated\", \" ambulance\", \" organizations\", \" were\", \" enrolled\", \" in\", \" a\", \" prospective\", \" evaluation\", \" of\", \" the\", \" feasibility\", \" of\", \" treating\", \" patients\", \" with\", \" a\", \" ST\", \"-\", \"ele\", \"vation\", \" infarction\", \" with\", \" a\", \" thromb\", \"olytic\", \" agent\", \" (\", \"re\", \"te\", \"pl\", \"ase\", \")\", \" before\", \" hospital\", \" admission\", \".\", \" A\", \" physician\"], [\"N\", \"ora\", \" He\", \"ys\", \"en\", \":\", \" A\", \" Port\", \"rait\", \"\\n\", \"\\n\", \"H\", \"ah\", \"nd\", \"orf\", \" artist\", \" N\", \"ora\", \" He\", \"ys\", \"en\", \" was\", \" the\", \" first\", \" woman\", \" to\", \" win\", \" the\", \" Arch\", \"ib\", \"ald\", \" Prize\", \",\", \" and\", \" Australia\", \"'s\", \" first\", \" female\", \" painter\", \" to\", \" be\", \" appointed\", \" as\", \" an\", \" official\", \" war\", \" artist\", \".\", \" A\", \" portrait\", \"ist\"], [\"Auth\", \"ored\", \" by\", \" Mac\", \" Sl\", \"avo\", \" via\", \" S\", \"HT\", \"F\", \"plan\", \".\", \"com\", \",\", \"\\n\", \"\\n\", \"A\", \" National\", \" Ge\", \"ographic\", \" photographer\"], [\"Recent\", \" News\", \"\\n\", \"\\n\", \"NEW\", \" YORK\", \"\\u2014\", \"St\", \"ressing\", \" that\", \" the\", \" league\", \" will\", \" take\", \" a\", \" hard\", \"-\", \"line\", \" stance\", \" when\", \" enforcing\", \" its\", \" policy\", \" for\", \" on\", \"-\", \"field\", \" conduct\", \",\", \" NFL\", \" commissioner\", \" Roger\", \" Good\", \"ell\", \" announced\", \" plans\", \" Thursday\", \" to\", \" curb\", \" any\", \" prolonged\", \" or\", \" excessive\", \" touchdown\", \" celebrations\", \" by\", \" removing\", \" the\", \" areas\", \" of\", \" players\", \"\\u2019\", \" brains\", \" responsible\", \" for\", \" emotions\", \".\", \"\\n\", \"\\n\", \"S\", \"AR\", \"AT\", \"O\", \"GA\", \" SPR\", \"INGS\", \",\", \" NY\", \"\\u2014\", \"Sp\", \"urn\", \"ing\", \" his\", \" deepest\", \" and\", \" most\", \" ar\", \"dent\", \" desires\", \",\", \" local\", \" man\", \" Mark\", \" Werner\", \" reportedly\", \" betrayed\", \" his\", \" heart\", \" Thursday\", \" by\", \" telling\", \" a\", \" friend\"], [\"J\", \"ER\", \"SE\", \"Y\", \" CITY\", \",\", \" N\", \".\", \"J\", \".\", \" (\", \"AP\", \")\", \" \\u2014\", \" A\", \" New\", \" Jersey\", \" man\", \" has\", \" been\", \" sentenced\", \" to\", \" 106\", \" years\", \" in\", \" prison\", \" in\", \" the\", \" murder\", \" of\", \" an\", \" elderly\", \" neighbor\"], [\"W\", \"ASHINGTON\", \",\", \" Oct\", \".\", \" 3\", \",\", \" 2016\", \" /\", \"PR\", \"New\", \"sw\", \"ire\", \"-\", \"US\", \"New\", \"sw\", \"ire\", \"/\", \" --\", \" Two\", \" letters\", \" from\", \" a\", \" bipartisan\", \" group\", \" of\", \" 11\", \" U\", \".\", \"S\", \".\", \" Senators\", \" \\u2013\", \" including\", \" Bernie\", \" Sanders\", \" (\", \"I\", \"-\", \"VT\", \")\", \" and\", \" Or\", \"rin\", \" H\", \"atch\", \" (\", \"R\", \"-\", \"UT\", \")\", \" \\u2013\", \" are\", \" urging\", \" the\", \" U\", \".\", \"S\", \".\", \" Drug\", \" Enforcement\", \" Administration\", \" (\", \"DE\", \"A\", \")\", \" to\", \" halt\", \" a\", \" proposed\", \" ban\", \" on\", \" the\", \" natural\", \" coffee\", \"-\", \"like\", \" herb\", \" k\", \"rat\", \"om\", \" and\", \" to\", \" allow\", \" for\", \" expert\", \" and\", \" public\", \" input\", \".\", \"\\n\", \"\\n\", \"One\", \" letter\"], [\"According\", \" to\", \" Phoenix\", \" police\", \" spokesman\", \" Sgt\", \".\", \" Trent\", \" Cr\", \"ump\", \",\", \" two\", \" officers\"], [\"wild\", \"ness\", \",\", \" wonder\", \",\", \" and\", \" the\", \" spirit\", \" of\", \" place\", \"\\n\", \"\\n\", \"Tag\", \" Archives\", \":\", \" Phoenix\", \"\\n\", \"\\n\", \"I\", \" am\", \" back\", \",\", \" pre\", \"-\", \"da\", \"wn\", \",\", \" scr\", \"ambling\", \" up\", \" a\", \" hot\", \" j\", \"umble\", \" of\", \" granite\", \" b\", \"ould\", \"ers\", \".\", \" Burn\", \"ing\", \" my\", \" hands\", \",\", \" then\", \" knees\", \",\", \" all\", \" to\", \" investigate\", \" sc\", \"at\", \",\", \" what\", \" appears\", \" to\", \" be\", \" a\", \" b\", \"usted\", \" lamp\", \" someone\"], [\"On\", \" the\", \" wall\", \" of\", \" the\", \" deputy\", \" Shin\", \" Bet\", \" head\", \"'s\", \" office\", \" there\", \"'s\", \" one\", \" picture\", \":\", \" An\", \" enlarged\", \" ID\", \" card\", \" with\", \" the\", \" photo\", \" of\", \" an\", \" elderly\", \" man\", \",\", \" sporting\", \" a\", \" white\", \" beard\", \".\", \" What\", \" does\", \" this\", \" man\", \" have\", \" to\", \" do\", \" with\", \" Nad\", \"av\", \" Arg\", \"aman\", \",\", \" who\", \" will\", \" take\", \" on\", \" the\", \" role\", \" of\", \" the\", \" head\", \" of\", \" the\", \" Shin\", \" Bet\", \" in\", \" May\", \"?\", \" The\", \" answer\", \" is\", \" known\", \" to\", \" only\", \" a\", \" handful\", \" of\", \" conf\", \"id\", \"ants\", \" in\", \" the\", \" organization\", \".\", \" The\", \" elegant\", \" old\", \" man\", \" and\", \" Nad\", \"av\", \" Arg\", \"aman\", \" are\", \" one\", \" and\", \" the\", \" same\", \".\", \" This\", \" is\", \" the\", \" same\", \" man\"], [\"<|endoftext|>\", \"<|endoftext|>\", \"<|endoftext|>\", \"<|endoftext|>\", \"<|endoftext|>\", \"<|endoftext|>\", \"<|endoftext|>\", \"<|endoftext|>\", \"<|endoftext|>\", \"<|endoftext|>\", \"<|endoftext|>\", \"<|endoftext|>\", \"<|endoftext|>\", \"<|endoftext|>\", \"<|endoftext|>\", \"<|endoftext|>\", \"<|endoftext|>\", \"<|endoftext|>\", \"<|endoftext|>\", \"<|endoftext|>\", \"<|endoftext|>\", \"<|endoftext|>\", \"<|endoftext|>\", \"<|endoftext|>\", \"<|endoftext|>\", \"<|endoftext|>\", \"<|endoftext|>\", \"<|endoftext|>\", \"<|endoftext|>\", \"<|endoftext|>\", \"<|endoftext|>\", \"<|endoftext|>\", \"<|endoftext|>\", \"<|endoftext|>\", \"<|endoftext|>\", \"<|endoftext|>\", \"<|endoftext|>\", \"<|endoftext|>\", \"<|endoftext|>\", \"<|endoftext|>\", \"<|endoftext|>\", \"<|endoftext|>\", \"<|endoftext|>\", \"<|endoftext|>\", \"<|endoftext|>\", \"<|endoftext|>\", \"<|endoftext|>\", \"<|endoftext|>\", \"<|endoftext|>\", \"<|endoftext|>\", \"<|endoftext|>\", \"<|endoftext|>\", \"<|endoftext|>\", \"<|endoftext|>\", \"<|endoftext|>\", \"Att\", \"orney\", \" Paul\", \" I\", \"ann\", \"acc\", \"one\", \" reached\", \" a\", \" settlement\", \" on\", \" behalf\", \" of\", \" an\", \" 82\", \" year\", \" old\", \" woman\"], [\"cn\", \"x\", \"ps\", \".\", \"cmd\", \".\", \"push\", \"(\", \"function\", \" ()\", \" {\", \" c\", \"nx\", \"ps\", \"({\", \" player\", \"Id\", \":\", \" '\", \"36\", \"af\", \"7\", \"c\", \"51\", \"-\", \"0\", \"c\", \"af\", \"-\", \"47\", \"41\", \"-\", \"98\", \"24\", \"-\", \"2\", \"c\", \"9\", \"41\", \"fc\", \"6\", \"c\", \"17\", \"b\", \"'\", \" }).\", \"render\", \"('\", \"4\", \"c\", \"4\", \"d\", \"856\", \"e\", \"0\", \"e\", \"6\", \"f\", \"4\", \"e\", \"3\", \"d\", \"808\", \"bb\", \"c\", \"17\", \"15\", \"e\", \"132\", \"f\", \"6\", \"');\", \" });\", \"\\n\", \"\\n\", \"L\", \"OND\", \"ON\", \" \\u2013\", \" A\", \" Ram\", \"at\", \"-\", \"G\", \"an\", \" based\", \" start\", \"-\", \"up\"], [\"F\", \"ord\", \" Open\", \" Prison\", \" riot\", \":\", \" Bre\", \"ath\", \" test\", \" '\", \"trig\", \"gered\", \"'\", \" prison\", \" riot\", \" Published\", \" duration\", \" 30\", \" November\", \" 2012\", \"\\n\", \"\\n\", \"image\", \" caption\", \" The\", \" Ford\", \" Open\", \" Prison\", \" riot\", \" caused\", \" damage\", \" which\", \" cost\", \" \\u00a3\", \"5\", \"m\", \" to\", \" repair\", \"\\n\", \"\\n\", \"A\", \" prison\", \" riot\"], [\"Ot\", \"to\", \" von\", \" B\", \"ress\", \"ens\", \"dor\", \"f\", \"\\n\", \"\\n\", \"O\", \"tt\", \"one\", \" Eug\", \"eno\", \" Cam\", \"el\", \"io\", \" B\", \"ress\", \"el\", \"au\", \",\", \" who\", \" claimed\", \" to\", \" be\", \" Otto\", \" von\", \" B\", \"ress\", \"ens\", \"dor\", \"f\", \",\", \" was\", \" a\", \" German\", \"-\", \"born\", \" fraud\", \"ster\"]], \"activations\": [[[[0.0]], [[0.0]], [[0.0]], [[0.0]], [[0.0]], [[0.0]], [[0.0]], [[0.0]], [[0.0]], [[0.0]], [[0.0]], [[0.0]], [[0.0]], [[0.0]], [[0.0]], [[0.0]], [[0.0]], [[5.356115341186523]]], [[[0.0]], [[0.0]], [[0.0]], [[0.0]], [[0.0]], [[0.0]], [[0.0]], [[0.0]], [[0.0]], [[0.0]], [[0.0]], [[0.0]], [[0.0]], [[0.0]], [[0.0]], [[0.0]], [[0.0]], [[0.0]], [[0.0]], [[0.0]], [[0.0]], [[0.15597081184387207]], [[0.0]], [[0.0]], [[0.0]], [[0.0]], [[0.4937964677810669]], [[0.0]], [[0.0]], [[0.0]], [[0.0]], [[0.0]], [[0.0]], [[0.0]], [[0.0]], [[0.0]], [[0.0]], [[0.0]], [[0.0]], [[0.0]], [[0.0]], [[0.0]], [[0.0]], [[5.3371758460998535]]], [[[0.0]], [[0.0]], [[0.0]], [[0.0]], [[0.0]], [[0.0]], [[0.0]], [[0.0]], [[0.0]], [[0.0]], [[0.0]], [[0.0]], [[0.0]], [[0.0]], [[0.0]], [[0.0]], [[0.0]], [[0.0]], [[0.0]], [[0.0]], [[0.0]], [[0.0]], [[0.0]], [[0.0]], [[0.0]], [[0.0]], [[0.0]], [[0.0]], [[0.0]], [[0.0]], [[0.0]], [[0.0]], [[0.0]], [[0.0]], [[0.0]], [[0.0]], [[0.0]], [[0.0]], [[0.0]], [[0.0]], [[0.0]], [[0.0]], [[0.8280037641525269]], [[5.076600074768066]]], [[[0.0]], [[0.0]], [[0.0]], [[0.0]], [[0.0]], [[0.0]], [[0.0]], [[0.0]], [[0.0]], [[0.0]], [[0.0]], [[0.0]], [[0.0]], [[0.0]], [[0.0]], [[0.0]], [[0.0]], [[0.0]], [[0.0]], [[0.0]], [[0.0]], [[0.0]], [[0.0]], [[0.0]], [[0.0]], [[0.0]], [[0.0]], [[0.0]], [[0.0]], [[0.0]], [[0.0]], [[0.0]], [[0.0]], [[0.0]], [[0.0]], [[0.0]], [[0.0]], [[0.0]], [[0.0]], [[0.0]], [[0.0]], [[0.0]], [[0.0]], [[0.0]], [[0.0]], [[0.0]], [[0.0]], [[0.0]], [[0.0]], [[0.0]], [[0.0]], [[0.0]], [[0.0]], [[0.0]], [[0.0]], [[0.0]], [[0.0]], [[0.0]], [[0.0]], [[0.0]], [[0.0]], [[0.0]], [[0.0]], [[0.0]], [[0.0]], [[0.0]], [[0.0]], [[0.0]], [[0.0]], [[0.0]], [[0.0]], [[0.0]], [[0.0]], [[0.30479001998901367]], [[0.0]], [[0.0]], [[0.0]], [[0.0]], [[0.0]], [[0.0]], [[0.0]], [[0.0]], [[0.0]], [[0.0]], [[0.0]], [[0.0]], [[0.0]], [[0.0]], [[0.0]], [[0.0]], [[0.0]], [[0.0]], [[0.0]], [[0.0]], [[0.0]], [[0.0]], [[0.0]], [[0.0]], [[0.0]], [[0.0]], [[0.0]], [[0.0]], [[0.0]], [[0.0]], [[0.0]], [[0.0]], [[0.0]], [[0.0]], [[0.0]], [[0.0]], [[0.0]], [[0.0]], [[0.0]], [[0.0]], [[0.0]], [[3.978968620300293]], [[0.0]], [[0.0]], [[0.0]], [[0.0]], [[0.0]], [[0.0]], [[0.0]], [[0.0]], [[4.8799543380737305]]], [[[0.0]], [[0.0]], [[0.0]], [[0.0]], [[0.0]], [[0.0]], [[0.0]], [[0.0]], [[0.0]], [[0.0]], [[0.0]], [[0.0]], [[0.0]], [[0.0]], [[0.0]], [[0.0]], [[0.0]], [[0.0]], [[0.0]], [[0.0]], [[0.0]], [[0.0]], [[0.0]], [[0.0]], [[0.0]], [[0.0]], [[0.0]], [[0.0]], [[0.0]], [[0.0]], [[0.0]], [[0.0]], [[0.0]], [[0.0]], [[0.0]], [[0.0]], [[0.0]], [[0.0]], [[0.0]], [[0.0]], [[0.0]], [[0.0]], [[0.0]], [[0.0]], [[0.0]], [[0.0]], [[0.0]], [[0.0]], [[0.0]], [[0.0]], [[0.0]], [[0.0]], [[0.0]], [[0.0]], [[0.0]], [[0.0]], [[0.0]], [[0.0]], [[0.0]], [[0.0]], [[0.0]], [[0.0]], [[0.0]], [[0.0]], [[0.0]], [[0.0]], [[0.0]], [[0.0]], [[0.0]], [[0.0]], [[0.0]], [[0.0]], [[0.0]], [[0.0]], [[0.0]], [[0.0]], [[0.0]], [[0.0]], [[0.0]], [[0.0]], [[0.0]], [[0.0]], [[0.0]], [[0.0]], [[0.0]], [[0.0]], [[0.0]], [[0.0]], [[0.0]], [[0.0]], [[4.764212608337402]]], [[[0.0]], [[0.0]], [[0.0]], [[0.0]], [[0.0]], [[0.0]], [[0.0]], [[0.0]], [[0.0]], [[0.0]], [[0.0]], [[0.0]], [[0.0]], [[0.0]], [[0.0]], [[0.0]], [[0.0]], [[0.0]], [[0.0]], [[0.0]], [[0.0]], [[0.0]], [[0.0]], [[0.0]], [[0.0]], [[0.0]], [[0.0]], [[0.0]], [[0.0]], [[0.0]], [[0.0]], [[0.0]], [[0.0]], [[0.0]], [[0.0]], [[0.0]], [[0.0]], [[0.0]], [[0.0]], [[0.0]], [[0.0]], [[0.0]], [[0.0]], [[0.0]], [[0.0]], [[0.0]], [[0.0]], [[0.0]], [[0.0]], [[0.0]], [[0.0]], [[0.0]], [[0.0]], [[0.0]], [[0.0]], [[0.0]], [[0.0]], [[0.0]], [[0.0]], [[0.0]], [[0.0]], [[0.0]], [[0.0]], [[0.0]], [[0.0]], [[0.0]], [[0.0]], [[0.0]], [[0.0]], [[0.0]], [[0.0]], [[0.0]], [[0.0]], [[0.30479001998901367]], [[0.0]], [[0.0]], [[0.0]], [[0.0]], [[0.0]], [[0.0]], [[0.0]], [[0.0]], [[0.0]], [[0.0]], [[0.0]], [[0.0]], [[0.0]], [[0.0]], [[0.0]], [[0.0]], [[0.0]], [[0.0]], [[0.0]], [[0.0]], [[0.0]], [[0.0]], [[0.0]], [[0.0]], [[0.0]], [[0.0]], [[0.0]], [[0.0]], [[0.0]], [[0.0]], [[0.0]], [[0.0]], [[0.0]], [[0.0]], [[0.0]], [[0.0]], [[0.0]], [[0.0]], [[0.0]], [[0.0]], [[0.0]], [[3.978968620300293]]], [[[0.0]], [[0.0]], [[0.0]], [[0.0]], [[0.0]], [[0.0]], [[0.0]], [[0.0]], [[0.0]], [[0.0]], [[0.0]], [[0.0]], [[0.0]], [[0.21163427829742432]], [[1.0367296934127808]], [[0.0]], [[0.0]], [[0.0]], [[0.0]], [[1.5547236204147339]], [[0.0]], [[0.0]], [[0.0]], [[0.0]], [[0.691014289855957]], [[1.1522578001022339]], [[3.6855058670043945]], [[0.7011216878890991]], [[0.0]], [[0.0]], [[0.05733823776245117]], [[0.7114546298980713]], [[0.0]], [[0.0]], [[0.0]], [[0.0]], [[0.0]], [[0.0]], [[0.0]], [[0.0]], [[0.0]], [[0.0]], [[0.0]], [[0.0]], [[0.0]], [[0.0]], [[0.4549452066421509]], [[0.0]], [[0.0]], [[0.0]], [[0.0]], [[0.0]], [[0.0]], [[0.0]], [[0.0]], [[0.0]], [[0.0]], [[0.0]], [[0.0]], [[0.0]], [[0.0]], [[0.0]], [[0.0]], [[0.0]], [[0.0]], [[0.0]], [[0.0]], [[0.0]], [[0.0]], [[0.0]], [[0.0]], [[0.0]], [[0.0]], [[0.4997469186782837]], [[0.0]], [[0.0]], [[0.0]], [[0.0]], [[0.0]], [[0.0]], [[0.0]], [[3.6914877891540527]]], [[[0.0]], [[0.0]], [[0.0]], [[0.0]], [[0.0]], [[0.0]], [[0.0]], [[0.0]], [[0.0]], [[0.0]], [[0.0]], [[0.0]], [[0.0]], [[0.21163427829742432]], [[1.0367296934127808]], [[0.0]], [[0.0]], [[0.0]], [[0.0]], [[1.5547236204147339]], [[0.0]], [[0.0]], [[0.0]], [[0.0]], [[0.691014289855957]], [[1.1522578001022339]], [[3.6855058670043945]]], [[[0.0]], [[0.0]], [[0.0]], [[0.0]], [[0.0]], [[0.0]], [[0.0]], [[0.0]], [[0.0]], [[0.0]], [[0.0]], [[0.0]], [[0.0]], [[0.0]], [[0.0]], [[0.0]], [[0.0]], [[0.0]], [[0.0]], [[0.0]], [[0.0]], [[0.0]], [[0.0]], [[0.0]], [[0.0]], [[0.0]], [[0.0]], [[0.0]], [[0.0]], [[0.0]], [[0.0]], [[0.0]], [[0.4302043914794922]], [[1.3844112157821655]], [[0.0]], [[0.0]], [[2.4660873413085938]], [[0.0]], [[0.01130819320678711]], [[0.0]], [[0.0]], [[0.0]], [[0.0]], [[0.0]], [[0.0]], [[0.0]], [[0.0]], [[0.0]], [[0.0]], [[0.0]], [[0.0]], [[0.0]], [[0.5792063474655151]], [[0.0]], [[0.0]], [[0.0]], [[0.0]], [[0.0]], [[0.0]], [[0.0]], [[0.0]], [[0.0]], [[0.0]], [[0.0]], [[0.0]], [[0.0]], [[0.0]], [[0.0]], [[0.0]], [[1.1152483224868774]], [[0.0]], [[0.0]], [[0.0]], [[0.0]], [[0.0]], [[0.0]], [[0.0]], [[0.0]], [[0.19620442390441895]], [[0.0]], [[0.0]], [[0.0]], [[0.0]], [[0.0]], [[0.4588634967803955]], [[0.0]], [[0.0]], [[0.0]], [[0.0]], [[0.0]], [[3.67557954788208]]], [[[0.0]], [[0.0]], [[0.0]], [[0.0]], [[0.0]], [[0.0]], [[0.0]], [[0.0]], [[0.0]], [[0.0]], [[0.0]], [[0.015025973320007324]], [[1.997780680656433]], [[0.0]], [[0.0]], [[0.0]], [[0.0]], [[0.0]], [[0.0]], [[0.0]], [[0.0]], [[0.0]], [[0.0]], [[0.0]], [[0.0]], [[0.0]], [[0.0]], [[3.5589399337768555]]], [[[0.0]], [[0.0]], [[0.0]], [[0.0]], [[0.0]], [[0.0]], [[0.0]], [[0.0]], [[0.0]], [[0.0]], [[0.0]], [[0.0]], [[0.0]], [[0.0]], [[0.0]], [[0.0]], [[0.0]], [[0.0]], [[0.0]], [[0.0]], [[0.0]], [[0.0]], [[0.0]], [[0.0]], [[0.0]], [[0.0]], [[0.0]], [[3.4456067085266113]]], [[[0.0]], [[0.0]], [[0.0]], [[0.0]], [[0.0]], [[0.0]], [[0.0]], [[0.0]], [[0.0]], [[0.0]], [[0.0]], [[0.0]], [[0.0]], [[0.0]], [[0.0]], [[0.0]], [[0.0]], [[0.0]], [[0.0]], [[0.0]], [[0.0]], [[0.0]], [[0.0]], [[0.0]], [[0.0]], [[0.0]], [[0.0]], [[0.0]], [[0.0]], [[0.0]], [[0.0]], [[0.0]], [[0.0]], [[0.0]], [[0.0]], [[0.0]], [[0.0]], [[0.0]], [[0.0]], [[0.0]], [[0.0]], [[0.0]], [[0.0]], [[0.0]], [[0.0]], [[0.0]], [[0.0]], [[0.0]], [[0.0]], [[0.0]], [[0.0]], [[0.0]], [[0.0]], [[0.0]], [[0.0]], [[0.0]], [[0.0]], [[0.0]], [[0.0]], [[0.0]], [[0.0]], [[0.043631672859191895]], [[1.9945355653762817]], [[0.0]], [[0.0]], [[0.0]], [[0.0]], [[2.8464431762695312]]], [[[0.0]], [[0.0]], [[0.0]], [[0.0]], [[0.0]], [[0.0]], [[0.0]], [[0.0]], [[0.0]], [[0.0]], [[0.0]], [[0.0]], [[0.0]], [[0.0]], [[0.0]], [[0.0]], [[0.0]], [[0.0]], [[0.0]], [[0.0]], [[0.0]], [[0.0]], [[0.0]], [[0.0]], [[0.0]], [[0.0]], [[0.0]], [[0.0]], [[0.0]], [[0.0]], [[0.0]], [[0.0]], [[0.0]], [[0.0]], [[0.0]], [[0.0]], [[0.0]], [[0.0]], [[0.0]], [[0.0]], [[0.0]], [[0.0]], [[0.0]], [[0.0]], [[0.0]], [[0.0]], [[0.0]], [[0.0]], [[0.0]], [[0.0]], [[0.0]], [[0.0]], [[0.0]], [[0.0]], [[0.0]], [[0.0]], [[0.0]], [[0.0]], [[0.0]], [[0.0]], [[0.0]], [[0.0]], [[0.0]], [[0.0]], [[0.0]], [[0.0]], [[0.0]], [[0.0]], [[0.0]], [[0.0]], [[0.0]], [[0.0]], [[0.0]], [[0.0]], [[0.0]], [[0.0]], [[0.0]], [[0.0]], [[0.0]], [[0.0]], [[0.0]], [[0.0]], [[0.0]], [[0.0]], [[0.0]], [[0.0]], [[0.0]], [[0.0]], [[0.0]], [[0.0]], [[0.0]], [[0.0]], [[0.0]], [[2.772613048553467]]], [[[0.0]], [[0.0]], [[0.0]], [[0.0]], [[0.0]], [[0.0]], [[0.0]], [[0.0]], [[0.0]], [[0.0]], [[0.0]], [[0.0]], [[0.0]], [[0.0]], [[0.0]], [[0.0]], [[0.0]], [[0.0]], [[0.0]], [[0.0]], [[0.0]], [[0.0]], [[0.0]], [[0.0]], [[0.0]], [[0.0]], [[0.0]], [[0.0]], [[0.0]], [[0.0]], [[0.0]], [[0.0]], [[0.0]], [[2.6308512687683105]]], [[[0.0]], [[0.0]], [[0.0]], [[0.0]], [[0.0]], [[0.0]], [[0.0]], [[0.0]], [[0.0]], [[0.0]], [[0.0]], [[0.0]], [[0.0]], [[0.0]], [[0.0]], [[0.0]], [[0.0]], [[0.0]], [[0.0]], [[0.0]], [[0.0]], [[0.0]], [[0.0]], [[0.0]], [[0.0]], [[0.0]], [[0.0]], [[3.4456067085266113]], [[0.4429473876953125]], [[0.0]], [[0.0]], [[0.0]], [[0.0]], [[0.0]], [[0.0]], [[0.0]], [[0.0]], [[0.0]], [[0.0]], [[0.051809072494506836]], [[0.0]], [[0.0]], [[0.0]], [[0.0]], [[0.0]], [[2.5755176544189453]]], [[[0.0]], [[0.0]], [[0.0]], [[0.0]], [[0.0]], [[0.0]], [[0.0]], [[0.0]], [[0.0]], [[0.0]], [[0.0]], [[0.0]], [[0.0]], [[0.0]], [[0.0]], [[0.0]], [[0.0]], [[0.0]], [[0.0]], [[0.0]], [[0.0]], [[0.0]], [[0.0]], [[0.0]], [[0.0]], [[0.0]], [[0.0]], [[0.0]], [[0.0]], [[0.0]], [[0.0]], [[0.0]], [[0.4302043914794922]], [[1.3844112157821655]], [[0.0]], [[0.0]], [[2.4660873413085938]]], [[[0.0]], [[0.0]], [[0.0]], [[0.0]], [[0.0]], [[0.0]], [[0.0]], [[0.0]], [[0.0]], [[0.0]], [[0.0]], [[0.0]], [[0.0]], [[0.0]], [[0.0]], [[0.0]], [[0.0]], [[0.0]], [[0.0]], [[0.0]], [[0.0]], [[0.0]], [[0.0]], [[0.0]], [[0.0]], [[0.0]], [[0.0]], [[0.0]], [[0.0]], [[0.0]], [[0.0]], [[0.0]], [[0.0]], [[0.0]], [[0.0]], [[0.0]], [[0.0]], [[0.0]], [[0.0]], [[0.0]], [[0.0]], [[0.0]], [[2.3769712448120117]]], [[[0.0]], [[0.0]], [[0.0]], [[0.0]], [[0.0]], [[0.0]], [[0.0]], [[0.0]], [[0.0]], [[0.0]], [[0.0]], [[0.0]], [[0.0]], [[0.0]], [[0.0]], [[0.0]], [[0.0]], [[0.0]], [[0.0]], [[0.0]], [[0.0]], [[0.0]], [[0.0]], [[0.0]], [[0.0]], [[0.0]], [[0.0]], [[0.0]], [[0.0]], [[0.0]], [[0.0]], [[0.0]], [[0.0]], [[0.0]], [[0.0]], [[0.0]], [[0.0]], [[0.0]], [[0.0]], [[0.0]], [[0.0]], [[0.0]], [[0.0]], [[0.0]], [[0.0]], [[0.0]], [[0.0]], [[0.0]], [[0.0]], [[0.0]], [[0.0]], [[0.0]], [[0.0]], [[0.0]], [[0.0]], [[0.0]], [[0.0]], [[0.0]], [[0.0]], [[0.0]], [[0.0]], [[0.0]], [[0.0]], [[0.0]], [[0.0]], [[0.0]], [[0.0]], [[0.0]], [[0.0]], [[0.0]], [[0.0]], [[0.0]], [[0.0]], [[0.0]], [[0.0]], [[0.0]], [[0.0]], [[0.0]], [[0.0]], [[0.0]], [[2.3337039947509766]]], [[[0.0]], [[0.0]], [[0.0]], [[0.0]], [[0.0]], [[0.0]], [[0.0]], [[0.0]], [[0.0]], [[0.0]], [[0.0]], [[0.0]], [[0.0]], [[0.0]], [[0.0]], [[0.0]], [[0.0]], [[0.0]], [[0.0]], [[0.0]], [[0.0]], [[0.0]], [[0.0]], [[0.0]], [[1.0820666551589966]], [[0.0]], [[0.0]], [[0.0]], [[0.0]], [[0.0]], [[0.0]], [[0.0]], [[0.0]], [[0.0]], [[0.0]], [[0.0]], [[0.0]], [[0.0]], [[0.0]], [[0.0]], [[0.0]], [[0.0]], [[0.0]], [[0.0]], [[0.0]], [[0.0]], [[0.0]], [[0.0]], [[0.0]], [[0.7756451368331909]], [[2.2820935249328613]]], [[[0.0]], [[0.0]], [[0.0]], [[0.0]], [[0.0]], [[0.0]], [[0.0]], [[0.0]], [[0.0]], [[0.0]], [[0.0]], [[0.0]], [[0.0]], [[0.0]], [[0.0]], [[0.0]], [[0.0]], [[0.0]], [[0.0]], [[0.0]], [[2.218331813812256]]], [[[0.0]], [[0.0]], [[0.0]], [[0.0]], [[0.0]], [[0.0]], [[0.0]], [[0.0]], [[0.0]], [[0.0]], [[0.0]], [[0.0]], [[0.0]], [[0.0]], [[0.0]], [[0.0]], [[0.0]], [[0.0]], [[0.0]], [[0.0]], [[0.0]], [[0.0]], [[0.0]], [[0.0]], [[0.0]], [[0.0]], [[0.0]], [[0.0]], [[0.0]], [[0.0]], [[0.0]], [[0.0]], [[0.0]], [[0.0]], [[0.0]], [[0.0]], [[0.0]], [[0.0]], [[0.0]], [[0.0]], [[0.0]], [[0.0]], [[0.0]], [[0.0]], [[0.0]], [[0.0]], [[0.0]], [[0.0]], [[0.0]], [[0.0]], [[0.0]], [[0.0]], [[0.0]], [[0.0]], [[0.0]], [[0.0]], [[0.0]], [[0.0]], [[0.0]], [[0.0]], [[0.0]], [[0.0]], [[0.0]], [[0.0]], [[0.0]], [[0.0]], [[0.0]], [[0.0]], [[0.0]], [[0.0]], [[0.0]], [[0.0]], [[0.0]], [[0.0]], [[0.0]], [[0.0]], [[0.0]], [[0.0]], [[0.0]], [[0.0]], [[0.0]], [[0.22423207759857178]], [[0.0]], [[0.0]], [[0.18052315711975098]], [[0.0]], [[0.0]], [[0.0]], [[0.0]], [[0.0]], [[0.0]], [[0.0]], [[2.185662269592285]]], [[[0.0]], [[0.0]], [[0.0]], [[0.0]], [[0.0]], [[0.0]], [[0.0]], [[0.0]], [[0.0]], [[0.0]], [[0.0]], [[0.0]], [[0.0]], [[0.0]], [[0.0]], [[0.0]], [[0.0]], [[5.356115341186523]], [[0.0]], [[0.0]], [[0.0]], [[0.0]], [[0.0]], [[0.0]], [[0.0]], [[0.0]], [[0.0]], [[0.0]], [[0.0]], [[0.0]], [[0.0]], [[0.5321518182754517]], [[2.158235549926758]]], [[[0.0]], [[0.0]], [[0.0]], [[0.0]], [[0.0]], [[0.0]], [[0.0]], [[0.0]], [[0.0]], [[0.0]], [[0.0]], [[0.0]], [[0.0]], [[0.0]], [[0.0]], [[0.0]], [[0.0]], [[0.0]], [[0.0]], [[0.0]], [[0.0]], [[0.04763340950012207]], [[0.0]], [[0.0]], [[0.0]], [[0.3096994161605835]], [[0.0]], [[0.0]], [[0.0]], [[0.0]], [[0.0]], [[0.0]], [[0.0]], [[0.0]], [[0.0]], [[0.0]], [[0.0]], [[0.0]], [[0.0]], [[0.0]], [[0.0]], [[0.0]], [[0.0]], [[0.0]], [[0.0]], [[0.0]], [[0.0]], [[0.0]], [[0.0]], [[0.0]], [[0.0]], [[0.0]], [[0.0]], [[0.0]], [[0.0]], [[0.0]], [[0.0]], [[0.0]], [[0.0]], [[0.0]], [[0.0]], [[0.0]], [[0.0]], [[0.0]], [[0.0]], [[0.0]], [[0.0]], [[0.0]], [[0.0]], [[0.0]], [[0.0]], [[0.0]], [[0.0]], [[0.0]], [[0.0]], [[0.0]], [[0.0]], [[0.0]], [[0.0]], [[0.0]], [[0.0]], [[0.0]], [[0.0]], [[0.0]], [[0.0]], [[0.0]], [[0.0]], [[0.0]], [[0.0]], [[0.0]], [[0.0]], [[0.0]], [[0.0]], [[0.35796117782592773]], [[2.142970085144043]]], [[[0.0]], [[0.0]], [[0.0]], [[0.0]], [[0.0]], [[0.0]], [[0.0]], [[0.0]], [[0.0]], [[0.0]], [[0.0]], [[0.015025973320007324]], [[1.997780680656433]]], [[[0.0]], [[0.0]], [[0.0]], [[0.0]], [[0.0]], [[0.0]], [[0.0]], [[0.0]], [[0.0]], [[0.0]], [[0.0]], [[0.0]], [[0.0]], [[0.0]], [[0.0]], [[0.0]], [[0.0]], [[0.0]], [[0.0]], [[0.0]], [[0.0]], [[0.0]], [[0.0]], [[0.0]], [[0.0]], [[0.0]], [[0.0]], [[0.0]], [[0.0]], [[0.0]], [[0.0]], [[0.0]], [[0.0]], [[0.0]], [[0.0]], [[0.0]], [[0.0]], [[0.0]], [[0.0]], [[0.0]], [[0.0]], [[0.0]], [[0.0]], [[0.0]], [[0.0]], [[0.0]], [[0.0]], [[0.0]], [[0.0]], [[0.0]], [[0.0]], [[0.0]], [[0.0]], [[0.0]], [[0.0]], [[0.0]], [[0.0]], [[0.0]], [[0.0]], [[0.0]], [[0.0]], [[0.043631672859191895]], [[1.9945355653762817]]], [[[0.0]], [[0.0]], [[0.0]], [[0.0]], [[0.0]], [[0.0]], [[0.0]], [[0.0]], [[0.0]], [[0.0]], [[0.0]], [[0.0]], [[0.0]], [[0.21163427829742432]], [[1.0367296934127808]], [[0.0]], [[0.0]], [[0.0]], [[0.0]], [[1.5547236204147339]], [[0.0]], [[0.0]], [[0.0]], [[0.0]], [[0.691014289855957]], [[1.1522578001022339]], [[3.6855058670043945]], [[0.7011216878890991]], [[0.0]], [[0.0]], [[0.05733823776245117]], [[0.7114546298980713]], [[0.0]], [[0.0]], [[0.0]], [[0.0]], [[0.0]], [[0.0]], [[0.0]], [[0.0]], [[0.0]], [[0.0]], [[0.0]], [[0.0]], [[0.0]], [[0.0]], [[0.4549452066421509]], [[0.0]], [[0.0]], [[0.0]], [[0.0]], [[0.0]], [[0.0]], [[0.0]], [[0.0]], [[0.0]], [[0.0]], [[0.0]], [[0.0]], [[0.0]], [[0.0]], [[0.0]], [[0.0]], [[0.0]], [[0.0]], [[0.0]], [[0.0]], [[0.0]], [[0.0]], [[0.0]], [[0.0]], [[0.0]], [[0.0]], [[0.4997469186782837]], [[0.0]], [[0.0]], [[0.0]], [[0.0]], [[0.0]], [[0.0]], [[0.0]], [[3.6914877891540527]], [[0.0]], [[0.0]], [[0.0]], [[0.0]], [[0.0]], [[0.0]], [[0.0]], [[0.0]], [[0.0]], [[0.0]], [[0.0]], [[0.0]], [[0.0]], [[0.0]], [[0.0]], [[1.9040063619613647]]], [[[0.0]], [[0.0]], [[0.0]], [[0.0]], [[0.0]], [[0.0]], [[0.0]], [[0.0]], [[0.0]], [[0.0]], [[0.0]], [[0.0]], [[0.0]], [[0.0]], [[0.0]], [[0.0]], [[0.0]], [[0.0]], [[0.0]], [[0.0]], [[0.0]], [[0.0]], [[0.0]], [[0.0]], [[0.0]], [[0.0]], [[0.0]], [[0.0]], [[0.0]], [[0.0]], [[0.0]], [[0.0]], [[0.0]], [[0.0]], [[0.0]], [[0.0]], [[0.0]], [[0.0]], [[0.0]], [[0.0]], [[0.0]], [[0.0]], [[0.0]], [[0.0]], [[0.0]], [[0.0]], [[0.0]], [[0.0]], [[0.0]], [[0.0]], [[0.0]], [[0.0]], [[0.0]], [[0.0]], [[0.0]], [[0.0]], [[0.0]], [[0.0]], [[0.0]], [[0.0]], [[0.0]], [[0.0]], [[0.0]], [[0.0]], [[0.0]], [[0.0]], [[0.0]], [[0.0]], [[0.0]], [[0.0]], [[0.0]], [[0.0]], [[1.885283350944519]]], [[[0.0]], [[0.0]], [[0.0]], [[0.0]], [[0.0]], [[0.0]], [[0.0]], [[0.0]], [[0.0]], [[0.0]], [[0.0]], [[0.0]], [[0.0]], [[0.0]], [[0.0]], [[0.0]], [[0.0]], [[0.0]], [[0.0]], [[0.0]], [[0.0]], [[0.0]], [[0.0]], [[0.0]], [[0.0]], [[0.0]], [[0.0]], [[0.0]], [[0.0]], [[0.0]], [[0.0]], [[0.0]], [[0.0]], [[0.0]], [[0.0]], [[0.0]], [[0.0]], [[0.0]], [[0.0]], [[0.0]], [[0.0]], [[0.0]], [[0.0]], [[0.0]], [[0.0]], [[0.0]], [[0.0]], [[0.0]], [[0.0]], [[0.0]], [[0.0]], [[0.0]], [[0.0]], [[0.0]], [[0.0]], [[0.0]], [[0.0]], [[0.0]], [[0.0]], [[0.0]], [[0.0]], [[0.0]], [[0.0]], [[0.0]], [[0.0]], [[0.0]], [[0.0]], [[0.0]], [[0.0]], [[0.0]], [[0.0]], [[0.0]], [[0.0]], [[0.0]], [[0.0]], [[0.0]], [[0.0]], [[0.0]], [[0.0]], [[0.0]], [[0.0]], [[0.0]], [[0.0]], [[0.0]], [[0.0]], [[0.0]], [[0.0]], [[0.0]], [[1.8850551843643188]]], [[[0.0]], [[0.0]], [[0.0]], [[0.0]], [[0.0]], [[0.0]], [[0.0]], [[0.0]], [[0.0]], [[0.0]], [[0.0]], [[0.0]], [[0.0]], [[0.0]], [[0.0]], [[0.0]], [[0.0]], [[0.0]], [[0.0]], [[0.0]], [[0.0]], [[0.0]], [[0.0]], [[0.0]], [[0.0]], [[0.0]], [[0.0]], [[0.0]], [[0.03543591499328613]], [[0.0]], [[0.0]], [[0.0]], [[0.0]], [[0.0]], [[0.0]], [[0.0]], [[0.0]], [[0.0]], [[0.0]], [[0.0]], [[0.0]], [[0.4962778091430664]], [[1.8424168825149536]]], [[[0.0]], [[0.0]], [[0.0]], [[0.0]], [[0.0]], [[0.0]], [[0.0]], [[0.0]], [[0.0]], [[0.0]], [[0.0]], [[0.0]], [[0.0]], [[0.0]], [[0.0]], [[0.0]], [[0.0]], [[0.0]], [[0.0]], [[0.0]], [[0.0]], [[0.0]], [[0.0]], [[0.0]], [[0.0]], [[0.0]], [[0.0]], [[0.0]], [[0.0]], [[0.0]], [[0.0]], [[0.0]], [[0.0]], [[0.0]], [[0.0]], [[0.12768793106079102]], [[0.0]], [[0.0]], [[0.0]], [[0.0]], [[0.0]], [[1.830490231513977]]]], \"firstDimensionName\": \"Layer\", \"secondDimensionName\": \"Neuron\"}\n",
       "    )\n",
       "    </script>"
      ],
      "text/plain": [
       "<circuitsvis.utils.render.RenderedHTML at 0x7f13a14bdb80>"
      ]
     },
     "execution_count": 20,
     "metadata": {},
     "output_type": "execute_result"
    }
   ],
   "source": [
    "tokens, activations = topk_prompts_provider(feature_layer=layer_patching_on_y, feature_id=topk_features[0])\n",
    "text_neuron_activations(tokens, activations)"
   ]
  },
  {
   "cell_type": "markdown",
   "metadata": {},
   "source": [
    "## Patching on feature activation"
   ]
  },
  {
   "cell_type": "code",
   "execution_count": 21,
   "metadata": {},
   "outputs": [],
   "source": [
    "downstream_feat_layer = 5\n",
    "downstream_feat_id = 22167 #5/22167 seems to activate on singular nouns related do people\n",
    "\n",
    "k_upstream_feats = 3"
   ]
  },
  {
   "cell_type": "code",
   "execution_count": 22,
   "metadata": {},
   "outputs": [
    {
     "name": "stdout",
     "output_type": "stream",
     "text": [
      "total metric diff after replacing clean prefix with patch prefix: 2.389716148376465\n"
     ]
    }
   ],
   "source": [
    "from acdc import patching_on_feature_activation\n",
    "effects, total_effect = patching_on_feature_activation(\n",
    "    toy_dataset,\n",
    "    model,\n",
    "    submodules,\n",
    "    dictionaries,\n",
    "    downstream_feature_layer=downstream_feat_layer,\n",
    "    downstream_feature_id=downstream_feat_id, \n",
    "    method='all-folded'\n",
    ")\n",
    "\n",
    "print(f'total metric diff after replacing clean prefix with patch prefix: {total_effect}')"
   ]
  },
  {
   "cell_type": "code",
   "execution_count": 23,
   "metadata": {},
   "outputs": [
    {
     "name": "stdout",
     "output_type": "stream",
     "text": [
      "\n",
      "\n",
      "Layer 0:\n",
      "feat 20987:\t 1.8057266473770142\n",
      "feat 15149:\t -1.320497751235962\n",
      "feat 0:\t 0.0\n",
      "\n",
      "\n",
      "Layer 1:\n",
      "feat 16149:\t 0.181435227394104\n",
      "feat 14400:\t -0.03838137537240982\n",
      "feat 25045:\t 0.028566457331180573\n",
      "\n",
      "\n",
      "Layer 2:\n",
      "feat 8734:\t 0.04685451462864876\n",
      "feat 4770:\t 0.024982599541544914\n",
      "feat 31615:\t -0.010588026605546474\n",
      "\n",
      "\n",
      "Layer 3:\n",
      "feat 26928:\t -0.09890806674957275\n",
      "feat 22260:\t 0.03759358078241348\n",
      "feat 21615:\t 0.03652147948741913\n",
      "\n",
      "\n",
      "Layer 4:\n",
      "feat 25647:\t 0.13976886868476868\n",
      "feat 26810:\t 0.08913157135248184\n",
      "feat 16301:\t 0.0890531912446022\n",
      "\n",
      "\n",
      "Layer 5:\n",
      "feat 22167:\t 2.013801336288452\n",
      "feat 10880:\t 0.06829008460044861\n",
      "feat 7352:\t -0.056569550186395645\n"
     ]
    }
   ],
   "source": [
    "topk_upstream_feats = t.zeros((len(submodules), k_upstream_feats))\n",
    "\n",
    "for layer in range(len(submodules)):\n",
    "    print(f'\\n\\nLayer {layer}:')\n",
    "    plural_effect = effects[submodules[layer]][plural_token_pos].detach().cpu()\n",
    "\n",
    "    # TopK features with highest mean activation\n",
    "    topk_effects = sorted(enumerate(plural_effect), key=lambda x: x[1].abs(), reverse=True)\n",
    "    topk_features[layer] = topk_effects[:3]\n",
    "    for id, eff in topk_effects[:3]:\n",
    "        print(f'feat {id}:\\t {eff}')"
   ]
  },
  {
   "cell_type": "markdown",
   "metadata": {},
   "source": [
    "Exact patching should yield 0 unconnected features in same or later layer. (No bwdpass involved)"
   ]
  },
  {
   "cell_type": "code",
   "execution_count": 29,
   "metadata": {},
   "outputs": [
    {
     "data": {
      "text/html": [
       "<div id=\"circuits-vis-4bf33fc7-a808\" style=\"margin: 15px 0;\"/>\n",
       "    <script crossorigin type=\"module\">\n",
       "    import { render, TextNeuronActivations } from \"https://unpkg.com/circuitsvis@1.43.2/dist/cdn/esm.js\";\n",
       "    render(\n",
       "      \"circuits-vis-4bf33fc7-a808\",\n",
       "      TextNeuronActivations,\n",
       "      {\"tokens\": [[\"Our\", \" Story\", \"\\n\", \"\\n\", \"Our\", \" Mission\", \"\\n\", \"\\n\", \"National\", \" reach\", \" with\", \" local\", \" impact\", \".\", \" The\", \" mission\", \" of\", \" the\", \" M\", \"BA\", \" Op\", \"ens\", \" Do\", \"ors\", \" Foundation\", \" is\", \" to\", \" help\", \" vulnerable\", \" families\", \" with\", \" critically\", \" ill\", \" or\", \" injured\", \" children\", \" stay\", \" in\", \" their\", \" homes\", \" while\", \" a\", \" child\", \" is\", \" in\", \" treatment\", \".\", \"\\n\", \"\\n\", \"Our\", \" Vision\", \"\\n\", \"\\n\", \"Supporting\", \" families\", \" across\", \" America\", \".\", \" Our\", \" vision\", \" is\", \" a\", \" world\", \" where\", \" families\", \" with\", \" sick\", \" children\", \" receive\", \" mortgage\", \" or\", \" rental\", \" payment\", \" assistance\", \" while\", \" a\", \" child\", \" is\", \" in\", \" treatment\", \",\", \" allowing\", \" parents\"], [\"Getting\", \" '\", \"K\", \"inky\", \"':\", \" Nan\", \"osc\", \"ale\", \" Atomic\", \" Inter\", \"faces\", \" Have\", \" Ser\", \"ious\", \" Fl\", \"aws\", \"\\n\", \"\\n\", \"Below\", \":\", \"\\n\", \"\\n\", \"Next\", \" story\", \" in\", \" Tech\", \" and\", \" gad\", \"gets\", \"\\n\", \"\\n\", \"Scient\", \"ists\"], [\"The\", \" economy\", \" has\", \" been\", \" cru\", \"ising\", \" along\", \" nicely\", \" for\", \" a\", \" few\", \" years\", \" now\", \",\", \" pushing\", \" the\", \" unemployment\", \" rate\", \" to\", \" historic\", \" low\", \"s\", \".\", \"\\n\", \"\\n\", \"But\", \" Millenn\", \"ials\"], [\"Our\", \" Story\", \"\\n\", \"\\n\", \"Our\", \" Mission\", \"\\n\", \"\\n\", \"National\", \" reach\", \" with\", \" local\", \" impact\", \".\", \" The\", \" mission\", \" of\", \" the\", \" M\", \"BA\", \" Op\", \"ens\", \" Do\", \"ors\", \" Foundation\", \" is\", \" to\", \" help\", \" vulnerable\", \" families\", \" with\", \" critically\", \" ill\", \" or\", \" injured\", \" children\", \" stay\", \" in\", \" their\", \" homes\", \" while\", \" a\", \" child\", \" is\", \" in\", \" treatment\", \".\", \"\\n\", \"\\n\", \"Our\", \" Vision\", \"\\n\", \"\\n\", \"Supporting\", \" families\", \" across\", \" America\", \".\", \" Our\", \" vision\", \" is\", \" a\", \" world\", \" where\", \" families\"], [\"Related\", \" T\", \"ags\", \":\", \"\\n\", \"\\n\", \"Lat\", \"est\", \" News\", \"\\n\", \"\\n\", \"HE\", \"LE\", \"NA\", \",\", \" Mont\", \".\", \" (\", \"CBS\", \" DC\", \"/\", \"AP\", \")\", \" \\u2014\", \" The\", \" Roman\", \" Catholic\", \" Di\", \"ocese\", \" of\", \" Hel\", \"ena\", \" is\", \" dropping\", \" group\", \" health\", \" insurance\", \" plans\", \" for\", \" its\", \" 200\", \" employees\", \" in\", \" par\", \"ishes\", \",\", \" schools\", \" and\", \" social\", \" services\", \" across\", \" western\", \" Montana\", \",\", \" a\", \" spokesman\", \" for\", \" the\", \" di\", \"ocese\", \" said\", \".\", \"\\n\", \"\\n\", \"Instead\", \",\", \" the\", \" di\", \"ocese\", \" will\", \" help\", \" those\", \" workers\"]], \"activations\": [[[[0.0]], [[0.0]], [[0.0]], [[0.0]], [[0.0]], [[0.0]], [[0.0]], [[0.0]], [[0.0]], [[0.0]], [[0.0]], [[0.0]], [[0.0]], [[0.0]], [[0.0]], [[0.0]], [[0.0]], [[0.0]], [[0.0]], [[0.0]], [[0.0]], [[0.0]], [[0.0]], [[0.0]], [[0.0]], [[0.0]], [[0.0]], [[0.0]], [[0.0]], [[1.9759870767593384]], [[0.0]], [[0.0]], [[0.0]], [[0.0]], [[0.0]], [[0.27283382415771484]], [[0.0]], [[0.0]], [[0.0]], [[0.0]], [[0.0]], [[0.0]], [[0.0]], [[0.0]], [[0.0]], [[0.0]], [[0.0]], [[0.0]], [[0.0]], [[0.0]], [[0.0]], [[0.0]], [[0.0]], [[0.0]], [[1.891748070716858]], [[0.0]], [[0.0]], [[0.0]], [[0.0]], [[0.0]], [[0.0]], [[0.0]], [[0.0]], [[0.0]], [[2.2822213172912598]], [[0.0]], [[0.0]], [[0.8557988405227661]], [[0.0]], [[0.0]], [[0.0]], [[0.0]], [[0.0]], [[0.0]], [[0.0]], [[0.0]], [[0.0]], [[0.0]], [[0.0]], [[0.0]], [[0.0]], [[0.0]], [[2.6174168586730957]]], [[[0.0]], [[0.0]], [[0.0]], [[0.0]], [[0.0]], [[0.0]], [[0.0]], [[0.0]], [[0.0]], [[0.0]], [[0.0]], [[0.0]], [[0.0]], [[0.0]], [[0.0]], [[0.0]], [[0.0]], [[0.0]], [[0.0]], [[0.0]], [[0.0]], [[0.0]], [[0.0]], [[0.0]], [[0.0]], [[0.0]], [[0.0]], [[0.0]], [[0.0]], [[0.0]], [[0.0]], [[0.0]], [[2.511070728302002]]], [[[0.0]], [[0.0]], [[0.0]], [[0.0]], [[0.0]], [[0.0]], [[0.0]], [[0.0]], [[0.0]], [[0.0]], [[0.0]], [[0.0]], [[0.0]], [[0.0]], [[0.0]], [[0.0]], [[0.0]], [[0.0]], [[0.0]], [[0.0]], [[0.0]], [[0.0]], [[0.0]], [[0.0]], [[0.0]], [[0.0]], [[0.0]], [[2.3777127265930176]]], [[[0.0]], [[0.0]], [[0.0]], [[0.0]], [[0.0]], [[0.0]], [[0.0]], [[0.0]], [[0.0]], [[0.0]], [[0.0]], [[0.0]], [[0.0]], [[0.0]], [[0.0]], [[0.0]], [[0.0]], [[0.0]], [[0.0]], [[0.0]], [[0.0]], [[0.0]], [[0.0]], [[0.0]], [[0.0]], [[0.0]], [[0.0]], [[0.0]], [[0.0]], [[1.9759870767593384]], [[0.0]], [[0.0]], [[0.0]], [[0.0]], [[0.0]], [[0.27283382415771484]], [[0.0]], [[0.0]], [[0.0]], [[0.0]], [[0.0]], [[0.0]], [[0.0]], [[0.0]], [[0.0]], [[0.0]], [[0.0]], [[0.0]], [[0.0]], [[0.0]], [[0.0]], [[0.0]], [[0.0]], [[0.0]], [[1.891748070716858]], [[0.0]], [[0.0]], [[0.0]], [[0.0]], [[0.0]], [[0.0]], [[0.0]], [[0.0]], [[0.0]], [[2.2822213172912598]]], [[[0.0]], [[0.0]], [[0.0]], [[0.0]], [[0.0]], [[0.0]], [[0.0]], [[0.0]], [[0.0]], [[0.0]], [[0.0]], [[0.0]], [[0.0]], [[0.0]], [[0.0]], [[0.0]], [[0.0]], [[0.0]], [[0.0]], [[0.0]], [[0.0]], [[0.0]], [[0.0]], [[0.0]], [[0.0]], [[0.0]], [[0.0]], [[0.0]], [[0.0]], [[0.0]], [[0.0]], [[0.0]], [[0.0]], [[0.0]], [[0.0]], [[0.0]], [[0.0]], [[0.0]], [[0.0]], [[0.0]], [[0.0]], [[0.3814971446990967]], [[0.0]], [[0.0]], [[0.0]], [[0.0]], [[0.13704419136047363]], [[0.0]], [[0.0]], [[0.0]], [[0.0]], [[0.0]], [[0.0]], [[0.0]], [[0.0]], [[0.0]], [[0.0]], [[0.0]], [[0.0]], [[0.3005870580673218]], [[0.0]], [[0.0]], [[0.0]], [[0.0]], [[0.0]], [[0.0]], [[0.0]], [[0.0]], [[0.5084050893783569]], [[0.0]], [[0.0]], [[0.7323141098022461]], [[2.2752685546875]]]], \"firstDimensionName\": \"Layer\", \"secondDimensionName\": \"Neuron\"}\n",
       "    )\n",
       "    </script>"
      ],
      "text/plain": [
       "<circuitsvis.utils.render.RenderedHTML at 0x7f136713a1c0>"
      ]
     },
     "execution_count": 29,
     "metadata": {},
     "output_type": "execute_result"
    }
   ],
   "source": [
    "tokens, activations = topk_prompts_provider(\n",
    "    feature_layer=3,\n",
    "    feature_id=26928,\n",
    "    k=5\n",
    ")\n",
    "text_neuron_activations(tokens, activations)"
   ]
  },
  {
   "cell_type": "code",
   "execution_count": null,
   "metadata": {},
   "outputs": [],
   "source": []
  },
  {
   "cell_type": "code",
   "execution_count": null,
   "metadata": {},
   "outputs": [],
   "source": []
  }
 ],
 "metadata": {
  "kernelspec": {
   "display_name": "Python 3",
   "language": "python",
   "name": "python3"
  },
  "language_info": {
   "codemirror_mode": {
    "name": "ipython",
    "version": 3
   },
   "file_extension": ".py",
   "mimetype": "text/x-python",
   "name": "python",
   "nbconvert_exporter": "python",
   "pygments_lexer": "ipython3",
   "version": "3.8.10"
  }
 },
 "nbformat": 4,
 "nbformat_minor": 2
}
