{
 "cells": [
  {
   "cell_type": "code",
   "execution_count": 15,
   "metadata": {},
   "outputs": [],
   "source": [
    "import zstandard as zstd\n",
    "import json\n",
    "import os\n",
    "import io\n",
    "from tqdm import tqdm\n",
    "from nnsight import LanguageModel\n",
    "from dictionary_learning.buffer import ActivationBuffer\n",
    "from dictionary_learning.dictionary import AutoEncoder\n",
    "from dictionary_learning.training import trainSAE\n",
    "import torch as t\n",
    "import matplotlib.pyplot as plt\n",
    "import imageio"
   ]
  },
  {
   "cell_type": "code",
   "execution_count": 16,
   "metadata": {},
   "outputs": [],
   "source": [
    "layer = 0\n",
    "\n",
    "model = LanguageModel('EleutherAI/pythia-70m-deduped', device_map='cuda:0')\n",
    "submodule = model.gpt_neox.layers[layer].mlp.dense_4h_to_h\n",
    "activation_dim=512\n",
    "dictionary_size = 64 * activation_dim"
   ]
  },
  {
   "cell_type": "code",
   "execution_count": 17,
   "metadata": {},
   "outputs": [],
   "source": [
    "# set up data as a generator\n",
    "data_path = '/share/data/datasets/pile/the-eye.eu/public/AI/pile/train/00.jsonl.zst'\n",
    "compressed_file = open(data_path, 'rb')\n",
    "dctx = zstd.ZstdDecompressor()\n",
    "reader = dctx.stream_reader(compressed_file)\n",
    "text_stream = io.TextIOWrapper(reader, encoding='utf-8')\n",
    "def generator():\n",
    "    for line in text_stream:\n",
    "        yield json.loads(line)['text']\n",
    "data = generator()"
   ]
  },
  {
   "cell_type": "code",
   "execution_count": 18,
   "metadata": {},
   "outputs": [],
   "source": [
    "buffer = ActivationBuffer(\n",
    "    data,\n",
    "    model,\n",
    "    submodule,\n",
    "    io='out',\n",
    "    in_feats=activation_dim,\n",
    "    out_feats=activation_dim,\n",
    "    in_batch_size=512,\n",
    "    out_batch_size=2 ** 15,\n",
    "    n_ctxs=1e4,\n",
    ")"
   ]
  },
  {
   "cell_type": "code",
   "execution_count": 19,
   "metadata": {},
   "outputs": [
    {
     "name": "stdout",
     "output_type": "stream",
     "text": [
      "refreshing buffer...\n"
     ]
    },
    {
     "name": "stderr",
     "output_type": "stream",
     "text": [
      "You're using a GPTNeoXTokenizerFast tokenizer. Please note that with a fast tokenizer, using the `__call__` method is faster than using a method to encode the text followed by a call to the `pad` method to get a padded encoding.\n"
     ]
    },
    {
     "name": "stdout",
     "output_type": "stream",
     "text": [
      "buffer refreshed...\n"
     ]
    }
   ],
   "source": [
    "acts = next(buffer)"
   ]
  },
  {
   "cell_type": "code",
   "execution_count": 20,
   "metadata": {},
   "outputs": [
    {
     "data": {
      "image/png": "[encoded data removed]",
      "text/plain": [
       "<Figure size 640x480 with 1 Axes>"
      ]
     },
     "metadata": {},
     "output_type": "display_data"
    }
   ],
   "source": [
    "ae = AutoEncoder(activation_dim, dictionary_size).cuda()\n",
    "ae.load_state_dict(\n",
    "    t.load(f'/share/projects/dictionary_circuits/autoencoders/pythia-70m-deduped/mlp_out_layer{layer}/1_{dictionary_size}/ae.pt')\n",
    ")\n",
    "\n",
    "dict_acts = ae.encode(acts.cuda())\n",
    "freqs = (dict_acts !=0).sum(dim=0) / dict_acts.shape[0]\n",
    "\n",
    "plt.figure()\n",
    "plt.hist(freqs.cpu(), bins=t.logspace(-5, 0, 100))\n",
    "plt.xscale('log')"
   ]
  },
  {
   "cell_type": "code",
   "execution_count": 6,
   "metadata": {},
   "outputs": [],
   "source": [
    "# make gif\n",
    "for checkpoint in range(0, 101000, 5000):\n",
    "    ae = AutoEncoder(activation_dim, dictionary_size).cuda()\n",
    "    ae.load_state_dict(\n",
    "        t.load(f'/share/projects/dictionary_circuits/autoencoders/pythia-70m-deduped/mlp_out_layer{layer}/1_{dictionary_size}/checkpoints/ae_{checkpoint}.pt')\n",
    "    )\n",
    "\n",
    "    dict_acts = ae.encode(acts.cuda())\n",
    "    freqs = (dict_acts !=0).sum(dim=0) / dict_acts.shape[0]\n",
    "\n",
    "    plt.figure()\n",
    "    plt.hist(freqs.cpu(), bins=t.logspace(-5, 0, 100))\n",
    "    plt.xscale('log')\n",
    "    plt.title(f'Layer {layer} - checkpoint {checkpoint}, 1_32768')\n",
    "    plt.savefig(f'junk/{checkpoint}_hist.png')\n",
    "    plt.close()\n"
   ]
  },
  {
   "cell_type": "code",
   "execution_count": 7,
   "metadata": {},
   "outputs": [
    {
     "name": "stderr",
     "output_type": "stream",
     "text": [
      "/tmp/ipykernel_312287/522497389.py:2: DeprecationWarning: Starting with ImageIO v3 the behavior of this function will switch to that of iio.v3.imread. To keep the current behavior (and make this warning disappear) use `import imageio.v2 as imageio` or call `imageio.v2.imread` directly.\n",
      "  imageio.imread(f'junk/{checkpoint}_hist.png')\n"
     ]
    }
   ],
   "source": [
    "images = [\n",
    "    imageio.imread(f'junk/{checkpoint}_hist.png')\n",
    "    for checkpoint in range(0, 103000, 5000)\n",
    "]\n",
    "imageio.mimsave('junk/hist.gif', images, fps=1)"
   ]
  },
  {
   "cell_type": "code",
   "execution_count": 25,
   "metadata": {},
   "outputs": [],
   "source": [
    "from einops import rearrange\n",
    "import torch as t\n",
    "\n",
    "inputs = buffer.tokenized_batch(batch_size=512)\n",
    "with model.generate(max_new_tokens=1, pad_token_id=model.tokenizer.pad_token_id) as generator:\n",
    "    with generator.invoke(inputs['input_ids'], scan=False) as invoker:\n",
    "        hidden_states = submodule.output.save()\n",
    "dictionary_activations = ae.encode(hidden_states.value)\n",
    "flattened_acts = rearrange(dictionary_activations, 'b n d -> (b n) d')\n",
    "freqs = (flattened_acts !=0).sum(dim=0) / flattened_acts.shape[0]"
   ]
  },
  {
   "cell_type": "code",
   "execution_count": 26,
   "metadata": {},
   "outputs": [
    {
     "name": "stdout",
     "output_type": "stream",
     "text": [
      "feat 7525 freq: 0.011383056640625\n",
      "feat 7809 freq: 0.0272674560546875\n",
      "feat 8835 freq: 0.0139312744140625\n",
      "feat 10634 freq: 0.011322021484375\n",
      "feat 11587 freq: 0.012908935546875\n",
      "feat 12830 freq: 0.0178680419921875\n",
      "feat 21872 freq: 0.012542724609375\n",
      "feat 25244 freq: 0.0259246826171875\n",
      "feat 29207 freq: 0.01239013671875\n",
      "feat 32717 freq: 0.0146942138671875\n"
     ]
    }
   ],
   "source": [
    "for idx, freq in enumerate(freqs):\n",
    "    if 1e-2 < freq and freq < 3e-2:\n",
    "        print(f\"feat {idx} freq: {freq}\")"
   ]
  },
  {
   "cell_type": "code",
   "execution_count": 27,
   "metadata": {},
   "outputs": [],
   "source": [
    "def list_decode(x):\n",
    "    if isinstance(x, int):\n",
    "        return model.tokenizer.decode(x)\n",
    "    else:\n",
    "        return [list_decode(y) for y in x]"
   ]
  },
  {
   "cell_type": "code",
   "execution_count": 30,
   "metadata": {},
   "outputs": [],
   "source": [
    "k = 30\n",
    "feat = 13920\n",
    "acts = dictionary_activations[:, :, feat].cpu()\n",
    "flattened_acts = rearrange(acts, 'b l -> (b l)')\n",
    "topk_indices = t.argsort(flattened_acts, dim=0, descending=True)[:k]\n",
    "batch_indices = topk_indices // acts.shape[1]\n",
    "token_indices = topk_indices % acts.shape[1]"
   ]
  },
  {
   "cell_type": "code",
   "execution_count": 31,
   "metadata": {},
   "outputs": [
    {
     "data": {
      "text/html": [
       "<div id=\"circuits-vis-0d2d893b-7413\" style=\"margin: 15px 0;\"/>\n",
       "    <script crossorigin type=\"module\">\n",
       "    import { render, TextNeuronActivations } from \"https://unpkg.com/circuitsvis@1.43.2/dist/cdn/esm.js\";\n",
       "    render(\n",
       "      \"circuits-vis-0d2d893b-7413\",\n",
       "      TextNeuronActivations,\n",
       "      {\"tokens\": [[\"RE\", \"B\", \"EL\", \" Cast\", \" Ep\", \" 68\", \":\", \" Re\", \"bell\", \"ion\", \" in\", \" EM\", \" Day\", \" 2\", \" Speaker\", \" Sum\", \"m\", \"aries\", \" with\", \" Andy\", \" Little\", \"\\n\", \"\\n\", \"This\", \" is\", \" a\", \" special\", \" edition\", \" RE\", \"B\", \"EL\", \" Cast\", \" done\", \" by\", \" my\", \" good\", \" friend\", \" Andy\", \" Little\", \",\", \" DO\"], [\"Air\", \"brush\", \" Eye\", \" Shadow\", \" Tri\", \"o\", \"\\n\", \"\\n\", \"Description\", \":\", \"WHAT\", \" IT\", \" IS\", \":\", \" Air\", \"brush\", \" Eye\", \" Shadow\", \" Tri\", \"o\", \",\", \" for\", \" use\", \" with\", \" the\", \" Lum\", \"iness\", \" Air\", \" air\", \"brush\", \" makeup\", \" system\", \",\", \" helps\", \" you\", \" create\", \" dramatic\", \" looks\", \" in\", \" flaw\", \"less\", \" air\", \"br\", \"ushed\", \" color\", \".\", \"\\n\", \"\\n\", \"WHAT\", \" IT\", \" DO\"], [\"<|endoftext|>\", \"<|endoftext|>\", \"<|endoftext|>\", \"<|endoftext|>\", \"<|endoftext|>\", \"<|endoftext|>\", \"<|endoftext|>\", \"<|endoftext|>\", \"<|endoftext|>\", \"<|endoftext|>\", \"<|endoftext|>\", \"<|endoftext|>\", \"<|endoftext|>\", \"<|endoftext|>\", \"<|endoftext|>\", \"<|endoftext|>\", \"<|endoftext|>\", \"<|endoftext|>\", \"<|endoftext|>\", \"<|endoftext|>\", \"<|endoftext|>\", \"<|endoftext|>\", \"<|endoftext|>\", \"<|endoftext|>\", \"<|endoftext|>\", \"<|endoftext|>\", \"<|endoftext|>\", \"<|endoftext|>\", \"<|endoftext|>\", \"<|endoftext|>\", \"<|endoftext|>\", \"<|endoftext|>\", \"<|endoftext|>\", \"<|endoftext|>\", \"<|endoftext|>\", \"<|endoftext|>\", \"<|endoftext|>\", \"<|endoftext|>\", \"<|endoftext|>\", \"<|endoftext|>\", \"<|endoftext|>\", \"<|endoftext|>\", \"<|endoftext|>\", \"<|endoftext|>\", \"<|endoftext|>\", \"<|endoftext|>\", \"<|endoftext|>\", \"<|endoftext|>\", \"<|endoftext|>\", \"<|endoftext|>\", \"<|endoftext|>\", \"<|endoftext|>\", \"<|endoftext|>\", \"<|endoftext|>\", \"<|endoftext|>\", \"<|endoftext|>\", \"<|endoftext|>\", \"Cor\", \"rection\", \":\", \" The\", \" dilemma\", \" in\", \" priorit\", \"izing\", \" chemicals\", \" for\", \" environmental\", \" analysis\", \":\", \" known\", \" versus\", \" unknown\", \" hazards\", \".\", \"\\n\", \"Cor\", \"rection\", \" for\", \" '\", \"The\", \" dilemma\", \" in\", \" priorit\", \"izing\", \" chemicals\", \" for\", \" environmental\", \" analysis\", \":\", \" known\", \" versus\", \" unknown\", \" hazards\", \"'\", \" by\", \" Anna\", \" Sob\", \"ek\", \" et\", \" al\", \".,\", \" En\", \"viron\", \".\", \" Sci\", \".:\", \" Process\", \"es\", \" Imp\", \"acts\", \",\", \" 2016\", \",\", \" DOI\"], [\"\\n\", \"MT\", \"GO\"], [\"Q\", \":\", \"\\n\", \"\\n\", \"How\", \" to\", \" \\\"\", \"fl\", \"atten\", \"\\\"\", \" the\", \" structure\", \" with\", \" the\", \" TABLE\", \" expression\", \"\\n\", \"\\n\", \"I\", \" have\", \" a\", \" VAR\", \"RA\", \"YS\", \" TYPE\", \"  \", \"wanted\", \" to\", \" \\\"\", \"fl\", \"atten\", \"\\\"\", \" the\", \" structure\", \" with\", \" the\", \" TABLE\", \" expression\", \".\", \"\\n\", \"The\", \" example\", \" data\", \"\\n\", \"CREATE\", \" OR\", \" RE\", \"PL\", \"ACE\", \" TYPE\", \" AR\", \"IS\", \".\", \"NUMBER\", \"_\", \"VAR\", \"RAY\", \"_\", \"5\", \" AS\", \" VAR\", \"RAY\", \" (\", \"5\", \")\", \" OF\", \" NUM\"], [\"B\", \"irmingham\", \" mother\", \" '\", \"d\", \"oused\", \" daughter\", \"'s\", \" body\", \" in\", \" acid\", \"'\", \" Published\", \" duration\", \" 26\", \" October\", \" 2010\", \"\\n\", \"\\n\", \"image\", \" caption\", \" I\", \"man\", \" Omar\", \" Y\", \"ouse\", \"f\", \" has\", \" been\", \" declared\", \" unf\", \"it\", \" to\", \" stand\", \" trial\", \"\\n\", \"\\n\", \"A\", \" three\", \"-\", \"year\", \"-\", \"old\", \" girl\", \" was\", \" repeatedly\", \" stabbed\", \" by\", \" her\", \" mother\", \" who\", \" then\", \" d\", \"oused\", \" her\", \" body\", \" in\", \" acid\", \",\", \" a\", \" court\", \" has\", \" heard\", \".\", \"\\n\", \"\\n\", \"Al\", \"ia\", \" Jama\", \"'s\", \" mother\", \" I\", \"man\", \" Omar\", \" Y\", \"ouse\", \"f\", \",\", \" 25\", \",\", \" from\", \" Birmingham\", \",\", \" has\", \" been\", \" declared\", \" unf\", \"it\", \" to\", \" stand\", \" trial\", \".\", \"\\n\", \"\\n\", \"A\", \" jury\", \" at\", \" Birmingham\", \" Crown\", \" Court\", \" has\", \" instead\", \" been\", \" asked\", \" to\", \" decide\", \" if\", \" she\", \" unlaw\", \"fully\", \" killed\", \" her\", \" daughter\", \",\", \" but\", \" to\", \" disregard\"], [\"All\", \" relevant\", \" data\", \" are\", \" within\", \" the\", \" paper\", \" and\", \" its\", \" Supporting\"], [\"County\", \",\", \" school\", \" reps\", \" cite\"], [\"Q\", \":\", \"\\n\", \"\\n\", \"\\u041a\", \"\\u043e\\u0440\", \"\\u0442\", \"\\u0435\\u0436\", \"\\u0438\", \".\", \" Python\", \"\\n\", \"\\n\", \"\\u0417\", \"\\u0430\\u0447\", \"\\u0435\\u043c\", \" \\u043d\", \"\\u0443\\u0436\", \"\\u043d\\u044b\", \" \\u043a\", \"\\u043e\\u0440\", \"\\u0442\", \"\\u0435\\u0436\", \"\\u0438\", \" \\u0432\", \" \\u043f\", \"\\u0438\", \"\\u0442\\u043e\", \"\\u043d\\u0435\", \"?\", \" \\ufffd\", \"\\ufffd\", \"\\u0430\", \"\\u0449\", \"\\u0438\\u0442\", \"\\u0430\", \" \\u043e\\u0442\", \" \\u0434\", \"\\u0443\\u0440\", \"\\u0430\\u043a\", \"\\u0430\", \"?\", \" \\ufffd\", \"\\ufffd\", \",\", \" \\u043a\\u043e\\u043d\", \"\\u0435\\u0447\", \"\\u043d\\u043e\", \",\", \" \\u043f\", \"\\u043e\\u043d\", \"\\u0438\\u043c\", \"\\u0430\\u044e\", \",\", \" \\u0447\\u0442\\u043e\", \" \\u043b\\u044e\", \"\\u0434\", \"\\u0438\", \" \\u0435\", \"\\u0441\\u0442\\u044c\", \" \\u0440\\u0430\\u0437\", \"\\u043d\\u044b\\u0435\", \",\", \" \\u043c\", \"\\u043e\\u0433\", \"\\u0443\\u0442\", \" \\u0442\", \"\\u0432\", \"\\u043e\\u0440\", \"\\u0438\\u0442\\u044c\", \" \\u0432\", \"\\u0441\\u044f\", \"\\u043a\", \"\\u0443\\u044e\", \" \\u0445\", \"\\u0440\", \"\\u0435\\u043d\\u044c\", \".\", \" \\u041d\", \"\\u043e\", \",\", \" \\u0435\", \"\\u0441\\u043b\\u0438\", \" \\u044f\", \" \\u0441\", \"\\u043e\\u0437\", \"\\u0434\\u0430\"], [\"Q\", \":\", \"\\n\", \"\\n\", \"Pop\", \"ulate\", \" a\", \" dropdown\", \" inside\", \" an\", \" include\", \" PHP\", \"\\n\", \"\\n\", \"I\", \" have\", \" an\", \" index\", \".\", \"php\", \" which\", \" calls\", \" the\", \" DB\", \" connection\", \" and\", \" pop\", \"ulates\", \" the\", \" page\", \".\", \"\\n\", \"If\", \" a\", \" condition\", \" is\", \" met\", \" an\", \" include\", \" will\", \" be\", \" called\", \" upon\", \" with\", \" a\", \" dropdown\", \" list\", \".\"], [\"Q\", \":\", \"\\n\", \"\\n\", \"Pop\", \"ulate\", \" a\", \" dropdown\", \" inside\", \" an\", \" include\", \" PHP\", \"\\n\", \"\\n\", \"I\", \" have\", \" an\", \" index\", \".\", \"php\", \" which\", \" calls\", \" the\", \" DB\", \" connection\", \" and\", \" pop\", \"ulates\", \" the\", \" page\", \".\", \"\\n\", \"If\", \" a\", \" condition\", \" is\", \" met\", \" an\", \" include\", \" will\", \" be\", \" called\", \" upon\", \" with\", \" a\", \" dropdown\", \" list\", \".\", \"\\n\", \"I\", \" am\"], [\"Q\", \":\", \"\\n\", \"\\n\", \"Pop\", \"ulate\", \" a\", \" dropdown\", \" inside\", \" an\", \" include\", \" PHP\", \"\\n\", \"\\n\", \"I\", \" have\", \" an\", \" index\", \".\", \"php\", \" which\", \" calls\", \" the\", \" DB\", \" connection\", \" and\", \" pop\", \"ulates\", \" the\", \" page\", \".\", \"\\n\", \"If\", \" a\", \" condition\", \" is\", \" met\", \" an\", \" include\", \" will\", \" be\", \" called\", \" upon\", \" with\", \" a\", \" dropdown\", \" list\"], [\"Q\", \":\", \"\\n\", \"\\n\", \"Pop\", \"ulate\", \" a\", \" dropdown\", \" inside\", \" an\", \" include\", \" PHP\", \"\\n\", \"\\n\", \"I\", \" have\", \" an\", \" index\", \".\", \"php\", \" which\", \" calls\", \" the\", \" DB\", \" connection\", \" and\", \" pop\", \"ulates\", \" the\", \" page\", \".\", \"\\n\", \"If\", \" a\", \" condition\", \" is\", \" met\", \" an\", \" include\", \" will\", \" be\", \" called\", \" upon\", \" with\", \" a\", \" dropdown\"], [\"Q\", \":\", \"\\n\", \"\\n\", \"Pop\", \"ulate\", \" a\", \" dropdown\", \" inside\", \" an\", \" include\", \" PHP\", \"\\n\", \"\\n\", \"I\", \" have\", \" an\", \" index\", \".\", \"php\", \" which\", \" calls\", \" the\", \" DB\", \" connection\", \" and\", \" pop\", \"ulates\", \" the\", \" page\", \".\", \"\\n\", \"If\", \" a\", \" condition\", \" is\", \" met\", \" an\", \" include\", \" will\", \" be\", \" called\", \" upon\", \" with\", \" a\"], [\"Q\", \":\", \"\\n\", \"\\n\", \"Pop\", \"ulate\", \" a\", \" dropdown\", \" inside\", \" an\", \" include\", \" PHP\", \"\\n\", \"\\n\", \"I\", \" have\", \" an\", \" index\", \".\", \"php\", \" which\", \" calls\", \" the\", \" DB\", \" connection\", \" and\", \" pop\", \"ulates\", \" the\", \" page\", \".\", \"\\n\", \"If\", \" a\", \" condition\", \" is\", \" met\", \" an\", \" include\", \" will\", \" be\", \" called\", \" upon\", \" with\"], [\"Q\", \":\", \"\\n\", \"\\n\", \"Pop\", \"ulate\", \" a\", \" dropdown\", \" inside\", \" an\", \" include\", \" PHP\", \"\\n\", \"\\n\", \"I\", \" have\", \" an\", \" index\", \".\", \"php\", \" which\", \" calls\", \" the\", \" DB\", \" connection\", \" and\", \" pop\", \"ulates\", \" the\", \" page\", \".\", \"\\n\", \"If\", \" a\", \" condition\", \" is\", \" met\", \" an\", \" include\", \" will\", \" be\", \" called\", \" upon\"], [\"Q\", \":\", \"\\n\", \"\\n\", \"Pop\", \"ulate\", \" a\", \" dropdown\", \" inside\", \" an\", \" include\", \" PHP\", \"\\n\", \"\\n\", \"I\", \" have\", \" an\", \" index\", \".\", \"php\", \" which\", \" calls\", \" the\", \" DB\", \" connection\", \" and\", \" pop\", \"ulates\", \" the\", \" page\", \".\", \"\\n\", \"If\", \" a\", \" condition\", \" is\", \" met\", \" an\", \" include\", \" will\", \" be\", \" called\"], [\"Q\", \":\", \"\\n\", \"\\n\", \"Pop\", \"ulate\", \" a\", \" dropdown\", \" inside\", \" an\", \" include\", \" PHP\", \"\\n\", \"\\n\", \"I\", \" have\", \" an\", \" index\", \".\", \"php\", \" which\", \" calls\", \" the\", \" DB\", \" connection\", \" and\", \" pop\", \"ulates\", \" the\", \" page\", \".\", \"\\n\", \"If\", \" a\", \" condition\", \" is\", \" met\", \" an\", \" include\", \" will\", \" be\"], [\"Q\", \":\", \"\\n\", \"\\n\", \"Pop\", \"ulate\", \" a\", \" dropdown\", \" inside\", \" an\", \" include\", \" PHP\", \"\\n\", \"\\n\", \"I\", \" have\", \" an\", \" index\", \".\", \"php\", \" which\", \" calls\", \" the\", \" DB\", \" connection\", \" and\", \" pop\", \"ulates\", \" the\", \" page\", \".\", \"\\n\", \"If\", \" a\", \" condition\", \" is\", \" met\", \" an\", \" include\", \" will\"], [\"Q\", \":\", \"\\n\", \"\\n\", \"Pop\", \"ulate\", \" a\", \" dropdown\", \" inside\", \" an\", \" include\", \" PHP\", \"\\n\", \"\\n\", \"I\", \" have\", \" an\", \" index\", \".\", \"php\", \" which\", \" calls\", \" the\", \" DB\", \" connection\", \" and\", \" pop\", \"ulates\", \" the\", \" page\", \".\", \"\\n\", \"If\", \" a\", \" condition\", \" is\", \" met\", \" an\", \" include\"], [\"Q\", \":\", \"\\n\", \"\\n\", \"Pop\", \"ulate\", \" a\", \" dropdown\", \" inside\", \" an\", \" include\", \" PHP\", \"\\n\", \"\\n\", \"I\", \" have\", \" an\", \" index\", \".\", \"php\", \" which\", \" calls\", \" the\", \" DB\", \" connection\", \" and\", \" pop\", \"ulates\", \" the\", \" page\", \".\", \"\\n\", \"If\", \" a\", \" condition\", \" is\", \" met\", \" an\"], [\"Q\", \":\", \"\\n\", \"\\n\", \"Pop\", \"ulate\", \" a\", \" dropdown\", \" inside\", \" an\", \" include\", \" PHP\", \"\\n\", \"\\n\", \"I\", \" have\", \" an\", \" index\", \".\", \"php\", \" which\", \" calls\", \" the\", \" DB\", \" connection\", \" and\", \" pop\", \"ulates\", \" the\", \" page\", \".\", \"\\n\", \"If\", \" a\", \" condition\", \" is\", \" met\"], [\"Q\", \":\", \"\\n\", \"\\n\", \"Pop\", \"ulate\", \" a\", \" dropdown\", \" inside\", \" an\", \" include\", \" PHP\", \"\\n\", \"\\n\", \"I\", \" have\", \" an\", \" index\", \".\", \"php\", \" which\", \" calls\", \" the\", \" DB\", \" connection\", \" and\", \" pop\", \"ulates\", \" the\", \" page\", \".\", \"\\n\", \"If\", \" a\", \" condition\", \" is\"], [\"Q\", \":\", \"\\n\", \"\\n\", \"Pop\", \"ulate\", \" a\", \" dropdown\", \" inside\", \" an\", \" include\", \" PHP\", \"\\n\", \"\\n\", \"I\", \" have\", \" an\", \" index\", \".\", \"php\", \" which\", \" calls\", \" the\", \" DB\", \" connection\", \" and\", \" pop\", \"ulates\", \" the\", \" page\", \".\", \"\\n\", \"If\", \" a\", \" condition\", \" is\", \" met\", \" an\", \" include\", \" will\", \" be\", \" called\", \" upon\", \" with\", \" a\", \" dropdown\", \" list\", \".\", \"\\n\"], [\"Q\", \":\", \"\\n\", \"\\n\", \"Pop\", \"ulate\", \" a\", \" dropdown\", \" inside\", \" an\", \" include\", \" PHP\", \"\\n\", \"\\n\", \"I\", \" have\", \" an\", \" index\", \".\", \"php\", \" which\", \" calls\", \" the\", \" DB\", \" connection\", \" and\", \" pop\", \"ulates\", \" the\", \" page\", \".\", \"\\n\", \"If\", \" a\", \" condition\", \" is\", \" met\", \" an\", \" include\", \" will\", \" be\", \" called\", \" upon\", \" with\", \" a\", \" dropdown\", \" list\", \".\", \"\\n\", \"I\"], [\"Q\", \":\", \"\\n\", \"\\n\", \"Pop\", \"ulate\", \" a\", \" dropdown\", \" inside\", \" an\", \" include\", \" PHP\", \"\\n\", \"\\n\", \"I\", \" have\", \" an\", \" index\", \".\", \"php\", \" which\", \" calls\", \" the\", \" DB\", \" connection\", \" and\", \" pop\", \"ulates\", \" the\", \" page\", \".\", \"\\n\"], [\"Q\", \":\", \"\\n\", \"\\n\", \"Pop\", \"ulate\", \" a\", \" dropdown\", \" inside\", \" an\", \" include\", \" PHP\", \"\\n\", \"\\n\", \"I\", \" have\", \" an\", \" index\", \".\", \"php\", \" which\", \" calls\", \" the\", \" DB\", \" connection\", \" and\", \" pop\", \"ulates\", \" the\", \" page\", \".\", \"\\n\", \"If\", \" a\", \" condition\", \" is\", \" met\", \" an\", \" include\", \" will\", \" be\", \" called\", \" upon\", \" with\", \" a\", \" dropdown\", \" list\", \".\", \"\\n\", \"I\", \" am\", \" unable\"], [\"Q\", \":\", \"\\n\", \"\\n\", \"Pop\", \"ulate\", \" a\", \" dropdown\", \" inside\", \" an\", \" include\", \" PHP\", \"\\n\", \"\\n\", \"I\", \" have\", \" an\", \" index\", \".\", \"php\", \" which\", \" calls\", \" the\", \" DB\", \" connection\", \" and\", \" pop\", \"ulates\", \" the\", \" page\", \".\", \"\\n\", \"If\", \" a\", \" condition\", \" is\", \" met\", \" an\", \" include\", \" will\", \" be\", \" called\", \" upon\", \" with\", \" a\", \" dropdown\", \" list\", \".\", \"\\n\", \"I\", \" am\", \" unable\", \" to\"], [\"Q\", \":\", \"\\n\", \"\\n\", \"Pop\", \"ulate\", \" a\", \" dropdown\", \" inside\", \" an\", \" include\", \" PHP\", \"\\n\", \"\\n\", \"I\", \" have\", \" an\", \" index\", \".\", \"php\", \" which\", \" calls\", \" the\", \" DB\", \" connection\", \" and\", \" pop\", \"ulates\", \" the\", \" page\", \".\", \"\\n\", \"If\", \" a\", \" condition\", \" is\", \" met\", \" an\", \" include\", \" will\", \" be\", \" called\", \" upon\", \" with\", \" a\", \" dropdown\", \" list\", \".\", \"\\n\", \"I\", \" am\", \" unable\", \" to\", \" populate\"], [\"Q\", \":\", \"\\n\", \"\\n\", \"Pop\", \"ulate\", \" a\", \" dropdown\", \" inside\", \" an\", \" include\", \" PHP\", \"\\n\", \"\\n\", \"I\", \" have\", \" an\", \" index\", \".\", \"php\", \" which\", \" calls\", \" the\", \" DB\", \" connection\", \" and\", \" pop\", \"ulates\", \" the\", \" page\", \".\", \"\\n\", \"If\", \" a\", \" condition\", \" is\", \" met\", \" an\", \" include\", \" will\", \" be\", \" called\", \" upon\", \" with\", \" a\", \" dropdown\", \" list\", \".\", \"\\n\", \"I\", \" am\", \" unable\", \" to\", \" populate\", \" this\"]], \"activations\": [[[[0.0]], [[0.0]], [[0.0]], [[0.0]], [[0.0]], [[0.0]], [[0.0]], [[0.0]], [[0.0]], [[0.0]], [[0.0]], [[0.0]], [[0.0]], [[0.0]], [[0.0]], [[0.0]], [[0.0]], [[0.0]], [[0.0]], [[0.0]], [[0.0]], [[0.0]], [[0.0]], [[0.0]], [[0.0]], [[0.0]], [[0.0]], [[0.0]], [[0.0]], [[0.0]], [[0.0]], [[0.0]], [[0.0]], [[0.0]], [[0.0]], [[0.0]], [[0.0]], [[0.0]], [[0.0]], [[0.0]], [[5.858359336853027]]], [[[0.0]], [[0.0]], [[0.0]], [[0.0]], [[0.0]], [[0.0]], [[0.0]], [[0.0]], [[0.0]], [[0.0]], [[0.0]], [[0.0]], [[0.0]], [[0.0]], [[0.0]], [[0.0]], [[0.0]], [[0.0]], [[0.0]], [[0.0]], [[0.0]], [[0.0]], [[0.0]], [[0.0]], [[0.0]], [[0.0]], [[0.0]], [[0.0]], [[0.0]], [[0.0]], [[0.0]], [[0.0]], [[0.0]], [[0.0]], [[0.0]], [[0.0]], [[0.0]], [[0.0]], [[0.0]], [[0.0]], [[0.0]], [[0.0]], [[0.0]], [[0.0]], [[0.0]], [[0.0]], [[0.0]], [[0.0]], [[0.0]], [[0.0]], [[5.858359336853027]]], [[[0.0]], [[0.0]], [[0.0]], [[0.0]], [[0.0]], [[0.0]], [[0.0]], [[0.0]], [[0.0]], [[0.0]], [[0.0]], [[0.0]], [[0.0]], [[0.0]], [[0.0]], [[0.0]], [[0.0]], [[0.0]], [[0.0]], [[0.0]], [[0.0]], [[0.0]], [[0.0]], [[0.0]], [[0.0]], [[0.0]], [[0.0]], [[0.0]], [[0.0]], [[0.0]], [[0.0]], [[0.0]], [[0.0]], [[0.0]], [[0.0]], [[0.0]], [[0.0]], [[0.0]], [[0.0]], [[0.0]], [[0.0]], [[0.0]], [[0.0]], [[0.0]], [[0.0]], [[0.0]], [[0.0]], [[0.0]], [[0.0]], [[0.0]], [[0.0]], [[0.0]], [[0.0]], [[0.0]], [[0.0]], [[0.0]], [[0.0]], [[0.0]], [[0.0]], [[0.0]], [[0.0]], [[0.0]], [[0.0]], [[0.0]], [[0.0]], [[0.0]], [[0.0]], [[0.0]], [[0.0]], [[0.0]], [[0.0]], [[0.0]], [[0.0]], [[0.0]], [[0.0]], [[0.0]], [[0.0]], [[0.0]], [[0.0]], [[0.0]], [[0.0]], [[0.0]], [[0.0]], [[0.0]], [[0.0]], [[0.0]], [[0.0]], [[0.0]], [[0.0]], [[0.0]], [[0.0]], [[0.0]], [[0.0]], [[0.0]], [[0.0]], [[0.0]], [[0.0]], [[0.0]], [[0.0]], [[0.0]], [[0.0]], [[0.0]], [[0.0]], [[0.0]], [[0.0]], [[0.0]], [[0.0]], [[0.0]], [[0.0]], [[0.0]], [[0.0]], [[0.0]], [[0.0]], [[0.0]], [[0.5119539499282837]]], [[[0.0]], [[0.0]], [[0.2479211688041687]]], [[[0.0]], [[0.0]], [[0.0]], [[0.0]], [[0.0]], [[0.0]], [[0.0]], [[0.0]], [[0.0]], [[0.0]], [[0.0]], [[0.0]], [[0.0]], [[0.0]], [[0.0]], [[0.0]], [[0.0]], [[0.0]], [[0.0]], [[0.0]], [[0.0]], [[0.0]], [[0.0]], [[0.0]], [[0.0]], [[0.0]], [[0.0]], [[0.0]], [[0.0]], [[0.0]], [[0.0]], [[0.0]], [[0.0]], [[0.0]], [[0.0]], [[0.0]], [[0.0]], [[0.0]], [[0.0]], [[0.0]], [[0.0]], [[0.0]], [[0.0]], [[0.0]], [[0.0]], [[0.0]], [[0.0]], [[0.0]], [[0.0]], [[0.0]], [[0.0]], [[0.0]], [[0.0]], [[0.0]], [[0.0]], [[0.0]], [[0.0]], [[0.0]], [[0.0]], [[0.0]], [[0.0]], [[0.0]], [[0.0]], [[0.0]], [[0.0]], [[0.0]], [[0.2261064052581787]]], [[[0.0]], [[0.0]], [[0.0]], [[0.0]], [[0.0]], [[0.0]], [[0.0]], [[0.0]], [[0.0]], [[0.0]], [[0.0]], [[0.0]], [[0.0]], [[0.0]], [[0.0]], [[0.0]], [[0.0]], [[0.0]], [[0.0]], [[0.0]], [[0.0]], [[0.0]], [[0.0]], [[0.0]], [[0.0]], [[0.0]], [[0.0]], [[0.0]], [[0.0]], [[0.0]], [[0.0]], [[0.0]], [[0.0]], [[0.0]], [[0.0]], [[0.0]], [[0.0]], [[0.0]], [[0.0]], [[0.0]], [[0.0]], [[0.0]], [[0.0]], [[0.0]], [[0.0]], [[0.0]], [[0.0]], [[0.0]], [[0.0]], [[0.0]], [[0.0]], [[0.0]], [[0.0]], [[0.0]], [[0.0]], [[0.0]], [[0.0]], [[0.0]], [[0.0]], [[0.0]], [[0.0]], [[0.0]], [[0.0]], [[0.0]], [[0.0]], [[0.0]], [[0.0]], [[0.0]], [[0.0]], [[0.0]], [[0.0]], [[0.0]], [[0.0]], [[0.0]], [[0.0]], [[0.0]], [[0.0]], [[0.0]], [[0.0]], [[0.0]], [[0.0]], [[0.0]], [[0.0]], [[0.0]], [[0.0]], [[0.0]], [[0.0]], [[0.0]], [[0.0]], [[0.0]], [[0.0]], [[0.0]], [[0.0]], [[0.0]], [[0.0]], [[0.0]], [[0.0]], [[0.0]], [[0.0]], [[0.0]], [[0.0]], [[0.0]], [[0.0]], [[0.0]], [[0.0]], [[0.0]], [[0.0]], [[0.0]], [[0.0]], [[0.0]], [[0.0]], [[0.0]], [[0.0]], [[0.0]], [[0.0]], [[0.0]], [[0.09643852710723877]]], [[[0.0]], [[0.0]], [[0.0]], [[0.0]], [[0.0]], [[0.0]], [[0.0]], [[0.0]], [[0.0]], [[0.09485200047492981]]], [[[0.0]], [[0.0]], [[0.0]], [[0.0]], [[0.07443210482597351]]], [[[0.0]], [[0.0]], [[0.0]], [[0.0]], [[0.0]], [[0.0]], [[0.0]], [[0.0]], [[0.0]], [[0.0]], [[0.0]], [[0.0]], [[0.0]], [[0.0]], [[0.0]], [[0.0]], [[0.0]], [[0.0]], [[0.0]], [[0.0]], [[0.0]], [[0.0]], [[0.0]], [[0.0]], [[0.0]], [[0.0]], [[0.0]], [[0.0]], [[0.0]], [[0.0]], [[0.0]], [[0.0]], [[0.0]], [[0.0]], [[0.0]], [[0.0]], [[0.0]], [[0.0]], [[0.0]], [[0.0]], [[0.0]], [[0.0]], [[0.0]], [[0.0]], [[0.0]], [[0.0]], [[0.0]], [[0.0]], [[0.0]], [[0.0]], [[0.0]], [[0.0]], [[0.0]], [[0.0]], [[0.0]], [[0.0]], [[0.0]], [[0.0]], [[0.0]], [[0.0]], [[0.0]], [[0.0]], [[0.0]], [[0.0]], [[0.0]], [[0.0]], [[0.0]], [[0.0]], [[0.0]], [[0.0]], [[0.0]], [[0.0]], [[0.0]], [[0.0]], [[0.0]], [[0.0]], [[0.0]], [[0.0]], [[0.0]], [[0.0]], [[0.0]], [[0.0]], [[0.0]], [[0.0]], [[0.0]], [[0.0]], [[0.018920034170150757]]], [[[0.0]], [[0.0]], [[0.0]], [[0.0]], [[0.0]], [[0.0]], [[0.0]], [[0.0]], [[0.0]], [[0.0]], [[0.0]], [[0.0]], [[0.0]], [[0.0]], [[0.0]], [[0.0]], [[0.0]], [[0.0]], [[0.0]], [[0.0]], [[0.0]], [[0.0]], [[0.0]], [[0.0]], [[0.0]], [[0.0]], [[0.0]], [[0.0]], [[0.0]], [[0.0]], [[0.0]], [[0.0]], [[0.0]], [[0.0]], [[0.0]], [[0.0]], [[0.0]], [[0.0]], [[0.0]], [[0.0]], [[0.0]], [[0.0]], [[0.0]], [[0.0]], [[0.0]], [[0.0]], [[0.0]], [[0.0]]], [[[0.0]], [[0.0]], [[0.0]], [[0.0]], [[0.0]], [[0.0]], [[0.0]], [[0.0]], [[0.0]], [[0.0]], [[0.0]], [[0.0]], [[0.0]], [[0.0]], [[0.0]], [[0.0]], [[0.0]], [[0.0]], [[0.0]], [[0.0]], [[0.0]], [[0.0]], [[0.0]], [[0.0]], [[0.0]], [[0.0]], [[0.0]], [[0.0]], [[0.0]], [[0.0]], [[0.0]], [[0.0]], [[0.0]], [[0.0]], [[0.0]], [[0.0]], [[0.0]], [[0.0]], [[0.0]], [[0.0]], [[0.0]], [[0.0]], [[0.0]], [[0.0]], [[0.0]], [[0.0]], [[0.0]], [[0.0]], [[0.0]], [[0.0]], [[0.0]]], [[[0.0]], [[0.0]], [[0.0]], [[0.0]], [[0.0]], [[0.0]], [[0.0]], [[0.0]], [[0.0]], [[0.0]], [[0.0]], [[0.0]], [[0.0]], [[0.0]], [[0.0]], [[0.0]], [[0.0]], [[0.0]], [[0.0]], [[0.0]], [[0.0]], [[0.0]], [[0.0]], [[0.0]], [[0.0]], [[0.0]], [[0.0]], [[0.0]], [[0.0]], [[0.0]], [[0.0]], [[0.0]], [[0.0]], [[0.0]], [[0.0]], [[0.0]], [[0.0]], [[0.0]], [[0.0]], [[0.0]], [[0.0]], [[0.0]], [[0.0]], [[0.0]], [[0.0]], [[0.0]], [[0.0]]], [[[0.0]], [[0.0]], [[0.0]], [[0.0]], [[0.0]], [[0.0]], [[0.0]], [[0.0]], [[0.0]], [[0.0]], [[0.0]], [[0.0]], [[0.0]], [[0.0]], [[0.0]], [[0.0]], [[0.0]], [[0.0]], [[0.0]], [[0.0]], [[0.0]], [[0.0]], [[0.0]], [[0.0]], [[0.0]], [[0.0]], [[0.0]], [[0.0]], [[0.0]], [[0.0]], [[0.0]], [[0.0]], [[0.0]], [[0.0]], [[0.0]], [[0.0]], [[0.0]], [[0.0]], [[0.0]], [[0.0]], [[0.0]], [[0.0]], [[0.0]], [[0.0]], [[0.0]], [[0.0]]], [[[0.0]], [[0.0]], [[0.0]], [[0.0]], [[0.0]], [[0.0]], [[0.0]], [[0.0]], [[0.0]], [[0.0]], [[0.0]], [[0.0]], [[0.0]], [[0.0]], [[0.0]], [[0.0]], [[0.0]], [[0.0]], [[0.0]], [[0.0]], [[0.0]], [[0.0]], [[0.0]], [[0.0]], [[0.0]], [[0.0]], [[0.0]], [[0.0]], [[0.0]], [[0.0]], [[0.0]], [[0.0]], [[0.0]], [[0.0]], [[0.0]], [[0.0]], [[0.0]], [[0.0]], [[0.0]], [[0.0]], [[0.0]], [[0.0]], [[0.0]], [[0.0]], [[0.0]]], [[[0.0]], [[0.0]], [[0.0]], [[0.0]], [[0.0]], [[0.0]], [[0.0]], [[0.0]], [[0.0]], [[0.0]], [[0.0]], [[0.0]], [[0.0]], [[0.0]], [[0.0]], [[0.0]], [[0.0]], [[0.0]], [[0.0]], [[0.0]], [[0.0]], [[0.0]], [[0.0]], [[0.0]], [[0.0]], [[0.0]], [[0.0]], [[0.0]], [[0.0]], [[0.0]], [[0.0]], [[0.0]], [[0.0]], [[0.0]], [[0.0]], [[0.0]], [[0.0]], [[0.0]], [[0.0]], [[0.0]], [[0.0]], [[0.0]], [[0.0]], [[0.0]]], [[[0.0]], [[0.0]], [[0.0]], [[0.0]], [[0.0]], [[0.0]], [[0.0]], [[0.0]], [[0.0]], [[0.0]], [[0.0]], [[0.0]], [[0.0]], [[0.0]], [[0.0]], [[0.0]], [[0.0]], [[0.0]], [[0.0]], [[0.0]], [[0.0]], [[0.0]], [[0.0]], [[0.0]], [[0.0]], [[0.0]], [[0.0]], [[0.0]], [[0.0]], [[0.0]], [[0.0]], [[0.0]], [[0.0]], [[0.0]], [[0.0]], [[0.0]], [[0.0]], [[0.0]], [[0.0]], [[0.0]], [[0.0]], [[0.0]], [[0.0]]], [[[0.0]], [[0.0]], [[0.0]], [[0.0]], [[0.0]], [[0.0]], [[0.0]], [[0.0]], [[0.0]], [[0.0]], [[0.0]], [[0.0]], [[0.0]], [[0.0]], [[0.0]], [[0.0]], [[0.0]], [[0.0]], [[0.0]], [[0.0]], [[0.0]], [[0.0]], [[0.0]], [[0.0]], [[0.0]], [[0.0]], [[0.0]], [[0.0]], [[0.0]], [[0.0]], [[0.0]], [[0.0]], [[0.0]], [[0.0]], [[0.0]], [[0.0]], [[0.0]], [[0.0]], [[0.0]], [[0.0]], [[0.0]], [[0.0]]], [[[0.0]], [[0.0]], [[0.0]], [[0.0]], [[0.0]], [[0.0]], [[0.0]], [[0.0]], [[0.0]], [[0.0]], [[0.0]], [[0.0]], [[0.0]], [[0.0]], [[0.0]], [[0.0]], [[0.0]], [[0.0]], [[0.0]], [[0.0]], [[0.0]], [[0.0]], [[0.0]], [[0.0]], [[0.0]], [[0.0]], [[0.0]], [[0.0]], [[0.0]], [[0.0]], [[0.0]], [[0.0]], [[0.0]], [[0.0]], [[0.0]], [[0.0]], [[0.0]], [[0.0]], [[0.0]], [[0.0]], [[0.0]]], [[[0.0]], [[0.0]], [[0.0]], [[0.0]], [[0.0]], [[0.0]], [[0.0]], [[0.0]], [[0.0]], [[0.0]], [[0.0]], [[0.0]], [[0.0]], [[0.0]], [[0.0]], [[0.0]], [[0.0]], [[0.0]], [[0.0]], [[0.0]], [[0.0]], [[0.0]], [[0.0]], [[0.0]], [[0.0]], [[0.0]], [[0.0]], [[0.0]], [[0.0]], [[0.0]], [[0.0]], [[0.0]], [[0.0]], [[0.0]], [[0.0]], [[0.0]], [[0.0]], [[0.0]], [[0.0]], [[0.0]]], [[[0.0]], [[0.0]], [[0.0]], [[0.0]], [[0.0]], [[0.0]], [[0.0]], [[0.0]], [[0.0]], [[0.0]], [[0.0]], [[0.0]], [[0.0]], [[0.0]], [[0.0]], [[0.0]], [[0.0]], [[0.0]], [[0.0]], [[0.0]], [[0.0]], [[0.0]], [[0.0]], [[0.0]], [[0.0]], [[0.0]], [[0.0]], [[0.0]], [[0.0]], [[0.0]], [[0.0]], [[0.0]], [[0.0]], [[0.0]], [[0.0]], [[0.0]], [[0.0]], [[0.0]], [[0.0]]], [[[0.0]], [[0.0]], [[0.0]], [[0.0]], [[0.0]], [[0.0]], [[0.0]], [[0.0]], [[0.0]], [[0.0]], [[0.0]], [[0.0]], [[0.0]], [[0.0]], [[0.0]], [[0.0]], [[0.0]], [[0.0]], [[0.0]], [[0.0]], [[0.0]], [[0.0]], [[0.0]], [[0.0]], [[0.0]], [[0.0]], [[0.0]], [[0.0]], [[0.0]], [[0.0]], [[0.0]], [[0.0]], [[0.0]], [[0.0]], [[0.0]], [[0.0]], [[0.0]], [[0.0]]], [[[0.0]], [[0.0]], [[0.0]], [[0.0]], [[0.0]], [[0.0]], [[0.0]], [[0.0]], [[0.0]], [[0.0]], [[0.0]], [[0.0]], [[0.0]], [[0.0]], [[0.0]], [[0.0]], [[0.0]], [[0.0]], [[0.0]], [[0.0]], [[0.0]], [[0.0]], [[0.0]], [[0.0]], [[0.0]], [[0.0]], [[0.0]], [[0.0]], [[0.0]], [[0.0]], [[0.0]], [[0.0]], [[0.0]], [[0.0]], [[0.0]], [[0.0]], [[0.0]]], [[[0.0]], [[0.0]], [[0.0]], [[0.0]], [[0.0]], [[0.0]], [[0.0]], [[0.0]], [[0.0]], [[0.0]], [[0.0]], [[0.0]], [[0.0]], [[0.0]], [[0.0]], [[0.0]], [[0.0]], [[0.0]], [[0.0]], [[0.0]], [[0.0]], [[0.0]], [[0.0]], [[0.0]], [[0.0]], [[0.0]], [[0.0]], [[0.0]], [[0.0]], [[0.0]], [[0.0]], [[0.0]], [[0.0]], [[0.0]], [[0.0]], [[0.0]]], [[[0.0]], [[0.0]], [[0.0]], [[0.0]], [[0.0]], [[0.0]], [[0.0]], [[0.0]], [[0.0]], [[0.0]], [[0.0]], [[0.0]], [[0.0]], [[0.0]], [[0.0]], [[0.0]], [[0.0]], [[0.0]], [[0.0]], [[0.0]], [[0.0]], [[0.0]], [[0.0]], [[0.0]], [[0.0]], [[0.0]], [[0.0]], [[0.0]], [[0.0]], [[0.0]], [[0.0]], [[0.0]], [[0.0]], [[0.0]], [[0.0]], [[0.0]], [[0.0]], [[0.0]], [[0.0]], [[0.0]], [[0.0]], [[0.0]], [[0.0]], [[0.0]], [[0.0]], [[0.0]], [[0.0]], [[0.0]], [[0.0]]], [[[0.0]], [[0.0]], [[0.0]], [[0.0]], [[0.0]], [[0.0]], [[0.0]], [[0.0]], [[0.0]], [[0.0]], [[0.0]], [[0.0]], [[0.0]], [[0.0]], [[0.0]], [[0.0]], [[0.0]], [[0.0]], [[0.0]], [[0.0]], [[0.0]], [[0.0]], [[0.0]], [[0.0]], [[0.0]], [[0.0]], [[0.0]], [[0.0]], [[0.0]], [[0.0]], [[0.0]], [[0.0]], [[0.0]], [[0.0]], [[0.0]], [[0.0]], [[0.0]], [[0.0]], [[0.0]], [[0.0]], [[0.0]], [[0.0]], [[0.0]], [[0.0]], [[0.0]], [[0.0]], [[0.0]], [[0.0]], [[0.0]], [[0.0]]], [[[0.0]], [[0.0]], [[0.0]], [[0.0]], [[0.0]], [[0.0]], [[0.0]], [[0.0]], [[0.0]], [[0.0]], [[0.0]], [[0.0]], [[0.0]], [[0.0]], [[0.0]], [[0.0]], [[0.0]], [[0.0]], [[0.0]], [[0.0]], [[0.0]], [[0.0]], [[0.0]], [[0.0]], [[0.0]], [[0.0]], [[0.0]], [[0.0]], [[0.0]], [[0.0]], [[0.0]], [[0.0]]], [[[0.0]], [[0.0]], [[0.0]], [[0.0]], [[0.0]], [[0.0]], [[0.0]], [[0.0]], [[0.0]], [[0.0]], [[0.0]], [[0.0]], [[0.0]], [[0.0]], [[0.0]], [[0.0]], [[0.0]], [[0.0]], [[0.0]], [[0.0]], [[0.0]], [[0.0]], [[0.0]], [[0.0]], [[0.0]], [[0.0]], [[0.0]], [[0.0]], [[0.0]], [[0.0]], [[0.0]], [[0.0]], [[0.0]], [[0.0]], [[0.0]], [[0.0]], [[0.0]], [[0.0]], [[0.0]], [[0.0]], [[0.0]], [[0.0]], [[0.0]], [[0.0]], [[0.0]], [[0.0]], [[0.0]], [[0.0]], [[0.0]], [[0.0]], [[0.0]], [[0.0]]], [[[0.0]], [[0.0]], [[0.0]], [[0.0]], [[0.0]], [[0.0]], [[0.0]], [[0.0]], [[0.0]], [[0.0]], [[0.0]], [[0.0]], [[0.0]], [[0.0]], [[0.0]], [[0.0]], [[0.0]], [[0.0]], [[0.0]], [[0.0]], [[0.0]], [[0.0]], [[0.0]], [[0.0]], [[0.0]], [[0.0]], [[0.0]], [[0.0]], [[0.0]], [[0.0]], [[0.0]], [[0.0]], [[0.0]], [[0.0]], [[0.0]], [[0.0]], [[0.0]], [[0.0]], [[0.0]], [[0.0]], [[0.0]], [[0.0]], [[0.0]], [[0.0]], [[0.0]], [[0.0]], [[0.0]], [[0.0]], [[0.0]], [[0.0]], [[0.0]], [[0.0]], [[0.0]]], [[[0.0]], [[0.0]], [[0.0]], [[0.0]], [[0.0]], [[0.0]], [[0.0]], [[0.0]], [[0.0]], [[0.0]], [[0.0]], [[0.0]], [[0.0]], [[0.0]], [[0.0]], [[0.0]], [[0.0]], [[0.0]], [[0.0]], [[0.0]], [[0.0]], [[0.0]], [[0.0]], [[0.0]], [[0.0]], [[0.0]], [[0.0]], [[0.0]], [[0.0]], [[0.0]], [[0.0]], [[0.0]], [[0.0]], [[0.0]], [[0.0]], [[0.0]], [[0.0]], [[0.0]], [[0.0]], [[0.0]], [[0.0]], [[0.0]], [[0.0]], [[0.0]], [[0.0]], [[0.0]], [[0.0]], [[0.0]], [[0.0]], [[0.0]], [[0.0]], [[0.0]], [[0.0]], [[0.0]]], [[[0.0]], [[0.0]], [[0.0]], [[0.0]], [[0.0]], [[0.0]], [[0.0]], [[0.0]], [[0.0]], [[0.0]], [[0.0]], [[0.0]], [[0.0]], [[0.0]], [[0.0]], [[0.0]], [[0.0]], [[0.0]], [[0.0]], [[0.0]], [[0.0]], [[0.0]], [[0.0]], [[0.0]], [[0.0]], [[0.0]], [[0.0]], [[0.0]], [[0.0]], [[0.0]], [[0.0]], [[0.0]], [[0.0]], [[0.0]], [[0.0]], [[0.0]], [[0.0]], [[0.0]], [[0.0]], [[0.0]], [[0.0]], [[0.0]], [[0.0]], [[0.0]], [[0.0]], [[0.0]], [[0.0]], [[0.0]], [[0.0]], [[0.0]], [[0.0]], [[0.0]], [[0.0]], [[0.0]], [[0.0]]]], \"firstDimensionName\": \"Layer\", \"secondDimensionName\": \"Neuron\"}\n",
       "    )\n",
       "    </script>"
      ],
      "text/plain": [
       "<circuitsvis.utils.render.RenderedHTML at 0x7fbdd4e683d0>"
      ]
     },
     "execution_count": 31,
     "metadata": {},
     "output_type": "execute_result"
    }
   ],
   "source": [
    "from circuitsvis.activations import text_neuron_activations\n",
    "\n",
    "tokens = [\n",
    "    inputs['input_ids'][batch_idx, :token_idx+1].tolist() for batch_idx, token_idx in zip(batch_indices, token_indices)\n",
    "]\n",
    "tokens = list_decode(tokens)\n",
    "activations = [\n",
    "    acts[batch_idx, :token_id+1, None, None] for batch_idx, token_id in zip(batch_indices, token_indices)\n",
    "]\n",
    "text_neuron_activations(tokens, activations)"
   ]
  },
  {
   "cell_type": "code",
   "execution_count": 18,
   "metadata": {},
   "outputs": [
    {
     "data": {
      "text/plain": [
       "tensor([40, 40, 40, 40, 40, 40, 40, 40, 15,  7,  7,  1, 15, 15, 15, 40, 15, 15,\n",
       "        15,  7, 53, 53, 15, 15,  7, 15, 15, 46,  1, 15])"
      ]
     },
     "execution_count": 18,
     "metadata": {},
     "output_type": "execute_result"
    }
   ],
   "source": [
    "batch_indices"
   ]
  },
  {
   "cell_type": "code",
   "execution_count": null,
   "metadata": {},
   "outputs": [],
   "source": []
  },
  {
   "cell_type": "code",
   "execution_count": 19,
   "metadata": {},
   "outputs": [
    {
     "name": "stdout",
     "output_type": "stream",
     "text": [
      "\n",
      "972 P.2d 566 (1999)\n",
      "CITY OF TACOMA, a municipal corporation, Appellant,\n",
      "v.\n",
      "FRANCISCAN FOUNDATION, aka St. Joseph Hospital And Healthcare Center, a Washington nonprofit corporation, Respondent.\n",
      "No. 23107-7-II.\n",
      "Court of Appeals of Washington, Division 2.\n",
      "March 5, 1999.\n",
      "*567 Jean P Homan, Assistant City Attorney, Tacoma, for Appellant.\n",
      "Linda Gayle White Atkins, Davis Wright Tremaine, Bellevue, for Respondent.\n",
      "HOUGHTON, J.\n",
      "\n"
     ]
    }
   ],
   "source": [
    "print(model.tokenizer.decode(inputs[40].ids))"
   ]
  },
  {
   "cell_type": "code",
   "execution_count": 22,
   "metadata": {},
   "outputs": [
    {
     "ename": "TypeError",
     "evalue": "can't convert cuda:0 device type tensor to numpy. Use Tensor.cpu() to copy the tensor to host memory first.",
     "output_type": "error",
     "traceback": [
      "\u001b[0;31m---------------------------------------------------------------------------\u001b[0m",
      "\u001b[0;31mTypeError\u001b[0m                                 Traceback (most recent call last)",
      "\u001b[1;32m/share/u/smarks/dictionary-circuits/testing.ipynb Cell 13\u001b[0m line \u001b[0;36m6\n\u001b[1;32m      <a href='vscode-notebook-cell://ssh-remote%2B10.200.205.162/share/u/smarks/dictionary-circuits/testing.ipynb#X15sdnNjb2RlLXJlbW90ZQ%3D%3D?line=3'>4</a>\u001b[0m found_indices \u001b[39m=\u001b[39m torch\u001b[39m.\u001b[39margsort(dictionary_activations, descending\u001b[39m=\u001b[39m\u001b[39mTrue\u001b[39;00m)[:k]\n\u001b[1;32m      <a href='vscode-notebook-cell://ssh-remote%2B10.200.205.162/share/u/smarks/dictionary-circuits/testing.ipynb#X15sdnNjb2RlLXJlbW90ZQ%3D%3D?line=4'>5</a>\u001b[0m num_datapoints \u001b[39m=\u001b[39m \u001b[39mint\u001b[39m(dictionary_activations\u001b[39m.\u001b[39mshape[\u001b[39m0\u001b[39m]\u001b[39m/\u001b[39m\u001b[39m128\u001b[39m)\n\u001b[0;32m----> <a href='vscode-notebook-cell://ssh-remote%2B10.200.205.162/share/u/smarks/dictionary-circuits/testing.ipynb#X15sdnNjb2RlLXJlbW90ZQ%3D%3D?line=5'>6</a>\u001b[0m datapoint_indices \u001b[39m=\u001b[39m[np\u001b[39m.\u001b[39munravel_index(i, (\u001b[39m64\u001b[39m, \u001b[39m128\u001b[39m)) \u001b[39mfor\u001b[39;00m i \u001b[39min\u001b[39;00m found_indices]\n\u001b[1;32m      <a href='vscode-notebook-cell://ssh-remote%2B10.200.205.162/share/u/smarks/dictionary-circuits/testing.ipynb#X15sdnNjb2RlLXJlbW90ZQ%3D%3D?line=6'>7</a>\u001b[0m text_list \u001b[39m=\u001b[39m []\n\u001b[1;32m      <a href='vscode-notebook-cell://ssh-remote%2B10.200.205.162/share/u/smarks/dictionary-circuits/testing.ipynb#X15sdnNjb2RlLXJlbW90ZQ%3D%3D?line=7'>8</a>\u001b[0m full_text \u001b[39m=\u001b[39m []\n",
      "\u001b[1;32m/share/u/smarks/dictionary-circuits/testing.ipynb Cell 13\u001b[0m line \u001b[0;36m6\n\u001b[1;32m      <a href='vscode-notebook-cell://ssh-remote%2B10.200.205.162/share/u/smarks/dictionary-circuits/testing.ipynb#X15sdnNjb2RlLXJlbW90ZQ%3D%3D?line=3'>4</a>\u001b[0m found_indices \u001b[39m=\u001b[39m torch\u001b[39m.\u001b[39margsort(dictionary_activations, descending\u001b[39m=\u001b[39m\u001b[39mTrue\u001b[39;00m)[:k]\n\u001b[1;32m      <a href='vscode-notebook-cell://ssh-remote%2B10.200.205.162/share/u/smarks/dictionary-circuits/testing.ipynb#X15sdnNjb2RlLXJlbW90ZQ%3D%3D?line=4'>5</a>\u001b[0m num_datapoints \u001b[39m=\u001b[39m \u001b[39mint\u001b[39m(dictionary_activations\u001b[39m.\u001b[39mshape[\u001b[39m0\u001b[39m]\u001b[39m/\u001b[39m\u001b[39m128\u001b[39m)\n\u001b[0;32m----> <a href='vscode-notebook-cell://ssh-remote%2B10.200.205.162/share/u/smarks/dictionary-circuits/testing.ipynb#X15sdnNjb2RlLXJlbW90ZQ%3D%3D?line=5'>6</a>\u001b[0m datapoint_indices \u001b[39m=\u001b[39m[np\u001b[39m.\u001b[39;49munravel_index(i, (\u001b[39m64\u001b[39;49m, \u001b[39m128\u001b[39;49m)) \u001b[39mfor\u001b[39;00m i \u001b[39min\u001b[39;00m found_indices]\n\u001b[1;32m      <a href='vscode-notebook-cell://ssh-remote%2B10.200.205.162/share/u/smarks/dictionary-circuits/testing.ipynb#X15sdnNjb2RlLXJlbW90ZQ%3D%3D?line=6'>7</a>\u001b[0m text_list \u001b[39m=\u001b[39m []\n\u001b[1;32m      <a href='vscode-notebook-cell://ssh-remote%2B10.200.205.162/share/u/smarks/dictionary-circuits/testing.ipynb#X15sdnNjb2RlLXJlbW90ZQ%3D%3D?line=7'>8</a>\u001b[0m full_text \u001b[39m=\u001b[39m []\n",
      "File \u001b[0;32m<__array_function__ internals>:200\u001b[0m, in \u001b[0;36munravel_index\u001b[0;34m(*args, **kwargs)\u001b[0m\n",
      "File \u001b[0;32m~/.local/lib/python3.8/site-packages/torch/_tensor.py:1030\u001b[0m, in \u001b[0;36mTensor.__array__\u001b[0;34m(self, dtype)\u001b[0m\n\u001b[1;32m   1028\u001b[0m     \u001b[39mreturn\u001b[39;00m handle_torch_function(Tensor\u001b[39m.\u001b[39m__array__, (\u001b[39mself\u001b[39m,), \u001b[39mself\u001b[39m, dtype\u001b[39m=\u001b[39mdtype)\n\u001b[1;32m   1029\u001b[0m \u001b[39mif\u001b[39;00m dtype \u001b[39mis\u001b[39;00m \u001b[39mNone\u001b[39;00m:\n\u001b[0;32m-> 1030\u001b[0m     \u001b[39mreturn\u001b[39;00m \u001b[39mself\u001b[39;49m\u001b[39m.\u001b[39;49mnumpy()\n\u001b[1;32m   1031\u001b[0m \u001b[39melse\u001b[39;00m:\n\u001b[1;32m   1032\u001b[0m     \u001b[39mreturn\u001b[39;00m \u001b[39mself\u001b[39m\u001b[39m.\u001b[39mnumpy()\u001b[39m.\u001b[39mastype(dtype, copy\u001b[39m=\u001b[39m\u001b[39mFalse\u001b[39;00m)\n",
      "\u001b[0;31mTypeError\u001b[0m: can't convert cuda:0 device type tensor to numpy. Use Tensor.cpu() to copy the tensor to host memory first."
     ]
    }
   ],
   "source": [
    "import numpy as np\n",
    "import torch\n",
    "k = 10\n",
    "found_indices = torch.argsort(dictionary_activations, descending=True)[:k]\n",
    "num_datapoints = int(dictionary_activations.shape[0]/128)\n",
    "datapoint_indices =[np.unravel_index(i, (64, 128)) for i in found_indices]\n",
    "text_list = []\n",
    "full_text = []\n",
    "token_list = []\n",
    "full_token_list = []\n",
    "for md, s_ind in datapoint_indices:\n",
    "    md = int(md)\n",
    "    s_ind = int(s_ind)\n",
    "    full_tok = torch.tensor(dataset[md][\"input_ids\"])\n",
    "    full_text.append(tokenizer.decode(full_tok))\n",
    "    tok = dataset[md][\"input_ids\"][:s_ind+1]\n",
    "    text = tokenizer.decode(tok)\n",
    "    text_list.append(text)\n",
    "    token_list.append(tok)\n",
    "    full_token_list.append(full_tok)\n",
    "text_list, full_text, token_list, full_token_list"
   ]
  },
  {
   "cell_type": "code",
   "execution_count": null,
   "metadata": {},
   "outputs": [],
   "source": [
    "# Now we can use the model to get the activations\n",
    "from torch.utils.data import DataLoader\n",
    "from tqdm.auto import tqdm\n",
    "from einops import rearrange\n",
    "import torch \n",
    "# num_features, d_model = autoencoder.encoder.shape # Fix this for shape purposes\n",
    "texts = buffer.text_batch()\n",
    "datapoints = len(texts)\n",
    "batch_size = 64\n",
    "neuron_activations = torch.zeros((datapoints*max_length, d_model))\n",
    "dictionary_activations = torch.zeros((datapoints*max_length))\n",
    "\n",
    "with torch.no_grad(), dataset.formatted_as(\"pt\"):\n",
    "    dl = DataLoader(dataset[\"input_ids\"], batch_size=batch_size)\n",
    "    for i, batch in enumerate(tqdm(dl)):\n",
    "        # Replace this with your residual stream stuff\n",
    "        # _, cache = model.run_with_cache(batch.to(device))\n",
    "        # batched_neuron_activations = rearrange(cache[cache_name], \"b s n -> (b s) n\" )\n",
    "\n",
    "        # Replace with your projection to probe direction\n",
    "        # batched_dictionary_activations = smaller_auto_encoder.encode(batched_neuron_activations)\n",
    "        dictionary_activations[i*batch_size*max_length:(i+1)*batch_size*max_length] = batched_dictionary_activations.cpu()"
   ]
  },
  {
   "cell_type": "code",
   "execution_count": 9,
   "metadata": {},
   "outputs": [],
   "source": [
    "import torch as t\n",
    "def entropy(p):\n",
    "    p = p/p.sum(dim=-1, keepdim=True)\n",
    "    log_p = p.log().nan_to_num()\n",
    "    entropies = -(p * log_p).sum(dim=-1)\n",
    "    out = entropies.nan_to_num().mean()\n",
    "    return out"
   ]
  },
  {
   "cell_type": "code",
   "execution_count": 10,
   "metadata": {},
   "outputs": [
    {
     "data": {
      "text/plain": [
       "tensor(0.4778)"
      ]
     },
     "execution_count": 10,
     "metadata": {},
     "output_type": "execute_result"
    }
   ],
   "source": [
    "x = t.Tensor([[0, 0,0], [1, 4, 2]])\n",
    "entropy(x)"
   ]
  },
  {
   "cell_type": "code",
   "execution_count": 11,
   "metadata": {},
   "outputs": [
    {
     "data": {
      "text/plain": [
       "tensor([[0., 0., 0.],\n",
       "        [1., 4., 2.]])"
      ]
     },
     "execution_count": 11,
     "metadata": {},
     "output_type": "execute_result"
    }
   ],
   "source": [
    "x"
   ]
  },
  {
   "cell_type": "code",
   "execution_count": 12,
   "metadata": {},
   "outputs": [
    {
     "data": {
      "text/plain": [
       "tensor([[   nan,    nan,    nan],\n",
       "        [0.0000, 5.5452, 1.3863]])"
      ]
     },
     "execution_count": 12,
     "metadata": {},
     "output_type": "execute_result"
    }
   ],
   "source": [
    "x * x.log()"
   ]
  },
  {
   "cell_type": "code",
   "execution_count": 6,
   "metadata": {},
   "outputs": [
    {
     "data": {
      "text/plain": [
       "nan"
      ]
     },
     "execution_count": 6,
     "metadata": {},
     "output_type": "execute_result"
    }
   ],
   "source": [
    "0 * float(\"-inf\")"
   ]
  },
  {
   "cell_type": "code",
   "execution_count": 1,
   "metadata": {},
   "outputs": [
    {
     "name": "stdout",
     "output_type": "stream",
     "text": [
      "Entropy: 0.6302395462989807\n",
      "Gradients: tensor([[ 0.5003,  0.2692, -0.1484,  6.2063,  6.2063],\n",
      "        [ 0.0000,  0.0000,  0.0000,  0.0000,  0.0000],\n",
      "        [ 0.0384,  0.0384, -0.0575,  6.1106,  6.1106]])\n"
     ]
    }
   ],
   "source": [
    "import torch as t\n",
    "\n",
    "def entropy(p):\n",
    "    eps = 1e-8\n",
    "    # Calculate the sum along the last dimension (i.e., sum of each vector in the batch)\n",
    "    p_sum = p.sum(dim=-1, keepdim=True)\n",
    "    \n",
    "    # Avoid in-place operations that can interfere with autograd\n",
    "    p_normed = p / (p_sum + eps)  # Add eps to prevent division by zero\n",
    "    \n",
    "    # Compute the log safely, adding eps inside the log to prevent log(0)\n",
    "    p_log = t.log(p_normed + eps)  # Add eps to prevent log(0)\n",
    "\n",
    "    # Compute the entropy, this will give zero for elements where p_normed is zero\n",
    "    ent = -(p_normed * p_log)\n",
    "    \n",
    "    # Zero out the entropy where the sum of p is zero (i.e., for all-zero vectors)\n",
    "    ent = t.where(p_sum > 0, ent, t.zeros_like(ent))\n",
    "\n",
    "    # Sum the entropy across the features and then take the mean across the batch\n",
    "    return ent.sum(dim=-1).mean()\n",
    "\n",
    "# Example usage:\n",
    "batch_size = 3\n",
    "vector_length = 5\n",
    "p = t.tensor([[0.1, 0.2, 0.7, 0.0, 0.0],\n",
    "              [0.0, 0.0, 0.0, 0.0, 0.0],  # All-zero vector\n",
    "              [0.3, 0.3, 0.4, 0.0, 0.0]], requires_grad=True)\n",
    "\n",
    "entropy_value = entropy(p)\n",
    "entropy_value.backward()\n",
    "\n",
    "print(\"Entropy:\", entropy_value.item())\n",
    "print(\"Gradients:\", p.grad)"
   ]
  },
  {
   "cell_type": "code",
   "execution_count": null,
   "metadata": {},
   "outputs": [],
   "source": []
  }
 ],
 "metadata": {
  "kernelspec": {
   "display_name": "Python 3",
   "language": "python",
   "name": "python3"
  },
  "language_info": {
   "codemirror_mode": {
    "name": "ipython",
    "version": 3
   },
   "file_extension": ".py",
   "mimetype": "text/x-python",
   "name": "python",
   "nbconvert_exporter": "python",
   "pygments_lexer": "ipython3",
   "version": "3.8.10"
  }
 },
 "nbformat": 4,
 "nbformat_minor": 2
}
