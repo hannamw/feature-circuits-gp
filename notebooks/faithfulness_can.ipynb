{
 "cells": [
  {
   "cell_type": "code",
   "execution_count": 58,
   "metadata": {},
   "outputs": [],
   "source": [
    "from nnsight import LanguageModel\n",
    "from activation_utils import SparseAct\n",
    "import torch as t\n",
    "import plotly.express as px\n",
    "from plotly.subplots import make_subplots\n",
    "from loading_utils import load_examples\n",
    "from dictionary_learning import AutoEncoder\n",
    "from dictionary_learning.dictionary import IdentityDict\n",
    "from ablation_sam import run_with_ablations\n",
    "from tqdm import tqdm\n",
    "import pandas as pd\n",
    "from collections import defaultdict"
   ]
  },
  {
   "cell_type": "code",
   "execution_count": 59,
   "metadata": {},
   "outputs": [
    {
     "name": "stderr",
     "output_type": "stream",
     "text": [
      "Special tokens have been added in the vocabulary, make sure the associated word embeddings are fine-tuned or trained.\n"
     ]
    }
   ],
   "source": [
    "device = 'cuda:0'\n",
    "model = LanguageModel('EleutherAI/pythia-70m-deduped', device_map=device, dispatch=True)\n",
    "\n",
    "start_layer = 0 # explain the model starting here\n",
    "\n",
    "feature_circuit = t.load('circuits/rc_dict10_node0.1_edge0.01_n30_aggsum.pt')['nodes']\n",
    "neuron_circuit = t.load('circuits/rc_dictid_node0.02_edge0.002_n30_aggsum.pt')['nodes']\n",
    "\n",
    "examples = load_examples('/share/projects/dictionary_circuits/data/phenomena/rc_test.json', 40, model, length=6)\n",
    "\n",
    "ablation = 'mean'"
   ]
  },
  {
   "cell_type": "code",
   "execution_count": 60,
   "metadata": {},
   "outputs": [
    {
     "name": "stdout",
     "output_type": "stream",
     "text": [
      "mlp_0\n",
      "mlp_1\n",
      "mlp_2\n",
      "mlp_3\n",
      "mlp_4\n",
      "mlp_5\n"
     ]
    }
   ],
   "source": [
    "# load submodules\n",
    "submodules = []\n",
    "if start_layer < 0: submodules.append(model.gpt_neox.embed_in)\n",
    "for i in range(start_layer, len(model.gpt_neox.layers)):\n",
    "    submodules.extend([\n",
    "        model.gpt_neox.layers[i].attention,\n",
    "        model.gpt_neox.layers[i].mlp,\n",
    "        model.gpt_neox.layers[i]\n",
    "    ])\n",
    "\n",
    "submod_names = {\n",
    "    model.gpt_neox.embed_in : 'embed'\n",
    "}\n",
    "for i in range(len(model.gpt_neox.layers)):\n",
    "    submod_names[model.gpt_neox.layers[i].attention] = f'attn_{i}'\n",
    "    submod_names[model.gpt_neox.layers[i].mlp] = f'mlp_{i}'\n",
    "    submod_names[model.gpt_neox.layers[i]] = f'resid_{i}'\n",
    "\n",
    "\n",
    "# select submodules\n",
    "criterium = \"mlp\"\n",
    "criterium_name = \"feature_\" + criterium\n",
    "selected_sumodules = []\n",
    "for submod in submodules:\n",
    "    name = submod_names[submod]\n",
    "    if criterium in name:\n",
    "        selected_sumodules.append(submod)\n",
    "        print(name)"
   ]
  },
  {
   "cell_type": "code",
   "execution_count": 61,
   "metadata": {},
   "outputs": [],
   "source": [
    "# load dictionaries\n",
    "dict_id = 10\n",
    "\n",
    "activation_dim = 512\n",
    "expansion_factor = 64\n",
    "dict_size = expansion_factor * activation_dim\n",
    "\n",
    "feat_dicts = {}\n",
    "ae = AutoEncoder(activation_dim, dict_size).to(device)\n",
    "ae.load_state_dict(t.load(f'/share/projects/dictionary_circuits/autoencoders/pythia-70m-deduped/embed/{dict_id}_{dict_size}/ae.pt'))\n",
    "feat_dicts[model.gpt_neox.embed_in] = ae\n",
    "for i in range(len(model.gpt_neox.layers)):\n",
    "    ae = AutoEncoder(activation_dim, dict_size).to(device)\n",
    "    ae.load_state_dict(t.load(f'/share/projects/dictionary_circuits/autoencoders/pythia-70m-deduped/attn_out_layer{i}/{dict_id}_{dict_size}/ae.pt'))\n",
    "    feat_dicts[model.gpt_neox.layers[i].attention] = ae\n",
    "\n",
    "    ae = AutoEncoder(activation_dim, dict_size).to(device)\n",
    "    ae.load_state_dict(t.load(f'/share/projects/dictionary_circuits/autoencoders/pythia-70m-deduped/mlp_out_layer{i}/{dict_id}_{dict_size}/ae.pt'))\n",
    "    feat_dicts[model.gpt_neox.layers[i].mlp] = ae\n",
    "\n",
    "    ae = AutoEncoder(activation_dim, dict_size).to(device)\n",
    "    ae.load_state_dict(t.load(f'/share/projects/dictionary_circuits/autoencoders/pythia-70m-deduped/resid_out_layer{i}/{dict_id}_{dict_size}/ae.pt'))\n",
    "    feat_dicts[model.gpt_neox.layers[i]] = ae\n",
    "\n",
    "neuron_dicts = {\n",
    "    submod : IdentityDict(activation_dim).to(device) for submod in submodules\n",
    "}"
   ]
  },
  {
   "cell_type": "code",
   "execution_count": 62,
   "metadata": {},
   "outputs": [],
   "source": [
    "# load data\n",
    "clean_inputs = t.cat([e['clean_prefix'] for e in examples], dim=0).to('cuda:0')\n",
    "clean_answer_idxs = t.tensor([e['clean_answer'] for e in examples], dtype=t.long, device='cuda:0')\n",
    "patch_inputs = t.cat([e['patch_prefix'] for e in examples], dim=0).to('cuda:0')\n",
    "patch_answer_idxs = t.tensor([e['patch_answer'] for e in examples], dtype=t.long, device='cuda:0')\n",
    "\n",
    "\n",
    "def metric_fn(model):\n",
    "    return (\n",
    "        - t.gather(model.embed_out.output[:,-1,:], dim=-1, index=patch_answer_idxs.view(-1, 1)).squeeze(-1) + \\\n",
    "        t.gather(model.embed_out.output[:,-1,:], dim=-1, index=clean_answer_idxs.view(-1, 1)).squeeze(-1)\n",
    "    )"
   ]
  },
  {
   "cell_type": "code",
   "execution_count": 63,
   "metadata": {},
   "outputs": [],
   "source": [
    "# set ablation fn\n",
    "# if args.ablation == 'resample': ablation_fn = lambda x: x[t.randperm(x.act.shape[0])] # TODO this is wrong for SparseActs\n",
    "if ablation == 'zero': ablation_fn = lambda x: x.zeros_like()\n",
    "if ablation == 'mean': ablation_fn = lambda x: x.mean(dim=0).expand_as(x)\n"
   ]
  },
  {
   "cell_type": "code",
   "execution_count": 64,
   "metadata": {},
   "outputs": [
    {
     "name": "stderr",
     "output_type": "stream",
     "text": [
      "You're using a GPTNeoXTokenizerFast tokenizer. Please note that with a fast tokenizer, using the `__call__` method is faster than using a method to encode the text followed by a call to the `pad` method to get a padded encoding.\n"
     ]
    },
    {
     "name": "stdout",
     "output_type": "stream",
     "text": [
      "F(M) = 1.4239044189453125\n"
     ]
    }
   ],
   "source": [
    "# get F(M)\n",
    "with model.trace(clean_inputs), t.no_grad():\n",
    "    metric = metric_fn(model).save()\n",
    "fm = metric.value.mean()\n",
    "print(f\"F(M) = {fm}\")"
   ]
  },
  {
   "cell_type": "code",
   "execution_count": 65,
   "metadata": {},
   "outputs": [],
   "source": [
    "# # get F(∅)\n",
    "# fempty = run_with_ablations(\n",
    "#     clean_inputs,\n",
    "#     patch_inputs,\n",
    "#     model,\n",
    "#     submodules,\n",
    "#     feat_dicts,\n",
    "#     nodes = {\n",
    "#         submod : SparseAct(act=t.zeros(dict_size, dtype=t.bool), resc=t.zeros(1, dtype=t.bool)).to(device)\n",
    "#         for submod in submodules\n",
    "#     },\n",
    "#     metric_fn=metric_fn,\n",
    "#     ablation_fn=ablation_fn\n",
    "# )\n",
    "# fempty = fempty.mean()\n",
    "# print(f\"F(∅) = {fempty}\")"
   ]
  },
  {
   "cell_type": "code",
   "execution_count": 66,
   "metadata": {},
   "outputs": [
    {
     "name": "stdout",
     "output_type": "stream",
     "text": [
      "Layer 0: ['attn_0', 'mlp_0'] submodules\n"
     ]
    },
    {
     "name": "stderr",
     "output_type": "stream",
     "text": [
      "100%|██████████| 20/20 [00:56<00:00,  2.82s/it]\n"
     ]
    },
    {
     "name": "stdout",
     "output_type": "stream",
     "text": [
      "Layer 1: ['attn_1', 'mlp_1'] submodules\n"
     ]
    },
    {
     "name": "stderr",
     "output_type": "stream",
     "text": [
      "100%|██████████| 20/20 [00:58<00:00,  2.91s/it]\n"
     ]
    },
    {
     "name": "stdout",
     "output_type": "stream",
     "text": [
      "Layer 2: ['attn_2', 'mlp_2'] submodules\n"
     ]
    },
    {
     "name": "stderr",
     "output_type": "stream",
     "text": [
      "100%|██████████| 20/20 [00:54<00:00,  2.74s/it]\n"
     ]
    },
    {
     "name": "stdout",
     "output_type": "stream",
     "text": [
      "Layer 3: ['attn_3', 'mlp_3'] submodules\n"
     ]
    },
    {
     "name": "stderr",
     "output_type": "stream",
     "text": [
      "100%|██████████| 20/20 [00:55<00:00,  2.79s/it]\n"
     ]
    },
    {
     "name": "stdout",
     "output_type": "stream",
     "text": [
      "Layer 4: ['attn_4', 'mlp_4'] submodules\n"
     ]
    },
    {
     "name": "stderr",
     "output_type": "stream",
     "text": [
      "100%|██████████| 20/20 [00:54<00:00,  2.73s/it]\n"
     ]
    },
    {
     "name": "stdout",
     "output_type": "stream",
     "text": [
      "Layer 5: ['attn_5', 'mlp_5'] submodules\n"
     ]
    },
    {
     "name": "stderr",
     "output_type": "stream",
     "text": [
      "100%|██████████| 20/20 [00:55<00:00,  2.75s/it]\n"
     ]
    }
   ],
   "source": [
    "# sweeping over thresholds, get fc and fc' for:\n",
    "# feature circuit with residuals\n",
    "# feature circuit without residuals\n",
    "# neuron circuit\n",
    "# random feature circuit with all residuals\n",
    "\n",
    "fc = {'features' : {}, 'features_wo_resids' : {}, 'neurons' : {}, 'random' : {}}\n",
    "fccomp = {'features' : {}, 'features_wo_resids' : {}, 'neurons' : {}, 'random' : {}}\n",
    "n_nodes = {'features' : {}, 'features_wo_resids' : {}, 'neurons' : {}, 'random' : {}}\n",
    "fempties = dict()\n",
    "\n",
    "thresholds = t.logspace(-4, -1, 20, 10)\n",
    "layers = range(start_layer, len(model.gpt_neox.layers))\n",
    "with t.no_grad():\n",
    "    for layer in layers:\n",
    "        for keys in fc.keys():\n",
    "            fc[keys][layer] = dict()\n",
    "            fccomp[keys][layer] = dict()\n",
    "            n_nodes[keys][layer] = dict()\n",
    "\n",
    "        # select submodules\n",
    "        criterium = str(layer)\n",
    "        criterium_name = f'layer_{criterium}'\n",
    "        selected_submodules = []\n",
    "        names = []\n",
    "        for submod in submodules:\n",
    "            name = submod_names[submod]\n",
    "            if criterium in name and not 'resid' in name:\n",
    "                selected_submodules.append(submod)\n",
    "                names.append(name)\n",
    "        print(f'Layer {layer}: {names} submodules')\n",
    "\n",
    "        # get F(∅)\n",
    "        fempties[layer] = run_with_ablations(\n",
    "            clean_inputs,\n",
    "            patch_inputs,\n",
    "            model,\n",
    "            selected_submodules,\n",
    "            feat_dicts,\n",
    "            nodes = {\n",
    "                submod : SparseAct(act=t.zeros(dict_size, dtype=t.bool), resc=t.zeros(1, dtype=t.bool)).to(device)\n",
    "                for submod in selected_submodules\n",
    "            },\n",
    "            metric_fn=metric_fn,\n",
    "            ablation_fn=ablation_fn\n",
    "        ).mean()\n",
    "\n",
    "        for threshold in tqdm(thresholds):        \n",
    "            feat_nodes = {\n",
    "                submod : feature_circuit[submod_names[submod]].abs() > threshold for submod in selected_submodules\n",
    "            }\n",
    "            neuron_nodes = {\n",
    "                submod : neuron_circuit[submod_names[submod]].abs() > threshold for submod in selected_submodules\n",
    "            }\n",
    "            n_nodes['features'][layer][threshold] = sum([feat_nodes[submod].act.sum().item() + feat_nodes[submod].resc.sum().item() for submod in selected_submodules])\n",
    "            n_nodes['features_wo_resids'][layer][threshold] = sum([feat_nodes[submod].act.sum().item() for submod in selected_submodules])\n",
    "            n_nodes['neurons'][layer][threshold] = sum([neuron_nodes[submod].act.sum().item() for submod in selected_submodules])\n",
    "            n_nodes['random'][layer][threshold] = n_nodes['features_wo_resids'][layer][threshold]\n",
    "\n",
    "            random_nodes = {}\n",
    "            for submod in selected_submodules:\n",
    "                nodes = SparseAct(act=t.zeros(dict_size, dtype=t.bool), resc=t.ones(1, dtype=t.bool)).to(device)\n",
    "                nodes.act[t.randperm(dict_size)[:n_nodes['random'][layer][threshold]]] = True\n",
    "                random_nodes[submod] = nodes\n",
    "\n",
    "            fc['features'][layer][threshold] = run_with_ablations(\n",
    "                clean_inputs,\n",
    "                patch_inputs,\n",
    "                model,\n",
    "                selected_submodules,\n",
    "                feat_dicts,\n",
    "                nodes=feat_nodes,\n",
    "                metric_fn=metric_fn,\n",
    "                ablation_fn=ablation_fn\n",
    "            ).mean()\n",
    "            fc['features_wo_resids'][layer][threshold] = run_with_ablations(\n",
    "                clean_inputs,\n",
    "                patch_inputs,\n",
    "                model,\n",
    "                selected_submodules,\n",
    "                feat_dicts,\n",
    "                nodes=feat_nodes,\n",
    "                metric_fn=metric_fn,\n",
    "                ablation_fn=ablation_fn,\n",
    "                handle_resids='remove'\n",
    "            ).mean()\n",
    "            fc['neurons'][layer][threshold] = run_with_ablations(\n",
    "                clean_inputs,\n",
    "                patch_inputs,\n",
    "                model,\n",
    "                selected_submodules,\n",
    "                neuron_dicts,\n",
    "                nodes=neuron_nodes,\n",
    "                metric_fn=metric_fn,\n",
    "                ablation_fn=ablation_fn\n",
    "            ).mean()\n",
    "            fc['random'][layer][threshold] = run_with_ablations(\n",
    "                clean_inputs,\n",
    "                patch_inputs,\n",
    "                model,\n",
    "                selected_submodules,\n",
    "                feat_dicts,\n",
    "                nodes=random_nodes,\n",
    "                metric_fn=metric_fn,\n",
    "                ablation_fn=ablation_fn\n",
    "            ).mean()\n",
    "            fccomp['features'][layer][threshold] = run_with_ablations(\n",
    "                clean_inputs,\n",
    "                patch_inputs,\n",
    "                model,\n",
    "                selected_submodules,\n",
    "                feat_dicts,\n",
    "                nodes=feat_nodes,\n",
    "                metric_fn=metric_fn,\n",
    "                ablation_fn=ablation_fn,\n",
    "                complement=True\n",
    "            ).mean()\n",
    "            fccomp['features_wo_resids'][layer][threshold] = run_with_ablations(\n",
    "                clean_inputs,\n",
    "                patch_inputs,\n",
    "                model,\n",
    "                selected_submodules,\n",
    "                feat_dicts,\n",
    "                nodes=feat_nodes,\n",
    "                metric_fn=metric_fn,\n",
    "                ablation_fn=ablation_fn,\n",
    "                handle_resids='keep',\n",
    "                complement=True\n",
    "            ).mean()\n",
    "            fccomp['neurons'][layer][threshold] = run_with_ablations(\n",
    "                clean_inputs,\n",
    "                patch_inputs,\n",
    "                model,\n",
    "                selected_submodules,\n",
    "                neuron_dicts,\n",
    "                nodes=neuron_nodes,\n",
    "                metric_fn=metric_fn,\n",
    "                ablation_fn=ablation_fn,\n",
    "                complement=True\n",
    "            ).mean()\n",
    "            fccomp['random'][layer][threshold] = run_with_ablations(\n",
    "                clean_inputs,\n",
    "                patch_inputs,\n",
    "                model,\n",
    "                selected_submodules,\n",
    "                feat_dicts,\n",
    "                nodes=random_nodes,\n",
    "                metric_fn=metric_fn,\n",
    "                ablation_fn=ablation_fn,\n",
    "                complement=True\n",
    "            ).mean()\n"
   ]
  },
  {
   "cell_type": "code",
   "execution_count": 67,
   "metadata": {},
   "outputs": [],
   "source": [
    "def faithfulness(fc, fempty, fm):\n",
    "    return ((fc - fempty) / (fm - fempty)).item()"
   ]
  },
  {
   "cell_type": "code",
   "execution_count": 68,
   "metadata": {},
   "outputs": [
    {
     "data": {
      "text/plain": [
       "{0: tensor(0.1280, device='cuda:0'),\n",
       " 1: tensor(1.2364, device='cuda:0'),\n",
       " 2: tensor(0.8297, device='cuda:0'),\n",
       " 3: tensor(1.0127, device='cuda:0'),\n",
       " 4: tensor(0.8813, device='cuda:0'),\n",
       " 5: tensor(0.5803, device='cuda:0')}"
      ]
     },
     "execution_count": 68,
     "metadata": {},
     "output_type": "execute_result"
    }
   ],
   "source": [
    "fempties"
   ]
  },
  {
   "cell_type": "code",
   "execution_count": 69,
   "metadata": {},
   "outputs": [
    {
     "data": {
      "application/vnd.plotly.v1+json": {
       "config": {
        "plotlyServerURL": "https://plotly.com"
       },
       "data": [
        {
         "hoverinfo": "text",
         "marker": {
          "color": "blue"
         },
         "mode": "markers",
         "name": "features layer 0 (#nodes)",
         "text": [
          "Threshold: 1.00e-04<br>Nodes: 892<br>Faithfulness: 1.05",
          "Threshold: 1.44e-04<br>Nodes: 768<br>Faithfulness: 1.05",
          "Threshold: 2.07e-04<br>Nodes: 647<br>Faithfulness: 1.05",
          "Threshold: 2.98e-04<br>Nodes: 517<br>Faithfulness: 1.06",
          "Threshold: 4.28e-04<br>Nodes: 400<br>Faithfulness: 1.05",
          "Threshold: 6.16e-04<br>Nodes: 290<br>Faithfulness: 1.05",
          "Threshold: 8.86e-04<br>Nodes: 219<br>Faithfulness: 1.05",
          "Threshold: 1.27e-03<br>Nodes: 141<br>Faithfulness: 1.04",
          "Threshold: 1.83e-03<br>Nodes: 116<br>Faithfulness: 1.03",
          "Threshold: 2.64e-03<br>Nodes: 87<br>Faithfulness: 1.02",
          "Threshold: 3.79e-03<br>Nodes: 63<br>Faithfulness: 1.02",
          "Threshold: 5.46e-03<br>Nodes: 52<br>Faithfulness: 1.04",
          "Threshold: 7.85e-03<br>Nodes: 40<br>Faithfulness: 1.01",
          "Threshold: 1.13e-02<br>Nodes: 37<br>Faithfulness: 1.01",
          "Threshold: 1.62e-02<br>Nodes: 27<br>Faithfulness: 0.88",
          "Threshold: 2.34e-02<br>Nodes: 23<br>Faithfulness: 0.85",
          "Threshold: 3.36e-02<br>Nodes: 20<br>Faithfulness: 0.82",
          "Threshold: 4.83e-02<br>Nodes: 16<br>Faithfulness: 0.73",
          "Threshold: 6.95e-02<br>Nodes: 14<br>Faithfulness: 0.66",
          "Threshold: 1.00e-01<br>Nodes: 9<br>Faithfulness: 0.50"
         ],
         "type": "scatter",
         "visible": true,
         "x": [
          892,
          768,
          647,
          517,
          400,
          290,
          219,
          141,
          116,
          87,
          63,
          52,
          40,
          37,
          27,
          23,
          20,
          16,
          14,
          9
         ],
         "xaxis": "x",
         "y": [
          1.0455831289291382,
          1.0489484071731567,
          1.0540162324905396,
          1.055815577507019,
          1.0523912906646729,
          1.047257423400879,
          1.0493699312210083,
          1.036620020866394,
          1.0281208753585815,
          1.023333191871643,
          1.0208251476287842,
          1.0351481437683105,
          1.0093846321105957,
          1.005581259727478,
          0.8809649348258972,
          0.8464125394821167,
          0.823013424873352,
          0.7274527549743652,
          0.6619205474853516,
          0.4999140202999115
         ],
         "yaxis": "y"
        },
        {
         "hoverinfo": "text",
         "marker": {
          "color": "blue"
         },
         "mode": "markers",
         "name": "features layer 0 (thresh)",
         "text": [
          "Threshold: 1.00e-04<br>Nodes: 892<br>Faithfulness: 1.05",
          "Threshold: 1.44e-04<br>Nodes: 768<br>Faithfulness: 1.05",
          "Threshold: 2.07e-04<br>Nodes: 647<br>Faithfulness: 1.05",
          "Threshold: 2.98e-04<br>Nodes: 517<br>Faithfulness: 1.06",
          "Threshold: 4.28e-04<br>Nodes: 400<br>Faithfulness: 1.05",
          "Threshold: 6.16e-04<br>Nodes: 290<br>Faithfulness: 1.05",
          "Threshold: 8.86e-04<br>Nodes: 219<br>Faithfulness: 1.05",
          "Threshold: 1.27e-03<br>Nodes: 141<br>Faithfulness: 1.04",
          "Threshold: 1.83e-03<br>Nodes: 116<br>Faithfulness: 1.03",
          "Threshold: 2.64e-03<br>Nodes: 87<br>Faithfulness: 1.02",
          "Threshold: 3.79e-03<br>Nodes: 63<br>Faithfulness: 1.02",
          "Threshold: 5.46e-03<br>Nodes: 52<br>Faithfulness: 1.04",
          "Threshold: 7.85e-03<br>Nodes: 40<br>Faithfulness: 1.01",
          "Threshold: 1.13e-02<br>Nodes: 37<br>Faithfulness: 1.01",
          "Threshold: 1.62e-02<br>Nodes: 27<br>Faithfulness: 0.88",
          "Threshold: 2.34e-02<br>Nodes: 23<br>Faithfulness: 0.85",
          "Threshold: 3.36e-02<br>Nodes: 20<br>Faithfulness: 0.82",
          "Threshold: 4.83e-02<br>Nodes: 16<br>Faithfulness: 0.73",
          "Threshold: 6.95e-02<br>Nodes: 14<br>Faithfulness: 0.66",
          "Threshold: 1.00e-01<br>Nodes: 9<br>Faithfulness: 0.50"
         ],
         "type": "scatter",
         "visible": true,
         "x": [
          0.00009999999747378752,
          0.00014384498354047537,
          0.00020691381359938532,
          0.00029763515340164304,
          0.00042813323670998216,
          0.0006158482283353806,
          0.0008858668152242899,
          0.001274275011382997,
          0.0018329806625843048,
          0.002636650810018182,
          0.0037926901131868362,
          0.005455594975501299,
          0.007847599685192108,
          0.011288379319012165,
          0.016237767413258553,
          0.023357214406132698,
          0.03359818458557129,
          0.04832930117845535,
          0.0695192813873291,
          0.10000000149011612
         ],
         "xaxis": "x2",
         "y": [
          1.0455831289291382,
          1.0489484071731567,
          1.0540162324905396,
          1.055815577507019,
          1.0523912906646729,
          1.047257423400879,
          1.0493699312210083,
          1.036620020866394,
          1.0281208753585815,
          1.023333191871643,
          1.0208251476287842,
          1.0351481437683105,
          1.0093846321105957,
          1.005581259727478,
          0.8809649348258972,
          0.8464125394821167,
          0.823013424873352,
          0.7274527549743652,
          0.6619205474853516,
          0.4999140202999115
         ],
         "yaxis": "y2"
        },
        {
         "hoverinfo": "text",
         "marker": {
          "color": "blue"
         },
         "mode": "markers",
         "name": "features layer 1 (#nodes)",
         "text": [
          "Threshold: 1.00e-04<br>Nodes: 1368<br>Faithfulness: 0.98",
          "Threshold: 1.44e-04<br>Nodes: 1107<br>Faithfulness: 0.97",
          "Threshold: 2.07e-04<br>Nodes: 823<br>Faithfulness: 1.08",
          "Threshold: 2.98e-04<br>Nodes: 598<br>Faithfulness: 1.09",
          "Threshold: 4.28e-04<br>Nodes: 445<br>Faithfulness: 1.01",
          "Threshold: 6.16e-04<br>Nodes: 303<br>Faithfulness: 1.08",
          "Threshold: 8.86e-04<br>Nodes: 201<br>Faithfulness: 1.09",
          "Threshold: 1.27e-03<br>Nodes: 133<br>Faithfulness: 1.04",
          "Threshold: 1.83e-03<br>Nodes: 90<br>Faithfulness: 1.15",
          "Threshold: 2.64e-03<br>Nodes: 60<br>Faithfulness: 1.19",
          "Threshold: 3.79e-03<br>Nodes: 34<br>Faithfulness: 1.26",
          "Threshold: 5.46e-03<br>Nodes: 25<br>Faithfulness: 1.26",
          "Threshold: 7.85e-03<br>Nodes: 17<br>Faithfulness: 1.27",
          "Threshold: 1.13e-02<br>Nodes: 12<br>Faithfulness: 1.19",
          "Threshold: 1.62e-02<br>Nodes: 8<br>Faithfulness: 0.98",
          "Threshold: 2.34e-02<br>Nodes: 7<br>Faithfulness: 0.95",
          "Threshold: 3.36e-02<br>Nodes: 3<br>Faithfulness: 0.79",
          "Threshold: 4.83e-02<br>Nodes: 3<br>Faithfulness: 0.79",
          "Threshold: 6.95e-02<br>Nodes: 3<br>Faithfulness: 0.79",
          "Threshold: 1.00e-01<br>Nodes: 3<br>Faithfulness: 0.79"
         ],
         "type": "scatter",
         "visible": false,
         "x": [
          1368,
          1107,
          823,
          598,
          445,
          303,
          201,
          133,
          90,
          60,
          34,
          25,
          17,
          12,
          8,
          7,
          3,
          3,
          3,
          3
         ],
         "xaxis": "x",
         "y": [
          0.9809380173683167,
          0.9748004674911499,
          1.0765098333358765,
          1.0912262201309204,
          1.0116233825683594,
          1.080758810043335,
          1.091177225112915,
          1.0406967401504517,
          1.1514242887496948,
          1.1871076822280884,
          1.2570570707321167,
          1.2576757669448853,
          1.2749146223068237,
          1.1933584213256836,
          0.9770635962486267,
          0.9494057297706604,
          0.7943028211593628,
          0.7943028211593628,
          0.7943028211593628,
          0.7943028211593628
         ],
         "yaxis": "y"
        },
        {
         "hoverinfo": "text",
         "marker": {
          "color": "blue"
         },
         "mode": "markers",
         "name": "features layer 1 (thresh)",
         "text": [
          "Threshold: 1.00e-04<br>Nodes: 1368<br>Faithfulness: 0.98",
          "Threshold: 1.44e-04<br>Nodes: 1107<br>Faithfulness: 0.97",
          "Threshold: 2.07e-04<br>Nodes: 823<br>Faithfulness: 1.08",
          "Threshold: 2.98e-04<br>Nodes: 598<br>Faithfulness: 1.09",
          "Threshold: 4.28e-04<br>Nodes: 445<br>Faithfulness: 1.01",
          "Threshold: 6.16e-04<br>Nodes: 303<br>Faithfulness: 1.08",
          "Threshold: 8.86e-04<br>Nodes: 201<br>Faithfulness: 1.09",
          "Threshold: 1.27e-03<br>Nodes: 133<br>Faithfulness: 1.04",
          "Threshold: 1.83e-03<br>Nodes: 90<br>Faithfulness: 1.15",
          "Threshold: 2.64e-03<br>Nodes: 60<br>Faithfulness: 1.19",
          "Threshold: 3.79e-03<br>Nodes: 34<br>Faithfulness: 1.26",
          "Threshold: 5.46e-03<br>Nodes: 25<br>Faithfulness: 1.26",
          "Threshold: 7.85e-03<br>Nodes: 17<br>Faithfulness: 1.27",
          "Threshold: 1.13e-02<br>Nodes: 12<br>Faithfulness: 1.19",
          "Threshold: 1.62e-02<br>Nodes: 8<br>Faithfulness: 0.98",
          "Threshold: 2.34e-02<br>Nodes: 7<br>Faithfulness: 0.95",
          "Threshold: 3.36e-02<br>Nodes: 3<br>Faithfulness: 0.79",
          "Threshold: 4.83e-02<br>Nodes: 3<br>Faithfulness: 0.79",
          "Threshold: 6.95e-02<br>Nodes: 3<br>Faithfulness: 0.79",
          "Threshold: 1.00e-01<br>Nodes: 3<br>Faithfulness: 0.79"
         ],
         "type": "scatter",
         "visible": false,
         "x": [
          0.00009999999747378752,
          0.00014384498354047537,
          0.00020691381359938532,
          0.00029763515340164304,
          0.00042813323670998216,
          0.0006158482283353806,
          0.0008858668152242899,
          0.001274275011382997,
          0.0018329806625843048,
          0.002636650810018182,
          0.0037926901131868362,
          0.005455594975501299,
          0.007847599685192108,
          0.011288379319012165,
          0.016237767413258553,
          0.023357214406132698,
          0.03359818458557129,
          0.04832930117845535,
          0.0695192813873291,
          0.10000000149011612
         ],
         "xaxis": "x2",
         "y": [
          0.9809380173683167,
          0.9748004674911499,
          1.0765098333358765,
          1.0912262201309204,
          1.0116233825683594,
          1.080758810043335,
          1.091177225112915,
          1.0406967401504517,
          1.1514242887496948,
          1.1871076822280884,
          1.2570570707321167,
          1.2576757669448853,
          1.2749146223068237,
          1.1933584213256836,
          0.9770635962486267,
          0.9494057297706604,
          0.7943028211593628,
          0.7943028211593628,
          0.7943028211593628,
          0.7943028211593628
         ],
         "yaxis": "y2"
        },
        {
         "hoverinfo": "text",
         "marker": {
          "color": "blue"
         },
         "mode": "markers",
         "name": "features layer 2 (#nodes)",
         "text": [
          "Threshold: 1.00e-04<br>Nodes: 1603<br>Faithfulness: 1.02",
          "Threshold: 1.44e-04<br>Nodes: 1284<br>Faithfulness: 1.00",
          "Threshold: 2.07e-04<br>Nodes: 1022<br>Faithfulness: 1.01",
          "Threshold: 2.98e-04<br>Nodes: 782<br>Faithfulness: 1.01",
          "Threshold: 4.28e-04<br>Nodes: 557<br>Faithfulness: 1.02",
          "Threshold: 6.16e-04<br>Nodes: 397<br>Faithfulness: 0.99",
          "Threshold: 8.86e-04<br>Nodes: 258<br>Faithfulness: 0.99",
          "Threshold: 1.27e-03<br>Nodes: 173<br>Faithfulness: 0.94",
          "Threshold: 1.83e-03<br>Nodes: 116<br>Faithfulness: 0.92",
          "Threshold: 2.64e-03<br>Nodes: 74<br>Faithfulness: 0.90",
          "Threshold: 3.79e-03<br>Nodes: 43<br>Faithfulness: 0.87",
          "Threshold: 5.46e-03<br>Nodes: 27<br>Faithfulness: 0.84",
          "Threshold: 7.85e-03<br>Nodes: 17<br>Faithfulness: 0.83",
          "Threshold: 1.13e-02<br>Nodes: 11<br>Faithfulness: 0.82",
          "Threshold: 1.62e-02<br>Nodes: 10<br>Faithfulness: 0.82",
          "Threshold: 2.34e-02<br>Nodes: 6<br>Faithfulness: 0.80",
          "Threshold: 3.36e-02<br>Nodes: 5<br>Faithfulness: 0.77",
          "Threshold: 4.83e-02<br>Nodes: 4<br>Faithfulness: 0.75",
          "Threshold: 6.95e-02<br>Nodes: 3<br>Faithfulness: 0.60",
          "Threshold: 1.00e-01<br>Nodes: 2<br>Faithfulness: 0.55"
         ],
         "type": "scatter",
         "visible": false,
         "x": [
          1603,
          1284,
          1022,
          782,
          557,
          397,
          258,
          173,
          116,
          74,
          43,
          27,
          17,
          11,
          10,
          6,
          5,
          4,
          3,
          2
         ],
         "xaxis": "x",
         "y": [
          1.0191574096679688,
          0.9994709491729736,
          1.0085155963897705,
          1.0086748600006104,
          1.0215353965759277,
          0.9888702630996704,
          0.985393226146698,
          0.9439711570739746,
          0.9237813353538513,
          0.904197633266449,
          0.8715274930000305,
          0.8410142660140991,
          0.8258731961250305,
          0.8237828612327576,
          0.8222934603691101,
          0.7973734736442566,
          0.7705890536308289,
          0.7458847761154175,
          0.6033497452735901,
          0.5451483726501465
         ],
         "yaxis": "y"
        },
        {
         "hoverinfo": "text",
         "marker": {
          "color": "blue"
         },
         "mode": "markers",
         "name": "features layer 2 (thresh)",
         "text": [
          "Threshold: 1.00e-04<br>Nodes: 1603<br>Faithfulness: 1.02",
          "Threshold: 1.44e-04<br>Nodes: 1284<br>Faithfulness: 1.00",
          "Threshold: 2.07e-04<br>Nodes: 1022<br>Faithfulness: 1.01",
          "Threshold: 2.98e-04<br>Nodes: 782<br>Faithfulness: 1.01",
          "Threshold: 4.28e-04<br>Nodes: 557<br>Faithfulness: 1.02",
          "Threshold: 6.16e-04<br>Nodes: 397<br>Faithfulness: 0.99",
          "Threshold: 8.86e-04<br>Nodes: 258<br>Faithfulness: 0.99",
          "Threshold: 1.27e-03<br>Nodes: 173<br>Faithfulness: 0.94",
          "Threshold: 1.83e-03<br>Nodes: 116<br>Faithfulness: 0.92",
          "Threshold: 2.64e-03<br>Nodes: 74<br>Faithfulness: 0.90",
          "Threshold: 3.79e-03<br>Nodes: 43<br>Faithfulness: 0.87",
          "Threshold: 5.46e-03<br>Nodes: 27<br>Faithfulness: 0.84",
          "Threshold: 7.85e-03<br>Nodes: 17<br>Faithfulness: 0.83",
          "Threshold: 1.13e-02<br>Nodes: 11<br>Faithfulness: 0.82",
          "Threshold: 1.62e-02<br>Nodes: 10<br>Faithfulness: 0.82",
          "Threshold: 2.34e-02<br>Nodes: 6<br>Faithfulness: 0.80",
          "Threshold: 3.36e-02<br>Nodes: 5<br>Faithfulness: 0.77",
          "Threshold: 4.83e-02<br>Nodes: 4<br>Faithfulness: 0.75",
          "Threshold: 6.95e-02<br>Nodes: 3<br>Faithfulness: 0.60",
          "Threshold: 1.00e-01<br>Nodes: 2<br>Faithfulness: 0.55"
         ],
         "type": "scatter",
         "visible": false,
         "x": [
          0.00009999999747378752,
          0.00014384498354047537,
          0.00020691381359938532,
          0.00029763515340164304,
          0.00042813323670998216,
          0.0006158482283353806,
          0.0008858668152242899,
          0.001274275011382997,
          0.0018329806625843048,
          0.002636650810018182,
          0.0037926901131868362,
          0.005455594975501299,
          0.007847599685192108,
          0.011288379319012165,
          0.016237767413258553,
          0.023357214406132698,
          0.03359818458557129,
          0.04832930117845535,
          0.0695192813873291,
          0.10000000149011612
         ],
         "xaxis": "x2",
         "y": [
          1.0191574096679688,
          0.9994709491729736,
          1.0085155963897705,
          1.0086748600006104,
          1.0215353965759277,
          0.9888702630996704,
          0.985393226146698,
          0.9439711570739746,
          0.9237813353538513,
          0.904197633266449,
          0.8715274930000305,
          0.8410142660140991,
          0.8258731961250305,
          0.8237828612327576,
          0.8222934603691101,
          0.7973734736442566,
          0.7705890536308289,
          0.7458847761154175,
          0.6033497452735901,
          0.5451483726501465
         ],
         "yaxis": "y2"
        },
        {
         "hoverinfo": "text",
         "marker": {
          "color": "blue"
         },
         "mode": "markers",
         "name": "features layer 3 (#nodes)",
         "text": [
          "Threshold: 1.00e-04<br>Nodes: 2065<br>Faithfulness: 1.00",
          "Threshold: 1.44e-04<br>Nodes: 1739<br>Faithfulness: 0.99",
          "Threshold: 2.07e-04<br>Nodes: 1396<br>Faithfulness: 0.99",
          "Threshold: 2.98e-04<br>Nodes: 1038<br>Faithfulness: 1.01",
          "Threshold: 4.28e-04<br>Nodes: 742<br>Faithfulness: 1.00",
          "Threshold: 6.16e-04<br>Nodes: 527<br>Faithfulness: 1.00",
          "Threshold: 8.86e-04<br>Nodes: 346<br>Faithfulness: 1.04",
          "Threshold: 1.27e-03<br>Nodes: 217<br>Faithfulness: 0.95",
          "Threshold: 1.83e-03<br>Nodes: 131<br>Faithfulness: 0.88",
          "Threshold: 2.64e-03<br>Nodes: 75<br>Faithfulness: 0.83",
          "Threshold: 3.79e-03<br>Nodes: 36<br>Faithfulness: 0.77",
          "Threshold: 5.46e-03<br>Nodes: 20<br>Faithfulness: 0.70",
          "Threshold: 7.85e-03<br>Nodes: 10<br>Faithfulness: 0.58",
          "Threshold: 1.13e-02<br>Nodes: 6<br>Faithfulness: 0.55",
          "Threshold: 1.62e-02<br>Nodes: 6<br>Faithfulness: 0.55",
          "Threshold: 2.34e-02<br>Nodes: 4<br>Faithfulness: 0.48",
          "Threshold: 3.36e-02<br>Nodes: 3<br>Faithfulness: 0.44",
          "Threshold: 4.83e-02<br>Nodes: 3<br>Faithfulness: 0.44",
          "Threshold: 6.95e-02<br>Nodes: 3<br>Faithfulness: 0.44",
          "Threshold: 1.00e-01<br>Nodes: 2<br>Faithfulness: 0.31"
         ],
         "type": "scatter",
         "visible": false,
         "x": [
          2065,
          1739,
          1396,
          1038,
          742,
          527,
          346,
          217,
          131,
          75,
          36,
          20,
          10,
          6,
          6,
          4,
          3,
          3,
          3,
          2
         ],
         "xaxis": "x",
         "y": [
          1.004178762435913,
          0.9919173717498779,
          0.9884584546089172,
          1.013144850730896,
          0.9981592297554016,
          0.9999110102653503,
          1.0367027521133423,
          0.9479184746742249,
          0.8781127333641052,
          0.8271517753601074,
          0.7721385359764099,
          0.696350634098053,
          0.5754430294036865,
          0.5540372133255005,
          0.5540372133255005,
          0.4828287661075592,
          0.43840691447257996,
          0.43840691447257996,
          0.43840691447257996,
          0.30523788928985596
         ],
         "yaxis": "y"
        },
        {
         "hoverinfo": "text",
         "marker": {
          "color": "blue"
         },
         "mode": "markers",
         "name": "features layer 3 (thresh)",
         "text": [
          "Threshold: 1.00e-04<br>Nodes: 2065<br>Faithfulness: 1.00",
          "Threshold: 1.44e-04<br>Nodes: 1739<br>Faithfulness: 0.99",
          "Threshold: 2.07e-04<br>Nodes: 1396<br>Faithfulness: 0.99",
          "Threshold: 2.98e-04<br>Nodes: 1038<br>Faithfulness: 1.01",
          "Threshold: 4.28e-04<br>Nodes: 742<br>Faithfulness: 1.00",
          "Threshold: 6.16e-04<br>Nodes: 527<br>Faithfulness: 1.00",
          "Threshold: 8.86e-04<br>Nodes: 346<br>Faithfulness: 1.04",
          "Threshold: 1.27e-03<br>Nodes: 217<br>Faithfulness: 0.95",
          "Threshold: 1.83e-03<br>Nodes: 131<br>Faithfulness: 0.88",
          "Threshold: 2.64e-03<br>Nodes: 75<br>Faithfulness: 0.83",
          "Threshold: 3.79e-03<br>Nodes: 36<br>Faithfulness: 0.77",
          "Threshold: 5.46e-03<br>Nodes: 20<br>Faithfulness: 0.70",
          "Threshold: 7.85e-03<br>Nodes: 10<br>Faithfulness: 0.58",
          "Threshold: 1.13e-02<br>Nodes: 6<br>Faithfulness: 0.55",
          "Threshold: 1.62e-02<br>Nodes: 6<br>Faithfulness: 0.55",
          "Threshold: 2.34e-02<br>Nodes: 4<br>Faithfulness: 0.48",
          "Threshold: 3.36e-02<br>Nodes: 3<br>Faithfulness: 0.44",
          "Threshold: 4.83e-02<br>Nodes: 3<br>Faithfulness: 0.44",
          "Threshold: 6.95e-02<br>Nodes: 3<br>Faithfulness: 0.44",
          "Threshold: 1.00e-01<br>Nodes: 2<br>Faithfulness: 0.31"
         ],
         "type": "scatter",
         "visible": false,
         "x": [
          0.00009999999747378752,
          0.00014384498354047537,
          0.00020691381359938532,
          0.00029763515340164304,
          0.00042813323670998216,
          0.0006158482283353806,
          0.0008858668152242899,
          0.001274275011382997,
          0.0018329806625843048,
          0.002636650810018182,
          0.0037926901131868362,
          0.005455594975501299,
          0.007847599685192108,
          0.011288379319012165,
          0.016237767413258553,
          0.023357214406132698,
          0.03359818458557129,
          0.04832930117845535,
          0.0695192813873291,
          0.10000000149011612
         ],
         "xaxis": "x2",
         "y": [
          1.004178762435913,
          0.9919173717498779,
          0.9884584546089172,
          1.013144850730896,
          0.9981592297554016,
          0.9999110102653503,
          1.0367027521133423,
          0.9479184746742249,
          0.8781127333641052,
          0.8271517753601074,
          0.7721385359764099,
          0.696350634098053,
          0.5754430294036865,
          0.5540372133255005,
          0.5540372133255005,
          0.4828287661075592,
          0.43840691447257996,
          0.43840691447257996,
          0.43840691447257996,
          0.30523788928985596
         ],
         "yaxis": "y2"
        },
        {
         "hoverinfo": "text",
         "marker": {
          "color": "blue"
         },
         "mode": "markers",
         "name": "features layer 4 (#nodes)",
         "text": [
          "Threshold: 1.00e-04<br>Nodes: 1555<br>Faithfulness: 0.99",
          "Threshold: 1.44e-04<br>Nodes: 1263<br>Faithfulness: 1.00",
          "Threshold: 2.07e-04<br>Nodes: 1000<br>Faithfulness: 1.00",
          "Threshold: 2.98e-04<br>Nodes: 731<br>Faithfulness: 0.95",
          "Threshold: 4.28e-04<br>Nodes: 506<br>Faithfulness: 0.97",
          "Threshold: 6.16e-04<br>Nodes: 331<br>Faithfulness: 0.97",
          "Threshold: 8.86e-04<br>Nodes: 216<br>Faithfulness: 0.95",
          "Threshold: 1.27e-03<br>Nodes: 139<br>Faithfulness: 0.97",
          "Threshold: 1.83e-03<br>Nodes: 86<br>Faithfulness: 0.92",
          "Threshold: 2.64e-03<br>Nodes: 48<br>Faithfulness: 0.87",
          "Threshold: 3.79e-03<br>Nodes: 35<br>Faithfulness: 0.84",
          "Threshold: 5.46e-03<br>Nodes: 26<br>Faithfulness: 0.83",
          "Threshold: 7.85e-03<br>Nodes: 18<br>Faithfulness: 0.82",
          "Threshold: 1.13e-02<br>Nodes: 15<br>Faithfulness: 0.78",
          "Threshold: 1.62e-02<br>Nodes: 9<br>Faithfulness: 0.68",
          "Threshold: 2.34e-02<br>Nodes: 8<br>Faithfulness: 0.64",
          "Threshold: 3.36e-02<br>Nodes: 6<br>Faithfulness: 0.56",
          "Threshold: 4.83e-02<br>Nodes: 6<br>Faithfulness: 0.56",
          "Threshold: 6.95e-02<br>Nodes: 6<br>Faithfulness: 0.56",
          "Threshold: 1.00e-01<br>Nodes: 6<br>Faithfulness: 0.56"
         ],
         "type": "scatter",
         "visible": false,
         "x": [
          1555,
          1263,
          1000,
          731,
          506,
          331,
          216,
          139,
          86,
          48,
          35,
          26,
          18,
          15,
          9,
          8,
          6,
          6,
          6,
          6
         ],
         "xaxis": "x",
         "y": [
          0.9923796653747559,
          0.9955964684486389,
          1.0047521591186523,
          0.9486091732978821,
          0.9680903553962708,
          0.969141960144043,
          0.9535920023918152,
          0.9745239615440369,
          0.9194833040237427,
          0.8716748356819153,
          0.8443262577056885,
          0.831638753414154,
          0.8189457058906555,
          0.7835605144500732,
          0.6803682446479797,
          0.6440381407737732,
          0.5615981817245483,
          0.5615981817245483,
          0.5615981817245483,
          0.5615981817245483
         ],
         "yaxis": "y"
        },
        {
         "hoverinfo": "text",
         "marker": {
          "color": "blue"
         },
         "mode": "markers",
         "name": "features layer 4 (thresh)",
         "text": [
          "Threshold: 1.00e-04<br>Nodes: 1555<br>Faithfulness: 0.99",
          "Threshold: 1.44e-04<br>Nodes: 1263<br>Faithfulness: 1.00",
          "Threshold: 2.07e-04<br>Nodes: 1000<br>Faithfulness: 1.00",
          "Threshold: 2.98e-04<br>Nodes: 731<br>Faithfulness: 0.95",
          "Threshold: 4.28e-04<br>Nodes: 506<br>Faithfulness: 0.97",
          "Threshold: 6.16e-04<br>Nodes: 331<br>Faithfulness: 0.97",
          "Threshold: 8.86e-04<br>Nodes: 216<br>Faithfulness: 0.95",
          "Threshold: 1.27e-03<br>Nodes: 139<br>Faithfulness: 0.97",
          "Threshold: 1.83e-03<br>Nodes: 86<br>Faithfulness: 0.92",
          "Threshold: 2.64e-03<br>Nodes: 48<br>Faithfulness: 0.87",
          "Threshold: 3.79e-03<br>Nodes: 35<br>Faithfulness: 0.84",
          "Threshold: 5.46e-03<br>Nodes: 26<br>Faithfulness: 0.83",
          "Threshold: 7.85e-03<br>Nodes: 18<br>Faithfulness: 0.82",
          "Threshold: 1.13e-02<br>Nodes: 15<br>Faithfulness: 0.78",
          "Threshold: 1.62e-02<br>Nodes: 9<br>Faithfulness: 0.68",
          "Threshold: 2.34e-02<br>Nodes: 8<br>Faithfulness: 0.64",
          "Threshold: 3.36e-02<br>Nodes: 6<br>Faithfulness: 0.56",
          "Threshold: 4.83e-02<br>Nodes: 6<br>Faithfulness: 0.56",
          "Threshold: 6.95e-02<br>Nodes: 6<br>Faithfulness: 0.56",
          "Threshold: 1.00e-01<br>Nodes: 6<br>Faithfulness: 0.56"
         ],
         "type": "scatter",
         "visible": false,
         "x": [
          0.00009999999747378752,
          0.00014384498354047537,
          0.00020691381359938532,
          0.00029763515340164304,
          0.00042813323670998216,
          0.0006158482283353806,
          0.0008858668152242899,
          0.001274275011382997,
          0.0018329806625843048,
          0.002636650810018182,
          0.0037926901131868362,
          0.005455594975501299,
          0.007847599685192108,
          0.011288379319012165,
          0.016237767413258553,
          0.023357214406132698,
          0.03359818458557129,
          0.04832930117845535,
          0.0695192813873291,
          0.10000000149011612
         ],
         "xaxis": "x2",
         "y": [
          0.9923796653747559,
          0.9955964684486389,
          1.0047521591186523,
          0.9486091732978821,
          0.9680903553962708,
          0.969141960144043,
          0.9535920023918152,
          0.9745239615440369,
          0.9194833040237427,
          0.8716748356819153,
          0.8443262577056885,
          0.831638753414154,
          0.8189457058906555,
          0.7835605144500732,
          0.6803682446479797,
          0.6440381407737732,
          0.5615981817245483,
          0.5615981817245483,
          0.5615981817245483,
          0.5615981817245483
         ],
         "yaxis": "y2"
        },
        {
         "hoverinfo": "text",
         "marker": {
          "color": "blue"
         },
         "mode": "markers",
         "name": "features layer 5 (#nodes)",
         "text": [
          "Threshold: 1.00e-04<br>Nodes: 1248<br>Faithfulness: 0.99",
          "Threshold: 1.44e-04<br>Nodes: 1051<br>Faithfulness: 0.99",
          "Threshold: 2.07e-04<br>Nodes: 826<br>Faithfulness: 0.97",
          "Threshold: 2.98e-04<br>Nodes: 616<br>Faithfulness: 0.96",
          "Threshold: 4.28e-04<br>Nodes: 445<br>Faithfulness: 0.97",
          "Threshold: 6.16e-04<br>Nodes: 321<br>Faithfulness: 0.98",
          "Threshold: 8.86e-04<br>Nodes: 222<br>Faithfulness: 0.96",
          "Threshold: 1.27e-03<br>Nodes: 158<br>Faithfulness: 0.94",
          "Threshold: 1.83e-03<br>Nodes: 112<br>Faithfulness: 0.92",
          "Threshold: 2.64e-03<br>Nodes: 85<br>Faithfulness: 0.90",
          "Threshold: 3.79e-03<br>Nodes: 67<br>Faithfulness: 0.89",
          "Threshold: 5.46e-03<br>Nodes: 51<br>Faithfulness: 0.87",
          "Threshold: 7.85e-03<br>Nodes: 37<br>Faithfulness: 0.83",
          "Threshold: 1.13e-02<br>Nodes: 29<br>Faithfulness: 0.84",
          "Threshold: 1.62e-02<br>Nodes: 21<br>Faithfulness: 0.78",
          "Threshold: 2.34e-02<br>Nodes: 19<br>Faithfulness: 0.84",
          "Threshold: 3.36e-02<br>Nodes: 13<br>Faithfulness: 0.75",
          "Threshold: 4.83e-02<br>Nodes: 10<br>Faithfulness: 0.66",
          "Threshold: 6.95e-02<br>Nodes: 9<br>Faithfulness: 0.62",
          "Threshold: 1.00e-01<br>Nodes: 8<br>Faithfulness: 0.56"
         ],
         "type": "scatter",
         "visible": false,
         "x": [
          1248,
          1051,
          826,
          616,
          445,
          321,
          222,
          158,
          112,
          85,
          67,
          51,
          37,
          29,
          21,
          19,
          13,
          10,
          9,
          8
         ],
         "xaxis": "x",
         "y": [
          0.9871256351470947,
          0.9851469397544861,
          0.9717732071876526,
          0.9619593024253845,
          0.9710425138473511,
          0.9785776734352112,
          0.9639885425567627,
          0.9386413097381592,
          0.9154319167137146,
          0.9045109748840332,
          0.8899545073509216,
          0.871690034866333,
          0.8341630101203918,
          0.8429930210113525,
          0.7840797901153564,
          0.8423274755477905,
          0.7467551827430725,
          0.6570684313774109,
          0.621798574924469,
          0.5597345232963562
         ],
         "yaxis": "y"
        },
        {
         "hoverinfo": "text",
         "marker": {
          "color": "blue"
         },
         "mode": "markers",
         "name": "features layer 5 (thresh)",
         "text": [
          "Threshold: 1.00e-04<br>Nodes: 1248<br>Faithfulness: 0.99",
          "Threshold: 1.44e-04<br>Nodes: 1051<br>Faithfulness: 0.99",
          "Threshold: 2.07e-04<br>Nodes: 826<br>Faithfulness: 0.97",
          "Threshold: 2.98e-04<br>Nodes: 616<br>Faithfulness: 0.96",
          "Threshold: 4.28e-04<br>Nodes: 445<br>Faithfulness: 0.97",
          "Threshold: 6.16e-04<br>Nodes: 321<br>Faithfulness: 0.98",
          "Threshold: 8.86e-04<br>Nodes: 222<br>Faithfulness: 0.96",
          "Threshold: 1.27e-03<br>Nodes: 158<br>Faithfulness: 0.94",
          "Threshold: 1.83e-03<br>Nodes: 112<br>Faithfulness: 0.92",
          "Threshold: 2.64e-03<br>Nodes: 85<br>Faithfulness: 0.90",
          "Threshold: 3.79e-03<br>Nodes: 67<br>Faithfulness: 0.89",
          "Threshold: 5.46e-03<br>Nodes: 51<br>Faithfulness: 0.87",
          "Threshold: 7.85e-03<br>Nodes: 37<br>Faithfulness: 0.83",
          "Threshold: 1.13e-02<br>Nodes: 29<br>Faithfulness: 0.84",
          "Threshold: 1.62e-02<br>Nodes: 21<br>Faithfulness: 0.78",
          "Threshold: 2.34e-02<br>Nodes: 19<br>Faithfulness: 0.84",
          "Threshold: 3.36e-02<br>Nodes: 13<br>Faithfulness: 0.75",
          "Threshold: 4.83e-02<br>Nodes: 10<br>Faithfulness: 0.66",
          "Threshold: 6.95e-02<br>Nodes: 9<br>Faithfulness: 0.62",
          "Threshold: 1.00e-01<br>Nodes: 8<br>Faithfulness: 0.56"
         ],
         "type": "scatter",
         "visible": false,
         "x": [
          0.00009999999747378752,
          0.00014384498354047537,
          0.00020691381359938532,
          0.00029763515340164304,
          0.00042813323670998216,
          0.0006158482283353806,
          0.0008858668152242899,
          0.001274275011382997,
          0.0018329806625843048,
          0.002636650810018182,
          0.0037926901131868362,
          0.005455594975501299,
          0.007847599685192108,
          0.011288379319012165,
          0.016237767413258553,
          0.023357214406132698,
          0.03359818458557129,
          0.04832930117845535,
          0.0695192813873291,
          0.10000000149011612
         ],
         "xaxis": "x2",
         "y": [
          0.9871256351470947,
          0.9851469397544861,
          0.9717732071876526,
          0.9619593024253845,
          0.9710425138473511,
          0.9785776734352112,
          0.9639885425567627,
          0.9386413097381592,
          0.9154319167137146,
          0.9045109748840332,
          0.8899545073509216,
          0.871690034866333,
          0.8341630101203918,
          0.8429930210113525,
          0.7840797901153564,
          0.8423274755477905,
          0.7467551827430725,
          0.6570684313774109,
          0.621798574924469,
          0.5597345232963562
         ],
         "yaxis": "y2"
        },
        {
         "hoverinfo": "text",
         "marker": {
          "color": "turquoise"
         },
         "mode": "markers",
         "name": "features_wo_resids layer 0 (#nodes)",
         "text": [
          "Threshold: 1.00e-04<br>Nodes: 890<br>Faithfulness: 1.05",
          "Threshold: 1.44e-04<br>Nodes: 766<br>Faithfulness: 1.05",
          "Threshold: 2.07e-04<br>Nodes: 645<br>Faithfulness: 1.06",
          "Threshold: 2.98e-04<br>Nodes: 515<br>Faithfulness: 1.06",
          "Threshold: 4.28e-04<br>Nodes: 398<br>Faithfulness: 1.05",
          "Threshold: 6.16e-04<br>Nodes: 288<br>Faithfulness: 1.05",
          "Threshold: 8.86e-04<br>Nodes: 217<br>Faithfulness: 1.06",
          "Threshold: 1.27e-03<br>Nodes: 139<br>Faithfulness: 1.05",
          "Threshold: 1.83e-03<br>Nodes: 114<br>Faithfulness: 1.04",
          "Threshold: 2.64e-03<br>Nodes: 85<br>Faithfulness: 1.04",
          "Threshold: 3.79e-03<br>Nodes: 61<br>Faithfulness: 1.03",
          "Threshold: 5.46e-03<br>Nodes: 50<br>Faithfulness: 1.04",
          "Threshold: 7.85e-03<br>Nodes: 38<br>Faithfulness: 1.03",
          "Threshold: 1.13e-02<br>Nodes: 35<br>Faithfulness: 1.01",
          "Threshold: 1.62e-02<br>Nodes: 25<br>Faithfulness: 0.88",
          "Threshold: 2.34e-02<br>Nodes: 21<br>Faithfulness: 0.84",
          "Threshold: 3.36e-02<br>Nodes: 19<br>Faithfulness: 0.78",
          "Threshold: 4.83e-02<br>Nodes: 15<br>Faithfulness: 0.68",
          "Threshold: 6.95e-02<br>Nodes: 14<br>Faithfulness: 0.66",
          "Threshold: 1.00e-01<br>Nodes: 9<br>Faithfulness: 0.50"
         ],
         "type": "scatter",
         "visible": true,
         "x": [
          890,
          766,
          645,
          515,
          398,
          288,
          217,
          139,
          114,
          85,
          61,
          50,
          38,
          35,
          25,
          21,
          19,
          15,
          14,
          9
         ],
         "xaxis": "x",
         "y": [
          1.048734188079834,
          1.0492404699325562,
          1.0556529760360718,
          1.0592938661575317,
          1.0482019186019897,
          1.0531120300292969,
          1.0600403547286987,
          1.0519675016403198,
          1.0430420637130737,
          1.0404280424118042,
          1.0348279476165771,
          1.0410709381103516,
          1.0259590148925781,
          1.0141512155532837,
          0.8769802451133728,
          0.8377038836479187,
          0.7802351117134094,
          0.6825667023658752,
          0.6619205474853516,
          0.4999140202999115
         ],
         "yaxis": "y"
        },
        {
         "hoverinfo": "text",
         "marker": {
          "color": "turquoise"
         },
         "mode": "markers",
         "name": "features_wo_resids layer 0 (thresh)",
         "text": [
          "Threshold: 1.00e-04<br>Nodes: 890<br>Faithfulness: 1.05",
          "Threshold: 1.44e-04<br>Nodes: 766<br>Faithfulness: 1.05",
          "Threshold: 2.07e-04<br>Nodes: 645<br>Faithfulness: 1.06",
          "Threshold: 2.98e-04<br>Nodes: 515<br>Faithfulness: 1.06",
          "Threshold: 4.28e-04<br>Nodes: 398<br>Faithfulness: 1.05",
          "Threshold: 6.16e-04<br>Nodes: 288<br>Faithfulness: 1.05",
          "Threshold: 8.86e-04<br>Nodes: 217<br>Faithfulness: 1.06",
          "Threshold: 1.27e-03<br>Nodes: 139<br>Faithfulness: 1.05",
          "Threshold: 1.83e-03<br>Nodes: 114<br>Faithfulness: 1.04",
          "Threshold: 2.64e-03<br>Nodes: 85<br>Faithfulness: 1.04",
          "Threshold: 3.79e-03<br>Nodes: 61<br>Faithfulness: 1.03",
          "Threshold: 5.46e-03<br>Nodes: 50<br>Faithfulness: 1.04",
          "Threshold: 7.85e-03<br>Nodes: 38<br>Faithfulness: 1.03",
          "Threshold: 1.13e-02<br>Nodes: 35<br>Faithfulness: 1.01",
          "Threshold: 1.62e-02<br>Nodes: 25<br>Faithfulness: 0.88",
          "Threshold: 2.34e-02<br>Nodes: 21<br>Faithfulness: 0.84",
          "Threshold: 3.36e-02<br>Nodes: 19<br>Faithfulness: 0.78",
          "Threshold: 4.83e-02<br>Nodes: 15<br>Faithfulness: 0.68",
          "Threshold: 6.95e-02<br>Nodes: 14<br>Faithfulness: 0.66",
          "Threshold: 1.00e-01<br>Nodes: 9<br>Faithfulness: 0.50"
         ],
         "type": "scatter",
         "visible": true,
         "x": [
          0.00009999999747378752,
          0.00014384498354047537,
          0.00020691381359938532,
          0.00029763515340164304,
          0.00042813323670998216,
          0.0006158482283353806,
          0.0008858668152242899,
          0.001274275011382997,
          0.0018329806625843048,
          0.002636650810018182,
          0.0037926901131868362,
          0.005455594975501299,
          0.007847599685192108,
          0.011288379319012165,
          0.016237767413258553,
          0.023357214406132698,
          0.03359818458557129,
          0.04832930117845535,
          0.0695192813873291,
          0.10000000149011612
         ],
         "xaxis": "x2",
         "y": [
          1.048734188079834,
          1.0492404699325562,
          1.0556529760360718,
          1.0592938661575317,
          1.0482019186019897,
          1.0531120300292969,
          1.0600403547286987,
          1.0519675016403198,
          1.0430420637130737,
          1.0404280424118042,
          1.0348279476165771,
          1.0410709381103516,
          1.0259590148925781,
          1.0141512155532837,
          0.8769802451133728,
          0.8377038836479187,
          0.7802351117134094,
          0.6825667023658752,
          0.6619205474853516,
          0.4999140202999115
         ],
         "yaxis": "y2"
        },
        {
         "hoverinfo": "text",
         "marker": {
          "color": "turquoise"
         },
         "mode": "markers",
         "name": "features_wo_resids layer 1 (#nodes)",
         "text": [
          "Threshold: 1.00e-04<br>Nodes: 1366<br>Faithfulness: 0.79",
          "Threshold: 1.44e-04<br>Nodes: 1105<br>Faithfulness: 0.78",
          "Threshold: 2.07e-04<br>Nodes: 821<br>Faithfulness: 0.89",
          "Threshold: 2.98e-04<br>Nodes: 596<br>Faithfulness: 0.88",
          "Threshold: 4.28e-04<br>Nodes: 443<br>Faithfulness: 0.78",
          "Threshold: 6.16e-04<br>Nodes: 301<br>Faithfulness: 1.01",
          "Threshold: 8.86e-04<br>Nodes: 199<br>Faithfulness: 0.98",
          "Threshold: 1.27e-03<br>Nodes: 131<br>Faithfulness: 0.92",
          "Threshold: 1.83e-03<br>Nodes: 88<br>Faithfulness: 1.05",
          "Threshold: 2.64e-03<br>Nodes: 58<br>Faithfulness: 1.06",
          "Threshold: 3.79e-03<br>Nodes: 32<br>Faithfulness: 1.09",
          "Threshold: 5.46e-03<br>Nodes: 23<br>Faithfulness: 1.12",
          "Threshold: 7.85e-03<br>Nodes: 15<br>Faithfulness: 1.12",
          "Threshold: 1.13e-02<br>Nodes: 10<br>Faithfulness: 1.02",
          "Threshold: 1.62e-02<br>Nodes: 7<br>Faithfulness: 0.93",
          "Threshold: 2.34e-02<br>Nodes: 6<br>Faithfulness: 0.89",
          "Threshold: 3.36e-02<br>Nodes: 2<br>Faithfulness: 0.71",
          "Threshold: 4.83e-02<br>Nodes: 2<br>Faithfulness: 0.71",
          "Threshold: 6.95e-02<br>Nodes: 2<br>Faithfulness: 0.71",
          "Threshold: 1.00e-01<br>Nodes: 2<br>Faithfulness: 0.71"
         ],
         "type": "scatter",
         "visible": false,
         "x": [
          1366,
          1105,
          821,
          596,
          443,
          301,
          199,
          131,
          88,
          58,
          32,
          23,
          15,
          10,
          7,
          6,
          2,
          2,
          2,
          2
         ],
         "xaxis": "x",
         "y": [
          0.7939117550849915,
          0.7834120392799377,
          0.8877094388008118,
          0.8818491101264954,
          0.7795706391334534,
          1.0140811204910278,
          0.9807587265968323,
          0.9206903576850891,
          1.0467853546142578,
          1.0629171133041382,
          1.0900052785873413,
          1.1184275150299072,
          1.1184439659118652,
          1.0190950632095337,
          0.9268113970756531,
          0.8859677910804749,
          0.7055509090423584,
          0.7055509090423584,
          0.7055509090423584,
          0.7055509090423584
         ],
         "yaxis": "y"
        },
        {
         "hoverinfo": "text",
         "marker": {
          "color": "turquoise"
         },
         "mode": "markers",
         "name": "features_wo_resids layer 1 (thresh)",
         "text": [
          "Threshold: 1.00e-04<br>Nodes: 1366<br>Faithfulness: 0.79",
          "Threshold: 1.44e-04<br>Nodes: 1105<br>Faithfulness: 0.78",
          "Threshold: 2.07e-04<br>Nodes: 821<br>Faithfulness: 0.89",
          "Threshold: 2.98e-04<br>Nodes: 596<br>Faithfulness: 0.88",
          "Threshold: 4.28e-04<br>Nodes: 443<br>Faithfulness: 0.78",
          "Threshold: 6.16e-04<br>Nodes: 301<br>Faithfulness: 1.01",
          "Threshold: 8.86e-04<br>Nodes: 199<br>Faithfulness: 0.98",
          "Threshold: 1.27e-03<br>Nodes: 131<br>Faithfulness: 0.92",
          "Threshold: 1.83e-03<br>Nodes: 88<br>Faithfulness: 1.05",
          "Threshold: 2.64e-03<br>Nodes: 58<br>Faithfulness: 1.06",
          "Threshold: 3.79e-03<br>Nodes: 32<br>Faithfulness: 1.09",
          "Threshold: 5.46e-03<br>Nodes: 23<br>Faithfulness: 1.12",
          "Threshold: 7.85e-03<br>Nodes: 15<br>Faithfulness: 1.12",
          "Threshold: 1.13e-02<br>Nodes: 10<br>Faithfulness: 1.02",
          "Threshold: 1.62e-02<br>Nodes: 7<br>Faithfulness: 0.93",
          "Threshold: 2.34e-02<br>Nodes: 6<br>Faithfulness: 0.89",
          "Threshold: 3.36e-02<br>Nodes: 2<br>Faithfulness: 0.71",
          "Threshold: 4.83e-02<br>Nodes: 2<br>Faithfulness: 0.71",
          "Threshold: 6.95e-02<br>Nodes: 2<br>Faithfulness: 0.71",
          "Threshold: 1.00e-01<br>Nodes: 2<br>Faithfulness: 0.71"
         ],
         "type": "scatter",
         "visible": false,
         "x": [
          0.00009999999747378752,
          0.00014384498354047537,
          0.00020691381359938532,
          0.00029763515340164304,
          0.00042813323670998216,
          0.0006158482283353806,
          0.0008858668152242899,
          0.001274275011382997,
          0.0018329806625843048,
          0.002636650810018182,
          0.0037926901131868362,
          0.005455594975501299,
          0.007847599685192108,
          0.011288379319012165,
          0.016237767413258553,
          0.023357214406132698,
          0.03359818458557129,
          0.04832930117845535,
          0.0695192813873291,
          0.10000000149011612
         ],
         "xaxis": "x2",
         "y": [
          0.7939117550849915,
          0.7834120392799377,
          0.8877094388008118,
          0.8818491101264954,
          0.7795706391334534,
          1.0140811204910278,
          0.9807587265968323,
          0.9206903576850891,
          1.0467853546142578,
          1.0629171133041382,
          1.0900052785873413,
          1.1184275150299072,
          1.1184439659118652,
          1.0190950632095337,
          0.9268113970756531,
          0.8859677910804749,
          0.7055509090423584,
          0.7055509090423584,
          0.7055509090423584,
          0.7055509090423584
         ],
         "yaxis": "y2"
        },
        {
         "hoverinfo": "text",
         "marker": {
          "color": "turquoise"
         },
         "mode": "markers",
         "name": "features_wo_resids layer 2 (#nodes)",
         "text": [
          "Threshold: 1.00e-04<br>Nodes: 1601<br>Faithfulness: 0.71",
          "Threshold: 1.44e-04<br>Nodes: 1282<br>Faithfulness: 0.68",
          "Threshold: 2.07e-04<br>Nodes: 1020<br>Faithfulness: 0.69",
          "Threshold: 2.98e-04<br>Nodes: 780<br>Faithfulness: 0.68",
          "Threshold: 4.28e-04<br>Nodes: 555<br>Faithfulness: 0.68",
          "Threshold: 6.16e-04<br>Nodes: 395<br>Faithfulness: 0.64",
          "Threshold: 8.86e-04<br>Nodes: 256<br>Faithfulness: 0.65",
          "Threshold: 1.27e-03<br>Nodes: 171<br>Faithfulness: 0.62",
          "Threshold: 1.83e-03<br>Nodes: 114<br>Faithfulness: 0.60",
          "Threshold: 2.64e-03<br>Nodes: 72<br>Faithfulness: 0.58",
          "Threshold: 3.79e-03<br>Nodes: 41<br>Faithfulness: 0.53",
          "Threshold: 5.46e-03<br>Nodes: 25<br>Faithfulness: 0.49",
          "Threshold: 7.85e-03<br>Nodes: 15<br>Faithfulness: 0.46",
          "Threshold: 1.13e-02<br>Nodes: 9<br>Faithfulness: 0.44",
          "Threshold: 1.62e-02<br>Nodes: 8<br>Faithfulness: 0.44",
          "Threshold: 2.34e-02<br>Nodes: 4<br>Faithfulness: 0.40",
          "Threshold: 3.36e-02<br>Nodes: 3<br>Faithfulness: 0.37",
          "Threshold: 4.83e-02<br>Nodes: 2<br>Faithfulness: 0.33",
          "Threshold: 6.95e-02<br>Nodes: 2<br>Faithfulness: 0.33",
          "Threshold: 1.00e-01<br>Nodes: 1<br>Faithfulness: 0.25"
         ],
         "type": "scatter",
         "visible": false,
         "x": [
          1601,
          1282,
          1020,
          780,
          555,
          395,
          256,
          171,
          114,
          72,
          41,
          25,
          15,
          9,
          8,
          4,
          3,
          2,
          2,
          1
         ],
         "xaxis": "x",
         "y": [
          0.7096912264823914,
          0.6803233623504639,
          0.688453733921051,
          0.6805031299591064,
          0.6817048788070679,
          0.6426506042480469,
          0.6492915153503418,
          0.6206888556480408,
          0.5986246466636658,
          0.5763599276542664,
          0.5267202258110046,
          0.494563490152359,
          0.45916080474853516,
          0.4371633529663086,
          0.4363054931163788,
          0.4018581807613373,
          0.3742983639240265,
          0.329065203666687,
          0.329065203666687,
          0.25080248713493347
         ],
         "yaxis": "y"
        },
        {
         "hoverinfo": "text",
         "marker": {
          "color": "turquoise"
         },
         "mode": "markers",
         "name": "features_wo_resids layer 2 (thresh)",
         "text": [
          "Threshold: 1.00e-04<br>Nodes: 1601<br>Faithfulness: 0.71",
          "Threshold: 1.44e-04<br>Nodes: 1282<br>Faithfulness: 0.68",
          "Threshold: 2.07e-04<br>Nodes: 1020<br>Faithfulness: 0.69",
          "Threshold: 2.98e-04<br>Nodes: 780<br>Faithfulness: 0.68",
          "Threshold: 4.28e-04<br>Nodes: 555<br>Faithfulness: 0.68",
          "Threshold: 6.16e-04<br>Nodes: 395<br>Faithfulness: 0.64",
          "Threshold: 8.86e-04<br>Nodes: 256<br>Faithfulness: 0.65",
          "Threshold: 1.27e-03<br>Nodes: 171<br>Faithfulness: 0.62",
          "Threshold: 1.83e-03<br>Nodes: 114<br>Faithfulness: 0.60",
          "Threshold: 2.64e-03<br>Nodes: 72<br>Faithfulness: 0.58",
          "Threshold: 3.79e-03<br>Nodes: 41<br>Faithfulness: 0.53",
          "Threshold: 5.46e-03<br>Nodes: 25<br>Faithfulness: 0.49",
          "Threshold: 7.85e-03<br>Nodes: 15<br>Faithfulness: 0.46",
          "Threshold: 1.13e-02<br>Nodes: 9<br>Faithfulness: 0.44",
          "Threshold: 1.62e-02<br>Nodes: 8<br>Faithfulness: 0.44",
          "Threshold: 2.34e-02<br>Nodes: 4<br>Faithfulness: 0.40",
          "Threshold: 3.36e-02<br>Nodes: 3<br>Faithfulness: 0.37",
          "Threshold: 4.83e-02<br>Nodes: 2<br>Faithfulness: 0.33",
          "Threshold: 6.95e-02<br>Nodes: 2<br>Faithfulness: 0.33",
          "Threshold: 1.00e-01<br>Nodes: 1<br>Faithfulness: 0.25"
         ],
         "type": "scatter",
         "visible": false,
         "x": [
          0.00009999999747378752,
          0.00014384498354047537,
          0.00020691381359938532,
          0.00029763515340164304,
          0.00042813323670998216,
          0.0006158482283353806,
          0.0008858668152242899,
          0.001274275011382997,
          0.0018329806625843048,
          0.002636650810018182,
          0.0037926901131868362,
          0.005455594975501299,
          0.007847599685192108,
          0.011288379319012165,
          0.016237767413258553,
          0.023357214406132698,
          0.03359818458557129,
          0.04832930117845535,
          0.0695192813873291,
          0.10000000149011612
         ],
         "xaxis": "x2",
         "y": [
          0.7096912264823914,
          0.6803233623504639,
          0.688453733921051,
          0.6805031299591064,
          0.6817048788070679,
          0.6426506042480469,
          0.6492915153503418,
          0.6206888556480408,
          0.5986246466636658,
          0.5763599276542664,
          0.5267202258110046,
          0.494563490152359,
          0.45916080474853516,
          0.4371633529663086,
          0.4363054931163788,
          0.4018581807613373,
          0.3742983639240265,
          0.329065203666687,
          0.329065203666687,
          0.25080248713493347
         ],
         "yaxis": "y2"
        },
        {
         "hoverinfo": "text",
         "marker": {
          "color": "turquoise"
         },
         "mode": "markers",
         "name": "features_wo_resids layer 3 (#nodes)",
         "text": [
          "Threshold: 1.00e-04<br>Nodes: 2063<br>Faithfulness: 1.04",
          "Threshold: 1.44e-04<br>Nodes: 1737<br>Faithfulness: 1.02",
          "Threshold: 2.07e-04<br>Nodes: 1394<br>Faithfulness: 1.02",
          "Threshold: 2.98e-04<br>Nodes: 1036<br>Faithfulness: 1.00",
          "Threshold: 4.28e-04<br>Nodes: 740<br>Faithfulness: 0.97",
          "Threshold: 6.16e-04<br>Nodes: 525<br>Faithfulness: 0.99",
          "Threshold: 8.86e-04<br>Nodes: 344<br>Faithfulness: 1.02",
          "Threshold: 1.27e-03<br>Nodes: 215<br>Faithfulness: 0.92",
          "Threshold: 1.83e-03<br>Nodes: 129<br>Faithfulness: 0.84",
          "Threshold: 2.64e-03<br>Nodes: 73<br>Faithfulness: 0.77",
          "Threshold: 3.79e-03<br>Nodes: 34<br>Faithfulness: 0.70",
          "Threshold: 5.46e-03<br>Nodes: 18<br>Faithfulness: 0.63",
          "Threshold: 7.85e-03<br>Nodes: 9<br>Faithfulness: 0.55",
          "Threshold: 1.13e-02<br>Nodes: 5<br>Faithfulness: 0.53",
          "Threshold: 1.62e-02<br>Nodes: 5<br>Faithfulness: 0.53",
          "Threshold: 2.34e-02<br>Nodes: 3<br>Faithfulness: 0.47",
          "Threshold: 3.36e-02<br>Nodes: 2<br>Faithfulness: 0.41",
          "Threshold: 4.83e-02<br>Nodes: 2<br>Faithfulness: 0.41",
          "Threshold: 6.95e-02<br>Nodes: 2<br>Faithfulness: 0.41",
          "Threshold: 1.00e-01<br>Nodes: 1<br>Faithfulness: 0.28"
         ],
         "type": "scatter",
         "visible": false,
         "x": [
          2063,
          1737,
          1394,
          1036,
          740,
          525,
          344,
          215,
          129,
          73,
          34,
          18,
          9,
          5,
          5,
          3,
          2,
          2,
          2,
          1
         ],
         "xaxis": "x",
         "y": [
          1.0420467853546143,
          1.017828106880188,
          1.0175833702087402,
          0.9950569868087769,
          0.972960889339447,
          0.9850443005561829,
          1.0244042873382568,
          0.9167971611022949,
          0.8377136588096619,
          0.7721460461616516,
          0.7017835974693298,
          0.6341525912284851,
          0.5481070280075073,
          0.5313847064971924,
          0.5313847064971924,
          0.4668411910533905,
          0.4071519374847412,
          0.4071519374847412,
          0.4071519374847412,
          0.28307509422302246
         ],
         "yaxis": "y"
        },
        {
         "hoverinfo": "text",
         "marker": {
          "color": "turquoise"
         },
         "mode": "markers",
         "name": "features_wo_resids layer 3 (thresh)",
         "text": [
          "Threshold: 1.00e-04<br>Nodes: 2063<br>Faithfulness: 1.04",
          "Threshold: 1.44e-04<br>Nodes: 1737<br>Faithfulness: 1.02",
          "Threshold: 2.07e-04<br>Nodes: 1394<br>Faithfulness: 1.02",
          "Threshold: 2.98e-04<br>Nodes: 1036<br>Faithfulness: 1.00",
          "Threshold: 4.28e-04<br>Nodes: 740<br>Faithfulness: 0.97",
          "Threshold: 6.16e-04<br>Nodes: 525<br>Faithfulness: 0.99",
          "Threshold: 8.86e-04<br>Nodes: 344<br>Faithfulness: 1.02",
          "Threshold: 1.27e-03<br>Nodes: 215<br>Faithfulness: 0.92",
          "Threshold: 1.83e-03<br>Nodes: 129<br>Faithfulness: 0.84",
          "Threshold: 2.64e-03<br>Nodes: 73<br>Faithfulness: 0.77",
          "Threshold: 3.79e-03<br>Nodes: 34<br>Faithfulness: 0.70",
          "Threshold: 5.46e-03<br>Nodes: 18<br>Faithfulness: 0.63",
          "Threshold: 7.85e-03<br>Nodes: 9<br>Faithfulness: 0.55",
          "Threshold: 1.13e-02<br>Nodes: 5<br>Faithfulness: 0.53",
          "Threshold: 1.62e-02<br>Nodes: 5<br>Faithfulness: 0.53",
          "Threshold: 2.34e-02<br>Nodes: 3<br>Faithfulness: 0.47",
          "Threshold: 3.36e-02<br>Nodes: 2<br>Faithfulness: 0.41",
          "Threshold: 4.83e-02<br>Nodes: 2<br>Faithfulness: 0.41",
          "Threshold: 6.95e-02<br>Nodes: 2<br>Faithfulness: 0.41",
          "Threshold: 1.00e-01<br>Nodes: 1<br>Faithfulness: 0.28"
         ],
         "type": "scatter",
         "visible": false,
         "x": [
          0.00009999999747378752,
          0.00014384498354047537,
          0.00020691381359938532,
          0.00029763515340164304,
          0.00042813323670998216,
          0.0006158482283353806,
          0.0008858668152242899,
          0.001274275011382997,
          0.0018329806625843048,
          0.002636650810018182,
          0.0037926901131868362,
          0.005455594975501299,
          0.007847599685192108,
          0.011288379319012165,
          0.016237767413258553,
          0.023357214406132698,
          0.03359818458557129,
          0.04832930117845535,
          0.0695192813873291,
          0.10000000149011612
         ],
         "xaxis": "x2",
         "y": [
          1.0420467853546143,
          1.017828106880188,
          1.0175833702087402,
          0.9950569868087769,
          0.972960889339447,
          0.9850443005561829,
          1.0244042873382568,
          0.9167971611022949,
          0.8377136588096619,
          0.7721460461616516,
          0.7017835974693298,
          0.6341525912284851,
          0.5481070280075073,
          0.5313847064971924,
          0.5313847064971924,
          0.4668411910533905,
          0.4071519374847412,
          0.4071519374847412,
          0.4071519374847412,
          0.28307509422302246
         ],
         "yaxis": "y2"
        },
        {
         "hoverinfo": "text",
         "marker": {
          "color": "turquoise"
         },
         "mode": "markers",
         "name": "features_wo_resids layer 4 (#nodes)",
         "text": [
          "Threshold: 1.00e-04<br>Nodes: 1553<br>Faithfulness: 1.08",
          "Threshold: 1.44e-04<br>Nodes: 1261<br>Faithfulness: 1.08",
          "Threshold: 2.07e-04<br>Nodes: 998<br>Faithfulness: 1.11",
          "Threshold: 2.98e-04<br>Nodes: 729<br>Faithfulness: 1.07",
          "Threshold: 4.28e-04<br>Nodes: 504<br>Faithfulness: 1.09",
          "Threshold: 6.16e-04<br>Nodes: 329<br>Faithfulness: 1.09",
          "Threshold: 8.86e-04<br>Nodes: 214<br>Faithfulness: 1.08",
          "Threshold: 1.27e-03<br>Nodes: 137<br>Faithfulness: 1.08",
          "Threshold: 1.83e-03<br>Nodes: 84<br>Faithfulness: 1.03",
          "Threshold: 2.64e-03<br>Nodes: 46<br>Faithfulness: 1.00",
          "Threshold: 3.79e-03<br>Nodes: 33<br>Faithfulness: 0.98",
          "Threshold: 5.46e-03<br>Nodes: 24<br>Faithfulness: 0.96",
          "Threshold: 7.85e-03<br>Nodes: 16<br>Faithfulness: 0.95",
          "Threshold: 1.13e-02<br>Nodes: 13<br>Faithfulness: 0.92",
          "Threshold: 1.62e-02<br>Nodes: 7<br>Faithfulness: 0.80",
          "Threshold: 2.34e-02<br>Nodes: 6<br>Faithfulness: 0.76",
          "Threshold: 3.36e-02<br>Nodes: 4<br>Faithfulness: 0.67",
          "Threshold: 4.83e-02<br>Nodes: 4<br>Faithfulness: 0.67",
          "Threshold: 6.95e-02<br>Nodes: 4<br>Faithfulness: 0.67",
          "Threshold: 1.00e-01<br>Nodes: 4<br>Faithfulness: 0.67"
         ],
         "type": "scatter",
         "visible": false,
         "x": [
          1553,
          1261,
          998,
          729,
          504,
          329,
          214,
          137,
          84,
          46,
          33,
          24,
          16,
          13,
          7,
          6,
          4,
          4,
          4,
          4
         ],
         "xaxis": "x",
         "y": [
          1.0796056985855103,
          1.0790995359420776,
          1.1081974506378174,
          1.0673964023590088,
          1.0912526845932007,
          1.0912189483642578,
          1.0820577144622803,
          1.0786665678024292,
          1.0257517099380493,
          0.9985489845275879,
          0.976925253868103,
          0.9560946226119995,
          0.9522534608840942,
          0.9192583560943604,
          0.8027151823043823,
          0.7597320675849915,
          0.6713870167732239,
          0.6713870167732239,
          0.6713870167732239,
          0.6713870167732239
         ],
         "yaxis": "y"
        },
        {
         "hoverinfo": "text",
         "marker": {
          "color": "turquoise"
         },
         "mode": "markers",
         "name": "features_wo_resids layer 4 (thresh)",
         "text": [
          "Threshold: 1.00e-04<br>Nodes: 1553<br>Faithfulness: 1.08",
          "Threshold: 1.44e-04<br>Nodes: 1261<br>Faithfulness: 1.08",
          "Threshold: 2.07e-04<br>Nodes: 998<br>Faithfulness: 1.11",
          "Threshold: 2.98e-04<br>Nodes: 729<br>Faithfulness: 1.07",
          "Threshold: 4.28e-04<br>Nodes: 504<br>Faithfulness: 1.09",
          "Threshold: 6.16e-04<br>Nodes: 329<br>Faithfulness: 1.09",
          "Threshold: 8.86e-04<br>Nodes: 214<br>Faithfulness: 1.08",
          "Threshold: 1.27e-03<br>Nodes: 137<br>Faithfulness: 1.08",
          "Threshold: 1.83e-03<br>Nodes: 84<br>Faithfulness: 1.03",
          "Threshold: 2.64e-03<br>Nodes: 46<br>Faithfulness: 1.00",
          "Threshold: 3.79e-03<br>Nodes: 33<br>Faithfulness: 0.98",
          "Threshold: 5.46e-03<br>Nodes: 24<br>Faithfulness: 0.96",
          "Threshold: 7.85e-03<br>Nodes: 16<br>Faithfulness: 0.95",
          "Threshold: 1.13e-02<br>Nodes: 13<br>Faithfulness: 0.92",
          "Threshold: 1.62e-02<br>Nodes: 7<br>Faithfulness: 0.80",
          "Threshold: 2.34e-02<br>Nodes: 6<br>Faithfulness: 0.76",
          "Threshold: 3.36e-02<br>Nodes: 4<br>Faithfulness: 0.67",
          "Threshold: 4.83e-02<br>Nodes: 4<br>Faithfulness: 0.67",
          "Threshold: 6.95e-02<br>Nodes: 4<br>Faithfulness: 0.67",
          "Threshold: 1.00e-01<br>Nodes: 4<br>Faithfulness: 0.67"
         ],
         "type": "scatter",
         "visible": false,
         "x": [
          0.00009999999747378752,
          0.00014384498354047537,
          0.00020691381359938532,
          0.00029763515340164304,
          0.00042813323670998216,
          0.0006158482283353806,
          0.0008858668152242899,
          0.001274275011382997,
          0.0018329806625843048,
          0.002636650810018182,
          0.0037926901131868362,
          0.005455594975501299,
          0.007847599685192108,
          0.011288379319012165,
          0.016237767413258553,
          0.023357214406132698,
          0.03359818458557129,
          0.04832930117845535,
          0.0695192813873291,
          0.10000000149011612
         ],
         "xaxis": "x2",
         "y": [
          1.0796056985855103,
          1.0790995359420776,
          1.1081974506378174,
          1.0673964023590088,
          1.0912526845932007,
          1.0912189483642578,
          1.0820577144622803,
          1.0786665678024292,
          1.0257517099380493,
          0.9985489845275879,
          0.976925253868103,
          0.9560946226119995,
          0.9522534608840942,
          0.9192583560943604,
          0.8027151823043823,
          0.7597320675849915,
          0.6713870167732239,
          0.6713870167732239,
          0.6713870167732239,
          0.6713870167732239
         ],
         "yaxis": "y2"
        },
        {
         "hoverinfo": "text",
         "marker": {
          "color": "turquoise"
         },
         "mode": "markers",
         "name": "features_wo_resids layer 5 (#nodes)",
         "text": [
          "Threshold: 1.00e-04<br>Nodes: 1246<br>Faithfulness: 1.16",
          "Threshold: 1.44e-04<br>Nodes: 1049<br>Faithfulness: 1.16",
          "Threshold: 2.07e-04<br>Nodes: 824<br>Faithfulness: 1.15",
          "Threshold: 2.98e-04<br>Nodes: 614<br>Faithfulness: 1.14",
          "Threshold: 4.28e-04<br>Nodes: 443<br>Faithfulness: 1.15",
          "Threshold: 6.16e-04<br>Nodes: 319<br>Faithfulness: 1.16",
          "Threshold: 8.86e-04<br>Nodes: 220<br>Faithfulness: 1.14",
          "Threshold: 1.27e-03<br>Nodes: 156<br>Faithfulness: 1.12",
          "Threshold: 1.83e-03<br>Nodes: 110<br>Faithfulness: 1.09",
          "Threshold: 2.64e-03<br>Nodes: 83<br>Faithfulness: 1.08",
          "Threshold: 3.79e-03<br>Nodes: 65<br>Faithfulness: 1.07",
          "Threshold: 5.46e-03<br>Nodes: 49<br>Faithfulness: 1.05",
          "Threshold: 7.85e-03<br>Nodes: 35<br>Faithfulness: 1.01",
          "Threshold: 1.13e-02<br>Nodes: 27<br>Faithfulness: 1.02",
          "Threshold: 1.62e-02<br>Nodes: 19<br>Faithfulness: 0.96",
          "Threshold: 2.34e-02<br>Nodes: 17<br>Faithfulness: 1.02",
          "Threshold: 3.36e-02<br>Nodes: 11<br>Faithfulness: 0.93",
          "Threshold: 4.83e-02<br>Nodes: 8<br>Faithfulness: 0.84",
          "Threshold: 6.95e-02<br>Nodes: 7<br>Faithfulness: 0.80",
          "Threshold: 1.00e-01<br>Nodes: 6<br>Faithfulness: 0.74"
         ],
         "type": "scatter",
         "visible": false,
         "x": [
          1246,
          1049,
          824,
          614,
          443,
          319,
          220,
          156,
          110,
          83,
          65,
          49,
          35,
          27,
          19,
          17,
          11,
          8,
          7,
          6
         ],
         "xaxis": "x",
         "y": [
          1.1649796962738037,
          1.1624548435211182,
          1.149728775024414,
          1.1399109363555908,
          1.149638295173645,
          1.1571444272994995,
          1.1434706449508667,
          1.1177688837051392,
          1.0948668718338013,
          1.0840580463409424,
          1.069758415222168,
          1.0514614582061768,
          1.0140645503997803,
          1.0229852199554443,
          0.9639813899993896,
          1.0226631164550781,
          0.9270764589309692,
          0.8378599882125854,
          0.8023477792739868,
          0.7412748336791992
         ],
         "yaxis": "y"
        },
        {
         "hoverinfo": "text",
         "marker": {
          "color": "turquoise"
         },
         "mode": "markers",
         "name": "features_wo_resids layer 5 (thresh)",
         "text": [
          "Threshold: 1.00e-04<br>Nodes: 1246<br>Faithfulness: 1.16",
          "Threshold: 1.44e-04<br>Nodes: 1049<br>Faithfulness: 1.16",
          "Threshold: 2.07e-04<br>Nodes: 824<br>Faithfulness: 1.15",
          "Threshold: 2.98e-04<br>Nodes: 614<br>Faithfulness: 1.14",
          "Threshold: 4.28e-04<br>Nodes: 443<br>Faithfulness: 1.15",
          "Threshold: 6.16e-04<br>Nodes: 319<br>Faithfulness: 1.16",
          "Threshold: 8.86e-04<br>Nodes: 220<br>Faithfulness: 1.14",
          "Threshold: 1.27e-03<br>Nodes: 156<br>Faithfulness: 1.12",
          "Threshold: 1.83e-03<br>Nodes: 110<br>Faithfulness: 1.09",
          "Threshold: 2.64e-03<br>Nodes: 83<br>Faithfulness: 1.08",
          "Threshold: 3.79e-03<br>Nodes: 65<br>Faithfulness: 1.07",
          "Threshold: 5.46e-03<br>Nodes: 49<br>Faithfulness: 1.05",
          "Threshold: 7.85e-03<br>Nodes: 35<br>Faithfulness: 1.01",
          "Threshold: 1.13e-02<br>Nodes: 27<br>Faithfulness: 1.02",
          "Threshold: 1.62e-02<br>Nodes: 19<br>Faithfulness: 0.96",
          "Threshold: 2.34e-02<br>Nodes: 17<br>Faithfulness: 1.02",
          "Threshold: 3.36e-02<br>Nodes: 11<br>Faithfulness: 0.93",
          "Threshold: 4.83e-02<br>Nodes: 8<br>Faithfulness: 0.84",
          "Threshold: 6.95e-02<br>Nodes: 7<br>Faithfulness: 0.80",
          "Threshold: 1.00e-01<br>Nodes: 6<br>Faithfulness: 0.74"
         ],
         "type": "scatter",
         "visible": false,
         "x": [
          0.00009999999747378752,
          0.00014384498354047537,
          0.00020691381359938532,
          0.00029763515340164304,
          0.00042813323670998216,
          0.0006158482283353806,
          0.0008858668152242899,
          0.001274275011382997,
          0.0018329806625843048,
          0.002636650810018182,
          0.0037926901131868362,
          0.005455594975501299,
          0.007847599685192108,
          0.011288379319012165,
          0.016237767413258553,
          0.023357214406132698,
          0.03359818458557129,
          0.04832930117845535,
          0.0695192813873291,
          0.10000000149011612
         ],
         "xaxis": "x2",
         "y": [
          1.1649796962738037,
          1.1624548435211182,
          1.149728775024414,
          1.1399109363555908,
          1.149638295173645,
          1.1571444272994995,
          1.1434706449508667,
          1.1177688837051392,
          1.0948668718338013,
          1.0840580463409424,
          1.069758415222168,
          1.0514614582061768,
          1.0140645503997803,
          1.0229852199554443,
          0.9639813899993896,
          1.0226631164550781,
          0.9270764589309692,
          0.8378599882125854,
          0.8023477792739868,
          0.7412748336791992
         ],
         "yaxis": "y2"
        },
        {
         "hoverinfo": "text",
         "marker": {
          "color": "red"
         },
         "mode": "markers",
         "name": "neurons layer 0 (#nodes)",
         "text": [
          "Threshold: 1.00e-04<br>Nodes: 1004<br>Faithfulness: 1.01",
          "Threshold: 1.44e-04<br>Nodes: 996<br>Faithfulness: 1.01",
          "Threshold: 2.07e-04<br>Nodes: 982<br>Faithfulness: 1.01",
          "Threshold: 2.98e-04<br>Nodes: 964<br>Faithfulness: 0.99",
          "Threshold: 4.28e-04<br>Nodes: 933<br>Faithfulness: 1.03",
          "Threshold: 6.16e-04<br>Nodes: 886<br>Faithfulness: 1.03",
          "Threshold: 8.86e-04<br>Nodes: 834<br>Faithfulness: 1.07",
          "Threshold: 1.27e-03<br>Nodes: 753<br>Faithfulness: 1.09",
          "Threshold: 1.83e-03<br>Nodes: 652<br>Faithfulness: 1.17",
          "Threshold: 2.64e-03<br>Nodes: 542<br>Faithfulness: 1.14",
          "Threshold: 3.79e-03<br>Nodes: 418<br>Faithfulness: 1.18",
          "Threshold: 5.46e-03<br>Nodes: 312<br>Faithfulness: 1.17",
          "Threshold: 7.85e-03<br>Nodes: 201<br>Faithfulness: 1.16",
          "Threshold: 1.13e-02<br>Nodes: 123<br>Faithfulness: 1.10",
          "Threshold: 1.62e-02<br>Nodes: 68<br>Faithfulness: 0.96",
          "Threshold: 2.34e-02<br>Nodes: 31<br>Faithfulness: 0.74",
          "Threshold: 3.36e-02<br>Nodes: 13<br>Faithfulness: 0.46",
          "Threshold: 4.83e-02<br>Nodes: 7<br>Faithfulness: 0.30",
          "Threshold: 6.95e-02<br>Nodes: 0<br>Faithfulness: -0.00",
          "Threshold: 1.00e-01<br>Nodes: 0<br>Faithfulness: -0.00"
         ],
         "type": "scatter",
         "visible": true,
         "x": [
          1004,
          996,
          982,
          964,
          933,
          886,
          834,
          753,
          652,
          542,
          418,
          312,
          201,
          123,
          68,
          31,
          13,
          7,
          0,
          0
         ],
         "xaxis": "x",
         "y": [
          1.011767864227295,
          1.0126227140426636,
          1.0128629207611084,
          0.9896027445793152,
          1.0267950296401978,
          1.0275298357009888,
          1.0675292015075684,
          1.0908507108688354,
          1.1701972484588623,
          1.1380610466003418,
          1.1769089698791504,
          1.170729398727417,
          1.156670093536377,
          1.1025620698928833,
          0.9581001400947571,
          0.741653323173523,
          0.4618174135684967,
          0.303957998752594,
          -0.000004703072136180708,
          -0.000004703072136180708
         ],
         "yaxis": "y"
        },
        {
         "hoverinfo": "text",
         "marker": {
          "color": "red"
         },
         "mode": "markers",
         "name": "neurons layer 0 (thresh)",
         "text": [
          "Threshold: 1.00e-04<br>Nodes: 1004<br>Faithfulness: 1.01",
          "Threshold: 1.44e-04<br>Nodes: 996<br>Faithfulness: 1.01",
          "Threshold: 2.07e-04<br>Nodes: 982<br>Faithfulness: 1.01",
          "Threshold: 2.98e-04<br>Nodes: 964<br>Faithfulness: 0.99",
          "Threshold: 4.28e-04<br>Nodes: 933<br>Faithfulness: 1.03",
          "Threshold: 6.16e-04<br>Nodes: 886<br>Faithfulness: 1.03",
          "Threshold: 8.86e-04<br>Nodes: 834<br>Faithfulness: 1.07",
          "Threshold: 1.27e-03<br>Nodes: 753<br>Faithfulness: 1.09",
          "Threshold: 1.83e-03<br>Nodes: 652<br>Faithfulness: 1.17",
          "Threshold: 2.64e-03<br>Nodes: 542<br>Faithfulness: 1.14",
          "Threshold: 3.79e-03<br>Nodes: 418<br>Faithfulness: 1.18",
          "Threshold: 5.46e-03<br>Nodes: 312<br>Faithfulness: 1.17",
          "Threshold: 7.85e-03<br>Nodes: 201<br>Faithfulness: 1.16",
          "Threshold: 1.13e-02<br>Nodes: 123<br>Faithfulness: 1.10",
          "Threshold: 1.62e-02<br>Nodes: 68<br>Faithfulness: 0.96",
          "Threshold: 2.34e-02<br>Nodes: 31<br>Faithfulness: 0.74",
          "Threshold: 3.36e-02<br>Nodes: 13<br>Faithfulness: 0.46",
          "Threshold: 4.83e-02<br>Nodes: 7<br>Faithfulness: 0.30",
          "Threshold: 6.95e-02<br>Nodes: 0<br>Faithfulness: -0.00",
          "Threshold: 1.00e-01<br>Nodes: 0<br>Faithfulness: -0.00"
         ],
         "type": "scatter",
         "visible": true,
         "x": [
          0.00009999999747378752,
          0.00014384498354047537,
          0.00020691381359938532,
          0.00029763515340164304,
          0.00042813323670998216,
          0.0006158482283353806,
          0.0008858668152242899,
          0.001274275011382997,
          0.0018329806625843048,
          0.002636650810018182,
          0.0037926901131868362,
          0.005455594975501299,
          0.007847599685192108,
          0.011288379319012165,
          0.016237767413258553,
          0.023357214406132698,
          0.03359818458557129,
          0.04832930117845535,
          0.0695192813873291,
          0.10000000149011612
         ],
         "xaxis": "x2",
         "y": [
          1.011767864227295,
          1.0126227140426636,
          1.0128629207611084,
          0.9896027445793152,
          1.0267950296401978,
          1.0275298357009888,
          1.0675292015075684,
          1.0908507108688354,
          1.1701972484588623,
          1.1380610466003418,
          1.1769089698791504,
          1.170729398727417,
          1.156670093536377,
          1.1025620698928833,
          0.9581001400947571,
          0.741653323173523,
          0.4618174135684967,
          0.303957998752594,
          -0.000004703072136180708,
          -0.000004703072136180708
         ],
         "yaxis": "y2"
        },
        {
         "hoverinfo": "text",
         "marker": {
          "color": "red"
         },
         "mode": "markers",
         "name": "neurons layer 1 (#nodes)",
         "text": [
          "Threshold: 1.00e-04<br>Nodes: 992<br>Faithfulness: 0.96",
          "Threshold: 1.44e-04<br>Nodes: 982<br>Faithfulness: 0.96",
          "Threshold: 2.07e-04<br>Nodes: 964<br>Faithfulness: 0.94",
          "Threshold: 2.98e-04<br>Nodes: 937<br>Faithfulness: 0.94",
          "Threshold: 4.28e-04<br>Nodes: 893<br>Faithfulness: 0.99",
          "Threshold: 6.16e-04<br>Nodes: 841<br>Faithfulness: 1.01",
          "Threshold: 8.86e-04<br>Nodes: 759<br>Faithfulness: 0.92",
          "Threshold: 1.27e-03<br>Nodes: 648<br>Faithfulness: 1.14",
          "Threshold: 1.83e-03<br>Nodes: 516<br>Faithfulness: 1.41",
          "Threshold: 2.64e-03<br>Nodes: 376<br>Faithfulness: 1.32",
          "Threshold: 3.79e-03<br>Nodes: 232<br>Faithfulness: 1.48",
          "Threshold: 5.46e-03<br>Nodes: 146<br>Faithfulness: 1.35",
          "Threshold: 7.85e-03<br>Nodes: 78<br>Faithfulness: 1.44",
          "Threshold: 1.13e-02<br>Nodes: 36<br>Faithfulness: 1.18",
          "Threshold: 1.62e-02<br>Nodes: 13<br>Faithfulness: 0.45",
          "Threshold: 2.34e-02<br>Nodes: 3<br>Faithfulness: 0.17",
          "Threshold: 3.36e-02<br>Nodes: 0<br>Faithfulness: -0.00",
          "Threshold: 4.83e-02<br>Nodes: 0<br>Faithfulness: -0.00",
          "Threshold: 6.95e-02<br>Nodes: 0<br>Faithfulness: -0.00",
          "Threshold: 1.00e-01<br>Nodes: 0<br>Faithfulness: -0.00"
         ],
         "type": "scatter",
         "visible": false,
         "x": [
          992,
          982,
          964,
          937,
          893,
          841,
          759,
          648,
          516,
          376,
          232,
          146,
          78,
          36,
          13,
          3,
          0,
          0,
          0,
          0
         ],
         "xaxis": "x",
         "y": [
          0.964463472366333,
          0.964219331741333,
          0.9422920346260071,
          0.9444407224655151,
          0.993618905544281,
          1.012160062789917,
          0.9215042591094971,
          1.1370666027069092,
          1.4084978103637695,
          1.322887897491455,
          1.476933240890503,
          1.3494386672973633,
          1.4388245344161987,
          1.1754194498062134,
          0.4538823366165161,
          0.17315630614757538,
          -0.0012533320114016533,
          -0.0012533320114016533,
          -0.0012533320114016533,
          -0.0012533320114016533
         ],
         "yaxis": "y"
        },
        {
         "hoverinfo": "text",
         "marker": {
          "color": "red"
         },
         "mode": "markers",
         "name": "neurons layer 1 (thresh)",
         "text": [
          "Threshold: 1.00e-04<br>Nodes: 992<br>Faithfulness: 0.96",
          "Threshold: 1.44e-04<br>Nodes: 982<br>Faithfulness: 0.96",
          "Threshold: 2.07e-04<br>Nodes: 964<br>Faithfulness: 0.94",
          "Threshold: 2.98e-04<br>Nodes: 937<br>Faithfulness: 0.94",
          "Threshold: 4.28e-04<br>Nodes: 893<br>Faithfulness: 0.99",
          "Threshold: 6.16e-04<br>Nodes: 841<br>Faithfulness: 1.01",
          "Threshold: 8.86e-04<br>Nodes: 759<br>Faithfulness: 0.92",
          "Threshold: 1.27e-03<br>Nodes: 648<br>Faithfulness: 1.14",
          "Threshold: 1.83e-03<br>Nodes: 516<br>Faithfulness: 1.41",
          "Threshold: 2.64e-03<br>Nodes: 376<br>Faithfulness: 1.32",
          "Threshold: 3.79e-03<br>Nodes: 232<br>Faithfulness: 1.48",
          "Threshold: 5.46e-03<br>Nodes: 146<br>Faithfulness: 1.35",
          "Threshold: 7.85e-03<br>Nodes: 78<br>Faithfulness: 1.44",
          "Threshold: 1.13e-02<br>Nodes: 36<br>Faithfulness: 1.18",
          "Threshold: 1.62e-02<br>Nodes: 13<br>Faithfulness: 0.45",
          "Threshold: 2.34e-02<br>Nodes: 3<br>Faithfulness: 0.17",
          "Threshold: 3.36e-02<br>Nodes: 0<br>Faithfulness: -0.00",
          "Threshold: 4.83e-02<br>Nodes: 0<br>Faithfulness: -0.00",
          "Threshold: 6.95e-02<br>Nodes: 0<br>Faithfulness: -0.00",
          "Threshold: 1.00e-01<br>Nodes: 0<br>Faithfulness: -0.00"
         ],
         "type": "scatter",
         "visible": false,
         "x": [
          0.00009999999747378752,
          0.00014384498354047537,
          0.00020691381359938532,
          0.00029763515340164304,
          0.00042813323670998216,
          0.0006158482283353806,
          0.0008858668152242899,
          0.001274275011382997,
          0.0018329806625843048,
          0.002636650810018182,
          0.0037926901131868362,
          0.005455594975501299,
          0.007847599685192108,
          0.011288379319012165,
          0.016237767413258553,
          0.023357214406132698,
          0.03359818458557129,
          0.04832930117845535,
          0.0695192813873291,
          0.10000000149011612
         ],
         "xaxis": "x2",
         "y": [
          0.964463472366333,
          0.964219331741333,
          0.9422920346260071,
          0.9444407224655151,
          0.993618905544281,
          1.012160062789917,
          0.9215042591094971,
          1.1370666027069092,
          1.4084978103637695,
          1.322887897491455,
          1.476933240890503,
          1.3494386672973633,
          1.4388245344161987,
          1.1754194498062134,
          0.4538823366165161,
          0.17315630614757538,
          -0.0012533320114016533,
          -0.0012533320114016533,
          -0.0012533320114016533,
          -0.0012533320114016533
         ],
         "yaxis": "y2"
        },
        {
         "hoverinfo": "text",
         "marker": {
          "color": "red"
         },
         "mode": "markers",
         "name": "neurons layer 2 (#nodes)",
         "text": [
          "Threshold: 1.00e-04<br>Nodes: 999<br>Faithfulness: 1.08",
          "Threshold: 1.44e-04<br>Nodes: 977<br>Faithfulness: 1.10",
          "Threshold: 2.07e-04<br>Nodes: 958<br>Faithfulness: 1.07",
          "Threshold: 2.98e-04<br>Nodes: 940<br>Faithfulness: 1.12",
          "Threshold: 4.28e-04<br>Nodes: 920<br>Faithfulness: 1.13",
          "Threshold: 6.16e-04<br>Nodes: 877<br>Faithfulness: 0.97",
          "Threshold: 8.86e-04<br>Nodes: 819<br>Faithfulness: 0.97",
          "Threshold: 1.27e-03<br>Nodes: 729<br>Faithfulness: 0.96",
          "Threshold: 1.83e-03<br>Nodes: 625<br>Faithfulness: 1.02",
          "Threshold: 2.64e-03<br>Nodes: 508<br>Faithfulness: 1.03",
          "Threshold: 3.79e-03<br>Nodes: 391<br>Faithfulness: 1.01",
          "Threshold: 5.46e-03<br>Nodes: 274<br>Faithfulness: 1.11",
          "Threshold: 7.85e-03<br>Nodes: 149<br>Faithfulness: 1.04",
          "Threshold: 1.13e-02<br>Nodes: 66<br>Faithfulness: 0.83",
          "Threshold: 1.62e-02<br>Nodes: 30<br>Faithfulness: 0.58",
          "Threshold: 2.34e-02<br>Nodes: 14<br>Faithfulness: 0.33",
          "Threshold: 3.36e-02<br>Nodes: 3<br>Faithfulness: 0.20",
          "Threshold: 4.83e-02<br>Nodes: 2<br>Faithfulness: 0.15",
          "Threshold: 6.95e-02<br>Nodes: 0<br>Faithfulness: -0.00",
          "Threshold: 1.00e-01<br>Nodes: 0<br>Faithfulness: -0.00"
         ],
         "type": "scatter",
         "visible": false,
         "x": [
          999,
          977,
          958,
          940,
          920,
          877,
          819,
          729,
          625,
          508,
          391,
          274,
          149,
          66,
          30,
          14,
          3,
          2,
          0,
          0
         ],
         "xaxis": "x",
         "y": [
          1.0768606662750244,
          1.1034806966781616,
          1.0705074071884155,
          1.1180875301361084,
          1.1274505853652954,
          0.9650443196296692,
          0.9669650793075562,
          0.9580797553062439,
          1.0157369375228882,
          1.02584969997406,
          1.0088289976119995,
          1.109027624130249,
          1.0416275262832642,
          0.8320005536079407,
          0.5754200220108032,
          0.3278634548187256,
          0.19908779859542847,
          0.14729094505310059,
          -0.0002363375388085842,
          -0.0002363375388085842
         ],
         "yaxis": "y"
        },
        {
         "hoverinfo": "text",
         "marker": {
          "color": "red"
         },
         "mode": "markers",
         "name": "neurons layer 2 (thresh)",
         "text": [
          "Threshold: 1.00e-04<br>Nodes: 999<br>Faithfulness: 1.08",
          "Threshold: 1.44e-04<br>Nodes: 977<br>Faithfulness: 1.10",
          "Threshold: 2.07e-04<br>Nodes: 958<br>Faithfulness: 1.07",
          "Threshold: 2.98e-04<br>Nodes: 940<br>Faithfulness: 1.12",
          "Threshold: 4.28e-04<br>Nodes: 920<br>Faithfulness: 1.13",
          "Threshold: 6.16e-04<br>Nodes: 877<br>Faithfulness: 0.97",
          "Threshold: 8.86e-04<br>Nodes: 819<br>Faithfulness: 0.97",
          "Threshold: 1.27e-03<br>Nodes: 729<br>Faithfulness: 0.96",
          "Threshold: 1.83e-03<br>Nodes: 625<br>Faithfulness: 1.02",
          "Threshold: 2.64e-03<br>Nodes: 508<br>Faithfulness: 1.03",
          "Threshold: 3.79e-03<br>Nodes: 391<br>Faithfulness: 1.01",
          "Threshold: 5.46e-03<br>Nodes: 274<br>Faithfulness: 1.11",
          "Threshold: 7.85e-03<br>Nodes: 149<br>Faithfulness: 1.04",
          "Threshold: 1.13e-02<br>Nodes: 66<br>Faithfulness: 0.83",
          "Threshold: 1.62e-02<br>Nodes: 30<br>Faithfulness: 0.58",
          "Threshold: 2.34e-02<br>Nodes: 14<br>Faithfulness: 0.33",
          "Threshold: 3.36e-02<br>Nodes: 3<br>Faithfulness: 0.20",
          "Threshold: 4.83e-02<br>Nodes: 2<br>Faithfulness: 0.15",
          "Threshold: 6.95e-02<br>Nodes: 0<br>Faithfulness: -0.00",
          "Threshold: 1.00e-01<br>Nodes: 0<br>Faithfulness: -0.00"
         ],
         "type": "scatter",
         "visible": false,
         "x": [
          0.00009999999747378752,
          0.00014384498354047537,
          0.00020691381359938532,
          0.00029763515340164304,
          0.00042813323670998216,
          0.0006158482283353806,
          0.0008858668152242899,
          0.001274275011382997,
          0.0018329806625843048,
          0.002636650810018182,
          0.0037926901131868362,
          0.005455594975501299,
          0.007847599685192108,
          0.011288379319012165,
          0.016237767413258553,
          0.023357214406132698,
          0.03359818458557129,
          0.04832930117845535,
          0.0695192813873291,
          0.10000000149011612
         ],
         "xaxis": "x2",
         "y": [
          1.0768606662750244,
          1.1034806966781616,
          1.0705074071884155,
          1.1180875301361084,
          1.1274505853652954,
          0.9650443196296692,
          0.9669650793075562,
          0.9580797553062439,
          1.0157369375228882,
          1.02584969997406,
          1.0088289976119995,
          1.109027624130249,
          1.0416275262832642,
          0.8320005536079407,
          0.5754200220108032,
          0.3278634548187256,
          0.19908779859542847,
          0.14729094505310059,
          -0.0002363375388085842,
          -0.0002363375388085842
         ],
         "yaxis": "y2"
        },
        {
         "hoverinfo": "text",
         "marker": {
          "color": "red"
         },
         "mode": "markers",
         "name": "neurons layer 3 (#nodes)",
         "text": [
          "Threshold: 1.00e-04<br>Nodes: 996<br>Faithfulness: 1.01",
          "Threshold: 1.44e-04<br>Nodes: 988<br>Faithfulness: 0.99",
          "Threshold: 2.07e-04<br>Nodes: 979<br>Faithfulness: 1.01",
          "Threshold: 2.98e-04<br>Nodes: 959<br>Faithfulness: 0.96",
          "Threshold: 4.28e-04<br>Nodes: 922<br>Faithfulness: 1.01",
          "Threshold: 6.16e-04<br>Nodes: 872<br>Faithfulness: 0.92",
          "Threshold: 8.86e-04<br>Nodes: 813<br>Faithfulness: 0.92",
          "Threshold: 1.27e-03<br>Nodes: 738<br>Faithfulness: 0.97",
          "Threshold: 1.83e-03<br>Nodes: 651<br>Faithfulness: 1.00",
          "Threshold: 2.64e-03<br>Nodes: 527<br>Faithfulness: 1.07",
          "Threshold: 3.79e-03<br>Nodes: 358<br>Faithfulness: 1.15",
          "Threshold: 5.46e-03<br>Nodes: 231<br>Faithfulness: 1.01",
          "Threshold: 7.85e-03<br>Nodes: 120<br>Faithfulness: 0.91",
          "Threshold: 1.13e-02<br>Nodes: 46<br>Faithfulness: 0.59",
          "Threshold: 1.62e-02<br>Nodes: 17<br>Faithfulness: 0.32",
          "Threshold: 2.34e-02<br>Nodes: 7<br>Faithfulness: 0.16",
          "Threshold: 3.36e-02<br>Nodes: 0<br>Faithfulness: 0.00",
          "Threshold: 4.83e-02<br>Nodes: 0<br>Faithfulness: 0.00",
          "Threshold: 6.95e-02<br>Nodes: 0<br>Faithfulness: 0.00",
          "Threshold: 1.00e-01<br>Nodes: 0<br>Faithfulness: 0.00"
         ],
         "type": "scatter",
         "visible": false,
         "x": [
          996,
          988,
          979,
          959,
          922,
          872,
          813,
          738,
          651,
          527,
          358,
          231,
          120,
          46,
          17,
          7,
          0,
          0,
          0,
          0
         ],
         "xaxis": "x",
         "y": [
          1.0084911584854126,
          0.9921695590019226,
          1.006011962890625,
          0.9578567147254944,
          1.0135902166366577,
          0.9224751591682434,
          0.9249320030212402,
          0.9684261083602905,
          1.0035626888275146,
          1.0745337009429932,
          1.1485775709152222,
          1.0089735984802246,
          0.9099985957145691,
          0.5942583084106445,
          0.3233109414577484,
          0.1631694883108139,
          0.00023745234648231417,
          0.00023745234648231417,
          0.00023745234648231417,
          0.00023745234648231417
         ],
         "yaxis": "y"
        },
        {
         "hoverinfo": "text",
         "marker": {
          "color": "red"
         },
         "mode": "markers",
         "name": "neurons layer 3 (thresh)",
         "text": [
          "Threshold: 1.00e-04<br>Nodes: 996<br>Faithfulness: 1.01",
          "Threshold: 1.44e-04<br>Nodes: 988<br>Faithfulness: 0.99",
          "Threshold: 2.07e-04<br>Nodes: 979<br>Faithfulness: 1.01",
          "Threshold: 2.98e-04<br>Nodes: 959<br>Faithfulness: 0.96",
          "Threshold: 4.28e-04<br>Nodes: 922<br>Faithfulness: 1.01",
          "Threshold: 6.16e-04<br>Nodes: 872<br>Faithfulness: 0.92",
          "Threshold: 8.86e-04<br>Nodes: 813<br>Faithfulness: 0.92",
          "Threshold: 1.27e-03<br>Nodes: 738<br>Faithfulness: 0.97",
          "Threshold: 1.83e-03<br>Nodes: 651<br>Faithfulness: 1.00",
          "Threshold: 2.64e-03<br>Nodes: 527<br>Faithfulness: 1.07",
          "Threshold: 3.79e-03<br>Nodes: 358<br>Faithfulness: 1.15",
          "Threshold: 5.46e-03<br>Nodes: 231<br>Faithfulness: 1.01",
          "Threshold: 7.85e-03<br>Nodes: 120<br>Faithfulness: 0.91",
          "Threshold: 1.13e-02<br>Nodes: 46<br>Faithfulness: 0.59",
          "Threshold: 1.62e-02<br>Nodes: 17<br>Faithfulness: 0.32",
          "Threshold: 2.34e-02<br>Nodes: 7<br>Faithfulness: 0.16",
          "Threshold: 3.36e-02<br>Nodes: 0<br>Faithfulness: 0.00",
          "Threshold: 4.83e-02<br>Nodes: 0<br>Faithfulness: 0.00",
          "Threshold: 6.95e-02<br>Nodes: 0<br>Faithfulness: 0.00",
          "Threshold: 1.00e-01<br>Nodes: 0<br>Faithfulness: 0.00"
         ],
         "type": "scatter",
         "visible": false,
         "x": [
          0.00009999999747378752,
          0.00014384498354047537,
          0.00020691381359938532,
          0.00029763515340164304,
          0.00042813323670998216,
          0.0006158482283353806,
          0.0008858668152242899,
          0.001274275011382997,
          0.0018329806625843048,
          0.002636650810018182,
          0.0037926901131868362,
          0.005455594975501299,
          0.007847599685192108,
          0.011288379319012165,
          0.016237767413258553,
          0.023357214406132698,
          0.03359818458557129,
          0.04832930117845535,
          0.0695192813873291,
          0.10000000149011612
         ],
         "xaxis": "x2",
         "y": [
          1.0084911584854126,
          0.9921695590019226,
          1.006011962890625,
          0.9578567147254944,
          1.0135902166366577,
          0.9224751591682434,
          0.9249320030212402,
          0.9684261083602905,
          1.0035626888275146,
          1.0745337009429932,
          1.1485775709152222,
          1.0089735984802246,
          0.9099985957145691,
          0.5942583084106445,
          0.3233109414577484,
          0.1631694883108139,
          0.00023745234648231417,
          0.00023745234648231417,
          0.00023745234648231417,
          0.00023745234648231417
         ],
         "yaxis": "y2"
        },
        {
         "hoverinfo": "text",
         "marker": {
          "color": "red"
         },
         "mode": "markers",
         "name": "neurons layer 4 (#nodes)",
         "text": [
          "Threshold: 1.00e-04<br>Nodes: 997<br>Faithfulness: 1.05",
          "Threshold: 1.44e-04<br>Nodes: 982<br>Faithfulness: 1.03",
          "Threshold: 2.07e-04<br>Nodes: 968<br>Faithfulness: 1.03",
          "Threshold: 2.98e-04<br>Nodes: 931<br>Faithfulness: 1.02",
          "Threshold: 4.28e-04<br>Nodes: 897<br>Faithfulness: 1.07",
          "Threshold: 6.16e-04<br>Nodes: 847<br>Faithfulness: 1.08",
          "Threshold: 8.86e-04<br>Nodes: 787<br>Faithfulness: 1.09",
          "Threshold: 1.27e-03<br>Nodes: 706<br>Faithfulness: 1.03",
          "Threshold: 1.83e-03<br>Nodes: 590<br>Faithfulness: 1.02",
          "Threshold: 2.64e-03<br>Nodes: 469<br>Faithfulness: 1.03",
          "Threshold: 3.79e-03<br>Nodes: 347<br>Faithfulness: 0.95",
          "Threshold: 5.46e-03<br>Nodes: 235<br>Faithfulness: 0.86",
          "Threshold: 7.85e-03<br>Nodes: 129<br>Faithfulness: 0.61",
          "Threshold: 1.13e-02<br>Nodes: 56<br>Faithfulness: 0.38",
          "Threshold: 1.62e-02<br>Nodes: 16<br>Faithfulness: 0.25",
          "Threshold: 2.34e-02<br>Nodes: 5<br>Faithfulness: 0.13",
          "Threshold: 3.36e-02<br>Nodes: 1<br>Faithfulness: 0.06",
          "Threshold: 4.83e-02<br>Nodes: 0<br>Faithfulness: -0.00",
          "Threshold: 6.95e-02<br>Nodes: 0<br>Faithfulness: -0.00",
          "Threshold: 1.00e-01<br>Nodes: 0<br>Faithfulness: -0.00"
         ],
         "type": "scatter",
         "visible": false,
         "x": [
          997,
          982,
          968,
          931,
          897,
          847,
          787,
          706,
          590,
          469,
          347,
          235,
          129,
          56,
          16,
          5,
          1,
          0,
          0,
          0
         ],
         "xaxis": "x",
         "y": [
          1.0528980493545532,
          1.025307297706604,
          1.0341086387634277,
          1.0219106674194336,
          1.0745329856872559,
          1.0847572088241577,
          1.0883283615112305,
          1.0335575342178345,
          1.016657829284668,
          1.025363564491272,
          0.9540476202964783,
          0.8587118983268738,
          0.6081467866897583,
          0.3771076500415802,
          0.24777591228485107,
          0.12992234528064728,
          0.06368454545736313,
          -0.00005623853940051049,
          -0.00005623853940051049,
          -0.00005623853940051049
         ],
         "yaxis": "y"
        },
        {
         "hoverinfo": "text",
         "marker": {
          "color": "red"
         },
         "mode": "markers",
         "name": "neurons layer 4 (thresh)",
         "text": [
          "Threshold: 1.00e-04<br>Nodes: 997<br>Faithfulness: 1.05",
          "Threshold: 1.44e-04<br>Nodes: 982<br>Faithfulness: 1.03",
          "Threshold: 2.07e-04<br>Nodes: 968<br>Faithfulness: 1.03",
          "Threshold: 2.98e-04<br>Nodes: 931<br>Faithfulness: 1.02",
          "Threshold: 4.28e-04<br>Nodes: 897<br>Faithfulness: 1.07",
          "Threshold: 6.16e-04<br>Nodes: 847<br>Faithfulness: 1.08",
          "Threshold: 8.86e-04<br>Nodes: 787<br>Faithfulness: 1.09",
          "Threshold: 1.27e-03<br>Nodes: 706<br>Faithfulness: 1.03",
          "Threshold: 1.83e-03<br>Nodes: 590<br>Faithfulness: 1.02",
          "Threshold: 2.64e-03<br>Nodes: 469<br>Faithfulness: 1.03",
          "Threshold: 3.79e-03<br>Nodes: 347<br>Faithfulness: 0.95",
          "Threshold: 5.46e-03<br>Nodes: 235<br>Faithfulness: 0.86",
          "Threshold: 7.85e-03<br>Nodes: 129<br>Faithfulness: 0.61",
          "Threshold: 1.13e-02<br>Nodes: 56<br>Faithfulness: 0.38",
          "Threshold: 1.62e-02<br>Nodes: 16<br>Faithfulness: 0.25",
          "Threshold: 2.34e-02<br>Nodes: 5<br>Faithfulness: 0.13",
          "Threshold: 3.36e-02<br>Nodes: 1<br>Faithfulness: 0.06",
          "Threshold: 4.83e-02<br>Nodes: 0<br>Faithfulness: -0.00",
          "Threshold: 6.95e-02<br>Nodes: 0<br>Faithfulness: -0.00",
          "Threshold: 1.00e-01<br>Nodes: 0<br>Faithfulness: -0.00"
         ],
         "type": "scatter",
         "visible": false,
         "x": [
          0.00009999999747378752,
          0.00014384498354047537,
          0.00020691381359938532,
          0.00029763515340164304,
          0.00042813323670998216,
          0.0006158482283353806,
          0.0008858668152242899,
          0.001274275011382997,
          0.0018329806625843048,
          0.002636650810018182,
          0.0037926901131868362,
          0.005455594975501299,
          0.007847599685192108,
          0.011288379319012165,
          0.016237767413258553,
          0.023357214406132698,
          0.03359818458557129,
          0.04832930117845535,
          0.0695192813873291,
          0.10000000149011612
         ],
         "xaxis": "x2",
         "y": [
          1.0528980493545532,
          1.025307297706604,
          1.0341086387634277,
          1.0219106674194336,
          1.0745329856872559,
          1.0847572088241577,
          1.0883283615112305,
          1.0335575342178345,
          1.016657829284668,
          1.025363564491272,
          0.9540476202964783,
          0.8587118983268738,
          0.6081467866897583,
          0.3771076500415802,
          0.24777591228485107,
          0.12992234528064728,
          0.06368454545736313,
          -0.00005623853940051049,
          -0.00005623853940051049,
          -0.00005623853940051049
         ],
         "yaxis": "y2"
        },
        {
         "hoverinfo": "text",
         "marker": {
          "color": "red"
         },
         "mode": "markers",
         "name": "neurons layer 5 (#nodes)",
         "text": [
          "Threshold: 1.00e-04<br>Nodes: 1003<br>Faithfulness: 1.01",
          "Threshold: 1.44e-04<br>Nodes: 987<br>Faithfulness: 1.03",
          "Threshold: 2.07e-04<br>Nodes: 972<br>Faithfulness: 1.05",
          "Threshold: 2.98e-04<br>Nodes: 944<br>Faithfulness: 1.07",
          "Threshold: 4.28e-04<br>Nodes: 901<br>Faithfulness: 1.06",
          "Threshold: 6.16e-04<br>Nodes: 844<br>Faithfulness: 1.06",
          "Threshold: 8.86e-04<br>Nodes: 788<br>Faithfulness: 1.06",
          "Threshold: 1.27e-03<br>Nodes: 696<br>Faithfulness: 1.09",
          "Threshold: 1.83e-03<br>Nodes: 597<br>Faithfulness: 1.09",
          "Threshold: 2.64e-03<br>Nodes: 483<br>Faithfulness: 1.17",
          "Threshold: 3.79e-03<br>Nodes: 368<br>Faithfulness: 1.15",
          "Threshold: 5.46e-03<br>Nodes: 272<br>Faithfulness: 1.14",
          "Threshold: 7.85e-03<br>Nodes: 185<br>Faithfulness: 1.07",
          "Threshold: 1.13e-02<br>Nodes: 112<br>Faithfulness: 0.88",
          "Threshold: 1.62e-02<br>Nodes: 56<br>Faithfulness: 0.62",
          "Threshold: 2.34e-02<br>Nodes: 22<br>Faithfulness: 0.42",
          "Threshold: 3.36e-02<br>Nodes: 5<br>Faithfulness: 0.14",
          "Threshold: 4.83e-02<br>Nodes: 1<br>Faithfulness: 0.04",
          "Threshold: 6.95e-02<br>Nodes: 0<br>Faithfulness: -0.00",
          "Threshold: 1.00e-01<br>Nodes: 0<br>Faithfulness: -0.00"
         ],
         "type": "scatter",
         "visible": false,
         "x": [
          1003,
          987,
          972,
          944,
          901,
          844,
          788,
          696,
          597,
          483,
          368,
          272,
          185,
          112,
          56,
          22,
          5,
          1,
          0,
          0
         ],
         "xaxis": "x",
         "y": [
          1.009278655052185,
          1.0300860404968262,
          1.0510563850402832,
          1.0706735849380493,
          1.0644334554672241,
          1.0568478107452393,
          1.0601794719696045,
          1.0892671346664429,
          1.0919982194900513,
          1.1713428497314453,
          1.1465706825256348,
          1.1436443328857422,
          1.0659493207931519,
          0.8816307783126831,
          0.6215237379074097,
          0.4186767637729645,
          0.14108304679393768,
          0.035005830228328705,
          -0.0000180871084012324,
          -0.0000180871084012324
         ],
         "yaxis": "y"
        },
        {
         "hoverinfo": "text",
         "marker": {
          "color": "red"
         },
         "mode": "markers",
         "name": "neurons layer 5 (thresh)",
         "text": [
          "Threshold: 1.00e-04<br>Nodes: 1003<br>Faithfulness: 1.01",
          "Threshold: 1.44e-04<br>Nodes: 987<br>Faithfulness: 1.03",
          "Threshold: 2.07e-04<br>Nodes: 972<br>Faithfulness: 1.05",
          "Threshold: 2.98e-04<br>Nodes: 944<br>Faithfulness: 1.07",
          "Threshold: 4.28e-04<br>Nodes: 901<br>Faithfulness: 1.06",
          "Threshold: 6.16e-04<br>Nodes: 844<br>Faithfulness: 1.06",
          "Threshold: 8.86e-04<br>Nodes: 788<br>Faithfulness: 1.06",
          "Threshold: 1.27e-03<br>Nodes: 696<br>Faithfulness: 1.09",
          "Threshold: 1.83e-03<br>Nodes: 597<br>Faithfulness: 1.09",
          "Threshold: 2.64e-03<br>Nodes: 483<br>Faithfulness: 1.17",
          "Threshold: 3.79e-03<br>Nodes: 368<br>Faithfulness: 1.15",
          "Threshold: 5.46e-03<br>Nodes: 272<br>Faithfulness: 1.14",
          "Threshold: 7.85e-03<br>Nodes: 185<br>Faithfulness: 1.07",
          "Threshold: 1.13e-02<br>Nodes: 112<br>Faithfulness: 0.88",
          "Threshold: 1.62e-02<br>Nodes: 56<br>Faithfulness: 0.62",
          "Threshold: 2.34e-02<br>Nodes: 22<br>Faithfulness: 0.42",
          "Threshold: 3.36e-02<br>Nodes: 5<br>Faithfulness: 0.14",
          "Threshold: 4.83e-02<br>Nodes: 1<br>Faithfulness: 0.04",
          "Threshold: 6.95e-02<br>Nodes: 0<br>Faithfulness: -0.00",
          "Threshold: 1.00e-01<br>Nodes: 0<br>Faithfulness: -0.00"
         ],
         "type": "scatter",
         "visible": false,
         "x": [
          0.00009999999747378752,
          0.00014384498354047537,
          0.00020691381359938532,
          0.00029763515340164304,
          0.00042813323670998216,
          0.0006158482283353806,
          0.0008858668152242899,
          0.001274275011382997,
          0.0018329806625843048,
          0.002636650810018182,
          0.0037926901131868362,
          0.005455594975501299,
          0.007847599685192108,
          0.011288379319012165,
          0.016237767413258553,
          0.023357214406132698,
          0.03359818458557129,
          0.04832930117845535,
          0.0695192813873291,
          0.10000000149011612
         ],
         "xaxis": "x2",
         "y": [
          1.009278655052185,
          1.0300860404968262,
          1.0510563850402832,
          1.0706735849380493,
          1.0644334554672241,
          1.0568478107452393,
          1.0601794719696045,
          1.0892671346664429,
          1.0919982194900513,
          1.1713428497314453,
          1.1465706825256348,
          1.1436443328857422,
          1.0659493207931519,
          0.8816307783126831,
          0.6215237379074097,
          0.4186767637729645,
          0.14108304679393768,
          0.035005830228328705,
          -0.0000180871084012324,
          -0.0000180871084012324
         ],
         "yaxis": "y2"
        },
        {
         "hoverinfo": "text",
         "marker": {
          "color": "black"
         },
         "mode": "markers",
         "name": "random layer 0 (#nodes)",
         "text": [
          "Threshold: 1.00e-04<br>Nodes: 890<br>Faithfulness: 0.08",
          "Threshold: 1.44e-04<br>Nodes: 766<br>Faithfulness: 0.10",
          "Threshold: 2.07e-04<br>Nodes: 645<br>Faithfulness: 0.09",
          "Threshold: 2.98e-04<br>Nodes: 515<br>Faithfulness: 0.04",
          "Threshold: 4.28e-04<br>Nodes: 398<br>Faithfulness: 0.14",
          "Threshold: 6.16e-04<br>Nodes: 288<br>Faithfulness: 0.04",
          "Threshold: 8.86e-04<br>Nodes: 217<br>Faithfulness: 0.04",
          "Threshold: 1.27e-03<br>Nodes: 139<br>Faithfulness: 0.04",
          "Threshold: 1.83e-03<br>Nodes: 114<br>Faithfulness: 0.04",
          "Threshold: 2.64e-03<br>Nodes: 85<br>Faithfulness: 0.03",
          "Threshold: 3.79e-03<br>Nodes: 61<br>Faithfulness: 0.03",
          "Threshold: 5.46e-03<br>Nodes: 50<br>Faithfulness: 0.06",
          "Threshold: 7.85e-03<br>Nodes: 38<br>Faithfulness: 0.03",
          "Threshold: 1.13e-02<br>Nodes: 35<br>Faithfulness: 0.03",
          "Threshold: 1.62e-02<br>Nodes: 25<br>Faithfulness: 0.03",
          "Threshold: 2.34e-02<br>Nodes: 21<br>Faithfulness: 0.03",
          "Threshold: 3.36e-02<br>Nodes: 19<br>Faithfulness: 0.04",
          "Threshold: 4.83e-02<br>Nodes: 15<br>Faithfulness: 0.03",
          "Threshold: 6.95e-02<br>Nodes: 14<br>Faithfulness: 0.03",
          "Threshold: 1.00e-01<br>Nodes: 9<br>Faithfulness: 0.03"
         ],
         "type": "scatter",
         "visible": true,
         "x": [
          890,
          766,
          645,
          515,
          398,
          288,
          217,
          139,
          114,
          85,
          61,
          50,
          38,
          35,
          25,
          21,
          19,
          15,
          14,
          9
         ],
         "xaxis": "x",
         "y": [
          0.08229263126850128,
          0.10376068204641342,
          0.0890231803059578,
          0.03910689428448677,
          0.14458435773849487,
          0.03747725114226341,
          0.036530543118715286,
          0.03532714396715164,
          0.037069834768772125,
          0.029913034290075302,
          0.02922302857041359,
          0.06119430437684059,
          0.03486086055636406,
          0.033384282141923904,
          0.03470543026924133,
          0.03486086055636406,
          0.03503512963652611,
          0.03479021042585373,
          0.03489382937550545,
          0.03486086055636406
         ],
         "yaxis": "y"
        },
        {
         "hoverinfo": "text",
         "marker": {
          "color": "black"
         },
         "mode": "markers",
         "name": "random layer 0 (thresh)",
         "text": [
          "Threshold: 1.00e-04<br>Nodes: 890<br>Faithfulness: 0.08",
          "Threshold: 1.44e-04<br>Nodes: 766<br>Faithfulness: 0.10",
          "Threshold: 2.07e-04<br>Nodes: 645<br>Faithfulness: 0.09",
          "Threshold: 2.98e-04<br>Nodes: 515<br>Faithfulness: 0.04",
          "Threshold: 4.28e-04<br>Nodes: 398<br>Faithfulness: 0.14",
          "Threshold: 6.16e-04<br>Nodes: 288<br>Faithfulness: 0.04",
          "Threshold: 8.86e-04<br>Nodes: 217<br>Faithfulness: 0.04",
          "Threshold: 1.27e-03<br>Nodes: 139<br>Faithfulness: 0.04",
          "Threshold: 1.83e-03<br>Nodes: 114<br>Faithfulness: 0.04",
          "Threshold: 2.64e-03<br>Nodes: 85<br>Faithfulness: 0.03",
          "Threshold: 3.79e-03<br>Nodes: 61<br>Faithfulness: 0.03",
          "Threshold: 5.46e-03<br>Nodes: 50<br>Faithfulness: 0.06",
          "Threshold: 7.85e-03<br>Nodes: 38<br>Faithfulness: 0.03",
          "Threshold: 1.13e-02<br>Nodes: 35<br>Faithfulness: 0.03",
          "Threshold: 1.62e-02<br>Nodes: 25<br>Faithfulness: 0.03",
          "Threshold: 2.34e-02<br>Nodes: 21<br>Faithfulness: 0.03",
          "Threshold: 3.36e-02<br>Nodes: 19<br>Faithfulness: 0.04",
          "Threshold: 4.83e-02<br>Nodes: 15<br>Faithfulness: 0.03",
          "Threshold: 6.95e-02<br>Nodes: 14<br>Faithfulness: 0.03",
          "Threshold: 1.00e-01<br>Nodes: 9<br>Faithfulness: 0.03"
         ],
         "type": "scatter",
         "visible": true,
         "x": [
          0.00009999999747378752,
          0.00014384498354047537,
          0.00020691381359938532,
          0.00029763515340164304,
          0.00042813323670998216,
          0.0006158482283353806,
          0.0008858668152242899,
          0.001274275011382997,
          0.0018329806625843048,
          0.002636650810018182,
          0.0037926901131868362,
          0.005455594975501299,
          0.007847599685192108,
          0.011288379319012165,
          0.016237767413258553,
          0.023357214406132698,
          0.03359818458557129,
          0.04832930117845535,
          0.0695192813873291,
          0.10000000149011612
         ],
         "xaxis": "x2",
         "y": [
          0.08229263126850128,
          0.10376068204641342,
          0.0890231803059578,
          0.03910689428448677,
          0.14458435773849487,
          0.03747725114226341,
          0.036530543118715286,
          0.03532714396715164,
          0.037069834768772125,
          0.029913034290075302,
          0.02922302857041359,
          0.06119430437684059,
          0.03486086055636406,
          0.033384282141923904,
          0.03470543026924133,
          0.03486086055636406,
          0.03503512963652611,
          0.03479021042585373,
          0.03489382937550545,
          0.03486086055636406
         ],
         "yaxis": "y2"
        },
        {
         "hoverinfo": "text",
         "marker": {
          "color": "black"
         },
         "mode": "markers",
         "name": "random layer 1 (#nodes)",
         "text": [
          "Threshold: 1.00e-04<br>Nodes: 1366<br>Faithfulness: 0.38",
          "Threshold: 1.44e-04<br>Nodes: 1105<br>Faithfulness: 0.30",
          "Threshold: 2.07e-04<br>Nodes: 821<br>Faithfulness: 0.27",
          "Threshold: 2.98e-04<br>Nodes: 596<br>Faithfulness: 0.28",
          "Threshold: 4.28e-04<br>Nodes: 443<br>Faithfulness: 0.30",
          "Threshold: 6.16e-04<br>Nodes: 301<br>Faithfulness: 0.31",
          "Threshold: 8.86e-04<br>Nodes: 199<br>Faithfulness: 0.31",
          "Threshold: 1.27e-03<br>Nodes: 131<br>Faithfulness: 0.32",
          "Threshold: 1.83e-03<br>Nodes: 88<br>Faithfulness: 0.31",
          "Threshold: 2.64e-03<br>Nodes: 58<br>Faithfulness: 0.31",
          "Threshold: 3.79e-03<br>Nodes: 32<br>Faithfulness: 0.31",
          "Threshold: 5.46e-03<br>Nodes: 23<br>Faithfulness: 0.31",
          "Threshold: 7.85e-03<br>Nodes: 15<br>Faithfulness: 0.31",
          "Threshold: 1.13e-02<br>Nodes: 10<br>Faithfulness: 0.31",
          "Threshold: 1.62e-02<br>Nodes: 7<br>Faithfulness: 0.31",
          "Threshold: 2.34e-02<br>Nodes: 6<br>Faithfulness: 0.32",
          "Threshold: 3.36e-02<br>Nodes: 2<br>Faithfulness: 0.31",
          "Threshold: 4.83e-02<br>Nodes: 2<br>Faithfulness: 0.31",
          "Threshold: 6.95e-02<br>Nodes: 2<br>Faithfulness: 0.32",
          "Threshold: 1.00e-01<br>Nodes: 2<br>Faithfulness: 0.31"
         ],
         "type": "scatter",
         "visible": false,
         "x": [
          1366,
          1105,
          821,
          596,
          443,
          301,
          199,
          131,
          88,
          58,
          32,
          23,
          15,
          10,
          7,
          6,
          2,
          2,
          2,
          2
         ],
         "xaxis": "x",
         "y": [
          0.378121554851532,
          0.29957687854766846,
          0.26519641280174255,
          0.2820124328136444,
          0.29549068212509155,
          0.3076348304748535,
          0.306023508310318,
          0.32200905680656433,
          0.31277915835380554,
          0.31051602959632874,
          0.31012558937072754,
          0.3112485706806183,
          0.31134650111198425,
          0.30869296193122864,
          0.31030428409576416,
          0.3157576322555542,
          0.31134650111198425,
          0.31134650111198425,
          0.3153506815433502,
          0.31134650111198425
         ],
         "yaxis": "y"
        },
        {
         "hoverinfo": "text",
         "marker": {
          "color": "black"
         },
         "mode": "markers",
         "name": "random layer 1 (thresh)",
         "text": [
          "Threshold: 1.00e-04<br>Nodes: 1366<br>Faithfulness: 0.38",
          "Threshold: 1.44e-04<br>Nodes: 1105<br>Faithfulness: 0.30",
          "Threshold: 2.07e-04<br>Nodes: 821<br>Faithfulness: 0.27",
          "Threshold: 2.98e-04<br>Nodes: 596<br>Faithfulness: 0.28",
          "Threshold: 4.28e-04<br>Nodes: 443<br>Faithfulness: 0.30",
          "Threshold: 6.16e-04<br>Nodes: 301<br>Faithfulness: 0.31",
          "Threshold: 8.86e-04<br>Nodes: 199<br>Faithfulness: 0.31",
          "Threshold: 1.27e-03<br>Nodes: 131<br>Faithfulness: 0.32",
          "Threshold: 1.83e-03<br>Nodes: 88<br>Faithfulness: 0.31",
          "Threshold: 2.64e-03<br>Nodes: 58<br>Faithfulness: 0.31",
          "Threshold: 3.79e-03<br>Nodes: 32<br>Faithfulness: 0.31",
          "Threshold: 5.46e-03<br>Nodes: 23<br>Faithfulness: 0.31",
          "Threshold: 7.85e-03<br>Nodes: 15<br>Faithfulness: 0.31",
          "Threshold: 1.13e-02<br>Nodes: 10<br>Faithfulness: 0.31",
          "Threshold: 1.62e-02<br>Nodes: 7<br>Faithfulness: 0.31",
          "Threshold: 2.34e-02<br>Nodes: 6<br>Faithfulness: 0.32",
          "Threshold: 3.36e-02<br>Nodes: 2<br>Faithfulness: 0.31",
          "Threshold: 4.83e-02<br>Nodes: 2<br>Faithfulness: 0.31",
          "Threshold: 6.95e-02<br>Nodes: 2<br>Faithfulness: 0.32",
          "Threshold: 1.00e-01<br>Nodes: 2<br>Faithfulness: 0.31"
         ],
         "type": "scatter",
         "visible": false,
         "x": [
          0.00009999999747378752,
          0.00014384498354047537,
          0.00020691381359938532,
          0.00029763515340164304,
          0.00042813323670998216,
          0.0006158482283353806,
          0.0008858668152242899,
          0.001274275011382997,
          0.0018329806625843048,
          0.002636650810018182,
          0.0037926901131868362,
          0.005455594975501299,
          0.007847599685192108,
          0.011288379319012165,
          0.016237767413258553,
          0.023357214406132698,
          0.03359818458557129,
          0.04832930117845535,
          0.0695192813873291,
          0.10000000149011612
         ],
         "xaxis": "x2",
         "y": [
          0.378121554851532,
          0.29957687854766846,
          0.26519641280174255,
          0.2820124328136444,
          0.29549068212509155,
          0.3076348304748535,
          0.306023508310318,
          0.32200905680656433,
          0.31277915835380554,
          0.31051602959632874,
          0.31012558937072754,
          0.3112485706806183,
          0.31134650111198425,
          0.30869296193122864,
          0.31030428409576416,
          0.3157576322555542,
          0.31134650111198425,
          0.31134650111198425,
          0.3153506815433502,
          0.31134650111198425
         ],
         "yaxis": "y2"
        },
        {
         "hoverinfo": "text",
         "marker": {
          "color": "black"
         },
         "mode": "markers",
         "name": "random layer 2 (#nodes)",
         "text": [
          "Threshold: 1.00e-04<br>Nodes: 1601<br>Faithfulness: 0.56",
          "Threshold: 1.44e-04<br>Nodes: 1282<br>Faithfulness: 0.55",
          "Threshold: 2.07e-04<br>Nodes: 1020<br>Faithfulness: 0.54",
          "Threshold: 2.98e-04<br>Nodes: 780<br>Faithfulness: 0.54",
          "Threshold: 4.28e-04<br>Nodes: 555<br>Faithfulness: 0.51",
          "Threshold: 6.16e-04<br>Nodes: 395<br>Faithfulness: 0.53",
          "Threshold: 8.86e-04<br>Nodes: 256<br>Faithfulness: 0.52",
          "Threshold: 1.27e-03<br>Nodes: 171<br>Faithfulness: 0.51",
          "Threshold: 1.83e-03<br>Nodes: 114<br>Faithfulness: 0.51",
          "Threshold: 2.64e-03<br>Nodes: 72<br>Faithfulness: 0.51",
          "Threshold: 3.79e-03<br>Nodes: 41<br>Faithfulness: 0.51",
          "Threshold: 5.46e-03<br>Nodes: 25<br>Faithfulness: 0.51",
          "Threshold: 7.85e-03<br>Nodes: 15<br>Faithfulness: 0.51",
          "Threshold: 1.13e-02<br>Nodes: 9<br>Faithfulness: 0.51",
          "Threshold: 1.62e-02<br>Nodes: 8<br>Faithfulness: 0.51",
          "Threshold: 2.34e-02<br>Nodes: 4<br>Faithfulness: 0.51",
          "Threshold: 3.36e-02<br>Nodes: 3<br>Faithfulness: 0.51",
          "Threshold: 4.83e-02<br>Nodes: 2<br>Faithfulness: 0.51",
          "Threshold: 6.95e-02<br>Nodes: 2<br>Faithfulness: 0.51",
          "Threshold: 1.00e-01<br>Nodes: 1<br>Faithfulness: 0.51"
         ],
         "type": "scatter",
         "visible": false,
         "x": [
          1601,
          1282,
          1020,
          780,
          555,
          395,
          256,
          171,
          114,
          72,
          41,
          25,
          15,
          9,
          8,
          4,
          3,
          2,
          2,
          1
         ],
         "xaxis": "x",
         "y": [
          0.5604537129402161,
          0.5492314696311951,
          0.5437564253807068,
          0.5350046753883362,
          0.5107574462890625,
          0.527228593826294,
          0.5179274082183838,
          0.5114096403121948,
          0.5096840858459473,
          0.5089752674102783,
          0.5145785212516785,
          0.5101565718650818,
          0.5101872682571411,
          0.5096070170402527,
          0.5105931162834167,
          0.5105931162834167,
          0.5105931162834167,
          0.5105931162834167,
          0.5105931162834167,
          0.5105931162834167
         ],
         "yaxis": "y"
        },
        {
         "hoverinfo": "text",
         "marker": {
          "color": "black"
         },
         "mode": "markers",
         "name": "random layer 2 (thresh)",
         "text": [
          "Threshold: 1.00e-04<br>Nodes: 1601<br>Faithfulness: 0.56",
          "Threshold: 1.44e-04<br>Nodes: 1282<br>Faithfulness: 0.55",
          "Threshold: 2.07e-04<br>Nodes: 1020<br>Faithfulness: 0.54",
          "Threshold: 2.98e-04<br>Nodes: 780<br>Faithfulness: 0.54",
          "Threshold: 4.28e-04<br>Nodes: 555<br>Faithfulness: 0.51",
          "Threshold: 6.16e-04<br>Nodes: 395<br>Faithfulness: 0.53",
          "Threshold: 8.86e-04<br>Nodes: 256<br>Faithfulness: 0.52",
          "Threshold: 1.27e-03<br>Nodes: 171<br>Faithfulness: 0.51",
          "Threshold: 1.83e-03<br>Nodes: 114<br>Faithfulness: 0.51",
          "Threshold: 2.64e-03<br>Nodes: 72<br>Faithfulness: 0.51",
          "Threshold: 3.79e-03<br>Nodes: 41<br>Faithfulness: 0.51",
          "Threshold: 5.46e-03<br>Nodes: 25<br>Faithfulness: 0.51",
          "Threshold: 7.85e-03<br>Nodes: 15<br>Faithfulness: 0.51",
          "Threshold: 1.13e-02<br>Nodes: 9<br>Faithfulness: 0.51",
          "Threshold: 1.62e-02<br>Nodes: 8<br>Faithfulness: 0.51",
          "Threshold: 2.34e-02<br>Nodes: 4<br>Faithfulness: 0.51",
          "Threshold: 3.36e-02<br>Nodes: 3<br>Faithfulness: 0.51",
          "Threshold: 4.83e-02<br>Nodes: 2<br>Faithfulness: 0.51",
          "Threshold: 6.95e-02<br>Nodes: 2<br>Faithfulness: 0.51",
          "Threshold: 1.00e-01<br>Nodes: 1<br>Faithfulness: 0.51"
         ],
         "type": "scatter",
         "visible": false,
         "x": [
          0.00009999999747378752,
          0.00014384498354047537,
          0.00020691381359938532,
          0.00029763515340164304,
          0.00042813323670998216,
          0.0006158482283353806,
          0.0008858668152242899,
          0.001274275011382997,
          0.0018329806625843048,
          0.002636650810018182,
          0.0037926901131868362,
          0.005455594975501299,
          0.007847599685192108,
          0.011288379319012165,
          0.016237767413258553,
          0.023357214406132698,
          0.03359818458557129,
          0.04832930117845535,
          0.0695192813873291,
          0.10000000149011612
         ],
         "xaxis": "x2",
         "y": [
          0.5604537129402161,
          0.5492314696311951,
          0.5437564253807068,
          0.5350046753883362,
          0.5107574462890625,
          0.527228593826294,
          0.5179274082183838,
          0.5114096403121948,
          0.5096840858459473,
          0.5089752674102783,
          0.5145785212516785,
          0.5101565718650818,
          0.5101872682571411,
          0.5096070170402527,
          0.5105931162834167,
          0.5105931162834167,
          0.5105931162834167,
          0.5105931162834167,
          0.5105931162834167,
          0.5105931162834167
         ],
         "yaxis": "y2"
        },
        {
         "hoverinfo": "text",
         "marker": {
          "color": "black"
         },
         "mode": "markers",
         "name": "random layer 3 (#nodes)",
         "text": [
          "Threshold: 1.00e-04<br>Nodes: 2063<br>Faithfulness: 0.18",
          "Threshold: 1.44e-04<br>Nodes: 1737<br>Faithfulness: 0.24",
          "Threshold: 2.07e-04<br>Nodes: 1394<br>Faithfulness: 0.13",
          "Threshold: 2.98e-04<br>Nodes: 1036<br>Faithfulness: 0.14",
          "Threshold: 4.28e-04<br>Nodes: 740<br>Faithfulness: 0.17",
          "Threshold: 6.16e-04<br>Nodes: 525<br>Faithfulness: 0.14",
          "Threshold: 8.86e-04<br>Nodes: 344<br>Faithfulness: 0.12",
          "Threshold: 1.27e-03<br>Nodes: 215<br>Faithfulness: 0.13",
          "Threshold: 1.83e-03<br>Nodes: 129<br>Faithfulness: 0.13",
          "Threshold: 2.64e-03<br>Nodes: 73<br>Faithfulness: 0.12",
          "Threshold: 3.79e-03<br>Nodes: 34<br>Faithfulness: 0.12",
          "Threshold: 5.46e-03<br>Nodes: 18<br>Faithfulness: 0.12",
          "Threshold: 7.85e-03<br>Nodes: 9<br>Faithfulness: 0.12",
          "Threshold: 1.13e-02<br>Nodes: 5<br>Faithfulness: 0.12",
          "Threshold: 1.62e-02<br>Nodes: 5<br>Faithfulness: 0.12",
          "Threshold: 2.34e-02<br>Nodes: 3<br>Faithfulness: 0.12",
          "Threshold: 3.36e-02<br>Nodes: 2<br>Faithfulness: 0.12",
          "Threshold: 4.83e-02<br>Nodes: 2<br>Faithfulness: 0.12",
          "Threshold: 6.95e-02<br>Nodes: 2<br>Faithfulness: 0.12",
          "Threshold: 1.00e-01<br>Nodes: 1<br>Faithfulness: 0.12"
         ],
         "type": "scatter",
         "visible": false,
         "x": [
          2063,
          1737,
          1394,
          1036,
          740,
          525,
          344,
          215,
          129,
          73,
          34,
          18,
          9,
          5,
          5,
          3,
          2,
          2,
          2,
          1
         ],
         "xaxis": "x",
         "y": [
          0.17878568172454834,
          0.2380223572254181,
          0.12512318789958954,
          0.13690969347953796,
          0.1665094792842865,
          0.1356925666332245,
          0.11812428385019302,
          0.12625159323215485,
          0.12688247859477997,
          0.12282983958721161,
          0.1225033774971962,
          0.12271850556135178,
          0.1229858249425888,
          0.1236686035990715,
          0.12306004762649536,
          0.12316384166479111,
          0.12316384166479111,
          0.12316384166479111,
          0.1248634085059166,
          0.12316384166479111
         ],
         "yaxis": "y"
        },
        {
         "hoverinfo": "text",
         "marker": {
          "color": "black"
         },
         "mode": "markers",
         "name": "random layer 3 (thresh)",
         "text": [
          "Threshold: 1.00e-04<br>Nodes: 2063<br>Faithfulness: 0.18",
          "Threshold: 1.44e-04<br>Nodes: 1737<br>Faithfulness: 0.24",
          "Threshold: 2.07e-04<br>Nodes: 1394<br>Faithfulness: 0.13",
          "Threshold: 2.98e-04<br>Nodes: 1036<br>Faithfulness: 0.14",
          "Threshold: 4.28e-04<br>Nodes: 740<br>Faithfulness: 0.17",
          "Threshold: 6.16e-04<br>Nodes: 525<br>Faithfulness: 0.14",
          "Threshold: 8.86e-04<br>Nodes: 344<br>Faithfulness: 0.12",
          "Threshold: 1.27e-03<br>Nodes: 215<br>Faithfulness: 0.13",
          "Threshold: 1.83e-03<br>Nodes: 129<br>Faithfulness: 0.13",
          "Threshold: 2.64e-03<br>Nodes: 73<br>Faithfulness: 0.12",
          "Threshold: 3.79e-03<br>Nodes: 34<br>Faithfulness: 0.12",
          "Threshold: 5.46e-03<br>Nodes: 18<br>Faithfulness: 0.12",
          "Threshold: 7.85e-03<br>Nodes: 9<br>Faithfulness: 0.12",
          "Threshold: 1.13e-02<br>Nodes: 5<br>Faithfulness: 0.12",
          "Threshold: 1.62e-02<br>Nodes: 5<br>Faithfulness: 0.12",
          "Threshold: 2.34e-02<br>Nodes: 3<br>Faithfulness: 0.12",
          "Threshold: 3.36e-02<br>Nodes: 2<br>Faithfulness: 0.12",
          "Threshold: 4.83e-02<br>Nodes: 2<br>Faithfulness: 0.12",
          "Threshold: 6.95e-02<br>Nodes: 2<br>Faithfulness: 0.12",
          "Threshold: 1.00e-01<br>Nodes: 1<br>Faithfulness: 0.12"
         ],
         "type": "scatter",
         "visible": false,
         "x": [
          0.00009999999747378752,
          0.00014384498354047537,
          0.00020691381359938532,
          0.00029763515340164304,
          0.00042813323670998216,
          0.0006158482283353806,
          0.0008858668152242899,
          0.001274275011382997,
          0.0018329806625843048,
          0.002636650810018182,
          0.0037926901131868362,
          0.005455594975501299,
          0.007847599685192108,
          0.011288379319012165,
          0.016237767413258553,
          0.023357214406132698,
          0.03359818458557129,
          0.04832930117845535,
          0.0695192813873291,
          0.10000000149011612
         ],
         "xaxis": "x2",
         "y": [
          0.17878568172454834,
          0.2380223572254181,
          0.12512318789958954,
          0.13690969347953796,
          0.1665094792842865,
          0.1356925666332245,
          0.11812428385019302,
          0.12625159323215485,
          0.12688247859477997,
          0.12282983958721161,
          0.1225033774971962,
          0.12271850556135178,
          0.1229858249425888,
          0.1236686035990715,
          0.12306004762649536,
          0.12316384166479111,
          0.12316384166479111,
          0.12316384166479111,
          0.1248634085059166,
          0.12316384166479111
         ],
         "yaxis": "y2"
        },
        {
         "hoverinfo": "text",
         "marker": {
          "color": "black"
         },
         "mode": "markers",
         "name": "random layer 4 (#nodes)",
         "text": [
          "Threshold: 1.00e-04<br>Nodes: 1553<br>Faithfulness: -0.13",
          "Threshold: 1.44e-04<br>Nodes: 1261<br>Faithfulness: -0.12",
          "Threshold: 2.07e-04<br>Nodes: 998<br>Faithfulness: -0.11",
          "Threshold: 2.98e-04<br>Nodes: 729<br>Faithfulness: -0.13",
          "Threshold: 4.28e-04<br>Nodes: 504<br>Faithfulness: -0.12",
          "Threshold: 6.16e-04<br>Nodes: 329<br>Faithfulness: -0.12",
          "Threshold: 8.86e-04<br>Nodes: 214<br>Faithfulness: -0.12",
          "Threshold: 1.27e-03<br>Nodes: 137<br>Faithfulness: -0.13",
          "Threshold: 1.83e-03<br>Nodes: 84<br>Faithfulness: -0.13",
          "Threshold: 2.64e-03<br>Nodes: 46<br>Faithfulness: -0.13",
          "Threshold: 3.79e-03<br>Nodes: 33<br>Faithfulness: -0.13",
          "Threshold: 5.46e-03<br>Nodes: 24<br>Faithfulness: -0.13",
          "Threshold: 7.85e-03<br>Nodes: 16<br>Faithfulness: -0.13",
          "Threshold: 1.13e-02<br>Nodes: 13<br>Faithfulness: -0.13",
          "Threshold: 1.62e-02<br>Nodes: 7<br>Faithfulness: -0.13",
          "Threshold: 2.34e-02<br>Nodes: 6<br>Faithfulness: -0.13",
          "Threshold: 3.36e-02<br>Nodes: 4<br>Faithfulness: -0.13",
          "Threshold: 4.83e-02<br>Nodes: 4<br>Faithfulness: -0.13",
          "Threshold: 6.95e-02<br>Nodes: 4<br>Faithfulness: -0.13",
          "Threshold: 1.00e-01<br>Nodes: 4<br>Faithfulness: -0.13"
         ],
         "type": "scatter",
         "visible": false,
         "x": [
          1553,
          1261,
          998,
          729,
          504,
          329,
          214,
          137,
          84,
          46,
          33,
          24,
          16,
          13,
          7,
          6,
          4,
          4,
          4,
          4
         ],
         "xaxis": "x",
         "y": [
          -0.12700343132019043,
          -0.12098030000925064,
          -0.11143666505813599,
          -0.1334877759218216,
          -0.12187451869249344,
          -0.12145272642374039,
          -0.12397214770317078,
          -0.12573806941509247,
          -0.12648607790470123,
          -0.12667159736156464,
          -0.1258842647075653,
          -0.12535570561885834,
          -0.1254962980747223,
          -0.12549059092998505,
          -0.1252937614917755,
          -0.1253499984741211,
          -0.12549059092998505,
          -0.12545126676559448,
          -0.12549059092998505,
          -0.12549059092998505
         ],
         "yaxis": "y"
        },
        {
         "hoverinfo": "text",
         "marker": {
          "color": "black"
         },
         "mode": "markers",
         "name": "random layer 4 (thresh)",
         "text": [
          "Threshold: 1.00e-04<br>Nodes: 1553<br>Faithfulness: -0.13",
          "Threshold: 1.44e-04<br>Nodes: 1261<br>Faithfulness: -0.12",
          "Threshold: 2.07e-04<br>Nodes: 998<br>Faithfulness: -0.11",
          "Threshold: 2.98e-04<br>Nodes: 729<br>Faithfulness: -0.13",
          "Threshold: 4.28e-04<br>Nodes: 504<br>Faithfulness: -0.12",
          "Threshold: 6.16e-04<br>Nodes: 329<br>Faithfulness: -0.12",
          "Threshold: 8.86e-04<br>Nodes: 214<br>Faithfulness: -0.12",
          "Threshold: 1.27e-03<br>Nodes: 137<br>Faithfulness: -0.13",
          "Threshold: 1.83e-03<br>Nodes: 84<br>Faithfulness: -0.13",
          "Threshold: 2.64e-03<br>Nodes: 46<br>Faithfulness: -0.13",
          "Threshold: 3.79e-03<br>Nodes: 33<br>Faithfulness: -0.13",
          "Threshold: 5.46e-03<br>Nodes: 24<br>Faithfulness: -0.13",
          "Threshold: 7.85e-03<br>Nodes: 16<br>Faithfulness: -0.13",
          "Threshold: 1.13e-02<br>Nodes: 13<br>Faithfulness: -0.13",
          "Threshold: 1.62e-02<br>Nodes: 7<br>Faithfulness: -0.13",
          "Threshold: 2.34e-02<br>Nodes: 6<br>Faithfulness: -0.13",
          "Threshold: 3.36e-02<br>Nodes: 4<br>Faithfulness: -0.13",
          "Threshold: 4.83e-02<br>Nodes: 4<br>Faithfulness: -0.13",
          "Threshold: 6.95e-02<br>Nodes: 4<br>Faithfulness: -0.13",
          "Threshold: 1.00e-01<br>Nodes: 4<br>Faithfulness: -0.13"
         ],
         "type": "scatter",
         "visible": false,
         "x": [
          0.00009999999747378752,
          0.00014384498354047537,
          0.00020691381359938532,
          0.00029763515340164304,
          0.00042813323670998216,
          0.0006158482283353806,
          0.0008858668152242899,
          0.001274275011382997,
          0.0018329806625843048,
          0.002636650810018182,
          0.0037926901131868362,
          0.005455594975501299,
          0.007847599685192108,
          0.011288379319012165,
          0.016237767413258553,
          0.023357214406132698,
          0.03359818458557129,
          0.04832930117845535,
          0.0695192813873291,
          0.10000000149011612
         ],
         "xaxis": "x2",
         "y": [
          -0.12700343132019043,
          -0.12098030000925064,
          -0.11143666505813599,
          -0.1334877759218216,
          -0.12187451869249344,
          -0.12145272642374039,
          -0.12397214770317078,
          -0.12573806941509247,
          -0.12648607790470123,
          -0.12667159736156464,
          -0.1258842647075653,
          -0.12535570561885834,
          -0.1254962980747223,
          -0.12549059092998505,
          -0.1252937614917755,
          -0.1253499984741211,
          -0.12549059092998505,
          -0.12545126676559448,
          -0.12549059092998505,
          -0.12549059092998505
         ],
         "yaxis": "y2"
        },
        {
         "hoverinfo": "text",
         "marker": {
          "color": "black"
         },
         "mode": "markers",
         "name": "random layer 5 (#nodes)",
         "text": [
          "Threshold: 1.00e-04<br>Nodes: 1246<br>Faithfulness: 0.13",
          "Threshold: 1.44e-04<br>Nodes: 1049<br>Faithfulness: -0.07",
          "Threshold: 2.07e-04<br>Nodes: 824<br>Faithfulness: -0.14",
          "Threshold: 2.98e-04<br>Nodes: 614<br>Faithfulness: -0.16",
          "Threshold: 4.28e-04<br>Nodes: 443<br>Faithfulness: -0.12",
          "Threshold: 6.16e-04<br>Nodes: 319<br>Faithfulness: -0.18",
          "Threshold: 8.86e-04<br>Nodes: 220<br>Faithfulness: -0.18",
          "Threshold: 1.27e-03<br>Nodes: 156<br>Faithfulness: -0.18",
          "Threshold: 1.83e-03<br>Nodes: 110<br>Faithfulness: -0.18",
          "Threshold: 2.64e-03<br>Nodes: 83<br>Faithfulness: -0.18",
          "Threshold: 3.79e-03<br>Nodes: 65<br>Faithfulness: -0.18",
          "Threshold: 5.46e-03<br>Nodes: 49<br>Faithfulness: -0.18",
          "Threshold: 7.85e-03<br>Nodes: 35<br>Faithfulness: -0.18",
          "Threshold: 1.13e-02<br>Nodes: 27<br>Faithfulness: -0.18",
          "Threshold: 1.62e-02<br>Nodes: 19<br>Faithfulness: -0.18",
          "Threshold: 2.34e-02<br>Nodes: 17<br>Faithfulness: -0.18",
          "Threshold: 3.36e-02<br>Nodes: 11<br>Faithfulness: -0.18",
          "Threshold: 4.83e-02<br>Nodes: 8<br>Faithfulness: -0.18",
          "Threshold: 6.95e-02<br>Nodes: 7<br>Faithfulness: -0.18",
          "Threshold: 1.00e-01<br>Nodes: 6<br>Faithfulness: -0.18"
         ],
         "type": "scatter",
         "visible": false,
         "x": [
          1246,
          1049,
          824,
          614,
          443,
          319,
          220,
          156,
          110,
          83,
          65,
          49,
          35,
          27,
          19,
          17,
          11,
          8,
          7,
          6
         ],
         "xaxis": "x",
         "y": [
          0.13209374248981476,
          -0.0716104656457901,
          -0.14252640306949615,
          -0.15939803421497345,
          -0.123477041721344,
          -0.17966647446155548,
          -0.18280275166034698,
          -0.18047675490379333,
          -0.18157647550106049,
          -0.18114961683750153,
          -0.18301258981227875,
          -0.18255317211151123,
          -0.18050932884216309,
          -0.1818079650402069,
          -0.1818116009235382,
          -0.18167415261268616,
          -0.181627094745636,
          -0.181627094745636,
          -0.18198883533477783,
          -0.181627094745636
         ],
         "yaxis": "y"
        },
        {
         "hoverinfo": "text",
         "marker": {
          "color": "black"
         },
         "mode": "markers",
         "name": "random layer 5 (thresh)",
         "text": [
          "Threshold: 1.00e-04<br>Nodes: 1246<br>Faithfulness: 0.13",
          "Threshold: 1.44e-04<br>Nodes: 1049<br>Faithfulness: -0.07",
          "Threshold: 2.07e-04<br>Nodes: 824<br>Faithfulness: -0.14",
          "Threshold: 2.98e-04<br>Nodes: 614<br>Faithfulness: -0.16",
          "Threshold: 4.28e-04<br>Nodes: 443<br>Faithfulness: -0.12",
          "Threshold: 6.16e-04<br>Nodes: 319<br>Faithfulness: -0.18",
          "Threshold: 8.86e-04<br>Nodes: 220<br>Faithfulness: -0.18",
          "Threshold: 1.27e-03<br>Nodes: 156<br>Faithfulness: -0.18",
          "Threshold: 1.83e-03<br>Nodes: 110<br>Faithfulness: -0.18",
          "Threshold: 2.64e-03<br>Nodes: 83<br>Faithfulness: -0.18",
          "Threshold: 3.79e-03<br>Nodes: 65<br>Faithfulness: -0.18",
          "Threshold: 5.46e-03<br>Nodes: 49<br>Faithfulness: -0.18",
          "Threshold: 7.85e-03<br>Nodes: 35<br>Faithfulness: -0.18",
          "Threshold: 1.13e-02<br>Nodes: 27<br>Faithfulness: -0.18",
          "Threshold: 1.62e-02<br>Nodes: 19<br>Faithfulness: -0.18",
          "Threshold: 2.34e-02<br>Nodes: 17<br>Faithfulness: -0.18",
          "Threshold: 3.36e-02<br>Nodes: 11<br>Faithfulness: -0.18",
          "Threshold: 4.83e-02<br>Nodes: 8<br>Faithfulness: -0.18",
          "Threshold: 6.95e-02<br>Nodes: 7<br>Faithfulness: -0.18",
          "Threshold: 1.00e-01<br>Nodes: 6<br>Faithfulness: -0.18"
         ],
         "type": "scatter",
         "visible": false,
         "x": [
          0.00009999999747378752,
          0.00014384498354047537,
          0.00020691381359938532,
          0.00029763515340164304,
          0.00042813323670998216,
          0.0006158482283353806,
          0.0008858668152242899,
          0.001274275011382997,
          0.0018329806625843048,
          0.002636650810018182,
          0.0037926901131868362,
          0.005455594975501299,
          0.007847599685192108,
          0.011288379319012165,
          0.016237767413258553,
          0.023357214406132698,
          0.03359818458557129,
          0.04832930117845535,
          0.0695192813873291,
          0.10000000149011612
         ],
         "xaxis": "x2",
         "y": [
          0.13209374248981476,
          -0.0716104656457901,
          -0.14252640306949615,
          -0.15939803421497345,
          -0.123477041721344,
          -0.17966647446155548,
          -0.18280275166034698,
          -0.18047675490379333,
          -0.18157647550106049,
          -0.18114961683750153,
          -0.18301258981227875,
          -0.18255317211151123,
          -0.18050932884216309,
          -0.1818079650402069,
          -0.1818116009235382,
          -0.18167415261268616,
          -0.181627094745636,
          -0.181627094745636,
          -0.18198883533477783,
          -0.181627094745636
         ],
         "yaxis": "y2"
        }
       ],
       "layout": {
        "sliders": [
         {
          "active": 0,
          "pad": {
           "t": 50
          },
          "steps": [
           {
            "args": [
             {
              "visible": [
               true,
               true,
               false,
               false,
               false,
               false,
               false,
               false,
               false,
               false,
               false,
               false
              ]
             }
            ],
            "label": "Layer 0",
            "method": "update"
           },
           {
            "args": [
             {
              "visible": [
               false,
               false,
               true,
               true,
               false,
               false,
               false,
               false,
               false,
               false,
               false,
               false
              ]
             }
            ],
            "label": "Layer 1",
            "method": "update"
           },
           {
            "args": [
             {
              "visible": [
               false,
               false,
               false,
               false,
               true,
               true,
               false,
               false,
               false,
               false,
               false,
               false
              ]
             }
            ],
            "label": "Layer 2",
            "method": "update"
           },
           {
            "args": [
             {
              "visible": [
               false,
               false,
               false,
               false,
               false,
               false,
               true,
               true,
               false,
               false,
               false,
               false
              ]
             }
            ],
            "label": "Layer 3",
            "method": "update"
           },
           {
            "args": [
             {
              "visible": [
               false,
               false,
               false,
               false,
               false,
               false,
               false,
               false,
               true,
               true,
               false,
               false
              ]
             }
            ],
            "label": "Layer 4",
            "method": "update"
           },
           {
            "args": [
             {
              "visible": [
               false,
               false,
               false,
               false,
               false,
               false,
               false,
               false,
               false,
               false,
               true,
               true
              ]
             }
            ],
            "label": "Layer 5",
            "method": "update"
           }
          ]
         }
        ],
        "template": {
         "data": {
          "bar": [
           {
            "error_x": {
             "color": "#2a3f5f"
            },
            "error_y": {
             "color": "#2a3f5f"
            },
            "marker": {
             "line": {
              "color": "#E5ECF6",
              "width": 0.5
             },
             "pattern": {
              "fillmode": "overlay",
              "size": 10,
              "solidity": 0.2
             }
            },
            "type": "bar"
           }
          ],
          "barpolar": [
           {
            "marker": {
             "line": {
              "color": "#E5ECF6",
              "width": 0.5
             },
             "pattern": {
              "fillmode": "overlay",
              "size": 10,
              "solidity": 0.2
             }
            },
            "type": "barpolar"
           }
          ],
          "carpet": [
           {
            "aaxis": {
             "endlinecolor": "#2a3f5f",
             "gridcolor": "white",
             "linecolor": "white",
             "minorgridcolor": "white",
             "startlinecolor": "#2a3f5f"
            },
            "baxis": {
             "endlinecolor": "#2a3f5f",
             "gridcolor": "white",
             "linecolor": "white",
             "minorgridcolor": "white",
             "startlinecolor": "#2a3f5f"
            },
            "type": "carpet"
           }
          ],
          "choropleth": [
           {
            "colorbar": {
             "outlinewidth": 0,
             "ticks": ""
            },
            "type": "choropleth"
           }
          ],
          "contour": [
           {
            "colorbar": {
             "outlinewidth": 0,
             "ticks": ""
            },
            "colorscale": [
             [
              0,
              "#0d0887"
             ],
             [
              0.1111111111111111,
              "#46039f"
             ],
             [
              0.2222222222222222,
              "#7201a8"
             ],
             [
              0.3333333333333333,
              "#9c179e"
             ],
             [
              0.4444444444444444,
              "#bd3786"
             ],
             [
              0.5555555555555556,
              "#d8576b"
             ],
             [
              0.6666666666666666,
              "#ed7953"
             ],
             [
              0.7777777777777778,
              "#fb9f3a"
             ],
             [
              0.8888888888888888,
              "#fdca26"
             ],
             [
              1,
              "#f0f921"
             ]
            ],
            "type": "contour"
           }
          ],
          "contourcarpet": [
           {
            "colorbar": {
             "outlinewidth": 0,
             "ticks": ""
            },
            "type": "contourcarpet"
           }
          ],
          "heatmap": [
           {
            "colorbar": {
             "outlinewidth": 0,
             "ticks": ""
            },
            "colorscale": [
             [
              0,
              "#0d0887"
             ],
             [
              0.1111111111111111,
              "#46039f"
             ],
             [
              0.2222222222222222,
              "#7201a8"
             ],
             [
              0.3333333333333333,
              "#9c179e"
             ],
             [
              0.4444444444444444,
              "#bd3786"
             ],
             [
              0.5555555555555556,
              "#d8576b"
             ],
             [
              0.6666666666666666,
              "#ed7953"
             ],
             [
              0.7777777777777778,
              "#fb9f3a"
             ],
             [
              0.8888888888888888,
              "#fdca26"
             ],
             [
              1,
              "#f0f921"
             ]
            ],
            "type": "heatmap"
           }
          ],
          "heatmapgl": [
           {
            "colorbar": {
             "outlinewidth": 0,
             "ticks": ""
            },
            "colorscale": [
             [
              0,
              "#0d0887"
             ],
             [
              0.1111111111111111,
              "#46039f"
             ],
             [
              0.2222222222222222,
              "#7201a8"
             ],
             [
              0.3333333333333333,
              "#9c179e"
             ],
             [
              0.4444444444444444,
              "#bd3786"
             ],
             [
              0.5555555555555556,
              "#d8576b"
             ],
             [
              0.6666666666666666,
              "#ed7953"
             ],
             [
              0.7777777777777778,
              "#fb9f3a"
             ],
             [
              0.8888888888888888,
              "#fdca26"
             ],
             [
              1,
              "#f0f921"
             ]
            ],
            "type": "heatmapgl"
           }
          ],
          "histogram": [
           {
            "marker": {
             "pattern": {
              "fillmode": "overlay",
              "size": 10,
              "solidity": 0.2
             }
            },
            "type": "histogram"
           }
          ],
          "histogram2d": [
           {
            "colorbar": {
             "outlinewidth": 0,
             "ticks": ""
            },
            "colorscale": [
             [
              0,
              "#0d0887"
             ],
             [
              0.1111111111111111,
              "#46039f"
             ],
             [
              0.2222222222222222,
              "#7201a8"
             ],
             [
              0.3333333333333333,
              "#9c179e"
             ],
             [
              0.4444444444444444,
              "#bd3786"
             ],
             [
              0.5555555555555556,
              "#d8576b"
             ],
             [
              0.6666666666666666,
              "#ed7953"
             ],
             [
              0.7777777777777778,
              "#fb9f3a"
             ],
             [
              0.8888888888888888,
              "#fdca26"
             ],
             [
              1,
              "#f0f921"
             ]
            ],
            "type": "histogram2d"
           }
          ],
          "histogram2dcontour": [
           {
            "colorbar": {
             "outlinewidth": 0,
             "ticks": ""
            },
            "colorscale": [
             [
              0,
              "#0d0887"
             ],
             [
              0.1111111111111111,
              "#46039f"
             ],
             [
              0.2222222222222222,
              "#7201a8"
             ],
             [
              0.3333333333333333,
              "#9c179e"
             ],
             [
              0.4444444444444444,
              "#bd3786"
             ],
             [
              0.5555555555555556,
              "#d8576b"
             ],
             [
              0.6666666666666666,
              "#ed7953"
             ],
             [
              0.7777777777777778,
              "#fb9f3a"
             ],
             [
              0.8888888888888888,
              "#fdca26"
             ],
             [
              1,
              "#f0f921"
             ]
            ],
            "type": "histogram2dcontour"
           }
          ],
          "mesh3d": [
           {
            "colorbar": {
             "outlinewidth": 0,
             "ticks": ""
            },
            "type": "mesh3d"
           }
          ],
          "parcoords": [
           {
            "line": {
             "colorbar": {
              "outlinewidth": 0,
              "ticks": ""
             }
            },
            "type": "parcoords"
           }
          ],
          "pie": [
           {
            "automargin": true,
            "type": "pie"
           }
          ],
          "scatter": [
           {
            "fillpattern": {
             "fillmode": "overlay",
             "size": 10,
             "solidity": 0.2
            },
            "type": "scatter"
           }
          ],
          "scatter3d": [
           {
            "line": {
             "colorbar": {
              "outlinewidth": 0,
              "ticks": ""
             }
            },
            "marker": {
             "colorbar": {
              "outlinewidth": 0,
              "ticks": ""
             }
            },
            "type": "scatter3d"
           }
          ],
          "scattercarpet": [
           {
            "marker": {
             "colorbar": {
              "outlinewidth": 0,
              "ticks": ""
             }
            },
            "type": "scattercarpet"
           }
          ],
          "scattergeo": [
           {
            "marker": {
             "colorbar": {
              "outlinewidth": 0,
              "ticks": ""
             }
            },
            "type": "scattergeo"
           }
          ],
          "scattergl": [
           {
            "marker": {
             "colorbar": {
              "outlinewidth": 0,
              "ticks": ""
             }
            },
            "type": "scattergl"
           }
          ],
          "scattermapbox": [
           {
            "marker": {
             "colorbar": {
              "outlinewidth": 0,
              "ticks": ""
             }
            },
            "type": "scattermapbox"
           }
          ],
          "scatterpolar": [
           {
            "marker": {
             "colorbar": {
              "outlinewidth": 0,
              "ticks": ""
             }
            },
            "type": "scatterpolar"
           }
          ],
          "scatterpolargl": [
           {
            "marker": {
             "colorbar": {
              "outlinewidth": 0,
              "ticks": ""
             }
            },
            "type": "scatterpolargl"
           }
          ],
          "scatterternary": [
           {
            "marker": {
             "colorbar": {
              "outlinewidth": 0,
              "ticks": ""
             }
            },
            "type": "scatterternary"
           }
          ],
          "surface": [
           {
            "colorbar": {
             "outlinewidth": 0,
             "ticks": ""
            },
            "colorscale": [
             [
              0,
              "#0d0887"
             ],
             [
              0.1111111111111111,
              "#46039f"
             ],
             [
              0.2222222222222222,
              "#7201a8"
             ],
             [
              0.3333333333333333,
              "#9c179e"
             ],
             [
              0.4444444444444444,
              "#bd3786"
             ],
             [
              0.5555555555555556,
              "#d8576b"
             ],
             [
              0.6666666666666666,
              "#ed7953"
             ],
             [
              0.7777777777777778,
              "#fb9f3a"
             ],
             [
              0.8888888888888888,
              "#fdca26"
             ],
             [
              1,
              "#f0f921"
             ]
            ],
            "type": "surface"
           }
          ],
          "table": [
           {
            "cells": {
             "fill": {
              "color": "#EBF0F8"
             },
             "line": {
              "color": "white"
             }
            },
            "header": {
             "fill": {
              "color": "#C8D4E3"
             },
             "line": {
              "color": "white"
             }
            },
            "type": "table"
           }
          ]
         },
         "layout": {
          "annotationdefaults": {
           "arrowcolor": "#2a3f5f",
           "arrowhead": 0,
           "arrowwidth": 1
          },
          "autotypenumbers": "strict",
          "coloraxis": {
           "colorbar": {
            "outlinewidth": 0,
            "ticks": ""
           }
          },
          "colorscale": {
           "diverging": [
            [
             0,
             "#8e0152"
            ],
            [
             0.1,
             "#c51b7d"
            ],
            [
             0.2,
             "#de77ae"
            ],
            [
             0.3,
             "#f1b6da"
            ],
            [
             0.4,
             "#fde0ef"
            ],
            [
             0.5,
             "#f7f7f7"
            ],
            [
             0.6,
             "#e6f5d0"
            ],
            [
             0.7,
             "#b8e186"
            ],
            [
             0.8,
             "#7fbc41"
            ],
            [
             0.9,
             "#4d9221"
            ],
            [
             1,
             "#276419"
            ]
           ],
           "sequential": [
            [
             0,
             "#0d0887"
            ],
            [
             0.1111111111111111,
             "#46039f"
            ],
            [
             0.2222222222222222,
             "#7201a8"
            ],
            [
             0.3333333333333333,
             "#9c179e"
            ],
            [
             0.4444444444444444,
             "#bd3786"
            ],
            [
             0.5555555555555556,
             "#d8576b"
            ],
            [
             0.6666666666666666,
             "#ed7953"
            ],
            [
             0.7777777777777778,
             "#fb9f3a"
            ],
            [
             0.8888888888888888,
             "#fdca26"
            ],
            [
             1,
             "#f0f921"
            ]
           ],
           "sequentialminus": [
            [
             0,
             "#0d0887"
            ],
            [
             0.1111111111111111,
             "#46039f"
            ],
            [
             0.2222222222222222,
             "#7201a8"
            ],
            [
             0.3333333333333333,
             "#9c179e"
            ],
            [
             0.4444444444444444,
             "#bd3786"
            ],
            [
             0.5555555555555556,
             "#d8576b"
            ],
            [
             0.6666666666666666,
             "#ed7953"
            ],
            [
             0.7777777777777778,
             "#fb9f3a"
            ],
            [
             0.8888888888888888,
             "#fdca26"
            ],
            [
             1,
             "#f0f921"
            ]
           ]
          },
          "colorway": [
           "#636efa",
           "#EF553B",
           "#00cc96",
           "#ab63fa",
           "#FFA15A",
           "#19d3f3",
           "#FF6692",
           "#B6E880",
           "#FF97FF",
           "#FECB52"
          ],
          "font": {
           "color": "#2a3f5f"
          },
          "geo": {
           "bgcolor": "white",
           "lakecolor": "white",
           "landcolor": "#E5ECF6",
           "showlakes": true,
           "showland": true,
           "subunitcolor": "white"
          },
          "hoverlabel": {
           "align": "left"
          },
          "hovermode": "closest",
          "mapbox": {
           "style": "light"
          },
          "paper_bgcolor": "white",
          "plot_bgcolor": "#E5ECF6",
          "polar": {
           "angularaxis": {
            "gridcolor": "white",
            "linecolor": "white",
            "ticks": ""
           },
           "bgcolor": "#E5ECF6",
           "radialaxis": {
            "gridcolor": "white",
            "linecolor": "white",
            "ticks": ""
           }
          },
          "scene": {
           "xaxis": {
            "backgroundcolor": "#E5ECF6",
            "gridcolor": "white",
            "gridwidth": 2,
            "linecolor": "white",
            "showbackground": true,
            "ticks": "",
            "zerolinecolor": "white"
           },
           "yaxis": {
            "backgroundcolor": "#E5ECF6",
            "gridcolor": "white",
            "gridwidth": 2,
            "linecolor": "white",
            "showbackground": true,
            "ticks": "",
            "zerolinecolor": "white"
           },
           "zaxis": {
            "backgroundcolor": "#E5ECF6",
            "gridcolor": "white",
            "gridwidth": 2,
            "linecolor": "white",
            "showbackground": true,
            "ticks": "",
            "zerolinecolor": "white"
           }
          },
          "shapedefaults": {
           "line": {
            "color": "#2a3f5f"
           }
          },
          "ternary": {
           "aaxis": {
            "gridcolor": "white",
            "linecolor": "white",
            "ticks": ""
           },
           "baxis": {
            "gridcolor": "white",
            "linecolor": "white",
            "ticks": ""
           },
           "bgcolor": "#E5ECF6",
           "caxis": {
            "gridcolor": "white",
            "linecolor": "white",
            "ticks": ""
           }
          },
          "title": {
           "x": 0.05
          },
          "xaxis": {
           "automargin": true,
           "gridcolor": "white",
           "linecolor": "white",
           "ticks": "",
           "title": {
            "standoff": 15
           },
           "zerolinecolor": "white",
           "zerolinewidth": 2
          },
          "yaxis": {
           "automargin": true,
           "gridcolor": "white",
           "linecolor": "white",
           "ticks": "",
           "title": {
            "standoff": 15
           },
           "zerolinecolor": "white",
           "zerolinewidth": 2
          }
         }
        },
        "title": {
         "text": "Faithfulness of single layers of C"
        },
        "xaxis": {
         "anchor": "y",
         "domain": [
          0,
          0.45
         ],
         "range": [
          0,
          3.5
         ],
         "title": {
          "text": "Number of nodes"
         },
         "type": "log"
        },
        "xaxis2": {
         "anchor": "y2",
         "domain": [
          0.55,
          1
         ],
         "title": {
          "text": "Node threshold"
         },
         "type": "log"
        },
        "yaxis": {
         "anchor": "x",
         "domain": [
          0,
          1
         ],
         "title": {
          "text": "Faithfulness"
         }
        },
        "yaxis2": {
         "anchor": "x2",
         "domain": [
          0,
          1
         ]
        }
       }
      },
      "text/html": [
       "<div>                            <div id=\"1d5edfa8-99d3-4073-948a-65ca6068bd37\" class=\"plotly-graph-div\" style=\"height:525px; width:100%;\"></div>            <script type=\"text/javascript\">                require([\"plotly\"], function(Plotly) {                    window.PLOTLYENV=window.PLOTLYENV || {};                                    if (document.getElementById(\"1d5edfa8-99d3-4073-948a-65ca6068bd37\")) {                    Plotly.newPlot(                        \"1d5edfa8-99d3-4073-948a-65ca6068bd37\",                        [{\"hoverinfo\":\"text\",\"marker\":{\"color\":\"blue\"},\"mode\":\"markers\",\"name\":\"features layer 0 (#nodes)\",\"text\":[\"Threshold: 1.00e-04\\u003cbr\\u003eNodes: 892\\u003cbr\\u003eFaithfulness: 1.05\",\"Threshold: 1.44e-04\\u003cbr\\u003eNodes: 768\\u003cbr\\u003eFaithfulness: 1.05\",\"Threshold: 2.07e-04\\u003cbr\\u003eNodes: 647\\u003cbr\\u003eFaithfulness: 1.05\",\"Threshold: 2.98e-04\\u003cbr\\u003eNodes: 517\\u003cbr\\u003eFaithfulness: 1.06\",\"Threshold: 4.28e-04\\u003cbr\\u003eNodes: 400\\u003cbr\\u003eFaithfulness: 1.05\",\"Threshold: 6.16e-04\\u003cbr\\u003eNodes: 290\\u003cbr\\u003eFaithfulness: 1.05\",\"Threshold: 8.86e-04\\u003cbr\\u003eNodes: 219\\u003cbr\\u003eFaithfulness: 1.05\",\"Threshold: 1.27e-03\\u003cbr\\u003eNodes: 141\\u003cbr\\u003eFaithfulness: 1.04\",\"Threshold: 1.83e-03\\u003cbr\\u003eNodes: 116\\u003cbr\\u003eFaithfulness: 1.03\",\"Threshold: 2.64e-03\\u003cbr\\u003eNodes: 87\\u003cbr\\u003eFaithfulness: 1.02\",\"Threshold: 3.79e-03\\u003cbr\\u003eNodes: 63\\u003cbr\\u003eFaithfulness: 1.02\",\"Threshold: 5.46e-03\\u003cbr\\u003eNodes: 52\\u003cbr\\u003eFaithfulness: 1.04\",\"Threshold: 7.85e-03\\u003cbr\\u003eNodes: 40\\u003cbr\\u003eFaithfulness: 1.01\",\"Threshold: 1.13e-02\\u003cbr\\u003eNodes: 37\\u003cbr\\u003eFaithfulness: 1.01\",\"Threshold: 1.62e-02\\u003cbr\\u003eNodes: 27\\u003cbr\\u003eFaithfulness: 0.88\",\"Threshold: 2.34e-02\\u003cbr\\u003eNodes: 23\\u003cbr\\u003eFaithfulness: 0.85\",\"Threshold: 3.36e-02\\u003cbr\\u003eNodes: 20\\u003cbr\\u003eFaithfulness: 0.82\",\"Threshold: 4.83e-02\\u003cbr\\u003eNodes: 16\\u003cbr\\u003eFaithfulness: 0.73\",\"Threshold: 6.95e-02\\u003cbr\\u003eNodes: 14\\u003cbr\\u003eFaithfulness: 0.66\",\"Threshold: 1.00e-01\\u003cbr\\u003eNodes: 9\\u003cbr\\u003eFaithfulness: 0.50\"],\"visible\":true,\"x\":[892,768,647,517,400,290,219,141,116,87,63,52,40,37,27,23,20,16,14,9],\"y\":[1.0455831289291382,1.0489484071731567,1.0540162324905396,1.055815577507019,1.0523912906646729,1.047257423400879,1.0493699312210083,1.036620020866394,1.0281208753585815,1.023333191871643,1.0208251476287842,1.0351481437683105,1.0093846321105957,1.005581259727478,0.8809649348258972,0.8464125394821167,0.823013424873352,0.7274527549743652,0.6619205474853516,0.4999140202999115],\"type\":\"scatter\",\"xaxis\":\"x\",\"yaxis\":\"y\"},{\"hoverinfo\":\"text\",\"marker\":{\"color\":\"blue\"},\"mode\":\"markers\",\"name\":\"features layer 0 (thresh)\",\"text\":[\"Threshold: 1.00e-04\\u003cbr\\u003eNodes: 892\\u003cbr\\u003eFaithfulness: 1.05\",\"Threshold: 1.44e-04\\u003cbr\\u003eNodes: 768\\u003cbr\\u003eFaithfulness: 1.05\",\"Threshold: 2.07e-04\\u003cbr\\u003eNodes: 647\\u003cbr\\u003eFaithfulness: 1.05\",\"Threshold: 2.98e-04\\u003cbr\\u003eNodes: 517\\u003cbr\\u003eFaithfulness: 1.06\",\"Threshold: 4.28e-04\\u003cbr\\u003eNodes: 400\\u003cbr\\u003eFaithfulness: 1.05\",\"Threshold: 6.16e-04\\u003cbr\\u003eNodes: 290\\u003cbr\\u003eFaithfulness: 1.05\",\"Threshold: 8.86e-04\\u003cbr\\u003eNodes: 219\\u003cbr\\u003eFaithfulness: 1.05\",\"Threshold: 1.27e-03\\u003cbr\\u003eNodes: 141\\u003cbr\\u003eFaithfulness: 1.04\",\"Threshold: 1.83e-03\\u003cbr\\u003eNodes: 116\\u003cbr\\u003eFaithfulness: 1.03\",\"Threshold: 2.64e-03\\u003cbr\\u003eNodes: 87\\u003cbr\\u003eFaithfulness: 1.02\",\"Threshold: 3.79e-03\\u003cbr\\u003eNodes: 63\\u003cbr\\u003eFaithfulness: 1.02\",\"Threshold: 5.46e-03\\u003cbr\\u003eNodes: 52\\u003cbr\\u003eFaithfulness: 1.04\",\"Threshold: 7.85e-03\\u003cbr\\u003eNodes: 40\\u003cbr\\u003eFaithfulness: 1.01\",\"Threshold: 1.13e-02\\u003cbr\\u003eNodes: 37\\u003cbr\\u003eFaithfulness: 1.01\",\"Threshold: 1.62e-02\\u003cbr\\u003eNodes: 27\\u003cbr\\u003eFaithfulness: 0.88\",\"Threshold: 2.34e-02\\u003cbr\\u003eNodes: 23\\u003cbr\\u003eFaithfulness: 0.85\",\"Threshold: 3.36e-02\\u003cbr\\u003eNodes: 20\\u003cbr\\u003eFaithfulness: 0.82\",\"Threshold: 4.83e-02\\u003cbr\\u003eNodes: 16\\u003cbr\\u003eFaithfulness: 0.73\",\"Threshold: 6.95e-02\\u003cbr\\u003eNodes: 14\\u003cbr\\u003eFaithfulness: 0.66\",\"Threshold: 1.00e-01\\u003cbr\\u003eNodes: 9\\u003cbr\\u003eFaithfulness: 0.50\"],\"visible\":true,\"x\":[9.999999747378752e-05,0.00014384498354047537,0.00020691381359938532,0.00029763515340164304,0.00042813323670998216,0.0006158482283353806,0.0008858668152242899,0.001274275011382997,0.0018329806625843048,0.002636650810018182,0.0037926901131868362,0.005455594975501299,0.007847599685192108,0.011288379319012165,0.016237767413258553,0.023357214406132698,0.03359818458557129,0.04832930117845535,0.0695192813873291,0.10000000149011612],\"y\":[1.0455831289291382,1.0489484071731567,1.0540162324905396,1.055815577507019,1.0523912906646729,1.047257423400879,1.0493699312210083,1.036620020866394,1.0281208753585815,1.023333191871643,1.0208251476287842,1.0351481437683105,1.0093846321105957,1.005581259727478,0.8809649348258972,0.8464125394821167,0.823013424873352,0.7274527549743652,0.6619205474853516,0.4999140202999115],\"type\":\"scatter\",\"xaxis\":\"x2\",\"yaxis\":\"y2\"},{\"hoverinfo\":\"text\",\"marker\":{\"color\":\"blue\"},\"mode\":\"markers\",\"name\":\"features layer 1 (#nodes)\",\"text\":[\"Threshold: 1.00e-04\\u003cbr\\u003eNodes: 1368\\u003cbr\\u003eFaithfulness: 0.98\",\"Threshold: 1.44e-04\\u003cbr\\u003eNodes: 1107\\u003cbr\\u003eFaithfulness: 0.97\",\"Threshold: 2.07e-04\\u003cbr\\u003eNodes: 823\\u003cbr\\u003eFaithfulness: 1.08\",\"Threshold: 2.98e-04\\u003cbr\\u003eNodes: 598\\u003cbr\\u003eFaithfulness: 1.09\",\"Threshold: 4.28e-04\\u003cbr\\u003eNodes: 445\\u003cbr\\u003eFaithfulness: 1.01\",\"Threshold: 6.16e-04\\u003cbr\\u003eNodes: 303\\u003cbr\\u003eFaithfulness: 1.08\",\"Threshold: 8.86e-04\\u003cbr\\u003eNodes: 201\\u003cbr\\u003eFaithfulness: 1.09\",\"Threshold: 1.27e-03\\u003cbr\\u003eNodes: 133\\u003cbr\\u003eFaithfulness: 1.04\",\"Threshold: 1.83e-03\\u003cbr\\u003eNodes: 90\\u003cbr\\u003eFaithfulness: 1.15\",\"Threshold: 2.64e-03\\u003cbr\\u003eNodes: 60\\u003cbr\\u003eFaithfulness: 1.19\",\"Threshold: 3.79e-03\\u003cbr\\u003eNodes: 34\\u003cbr\\u003eFaithfulness: 1.26\",\"Threshold: 5.46e-03\\u003cbr\\u003eNodes: 25\\u003cbr\\u003eFaithfulness: 1.26\",\"Threshold: 7.85e-03\\u003cbr\\u003eNodes: 17\\u003cbr\\u003eFaithfulness: 1.27\",\"Threshold: 1.13e-02\\u003cbr\\u003eNodes: 12\\u003cbr\\u003eFaithfulness: 1.19\",\"Threshold: 1.62e-02\\u003cbr\\u003eNodes: 8\\u003cbr\\u003eFaithfulness: 0.98\",\"Threshold: 2.34e-02\\u003cbr\\u003eNodes: 7\\u003cbr\\u003eFaithfulness: 0.95\",\"Threshold: 3.36e-02\\u003cbr\\u003eNodes: 3\\u003cbr\\u003eFaithfulness: 0.79\",\"Threshold: 4.83e-02\\u003cbr\\u003eNodes: 3\\u003cbr\\u003eFaithfulness: 0.79\",\"Threshold: 6.95e-02\\u003cbr\\u003eNodes: 3\\u003cbr\\u003eFaithfulness: 0.79\",\"Threshold: 1.00e-01\\u003cbr\\u003eNodes: 3\\u003cbr\\u003eFaithfulness: 0.79\"],\"visible\":false,\"x\":[1368,1107,823,598,445,303,201,133,90,60,34,25,17,12,8,7,3,3,3,3],\"y\":[0.9809380173683167,0.9748004674911499,1.0765098333358765,1.0912262201309204,1.0116233825683594,1.080758810043335,1.091177225112915,1.0406967401504517,1.1514242887496948,1.1871076822280884,1.2570570707321167,1.2576757669448853,1.2749146223068237,1.1933584213256836,0.9770635962486267,0.9494057297706604,0.7943028211593628,0.7943028211593628,0.7943028211593628,0.7943028211593628],\"type\":\"scatter\",\"xaxis\":\"x\",\"yaxis\":\"y\"},{\"hoverinfo\":\"text\",\"marker\":{\"color\":\"blue\"},\"mode\":\"markers\",\"name\":\"features layer 1 (thresh)\",\"text\":[\"Threshold: 1.00e-04\\u003cbr\\u003eNodes: 1368\\u003cbr\\u003eFaithfulness: 0.98\",\"Threshold: 1.44e-04\\u003cbr\\u003eNodes: 1107\\u003cbr\\u003eFaithfulness: 0.97\",\"Threshold: 2.07e-04\\u003cbr\\u003eNodes: 823\\u003cbr\\u003eFaithfulness: 1.08\",\"Threshold: 2.98e-04\\u003cbr\\u003eNodes: 598\\u003cbr\\u003eFaithfulness: 1.09\",\"Threshold: 4.28e-04\\u003cbr\\u003eNodes: 445\\u003cbr\\u003eFaithfulness: 1.01\",\"Threshold: 6.16e-04\\u003cbr\\u003eNodes: 303\\u003cbr\\u003eFaithfulness: 1.08\",\"Threshold: 8.86e-04\\u003cbr\\u003eNodes: 201\\u003cbr\\u003eFaithfulness: 1.09\",\"Threshold: 1.27e-03\\u003cbr\\u003eNodes: 133\\u003cbr\\u003eFaithfulness: 1.04\",\"Threshold: 1.83e-03\\u003cbr\\u003eNodes: 90\\u003cbr\\u003eFaithfulness: 1.15\",\"Threshold: 2.64e-03\\u003cbr\\u003eNodes: 60\\u003cbr\\u003eFaithfulness: 1.19\",\"Threshold: 3.79e-03\\u003cbr\\u003eNodes: 34\\u003cbr\\u003eFaithfulness: 1.26\",\"Threshold: 5.46e-03\\u003cbr\\u003eNodes: 25\\u003cbr\\u003eFaithfulness: 1.26\",\"Threshold: 7.85e-03\\u003cbr\\u003eNodes: 17\\u003cbr\\u003eFaithfulness: 1.27\",\"Threshold: 1.13e-02\\u003cbr\\u003eNodes: 12\\u003cbr\\u003eFaithfulness: 1.19\",\"Threshold: 1.62e-02\\u003cbr\\u003eNodes: 8\\u003cbr\\u003eFaithfulness: 0.98\",\"Threshold: 2.34e-02\\u003cbr\\u003eNodes: 7\\u003cbr\\u003eFaithfulness: 0.95\",\"Threshold: 3.36e-02\\u003cbr\\u003eNodes: 3\\u003cbr\\u003eFaithfulness: 0.79\",\"Threshold: 4.83e-02\\u003cbr\\u003eNodes: 3\\u003cbr\\u003eFaithfulness: 0.79\",\"Threshold: 6.95e-02\\u003cbr\\u003eNodes: 3\\u003cbr\\u003eFaithfulness: 0.79\",\"Threshold: 1.00e-01\\u003cbr\\u003eNodes: 3\\u003cbr\\u003eFaithfulness: 0.79\"],\"visible\":false,\"x\":[9.999999747378752e-05,0.00014384498354047537,0.00020691381359938532,0.00029763515340164304,0.00042813323670998216,0.0006158482283353806,0.0008858668152242899,0.001274275011382997,0.0018329806625843048,0.002636650810018182,0.0037926901131868362,0.005455594975501299,0.007847599685192108,0.011288379319012165,0.016237767413258553,0.023357214406132698,0.03359818458557129,0.04832930117845535,0.0695192813873291,0.10000000149011612],\"y\":[0.9809380173683167,0.9748004674911499,1.0765098333358765,1.0912262201309204,1.0116233825683594,1.080758810043335,1.091177225112915,1.0406967401504517,1.1514242887496948,1.1871076822280884,1.2570570707321167,1.2576757669448853,1.2749146223068237,1.1933584213256836,0.9770635962486267,0.9494057297706604,0.7943028211593628,0.7943028211593628,0.7943028211593628,0.7943028211593628],\"type\":\"scatter\",\"xaxis\":\"x2\",\"yaxis\":\"y2\"},{\"hoverinfo\":\"text\",\"marker\":{\"color\":\"blue\"},\"mode\":\"markers\",\"name\":\"features layer 2 (#nodes)\",\"text\":[\"Threshold: 1.00e-04\\u003cbr\\u003eNodes: 1603\\u003cbr\\u003eFaithfulness: 1.02\",\"Threshold: 1.44e-04\\u003cbr\\u003eNodes: 1284\\u003cbr\\u003eFaithfulness: 1.00\",\"Threshold: 2.07e-04\\u003cbr\\u003eNodes: 1022\\u003cbr\\u003eFaithfulness: 1.01\",\"Threshold: 2.98e-04\\u003cbr\\u003eNodes: 782\\u003cbr\\u003eFaithfulness: 1.01\",\"Threshold: 4.28e-04\\u003cbr\\u003eNodes: 557\\u003cbr\\u003eFaithfulness: 1.02\",\"Threshold: 6.16e-04\\u003cbr\\u003eNodes: 397\\u003cbr\\u003eFaithfulness: 0.99\",\"Threshold: 8.86e-04\\u003cbr\\u003eNodes: 258\\u003cbr\\u003eFaithfulness: 0.99\",\"Threshold: 1.27e-03\\u003cbr\\u003eNodes: 173\\u003cbr\\u003eFaithfulness: 0.94\",\"Threshold: 1.83e-03\\u003cbr\\u003eNodes: 116\\u003cbr\\u003eFaithfulness: 0.92\",\"Threshold: 2.64e-03\\u003cbr\\u003eNodes: 74\\u003cbr\\u003eFaithfulness: 0.90\",\"Threshold: 3.79e-03\\u003cbr\\u003eNodes: 43\\u003cbr\\u003eFaithfulness: 0.87\",\"Threshold: 5.46e-03\\u003cbr\\u003eNodes: 27\\u003cbr\\u003eFaithfulness: 0.84\",\"Threshold: 7.85e-03\\u003cbr\\u003eNodes: 17\\u003cbr\\u003eFaithfulness: 0.83\",\"Threshold: 1.13e-02\\u003cbr\\u003eNodes: 11\\u003cbr\\u003eFaithfulness: 0.82\",\"Threshold: 1.62e-02\\u003cbr\\u003eNodes: 10\\u003cbr\\u003eFaithfulness: 0.82\",\"Threshold: 2.34e-02\\u003cbr\\u003eNodes: 6\\u003cbr\\u003eFaithfulness: 0.80\",\"Threshold: 3.36e-02\\u003cbr\\u003eNodes: 5\\u003cbr\\u003eFaithfulness: 0.77\",\"Threshold: 4.83e-02\\u003cbr\\u003eNodes: 4\\u003cbr\\u003eFaithfulness: 0.75\",\"Threshold: 6.95e-02\\u003cbr\\u003eNodes: 3\\u003cbr\\u003eFaithfulness: 0.60\",\"Threshold: 1.00e-01\\u003cbr\\u003eNodes: 2\\u003cbr\\u003eFaithfulness: 0.55\"],\"visible\":false,\"x\":[1603,1284,1022,782,557,397,258,173,116,74,43,27,17,11,10,6,5,4,3,2],\"y\":[1.0191574096679688,0.9994709491729736,1.0085155963897705,1.0086748600006104,1.0215353965759277,0.9888702630996704,0.985393226146698,0.9439711570739746,0.9237813353538513,0.904197633266449,0.8715274930000305,0.8410142660140991,0.8258731961250305,0.8237828612327576,0.8222934603691101,0.7973734736442566,0.7705890536308289,0.7458847761154175,0.6033497452735901,0.5451483726501465],\"type\":\"scatter\",\"xaxis\":\"x\",\"yaxis\":\"y\"},{\"hoverinfo\":\"text\",\"marker\":{\"color\":\"blue\"},\"mode\":\"markers\",\"name\":\"features layer 2 (thresh)\",\"text\":[\"Threshold: 1.00e-04\\u003cbr\\u003eNodes: 1603\\u003cbr\\u003eFaithfulness: 1.02\",\"Threshold: 1.44e-04\\u003cbr\\u003eNodes: 1284\\u003cbr\\u003eFaithfulness: 1.00\",\"Threshold: 2.07e-04\\u003cbr\\u003eNodes: 1022\\u003cbr\\u003eFaithfulness: 1.01\",\"Threshold: 2.98e-04\\u003cbr\\u003eNodes: 782\\u003cbr\\u003eFaithfulness: 1.01\",\"Threshold: 4.28e-04\\u003cbr\\u003eNodes: 557\\u003cbr\\u003eFaithfulness: 1.02\",\"Threshold: 6.16e-04\\u003cbr\\u003eNodes: 397\\u003cbr\\u003eFaithfulness: 0.99\",\"Threshold: 8.86e-04\\u003cbr\\u003eNodes: 258\\u003cbr\\u003eFaithfulness: 0.99\",\"Threshold: 1.27e-03\\u003cbr\\u003eNodes: 173\\u003cbr\\u003eFaithfulness: 0.94\",\"Threshold: 1.83e-03\\u003cbr\\u003eNodes: 116\\u003cbr\\u003eFaithfulness: 0.92\",\"Threshold: 2.64e-03\\u003cbr\\u003eNodes: 74\\u003cbr\\u003eFaithfulness: 0.90\",\"Threshold: 3.79e-03\\u003cbr\\u003eNodes: 43\\u003cbr\\u003eFaithfulness: 0.87\",\"Threshold: 5.46e-03\\u003cbr\\u003eNodes: 27\\u003cbr\\u003eFaithfulness: 0.84\",\"Threshold: 7.85e-03\\u003cbr\\u003eNodes: 17\\u003cbr\\u003eFaithfulness: 0.83\",\"Threshold: 1.13e-02\\u003cbr\\u003eNodes: 11\\u003cbr\\u003eFaithfulness: 0.82\",\"Threshold: 1.62e-02\\u003cbr\\u003eNodes: 10\\u003cbr\\u003eFaithfulness: 0.82\",\"Threshold: 2.34e-02\\u003cbr\\u003eNodes: 6\\u003cbr\\u003eFaithfulness: 0.80\",\"Threshold: 3.36e-02\\u003cbr\\u003eNodes: 5\\u003cbr\\u003eFaithfulness: 0.77\",\"Threshold: 4.83e-02\\u003cbr\\u003eNodes: 4\\u003cbr\\u003eFaithfulness: 0.75\",\"Threshold: 6.95e-02\\u003cbr\\u003eNodes: 3\\u003cbr\\u003eFaithfulness: 0.60\",\"Threshold: 1.00e-01\\u003cbr\\u003eNodes: 2\\u003cbr\\u003eFaithfulness: 0.55\"],\"visible\":false,\"x\":[9.999999747378752e-05,0.00014384498354047537,0.00020691381359938532,0.00029763515340164304,0.00042813323670998216,0.0006158482283353806,0.0008858668152242899,0.001274275011382997,0.0018329806625843048,0.002636650810018182,0.0037926901131868362,0.005455594975501299,0.007847599685192108,0.011288379319012165,0.016237767413258553,0.023357214406132698,0.03359818458557129,0.04832930117845535,0.0695192813873291,0.10000000149011612],\"y\":[1.0191574096679688,0.9994709491729736,1.0085155963897705,1.0086748600006104,1.0215353965759277,0.9888702630996704,0.985393226146698,0.9439711570739746,0.9237813353538513,0.904197633266449,0.8715274930000305,0.8410142660140991,0.8258731961250305,0.8237828612327576,0.8222934603691101,0.7973734736442566,0.7705890536308289,0.7458847761154175,0.6033497452735901,0.5451483726501465],\"type\":\"scatter\",\"xaxis\":\"x2\",\"yaxis\":\"y2\"},{\"hoverinfo\":\"text\",\"marker\":{\"color\":\"blue\"},\"mode\":\"markers\",\"name\":\"features layer 3 (#nodes)\",\"text\":[\"Threshold: 1.00e-04\\u003cbr\\u003eNodes: 2065\\u003cbr\\u003eFaithfulness: 1.00\",\"Threshold: 1.44e-04\\u003cbr\\u003eNodes: 1739\\u003cbr\\u003eFaithfulness: 0.99\",\"Threshold: 2.07e-04\\u003cbr\\u003eNodes: 1396\\u003cbr\\u003eFaithfulness: 0.99\",\"Threshold: 2.98e-04\\u003cbr\\u003eNodes: 1038\\u003cbr\\u003eFaithfulness: 1.01\",\"Threshold: 4.28e-04\\u003cbr\\u003eNodes: 742\\u003cbr\\u003eFaithfulness: 1.00\",\"Threshold: 6.16e-04\\u003cbr\\u003eNodes: 527\\u003cbr\\u003eFaithfulness: 1.00\",\"Threshold: 8.86e-04\\u003cbr\\u003eNodes: 346\\u003cbr\\u003eFaithfulness: 1.04\",\"Threshold: 1.27e-03\\u003cbr\\u003eNodes: 217\\u003cbr\\u003eFaithfulness: 0.95\",\"Threshold: 1.83e-03\\u003cbr\\u003eNodes: 131\\u003cbr\\u003eFaithfulness: 0.88\",\"Threshold: 2.64e-03\\u003cbr\\u003eNodes: 75\\u003cbr\\u003eFaithfulness: 0.83\",\"Threshold: 3.79e-03\\u003cbr\\u003eNodes: 36\\u003cbr\\u003eFaithfulness: 0.77\",\"Threshold: 5.46e-03\\u003cbr\\u003eNodes: 20\\u003cbr\\u003eFaithfulness: 0.70\",\"Threshold: 7.85e-03\\u003cbr\\u003eNodes: 10\\u003cbr\\u003eFaithfulness: 0.58\",\"Threshold: 1.13e-02\\u003cbr\\u003eNodes: 6\\u003cbr\\u003eFaithfulness: 0.55\",\"Threshold: 1.62e-02\\u003cbr\\u003eNodes: 6\\u003cbr\\u003eFaithfulness: 0.55\",\"Threshold: 2.34e-02\\u003cbr\\u003eNodes: 4\\u003cbr\\u003eFaithfulness: 0.48\",\"Threshold: 3.36e-02\\u003cbr\\u003eNodes: 3\\u003cbr\\u003eFaithfulness: 0.44\",\"Threshold: 4.83e-02\\u003cbr\\u003eNodes: 3\\u003cbr\\u003eFaithfulness: 0.44\",\"Threshold: 6.95e-02\\u003cbr\\u003eNodes: 3\\u003cbr\\u003eFaithfulness: 0.44\",\"Threshold: 1.00e-01\\u003cbr\\u003eNodes: 2\\u003cbr\\u003eFaithfulness: 0.31\"],\"visible\":false,\"x\":[2065,1739,1396,1038,742,527,346,217,131,75,36,20,10,6,6,4,3,3,3,2],\"y\":[1.004178762435913,0.9919173717498779,0.9884584546089172,1.013144850730896,0.9981592297554016,0.9999110102653503,1.0367027521133423,0.9479184746742249,0.8781127333641052,0.8271517753601074,0.7721385359764099,0.696350634098053,0.5754430294036865,0.5540372133255005,0.5540372133255005,0.4828287661075592,0.43840691447257996,0.43840691447257996,0.43840691447257996,0.30523788928985596],\"type\":\"scatter\",\"xaxis\":\"x\",\"yaxis\":\"y\"},{\"hoverinfo\":\"text\",\"marker\":{\"color\":\"blue\"},\"mode\":\"markers\",\"name\":\"features layer 3 (thresh)\",\"text\":[\"Threshold: 1.00e-04\\u003cbr\\u003eNodes: 2065\\u003cbr\\u003eFaithfulness: 1.00\",\"Threshold: 1.44e-04\\u003cbr\\u003eNodes: 1739\\u003cbr\\u003eFaithfulness: 0.99\",\"Threshold: 2.07e-04\\u003cbr\\u003eNodes: 1396\\u003cbr\\u003eFaithfulness: 0.99\",\"Threshold: 2.98e-04\\u003cbr\\u003eNodes: 1038\\u003cbr\\u003eFaithfulness: 1.01\",\"Threshold: 4.28e-04\\u003cbr\\u003eNodes: 742\\u003cbr\\u003eFaithfulness: 1.00\",\"Threshold: 6.16e-04\\u003cbr\\u003eNodes: 527\\u003cbr\\u003eFaithfulness: 1.00\",\"Threshold: 8.86e-04\\u003cbr\\u003eNodes: 346\\u003cbr\\u003eFaithfulness: 1.04\",\"Threshold: 1.27e-03\\u003cbr\\u003eNodes: 217\\u003cbr\\u003eFaithfulness: 0.95\",\"Threshold: 1.83e-03\\u003cbr\\u003eNodes: 131\\u003cbr\\u003eFaithfulness: 0.88\",\"Threshold: 2.64e-03\\u003cbr\\u003eNodes: 75\\u003cbr\\u003eFaithfulness: 0.83\",\"Threshold: 3.79e-03\\u003cbr\\u003eNodes: 36\\u003cbr\\u003eFaithfulness: 0.77\",\"Threshold: 5.46e-03\\u003cbr\\u003eNodes: 20\\u003cbr\\u003eFaithfulness: 0.70\",\"Threshold: 7.85e-03\\u003cbr\\u003eNodes: 10\\u003cbr\\u003eFaithfulness: 0.58\",\"Threshold: 1.13e-02\\u003cbr\\u003eNodes: 6\\u003cbr\\u003eFaithfulness: 0.55\",\"Threshold: 1.62e-02\\u003cbr\\u003eNodes: 6\\u003cbr\\u003eFaithfulness: 0.55\",\"Threshold: 2.34e-02\\u003cbr\\u003eNodes: 4\\u003cbr\\u003eFaithfulness: 0.48\",\"Threshold: 3.36e-02\\u003cbr\\u003eNodes: 3\\u003cbr\\u003eFaithfulness: 0.44\",\"Threshold: 4.83e-02\\u003cbr\\u003eNodes: 3\\u003cbr\\u003eFaithfulness: 0.44\",\"Threshold: 6.95e-02\\u003cbr\\u003eNodes: 3\\u003cbr\\u003eFaithfulness: 0.44\",\"Threshold: 1.00e-01\\u003cbr\\u003eNodes: 2\\u003cbr\\u003eFaithfulness: 0.31\"],\"visible\":false,\"x\":[9.999999747378752e-05,0.00014384498354047537,0.00020691381359938532,0.00029763515340164304,0.00042813323670998216,0.0006158482283353806,0.0008858668152242899,0.001274275011382997,0.0018329806625843048,0.002636650810018182,0.0037926901131868362,0.005455594975501299,0.007847599685192108,0.011288379319012165,0.016237767413258553,0.023357214406132698,0.03359818458557129,0.04832930117845535,0.0695192813873291,0.10000000149011612],\"y\":[1.004178762435913,0.9919173717498779,0.9884584546089172,1.013144850730896,0.9981592297554016,0.9999110102653503,1.0367027521133423,0.9479184746742249,0.8781127333641052,0.8271517753601074,0.7721385359764099,0.696350634098053,0.5754430294036865,0.5540372133255005,0.5540372133255005,0.4828287661075592,0.43840691447257996,0.43840691447257996,0.43840691447257996,0.30523788928985596],\"type\":\"scatter\",\"xaxis\":\"x2\",\"yaxis\":\"y2\"},{\"hoverinfo\":\"text\",\"marker\":{\"color\":\"blue\"},\"mode\":\"markers\",\"name\":\"features layer 4 (#nodes)\",\"text\":[\"Threshold: 1.00e-04\\u003cbr\\u003eNodes: 1555\\u003cbr\\u003eFaithfulness: 0.99\",\"Threshold: 1.44e-04\\u003cbr\\u003eNodes: 1263\\u003cbr\\u003eFaithfulness: 1.00\",\"Threshold: 2.07e-04\\u003cbr\\u003eNodes: 1000\\u003cbr\\u003eFaithfulness: 1.00\",\"Threshold: 2.98e-04\\u003cbr\\u003eNodes: 731\\u003cbr\\u003eFaithfulness: 0.95\",\"Threshold: 4.28e-04\\u003cbr\\u003eNodes: 506\\u003cbr\\u003eFaithfulness: 0.97\",\"Threshold: 6.16e-04\\u003cbr\\u003eNodes: 331\\u003cbr\\u003eFaithfulness: 0.97\",\"Threshold: 8.86e-04\\u003cbr\\u003eNodes: 216\\u003cbr\\u003eFaithfulness: 0.95\",\"Threshold: 1.27e-03\\u003cbr\\u003eNodes: 139\\u003cbr\\u003eFaithfulness: 0.97\",\"Threshold: 1.83e-03\\u003cbr\\u003eNodes: 86\\u003cbr\\u003eFaithfulness: 0.92\",\"Threshold: 2.64e-03\\u003cbr\\u003eNodes: 48\\u003cbr\\u003eFaithfulness: 0.87\",\"Threshold: 3.79e-03\\u003cbr\\u003eNodes: 35\\u003cbr\\u003eFaithfulness: 0.84\",\"Threshold: 5.46e-03\\u003cbr\\u003eNodes: 26\\u003cbr\\u003eFaithfulness: 0.83\",\"Threshold: 7.85e-03\\u003cbr\\u003eNodes: 18\\u003cbr\\u003eFaithfulness: 0.82\",\"Threshold: 1.13e-02\\u003cbr\\u003eNodes: 15\\u003cbr\\u003eFaithfulness: 0.78\",\"Threshold: 1.62e-02\\u003cbr\\u003eNodes: 9\\u003cbr\\u003eFaithfulness: 0.68\",\"Threshold: 2.34e-02\\u003cbr\\u003eNodes: 8\\u003cbr\\u003eFaithfulness: 0.64\",\"Threshold: 3.36e-02\\u003cbr\\u003eNodes: 6\\u003cbr\\u003eFaithfulness: 0.56\",\"Threshold: 4.83e-02\\u003cbr\\u003eNodes: 6\\u003cbr\\u003eFaithfulness: 0.56\",\"Threshold: 6.95e-02\\u003cbr\\u003eNodes: 6\\u003cbr\\u003eFaithfulness: 0.56\",\"Threshold: 1.00e-01\\u003cbr\\u003eNodes: 6\\u003cbr\\u003eFaithfulness: 0.56\"],\"visible\":false,\"x\":[1555,1263,1000,731,506,331,216,139,86,48,35,26,18,15,9,8,6,6,6,6],\"y\":[0.9923796653747559,0.9955964684486389,1.0047521591186523,0.9486091732978821,0.9680903553962708,0.969141960144043,0.9535920023918152,0.9745239615440369,0.9194833040237427,0.8716748356819153,0.8443262577056885,0.831638753414154,0.8189457058906555,0.7835605144500732,0.6803682446479797,0.6440381407737732,0.5615981817245483,0.5615981817245483,0.5615981817245483,0.5615981817245483],\"type\":\"scatter\",\"xaxis\":\"x\",\"yaxis\":\"y\"},{\"hoverinfo\":\"text\",\"marker\":{\"color\":\"blue\"},\"mode\":\"markers\",\"name\":\"features layer 4 (thresh)\",\"text\":[\"Threshold: 1.00e-04\\u003cbr\\u003eNodes: 1555\\u003cbr\\u003eFaithfulness: 0.99\",\"Threshold: 1.44e-04\\u003cbr\\u003eNodes: 1263\\u003cbr\\u003eFaithfulness: 1.00\",\"Threshold: 2.07e-04\\u003cbr\\u003eNodes: 1000\\u003cbr\\u003eFaithfulness: 1.00\",\"Threshold: 2.98e-04\\u003cbr\\u003eNodes: 731\\u003cbr\\u003eFaithfulness: 0.95\",\"Threshold: 4.28e-04\\u003cbr\\u003eNodes: 506\\u003cbr\\u003eFaithfulness: 0.97\",\"Threshold: 6.16e-04\\u003cbr\\u003eNodes: 331\\u003cbr\\u003eFaithfulness: 0.97\",\"Threshold: 8.86e-04\\u003cbr\\u003eNodes: 216\\u003cbr\\u003eFaithfulness: 0.95\",\"Threshold: 1.27e-03\\u003cbr\\u003eNodes: 139\\u003cbr\\u003eFaithfulness: 0.97\",\"Threshold: 1.83e-03\\u003cbr\\u003eNodes: 86\\u003cbr\\u003eFaithfulness: 0.92\",\"Threshold: 2.64e-03\\u003cbr\\u003eNodes: 48\\u003cbr\\u003eFaithfulness: 0.87\",\"Threshold: 3.79e-03\\u003cbr\\u003eNodes: 35\\u003cbr\\u003eFaithfulness: 0.84\",\"Threshold: 5.46e-03\\u003cbr\\u003eNodes: 26\\u003cbr\\u003eFaithfulness: 0.83\",\"Threshold: 7.85e-03\\u003cbr\\u003eNodes: 18\\u003cbr\\u003eFaithfulness: 0.82\",\"Threshold: 1.13e-02\\u003cbr\\u003eNodes: 15\\u003cbr\\u003eFaithfulness: 0.78\",\"Threshold: 1.62e-02\\u003cbr\\u003eNodes: 9\\u003cbr\\u003eFaithfulness: 0.68\",\"Threshold: 2.34e-02\\u003cbr\\u003eNodes: 8\\u003cbr\\u003eFaithfulness: 0.64\",\"Threshold: 3.36e-02\\u003cbr\\u003eNodes: 6\\u003cbr\\u003eFaithfulness: 0.56\",\"Threshold: 4.83e-02\\u003cbr\\u003eNodes: 6\\u003cbr\\u003eFaithfulness: 0.56\",\"Threshold: 6.95e-02\\u003cbr\\u003eNodes: 6\\u003cbr\\u003eFaithfulness: 0.56\",\"Threshold: 1.00e-01\\u003cbr\\u003eNodes: 6\\u003cbr\\u003eFaithfulness: 0.56\"],\"visible\":false,\"x\":[9.999999747378752e-05,0.00014384498354047537,0.00020691381359938532,0.00029763515340164304,0.00042813323670998216,0.0006158482283353806,0.0008858668152242899,0.001274275011382997,0.0018329806625843048,0.002636650810018182,0.0037926901131868362,0.005455594975501299,0.007847599685192108,0.011288379319012165,0.016237767413258553,0.023357214406132698,0.03359818458557129,0.04832930117845535,0.0695192813873291,0.10000000149011612],\"y\":[0.9923796653747559,0.9955964684486389,1.0047521591186523,0.9486091732978821,0.9680903553962708,0.969141960144043,0.9535920023918152,0.9745239615440369,0.9194833040237427,0.8716748356819153,0.8443262577056885,0.831638753414154,0.8189457058906555,0.7835605144500732,0.6803682446479797,0.6440381407737732,0.5615981817245483,0.5615981817245483,0.5615981817245483,0.5615981817245483],\"type\":\"scatter\",\"xaxis\":\"x2\",\"yaxis\":\"y2\"},{\"hoverinfo\":\"text\",\"marker\":{\"color\":\"blue\"},\"mode\":\"markers\",\"name\":\"features layer 5 (#nodes)\",\"text\":[\"Threshold: 1.00e-04\\u003cbr\\u003eNodes: 1248\\u003cbr\\u003eFaithfulness: 0.99\",\"Threshold: 1.44e-04\\u003cbr\\u003eNodes: 1051\\u003cbr\\u003eFaithfulness: 0.99\",\"Threshold: 2.07e-04\\u003cbr\\u003eNodes: 826\\u003cbr\\u003eFaithfulness: 0.97\",\"Threshold: 2.98e-04\\u003cbr\\u003eNodes: 616\\u003cbr\\u003eFaithfulness: 0.96\",\"Threshold: 4.28e-04\\u003cbr\\u003eNodes: 445\\u003cbr\\u003eFaithfulness: 0.97\",\"Threshold: 6.16e-04\\u003cbr\\u003eNodes: 321\\u003cbr\\u003eFaithfulness: 0.98\",\"Threshold: 8.86e-04\\u003cbr\\u003eNodes: 222\\u003cbr\\u003eFaithfulness: 0.96\",\"Threshold: 1.27e-03\\u003cbr\\u003eNodes: 158\\u003cbr\\u003eFaithfulness: 0.94\",\"Threshold: 1.83e-03\\u003cbr\\u003eNodes: 112\\u003cbr\\u003eFaithfulness: 0.92\",\"Threshold: 2.64e-03\\u003cbr\\u003eNodes: 85\\u003cbr\\u003eFaithfulness: 0.90\",\"Threshold: 3.79e-03\\u003cbr\\u003eNodes: 67\\u003cbr\\u003eFaithfulness: 0.89\",\"Threshold: 5.46e-03\\u003cbr\\u003eNodes: 51\\u003cbr\\u003eFaithfulness: 0.87\",\"Threshold: 7.85e-03\\u003cbr\\u003eNodes: 37\\u003cbr\\u003eFaithfulness: 0.83\",\"Threshold: 1.13e-02\\u003cbr\\u003eNodes: 29\\u003cbr\\u003eFaithfulness: 0.84\",\"Threshold: 1.62e-02\\u003cbr\\u003eNodes: 21\\u003cbr\\u003eFaithfulness: 0.78\",\"Threshold: 2.34e-02\\u003cbr\\u003eNodes: 19\\u003cbr\\u003eFaithfulness: 0.84\",\"Threshold: 3.36e-02\\u003cbr\\u003eNodes: 13\\u003cbr\\u003eFaithfulness: 0.75\",\"Threshold: 4.83e-02\\u003cbr\\u003eNodes: 10\\u003cbr\\u003eFaithfulness: 0.66\",\"Threshold: 6.95e-02\\u003cbr\\u003eNodes: 9\\u003cbr\\u003eFaithfulness: 0.62\",\"Threshold: 1.00e-01\\u003cbr\\u003eNodes: 8\\u003cbr\\u003eFaithfulness: 0.56\"],\"visible\":false,\"x\":[1248,1051,826,616,445,321,222,158,112,85,67,51,37,29,21,19,13,10,9,8],\"y\":[0.9871256351470947,0.9851469397544861,0.9717732071876526,0.9619593024253845,0.9710425138473511,0.9785776734352112,0.9639885425567627,0.9386413097381592,0.9154319167137146,0.9045109748840332,0.8899545073509216,0.871690034866333,0.8341630101203918,0.8429930210113525,0.7840797901153564,0.8423274755477905,0.7467551827430725,0.6570684313774109,0.621798574924469,0.5597345232963562],\"type\":\"scatter\",\"xaxis\":\"x\",\"yaxis\":\"y\"},{\"hoverinfo\":\"text\",\"marker\":{\"color\":\"blue\"},\"mode\":\"markers\",\"name\":\"features layer 5 (thresh)\",\"text\":[\"Threshold: 1.00e-04\\u003cbr\\u003eNodes: 1248\\u003cbr\\u003eFaithfulness: 0.99\",\"Threshold: 1.44e-04\\u003cbr\\u003eNodes: 1051\\u003cbr\\u003eFaithfulness: 0.99\",\"Threshold: 2.07e-04\\u003cbr\\u003eNodes: 826\\u003cbr\\u003eFaithfulness: 0.97\",\"Threshold: 2.98e-04\\u003cbr\\u003eNodes: 616\\u003cbr\\u003eFaithfulness: 0.96\",\"Threshold: 4.28e-04\\u003cbr\\u003eNodes: 445\\u003cbr\\u003eFaithfulness: 0.97\",\"Threshold: 6.16e-04\\u003cbr\\u003eNodes: 321\\u003cbr\\u003eFaithfulness: 0.98\",\"Threshold: 8.86e-04\\u003cbr\\u003eNodes: 222\\u003cbr\\u003eFaithfulness: 0.96\",\"Threshold: 1.27e-03\\u003cbr\\u003eNodes: 158\\u003cbr\\u003eFaithfulness: 0.94\",\"Threshold: 1.83e-03\\u003cbr\\u003eNodes: 112\\u003cbr\\u003eFaithfulness: 0.92\",\"Threshold: 2.64e-03\\u003cbr\\u003eNodes: 85\\u003cbr\\u003eFaithfulness: 0.90\",\"Threshold: 3.79e-03\\u003cbr\\u003eNodes: 67\\u003cbr\\u003eFaithfulness: 0.89\",\"Threshold: 5.46e-03\\u003cbr\\u003eNodes: 51\\u003cbr\\u003eFaithfulness: 0.87\",\"Threshold: 7.85e-03\\u003cbr\\u003eNodes: 37\\u003cbr\\u003eFaithfulness: 0.83\",\"Threshold: 1.13e-02\\u003cbr\\u003eNodes: 29\\u003cbr\\u003eFaithfulness: 0.84\",\"Threshold: 1.62e-02\\u003cbr\\u003eNodes: 21\\u003cbr\\u003eFaithfulness: 0.78\",\"Threshold: 2.34e-02\\u003cbr\\u003eNodes: 19\\u003cbr\\u003eFaithfulness: 0.84\",\"Threshold: 3.36e-02\\u003cbr\\u003eNodes: 13\\u003cbr\\u003eFaithfulness: 0.75\",\"Threshold: 4.83e-02\\u003cbr\\u003eNodes: 10\\u003cbr\\u003eFaithfulness: 0.66\",\"Threshold: 6.95e-02\\u003cbr\\u003eNodes: 9\\u003cbr\\u003eFaithfulness: 0.62\",\"Threshold: 1.00e-01\\u003cbr\\u003eNodes: 8\\u003cbr\\u003eFaithfulness: 0.56\"],\"visible\":false,\"x\":[9.999999747378752e-05,0.00014384498354047537,0.00020691381359938532,0.00029763515340164304,0.00042813323670998216,0.0006158482283353806,0.0008858668152242899,0.001274275011382997,0.0018329806625843048,0.002636650810018182,0.0037926901131868362,0.005455594975501299,0.007847599685192108,0.011288379319012165,0.016237767413258553,0.023357214406132698,0.03359818458557129,0.04832930117845535,0.0695192813873291,0.10000000149011612],\"y\":[0.9871256351470947,0.9851469397544861,0.9717732071876526,0.9619593024253845,0.9710425138473511,0.9785776734352112,0.9639885425567627,0.9386413097381592,0.9154319167137146,0.9045109748840332,0.8899545073509216,0.871690034866333,0.8341630101203918,0.8429930210113525,0.7840797901153564,0.8423274755477905,0.7467551827430725,0.6570684313774109,0.621798574924469,0.5597345232963562],\"type\":\"scatter\",\"xaxis\":\"x2\",\"yaxis\":\"y2\"},{\"hoverinfo\":\"text\",\"marker\":{\"color\":\"turquoise\"},\"mode\":\"markers\",\"name\":\"features_wo_resids layer 0 (#nodes)\",\"text\":[\"Threshold: 1.00e-04\\u003cbr\\u003eNodes: 890\\u003cbr\\u003eFaithfulness: 1.05\",\"Threshold: 1.44e-04\\u003cbr\\u003eNodes: 766\\u003cbr\\u003eFaithfulness: 1.05\",\"Threshold: 2.07e-04\\u003cbr\\u003eNodes: 645\\u003cbr\\u003eFaithfulness: 1.06\",\"Threshold: 2.98e-04\\u003cbr\\u003eNodes: 515\\u003cbr\\u003eFaithfulness: 1.06\",\"Threshold: 4.28e-04\\u003cbr\\u003eNodes: 398\\u003cbr\\u003eFaithfulness: 1.05\",\"Threshold: 6.16e-04\\u003cbr\\u003eNodes: 288\\u003cbr\\u003eFaithfulness: 1.05\",\"Threshold: 8.86e-04\\u003cbr\\u003eNodes: 217\\u003cbr\\u003eFaithfulness: 1.06\",\"Threshold: 1.27e-03\\u003cbr\\u003eNodes: 139\\u003cbr\\u003eFaithfulness: 1.05\",\"Threshold: 1.83e-03\\u003cbr\\u003eNodes: 114\\u003cbr\\u003eFaithfulness: 1.04\",\"Threshold: 2.64e-03\\u003cbr\\u003eNodes: 85\\u003cbr\\u003eFaithfulness: 1.04\",\"Threshold: 3.79e-03\\u003cbr\\u003eNodes: 61\\u003cbr\\u003eFaithfulness: 1.03\",\"Threshold: 5.46e-03\\u003cbr\\u003eNodes: 50\\u003cbr\\u003eFaithfulness: 1.04\",\"Threshold: 7.85e-03\\u003cbr\\u003eNodes: 38\\u003cbr\\u003eFaithfulness: 1.03\",\"Threshold: 1.13e-02\\u003cbr\\u003eNodes: 35\\u003cbr\\u003eFaithfulness: 1.01\",\"Threshold: 1.62e-02\\u003cbr\\u003eNodes: 25\\u003cbr\\u003eFaithfulness: 0.88\",\"Threshold: 2.34e-02\\u003cbr\\u003eNodes: 21\\u003cbr\\u003eFaithfulness: 0.84\",\"Threshold: 3.36e-02\\u003cbr\\u003eNodes: 19\\u003cbr\\u003eFaithfulness: 0.78\",\"Threshold: 4.83e-02\\u003cbr\\u003eNodes: 15\\u003cbr\\u003eFaithfulness: 0.68\",\"Threshold: 6.95e-02\\u003cbr\\u003eNodes: 14\\u003cbr\\u003eFaithfulness: 0.66\",\"Threshold: 1.00e-01\\u003cbr\\u003eNodes: 9\\u003cbr\\u003eFaithfulness: 0.50\"],\"visible\":true,\"x\":[890,766,645,515,398,288,217,139,114,85,61,50,38,35,25,21,19,15,14,9],\"y\":[1.048734188079834,1.0492404699325562,1.0556529760360718,1.0592938661575317,1.0482019186019897,1.0531120300292969,1.0600403547286987,1.0519675016403198,1.0430420637130737,1.0404280424118042,1.0348279476165771,1.0410709381103516,1.0259590148925781,1.0141512155532837,0.8769802451133728,0.8377038836479187,0.7802351117134094,0.6825667023658752,0.6619205474853516,0.4999140202999115],\"type\":\"scatter\",\"xaxis\":\"x\",\"yaxis\":\"y\"},{\"hoverinfo\":\"text\",\"marker\":{\"color\":\"turquoise\"},\"mode\":\"markers\",\"name\":\"features_wo_resids layer 0 (thresh)\",\"text\":[\"Threshold: 1.00e-04\\u003cbr\\u003eNodes: 890\\u003cbr\\u003eFaithfulness: 1.05\",\"Threshold: 1.44e-04\\u003cbr\\u003eNodes: 766\\u003cbr\\u003eFaithfulness: 1.05\",\"Threshold: 2.07e-04\\u003cbr\\u003eNodes: 645\\u003cbr\\u003eFaithfulness: 1.06\",\"Threshold: 2.98e-04\\u003cbr\\u003eNodes: 515\\u003cbr\\u003eFaithfulness: 1.06\",\"Threshold: 4.28e-04\\u003cbr\\u003eNodes: 398\\u003cbr\\u003eFaithfulness: 1.05\",\"Threshold: 6.16e-04\\u003cbr\\u003eNodes: 288\\u003cbr\\u003eFaithfulness: 1.05\",\"Threshold: 8.86e-04\\u003cbr\\u003eNodes: 217\\u003cbr\\u003eFaithfulness: 1.06\",\"Threshold: 1.27e-03\\u003cbr\\u003eNodes: 139\\u003cbr\\u003eFaithfulness: 1.05\",\"Threshold: 1.83e-03\\u003cbr\\u003eNodes: 114\\u003cbr\\u003eFaithfulness: 1.04\",\"Threshold: 2.64e-03\\u003cbr\\u003eNodes: 85\\u003cbr\\u003eFaithfulness: 1.04\",\"Threshold: 3.79e-03\\u003cbr\\u003eNodes: 61\\u003cbr\\u003eFaithfulness: 1.03\",\"Threshold: 5.46e-03\\u003cbr\\u003eNodes: 50\\u003cbr\\u003eFaithfulness: 1.04\",\"Threshold: 7.85e-03\\u003cbr\\u003eNodes: 38\\u003cbr\\u003eFaithfulness: 1.03\",\"Threshold: 1.13e-02\\u003cbr\\u003eNodes: 35\\u003cbr\\u003eFaithfulness: 1.01\",\"Threshold: 1.62e-02\\u003cbr\\u003eNodes: 25\\u003cbr\\u003eFaithfulness: 0.88\",\"Threshold: 2.34e-02\\u003cbr\\u003eNodes: 21\\u003cbr\\u003eFaithfulness: 0.84\",\"Threshold: 3.36e-02\\u003cbr\\u003eNodes: 19\\u003cbr\\u003eFaithfulness: 0.78\",\"Threshold: 4.83e-02\\u003cbr\\u003eNodes: 15\\u003cbr\\u003eFaithfulness: 0.68\",\"Threshold: 6.95e-02\\u003cbr\\u003eNodes: 14\\u003cbr\\u003eFaithfulness: 0.66\",\"Threshold: 1.00e-01\\u003cbr\\u003eNodes: 9\\u003cbr\\u003eFaithfulness: 0.50\"],\"visible\":true,\"x\":[9.999999747378752e-05,0.00014384498354047537,0.00020691381359938532,0.00029763515340164304,0.00042813323670998216,0.0006158482283353806,0.0008858668152242899,0.001274275011382997,0.0018329806625843048,0.002636650810018182,0.0037926901131868362,0.005455594975501299,0.007847599685192108,0.011288379319012165,0.016237767413258553,0.023357214406132698,0.03359818458557129,0.04832930117845535,0.0695192813873291,0.10000000149011612],\"y\":[1.048734188079834,1.0492404699325562,1.0556529760360718,1.0592938661575317,1.0482019186019897,1.0531120300292969,1.0600403547286987,1.0519675016403198,1.0430420637130737,1.0404280424118042,1.0348279476165771,1.0410709381103516,1.0259590148925781,1.0141512155532837,0.8769802451133728,0.8377038836479187,0.7802351117134094,0.6825667023658752,0.6619205474853516,0.4999140202999115],\"type\":\"scatter\",\"xaxis\":\"x2\",\"yaxis\":\"y2\"},{\"hoverinfo\":\"text\",\"marker\":{\"color\":\"turquoise\"},\"mode\":\"markers\",\"name\":\"features_wo_resids layer 1 (#nodes)\",\"text\":[\"Threshold: 1.00e-04\\u003cbr\\u003eNodes: 1366\\u003cbr\\u003eFaithfulness: 0.79\",\"Threshold: 1.44e-04\\u003cbr\\u003eNodes: 1105\\u003cbr\\u003eFaithfulness: 0.78\",\"Threshold: 2.07e-04\\u003cbr\\u003eNodes: 821\\u003cbr\\u003eFaithfulness: 0.89\",\"Threshold: 2.98e-04\\u003cbr\\u003eNodes: 596\\u003cbr\\u003eFaithfulness: 0.88\",\"Threshold: 4.28e-04\\u003cbr\\u003eNodes: 443\\u003cbr\\u003eFaithfulness: 0.78\",\"Threshold: 6.16e-04\\u003cbr\\u003eNodes: 301\\u003cbr\\u003eFaithfulness: 1.01\",\"Threshold: 8.86e-04\\u003cbr\\u003eNodes: 199\\u003cbr\\u003eFaithfulness: 0.98\",\"Threshold: 1.27e-03\\u003cbr\\u003eNodes: 131\\u003cbr\\u003eFaithfulness: 0.92\",\"Threshold: 1.83e-03\\u003cbr\\u003eNodes: 88\\u003cbr\\u003eFaithfulness: 1.05\",\"Threshold: 2.64e-03\\u003cbr\\u003eNodes: 58\\u003cbr\\u003eFaithfulness: 1.06\",\"Threshold: 3.79e-03\\u003cbr\\u003eNodes: 32\\u003cbr\\u003eFaithfulness: 1.09\",\"Threshold: 5.46e-03\\u003cbr\\u003eNodes: 23\\u003cbr\\u003eFaithfulness: 1.12\",\"Threshold: 7.85e-03\\u003cbr\\u003eNodes: 15\\u003cbr\\u003eFaithfulness: 1.12\",\"Threshold: 1.13e-02\\u003cbr\\u003eNodes: 10\\u003cbr\\u003eFaithfulness: 1.02\",\"Threshold: 1.62e-02\\u003cbr\\u003eNodes: 7\\u003cbr\\u003eFaithfulness: 0.93\",\"Threshold: 2.34e-02\\u003cbr\\u003eNodes: 6\\u003cbr\\u003eFaithfulness: 0.89\",\"Threshold: 3.36e-02\\u003cbr\\u003eNodes: 2\\u003cbr\\u003eFaithfulness: 0.71\",\"Threshold: 4.83e-02\\u003cbr\\u003eNodes: 2\\u003cbr\\u003eFaithfulness: 0.71\",\"Threshold: 6.95e-02\\u003cbr\\u003eNodes: 2\\u003cbr\\u003eFaithfulness: 0.71\",\"Threshold: 1.00e-01\\u003cbr\\u003eNodes: 2\\u003cbr\\u003eFaithfulness: 0.71\"],\"visible\":false,\"x\":[1366,1105,821,596,443,301,199,131,88,58,32,23,15,10,7,6,2,2,2,2],\"y\":[0.7939117550849915,0.7834120392799377,0.8877094388008118,0.8818491101264954,0.7795706391334534,1.0140811204910278,0.9807587265968323,0.9206903576850891,1.0467853546142578,1.0629171133041382,1.0900052785873413,1.1184275150299072,1.1184439659118652,1.0190950632095337,0.9268113970756531,0.8859677910804749,0.7055509090423584,0.7055509090423584,0.7055509090423584,0.7055509090423584],\"type\":\"scatter\",\"xaxis\":\"x\",\"yaxis\":\"y\"},{\"hoverinfo\":\"text\",\"marker\":{\"color\":\"turquoise\"},\"mode\":\"markers\",\"name\":\"features_wo_resids layer 1 (thresh)\",\"text\":[\"Threshold: 1.00e-04\\u003cbr\\u003eNodes: 1366\\u003cbr\\u003eFaithfulness: 0.79\",\"Threshold: 1.44e-04\\u003cbr\\u003eNodes: 1105\\u003cbr\\u003eFaithfulness: 0.78\",\"Threshold: 2.07e-04\\u003cbr\\u003eNodes: 821\\u003cbr\\u003eFaithfulness: 0.89\",\"Threshold: 2.98e-04\\u003cbr\\u003eNodes: 596\\u003cbr\\u003eFaithfulness: 0.88\",\"Threshold: 4.28e-04\\u003cbr\\u003eNodes: 443\\u003cbr\\u003eFaithfulness: 0.78\",\"Threshold: 6.16e-04\\u003cbr\\u003eNodes: 301\\u003cbr\\u003eFaithfulness: 1.01\",\"Threshold: 8.86e-04\\u003cbr\\u003eNodes: 199\\u003cbr\\u003eFaithfulness: 0.98\",\"Threshold: 1.27e-03\\u003cbr\\u003eNodes: 131\\u003cbr\\u003eFaithfulness: 0.92\",\"Threshold: 1.83e-03\\u003cbr\\u003eNodes: 88\\u003cbr\\u003eFaithfulness: 1.05\",\"Threshold: 2.64e-03\\u003cbr\\u003eNodes: 58\\u003cbr\\u003eFaithfulness: 1.06\",\"Threshold: 3.79e-03\\u003cbr\\u003eNodes: 32\\u003cbr\\u003eFaithfulness: 1.09\",\"Threshold: 5.46e-03\\u003cbr\\u003eNodes: 23\\u003cbr\\u003eFaithfulness: 1.12\",\"Threshold: 7.85e-03\\u003cbr\\u003eNodes: 15\\u003cbr\\u003eFaithfulness: 1.12\",\"Threshold: 1.13e-02\\u003cbr\\u003eNodes: 10\\u003cbr\\u003eFaithfulness: 1.02\",\"Threshold: 1.62e-02\\u003cbr\\u003eNodes: 7\\u003cbr\\u003eFaithfulness: 0.93\",\"Threshold: 2.34e-02\\u003cbr\\u003eNodes: 6\\u003cbr\\u003eFaithfulness: 0.89\",\"Threshold: 3.36e-02\\u003cbr\\u003eNodes: 2\\u003cbr\\u003eFaithfulness: 0.71\",\"Threshold: 4.83e-02\\u003cbr\\u003eNodes: 2\\u003cbr\\u003eFaithfulness: 0.71\",\"Threshold: 6.95e-02\\u003cbr\\u003eNodes: 2\\u003cbr\\u003eFaithfulness: 0.71\",\"Threshold: 1.00e-01\\u003cbr\\u003eNodes: 2\\u003cbr\\u003eFaithfulness: 0.71\"],\"visible\":false,\"x\":[9.999999747378752e-05,0.00014384498354047537,0.00020691381359938532,0.00029763515340164304,0.00042813323670998216,0.0006158482283353806,0.0008858668152242899,0.001274275011382997,0.0018329806625843048,0.002636650810018182,0.0037926901131868362,0.005455594975501299,0.007847599685192108,0.011288379319012165,0.016237767413258553,0.023357214406132698,0.03359818458557129,0.04832930117845535,0.0695192813873291,0.10000000149011612],\"y\":[0.7939117550849915,0.7834120392799377,0.8877094388008118,0.8818491101264954,0.7795706391334534,1.0140811204910278,0.9807587265968323,0.9206903576850891,1.0467853546142578,1.0629171133041382,1.0900052785873413,1.1184275150299072,1.1184439659118652,1.0190950632095337,0.9268113970756531,0.8859677910804749,0.7055509090423584,0.7055509090423584,0.7055509090423584,0.7055509090423584],\"type\":\"scatter\",\"xaxis\":\"x2\",\"yaxis\":\"y2\"},{\"hoverinfo\":\"text\",\"marker\":{\"color\":\"turquoise\"},\"mode\":\"markers\",\"name\":\"features_wo_resids layer 2 (#nodes)\",\"text\":[\"Threshold: 1.00e-04\\u003cbr\\u003eNodes: 1601\\u003cbr\\u003eFaithfulness: 0.71\",\"Threshold: 1.44e-04\\u003cbr\\u003eNodes: 1282\\u003cbr\\u003eFaithfulness: 0.68\",\"Threshold: 2.07e-04\\u003cbr\\u003eNodes: 1020\\u003cbr\\u003eFaithfulness: 0.69\",\"Threshold: 2.98e-04\\u003cbr\\u003eNodes: 780\\u003cbr\\u003eFaithfulness: 0.68\",\"Threshold: 4.28e-04\\u003cbr\\u003eNodes: 555\\u003cbr\\u003eFaithfulness: 0.68\",\"Threshold: 6.16e-04\\u003cbr\\u003eNodes: 395\\u003cbr\\u003eFaithfulness: 0.64\",\"Threshold: 8.86e-04\\u003cbr\\u003eNodes: 256\\u003cbr\\u003eFaithfulness: 0.65\",\"Threshold: 1.27e-03\\u003cbr\\u003eNodes: 171\\u003cbr\\u003eFaithfulness: 0.62\",\"Threshold: 1.83e-03\\u003cbr\\u003eNodes: 114\\u003cbr\\u003eFaithfulness: 0.60\",\"Threshold: 2.64e-03\\u003cbr\\u003eNodes: 72\\u003cbr\\u003eFaithfulness: 0.58\",\"Threshold: 3.79e-03\\u003cbr\\u003eNodes: 41\\u003cbr\\u003eFaithfulness: 0.53\",\"Threshold: 5.46e-03\\u003cbr\\u003eNodes: 25\\u003cbr\\u003eFaithfulness: 0.49\",\"Threshold: 7.85e-03\\u003cbr\\u003eNodes: 15\\u003cbr\\u003eFaithfulness: 0.46\",\"Threshold: 1.13e-02\\u003cbr\\u003eNodes: 9\\u003cbr\\u003eFaithfulness: 0.44\",\"Threshold: 1.62e-02\\u003cbr\\u003eNodes: 8\\u003cbr\\u003eFaithfulness: 0.44\",\"Threshold: 2.34e-02\\u003cbr\\u003eNodes: 4\\u003cbr\\u003eFaithfulness: 0.40\",\"Threshold: 3.36e-02\\u003cbr\\u003eNodes: 3\\u003cbr\\u003eFaithfulness: 0.37\",\"Threshold: 4.83e-02\\u003cbr\\u003eNodes: 2\\u003cbr\\u003eFaithfulness: 0.33\",\"Threshold: 6.95e-02\\u003cbr\\u003eNodes: 2\\u003cbr\\u003eFaithfulness: 0.33\",\"Threshold: 1.00e-01\\u003cbr\\u003eNodes: 1\\u003cbr\\u003eFaithfulness: 0.25\"],\"visible\":false,\"x\":[1601,1282,1020,780,555,395,256,171,114,72,41,25,15,9,8,4,3,2,2,1],\"y\":[0.7096912264823914,0.6803233623504639,0.688453733921051,0.6805031299591064,0.6817048788070679,0.6426506042480469,0.6492915153503418,0.6206888556480408,0.5986246466636658,0.5763599276542664,0.5267202258110046,0.494563490152359,0.45916080474853516,0.4371633529663086,0.4363054931163788,0.4018581807613373,0.3742983639240265,0.329065203666687,0.329065203666687,0.25080248713493347],\"type\":\"scatter\",\"xaxis\":\"x\",\"yaxis\":\"y\"},{\"hoverinfo\":\"text\",\"marker\":{\"color\":\"turquoise\"},\"mode\":\"markers\",\"name\":\"features_wo_resids layer 2 (thresh)\",\"text\":[\"Threshold: 1.00e-04\\u003cbr\\u003eNodes: 1601\\u003cbr\\u003eFaithfulness: 0.71\",\"Threshold: 1.44e-04\\u003cbr\\u003eNodes: 1282\\u003cbr\\u003eFaithfulness: 0.68\",\"Threshold: 2.07e-04\\u003cbr\\u003eNodes: 1020\\u003cbr\\u003eFaithfulness: 0.69\",\"Threshold: 2.98e-04\\u003cbr\\u003eNodes: 780\\u003cbr\\u003eFaithfulness: 0.68\",\"Threshold: 4.28e-04\\u003cbr\\u003eNodes: 555\\u003cbr\\u003eFaithfulness: 0.68\",\"Threshold: 6.16e-04\\u003cbr\\u003eNodes: 395\\u003cbr\\u003eFaithfulness: 0.64\",\"Threshold: 8.86e-04\\u003cbr\\u003eNodes: 256\\u003cbr\\u003eFaithfulness: 0.65\",\"Threshold: 1.27e-03\\u003cbr\\u003eNodes: 171\\u003cbr\\u003eFaithfulness: 0.62\",\"Threshold: 1.83e-03\\u003cbr\\u003eNodes: 114\\u003cbr\\u003eFaithfulness: 0.60\",\"Threshold: 2.64e-03\\u003cbr\\u003eNodes: 72\\u003cbr\\u003eFaithfulness: 0.58\",\"Threshold: 3.79e-03\\u003cbr\\u003eNodes: 41\\u003cbr\\u003eFaithfulness: 0.53\",\"Threshold: 5.46e-03\\u003cbr\\u003eNodes: 25\\u003cbr\\u003eFaithfulness: 0.49\",\"Threshold: 7.85e-03\\u003cbr\\u003eNodes: 15\\u003cbr\\u003eFaithfulness: 0.46\",\"Threshold: 1.13e-02\\u003cbr\\u003eNodes: 9\\u003cbr\\u003eFaithfulness: 0.44\",\"Threshold: 1.62e-02\\u003cbr\\u003eNodes: 8\\u003cbr\\u003eFaithfulness: 0.44\",\"Threshold: 2.34e-02\\u003cbr\\u003eNodes: 4\\u003cbr\\u003eFaithfulness: 0.40\",\"Threshold: 3.36e-02\\u003cbr\\u003eNodes: 3\\u003cbr\\u003eFaithfulness: 0.37\",\"Threshold: 4.83e-02\\u003cbr\\u003eNodes: 2\\u003cbr\\u003eFaithfulness: 0.33\",\"Threshold: 6.95e-02\\u003cbr\\u003eNodes: 2\\u003cbr\\u003eFaithfulness: 0.33\",\"Threshold: 1.00e-01\\u003cbr\\u003eNodes: 1\\u003cbr\\u003eFaithfulness: 0.25\"],\"visible\":false,\"x\":[9.999999747378752e-05,0.00014384498354047537,0.00020691381359938532,0.00029763515340164304,0.00042813323670998216,0.0006158482283353806,0.0008858668152242899,0.001274275011382997,0.0018329806625843048,0.002636650810018182,0.0037926901131868362,0.005455594975501299,0.007847599685192108,0.011288379319012165,0.016237767413258553,0.023357214406132698,0.03359818458557129,0.04832930117845535,0.0695192813873291,0.10000000149011612],\"y\":[0.7096912264823914,0.6803233623504639,0.688453733921051,0.6805031299591064,0.6817048788070679,0.6426506042480469,0.6492915153503418,0.6206888556480408,0.5986246466636658,0.5763599276542664,0.5267202258110046,0.494563490152359,0.45916080474853516,0.4371633529663086,0.4363054931163788,0.4018581807613373,0.3742983639240265,0.329065203666687,0.329065203666687,0.25080248713493347],\"type\":\"scatter\",\"xaxis\":\"x2\",\"yaxis\":\"y2\"},{\"hoverinfo\":\"text\",\"marker\":{\"color\":\"turquoise\"},\"mode\":\"markers\",\"name\":\"features_wo_resids layer 3 (#nodes)\",\"text\":[\"Threshold: 1.00e-04\\u003cbr\\u003eNodes: 2063\\u003cbr\\u003eFaithfulness: 1.04\",\"Threshold: 1.44e-04\\u003cbr\\u003eNodes: 1737\\u003cbr\\u003eFaithfulness: 1.02\",\"Threshold: 2.07e-04\\u003cbr\\u003eNodes: 1394\\u003cbr\\u003eFaithfulness: 1.02\",\"Threshold: 2.98e-04\\u003cbr\\u003eNodes: 1036\\u003cbr\\u003eFaithfulness: 1.00\",\"Threshold: 4.28e-04\\u003cbr\\u003eNodes: 740\\u003cbr\\u003eFaithfulness: 0.97\",\"Threshold: 6.16e-04\\u003cbr\\u003eNodes: 525\\u003cbr\\u003eFaithfulness: 0.99\",\"Threshold: 8.86e-04\\u003cbr\\u003eNodes: 344\\u003cbr\\u003eFaithfulness: 1.02\",\"Threshold: 1.27e-03\\u003cbr\\u003eNodes: 215\\u003cbr\\u003eFaithfulness: 0.92\",\"Threshold: 1.83e-03\\u003cbr\\u003eNodes: 129\\u003cbr\\u003eFaithfulness: 0.84\",\"Threshold: 2.64e-03\\u003cbr\\u003eNodes: 73\\u003cbr\\u003eFaithfulness: 0.77\",\"Threshold: 3.79e-03\\u003cbr\\u003eNodes: 34\\u003cbr\\u003eFaithfulness: 0.70\",\"Threshold: 5.46e-03\\u003cbr\\u003eNodes: 18\\u003cbr\\u003eFaithfulness: 0.63\",\"Threshold: 7.85e-03\\u003cbr\\u003eNodes: 9\\u003cbr\\u003eFaithfulness: 0.55\",\"Threshold: 1.13e-02\\u003cbr\\u003eNodes: 5\\u003cbr\\u003eFaithfulness: 0.53\",\"Threshold: 1.62e-02\\u003cbr\\u003eNodes: 5\\u003cbr\\u003eFaithfulness: 0.53\",\"Threshold: 2.34e-02\\u003cbr\\u003eNodes: 3\\u003cbr\\u003eFaithfulness: 0.47\",\"Threshold: 3.36e-02\\u003cbr\\u003eNodes: 2\\u003cbr\\u003eFaithfulness: 0.41\",\"Threshold: 4.83e-02\\u003cbr\\u003eNodes: 2\\u003cbr\\u003eFaithfulness: 0.41\",\"Threshold: 6.95e-02\\u003cbr\\u003eNodes: 2\\u003cbr\\u003eFaithfulness: 0.41\",\"Threshold: 1.00e-01\\u003cbr\\u003eNodes: 1\\u003cbr\\u003eFaithfulness: 0.28\"],\"visible\":false,\"x\":[2063,1737,1394,1036,740,525,344,215,129,73,34,18,9,5,5,3,2,2,2,1],\"y\":[1.0420467853546143,1.017828106880188,1.0175833702087402,0.9950569868087769,0.972960889339447,0.9850443005561829,1.0244042873382568,0.9167971611022949,0.8377136588096619,0.7721460461616516,0.7017835974693298,0.6341525912284851,0.5481070280075073,0.5313847064971924,0.5313847064971924,0.4668411910533905,0.4071519374847412,0.4071519374847412,0.4071519374847412,0.28307509422302246],\"type\":\"scatter\",\"xaxis\":\"x\",\"yaxis\":\"y\"},{\"hoverinfo\":\"text\",\"marker\":{\"color\":\"turquoise\"},\"mode\":\"markers\",\"name\":\"features_wo_resids layer 3 (thresh)\",\"text\":[\"Threshold: 1.00e-04\\u003cbr\\u003eNodes: 2063\\u003cbr\\u003eFaithfulness: 1.04\",\"Threshold: 1.44e-04\\u003cbr\\u003eNodes: 1737\\u003cbr\\u003eFaithfulness: 1.02\",\"Threshold: 2.07e-04\\u003cbr\\u003eNodes: 1394\\u003cbr\\u003eFaithfulness: 1.02\",\"Threshold: 2.98e-04\\u003cbr\\u003eNodes: 1036\\u003cbr\\u003eFaithfulness: 1.00\",\"Threshold: 4.28e-04\\u003cbr\\u003eNodes: 740\\u003cbr\\u003eFaithfulness: 0.97\",\"Threshold: 6.16e-04\\u003cbr\\u003eNodes: 525\\u003cbr\\u003eFaithfulness: 0.99\",\"Threshold: 8.86e-04\\u003cbr\\u003eNodes: 344\\u003cbr\\u003eFaithfulness: 1.02\",\"Threshold: 1.27e-03\\u003cbr\\u003eNodes: 215\\u003cbr\\u003eFaithfulness: 0.92\",\"Threshold: 1.83e-03\\u003cbr\\u003eNodes: 129\\u003cbr\\u003eFaithfulness: 0.84\",\"Threshold: 2.64e-03\\u003cbr\\u003eNodes: 73\\u003cbr\\u003eFaithfulness: 0.77\",\"Threshold: 3.79e-03\\u003cbr\\u003eNodes: 34\\u003cbr\\u003eFaithfulness: 0.70\",\"Threshold: 5.46e-03\\u003cbr\\u003eNodes: 18\\u003cbr\\u003eFaithfulness: 0.63\",\"Threshold: 7.85e-03\\u003cbr\\u003eNodes: 9\\u003cbr\\u003eFaithfulness: 0.55\",\"Threshold: 1.13e-02\\u003cbr\\u003eNodes: 5\\u003cbr\\u003eFaithfulness: 0.53\",\"Threshold: 1.62e-02\\u003cbr\\u003eNodes: 5\\u003cbr\\u003eFaithfulness: 0.53\",\"Threshold: 2.34e-02\\u003cbr\\u003eNodes: 3\\u003cbr\\u003eFaithfulness: 0.47\",\"Threshold: 3.36e-02\\u003cbr\\u003eNodes: 2\\u003cbr\\u003eFaithfulness: 0.41\",\"Threshold: 4.83e-02\\u003cbr\\u003eNodes: 2\\u003cbr\\u003eFaithfulness: 0.41\",\"Threshold: 6.95e-02\\u003cbr\\u003eNodes: 2\\u003cbr\\u003eFaithfulness: 0.41\",\"Threshold: 1.00e-01\\u003cbr\\u003eNodes: 1\\u003cbr\\u003eFaithfulness: 0.28\"],\"visible\":false,\"x\":[9.999999747378752e-05,0.00014384498354047537,0.00020691381359938532,0.00029763515340164304,0.00042813323670998216,0.0006158482283353806,0.0008858668152242899,0.001274275011382997,0.0018329806625843048,0.002636650810018182,0.0037926901131868362,0.005455594975501299,0.007847599685192108,0.011288379319012165,0.016237767413258553,0.023357214406132698,0.03359818458557129,0.04832930117845535,0.0695192813873291,0.10000000149011612],\"y\":[1.0420467853546143,1.017828106880188,1.0175833702087402,0.9950569868087769,0.972960889339447,0.9850443005561829,1.0244042873382568,0.9167971611022949,0.8377136588096619,0.7721460461616516,0.7017835974693298,0.6341525912284851,0.5481070280075073,0.5313847064971924,0.5313847064971924,0.4668411910533905,0.4071519374847412,0.4071519374847412,0.4071519374847412,0.28307509422302246],\"type\":\"scatter\",\"xaxis\":\"x2\",\"yaxis\":\"y2\"},{\"hoverinfo\":\"text\",\"marker\":{\"color\":\"turquoise\"},\"mode\":\"markers\",\"name\":\"features_wo_resids layer 4 (#nodes)\",\"text\":[\"Threshold: 1.00e-04\\u003cbr\\u003eNodes: 1553\\u003cbr\\u003eFaithfulness: 1.08\",\"Threshold: 1.44e-04\\u003cbr\\u003eNodes: 1261\\u003cbr\\u003eFaithfulness: 1.08\",\"Threshold: 2.07e-04\\u003cbr\\u003eNodes: 998\\u003cbr\\u003eFaithfulness: 1.11\",\"Threshold: 2.98e-04\\u003cbr\\u003eNodes: 729\\u003cbr\\u003eFaithfulness: 1.07\",\"Threshold: 4.28e-04\\u003cbr\\u003eNodes: 504\\u003cbr\\u003eFaithfulness: 1.09\",\"Threshold: 6.16e-04\\u003cbr\\u003eNodes: 329\\u003cbr\\u003eFaithfulness: 1.09\",\"Threshold: 8.86e-04\\u003cbr\\u003eNodes: 214\\u003cbr\\u003eFaithfulness: 1.08\",\"Threshold: 1.27e-03\\u003cbr\\u003eNodes: 137\\u003cbr\\u003eFaithfulness: 1.08\",\"Threshold: 1.83e-03\\u003cbr\\u003eNodes: 84\\u003cbr\\u003eFaithfulness: 1.03\",\"Threshold: 2.64e-03\\u003cbr\\u003eNodes: 46\\u003cbr\\u003eFaithfulness: 1.00\",\"Threshold: 3.79e-03\\u003cbr\\u003eNodes: 33\\u003cbr\\u003eFaithfulness: 0.98\",\"Threshold: 5.46e-03\\u003cbr\\u003eNodes: 24\\u003cbr\\u003eFaithfulness: 0.96\",\"Threshold: 7.85e-03\\u003cbr\\u003eNodes: 16\\u003cbr\\u003eFaithfulness: 0.95\",\"Threshold: 1.13e-02\\u003cbr\\u003eNodes: 13\\u003cbr\\u003eFaithfulness: 0.92\",\"Threshold: 1.62e-02\\u003cbr\\u003eNodes: 7\\u003cbr\\u003eFaithfulness: 0.80\",\"Threshold: 2.34e-02\\u003cbr\\u003eNodes: 6\\u003cbr\\u003eFaithfulness: 0.76\",\"Threshold: 3.36e-02\\u003cbr\\u003eNodes: 4\\u003cbr\\u003eFaithfulness: 0.67\",\"Threshold: 4.83e-02\\u003cbr\\u003eNodes: 4\\u003cbr\\u003eFaithfulness: 0.67\",\"Threshold: 6.95e-02\\u003cbr\\u003eNodes: 4\\u003cbr\\u003eFaithfulness: 0.67\",\"Threshold: 1.00e-01\\u003cbr\\u003eNodes: 4\\u003cbr\\u003eFaithfulness: 0.67\"],\"visible\":false,\"x\":[1553,1261,998,729,504,329,214,137,84,46,33,24,16,13,7,6,4,4,4,4],\"y\":[1.0796056985855103,1.0790995359420776,1.1081974506378174,1.0673964023590088,1.0912526845932007,1.0912189483642578,1.0820577144622803,1.0786665678024292,1.0257517099380493,0.9985489845275879,0.976925253868103,0.9560946226119995,0.9522534608840942,0.9192583560943604,0.8027151823043823,0.7597320675849915,0.6713870167732239,0.6713870167732239,0.6713870167732239,0.6713870167732239],\"type\":\"scatter\",\"xaxis\":\"x\",\"yaxis\":\"y\"},{\"hoverinfo\":\"text\",\"marker\":{\"color\":\"turquoise\"},\"mode\":\"markers\",\"name\":\"features_wo_resids layer 4 (thresh)\",\"text\":[\"Threshold: 1.00e-04\\u003cbr\\u003eNodes: 1553\\u003cbr\\u003eFaithfulness: 1.08\",\"Threshold: 1.44e-04\\u003cbr\\u003eNodes: 1261\\u003cbr\\u003eFaithfulness: 1.08\",\"Threshold: 2.07e-04\\u003cbr\\u003eNodes: 998\\u003cbr\\u003eFaithfulness: 1.11\",\"Threshold: 2.98e-04\\u003cbr\\u003eNodes: 729\\u003cbr\\u003eFaithfulness: 1.07\",\"Threshold: 4.28e-04\\u003cbr\\u003eNodes: 504\\u003cbr\\u003eFaithfulness: 1.09\",\"Threshold: 6.16e-04\\u003cbr\\u003eNodes: 329\\u003cbr\\u003eFaithfulness: 1.09\",\"Threshold: 8.86e-04\\u003cbr\\u003eNodes: 214\\u003cbr\\u003eFaithfulness: 1.08\",\"Threshold: 1.27e-03\\u003cbr\\u003eNodes: 137\\u003cbr\\u003eFaithfulness: 1.08\",\"Threshold: 1.83e-03\\u003cbr\\u003eNodes: 84\\u003cbr\\u003eFaithfulness: 1.03\",\"Threshold: 2.64e-03\\u003cbr\\u003eNodes: 46\\u003cbr\\u003eFaithfulness: 1.00\",\"Threshold: 3.79e-03\\u003cbr\\u003eNodes: 33\\u003cbr\\u003eFaithfulness: 0.98\",\"Threshold: 5.46e-03\\u003cbr\\u003eNodes: 24\\u003cbr\\u003eFaithfulness: 0.96\",\"Threshold: 7.85e-03\\u003cbr\\u003eNodes: 16\\u003cbr\\u003eFaithfulness: 0.95\",\"Threshold: 1.13e-02\\u003cbr\\u003eNodes: 13\\u003cbr\\u003eFaithfulness: 0.92\",\"Threshold: 1.62e-02\\u003cbr\\u003eNodes: 7\\u003cbr\\u003eFaithfulness: 0.80\",\"Threshold: 2.34e-02\\u003cbr\\u003eNodes: 6\\u003cbr\\u003eFaithfulness: 0.76\",\"Threshold: 3.36e-02\\u003cbr\\u003eNodes: 4\\u003cbr\\u003eFaithfulness: 0.67\",\"Threshold: 4.83e-02\\u003cbr\\u003eNodes: 4\\u003cbr\\u003eFaithfulness: 0.67\",\"Threshold: 6.95e-02\\u003cbr\\u003eNodes: 4\\u003cbr\\u003eFaithfulness: 0.67\",\"Threshold: 1.00e-01\\u003cbr\\u003eNodes: 4\\u003cbr\\u003eFaithfulness: 0.67\"],\"visible\":false,\"x\":[9.999999747378752e-05,0.00014384498354047537,0.00020691381359938532,0.00029763515340164304,0.00042813323670998216,0.0006158482283353806,0.0008858668152242899,0.001274275011382997,0.0018329806625843048,0.002636650810018182,0.0037926901131868362,0.005455594975501299,0.007847599685192108,0.011288379319012165,0.016237767413258553,0.023357214406132698,0.03359818458557129,0.04832930117845535,0.0695192813873291,0.10000000149011612],\"y\":[1.0796056985855103,1.0790995359420776,1.1081974506378174,1.0673964023590088,1.0912526845932007,1.0912189483642578,1.0820577144622803,1.0786665678024292,1.0257517099380493,0.9985489845275879,0.976925253868103,0.9560946226119995,0.9522534608840942,0.9192583560943604,0.8027151823043823,0.7597320675849915,0.6713870167732239,0.6713870167732239,0.6713870167732239,0.6713870167732239],\"type\":\"scatter\",\"xaxis\":\"x2\",\"yaxis\":\"y2\"},{\"hoverinfo\":\"text\",\"marker\":{\"color\":\"turquoise\"},\"mode\":\"markers\",\"name\":\"features_wo_resids layer 5 (#nodes)\",\"text\":[\"Threshold: 1.00e-04\\u003cbr\\u003eNodes: 1246\\u003cbr\\u003eFaithfulness: 1.16\",\"Threshold: 1.44e-04\\u003cbr\\u003eNodes: 1049\\u003cbr\\u003eFaithfulness: 1.16\",\"Threshold: 2.07e-04\\u003cbr\\u003eNodes: 824\\u003cbr\\u003eFaithfulness: 1.15\",\"Threshold: 2.98e-04\\u003cbr\\u003eNodes: 614\\u003cbr\\u003eFaithfulness: 1.14\",\"Threshold: 4.28e-04\\u003cbr\\u003eNodes: 443\\u003cbr\\u003eFaithfulness: 1.15\",\"Threshold: 6.16e-04\\u003cbr\\u003eNodes: 319\\u003cbr\\u003eFaithfulness: 1.16\",\"Threshold: 8.86e-04\\u003cbr\\u003eNodes: 220\\u003cbr\\u003eFaithfulness: 1.14\",\"Threshold: 1.27e-03\\u003cbr\\u003eNodes: 156\\u003cbr\\u003eFaithfulness: 1.12\",\"Threshold: 1.83e-03\\u003cbr\\u003eNodes: 110\\u003cbr\\u003eFaithfulness: 1.09\",\"Threshold: 2.64e-03\\u003cbr\\u003eNodes: 83\\u003cbr\\u003eFaithfulness: 1.08\",\"Threshold: 3.79e-03\\u003cbr\\u003eNodes: 65\\u003cbr\\u003eFaithfulness: 1.07\",\"Threshold: 5.46e-03\\u003cbr\\u003eNodes: 49\\u003cbr\\u003eFaithfulness: 1.05\",\"Threshold: 7.85e-03\\u003cbr\\u003eNodes: 35\\u003cbr\\u003eFaithfulness: 1.01\",\"Threshold: 1.13e-02\\u003cbr\\u003eNodes: 27\\u003cbr\\u003eFaithfulness: 1.02\",\"Threshold: 1.62e-02\\u003cbr\\u003eNodes: 19\\u003cbr\\u003eFaithfulness: 0.96\",\"Threshold: 2.34e-02\\u003cbr\\u003eNodes: 17\\u003cbr\\u003eFaithfulness: 1.02\",\"Threshold: 3.36e-02\\u003cbr\\u003eNodes: 11\\u003cbr\\u003eFaithfulness: 0.93\",\"Threshold: 4.83e-02\\u003cbr\\u003eNodes: 8\\u003cbr\\u003eFaithfulness: 0.84\",\"Threshold: 6.95e-02\\u003cbr\\u003eNodes: 7\\u003cbr\\u003eFaithfulness: 0.80\",\"Threshold: 1.00e-01\\u003cbr\\u003eNodes: 6\\u003cbr\\u003eFaithfulness: 0.74\"],\"visible\":false,\"x\":[1246,1049,824,614,443,319,220,156,110,83,65,49,35,27,19,17,11,8,7,6],\"y\":[1.1649796962738037,1.1624548435211182,1.149728775024414,1.1399109363555908,1.149638295173645,1.1571444272994995,1.1434706449508667,1.1177688837051392,1.0948668718338013,1.0840580463409424,1.069758415222168,1.0514614582061768,1.0140645503997803,1.0229852199554443,0.9639813899993896,1.0226631164550781,0.9270764589309692,0.8378599882125854,0.8023477792739868,0.7412748336791992],\"type\":\"scatter\",\"xaxis\":\"x\",\"yaxis\":\"y\"},{\"hoverinfo\":\"text\",\"marker\":{\"color\":\"turquoise\"},\"mode\":\"markers\",\"name\":\"features_wo_resids layer 5 (thresh)\",\"text\":[\"Threshold: 1.00e-04\\u003cbr\\u003eNodes: 1246\\u003cbr\\u003eFaithfulness: 1.16\",\"Threshold: 1.44e-04\\u003cbr\\u003eNodes: 1049\\u003cbr\\u003eFaithfulness: 1.16\",\"Threshold: 2.07e-04\\u003cbr\\u003eNodes: 824\\u003cbr\\u003eFaithfulness: 1.15\",\"Threshold: 2.98e-04\\u003cbr\\u003eNodes: 614\\u003cbr\\u003eFaithfulness: 1.14\",\"Threshold: 4.28e-04\\u003cbr\\u003eNodes: 443\\u003cbr\\u003eFaithfulness: 1.15\",\"Threshold: 6.16e-04\\u003cbr\\u003eNodes: 319\\u003cbr\\u003eFaithfulness: 1.16\",\"Threshold: 8.86e-04\\u003cbr\\u003eNodes: 220\\u003cbr\\u003eFaithfulness: 1.14\",\"Threshold: 1.27e-03\\u003cbr\\u003eNodes: 156\\u003cbr\\u003eFaithfulness: 1.12\",\"Threshold: 1.83e-03\\u003cbr\\u003eNodes: 110\\u003cbr\\u003eFaithfulness: 1.09\",\"Threshold: 2.64e-03\\u003cbr\\u003eNodes: 83\\u003cbr\\u003eFaithfulness: 1.08\",\"Threshold: 3.79e-03\\u003cbr\\u003eNodes: 65\\u003cbr\\u003eFaithfulness: 1.07\",\"Threshold: 5.46e-03\\u003cbr\\u003eNodes: 49\\u003cbr\\u003eFaithfulness: 1.05\",\"Threshold: 7.85e-03\\u003cbr\\u003eNodes: 35\\u003cbr\\u003eFaithfulness: 1.01\",\"Threshold: 1.13e-02\\u003cbr\\u003eNodes: 27\\u003cbr\\u003eFaithfulness: 1.02\",\"Threshold: 1.62e-02\\u003cbr\\u003eNodes: 19\\u003cbr\\u003eFaithfulness: 0.96\",\"Threshold: 2.34e-02\\u003cbr\\u003eNodes: 17\\u003cbr\\u003eFaithfulness: 1.02\",\"Threshold: 3.36e-02\\u003cbr\\u003eNodes: 11\\u003cbr\\u003eFaithfulness: 0.93\",\"Threshold: 4.83e-02\\u003cbr\\u003eNodes: 8\\u003cbr\\u003eFaithfulness: 0.84\",\"Threshold: 6.95e-02\\u003cbr\\u003eNodes: 7\\u003cbr\\u003eFaithfulness: 0.80\",\"Threshold: 1.00e-01\\u003cbr\\u003eNodes: 6\\u003cbr\\u003eFaithfulness: 0.74\"],\"visible\":false,\"x\":[9.999999747378752e-05,0.00014384498354047537,0.00020691381359938532,0.00029763515340164304,0.00042813323670998216,0.0006158482283353806,0.0008858668152242899,0.001274275011382997,0.0018329806625843048,0.002636650810018182,0.0037926901131868362,0.005455594975501299,0.007847599685192108,0.011288379319012165,0.016237767413258553,0.023357214406132698,0.03359818458557129,0.04832930117845535,0.0695192813873291,0.10000000149011612],\"y\":[1.1649796962738037,1.1624548435211182,1.149728775024414,1.1399109363555908,1.149638295173645,1.1571444272994995,1.1434706449508667,1.1177688837051392,1.0948668718338013,1.0840580463409424,1.069758415222168,1.0514614582061768,1.0140645503997803,1.0229852199554443,0.9639813899993896,1.0226631164550781,0.9270764589309692,0.8378599882125854,0.8023477792739868,0.7412748336791992],\"type\":\"scatter\",\"xaxis\":\"x2\",\"yaxis\":\"y2\"},{\"hoverinfo\":\"text\",\"marker\":{\"color\":\"red\"},\"mode\":\"markers\",\"name\":\"neurons layer 0 (#nodes)\",\"text\":[\"Threshold: 1.00e-04\\u003cbr\\u003eNodes: 1004\\u003cbr\\u003eFaithfulness: 1.01\",\"Threshold: 1.44e-04\\u003cbr\\u003eNodes: 996\\u003cbr\\u003eFaithfulness: 1.01\",\"Threshold: 2.07e-04\\u003cbr\\u003eNodes: 982\\u003cbr\\u003eFaithfulness: 1.01\",\"Threshold: 2.98e-04\\u003cbr\\u003eNodes: 964\\u003cbr\\u003eFaithfulness: 0.99\",\"Threshold: 4.28e-04\\u003cbr\\u003eNodes: 933\\u003cbr\\u003eFaithfulness: 1.03\",\"Threshold: 6.16e-04\\u003cbr\\u003eNodes: 886\\u003cbr\\u003eFaithfulness: 1.03\",\"Threshold: 8.86e-04\\u003cbr\\u003eNodes: 834\\u003cbr\\u003eFaithfulness: 1.07\",\"Threshold: 1.27e-03\\u003cbr\\u003eNodes: 753\\u003cbr\\u003eFaithfulness: 1.09\",\"Threshold: 1.83e-03\\u003cbr\\u003eNodes: 652\\u003cbr\\u003eFaithfulness: 1.17\",\"Threshold: 2.64e-03\\u003cbr\\u003eNodes: 542\\u003cbr\\u003eFaithfulness: 1.14\",\"Threshold: 3.79e-03\\u003cbr\\u003eNodes: 418\\u003cbr\\u003eFaithfulness: 1.18\",\"Threshold: 5.46e-03\\u003cbr\\u003eNodes: 312\\u003cbr\\u003eFaithfulness: 1.17\",\"Threshold: 7.85e-03\\u003cbr\\u003eNodes: 201\\u003cbr\\u003eFaithfulness: 1.16\",\"Threshold: 1.13e-02\\u003cbr\\u003eNodes: 123\\u003cbr\\u003eFaithfulness: 1.10\",\"Threshold: 1.62e-02\\u003cbr\\u003eNodes: 68\\u003cbr\\u003eFaithfulness: 0.96\",\"Threshold: 2.34e-02\\u003cbr\\u003eNodes: 31\\u003cbr\\u003eFaithfulness: 0.74\",\"Threshold: 3.36e-02\\u003cbr\\u003eNodes: 13\\u003cbr\\u003eFaithfulness: 0.46\",\"Threshold: 4.83e-02\\u003cbr\\u003eNodes: 7\\u003cbr\\u003eFaithfulness: 0.30\",\"Threshold: 6.95e-02\\u003cbr\\u003eNodes: 0\\u003cbr\\u003eFaithfulness: -0.00\",\"Threshold: 1.00e-01\\u003cbr\\u003eNodes: 0\\u003cbr\\u003eFaithfulness: -0.00\"],\"visible\":true,\"x\":[1004,996,982,964,933,886,834,753,652,542,418,312,201,123,68,31,13,7,0,0],\"y\":[1.011767864227295,1.0126227140426636,1.0128629207611084,0.9896027445793152,1.0267950296401978,1.0275298357009888,1.0675292015075684,1.0908507108688354,1.1701972484588623,1.1380610466003418,1.1769089698791504,1.170729398727417,1.156670093536377,1.1025620698928833,0.9581001400947571,0.741653323173523,0.4618174135684967,0.303957998752594,-4.703072136180708e-06,-4.703072136180708e-06],\"type\":\"scatter\",\"xaxis\":\"x\",\"yaxis\":\"y\"},{\"hoverinfo\":\"text\",\"marker\":{\"color\":\"red\"},\"mode\":\"markers\",\"name\":\"neurons layer 0 (thresh)\",\"text\":[\"Threshold: 1.00e-04\\u003cbr\\u003eNodes: 1004\\u003cbr\\u003eFaithfulness: 1.01\",\"Threshold: 1.44e-04\\u003cbr\\u003eNodes: 996\\u003cbr\\u003eFaithfulness: 1.01\",\"Threshold: 2.07e-04\\u003cbr\\u003eNodes: 982\\u003cbr\\u003eFaithfulness: 1.01\",\"Threshold: 2.98e-04\\u003cbr\\u003eNodes: 964\\u003cbr\\u003eFaithfulness: 0.99\",\"Threshold: 4.28e-04\\u003cbr\\u003eNodes: 933\\u003cbr\\u003eFaithfulness: 1.03\",\"Threshold: 6.16e-04\\u003cbr\\u003eNodes: 886\\u003cbr\\u003eFaithfulness: 1.03\",\"Threshold: 8.86e-04\\u003cbr\\u003eNodes: 834\\u003cbr\\u003eFaithfulness: 1.07\",\"Threshold: 1.27e-03\\u003cbr\\u003eNodes: 753\\u003cbr\\u003eFaithfulness: 1.09\",\"Threshold: 1.83e-03\\u003cbr\\u003eNodes: 652\\u003cbr\\u003eFaithfulness: 1.17\",\"Threshold: 2.64e-03\\u003cbr\\u003eNodes: 542\\u003cbr\\u003eFaithfulness: 1.14\",\"Threshold: 3.79e-03\\u003cbr\\u003eNodes: 418\\u003cbr\\u003eFaithfulness: 1.18\",\"Threshold: 5.46e-03\\u003cbr\\u003eNodes: 312\\u003cbr\\u003eFaithfulness: 1.17\",\"Threshold: 7.85e-03\\u003cbr\\u003eNodes: 201\\u003cbr\\u003eFaithfulness: 1.16\",\"Threshold: 1.13e-02\\u003cbr\\u003eNodes: 123\\u003cbr\\u003eFaithfulness: 1.10\",\"Threshold: 1.62e-02\\u003cbr\\u003eNodes: 68\\u003cbr\\u003eFaithfulness: 0.96\",\"Threshold: 2.34e-02\\u003cbr\\u003eNodes: 31\\u003cbr\\u003eFaithfulness: 0.74\",\"Threshold: 3.36e-02\\u003cbr\\u003eNodes: 13\\u003cbr\\u003eFaithfulness: 0.46\",\"Threshold: 4.83e-02\\u003cbr\\u003eNodes: 7\\u003cbr\\u003eFaithfulness: 0.30\",\"Threshold: 6.95e-02\\u003cbr\\u003eNodes: 0\\u003cbr\\u003eFaithfulness: -0.00\",\"Threshold: 1.00e-01\\u003cbr\\u003eNodes: 0\\u003cbr\\u003eFaithfulness: -0.00\"],\"visible\":true,\"x\":[9.999999747378752e-05,0.00014384498354047537,0.00020691381359938532,0.00029763515340164304,0.00042813323670998216,0.0006158482283353806,0.0008858668152242899,0.001274275011382997,0.0018329806625843048,0.002636650810018182,0.0037926901131868362,0.005455594975501299,0.007847599685192108,0.011288379319012165,0.016237767413258553,0.023357214406132698,0.03359818458557129,0.04832930117845535,0.0695192813873291,0.10000000149011612],\"y\":[1.011767864227295,1.0126227140426636,1.0128629207611084,0.9896027445793152,1.0267950296401978,1.0275298357009888,1.0675292015075684,1.0908507108688354,1.1701972484588623,1.1380610466003418,1.1769089698791504,1.170729398727417,1.156670093536377,1.1025620698928833,0.9581001400947571,0.741653323173523,0.4618174135684967,0.303957998752594,-4.703072136180708e-06,-4.703072136180708e-06],\"type\":\"scatter\",\"xaxis\":\"x2\",\"yaxis\":\"y2\"},{\"hoverinfo\":\"text\",\"marker\":{\"color\":\"red\"},\"mode\":\"markers\",\"name\":\"neurons layer 1 (#nodes)\",\"text\":[\"Threshold: 1.00e-04\\u003cbr\\u003eNodes: 992\\u003cbr\\u003eFaithfulness: 0.96\",\"Threshold: 1.44e-04\\u003cbr\\u003eNodes: 982\\u003cbr\\u003eFaithfulness: 0.96\",\"Threshold: 2.07e-04\\u003cbr\\u003eNodes: 964\\u003cbr\\u003eFaithfulness: 0.94\",\"Threshold: 2.98e-04\\u003cbr\\u003eNodes: 937\\u003cbr\\u003eFaithfulness: 0.94\",\"Threshold: 4.28e-04\\u003cbr\\u003eNodes: 893\\u003cbr\\u003eFaithfulness: 0.99\",\"Threshold: 6.16e-04\\u003cbr\\u003eNodes: 841\\u003cbr\\u003eFaithfulness: 1.01\",\"Threshold: 8.86e-04\\u003cbr\\u003eNodes: 759\\u003cbr\\u003eFaithfulness: 0.92\",\"Threshold: 1.27e-03\\u003cbr\\u003eNodes: 648\\u003cbr\\u003eFaithfulness: 1.14\",\"Threshold: 1.83e-03\\u003cbr\\u003eNodes: 516\\u003cbr\\u003eFaithfulness: 1.41\",\"Threshold: 2.64e-03\\u003cbr\\u003eNodes: 376\\u003cbr\\u003eFaithfulness: 1.32\",\"Threshold: 3.79e-03\\u003cbr\\u003eNodes: 232\\u003cbr\\u003eFaithfulness: 1.48\",\"Threshold: 5.46e-03\\u003cbr\\u003eNodes: 146\\u003cbr\\u003eFaithfulness: 1.35\",\"Threshold: 7.85e-03\\u003cbr\\u003eNodes: 78\\u003cbr\\u003eFaithfulness: 1.44\",\"Threshold: 1.13e-02\\u003cbr\\u003eNodes: 36\\u003cbr\\u003eFaithfulness: 1.18\",\"Threshold: 1.62e-02\\u003cbr\\u003eNodes: 13\\u003cbr\\u003eFaithfulness: 0.45\",\"Threshold: 2.34e-02\\u003cbr\\u003eNodes: 3\\u003cbr\\u003eFaithfulness: 0.17\",\"Threshold: 3.36e-02\\u003cbr\\u003eNodes: 0\\u003cbr\\u003eFaithfulness: -0.00\",\"Threshold: 4.83e-02\\u003cbr\\u003eNodes: 0\\u003cbr\\u003eFaithfulness: -0.00\",\"Threshold: 6.95e-02\\u003cbr\\u003eNodes: 0\\u003cbr\\u003eFaithfulness: -0.00\",\"Threshold: 1.00e-01\\u003cbr\\u003eNodes: 0\\u003cbr\\u003eFaithfulness: -0.00\"],\"visible\":false,\"x\":[992,982,964,937,893,841,759,648,516,376,232,146,78,36,13,3,0,0,0,0],\"y\":[0.964463472366333,0.964219331741333,0.9422920346260071,0.9444407224655151,0.993618905544281,1.012160062789917,0.9215042591094971,1.1370666027069092,1.4084978103637695,1.322887897491455,1.476933240890503,1.3494386672973633,1.4388245344161987,1.1754194498062134,0.4538823366165161,0.17315630614757538,-0.0012533320114016533,-0.0012533320114016533,-0.0012533320114016533,-0.0012533320114016533],\"type\":\"scatter\",\"xaxis\":\"x\",\"yaxis\":\"y\"},{\"hoverinfo\":\"text\",\"marker\":{\"color\":\"red\"},\"mode\":\"markers\",\"name\":\"neurons layer 1 (thresh)\",\"text\":[\"Threshold: 1.00e-04\\u003cbr\\u003eNodes: 992\\u003cbr\\u003eFaithfulness: 0.96\",\"Threshold: 1.44e-04\\u003cbr\\u003eNodes: 982\\u003cbr\\u003eFaithfulness: 0.96\",\"Threshold: 2.07e-04\\u003cbr\\u003eNodes: 964\\u003cbr\\u003eFaithfulness: 0.94\",\"Threshold: 2.98e-04\\u003cbr\\u003eNodes: 937\\u003cbr\\u003eFaithfulness: 0.94\",\"Threshold: 4.28e-04\\u003cbr\\u003eNodes: 893\\u003cbr\\u003eFaithfulness: 0.99\",\"Threshold: 6.16e-04\\u003cbr\\u003eNodes: 841\\u003cbr\\u003eFaithfulness: 1.01\",\"Threshold: 8.86e-04\\u003cbr\\u003eNodes: 759\\u003cbr\\u003eFaithfulness: 0.92\",\"Threshold: 1.27e-03\\u003cbr\\u003eNodes: 648\\u003cbr\\u003eFaithfulness: 1.14\",\"Threshold: 1.83e-03\\u003cbr\\u003eNodes: 516\\u003cbr\\u003eFaithfulness: 1.41\",\"Threshold: 2.64e-03\\u003cbr\\u003eNodes: 376\\u003cbr\\u003eFaithfulness: 1.32\",\"Threshold: 3.79e-03\\u003cbr\\u003eNodes: 232\\u003cbr\\u003eFaithfulness: 1.48\",\"Threshold: 5.46e-03\\u003cbr\\u003eNodes: 146\\u003cbr\\u003eFaithfulness: 1.35\",\"Threshold: 7.85e-03\\u003cbr\\u003eNodes: 78\\u003cbr\\u003eFaithfulness: 1.44\",\"Threshold: 1.13e-02\\u003cbr\\u003eNodes: 36\\u003cbr\\u003eFaithfulness: 1.18\",\"Threshold: 1.62e-02\\u003cbr\\u003eNodes: 13\\u003cbr\\u003eFaithfulness: 0.45\",\"Threshold: 2.34e-02\\u003cbr\\u003eNodes: 3\\u003cbr\\u003eFaithfulness: 0.17\",\"Threshold: 3.36e-02\\u003cbr\\u003eNodes: 0\\u003cbr\\u003eFaithfulness: -0.00\",\"Threshold: 4.83e-02\\u003cbr\\u003eNodes: 0\\u003cbr\\u003eFaithfulness: -0.00\",\"Threshold: 6.95e-02\\u003cbr\\u003eNodes: 0\\u003cbr\\u003eFaithfulness: -0.00\",\"Threshold: 1.00e-01\\u003cbr\\u003eNodes: 0\\u003cbr\\u003eFaithfulness: -0.00\"],\"visible\":false,\"x\":[9.999999747378752e-05,0.00014384498354047537,0.00020691381359938532,0.00029763515340164304,0.00042813323670998216,0.0006158482283353806,0.0008858668152242899,0.001274275011382997,0.0018329806625843048,0.002636650810018182,0.0037926901131868362,0.005455594975501299,0.007847599685192108,0.011288379319012165,0.016237767413258553,0.023357214406132698,0.03359818458557129,0.04832930117845535,0.0695192813873291,0.10000000149011612],\"y\":[0.964463472366333,0.964219331741333,0.9422920346260071,0.9444407224655151,0.993618905544281,1.012160062789917,0.9215042591094971,1.1370666027069092,1.4084978103637695,1.322887897491455,1.476933240890503,1.3494386672973633,1.4388245344161987,1.1754194498062134,0.4538823366165161,0.17315630614757538,-0.0012533320114016533,-0.0012533320114016533,-0.0012533320114016533,-0.0012533320114016533],\"type\":\"scatter\",\"xaxis\":\"x2\",\"yaxis\":\"y2\"},{\"hoverinfo\":\"text\",\"marker\":{\"color\":\"red\"},\"mode\":\"markers\",\"name\":\"neurons layer 2 (#nodes)\",\"text\":[\"Threshold: 1.00e-04\\u003cbr\\u003eNodes: 999\\u003cbr\\u003eFaithfulness: 1.08\",\"Threshold: 1.44e-04\\u003cbr\\u003eNodes: 977\\u003cbr\\u003eFaithfulness: 1.10\",\"Threshold: 2.07e-04\\u003cbr\\u003eNodes: 958\\u003cbr\\u003eFaithfulness: 1.07\",\"Threshold: 2.98e-04\\u003cbr\\u003eNodes: 940\\u003cbr\\u003eFaithfulness: 1.12\",\"Threshold: 4.28e-04\\u003cbr\\u003eNodes: 920\\u003cbr\\u003eFaithfulness: 1.13\",\"Threshold: 6.16e-04\\u003cbr\\u003eNodes: 877\\u003cbr\\u003eFaithfulness: 0.97\",\"Threshold: 8.86e-04\\u003cbr\\u003eNodes: 819\\u003cbr\\u003eFaithfulness: 0.97\",\"Threshold: 1.27e-03\\u003cbr\\u003eNodes: 729\\u003cbr\\u003eFaithfulness: 0.96\",\"Threshold: 1.83e-03\\u003cbr\\u003eNodes: 625\\u003cbr\\u003eFaithfulness: 1.02\",\"Threshold: 2.64e-03\\u003cbr\\u003eNodes: 508\\u003cbr\\u003eFaithfulness: 1.03\",\"Threshold: 3.79e-03\\u003cbr\\u003eNodes: 391\\u003cbr\\u003eFaithfulness: 1.01\",\"Threshold: 5.46e-03\\u003cbr\\u003eNodes: 274\\u003cbr\\u003eFaithfulness: 1.11\",\"Threshold: 7.85e-03\\u003cbr\\u003eNodes: 149\\u003cbr\\u003eFaithfulness: 1.04\",\"Threshold: 1.13e-02\\u003cbr\\u003eNodes: 66\\u003cbr\\u003eFaithfulness: 0.83\",\"Threshold: 1.62e-02\\u003cbr\\u003eNodes: 30\\u003cbr\\u003eFaithfulness: 0.58\",\"Threshold: 2.34e-02\\u003cbr\\u003eNodes: 14\\u003cbr\\u003eFaithfulness: 0.33\",\"Threshold: 3.36e-02\\u003cbr\\u003eNodes: 3\\u003cbr\\u003eFaithfulness: 0.20\",\"Threshold: 4.83e-02\\u003cbr\\u003eNodes: 2\\u003cbr\\u003eFaithfulness: 0.15\",\"Threshold: 6.95e-02\\u003cbr\\u003eNodes: 0\\u003cbr\\u003eFaithfulness: -0.00\",\"Threshold: 1.00e-01\\u003cbr\\u003eNodes: 0\\u003cbr\\u003eFaithfulness: -0.00\"],\"visible\":false,\"x\":[999,977,958,940,920,877,819,729,625,508,391,274,149,66,30,14,3,2,0,0],\"y\":[1.0768606662750244,1.1034806966781616,1.0705074071884155,1.1180875301361084,1.1274505853652954,0.9650443196296692,0.9669650793075562,0.9580797553062439,1.0157369375228882,1.02584969997406,1.0088289976119995,1.109027624130249,1.0416275262832642,0.8320005536079407,0.5754200220108032,0.3278634548187256,0.19908779859542847,0.14729094505310059,-0.0002363375388085842,-0.0002363375388085842],\"type\":\"scatter\",\"xaxis\":\"x\",\"yaxis\":\"y\"},{\"hoverinfo\":\"text\",\"marker\":{\"color\":\"red\"},\"mode\":\"markers\",\"name\":\"neurons layer 2 (thresh)\",\"text\":[\"Threshold: 1.00e-04\\u003cbr\\u003eNodes: 999\\u003cbr\\u003eFaithfulness: 1.08\",\"Threshold: 1.44e-04\\u003cbr\\u003eNodes: 977\\u003cbr\\u003eFaithfulness: 1.10\",\"Threshold: 2.07e-04\\u003cbr\\u003eNodes: 958\\u003cbr\\u003eFaithfulness: 1.07\",\"Threshold: 2.98e-04\\u003cbr\\u003eNodes: 940\\u003cbr\\u003eFaithfulness: 1.12\",\"Threshold: 4.28e-04\\u003cbr\\u003eNodes: 920\\u003cbr\\u003eFaithfulness: 1.13\",\"Threshold: 6.16e-04\\u003cbr\\u003eNodes: 877\\u003cbr\\u003eFaithfulness: 0.97\",\"Threshold: 8.86e-04\\u003cbr\\u003eNodes: 819\\u003cbr\\u003eFaithfulness: 0.97\",\"Threshold: 1.27e-03\\u003cbr\\u003eNodes: 729\\u003cbr\\u003eFaithfulness: 0.96\",\"Threshold: 1.83e-03\\u003cbr\\u003eNodes: 625\\u003cbr\\u003eFaithfulness: 1.02\",\"Threshold: 2.64e-03\\u003cbr\\u003eNodes: 508\\u003cbr\\u003eFaithfulness: 1.03\",\"Threshold: 3.79e-03\\u003cbr\\u003eNodes: 391\\u003cbr\\u003eFaithfulness: 1.01\",\"Threshold: 5.46e-03\\u003cbr\\u003eNodes: 274\\u003cbr\\u003eFaithfulness: 1.11\",\"Threshold: 7.85e-03\\u003cbr\\u003eNodes: 149\\u003cbr\\u003eFaithfulness: 1.04\",\"Threshold: 1.13e-02\\u003cbr\\u003eNodes: 66\\u003cbr\\u003eFaithfulness: 0.83\",\"Threshold: 1.62e-02\\u003cbr\\u003eNodes: 30\\u003cbr\\u003eFaithfulness: 0.58\",\"Threshold: 2.34e-02\\u003cbr\\u003eNodes: 14\\u003cbr\\u003eFaithfulness: 0.33\",\"Threshold: 3.36e-02\\u003cbr\\u003eNodes: 3\\u003cbr\\u003eFaithfulness: 0.20\",\"Threshold: 4.83e-02\\u003cbr\\u003eNodes: 2\\u003cbr\\u003eFaithfulness: 0.15\",\"Threshold: 6.95e-02\\u003cbr\\u003eNodes: 0\\u003cbr\\u003eFaithfulness: -0.00\",\"Threshold: 1.00e-01\\u003cbr\\u003eNodes: 0\\u003cbr\\u003eFaithfulness: -0.00\"],\"visible\":false,\"x\":[9.999999747378752e-05,0.00014384498354047537,0.00020691381359938532,0.00029763515340164304,0.00042813323670998216,0.0006158482283353806,0.0008858668152242899,0.001274275011382997,0.0018329806625843048,0.002636650810018182,0.0037926901131868362,0.005455594975501299,0.007847599685192108,0.011288379319012165,0.016237767413258553,0.023357214406132698,0.03359818458557129,0.04832930117845535,0.0695192813873291,0.10000000149011612],\"y\":[1.0768606662750244,1.1034806966781616,1.0705074071884155,1.1180875301361084,1.1274505853652954,0.9650443196296692,0.9669650793075562,0.9580797553062439,1.0157369375228882,1.02584969997406,1.0088289976119995,1.109027624130249,1.0416275262832642,0.8320005536079407,0.5754200220108032,0.3278634548187256,0.19908779859542847,0.14729094505310059,-0.0002363375388085842,-0.0002363375388085842],\"type\":\"scatter\",\"xaxis\":\"x2\",\"yaxis\":\"y2\"},{\"hoverinfo\":\"text\",\"marker\":{\"color\":\"red\"},\"mode\":\"markers\",\"name\":\"neurons layer 3 (#nodes)\",\"text\":[\"Threshold: 1.00e-04\\u003cbr\\u003eNodes: 996\\u003cbr\\u003eFaithfulness: 1.01\",\"Threshold: 1.44e-04\\u003cbr\\u003eNodes: 988\\u003cbr\\u003eFaithfulness: 0.99\",\"Threshold: 2.07e-04\\u003cbr\\u003eNodes: 979\\u003cbr\\u003eFaithfulness: 1.01\",\"Threshold: 2.98e-04\\u003cbr\\u003eNodes: 959\\u003cbr\\u003eFaithfulness: 0.96\",\"Threshold: 4.28e-04\\u003cbr\\u003eNodes: 922\\u003cbr\\u003eFaithfulness: 1.01\",\"Threshold: 6.16e-04\\u003cbr\\u003eNodes: 872\\u003cbr\\u003eFaithfulness: 0.92\",\"Threshold: 8.86e-04\\u003cbr\\u003eNodes: 813\\u003cbr\\u003eFaithfulness: 0.92\",\"Threshold: 1.27e-03\\u003cbr\\u003eNodes: 738\\u003cbr\\u003eFaithfulness: 0.97\",\"Threshold: 1.83e-03\\u003cbr\\u003eNodes: 651\\u003cbr\\u003eFaithfulness: 1.00\",\"Threshold: 2.64e-03\\u003cbr\\u003eNodes: 527\\u003cbr\\u003eFaithfulness: 1.07\",\"Threshold: 3.79e-03\\u003cbr\\u003eNodes: 358\\u003cbr\\u003eFaithfulness: 1.15\",\"Threshold: 5.46e-03\\u003cbr\\u003eNodes: 231\\u003cbr\\u003eFaithfulness: 1.01\",\"Threshold: 7.85e-03\\u003cbr\\u003eNodes: 120\\u003cbr\\u003eFaithfulness: 0.91\",\"Threshold: 1.13e-02\\u003cbr\\u003eNodes: 46\\u003cbr\\u003eFaithfulness: 0.59\",\"Threshold: 1.62e-02\\u003cbr\\u003eNodes: 17\\u003cbr\\u003eFaithfulness: 0.32\",\"Threshold: 2.34e-02\\u003cbr\\u003eNodes: 7\\u003cbr\\u003eFaithfulness: 0.16\",\"Threshold: 3.36e-02\\u003cbr\\u003eNodes: 0\\u003cbr\\u003eFaithfulness: 0.00\",\"Threshold: 4.83e-02\\u003cbr\\u003eNodes: 0\\u003cbr\\u003eFaithfulness: 0.00\",\"Threshold: 6.95e-02\\u003cbr\\u003eNodes: 0\\u003cbr\\u003eFaithfulness: 0.00\",\"Threshold: 1.00e-01\\u003cbr\\u003eNodes: 0\\u003cbr\\u003eFaithfulness: 0.00\"],\"visible\":false,\"x\":[996,988,979,959,922,872,813,738,651,527,358,231,120,46,17,7,0,0,0,0],\"y\":[1.0084911584854126,0.9921695590019226,1.006011962890625,0.9578567147254944,1.0135902166366577,0.9224751591682434,0.9249320030212402,0.9684261083602905,1.0035626888275146,1.0745337009429932,1.1485775709152222,1.0089735984802246,0.9099985957145691,0.5942583084106445,0.3233109414577484,0.1631694883108139,0.00023745234648231417,0.00023745234648231417,0.00023745234648231417,0.00023745234648231417],\"type\":\"scatter\",\"xaxis\":\"x\",\"yaxis\":\"y\"},{\"hoverinfo\":\"text\",\"marker\":{\"color\":\"red\"},\"mode\":\"markers\",\"name\":\"neurons layer 3 (thresh)\",\"text\":[\"Threshold: 1.00e-04\\u003cbr\\u003eNodes: 996\\u003cbr\\u003eFaithfulness: 1.01\",\"Threshold: 1.44e-04\\u003cbr\\u003eNodes: 988\\u003cbr\\u003eFaithfulness: 0.99\",\"Threshold: 2.07e-04\\u003cbr\\u003eNodes: 979\\u003cbr\\u003eFaithfulness: 1.01\",\"Threshold: 2.98e-04\\u003cbr\\u003eNodes: 959\\u003cbr\\u003eFaithfulness: 0.96\",\"Threshold: 4.28e-04\\u003cbr\\u003eNodes: 922\\u003cbr\\u003eFaithfulness: 1.01\",\"Threshold: 6.16e-04\\u003cbr\\u003eNodes: 872\\u003cbr\\u003eFaithfulness: 0.92\",\"Threshold: 8.86e-04\\u003cbr\\u003eNodes: 813\\u003cbr\\u003eFaithfulness: 0.92\",\"Threshold: 1.27e-03\\u003cbr\\u003eNodes: 738\\u003cbr\\u003eFaithfulness: 0.97\",\"Threshold: 1.83e-03\\u003cbr\\u003eNodes: 651\\u003cbr\\u003eFaithfulness: 1.00\",\"Threshold: 2.64e-03\\u003cbr\\u003eNodes: 527\\u003cbr\\u003eFaithfulness: 1.07\",\"Threshold: 3.79e-03\\u003cbr\\u003eNodes: 358\\u003cbr\\u003eFaithfulness: 1.15\",\"Threshold: 5.46e-03\\u003cbr\\u003eNodes: 231\\u003cbr\\u003eFaithfulness: 1.01\",\"Threshold: 7.85e-03\\u003cbr\\u003eNodes: 120\\u003cbr\\u003eFaithfulness: 0.91\",\"Threshold: 1.13e-02\\u003cbr\\u003eNodes: 46\\u003cbr\\u003eFaithfulness: 0.59\",\"Threshold: 1.62e-02\\u003cbr\\u003eNodes: 17\\u003cbr\\u003eFaithfulness: 0.32\",\"Threshold: 2.34e-02\\u003cbr\\u003eNodes: 7\\u003cbr\\u003eFaithfulness: 0.16\",\"Threshold: 3.36e-02\\u003cbr\\u003eNodes: 0\\u003cbr\\u003eFaithfulness: 0.00\",\"Threshold: 4.83e-02\\u003cbr\\u003eNodes: 0\\u003cbr\\u003eFaithfulness: 0.00\",\"Threshold: 6.95e-02\\u003cbr\\u003eNodes: 0\\u003cbr\\u003eFaithfulness: 0.00\",\"Threshold: 1.00e-01\\u003cbr\\u003eNodes: 0\\u003cbr\\u003eFaithfulness: 0.00\"],\"visible\":false,\"x\":[9.999999747378752e-05,0.00014384498354047537,0.00020691381359938532,0.00029763515340164304,0.00042813323670998216,0.0006158482283353806,0.0008858668152242899,0.001274275011382997,0.0018329806625843048,0.002636650810018182,0.0037926901131868362,0.005455594975501299,0.007847599685192108,0.011288379319012165,0.016237767413258553,0.023357214406132698,0.03359818458557129,0.04832930117845535,0.0695192813873291,0.10000000149011612],\"y\":[1.0084911584854126,0.9921695590019226,1.006011962890625,0.9578567147254944,1.0135902166366577,0.9224751591682434,0.9249320030212402,0.9684261083602905,1.0035626888275146,1.0745337009429932,1.1485775709152222,1.0089735984802246,0.9099985957145691,0.5942583084106445,0.3233109414577484,0.1631694883108139,0.00023745234648231417,0.00023745234648231417,0.00023745234648231417,0.00023745234648231417],\"type\":\"scatter\",\"xaxis\":\"x2\",\"yaxis\":\"y2\"},{\"hoverinfo\":\"text\",\"marker\":{\"color\":\"red\"},\"mode\":\"markers\",\"name\":\"neurons layer 4 (#nodes)\",\"text\":[\"Threshold: 1.00e-04\\u003cbr\\u003eNodes: 997\\u003cbr\\u003eFaithfulness: 1.05\",\"Threshold: 1.44e-04\\u003cbr\\u003eNodes: 982\\u003cbr\\u003eFaithfulness: 1.03\",\"Threshold: 2.07e-04\\u003cbr\\u003eNodes: 968\\u003cbr\\u003eFaithfulness: 1.03\",\"Threshold: 2.98e-04\\u003cbr\\u003eNodes: 931\\u003cbr\\u003eFaithfulness: 1.02\",\"Threshold: 4.28e-04\\u003cbr\\u003eNodes: 897\\u003cbr\\u003eFaithfulness: 1.07\",\"Threshold: 6.16e-04\\u003cbr\\u003eNodes: 847\\u003cbr\\u003eFaithfulness: 1.08\",\"Threshold: 8.86e-04\\u003cbr\\u003eNodes: 787\\u003cbr\\u003eFaithfulness: 1.09\",\"Threshold: 1.27e-03\\u003cbr\\u003eNodes: 706\\u003cbr\\u003eFaithfulness: 1.03\",\"Threshold: 1.83e-03\\u003cbr\\u003eNodes: 590\\u003cbr\\u003eFaithfulness: 1.02\",\"Threshold: 2.64e-03\\u003cbr\\u003eNodes: 469\\u003cbr\\u003eFaithfulness: 1.03\",\"Threshold: 3.79e-03\\u003cbr\\u003eNodes: 347\\u003cbr\\u003eFaithfulness: 0.95\",\"Threshold: 5.46e-03\\u003cbr\\u003eNodes: 235\\u003cbr\\u003eFaithfulness: 0.86\",\"Threshold: 7.85e-03\\u003cbr\\u003eNodes: 129\\u003cbr\\u003eFaithfulness: 0.61\",\"Threshold: 1.13e-02\\u003cbr\\u003eNodes: 56\\u003cbr\\u003eFaithfulness: 0.38\",\"Threshold: 1.62e-02\\u003cbr\\u003eNodes: 16\\u003cbr\\u003eFaithfulness: 0.25\",\"Threshold: 2.34e-02\\u003cbr\\u003eNodes: 5\\u003cbr\\u003eFaithfulness: 0.13\",\"Threshold: 3.36e-02\\u003cbr\\u003eNodes: 1\\u003cbr\\u003eFaithfulness: 0.06\",\"Threshold: 4.83e-02\\u003cbr\\u003eNodes: 0\\u003cbr\\u003eFaithfulness: -0.00\",\"Threshold: 6.95e-02\\u003cbr\\u003eNodes: 0\\u003cbr\\u003eFaithfulness: -0.00\",\"Threshold: 1.00e-01\\u003cbr\\u003eNodes: 0\\u003cbr\\u003eFaithfulness: -0.00\"],\"visible\":false,\"x\":[997,982,968,931,897,847,787,706,590,469,347,235,129,56,16,5,1,0,0,0],\"y\":[1.0528980493545532,1.025307297706604,1.0341086387634277,1.0219106674194336,1.0745329856872559,1.0847572088241577,1.0883283615112305,1.0335575342178345,1.016657829284668,1.025363564491272,0.9540476202964783,0.8587118983268738,0.6081467866897583,0.3771076500415802,0.24777591228485107,0.12992234528064728,0.06368454545736313,-5.623853940051049e-05,-5.623853940051049e-05,-5.623853940051049e-05],\"type\":\"scatter\",\"xaxis\":\"x\",\"yaxis\":\"y\"},{\"hoverinfo\":\"text\",\"marker\":{\"color\":\"red\"},\"mode\":\"markers\",\"name\":\"neurons layer 4 (thresh)\",\"text\":[\"Threshold: 1.00e-04\\u003cbr\\u003eNodes: 997\\u003cbr\\u003eFaithfulness: 1.05\",\"Threshold: 1.44e-04\\u003cbr\\u003eNodes: 982\\u003cbr\\u003eFaithfulness: 1.03\",\"Threshold: 2.07e-04\\u003cbr\\u003eNodes: 968\\u003cbr\\u003eFaithfulness: 1.03\",\"Threshold: 2.98e-04\\u003cbr\\u003eNodes: 931\\u003cbr\\u003eFaithfulness: 1.02\",\"Threshold: 4.28e-04\\u003cbr\\u003eNodes: 897\\u003cbr\\u003eFaithfulness: 1.07\",\"Threshold: 6.16e-04\\u003cbr\\u003eNodes: 847\\u003cbr\\u003eFaithfulness: 1.08\",\"Threshold: 8.86e-04\\u003cbr\\u003eNodes: 787\\u003cbr\\u003eFaithfulness: 1.09\",\"Threshold: 1.27e-03\\u003cbr\\u003eNodes: 706\\u003cbr\\u003eFaithfulness: 1.03\",\"Threshold: 1.83e-03\\u003cbr\\u003eNodes: 590\\u003cbr\\u003eFaithfulness: 1.02\",\"Threshold: 2.64e-03\\u003cbr\\u003eNodes: 469\\u003cbr\\u003eFaithfulness: 1.03\",\"Threshold: 3.79e-03\\u003cbr\\u003eNodes: 347\\u003cbr\\u003eFaithfulness: 0.95\",\"Threshold: 5.46e-03\\u003cbr\\u003eNodes: 235\\u003cbr\\u003eFaithfulness: 0.86\",\"Threshold: 7.85e-03\\u003cbr\\u003eNodes: 129\\u003cbr\\u003eFaithfulness: 0.61\",\"Threshold: 1.13e-02\\u003cbr\\u003eNodes: 56\\u003cbr\\u003eFaithfulness: 0.38\",\"Threshold: 1.62e-02\\u003cbr\\u003eNodes: 16\\u003cbr\\u003eFaithfulness: 0.25\",\"Threshold: 2.34e-02\\u003cbr\\u003eNodes: 5\\u003cbr\\u003eFaithfulness: 0.13\",\"Threshold: 3.36e-02\\u003cbr\\u003eNodes: 1\\u003cbr\\u003eFaithfulness: 0.06\",\"Threshold: 4.83e-02\\u003cbr\\u003eNodes: 0\\u003cbr\\u003eFaithfulness: -0.00\",\"Threshold: 6.95e-02\\u003cbr\\u003eNodes: 0\\u003cbr\\u003eFaithfulness: -0.00\",\"Threshold: 1.00e-01\\u003cbr\\u003eNodes: 0\\u003cbr\\u003eFaithfulness: -0.00\"],\"visible\":false,\"x\":[9.999999747378752e-05,0.00014384498354047537,0.00020691381359938532,0.00029763515340164304,0.00042813323670998216,0.0006158482283353806,0.0008858668152242899,0.001274275011382997,0.0018329806625843048,0.002636650810018182,0.0037926901131868362,0.005455594975501299,0.007847599685192108,0.011288379319012165,0.016237767413258553,0.023357214406132698,0.03359818458557129,0.04832930117845535,0.0695192813873291,0.10000000149011612],\"y\":[1.0528980493545532,1.025307297706604,1.0341086387634277,1.0219106674194336,1.0745329856872559,1.0847572088241577,1.0883283615112305,1.0335575342178345,1.016657829284668,1.025363564491272,0.9540476202964783,0.8587118983268738,0.6081467866897583,0.3771076500415802,0.24777591228485107,0.12992234528064728,0.06368454545736313,-5.623853940051049e-05,-5.623853940051049e-05,-5.623853940051049e-05],\"type\":\"scatter\",\"xaxis\":\"x2\",\"yaxis\":\"y2\"},{\"hoverinfo\":\"text\",\"marker\":{\"color\":\"red\"},\"mode\":\"markers\",\"name\":\"neurons layer 5 (#nodes)\",\"text\":[\"Threshold: 1.00e-04\\u003cbr\\u003eNodes: 1003\\u003cbr\\u003eFaithfulness: 1.01\",\"Threshold: 1.44e-04\\u003cbr\\u003eNodes: 987\\u003cbr\\u003eFaithfulness: 1.03\",\"Threshold: 2.07e-04\\u003cbr\\u003eNodes: 972\\u003cbr\\u003eFaithfulness: 1.05\",\"Threshold: 2.98e-04\\u003cbr\\u003eNodes: 944\\u003cbr\\u003eFaithfulness: 1.07\",\"Threshold: 4.28e-04\\u003cbr\\u003eNodes: 901\\u003cbr\\u003eFaithfulness: 1.06\",\"Threshold: 6.16e-04\\u003cbr\\u003eNodes: 844\\u003cbr\\u003eFaithfulness: 1.06\",\"Threshold: 8.86e-04\\u003cbr\\u003eNodes: 788\\u003cbr\\u003eFaithfulness: 1.06\",\"Threshold: 1.27e-03\\u003cbr\\u003eNodes: 696\\u003cbr\\u003eFaithfulness: 1.09\",\"Threshold: 1.83e-03\\u003cbr\\u003eNodes: 597\\u003cbr\\u003eFaithfulness: 1.09\",\"Threshold: 2.64e-03\\u003cbr\\u003eNodes: 483\\u003cbr\\u003eFaithfulness: 1.17\",\"Threshold: 3.79e-03\\u003cbr\\u003eNodes: 368\\u003cbr\\u003eFaithfulness: 1.15\",\"Threshold: 5.46e-03\\u003cbr\\u003eNodes: 272\\u003cbr\\u003eFaithfulness: 1.14\",\"Threshold: 7.85e-03\\u003cbr\\u003eNodes: 185\\u003cbr\\u003eFaithfulness: 1.07\",\"Threshold: 1.13e-02\\u003cbr\\u003eNodes: 112\\u003cbr\\u003eFaithfulness: 0.88\",\"Threshold: 1.62e-02\\u003cbr\\u003eNodes: 56\\u003cbr\\u003eFaithfulness: 0.62\",\"Threshold: 2.34e-02\\u003cbr\\u003eNodes: 22\\u003cbr\\u003eFaithfulness: 0.42\",\"Threshold: 3.36e-02\\u003cbr\\u003eNodes: 5\\u003cbr\\u003eFaithfulness: 0.14\",\"Threshold: 4.83e-02\\u003cbr\\u003eNodes: 1\\u003cbr\\u003eFaithfulness: 0.04\",\"Threshold: 6.95e-02\\u003cbr\\u003eNodes: 0\\u003cbr\\u003eFaithfulness: -0.00\",\"Threshold: 1.00e-01\\u003cbr\\u003eNodes: 0\\u003cbr\\u003eFaithfulness: -0.00\"],\"visible\":false,\"x\":[1003,987,972,944,901,844,788,696,597,483,368,272,185,112,56,22,5,1,0,0],\"y\":[1.009278655052185,1.0300860404968262,1.0510563850402832,1.0706735849380493,1.0644334554672241,1.0568478107452393,1.0601794719696045,1.0892671346664429,1.0919982194900513,1.1713428497314453,1.1465706825256348,1.1436443328857422,1.0659493207931519,0.8816307783126831,0.6215237379074097,0.4186767637729645,0.14108304679393768,0.035005830228328705,-1.80871084012324e-05,-1.80871084012324e-05],\"type\":\"scatter\",\"xaxis\":\"x\",\"yaxis\":\"y\"},{\"hoverinfo\":\"text\",\"marker\":{\"color\":\"red\"},\"mode\":\"markers\",\"name\":\"neurons layer 5 (thresh)\",\"text\":[\"Threshold: 1.00e-04\\u003cbr\\u003eNodes: 1003\\u003cbr\\u003eFaithfulness: 1.01\",\"Threshold: 1.44e-04\\u003cbr\\u003eNodes: 987\\u003cbr\\u003eFaithfulness: 1.03\",\"Threshold: 2.07e-04\\u003cbr\\u003eNodes: 972\\u003cbr\\u003eFaithfulness: 1.05\",\"Threshold: 2.98e-04\\u003cbr\\u003eNodes: 944\\u003cbr\\u003eFaithfulness: 1.07\",\"Threshold: 4.28e-04\\u003cbr\\u003eNodes: 901\\u003cbr\\u003eFaithfulness: 1.06\",\"Threshold: 6.16e-04\\u003cbr\\u003eNodes: 844\\u003cbr\\u003eFaithfulness: 1.06\",\"Threshold: 8.86e-04\\u003cbr\\u003eNodes: 788\\u003cbr\\u003eFaithfulness: 1.06\",\"Threshold: 1.27e-03\\u003cbr\\u003eNodes: 696\\u003cbr\\u003eFaithfulness: 1.09\",\"Threshold: 1.83e-03\\u003cbr\\u003eNodes: 597\\u003cbr\\u003eFaithfulness: 1.09\",\"Threshold: 2.64e-03\\u003cbr\\u003eNodes: 483\\u003cbr\\u003eFaithfulness: 1.17\",\"Threshold: 3.79e-03\\u003cbr\\u003eNodes: 368\\u003cbr\\u003eFaithfulness: 1.15\",\"Threshold: 5.46e-03\\u003cbr\\u003eNodes: 272\\u003cbr\\u003eFaithfulness: 1.14\",\"Threshold: 7.85e-03\\u003cbr\\u003eNodes: 185\\u003cbr\\u003eFaithfulness: 1.07\",\"Threshold: 1.13e-02\\u003cbr\\u003eNodes: 112\\u003cbr\\u003eFaithfulness: 0.88\",\"Threshold: 1.62e-02\\u003cbr\\u003eNodes: 56\\u003cbr\\u003eFaithfulness: 0.62\",\"Threshold: 2.34e-02\\u003cbr\\u003eNodes: 22\\u003cbr\\u003eFaithfulness: 0.42\",\"Threshold: 3.36e-02\\u003cbr\\u003eNodes: 5\\u003cbr\\u003eFaithfulness: 0.14\",\"Threshold: 4.83e-02\\u003cbr\\u003eNodes: 1\\u003cbr\\u003eFaithfulness: 0.04\",\"Threshold: 6.95e-02\\u003cbr\\u003eNodes: 0\\u003cbr\\u003eFaithfulness: -0.00\",\"Threshold: 1.00e-01\\u003cbr\\u003eNodes: 0\\u003cbr\\u003eFaithfulness: -0.00\"],\"visible\":false,\"x\":[9.999999747378752e-05,0.00014384498354047537,0.00020691381359938532,0.00029763515340164304,0.00042813323670998216,0.0006158482283353806,0.0008858668152242899,0.001274275011382997,0.0018329806625843048,0.002636650810018182,0.0037926901131868362,0.005455594975501299,0.007847599685192108,0.011288379319012165,0.016237767413258553,0.023357214406132698,0.03359818458557129,0.04832930117845535,0.0695192813873291,0.10000000149011612],\"y\":[1.009278655052185,1.0300860404968262,1.0510563850402832,1.0706735849380493,1.0644334554672241,1.0568478107452393,1.0601794719696045,1.0892671346664429,1.0919982194900513,1.1713428497314453,1.1465706825256348,1.1436443328857422,1.0659493207931519,0.8816307783126831,0.6215237379074097,0.4186767637729645,0.14108304679393768,0.035005830228328705,-1.80871084012324e-05,-1.80871084012324e-05],\"type\":\"scatter\",\"xaxis\":\"x2\",\"yaxis\":\"y2\"},{\"hoverinfo\":\"text\",\"marker\":{\"color\":\"black\"},\"mode\":\"markers\",\"name\":\"random layer 0 (#nodes)\",\"text\":[\"Threshold: 1.00e-04\\u003cbr\\u003eNodes: 890\\u003cbr\\u003eFaithfulness: 0.08\",\"Threshold: 1.44e-04\\u003cbr\\u003eNodes: 766\\u003cbr\\u003eFaithfulness: 0.10\",\"Threshold: 2.07e-04\\u003cbr\\u003eNodes: 645\\u003cbr\\u003eFaithfulness: 0.09\",\"Threshold: 2.98e-04\\u003cbr\\u003eNodes: 515\\u003cbr\\u003eFaithfulness: 0.04\",\"Threshold: 4.28e-04\\u003cbr\\u003eNodes: 398\\u003cbr\\u003eFaithfulness: 0.14\",\"Threshold: 6.16e-04\\u003cbr\\u003eNodes: 288\\u003cbr\\u003eFaithfulness: 0.04\",\"Threshold: 8.86e-04\\u003cbr\\u003eNodes: 217\\u003cbr\\u003eFaithfulness: 0.04\",\"Threshold: 1.27e-03\\u003cbr\\u003eNodes: 139\\u003cbr\\u003eFaithfulness: 0.04\",\"Threshold: 1.83e-03\\u003cbr\\u003eNodes: 114\\u003cbr\\u003eFaithfulness: 0.04\",\"Threshold: 2.64e-03\\u003cbr\\u003eNodes: 85\\u003cbr\\u003eFaithfulness: 0.03\",\"Threshold: 3.79e-03\\u003cbr\\u003eNodes: 61\\u003cbr\\u003eFaithfulness: 0.03\",\"Threshold: 5.46e-03\\u003cbr\\u003eNodes: 50\\u003cbr\\u003eFaithfulness: 0.06\",\"Threshold: 7.85e-03\\u003cbr\\u003eNodes: 38\\u003cbr\\u003eFaithfulness: 0.03\",\"Threshold: 1.13e-02\\u003cbr\\u003eNodes: 35\\u003cbr\\u003eFaithfulness: 0.03\",\"Threshold: 1.62e-02\\u003cbr\\u003eNodes: 25\\u003cbr\\u003eFaithfulness: 0.03\",\"Threshold: 2.34e-02\\u003cbr\\u003eNodes: 21\\u003cbr\\u003eFaithfulness: 0.03\",\"Threshold: 3.36e-02\\u003cbr\\u003eNodes: 19\\u003cbr\\u003eFaithfulness: 0.04\",\"Threshold: 4.83e-02\\u003cbr\\u003eNodes: 15\\u003cbr\\u003eFaithfulness: 0.03\",\"Threshold: 6.95e-02\\u003cbr\\u003eNodes: 14\\u003cbr\\u003eFaithfulness: 0.03\",\"Threshold: 1.00e-01\\u003cbr\\u003eNodes: 9\\u003cbr\\u003eFaithfulness: 0.03\"],\"visible\":true,\"x\":[890,766,645,515,398,288,217,139,114,85,61,50,38,35,25,21,19,15,14,9],\"y\":[0.08229263126850128,0.10376068204641342,0.0890231803059578,0.03910689428448677,0.14458435773849487,0.03747725114226341,0.036530543118715286,0.03532714396715164,0.037069834768772125,0.029913034290075302,0.02922302857041359,0.06119430437684059,0.03486086055636406,0.033384282141923904,0.03470543026924133,0.03486086055636406,0.03503512963652611,0.03479021042585373,0.03489382937550545,0.03486086055636406],\"type\":\"scatter\",\"xaxis\":\"x\",\"yaxis\":\"y\"},{\"hoverinfo\":\"text\",\"marker\":{\"color\":\"black\"},\"mode\":\"markers\",\"name\":\"random layer 0 (thresh)\",\"text\":[\"Threshold: 1.00e-04\\u003cbr\\u003eNodes: 890\\u003cbr\\u003eFaithfulness: 0.08\",\"Threshold: 1.44e-04\\u003cbr\\u003eNodes: 766\\u003cbr\\u003eFaithfulness: 0.10\",\"Threshold: 2.07e-04\\u003cbr\\u003eNodes: 645\\u003cbr\\u003eFaithfulness: 0.09\",\"Threshold: 2.98e-04\\u003cbr\\u003eNodes: 515\\u003cbr\\u003eFaithfulness: 0.04\",\"Threshold: 4.28e-04\\u003cbr\\u003eNodes: 398\\u003cbr\\u003eFaithfulness: 0.14\",\"Threshold: 6.16e-04\\u003cbr\\u003eNodes: 288\\u003cbr\\u003eFaithfulness: 0.04\",\"Threshold: 8.86e-04\\u003cbr\\u003eNodes: 217\\u003cbr\\u003eFaithfulness: 0.04\",\"Threshold: 1.27e-03\\u003cbr\\u003eNodes: 139\\u003cbr\\u003eFaithfulness: 0.04\",\"Threshold: 1.83e-03\\u003cbr\\u003eNodes: 114\\u003cbr\\u003eFaithfulness: 0.04\",\"Threshold: 2.64e-03\\u003cbr\\u003eNodes: 85\\u003cbr\\u003eFaithfulness: 0.03\",\"Threshold: 3.79e-03\\u003cbr\\u003eNodes: 61\\u003cbr\\u003eFaithfulness: 0.03\",\"Threshold: 5.46e-03\\u003cbr\\u003eNodes: 50\\u003cbr\\u003eFaithfulness: 0.06\",\"Threshold: 7.85e-03\\u003cbr\\u003eNodes: 38\\u003cbr\\u003eFaithfulness: 0.03\",\"Threshold: 1.13e-02\\u003cbr\\u003eNodes: 35\\u003cbr\\u003eFaithfulness: 0.03\",\"Threshold: 1.62e-02\\u003cbr\\u003eNodes: 25\\u003cbr\\u003eFaithfulness: 0.03\",\"Threshold: 2.34e-02\\u003cbr\\u003eNodes: 21\\u003cbr\\u003eFaithfulness: 0.03\",\"Threshold: 3.36e-02\\u003cbr\\u003eNodes: 19\\u003cbr\\u003eFaithfulness: 0.04\",\"Threshold: 4.83e-02\\u003cbr\\u003eNodes: 15\\u003cbr\\u003eFaithfulness: 0.03\",\"Threshold: 6.95e-02\\u003cbr\\u003eNodes: 14\\u003cbr\\u003eFaithfulness: 0.03\",\"Threshold: 1.00e-01\\u003cbr\\u003eNodes: 9\\u003cbr\\u003eFaithfulness: 0.03\"],\"visible\":true,\"x\":[9.999999747378752e-05,0.00014384498354047537,0.00020691381359938532,0.00029763515340164304,0.00042813323670998216,0.0006158482283353806,0.0008858668152242899,0.001274275011382997,0.0018329806625843048,0.002636650810018182,0.0037926901131868362,0.005455594975501299,0.007847599685192108,0.011288379319012165,0.016237767413258553,0.023357214406132698,0.03359818458557129,0.04832930117845535,0.0695192813873291,0.10000000149011612],\"y\":[0.08229263126850128,0.10376068204641342,0.0890231803059578,0.03910689428448677,0.14458435773849487,0.03747725114226341,0.036530543118715286,0.03532714396715164,0.037069834768772125,0.029913034290075302,0.02922302857041359,0.06119430437684059,0.03486086055636406,0.033384282141923904,0.03470543026924133,0.03486086055636406,0.03503512963652611,0.03479021042585373,0.03489382937550545,0.03486086055636406],\"type\":\"scatter\",\"xaxis\":\"x2\",\"yaxis\":\"y2\"},{\"hoverinfo\":\"text\",\"marker\":{\"color\":\"black\"},\"mode\":\"markers\",\"name\":\"random layer 1 (#nodes)\",\"text\":[\"Threshold: 1.00e-04\\u003cbr\\u003eNodes: 1366\\u003cbr\\u003eFaithfulness: 0.38\",\"Threshold: 1.44e-04\\u003cbr\\u003eNodes: 1105\\u003cbr\\u003eFaithfulness: 0.30\",\"Threshold: 2.07e-04\\u003cbr\\u003eNodes: 821\\u003cbr\\u003eFaithfulness: 0.27\",\"Threshold: 2.98e-04\\u003cbr\\u003eNodes: 596\\u003cbr\\u003eFaithfulness: 0.28\",\"Threshold: 4.28e-04\\u003cbr\\u003eNodes: 443\\u003cbr\\u003eFaithfulness: 0.30\",\"Threshold: 6.16e-04\\u003cbr\\u003eNodes: 301\\u003cbr\\u003eFaithfulness: 0.31\",\"Threshold: 8.86e-04\\u003cbr\\u003eNodes: 199\\u003cbr\\u003eFaithfulness: 0.31\",\"Threshold: 1.27e-03\\u003cbr\\u003eNodes: 131\\u003cbr\\u003eFaithfulness: 0.32\",\"Threshold: 1.83e-03\\u003cbr\\u003eNodes: 88\\u003cbr\\u003eFaithfulness: 0.31\",\"Threshold: 2.64e-03\\u003cbr\\u003eNodes: 58\\u003cbr\\u003eFaithfulness: 0.31\",\"Threshold: 3.79e-03\\u003cbr\\u003eNodes: 32\\u003cbr\\u003eFaithfulness: 0.31\",\"Threshold: 5.46e-03\\u003cbr\\u003eNodes: 23\\u003cbr\\u003eFaithfulness: 0.31\",\"Threshold: 7.85e-03\\u003cbr\\u003eNodes: 15\\u003cbr\\u003eFaithfulness: 0.31\",\"Threshold: 1.13e-02\\u003cbr\\u003eNodes: 10\\u003cbr\\u003eFaithfulness: 0.31\",\"Threshold: 1.62e-02\\u003cbr\\u003eNodes: 7\\u003cbr\\u003eFaithfulness: 0.31\",\"Threshold: 2.34e-02\\u003cbr\\u003eNodes: 6\\u003cbr\\u003eFaithfulness: 0.32\",\"Threshold: 3.36e-02\\u003cbr\\u003eNodes: 2\\u003cbr\\u003eFaithfulness: 0.31\",\"Threshold: 4.83e-02\\u003cbr\\u003eNodes: 2\\u003cbr\\u003eFaithfulness: 0.31\",\"Threshold: 6.95e-02\\u003cbr\\u003eNodes: 2\\u003cbr\\u003eFaithfulness: 0.32\",\"Threshold: 1.00e-01\\u003cbr\\u003eNodes: 2\\u003cbr\\u003eFaithfulness: 0.31\"],\"visible\":false,\"x\":[1366,1105,821,596,443,301,199,131,88,58,32,23,15,10,7,6,2,2,2,2],\"y\":[0.378121554851532,0.29957687854766846,0.26519641280174255,0.2820124328136444,0.29549068212509155,0.3076348304748535,0.306023508310318,0.32200905680656433,0.31277915835380554,0.31051602959632874,0.31012558937072754,0.3112485706806183,0.31134650111198425,0.30869296193122864,0.31030428409576416,0.3157576322555542,0.31134650111198425,0.31134650111198425,0.3153506815433502,0.31134650111198425],\"type\":\"scatter\",\"xaxis\":\"x\",\"yaxis\":\"y\"},{\"hoverinfo\":\"text\",\"marker\":{\"color\":\"black\"},\"mode\":\"markers\",\"name\":\"random layer 1 (thresh)\",\"text\":[\"Threshold: 1.00e-04\\u003cbr\\u003eNodes: 1366\\u003cbr\\u003eFaithfulness: 0.38\",\"Threshold: 1.44e-04\\u003cbr\\u003eNodes: 1105\\u003cbr\\u003eFaithfulness: 0.30\",\"Threshold: 2.07e-04\\u003cbr\\u003eNodes: 821\\u003cbr\\u003eFaithfulness: 0.27\",\"Threshold: 2.98e-04\\u003cbr\\u003eNodes: 596\\u003cbr\\u003eFaithfulness: 0.28\",\"Threshold: 4.28e-04\\u003cbr\\u003eNodes: 443\\u003cbr\\u003eFaithfulness: 0.30\",\"Threshold: 6.16e-04\\u003cbr\\u003eNodes: 301\\u003cbr\\u003eFaithfulness: 0.31\",\"Threshold: 8.86e-04\\u003cbr\\u003eNodes: 199\\u003cbr\\u003eFaithfulness: 0.31\",\"Threshold: 1.27e-03\\u003cbr\\u003eNodes: 131\\u003cbr\\u003eFaithfulness: 0.32\",\"Threshold: 1.83e-03\\u003cbr\\u003eNodes: 88\\u003cbr\\u003eFaithfulness: 0.31\",\"Threshold: 2.64e-03\\u003cbr\\u003eNodes: 58\\u003cbr\\u003eFaithfulness: 0.31\",\"Threshold: 3.79e-03\\u003cbr\\u003eNodes: 32\\u003cbr\\u003eFaithfulness: 0.31\",\"Threshold: 5.46e-03\\u003cbr\\u003eNodes: 23\\u003cbr\\u003eFaithfulness: 0.31\",\"Threshold: 7.85e-03\\u003cbr\\u003eNodes: 15\\u003cbr\\u003eFaithfulness: 0.31\",\"Threshold: 1.13e-02\\u003cbr\\u003eNodes: 10\\u003cbr\\u003eFaithfulness: 0.31\",\"Threshold: 1.62e-02\\u003cbr\\u003eNodes: 7\\u003cbr\\u003eFaithfulness: 0.31\",\"Threshold: 2.34e-02\\u003cbr\\u003eNodes: 6\\u003cbr\\u003eFaithfulness: 0.32\",\"Threshold: 3.36e-02\\u003cbr\\u003eNodes: 2\\u003cbr\\u003eFaithfulness: 0.31\",\"Threshold: 4.83e-02\\u003cbr\\u003eNodes: 2\\u003cbr\\u003eFaithfulness: 0.31\",\"Threshold: 6.95e-02\\u003cbr\\u003eNodes: 2\\u003cbr\\u003eFaithfulness: 0.32\",\"Threshold: 1.00e-01\\u003cbr\\u003eNodes: 2\\u003cbr\\u003eFaithfulness: 0.31\"],\"visible\":false,\"x\":[9.999999747378752e-05,0.00014384498354047537,0.00020691381359938532,0.00029763515340164304,0.00042813323670998216,0.0006158482283353806,0.0008858668152242899,0.001274275011382997,0.0018329806625843048,0.002636650810018182,0.0037926901131868362,0.005455594975501299,0.007847599685192108,0.011288379319012165,0.016237767413258553,0.023357214406132698,0.03359818458557129,0.04832930117845535,0.0695192813873291,0.10000000149011612],\"y\":[0.378121554851532,0.29957687854766846,0.26519641280174255,0.2820124328136444,0.29549068212509155,0.3076348304748535,0.306023508310318,0.32200905680656433,0.31277915835380554,0.31051602959632874,0.31012558937072754,0.3112485706806183,0.31134650111198425,0.30869296193122864,0.31030428409576416,0.3157576322555542,0.31134650111198425,0.31134650111198425,0.3153506815433502,0.31134650111198425],\"type\":\"scatter\",\"xaxis\":\"x2\",\"yaxis\":\"y2\"},{\"hoverinfo\":\"text\",\"marker\":{\"color\":\"black\"},\"mode\":\"markers\",\"name\":\"random layer 2 (#nodes)\",\"text\":[\"Threshold: 1.00e-04\\u003cbr\\u003eNodes: 1601\\u003cbr\\u003eFaithfulness: 0.56\",\"Threshold: 1.44e-04\\u003cbr\\u003eNodes: 1282\\u003cbr\\u003eFaithfulness: 0.55\",\"Threshold: 2.07e-04\\u003cbr\\u003eNodes: 1020\\u003cbr\\u003eFaithfulness: 0.54\",\"Threshold: 2.98e-04\\u003cbr\\u003eNodes: 780\\u003cbr\\u003eFaithfulness: 0.54\",\"Threshold: 4.28e-04\\u003cbr\\u003eNodes: 555\\u003cbr\\u003eFaithfulness: 0.51\",\"Threshold: 6.16e-04\\u003cbr\\u003eNodes: 395\\u003cbr\\u003eFaithfulness: 0.53\",\"Threshold: 8.86e-04\\u003cbr\\u003eNodes: 256\\u003cbr\\u003eFaithfulness: 0.52\",\"Threshold: 1.27e-03\\u003cbr\\u003eNodes: 171\\u003cbr\\u003eFaithfulness: 0.51\",\"Threshold: 1.83e-03\\u003cbr\\u003eNodes: 114\\u003cbr\\u003eFaithfulness: 0.51\",\"Threshold: 2.64e-03\\u003cbr\\u003eNodes: 72\\u003cbr\\u003eFaithfulness: 0.51\",\"Threshold: 3.79e-03\\u003cbr\\u003eNodes: 41\\u003cbr\\u003eFaithfulness: 0.51\",\"Threshold: 5.46e-03\\u003cbr\\u003eNodes: 25\\u003cbr\\u003eFaithfulness: 0.51\",\"Threshold: 7.85e-03\\u003cbr\\u003eNodes: 15\\u003cbr\\u003eFaithfulness: 0.51\",\"Threshold: 1.13e-02\\u003cbr\\u003eNodes: 9\\u003cbr\\u003eFaithfulness: 0.51\",\"Threshold: 1.62e-02\\u003cbr\\u003eNodes: 8\\u003cbr\\u003eFaithfulness: 0.51\",\"Threshold: 2.34e-02\\u003cbr\\u003eNodes: 4\\u003cbr\\u003eFaithfulness: 0.51\",\"Threshold: 3.36e-02\\u003cbr\\u003eNodes: 3\\u003cbr\\u003eFaithfulness: 0.51\",\"Threshold: 4.83e-02\\u003cbr\\u003eNodes: 2\\u003cbr\\u003eFaithfulness: 0.51\",\"Threshold: 6.95e-02\\u003cbr\\u003eNodes: 2\\u003cbr\\u003eFaithfulness: 0.51\",\"Threshold: 1.00e-01\\u003cbr\\u003eNodes: 1\\u003cbr\\u003eFaithfulness: 0.51\"],\"visible\":false,\"x\":[1601,1282,1020,780,555,395,256,171,114,72,41,25,15,9,8,4,3,2,2,1],\"y\":[0.5604537129402161,0.5492314696311951,0.5437564253807068,0.5350046753883362,0.5107574462890625,0.527228593826294,0.5179274082183838,0.5114096403121948,0.5096840858459473,0.5089752674102783,0.5145785212516785,0.5101565718650818,0.5101872682571411,0.5096070170402527,0.5105931162834167,0.5105931162834167,0.5105931162834167,0.5105931162834167,0.5105931162834167,0.5105931162834167],\"type\":\"scatter\",\"xaxis\":\"x\",\"yaxis\":\"y\"},{\"hoverinfo\":\"text\",\"marker\":{\"color\":\"black\"},\"mode\":\"markers\",\"name\":\"random layer 2 (thresh)\",\"text\":[\"Threshold: 1.00e-04\\u003cbr\\u003eNodes: 1601\\u003cbr\\u003eFaithfulness: 0.56\",\"Threshold: 1.44e-04\\u003cbr\\u003eNodes: 1282\\u003cbr\\u003eFaithfulness: 0.55\",\"Threshold: 2.07e-04\\u003cbr\\u003eNodes: 1020\\u003cbr\\u003eFaithfulness: 0.54\",\"Threshold: 2.98e-04\\u003cbr\\u003eNodes: 780\\u003cbr\\u003eFaithfulness: 0.54\",\"Threshold: 4.28e-04\\u003cbr\\u003eNodes: 555\\u003cbr\\u003eFaithfulness: 0.51\",\"Threshold: 6.16e-04\\u003cbr\\u003eNodes: 395\\u003cbr\\u003eFaithfulness: 0.53\",\"Threshold: 8.86e-04\\u003cbr\\u003eNodes: 256\\u003cbr\\u003eFaithfulness: 0.52\",\"Threshold: 1.27e-03\\u003cbr\\u003eNodes: 171\\u003cbr\\u003eFaithfulness: 0.51\",\"Threshold: 1.83e-03\\u003cbr\\u003eNodes: 114\\u003cbr\\u003eFaithfulness: 0.51\",\"Threshold: 2.64e-03\\u003cbr\\u003eNodes: 72\\u003cbr\\u003eFaithfulness: 0.51\",\"Threshold: 3.79e-03\\u003cbr\\u003eNodes: 41\\u003cbr\\u003eFaithfulness: 0.51\",\"Threshold: 5.46e-03\\u003cbr\\u003eNodes: 25\\u003cbr\\u003eFaithfulness: 0.51\",\"Threshold: 7.85e-03\\u003cbr\\u003eNodes: 15\\u003cbr\\u003eFaithfulness: 0.51\",\"Threshold: 1.13e-02\\u003cbr\\u003eNodes: 9\\u003cbr\\u003eFaithfulness: 0.51\",\"Threshold: 1.62e-02\\u003cbr\\u003eNodes: 8\\u003cbr\\u003eFaithfulness: 0.51\",\"Threshold: 2.34e-02\\u003cbr\\u003eNodes: 4\\u003cbr\\u003eFaithfulness: 0.51\",\"Threshold: 3.36e-02\\u003cbr\\u003eNodes: 3\\u003cbr\\u003eFaithfulness: 0.51\",\"Threshold: 4.83e-02\\u003cbr\\u003eNodes: 2\\u003cbr\\u003eFaithfulness: 0.51\",\"Threshold: 6.95e-02\\u003cbr\\u003eNodes: 2\\u003cbr\\u003eFaithfulness: 0.51\",\"Threshold: 1.00e-01\\u003cbr\\u003eNodes: 1\\u003cbr\\u003eFaithfulness: 0.51\"],\"visible\":false,\"x\":[9.999999747378752e-05,0.00014384498354047537,0.00020691381359938532,0.00029763515340164304,0.00042813323670998216,0.0006158482283353806,0.0008858668152242899,0.001274275011382997,0.0018329806625843048,0.002636650810018182,0.0037926901131868362,0.005455594975501299,0.007847599685192108,0.011288379319012165,0.016237767413258553,0.023357214406132698,0.03359818458557129,0.04832930117845535,0.0695192813873291,0.10000000149011612],\"y\":[0.5604537129402161,0.5492314696311951,0.5437564253807068,0.5350046753883362,0.5107574462890625,0.527228593826294,0.5179274082183838,0.5114096403121948,0.5096840858459473,0.5089752674102783,0.5145785212516785,0.5101565718650818,0.5101872682571411,0.5096070170402527,0.5105931162834167,0.5105931162834167,0.5105931162834167,0.5105931162834167,0.5105931162834167,0.5105931162834167],\"type\":\"scatter\",\"xaxis\":\"x2\",\"yaxis\":\"y2\"},{\"hoverinfo\":\"text\",\"marker\":{\"color\":\"black\"},\"mode\":\"markers\",\"name\":\"random layer 3 (#nodes)\",\"text\":[\"Threshold: 1.00e-04\\u003cbr\\u003eNodes: 2063\\u003cbr\\u003eFaithfulness: 0.18\",\"Threshold: 1.44e-04\\u003cbr\\u003eNodes: 1737\\u003cbr\\u003eFaithfulness: 0.24\",\"Threshold: 2.07e-04\\u003cbr\\u003eNodes: 1394\\u003cbr\\u003eFaithfulness: 0.13\",\"Threshold: 2.98e-04\\u003cbr\\u003eNodes: 1036\\u003cbr\\u003eFaithfulness: 0.14\",\"Threshold: 4.28e-04\\u003cbr\\u003eNodes: 740\\u003cbr\\u003eFaithfulness: 0.17\",\"Threshold: 6.16e-04\\u003cbr\\u003eNodes: 525\\u003cbr\\u003eFaithfulness: 0.14\",\"Threshold: 8.86e-04\\u003cbr\\u003eNodes: 344\\u003cbr\\u003eFaithfulness: 0.12\",\"Threshold: 1.27e-03\\u003cbr\\u003eNodes: 215\\u003cbr\\u003eFaithfulness: 0.13\",\"Threshold: 1.83e-03\\u003cbr\\u003eNodes: 129\\u003cbr\\u003eFaithfulness: 0.13\",\"Threshold: 2.64e-03\\u003cbr\\u003eNodes: 73\\u003cbr\\u003eFaithfulness: 0.12\",\"Threshold: 3.79e-03\\u003cbr\\u003eNodes: 34\\u003cbr\\u003eFaithfulness: 0.12\",\"Threshold: 5.46e-03\\u003cbr\\u003eNodes: 18\\u003cbr\\u003eFaithfulness: 0.12\",\"Threshold: 7.85e-03\\u003cbr\\u003eNodes: 9\\u003cbr\\u003eFaithfulness: 0.12\",\"Threshold: 1.13e-02\\u003cbr\\u003eNodes: 5\\u003cbr\\u003eFaithfulness: 0.12\",\"Threshold: 1.62e-02\\u003cbr\\u003eNodes: 5\\u003cbr\\u003eFaithfulness: 0.12\",\"Threshold: 2.34e-02\\u003cbr\\u003eNodes: 3\\u003cbr\\u003eFaithfulness: 0.12\",\"Threshold: 3.36e-02\\u003cbr\\u003eNodes: 2\\u003cbr\\u003eFaithfulness: 0.12\",\"Threshold: 4.83e-02\\u003cbr\\u003eNodes: 2\\u003cbr\\u003eFaithfulness: 0.12\",\"Threshold: 6.95e-02\\u003cbr\\u003eNodes: 2\\u003cbr\\u003eFaithfulness: 0.12\",\"Threshold: 1.00e-01\\u003cbr\\u003eNodes: 1\\u003cbr\\u003eFaithfulness: 0.12\"],\"visible\":false,\"x\":[2063,1737,1394,1036,740,525,344,215,129,73,34,18,9,5,5,3,2,2,2,1],\"y\":[0.17878568172454834,0.2380223572254181,0.12512318789958954,0.13690969347953796,0.1665094792842865,0.1356925666332245,0.11812428385019302,0.12625159323215485,0.12688247859477997,0.12282983958721161,0.1225033774971962,0.12271850556135178,0.1229858249425888,0.1236686035990715,0.12306004762649536,0.12316384166479111,0.12316384166479111,0.12316384166479111,0.1248634085059166,0.12316384166479111],\"type\":\"scatter\",\"xaxis\":\"x\",\"yaxis\":\"y\"},{\"hoverinfo\":\"text\",\"marker\":{\"color\":\"black\"},\"mode\":\"markers\",\"name\":\"random layer 3 (thresh)\",\"text\":[\"Threshold: 1.00e-04\\u003cbr\\u003eNodes: 2063\\u003cbr\\u003eFaithfulness: 0.18\",\"Threshold: 1.44e-04\\u003cbr\\u003eNodes: 1737\\u003cbr\\u003eFaithfulness: 0.24\",\"Threshold: 2.07e-04\\u003cbr\\u003eNodes: 1394\\u003cbr\\u003eFaithfulness: 0.13\",\"Threshold: 2.98e-04\\u003cbr\\u003eNodes: 1036\\u003cbr\\u003eFaithfulness: 0.14\",\"Threshold: 4.28e-04\\u003cbr\\u003eNodes: 740\\u003cbr\\u003eFaithfulness: 0.17\",\"Threshold: 6.16e-04\\u003cbr\\u003eNodes: 525\\u003cbr\\u003eFaithfulness: 0.14\",\"Threshold: 8.86e-04\\u003cbr\\u003eNodes: 344\\u003cbr\\u003eFaithfulness: 0.12\",\"Threshold: 1.27e-03\\u003cbr\\u003eNodes: 215\\u003cbr\\u003eFaithfulness: 0.13\",\"Threshold: 1.83e-03\\u003cbr\\u003eNodes: 129\\u003cbr\\u003eFaithfulness: 0.13\",\"Threshold: 2.64e-03\\u003cbr\\u003eNodes: 73\\u003cbr\\u003eFaithfulness: 0.12\",\"Threshold: 3.79e-03\\u003cbr\\u003eNodes: 34\\u003cbr\\u003eFaithfulness: 0.12\",\"Threshold: 5.46e-03\\u003cbr\\u003eNodes: 18\\u003cbr\\u003eFaithfulness: 0.12\",\"Threshold: 7.85e-03\\u003cbr\\u003eNodes: 9\\u003cbr\\u003eFaithfulness: 0.12\",\"Threshold: 1.13e-02\\u003cbr\\u003eNodes: 5\\u003cbr\\u003eFaithfulness: 0.12\",\"Threshold: 1.62e-02\\u003cbr\\u003eNodes: 5\\u003cbr\\u003eFaithfulness: 0.12\",\"Threshold: 2.34e-02\\u003cbr\\u003eNodes: 3\\u003cbr\\u003eFaithfulness: 0.12\",\"Threshold: 3.36e-02\\u003cbr\\u003eNodes: 2\\u003cbr\\u003eFaithfulness: 0.12\",\"Threshold: 4.83e-02\\u003cbr\\u003eNodes: 2\\u003cbr\\u003eFaithfulness: 0.12\",\"Threshold: 6.95e-02\\u003cbr\\u003eNodes: 2\\u003cbr\\u003eFaithfulness: 0.12\",\"Threshold: 1.00e-01\\u003cbr\\u003eNodes: 1\\u003cbr\\u003eFaithfulness: 0.12\"],\"visible\":false,\"x\":[9.999999747378752e-05,0.00014384498354047537,0.00020691381359938532,0.00029763515340164304,0.00042813323670998216,0.0006158482283353806,0.0008858668152242899,0.001274275011382997,0.0018329806625843048,0.002636650810018182,0.0037926901131868362,0.005455594975501299,0.007847599685192108,0.011288379319012165,0.016237767413258553,0.023357214406132698,0.03359818458557129,0.04832930117845535,0.0695192813873291,0.10000000149011612],\"y\":[0.17878568172454834,0.2380223572254181,0.12512318789958954,0.13690969347953796,0.1665094792842865,0.1356925666332245,0.11812428385019302,0.12625159323215485,0.12688247859477997,0.12282983958721161,0.1225033774971962,0.12271850556135178,0.1229858249425888,0.1236686035990715,0.12306004762649536,0.12316384166479111,0.12316384166479111,0.12316384166479111,0.1248634085059166,0.12316384166479111],\"type\":\"scatter\",\"xaxis\":\"x2\",\"yaxis\":\"y2\"},{\"hoverinfo\":\"text\",\"marker\":{\"color\":\"black\"},\"mode\":\"markers\",\"name\":\"random layer 4 (#nodes)\",\"text\":[\"Threshold: 1.00e-04\\u003cbr\\u003eNodes: 1553\\u003cbr\\u003eFaithfulness: -0.13\",\"Threshold: 1.44e-04\\u003cbr\\u003eNodes: 1261\\u003cbr\\u003eFaithfulness: -0.12\",\"Threshold: 2.07e-04\\u003cbr\\u003eNodes: 998\\u003cbr\\u003eFaithfulness: -0.11\",\"Threshold: 2.98e-04\\u003cbr\\u003eNodes: 729\\u003cbr\\u003eFaithfulness: -0.13\",\"Threshold: 4.28e-04\\u003cbr\\u003eNodes: 504\\u003cbr\\u003eFaithfulness: -0.12\",\"Threshold: 6.16e-04\\u003cbr\\u003eNodes: 329\\u003cbr\\u003eFaithfulness: -0.12\",\"Threshold: 8.86e-04\\u003cbr\\u003eNodes: 214\\u003cbr\\u003eFaithfulness: -0.12\",\"Threshold: 1.27e-03\\u003cbr\\u003eNodes: 137\\u003cbr\\u003eFaithfulness: -0.13\",\"Threshold: 1.83e-03\\u003cbr\\u003eNodes: 84\\u003cbr\\u003eFaithfulness: -0.13\",\"Threshold: 2.64e-03\\u003cbr\\u003eNodes: 46\\u003cbr\\u003eFaithfulness: -0.13\",\"Threshold: 3.79e-03\\u003cbr\\u003eNodes: 33\\u003cbr\\u003eFaithfulness: -0.13\",\"Threshold: 5.46e-03\\u003cbr\\u003eNodes: 24\\u003cbr\\u003eFaithfulness: -0.13\",\"Threshold: 7.85e-03\\u003cbr\\u003eNodes: 16\\u003cbr\\u003eFaithfulness: -0.13\",\"Threshold: 1.13e-02\\u003cbr\\u003eNodes: 13\\u003cbr\\u003eFaithfulness: -0.13\",\"Threshold: 1.62e-02\\u003cbr\\u003eNodes: 7\\u003cbr\\u003eFaithfulness: -0.13\",\"Threshold: 2.34e-02\\u003cbr\\u003eNodes: 6\\u003cbr\\u003eFaithfulness: -0.13\",\"Threshold: 3.36e-02\\u003cbr\\u003eNodes: 4\\u003cbr\\u003eFaithfulness: -0.13\",\"Threshold: 4.83e-02\\u003cbr\\u003eNodes: 4\\u003cbr\\u003eFaithfulness: -0.13\",\"Threshold: 6.95e-02\\u003cbr\\u003eNodes: 4\\u003cbr\\u003eFaithfulness: -0.13\",\"Threshold: 1.00e-01\\u003cbr\\u003eNodes: 4\\u003cbr\\u003eFaithfulness: -0.13\"],\"visible\":false,\"x\":[1553,1261,998,729,504,329,214,137,84,46,33,24,16,13,7,6,4,4,4,4],\"y\":[-0.12700343132019043,-0.12098030000925064,-0.11143666505813599,-0.1334877759218216,-0.12187451869249344,-0.12145272642374039,-0.12397214770317078,-0.12573806941509247,-0.12648607790470123,-0.12667159736156464,-0.1258842647075653,-0.12535570561885834,-0.1254962980747223,-0.12549059092998505,-0.1252937614917755,-0.1253499984741211,-0.12549059092998505,-0.12545126676559448,-0.12549059092998505,-0.12549059092998505],\"type\":\"scatter\",\"xaxis\":\"x\",\"yaxis\":\"y\"},{\"hoverinfo\":\"text\",\"marker\":{\"color\":\"black\"},\"mode\":\"markers\",\"name\":\"random layer 4 (thresh)\",\"text\":[\"Threshold: 1.00e-04\\u003cbr\\u003eNodes: 1553\\u003cbr\\u003eFaithfulness: -0.13\",\"Threshold: 1.44e-04\\u003cbr\\u003eNodes: 1261\\u003cbr\\u003eFaithfulness: -0.12\",\"Threshold: 2.07e-04\\u003cbr\\u003eNodes: 998\\u003cbr\\u003eFaithfulness: -0.11\",\"Threshold: 2.98e-04\\u003cbr\\u003eNodes: 729\\u003cbr\\u003eFaithfulness: -0.13\",\"Threshold: 4.28e-04\\u003cbr\\u003eNodes: 504\\u003cbr\\u003eFaithfulness: -0.12\",\"Threshold: 6.16e-04\\u003cbr\\u003eNodes: 329\\u003cbr\\u003eFaithfulness: -0.12\",\"Threshold: 8.86e-04\\u003cbr\\u003eNodes: 214\\u003cbr\\u003eFaithfulness: -0.12\",\"Threshold: 1.27e-03\\u003cbr\\u003eNodes: 137\\u003cbr\\u003eFaithfulness: -0.13\",\"Threshold: 1.83e-03\\u003cbr\\u003eNodes: 84\\u003cbr\\u003eFaithfulness: -0.13\",\"Threshold: 2.64e-03\\u003cbr\\u003eNodes: 46\\u003cbr\\u003eFaithfulness: -0.13\",\"Threshold: 3.79e-03\\u003cbr\\u003eNodes: 33\\u003cbr\\u003eFaithfulness: -0.13\",\"Threshold: 5.46e-03\\u003cbr\\u003eNodes: 24\\u003cbr\\u003eFaithfulness: -0.13\",\"Threshold: 7.85e-03\\u003cbr\\u003eNodes: 16\\u003cbr\\u003eFaithfulness: -0.13\",\"Threshold: 1.13e-02\\u003cbr\\u003eNodes: 13\\u003cbr\\u003eFaithfulness: -0.13\",\"Threshold: 1.62e-02\\u003cbr\\u003eNodes: 7\\u003cbr\\u003eFaithfulness: -0.13\",\"Threshold: 2.34e-02\\u003cbr\\u003eNodes: 6\\u003cbr\\u003eFaithfulness: -0.13\",\"Threshold: 3.36e-02\\u003cbr\\u003eNodes: 4\\u003cbr\\u003eFaithfulness: -0.13\",\"Threshold: 4.83e-02\\u003cbr\\u003eNodes: 4\\u003cbr\\u003eFaithfulness: -0.13\",\"Threshold: 6.95e-02\\u003cbr\\u003eNodes: 4\\u003cbr\\u003eFaithfulness: -0.13\",\"Threshold: 1.00e-01\\u003cbr\\u003eNodes: 4\\u003cbr\\u003eFaithfulness: -0.13\"],\"visible\":false,\"x\":[9.999999747378752e-05,0.00014384498354047537,0.00020691381359938532,0.00029763515340164304,0.00042813323670998216,0.0006158482283353806,0.0008858668152242899,0.001274275011382997,0.0018329806625843048,0.002636650810018182,0.0037926901131868362,0.005455594975501299,0.007847599685192108,0.011288379319012165,0.016237767413258553,0.023357214406132698,0.03359818458557129,0.04832930117845535,0.0695192813873291,0.10000000149011612],\"y\":[-0.12700343132019043,-0.12098030000925064,-0.11143666505813599,-0.1334877759218216,-0.12187451869249344,-0.12145272642374039,-0.12397214770317078,-0.12573806941509247,-0.12648607790470123,-0.12667159736156464,-0.1258842647075653,-0.12535570561885834,-0.1254962980747223,-0.12549059092998505,-0.1252937614917755,-0.1253499984741211,-0.12549059092998505,-0.12545126676559448,-0.12549059092998505,-0.12549059092998505],\"type\":\"scatter\",\"xaxis\":\"x2\",\"yaxis\":\"y2\"},{\"hoverinfo\":\"text\",\"marker\":{\"color\":\"black\"},\"mode\":\"markers\",\"name\":\"random layer 5 (#nodes)\",\"text\":[\"Threshold: 1.00e-04\\u003cbr\\u003eNodes: 1246\\u003cbr\\u003eFaithfulness: 0.13\",\"Threshold: 1.44e-04\\u003cbr\\u003eNodes: 1049\\u003cbr\\u003eFaithfulness: -0.07\",\"Threshold: 2.07e-04\\u003cbr\\u003eNodes: 824\\u003cbr\\u003eFaithfulness: -0.14\",\"Threshold: 2.98e-04\\u003cbr\\u003eNodes: 614\\u003cbr\\u003eFaithfulness: -0.16\",\"Threshold: 4.28e-04\\u003cbr\\u003eNodes: 443\\u003cbr\\u003eFaithfulness: -0.12\",\"Threshold: 6.16e-04\\u003cbr\\u003eNodes: 319\\u003cbr\\u003eFaithfulness: -0.18\",\"Threshold: 8.86e-04\\u003cbr\\u003eNodes: 220\\u003cbr\\u003eFaithfulness: -0.18\",\"Threshold: 1.27e-03\\u003cbr\\u003eNodes: 156\\u003cbr\\u003eFaithfulness: -0.18\",\"Threshold: 1.83e-03\\u003cbr\\u003eNodes: 110\\u003cbr\\u003eFaithfulness: -0.18\",\"Threshold: 2.64e-03\\u003cbr\\u003eNodes: 83\\u003cbr\\u003eFaithfulness: -0.18\",\"Threshold: 3.79e-03\\u003cbr\\u003eNodes: 65\\u003cbr\\u003eFaithfulness: -0.18\",\"Threshold: 5.46e-03\\u003cbr\\u003eNodes: 49\\u003cbr\\u003eFaithfulness: -0.18\",\"Threshold: 7.85e-03\\u003cbr\\u003eNodes: 35\\u003cbr\\u003eFaithfulness: -0.18\",\"Threshold: 1.13e-02\\u003cbr\\u003eNodes: 27\\u003cbr\\u003eFaithfulness: -0.18\",\"Threshold: 1.62e-02\\u003cbr\\u003eNodes: 19\\u003cbr\\u003eFaithfulness: -0.18\",\"Threshold: 2.34e-02\\u003cbr\\u003eNodes: 17\\u003cbr\\u003eFaithfulness: -0.18\",\"Threshold: 3.36e-02\\u003cbr\\u003eNodes: 11\\u003cbr\\u003eFaithfulness: -0.18\",\"Threshold: 4.83e-02\\u003cbr\\u003eNodes: 8\\u003cbr\\u003eFaithfulness: -0.18\",\"Threshold: 6.95e-02\\u003cbr\\u003eNodes: 7\\u003cbr\\u003eFaithfulness: -0.18\",\"Threshold: 1.00e-01\\u003cbr\\u003eNodes: 6\\u003cbr\\u003eFaithfulness: -0.18\"],\"visible\":false,\"x\":[1246,1049,824,614,443,319,220,156,110,83,65,49,35,27,19,17,11,8,7,6],\"y\":[0.13209374248981476,-0.0716104656457901,-0.14252640306949615,-0.15939803421497345,-0.123477041721344,-0.17966647446155548,-0.18280275166034698,-0.18047675490379333,-0.18157647550106049,-0.18114961683750153,-0.18301258981227875,-0.18255317211151123,-0.18050932884216309,-0.1818079650402069,-0.1818116009235382,-0.18167415261268616,-0.181627094745636,-0.181627094745636,-0.18198883533477783,-0.181627094745636],\"type\":\"scatter\",\"xaxis\":\"x\",\"yaxis\":\"y\"},{\"hoverinfo\":\"text\",\"marker\":{\"color\":\"black\"},\"mode\":\"markers\",\"name\":\"random layer 5 (thresh)\",\"text\":[\"Threshold: 1.00e-04\\u003cbr\\u003eNodes: 1246\\u003cbr\\u003eFaithfulness: 0.13\",\"Threshold: 1.44e-04\\u003cbr\\u003eNodes: 1049\\u003cbr\\u003eFaithfulness: -0.07\",\"Threshold: 2.07e-04\\u003cbr\\u003eNodes: 824\\u003cbr\\u003eFaithfulness: -0.14\",\"Threshold: 2.98e-04\\u003cbr\\u003eNodes: 614\\u003cbr\\u003eFaithfulness: -0.16\",\"Threshold: 4.28e-04\\u003cbr\\u003eNodes: 443\\u003cbr\\u003eFaithfulness: -0.12\",\"Threshold: 6.16e-04\\u003cbr\\u003eNodes: 319\\u003cbr\\u003eFaithfulness: -0.18\",\"Threshold: 8.86e-04\\u003cbr\\u003eNodes: 220\\u003cbr\\u003eFaithfulness: -0.18\",\"Threshold: 1.27e-03\\u003cbr\\u003eNodes: 156\\u003cbr\\u003eFaithfulness: -0.18\",\"Threshold: 1.83e-03\\u003cbr\\u003eNodes: 110\\u003cbr\\u003eFaithfulness: -0.18\",\"Threshold: 2.64e-03\\u003cbr\\u003eNodes: 83\\u003cbr\\u003eFaithfulness: -0.18\",\"Threshold: 3.79e-03\\u003cbr\\u003eNodes: 65\\u003cbr\\u003eFaithfulness: -0.18\",\"Threshold: 5.46e-03\\u003cbr\\u003eNodes: 49\\u003cbr\\u003eFaithfulness: -0.18\",\"Threshold: 7.85e-03\\u003cbr\\u003eNodes: 35\\u003cbr\\u003eFaithfulness: -0.18\",\"Threshold: 1.13e-02\\u003cbr\\u003eNodes: 27\\u003cbr\\u003eFaithfulness: -0.18\",\"Threshold: 1.62e-02\\u003cbr\\u003eNodes: 19\\u003cbr\\u003eFaithfulness: -0.18\",\"Threshold: 2.34e-02\\u003cbr\\u003eNodes: 17\\u003cbr\\u003eFaithfulness: -0.18\",\"Threshold: 3.36e-02\\u003cbr\\u003eNodes: 11\\u003cbr\\u003eFaithfulness: -0.18\",\"Threshold: 4.83e-02\\u003cbr\\u003eNodes: 8\\u003cbr\\u003eFaithfulness: -0.18\",\"Threshold: 6.95e-02\\u003cbr\\u003eNodes: 7\\u003cbr\\u003eFaithfulness: -0.18\",\"Threshold: 1.00e-01\\u003cbr\\u003eNodes: 6\\u003cbr\\u003eFaithfulness: -0.18\"],\"visible\":false,\"x\":[9.999999747378752e-05,0.00014384498354047537,0.00020691381359938532,0.00029763515340164304,0.00042813323670998216,0.0006158482283353806,0.0008858668152242899,0.001274275011382997,0.0018329806625843048,0.002636650810018182,0.0037926901131868362,0.005455594975501299,0.007847599685192108,0.011288379319012165,0.016237767413258553,0.023357214406132698,0.03359818458557129,0.04832930117845535,0.0695192813873291,0.10000000149011612],\"y\":[0.13209374248981476,-0.0716104656457901,-0.14252640306949615,-0.15939803421497345,-0.123477041721344,-0.17966647446155548,-0.18280275166034698,-0.18047675490379333,-0.18157647550106049,-0.18114961683750153,-0.18301258981227875,-0.18255317211151123,-0.18050932884216309,-0.1818079650402069,-0.1818116009235382,-0.18167415261268616,-0.181627094745636,-0.181627094745636,-0.18198883533477783,-0.181627094745636],\"type\":\"scatter\",\"xaxis\":\"x2\",\"yaxis\":\"y2\"}],                        {\"template\":{\"data\":{\"histogram2dcontour\":[{\"type\":\"histogram2dcontour\",\"colorbar\":{\"outlinewidth\":0,\"ticks\":\"\"},\"colorscale\":[[0.0,\"#0d0887\"],[0.1111111111111111,\"#46039f\"],[0.2222222222222222,\"#7201a8\"],[0.3333333333333333,\"#9c179e\"],[0.4444444444444444,\"#bd3786\"],[0.5555555555555556,\"#d8576b\"],[0.6666666666666666,\"#ed7953\"],[0.7777777777777778,\"#fb9f3a\"],[0.8888888888888888,\"#fdca26\"],[1.0,\"#f0f921\"]]}],\"choropleth\":[{\"type\":\"choropleth\",\"colorbar\":{\"outlinewidth\":0,\"ticks\":\"\"}}],\"histogram2d\":[{\"type\":\"histogram2d\",\"colorbar\":{\"outlinewidth\":0,\"ticks\":\"\"},\"colorscale\":[[0.0,\"#0d0887\"],[0.1111111111111111,\"#46039f\"],[0.2222222222222222,\"#7201a8\"],[0.3333333333333333,\"#9c179e\"],[0.4444444444444444,\"#bd3786\"],[0.5555555555555556,\"#d8576b\"],[0.6666666666666666,\"#ed7953\"],[0.7777777777777778,\"#fb9f3a\"],[0.8888888888888888,\"#fdca26\"],[1.0,\"#f0f921\"]]}],\"heatmap\":[{\"type\":\"heatmap\",\"colorbar\":{\"outlinewidth\":0,\"ticks\":\"\"},\"colorscale\":[[0.0,\"#0d0887\"],[0.1111111111111111,\"#46039f\"],[0.2222222222222222,\"#7201a8\"],[0.3333333333333333,\"#9c179e\"],[0.4444444444444444,\"#bd3786\"],[0.5555555555555556,\"#d8576b\"],[0.6666666666666666,\"#ed7953\"],[0.7777777777777778,\"#fb9f3a\"],[0.8888888888888888,\"#fdca26\"],[1.0,\"#f0f921\"]]}],\"heatmapgl\":[{\"type\":\"heatmapgl\",\"colorbar\":{\"outlinewidth\":0,\"ticks\":\"\"},\"colorscale\":[[0.0,\"#0d0887\"],[0.1111111111111111,\"#46039f\"],[0.2222222222222222,\"#7201a8\"],[0.3333333333333333,\"#9c179e\"],[0.4444444444444444,\"#bd3786\"],[0.5555555555555556,\"#d8576b\"],[0.6666666666666666,\"#ed7953\"],[0.7777777777777778,\"#fb9f3a\"],[0.8888888888888888,\"#fdca26\"],[1.0,\"#f0f921\"]]}],\"contourcarpet\":[{\"type\":\"contourcarpet\",\"colorbar\":{\"outlinewidth\":0,\"ticks\":\"\"}}],\"contour\":[{\"type\":\"contour\",\"colorbar\":{\"outlinewidth\":0,\"ticks\":\"\"},\"colorscale\":[[0.0,\"#0d0887\"],[0.1111111111111111,\"#46039f\"],[0.2222222222222222,\"#7201a8\"],[0.3333333333333333,\"#9c179e\"],[0.4444444444444444,\"#bd3786\"],[0.5555555555555556,\"#d8576b\"],[0.6666666666666666,\"#ed7953\"],[0.7777777777777778,\"#fb9f3a\"],[0.8888888888888888,\"#fdca26\"],[1.0,\"#f0f921\"]]}],\"surface\":[{\"type\":\"surface\",\"colorbar\":{\"outlinewidth\":0,\"ticks\":\"\"},\"colorscale\":[[0.0,\"#0d0887\"],[0.1111111111111111,\"#46039f\"],[0.2222222222222222,\"#7201a8\"],[0.3333333333333333,\"#9c179e\"],[0.4444444444444444,\"#bd3786\"],[0.5555555555555556,\"#d8576b\"],[0.6666666666666666,\"#ed7953\"],[0.7777777777777778,\"#fb9f3a\"],[0.8888888888888888,\"#fdca26\"],[1.0,\"#f0f921\"]]}],\"mesh3d\":[{\"type\":\"mesh3d\",\"colorbar\":{\"outlinewidth\":0,\"ticks\":\"\"}}],\"scatter\":[{\"fillpattern\":{\"fillmode\":\"overlay\",\"size\":10,\"solidity\":0.2},\"type\":\"scatter\"}],\"parcoords\":[{\"type\":\"parcoords\",\"line\":{\"colorbar\":{\"outlinewidth\":0,\"ticks\":\"\"}}}],\"scatterpolargl\":[{\"type\":\"scatterpolargl\",\"marker\":{\"colorbar\":{\"outlinewidth\":0,\"ticks\":\"\"}}}],\"bar\":[{\"error_x\":{\"color\":\"#2a3f5f\"},\"error_y\":{\"color\":\"#2a3f5f\"},\"marker\":{\"line\":{\"color\":\"#E5ECF6\",\"width\":0.5},\"pattern\":{\"fillmode\":\"overlay\",\"size\":10,\"solidity\":0.2}},\"type\":\"bar\"}],\"scattergeo\":[{\"type\":\"scattergeo\",\"marker\":{\"colorbar\":{\"outlinewidth\":0,\"ticks\":\"\"}}}],\"scatterpolar\":[{\"type\":\"scatterpolar\",\"marker\":{\"colorbar\":{\"outlinewidth\":0,\"ticks\":\"\"}}}],\"histogram\":[{\"marker\":{\"pattern\":{\"fillmode\":\"overlay\",\"size\":10,\"solidity\":0.2}},\"type\":\"histogram\"}],\"scattergl\":[{\"type\":\"scattergl\",\"marker\":{\"colorbar\":{\"outlinewidth\":0,\"ticks\":\"\"}}}],\"scatter3d\":[{\"type\":\"scatter3d\",\"line\":{\"colorbar\":{\"outlinewidth\":0,\"ticks\":\"\"}},\"marker\":{\"colorbar\":{\"outlinewidth\":0,\"ticks\":\"\"}}}],\"scattermapbox\":[{\"type\":\"scattermapbox\",\"marker\":{\"colorbar\":{\"outlinewidth\":0,\"ticks\":\"\"}}}],\"scatterternary\":[{\"type\":\"scatterternary\",\"marker\":{\"colorbar\":{\"outlinewidth\":0,\"ticks\":\"\"}}}],\"scattercarpet\":[{\"type\":\"scattercarpet\",\"marker\":{\"colorbar\":{\"outlinewidth\":0,\"ticks\":\"\"}}}],\"carpet\":[{\"aaxis\":{\"endlinecolor\":\"#2a3f5f\",\"gridcolor\":\"white\",\"linecolor\":\"white\",\"minorgridcolor\":\"white\",\"startlinecolor\":\"#2a3f5f\"},\"baxis\":{\"endlinecolor\":\"#2a3f5f\",\"gridcolor\":\"white\",\"linecolor\":\"white\",\"minorgridcolor\":\"white\",\"startlinecolor\":\"#2a3f5f\"},\"type\":\"carpet\"}],\"table\":[{\"cells\":{\"fill\":{\"color\":\"#EBF0F8\"},\"line\":{\"color\":\"white\"}},\"header\":{\"fill\":{\"color\":\"#C8D4E3\"},\"line\":{\"color\":\"white\"}},\"type\":\"table\"}],\"barpolar\":[{\"marker\":{\"line\":{\"color\":\"#E5ECF6\",\"width\":0.5},\"pattern\":{\"fillmode\":\"overlay\",\"size\":10,\"solidity\":0.2}},\"type\":\"barpolar\"}],\"pie\":[{\"automargin\":true,\"type\":\"pie\"}]},\"layout\":{\"autotypenumbers\":\"strict\",\"colorway\":[\"#636efa\",\"#EF553B\",\"#00cc96\",\"#ab63fa\",\"#FFA15A\",\"#19d3f3\",\"#FF6692\",\"#B6E880\",\"#FF97FF\",\"#FECB52\"],\"font\":{\"color\":\"#2a3f5f\"},\"hovermode\":\"closest\",\"hoverlabel\":{\"align\":\"left\"},\"paper_bgcolor\":\"white\",\"plot_bgcolor\":\"#E5ECF6\",\"polar\":{\"bgcolor\":\"#E5ECF6\",\"angularaxis\":{\"gridcolor\":\"white\",\"linecolor\":\"white\",\"ticks\":\"\"},\"radialaxis\":{\"gridcolor\":\"white\",\"linecolor\":\"white\",\"ticks\":\"\"}},\"ternary\":{\"bgcolor\":\"#E5ECF6\",\"aaxis\":{\"gridcolor\":\"white\",\"linecolor\":\"white\",\"ticks\":\"\"},\"baxis\":{\"gridcolor\":\"white\",\"linecolor\":\"white\",\"ticks\":\"\"},\"caxis\":{\"gridcolor\":\"white\",\"linecolor\":\"white\",\"ticks\":\"\"}},\"coloraxis\":{\"colorbar\":{\"outlinewidth\":0,\"ticks\":\"\"}},\"colorscale\":{\"sequential\":[[0.0,\"#0d0887\"],[0.1111111111111111,\"#46039f\"],[0.2222222222222222,\"#7201a8\"],[0.3333333333333333,\"#9c179e\"],[0.4444444444444444,\"#bd3786\"],[0.5555555555555556,\"#d8576b\"],[0.6666666666666666,\"#ed7953\"],[0.7777777777777778,\"#fb9f3a\"],[0.8888888888888888,\"#fdca26\"],[1.0,\"#f0f921\"]],\"sequentialminus\":[[0.0,\"#0d0887\"],[0.1111111111111111,\"#46039f\"],[0.2222222222222222,\"#7201a8\"],[0.3333333333333333,\"#9c179e\"],[0.4444444444444444,\"#bd3786\"],[0.5555555555555556,\"#d8576b\"],[0.6666666666666666,\"#ed7953\"],[0.7777777777777778,\"#fb9f3a\"],[0.8888888888888888,\"#fdca26\"],[1.0,\"#f0f921\"]],\"diverging\":[[0,\"#8e0152\"],[0.1,\"#c51b7d\"],[0.2,\"#de77ae\"],[0.3,\"#f1b6da\"],[0.4,\"#fde0ef\"],[0.5,\"#f7f7f7\"],[0.6,\"#e6f5d0\"],[0.7,\"#b8e186\"],[0.8,\"#7fbc41\"],[0.9,\"#4d9221\"],[1,\"#276419\"]]},\"xaxis\":{\"gridcolor\":\"white\",\"linecolor\":\"white\",\"ticks\":\"\",\"title\":{\"standoff\":15},\"zerolinecolor\":\"white\",\"automargin\":true,\"zerolinewidth\":2},\"yaxis\":{\"gridcolor\":\"white\",\"linecolor\":\"white\",\"ticks\":\"\",\"title\":{\"standoff\":15},\"zerolinecolor\":\"white\",\"automargin\":true,\"zerolinewidth\":2},\"scene\":{\"xaxis\":{\"backgroundcolor\":\"#E5ECF6\",\"gridcolor\":\"white\",\"linecolor\":\"white\",\"showbackground\":true,\"ticks\":\"\",\"zerolinecolor\":\"white\",\"gridwidth\":2},\"yaxis\":{\"backgroundcolor\":\"#E5ECF6\",\"gridcolor\":\"white\",\"linecolor\":\"white\",\"showbackground\":true,\"ticks\":\"\",\"zerolinecolor\":\"white\",\"gridwidth\":2},\"zaxis\":{\"backgroundcolor\":\"#E5ECF6\",\"gridcolor\":\"white\",\"linecolor\":\"white\",\"showbackground\":true,\"ticks\":\"\",\"zerolinecolor\":\"white\",\"gridwidth\":2}},\"shapedefaults\":{\"line\":{\"color\":\"#2a3f5f\"}},\"annotationdefaults\":{\"arrowcolor\":\"#2a3f5f\",\"arrowhead\":0,\"arrowwidth\":1},\"geo\":{\"bgcolor\":\"white\",\"landcolor\":\"#E5ECF6\",\"subunitcolor\":\"white\",\"showland\":true,\"showlakes\":true,\"lakecolor\":\"white\"},\"title\":{\"x\":0.05},\"mapbox\":{\"style\":\"light\"}}},\"xaxis\":{\"anchor\":\"y\",\"domain\":[0.0,0.45],\"title\":{\"text\":\"Number of nodes\"},\"type\":\"log\",\"range\":[0,3.5]},\"yaxis\":{\"anchor\":\"x\",\"domain\":[0.0,1.0],\"title\":{\"text\":\"Faithfulness\"}},\"xaxis2\":{\"anchor\":\"y2\",\"domain\":[0.55,1.0],\"title\":{\"text\":\"Node threshold\"},\"type\":\"log\"},\"yaxis2\":{\"anchor\":\"x2\",\"domain\":[0.0,1.0]},\"title\":{\"text\":\"Faithfulness of single layers of C\"},\"sliders\":[{\"active\":0,\"pad\":{\"t\":50},\"steps\":[{\"args\":[{\"visible\":[true,true,false,false,false,false,false,false,false,false,false,false]}],\"label\":\"Layer 0\",\"method\":\"update\"},{\"args\":[{\"visible\":[false,false,true,true,false,false,false,false,false,false,false,false]}],\"label\":\"Layer 1\",\"method\":\"update\"},{\"args\":[{\"visible\":[false,false,false,false,true,true,false,false,false,false,false,false]}],\"label\":\"Layer 2\",\"method\":\"update\"},{\"args\":[{\"visible\":[false,false,false,false,false,false,true,true,false,false,false,false]}],\"label\":\"Layer 3\",\"method\":\"update\"},{\"args\":[{\"visible\":[false,false,false,false,false,false,false,false,true,true,false,false]}],\"label\":\"Layer 4\",\"method\":\"update\"},{\"args\":[{\"visible\":[false,false,false,false,false,false,false,false,false,false,true,true]}],\"label\":\"Layer 5\",\"method\":\"update\"}]}]},                        {\"responsive\": true}                    ).then(function(){\n",
       "                            \n",
       "var gd = document.getElementById('1d5edfa8-99d3-4073-948a-65ca6068bd37');\n",
       "var x = new MutationObserver(function (mutations, observer) {{\n",
       "        var display = window.getComputedStyle(gd).display;\n",
       "        if (!display || display === 'none') {{\n",
       "            console.log([gd, 'removed!']);\n",
       "            Plotly.purge(gd);\n",
       "            observer.disconnect();\n",
       "        }}\n",
       "}});\n",
       "\n",
       "// Listen for the removal of the full notebook cells\n",
       "var notebookContainer = gd.closest('#notebook-container');\n",
       "if (notebookContainer) {{\n",
       "    x.observe(notebookContainer, {childList: true});\n",
       "}}\n",
       "\n",
       "// Listen for the clearing of the current output cell\n",
       "var outputEl = gd.closest('.output');\n",
       "if (outputEl) {{\n",
       "    x.observe(outputEl, {childList: true});\n",
       "}}\n",
       "\n",
       "                        })                };                });            </script>        </div>"
      ]
     },
     "metadata": {},
     "output_type": "display_data"
    }
   ],
   "source": [
    "from plotly.subplots import make_subplots\n",
    "import plotly.graph_objects as go\n",
    "# Define the range of layers\n",
    "layer_range = list(range(start_layer, len(model.gpt_neox.layers)))\n",
    "\n",
    "# Create a figure with subplots\n",
    "fig = make_subplots(rows=1, cols=2)\n",
    "\n",
    "# Add a scatter trace for the current layer\n",
    "# Create a scatter plot for each layer\n",
    "colors = dict(features='blue', features_wo_resids='turquoise', neurons='red', random='black')\n",
    "\n",
    "for fc_name in fc.keys():        \n",
    "        for layer in layer_range:\n",
    "                num_nodes = list(n_nodes[fc_name][layer].values())\n",
    "                x_title = \"Number of nodes\"\n",
    "                x_range = [0, 3.5]\n",
    "                ys = [faithfulness(x, fempties[layer], fm) for x in fc[fc_name][layer].values()]\n",
    "\n",
    "                if layer == layer_range[0]:\n",
    "                        visible = True\n",
    "                else:\n",
    "                        visible = False\n",
    "                \n",
    "                # Add a scatter trace for the current layer\n",
    "                fig.add_trace(\n",
    "                        go.Scatter(\n",
    "                                x=num_nodes, \n",
    "                                y=ys, \n",
    "                                mode=\"markers\", \n",
    "                                name=f\"{fc_name} layer {layer} (#nodes)\",\n",
    "                                text=[f\"Threshold: {t:.2e}<br>Nodes: {n}<br>Faithfulness: {f:.2f}\" for t, n, f in zip(thresholds, num_nodes, ys)],\n",
    "                                hoverinfo=\"text\",\n",
    "                                marker=dict(color=colors[fc_name]),\n",
    "                                visible=visible\n",
    "                        ),\n",
    "                        row=1,\n",
    "                        col=1\n",
    "                )\n",
    "                x_title = \"Node_threshold\"\n",
    "                x_range = None\n",
    "                \n",
    "                # Add a scatter trace for the current layer\n",
    "                fig.add_trace(\n",
    "                        go.Scatter(\n",
    "                                x=thresholds, \n",
    "                                y=ys, \n",
    "                                mode=\"markers\", \n",
    "                                name=f\"{fc_name} layer {layer} (thresh)\",\n",
    "                                text=[f\"Threshold: {t:.2e}<br>Nodes: {n}<br>Faithfulness: {f:.2f}\" for t, n, f in zip(thresholds, num_nodes, ys)],\n",
    "                                hoverinfo=\"text\",\n",
    "                                marker=dict(color=colors[fc_name]),\n",
    "                                visible=visible\n",
    "                        ),\n",
    "                        row=1,\n",
    "                        col=2\n",
    "                )\n",
    "\n",
    "# Instead of a single update_layout call, use update_xaxes and update_yaxes\n",
    "fig.update_layout(\n",
    "    title=\"Faithfulness of single layers of C\",\n",
    "    yaxis=dict(title=\"Faithfulness\"),\n",
    "    # Additional overall layout configurations here...\n",
    ")\n",
    "\n",
    "# Update x-axis for column 1\n",
    "fig.update_xaxes(\n",
    "    title_text=\"Number of nodes\",  # First plot x-axis title\n",
    "    type=\"log\", \n",
    "    range=[0, 3.5],  # Set your desired range\n",
    "    row=1, col=1\n",
    ")\n",
    "\n",
    "# Update x-axis for column 2\n",
    "fig.update_xaxes(\n",
    "    title_text=\"Node threshold\",  # Second plot x-axis title\n",
    "    type=\"log\",\n",
    "    row=1, col=2\n",
    ")\n",
    "\n",
    "# Slider updates (keep this if applicable to your figure)\n",
    "fig.update_layout(\n",
    "    sliders=[\n",
    "        dict(\n",
    "            active=0,\n",
    "            pad={\"t\": 50},\n",
    "            steps=[\n",
    "                dict(\n",
    "                    label=f\"Layer {layer}\",\n",
    "                    method=\"update\",\n",
    "                    args=[{\"visible\": [layer == i for i in sorted(layer_range+layer_range)]}],\n",
    "                ) for layer in layer_range\n",
    "            ],\n",
    "        )\n",
    "    ],\n",
    ")\n",
    "# Show the figure\n",
    "fig.write_html(\"faithfulness_per_layer.html\")\n",
    "fig.show()"
   ]
  },
  {
   "cell_type": "code",
   "execution_count": 70,
   "metadata": {},
   "outputs": [
    {
     "data": {
      "text/plain": [
       "'https://plotly.com/~canrager/1/'"
      ]
     },
     "execution_count": 70,
     "metadata": {},
     "output_type": "execute_result"
    }
   ],
   "source": [
    "import chart_studio\n",
    "import chart_studio.plotly as py\n",
    "import chart_studio.tools as tls\n",
    "\n",
    "# Replace 'your_username' and 'your_api_key' with your actual Plotly username and API key\n",
    "chart_studio.tools.set_credentials_file(username='canrager', api_key='uOXzoIv31B8E76vv7mu3')\n",
    "\n",
    "py.plot(fig, filename=\"Faithfulness of single layers of C\", auto_open=False)"
   ]
  },
  {
   "cell_type": "code",
   "execution_count": 71,
   "metadata": {},
   "outputs": [
    {
     "data": {
      "text/plain": [
       "tensor([1.0000e-04, 1.4384e-04, 2.0691e-04, 2.9764e-04, 4.2813e-04, 6.1585e-04,\n",
       "        8.8587e-04, 1.2743e-03, 1.8330e-03, 2.6367e-03, 3.7927e-03, 5.4556e-03,\n",
       "        7.8476e-03, 1.1288e-02, 1.6238e-02, 2.3357e-02, 3.3598e-02, 4.8329e-02,\n",
       "        6.9519e-02, 1.0000e-01])"
      ]
     },
     "execution_count": 71,
     "metadata": {},
     "output_type": "execute_result"
    }
   ],
   "source": [
    "thresholds"
   ]
  },
  {
   "cell_type": "code",
   "execution_count": 72,
   "metadata": {},
   "outputs": [
    {
     "data": {
      "text/plain": [
       "tensor(18)"
      ]
     },
     "execution_count": 72,
     "metadata": {},
     "output_type": "execute_result"
    }
   ],
   "source": [
    "t.where(t.tensor(list(fc['features'][0].values())) > 0.9)[0][-1]"
   ]
  },
  {
   "cell_type": "code",
   "execution_count": 92,
   "metadata": {},
   "outputs": [
    {
     "name": "stdout",
     "output_type": "stream",
     "text": [
      "Layer 0: ['attn_0', 'mlp_0'] submodules\n",
      "Layer 1: ['attn_1', 'mlp_1'] submodules\n",
      "Layer 2: ['attn_2', 'mlp_2'] submodules\n",
      "Layer 3: ['attn_3', 'mlp_3'] submodules\n",
      "Layer 4: ['attn_4', 'mlp_4'] submodules\n",
      "Layer 5: ['attn_5', 'mlp_5'] submodules\n",
      "Layer 0: ['attn_0', 'mlp_0'] submodules\n",
      "Layer 1: ['attn_1', 'mlp_1'] submodules\n",
      "Layer 2: ['attn_2', 'mlp_2'] submodules\n",
      "Layer 3: ['attn_3', 'mlp_3'] submodules\n",
      "Layer 4: ['attn_4', 'mlp_4'] submodules\n",
      "Layer 5: ['attn_5', 'mlp_5'] submodules\n"
     ]
    }
   ],
   "source": [
    "# faithfulness_threshs = t.linspace(0.9, 1, 10)\n",
    "faithfulness_thresh = 0.9\n",
    "max_thresholds = defaultdict(list)\n",
    "fc_names = [\"neurons\", \"features\"]\n",
    "# for faithfulness_thresh in faithfulness_threshs:\n",
    "for fc_name in fc_names:\n",
    "    for layer in layer_range:\n",
    "         # select submodules\n",
    "        criterium = str(layer)\n",
    "        criterium_name = f'layer_{criterium}'\n",
    "        selected_submodules = []\n",
    "        names = []\n",
    "        for submod in submodules:\n",
    "            name = submod_names[submod]\n",
    "            if criterium in name and not 'resid' in name:\n",
    "                selected_submodules.append(submod)\n",
    "                names.append(name)\n",
    "        print(f'Layer {layer}: {names} submodules')\n",
    "\n",
    "        faithfulness_per_layer = [faithfulness(fc, fempties[layer], fm) for fc in fc[fc_name][layer].values()]\n",
    "        faithfulness_per_layer = t.tensor(faithfulness_per_layer)\n",
    "        largest_thresh = thresholds[t.where(faithfulness_per_layer > faithfulness_thresh)[0]]\n",
    "        if len(largest_thresh) > 0:\n",
    "            l_thresh = largest_thresh[-1].item()\n",
    "            if fc_name ==\"features\":\n",
    "                feat_nodes = {\n",
    "                    submod : feature_circuit[submod_names[submod]].abs() > l_thresh for submod in selected_submodules\n",
    "                }\n",
    "                num_nodes = sum([feat_nodes[submod].act.sum().item() + feat_nodes[submod].resc.sum().item() for submod in selected_submodules])\n",
    "            elif fc_name == \"neurons\":\n",
    "                neuron_nodes = {\n",
    "                    submod : neuron_circuit[submod_names[submod]].abs() > l_thresh for submod in selected_submodules\n",
    "                }\n",
    "                num_nodes = sum([neuron_nodes[submod].act.sum().item() for submod in selected_submodules])\n",
    "            max_thresholds[faithfulness_thresh].append((layer, fc_name, l_thresh, num_nodes))"
   ]
  },
  {
   "cell_type": "code",
   "execution_count": 94,
   "metadata": {},
   "outputs": [
    {
     "name": "stdout",
     "output_type": "stream",
     "text": [
      "[68, 36, 149, 120, 347, 185]\n",
      "[37, 7, 74, 217, 86, 85]\n"
     ]
    },
    {
     "data": {
      "application/vnd.plotly.v1+json": {
       "config": {
        "plotlyServerURL": "https://plotly.com"
       },
       "data": [
        {
         "marker": {
          "color": "red"
         },
         "mode": "markers",
         "name": "neurons",
         "type": "scatter",
         "x": [
          0,
          1,
          2,
          3,
          4,
          5
         ],
         "xaxis": "x",
         "y": [
          68,
          36,
          149,
          120,
          347,
          185
         ],
         "yaxis": "y"
        },
        {
         "marker": {
          "color": "blue"
         },
         "mode": "markers",
         "name": "features",
         "type": "scatter",
         "x": [
          0,
          1,
          2,
          3,
          4,
          5
         ],
         "xaxis": "x",
         "y": [
          37,
          7,
          74,
          217,
          86,
          85
         ],
         "yaxis": "y"
        }
       ],
       "layout": {
        "template": {
         "data": {
          "bar": [
           {
            "error_x": {
             "color": "#2a3f5f"
            },
            "error_y": {
             "color": "#2a3f5f"
            },
            "marker": {
             "line": {
              "color": "#E5ECF6",
              "width": 0.5
             },
             "pattern": {
              "fillmode": "overlay",
              "size": 10,
              "solidity": 0.2
             }
            },
            "type": "bar"
           }
          ],
          "barpolar": [
           {
            "marker": {
             "line": {
              "color": "#E5ECF6",
              "width": 0.5
             },
             "pattern": {
              "fillmode": "overlay",
              "size": 10,
              "solidity": 0.2
             }
            },
            "type": "barpolar"
           }
          ],
          "carpet": [
           {
            "aaxis": {
             "endlinecolor": "#2a3f5f",
             "gridcolor": "white",
             "linecolor": "white",
             "minorgridcolor": "white",
             "startlinecolor": "#2a3f5f"
            },
            "baxis": {
             "endlinecolor": "#2a3f5f",
             "gridcolor": "white",
             "linecolor": "white",
             "minorgridcolor": "white",
             "startlinecolor": "#2a3f5f"
            },
            "type": "carpet"
           }
          ],
          "choropleth": [
           {
            "colorbar": {
             "outlinewidth": 0,
             "ticks": ""
            },
            "type": "choropleth"
           }
          ],
          "contour": [
           {
            "colorbar": {
             "outlinewidth": 0,
             "ticks": ""
            },
            "colorscale": [
             [
              0,
              "#0d0887"
             ],
             [
              0.1111111111111111,
              "#46039f"
             ],
             [
              0.2222222222222222,
              "#7201a8"
             ],
             [
              0.3333333333333333,
              "#9c179e"
             ],
             [
              0.4444444444444444,
              "#bd3786"
             ],
             [
              0.5555555555555556,
              "#d8576b"
             ],
             [
              0.6666666666666666,
              "#ed7953"
             ],
             [
              0.7777777777777778,
              "#fb9f3a"
             ],
             [
              0.8888888888888888,
              "#fdca26"
             ],
             [
              1,
              "#f0f921"
             ]
            ],
            "type": "contour"
           }
          ],
          "contourcarpet": [
           {
            "colorbar": {
             "outlinewidth": 0,
             "ticks": ""
            },
            "type": "contourcarpet"
           }
          ],
          "heatmap": [
           {
            "colorbar": {
             "outlinewidth": 0,
             "ticks": ""
            },
            "colorscale": [
             [
              0,
              "#0d0887"
             ],
             [
              0.1111111111111111,
              "#46039f"
             ],
             [
              0.2222222222222222,
              "#7201a8"
             ],
             [
              0.3333333333333333,
              "#9c179e"
             ],
             [
              0.4444444444444444,
              "#bd3786"
             ],
             [
              0.5555555555555556,
              "#d8576b"
             ],
             [
              0.6666666666666666,
              "#ed7953"
             ],
             [
              0.7777777777777778,
              "#fb9f3a"
             ],
             [
              0.8888888888888888,
              "#fdca26"
             ],
             [
              1,
              "#f0f921"
             ]
            ],
            "type": "heatmap"
           }
          ],
          "heatmapgl": [
           {
            "colorbar": {
             "outlinewidth": 0,
             "ticks": ""
            },
            "colorscale": [
             [
              0,
              "#0d0887"
             ],
             [
              0.1111111111111111,
              "#46039f"
             ],
             [
              0.2222222222222222,
              "#7201a8"
             ],
             [
              0.3333333333333333,
              "#9c179e"
             ],
             [
              0.4444444444444444,
              "#bd3786"
             ],
             [
              0.5555555555555556,
              "#d8576b"
             ],
             [
              0.6666666666666666,
              "#ed7953"
             ],
             [
              0.7777777777777778,
              "#fb9f3a"
             ],
             [
              0.8888888888888888,
              "#fdca26"
             ],
             [
              1,
              "#f0f921"
             ]
            ],
            "type": "heatmapgl"
           }
          ],
          "histogram": [
           {
            "marker": {
             "pattern": {
              "fillmode": "overlay",
              "size": 10,
              "solidity": 0.2
             }
            },
            "type": "histogram"
           }
          ],
          "histogram2d": [
           {
            "colorbar": {
             "outlinewidth": 0,
             "ticks": ""
            },
            "colorscale": [
             [
              0,
              "#0d0887"
             ],
             [
              0.1111111111111111,
              "#46039f"
             ],
             [
              0.2222222222222222,
              "#7201a8"
             ],
             [
              0.3333333333333333,
              "#9c179e"
             ],
             [
              0.4444444444444444,
              "#bd3786"
             ],
             [
              0.5555555555555556,
              "#d8576b"
             ],
             [
              0.6666666666666666,
              "#ed7953"
             ],
             [
              0.7777777777777778,
              "#fb9f3a"
             ],
             [
              0.8888888888888888,
              "#fdca26"
             ],
             [
              1,
              "#f0f921"
             ]
            ],
            "type": "histogram2d"
           }
          ],
          "histogram2dcontour": [
           {
            "colorbar": {
             "outlinewidth": 0,
             "ticks": ""
            },
            "colorscale": [
             [
              0,
              "#0d0887"
             ],
             [
              0.1111111111111111,
              "#46039f"
             ],
             [
              0.2222222222222222,
              "#7201a8"
             ],
             [
              0.3333333333333333,
              "#9c179e"
             ],
             [
              0.4444444444444444,
              "#bd3786"
             ],
             [
              0.5555555555555556,
              "#d8576b"
             ],
             [
              0.6666666666666666,
              "#ed7953"
             ],
             [
              0.7777777777777778,
              "#fb9f3a"
             ],
             [
              0.8888888888888888,
              "#fdca26"
             ],
             [
              1,
              "#f0f921"
             ]
            ],
            "type": "histogram2dcontour"
           }
          ],
          "mesh3d": [
           {
            "colorbar": {
             "outlinewidth": 0,
             "ticks": ""
            },
            "type": "mesh3d"
           }
          ],
          "parcoords": [
           {
            "line": {
             "colorbar": {
              "outlinewidth": 0,
              "ticks": ""
             }
            },
            "type": "parcoords"
           }
          ],
          "pie": [
           {
            "automargin": true,
            "type": "pie"
           }
          ],
          "scatter": [
           {
            "fillpattern": {
             "fillmode": "overlay",
             "size": 10,
             "solidity": 0.2
            },
            "type": "scatter"
           }
          ],
          "scatter3d": [
           {
            "line": {
             "colorbar": {
              "outlinewidth": 0,
              "ticks": ""
             }
            },
            "marker": {
             "colorbar": {
              "outlinewidth": 0,
              "ticks": ""
             }
            },
            "type": "scatter3d"
           }
          ],
          "scattercarpet": [
           {
            "marker": {
             "colorbar": {
              "outlinewidth": 0,
              "ticks": ""
             }
            },
            "type": "scattercarpet"
           }
          ],
          "scattergeo": [
           {
            "marker": {
             "colorbar": {
              "outlinewidth": 0,
              "ticks": ""
             }
            },
            "type": "scattergeo"
           }
          ],
          "scattergl": [
           {
            "marker": {
             "colorbar": {
              "outlinewidth": 0,
              "ticks": ""
             }
            },
            "type": "scattergl"
           }
          ],
          "scattermapbox": [
           {
            "marker": {
             "colorbar": {
              "outlinewidth": 0,
              "ticks": ""
             }
            },
            "type": "scattermapbox"
           }
          ],
          "scatterpolar": [
           {
            "marker": {
             "colorbar": {
              "outlinewidth": 0,
              "ticks": ""
             }
            },
            "type": "scatterpolar"
           }
          ],
          "scatterpolargl": [
           {
            "marker": {
             "colorbar": {
              "outlinewidth": 0,
              "ticks": ""
             }
            },
            "type": "scatterpolargl"
           }
          ],
          "scatterternary": [
           {
            "marker": {
             "colorbar": {
              "outlinewidth": 0,
              "ticks": ""
             }
            },
            "type": "scatterternary"
           }
          ],
          "surface": [
           {
            "colorbar": {
             "outlinewidth": 0,
             "ticks": ""
            },
            "colorscale": [
             [
              0,
              "#0d0887"
             ],
             [
              0.1111111111111111,
              "#46039f"
             ],
             [
              0.2222222222222222,
              "#7201a8"
             ],
             [
              0.3333333333333333,
              "#9c179e"
             ],
             [
              0.4444444444444444,
              "#bd3786"
             ],
             [
              0.5555555555555556,
              "#d8576b"
             ],
             [
              0.6666666666666666,
              "#ed7953"
             ],
             [
              0.7777777777777778,
              "#fb9f3a"
             ],
             [
              0.8888888888888888,
              "#fdca26"
             ],
             [
              1,
              "#f0f921"
             ]
            ],
            "type": "surface"
           }
          ],
          "table": [
           {
            "cells": {
             "fill": {
              "color": "#EBF0F8"
             },
             "line": {
              "color": "white"
             }
            },
            "header": {
             "fill": {
              "color": "#C8D4E3"
             },
             "line": {
              "color": "white"
             }
            },
            "type": "table"
           }
          ]
         },
         "layout": {
          "annotationdefaults": {
           "arrowcolor": "#2a3f5f",
           "arrowhead": 0,
           "arrowwidth": 1
          },
          "autotypenumbers": "strict",
          "coloraxis": {
           "colorbar": {
            "outlinewidth": 0,
            "ticks": ""
           }
          },
          "colorscale": {
           "diverging": [
            [
             0,
             "#8e0152"
            ],
            [
             0.1,
             "#c51b7d"
            ],
            [
             0.2,
             "#de77ae"
            ],
            [
             0.3,
             "#f1b6da"
            ],
            [
             0.4,
             "#fde0ef"
            ],
            [
             0.5,
             "#f7f7f7"
            ],
            [
             0.6,
             "#e6f5d0"
            ],
            [
             0.7,
             "#b8e186"
            ],
            [
             0.8,
             "#7fbc41"
            ],
            [
             0.9,
             "#4d9221"
            ],
            [
             1,
             "#276419"
            ]
           ],
           "sequential": [
            [
             0,
             "#0d0887"
            ],
            [
             0.1111111111111111,
             "#46039f"
            ],
            [
             0.2222222222222222,
             "#7201a8"
            ],
            [
             0.3333333333333333,
             "#9c179e"
            ],
            [
             0.4444444444444444,
             "#bd3786"
            ],
            [
             0.5555555555555556,
             "#d8576b"
            ],
            [
             0.6666666666666666,
             "#ed7953"
            ],
            [
             0.7777777777777778,
             "#fb9f3a"
            ],
            [
             0.8888888888888888,
             "#fdca26"
            ],
            [
             1,
             "#f0f921"
            ]
           ],
           "sequentialminus": [
            [
             0,
             "#0d0887"
            ],
            [
             0.1111111111111111,
             "#46039f"
            ],
            [
             0.2222222222222222,
             "#7201a8"
            ],
            [
             0.3333333333333333,
             "#9c179e"
            ],
            [
             0.4444444444444444,
             "#bd3786"
            ],
            [
             0.5555555555555556,
             "#d8576b"
            ],
            [
             0.6666666666666666,
             "#ed7953"
            ],
            [
             0.7777777777777778,
             "#fb9f3a"
            ],
            [
             0.8888888888888888,
             "#fdca26"
            ],
            [
             1,
             "#f0f921"
            ]
           ]
          },
          "colorway": [
           "#636efa",
           "#EF553B",
           "#00cc96",
           "#ab63fa",
           "#FFA15A",
           "#19d3f3",
           "#FF6692",
           "#B6E880",
           "#FF97FF",
           "#FECB52"
          ],
          "font": {
           "color": "#2a3f5f"
          },
          "geo": {
           "bgcolor": "white",
           "lakecolor": "white",
           "landcolor": "#E5ECF6",
           "showlakes": true,
           "showland": true,
           "subunitcolor": "white"
          },
          "hoverlabel": {
           "align": "left"
          },
          "hovermode": "closest",
          "mapbox": {
           "style": "light"
          },
          "paper_bgcolor": "white",
          "plot_bgcolor": "#E5ECF6",
          "polar": {
           "angularaxis": {
            "gridcolor": "white",
            "linecolor": "white",
            "ticks": ""
           },
           "bgcolor": "#E5ECF6",
           "radialaxis": {
            "gridcolor": "white",
            "linecolor": "white",
            "ticks": ""
           }
          },
          "scene": {
           "xaxis": {
            "backgroundcolor": "#E5ECF6",
            "gridcolor": "white",
            "gridwidth": 2,
            "linecolor": "white",
            "showbackground": true,
            "ticks": "",
            "zerolinecolor": "white"
           },
           "yaxis": {
            "backgroundcolor": "#E5ECF6",
            "gridcolor": "white",
            "gridwidth": 2,
            "linecolor": "white",
            "showbackground": true,
            "ticks": "",
            "zerolinecolor": "white"
           },
           "zaxis": {
            "backgroundcolor": "#E5ECF6",
            "gridcolor": "white",
            "gridwidth": 2,
            "linecolor": "white",
            "showbackground": true,
            "ticks": "",
            "zerolinecolor": "white"
           }
          },
          "shapedefaults": {
           "line": {
            "color": "#2a3f5f"
           }
          },
          "ternary": {
           "aaxis": {
            "gridcolor": "white",
            "linecolor": "white",
            "ticks": ""
           },
           "baxis": {
            "gridcolor": "white",
            "linecolor": "white",
            "ticks": ""
           },
           "bgcolor": "#E5ECF6",
           "caxis": {
            "gridcolor": "white",
            "linecolor": "white",
            "ticks": ""
           }
          },
          "title": {
           "x": 0.05
          },
          "xaxis": {
           "automargin": true,
           "gridcolor": "white",
           "linecolor": "white",
           "ticks": "",
           "title": {
            "standoff": 15
           },
           "zerolinecolor": "white",
           "zerolinewidth": 2
          },
          "yaxis": {
           "automargin": true,
           "gridcolor": "white",
           "linecolor": "white",
           "ticks": "",
           "title": {
            "standoff": 15
           },
           "zerolinecolor": "white",
           "zerolinewidth": 2
          }
         }
        },
        "title": {
         "text": "Minimum number of nodes to achieve at least 0.90 faithfulness"
        },
        "xaxis": {
         "anchor": "y",
         "domain": [
          0,
          1
         ],
         "title": {
          "text": "Layer"
         }
        },
        "yaxis": {
         "anchor": "x",
         "domain": [
          0,
          1
         ],
         "title": {
          "text": "Number of nodes"
         }
        }
       }
      },
      "text/html": [
       "<div>                            <div id=\"72e7b48e-e03c-4e3c-8d33-6a108bd0ee2e\" class=\"plotly-graph-div\" style=\"height:525px; width:100%;\"></div>            <script type=\"text/javascript\">                require([\"plotly\"], function(Plotly) {                    window.PLOTLYENV=window.PLOTLYENV || {};                                    if (document.getElementById(\"72e7b48e-e03c-4e3c-8d33-6a108bd0ee2e\")) {                    Plotly.newPlot(                        \"72e7b48e-e03c-4e3c-8d33-6a108bd0ee2e\",                        [{\"marker\":{\"color\":\"red\"},\"mode\":\"markers\",\"name\":\"neurons\",\"x\":[0,1,2,3,4,5],\"y\":[68,36,149,120,347,185],\"type\":\"scatter\",\"xaxis\":\"x\",\"yaxis\":\"y\"},{\"marker\":{\"color\":\"blue\"},\"mode\":\"markers\",\"name\":\"features\",\"x\":[0,1,2,3,4,5],\"y\":[37,7,74,217,86,85],\"type\":\"scatter\",\"xaxis\":\"x\",\"yaxis\":\"y\"}],                        {\"template\":{\"data\":{\"histogram2dcontour\":[{\"type\":\"histogram2dcontour\",\"colorbar\":{\"outlinewidth\":0,\"ticks\":\"\"},\"colorscale\":[[0.0,\"#0d0887\"],[0.1111111111111111,\"#46039f\"],[0.2222222222222222,\"#7201a8\"],[0.3333333333333333,\"#9c179e\"],[0.4444444444444444,\"#bd3786\"],[0.5555555555555556,\"#d8576b\"],[0.6666666666666666,\"#ed7953\"],[0.7777777777777778,\"#fb9f3a\"],[0.8888888888888888,\"#fdca26\"],[1.0,\"#f0f921\"]]}],\"choropleth\":[{\"type\":\"choropleth\",\"colorbar\":{\"outlinewidth\":0,\"ticks\":\"\"}}],\"histogram2d\":[{\"type\":\"histogram2d\",\"colorbar\":{\"outlinewidth\":0,\"ticks\":\"\"},\"colorscale\":[[0.0,\"#0d0887\"],[0.1111111111111111,\"#46039f\"],[0.2222222222222222,\"#7201a8\"],[0.3333333333333333,\"#9c179e\"],[0.4444444444444444,\"#bd3786\"],[0.5555555555555556,\"#d8576b\"],[0.6666666666666666,\"#ed7953\"],[0.7777777777777778,\"#fb9f3a\"],[0.8888888888888888,\"#fdca26\"],[1.0,\"#f0f921\"]]}],\"heatmap\":[{\"type\":\"heatmap\",\"colorbar\":{\"outlinewidth\":0,\"ticks\":\"\"},\"colorscale\":[[0.0,\"#0d0887\"],[0.1111111111111111,\"#46039f\"],[0.2222222222222222,\"#7201a8\"],[0.3333333333333333,\"#9c179e\"],[0.4444444444444444,\"#bd3786\"],[0.5555555555555556,\"#d8576b\"],[0.6666666666666666,\"#ed7953\"],[0.7777777777777778,\"#fb9f3a\"],[0.8888888888888888,\"#fdca26\"],[1.0,\"#f0f921\"]]}],\"heatmapgl\":[{\"type\":\"heatmapgl\",\"colorbar\":{\"outlinewidth\":0,\"ticks\":\"\"},\"colorscale\":[[0.0,\"#0d0887\"],[0.1111111111111111,\"#46039f\"],[0.2222222222222222,\"#7201a8\"],[0.3333333333333333,\"#9c179e\"],[0.4444444444444444,\"#bd3786\"],[0.5555555555555556,\"#d8576b\"],[0.6666666666666666,\"#ed7953\"],[0.7777777777777778,\"#fb9f3a\"],[0.8888888888888888,\"#fdca26\"],[1.0,\"#f0f921\"]]}],\"contourcarpet\":[{\"type\":\"contourcarpet\",\"colorbar\":{\"outlinewidth\":0,\"ticks\":\"\"}}],\"contour\":[{\"type\":\"contour\",\"colorbar\":{\"outlinewidth\":0,\"ticks\":\"\"},\"colorscale\":[[0.0,\"#0d0887\"],[0.1111111111111111,\"#46039f\"],[0.2222222222222222,\"#7201a8\"],[0.3333333333333333,\"#9c179e\"],[0.4444444444444444,\"#bd3786\"],[0.5555555555555556,\"#d8576b\"],[0.6666666666666666,\"#ed7953\"],[0.7777777777777778,\"#fb9f3a\"],[0.8888888888888888,\"#fdca26\"],[1.0,\"#f0f921\"]]}],\"surface\":[{\"type\":\"surface\",\"colorbar\":{\"outlinewidth\":0,\"ticks\":\"\"},\"colorscale\":[[0.0,\"#0d0887\"],[0.1111111111111111,\"#46039f\"],[0.2222222222222222,\"#7201a8\"],[0.3333333333333333,\"#9c179e\"],[0.4444444444444444,\"#bd3786\"],[0.5555555555555556,\"#d8576b\"],[0.6666666666666666,\"#ed7953\"],[0.7777777777777778,\"#fb9f3a\"],[0.8888888888888888,\"#fdca26\"],[1.0,\"#f0f921\"]]}],\"mesh3d\":[{\"type\":\"mesh3d\",\"colorbar\":{\"outlinewidth\":0,\"ticks\":\"\"}}],\"scatter\":[{\"fillpattern\":{\"fillmode\":\"overlay\",\"size\":10,\"solidity\":0.2},\"type\":\"scatter\"}],\"parcoords\":[{\"type\":\"parcoords\",\"line\":{\"colorbar\":{\"outlinewidth\":0,\"ticks\":\"\"}}}],\"scatterpolargl\":[{\"type\":\"scatterpolargl\",\"marker\":{\"colorbar\":{\"outlinewidth\":0,\"ticks\":\"\"}}}],\"bar\":[{\"error_x\":{\"color\":\"#2a3f5f\"},\"error_y\":{\"color\":\"#2a3f5f\"},\"marker\":{\"line\":{\"color\":\"#E5ECF6\",\"width\":0.5},\"pattern\":{\"fillmode\":\"overlay\",\"size\":10,\"solidity\":0.2}},\"type\":\"bar\"}],\"scattergeo\":[{\"type\":\"scattergeo\",\"marker\":{\"colorbar\":{\"outlinewidth\":0,\"ticks\":\"\"}}}],\"scatterpolar\":[{\"type\":\"scatterpolar\",\"marker\":{\"colorbar\":{\"outlinewidth\":0,\"ticks\":\"\"}}}],\"histogram\":[{\"marker\":{\"pattern\":{\"fillmode\":\"overlay\",\"size\":10,\"solidity\":0.2}},\"type\":\"histogram\"}],\"scattergl\":[{\"type\":\"scattergl\",\"marker\":{\"colorbar\":{\"outlinewidth\":0,\"ticks\":\"\"}}}],\"scatter3d\":[{\"type\":\"scatter3d\",\"line\":{\"colorbar\":{\"outlinewidth\":0,\"ticks\":\"\"}},\"marker\":{\"colorbar\":{\"outlinewidth\":0,\"ticks\":\"\"}}}],\"scattermapbox\":[{\"type\":\"scattermapbox\",\"marker\":{\"colorbar\":{\"outlinewidth\":0,\"ticks\":\"\"}}}],\"scatterternary\":[{\"type\":\"scatterternary\",\"marker\":{\"colorbar\":{\"outlinewidth\":0,\"ticks\":\"\"}}}],\"scattercarpet\":[{\"type\":\"scattercarpet\",\"marker\":{\"colorbar\":{\"outlinewidth\":0,\"ticks\":\"\"}}}],\"carpet\":[{\"aaxis\":{\"endlinecolor\":\"#2a3f5f\",\"gridcolor\":\"white\",\"linecolor\":\"white\",\"minorgridcolor\":\"white\",\"startlinecolor\":\"#2a3f5f\"},\"baxis\":{\"endlinecolor\":\"#2a3f5f\",\"gridcolor\":\"white\",\"linecolor\":\"white\",\"minorgridcolor\":\"white\",\"startlinecolor\":\"#2a3f5f\"},\"type\":\"carpet\"}],\"table\":[{\"cells\":{\"fill\":{\"color\":\"#EBF0F8\"},\"line\":{\"color\":\"white\"}},\"header\":{\"fill\":{\"color\":\"#C8D4E3\"},\"line\":{\"color\":\"white\"}},\"type\":\"table\"}],\"barpolar\":[{\"marker\":{\"line\":{\"color\":\"#E5ECF6\",\"width\":0.5},\"pattern\":{\"fillmode\":\"overlay\",\"size\":10,\"solidity\":0.2}},\"type\":\"barpolar\"}],\"pie\":[{\"automargin\":true,\"type\":\"pie\"}]},\"layout\":{\"autotypenumbers\":\"strict\",\"colorway\":[\"#636efa\",\"#EF553B\",\"#00cc96\",\"#ab63fa\",\"#FFA15A\",\"#19d3f3\",\"#FF6692\",\"#B6E880\",\"#FF97FF\",\"#FECB52\"],\"font\":{\"color\":\"#2a3f5f\"},\"hovermode\":\"closest\",\"hoverlabel\":{\"align\":\"left\"},\"paper_bgcolor\":\"white\",\"plot_bgcolor\":\"#E5ECF6\",\"polar\":{\"bgcolor\":\"#E5ECF6\",\"angularaxis\":{\"gridcolor\":\"white\",\"linecolor\":\"white\",\"ticks\":\"\"},\"radialaxis\":{\"gridcolor\":\"white\",\"linecolor\":\"white\",\"ticks\":\"\"}},\"ternary\":{\"bgcolor\":\"#E5ECF6\",\"aaxis\":{\"gridcolor\":\"white\",\"linecolor\":\"white\",\"ticks\":\"\"},\"baxis\":{\"gridcolor\":\"white\",\"linecolor\":\"white\",\"ticks\":\"\"},\"caxis\":{\"gridcolor\":\"white\",\"linecolor\":\"white\",\"ticks\":\"\"}},\"coloraxis\":{\"colorbar\":{\"outlinewidth\":0,\"ticks\":\"\"}},\"colorscale\":{\"sequential\":[[0.0,\"#0d0887\"],[0.1111111111111111,\"#46039f\"],[0.2222222222222222,\"#7201a8\"],[0.3333333333333333,\"#9c179e\"],[0.4444444444444444,\"#bd3786\"],[0.5555555555555556,\"#d8576b\"],[0.6666666666666666,\"#ed7953\"],[0.7777777777777778,\"#fb9f3a\"],[0.8888888888888888,\"#fdca26\"],[1.0,\"#f0f921\"]],\"sequentialminus\":[[0.0,\"#0d0887\"],[0.1111111111111111,\"#46039f\"],[0.2222222222222222,\"#7201a8\"],[0.3333333333333333,\"#9c179e\"],[0.4444444444444444,\"#bd3786\"],[0.5555555555555556,\"#d8576b\"],[0.6666666666666666,\"#ed7953\"],[0.7777777777777778,\"#fb9f3a\"],[0.8888888888888888,\"#fdca26\"],[1.0,\"#f0f921\"]],\"diverging\":[[0,\"#8e0152\"],[0.1,\"#c51b7d\"],[0.2,\"#de77ae\"],[0.3,\"#f1b6da\"],[0.4,\"#fde0ef\"],[0.5,\"#f7f7f7\"],[0.6,\"#e6f5d0\"],[0.7,\"#b8e186\"],[0.8,\"#7fbc41\"],[0.9,\"#4d9221\"],[1,\"#276419\"]]},\"xaxis\":{\"gridcolor\":\"white\",\"linecolor\":\"white\",\"ticks\":\"\",\"title\":{\"standoff\":15},\"zerolinecolor\":\"white\",\"automargin\":true,\"zerolinewidth\":2},\"yaxis\":{\"gridcolor\":\"white\",\"linecolor\":\"white\",\"ticks\":\"\",\"title\":{\"standoff\":15},\"zerolinecolor\":\"white\",\"automargin\":true,\"zerolinewidth\":2},\"scene\":{\"xaxis\":{\"backgroundcolor\":\"#E5ECF6\",\"gridcolor\":\"white\",\"linecolor\":\"white\",\"showbackground\":true,\"ticks\":\"\",\"zerolinecolor\":\"white\",\"gridwidth\":2},\"yaxis\":{\"backgroundcolor\":\"#E5ECF6\",\"gridcolor\":\"white\",\"linecolor\":\"white\",\"showbackground\":true,\"ticks\":\"\",\"zerolinecolor\":\"white\",\"gridwidth\":2},\"zaxis\":{\"backgroundcolor\":\"#E5ECF6\",\"gridcolor\":\"white\",\"linecolor\":\"white\",\"showbackground\":true,\"ticks\":\"\",\"zerolinecolor\":\"white\",\"gridwidth\":2}},\"shapedefaults\":{\"line\":{\"color\":\"#2a3f5f\"}},\"annotationdefaults\":{\"arrowcolor\":\"#2a3f5f\",\"arrowhead\":0,\"arrowwidth\":1},\"geo\":{\"bgcolor\":\"white\",\"landcolor\":\"#E5ECF6\",\"subunitcolor\":\"white\",\"showland\":true,\"showlakes\":true,\"lakecolor\":\"white\"},\"title\":{\"x\":0.05},\"mapbox\":{\"style\":\"light\"}}},\"xaxis\":{\"anchor\":\"y\",\"domain\":[0.0,1.0],\"title\":{\"text\":\"Layer\"}},\"yaxis\":{\"anchor\":\"x\",\"domain\":[0.0,1.0],\"title\":{\"text\":\"Number of nodes\"}},\"title\":{\"text\":\"Minimum number of nodes to achieve at least 0.90 faithfulness\"}},                        {\"responsive\": true}                    ).then(function(){\n",
       "                            \n",
       "var gd = document.getElementById('72e7b48e-e03c-4e3c-8d33-6a108bd0ee2e');\n",
       "var x = new MutationObserver(function (mutations, observer) {{\n",
       "        var display = window.getComputedStyle(gd).display;\n",
       "        if (!display || display === 'none') {{\n",
       "            console.log([gd, 'removed!']);\n",
       "            Plotly.purge(gd);\n",
       "            observer.disconnect();\n",
       "        }}\n",
       "}});\n",
       "\n",
       "// Listen for the removal of the full notebook cells\n",
       "var notebookContainer = gd.closest('#notebook-container');\n",
       "if (notebookContainer) {{\n",
       "    x.observe(notebookContainer, {childList: true});\n",
       "}}\n",
       "\n",
       "// Listen for the clearing of the current output cell\n",
       "var outputEl = gd.closest('.output');\n",
       "if (outputEl) {{\n",
       "    x.observe(outputEl, {childList: true});\n",
       "}}\n",
       "\n",
       "                        })                };                });            </script>        </div>"
      ]
     },
     "metadata": {},
     "output_type": "display_data"
    }
   ],
   "source": [
    "# Plot the thresholds over the layers\n",
    "fig = make_subplots(rows=1, cols=1)\n",
    "\n",
    "# Create a scatter plot for each layer\n",
    "# for faithfulness_thresh, max_thresholds in max_thresholds_dict.items():\n",
    "#         fc_name = \"features\"\n",
    "for fc_name in fc_names:\n",
    "        xs = list(layers)\n",
    "        ys = [num_nodes for l, f, threshold, num_nodes in max_thresholds[faithfulness_thresh] if f == fc_name]\n",
    "        print(ys)\n",
    "        # Add a scatter trace for the current layer\n",
    "        fig.add_trace(\n",
    "                go.Scatter(\n",
    "                        x=xs, \n",
    "                        y=ys, \n",
    "                        mode=\"markers\", \n",
    "                        # name=f\"{faithfulness_thresh:.2f}\",\n",
    "                        name=fc_name,\n",
    "                        marker=dict(color=colors[fc_name])\n",
    "                ),\n",
    "                row=1,\n",
    "                col=1\n",
    "        )\n",
    "\n",
    "# Set the layout of the figure\n",
    "fig.update_layout(\n",
    "        title=f\"Minimum number of nodes to achieve at least {faithfulness_thresh:.2f} faithfulness\",\n",
    "        xaxis=dict(title=\"Layer\"),\n",
    "        yaxis=dict(title= \"Number of nodes\"),\n",
    "        # legend=dict(title=\"Faithfulness threshold\"),\n",
    ")\n",
    "\n",
    "# Show the figure\n",
    "# fig.write_html(\"thresholds_per_layer.html\")\n",
    "fig.show()"
   ]
  },
  {
   "cell_type": "code",
   "execution_count": null,
   "metadata": {},
   "outputs": [],
   "source": [
    "submodules[0].__class__.__name__"
   ]
  },
  {
   "cell_type": "code",
   "execution_count": null,
   "metadata": {},
   "outputs": [],
   "source": [
    "with model.trace(clean_inputs), t.no_grad():\n",
    "    submodule_input = submodules[0].input.save()\n",
    "\n",
    "submodule_input.value[1].keys()"
   ]
  },
  {
   "cell_type": "code",
   "execution_count": null,
   "metadata": {},
   "outputs": [],
   "source": [
    "# sender_nodes doct mapping sender: output\n",
    "# receiver: dict mapping receiver to senders\n",
    "\n",
    "# tracing call\n",
    "\n",
    "# sender_outputs = defaultdict(list)\n",
    "# for all nodes in circuit\n",
    "\n",
    "\n",
    "## Structure\n",
    "# get outputs of submodules on patch inputs"
   ]
  }
 ],
 "metadata": {
  "kernelspec": {
   "display_name": "Python 3",
   "language": "python",
   "name": "python3"
  },
  "language_info": {
   "codemirror_mode": {
    "name": "ipython",
    "version": 3
   },
   "file_extension": ".py",
   "mimetype": "text/x-python",
   "name": "python",
   "nbconvert_exporter": "python",
   "pygments_lexer": "ipython3",
   "version": "3.11.8"
  }
 },
 "nbformat": 4,
 "nbformat_minor": 2
}
