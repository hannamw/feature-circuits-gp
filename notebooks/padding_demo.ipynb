{
 "cells": [
  {
   "cell_type": "code",
   "execution_count": 2,
   "metadata": {},
   "outputs": [
    {
     "name": "stderr",
     "output_type": "stream",
     "text": [
      "/home/can/.local/lib/python3.8/site-packages/tqdm/auto.py:21: TqdmWarning: IProgress not found. Please update jupyter and ipywidgets. See https://ipywidgets.readthedocs.io/en/stable/user_install.html\n",
      "  from .autonotebook import tqdm as notebook_tqdm\n"
     ]
    }
   ],
   "source": [
    "from nnsight import LanguageModel\n",
    "from torch.nn import functional as F"
   ]
  },
  {
   "cell_type": "code",
   "execution_count": 3,
   "metadata": {},
   "outputs": [
    {
     "name": "stderr",
     "output_type": "stream",
     "text": [
      "Special tokens have been added in the vocabulary, make sure the associated word embeddings are fine-tuned or trained.\n"
     ]
    },
    {
     "name": "stdout",
     "output_type": "stream",
     "text": [
      "padded tensor: tensor([[510, 637,   0,   0,   0,   0,   0,   0,   0,   0,   0,   0]])\n",
      "unpadded tensor: tensor([[510, 637]])\n"
     ]
    }
   ],
   "source": [
    "model = LanguageModel('EleutherAI/pythia-70m-deduped', dispatch=True)\n",
    "\n",
    "prompt = \"The man\"\n",
    "pad_length = 10\n",
    "unpadded = model.tokenizer(prompt, return_tensors=\"pt\", padding=False).input_ids\n",
    "padded = F.pad(unpadded, (0, pad_length), value=model.tokenizer.pad_token_id)\n",
    "\n",
    "print(f'padded tensor: {padded}')\n",
    "print(f'unpadded tensor: {unpadded}')"
   ]
  },
  {
   "cell_type": "code",
   "execution_count": 4,
   "metadata": {},
   "outputs": [],
   "source": [
    "def load_submodule(model, submodule_str):\n",
    "    if \".\" not in submodule_str:\n",
    "        return getattr(model, submodule_str)\n",
    "    \n",
    "    submodules = submodule_str.split(\".\")\n",
    "    curr_module = None\n",
    "    for module in submodules:\n",
    "        if module == \"model\":\n",
    "            continue\n",
    "        if not curr_module:\n",
    "            curr_module = getattr(model, module)\n",
    "            continue\n",
    "        curr_module = getattr(curr_module, module)\n",
    "    return curr_module\n",
    "\n",
    "submod_name = 'model.gpt_neox.layers.5.mlp.dense_4h_to_h'\n",
    "submodule = load_submodule(model, submod_name)"
   ]
  },
  {
   "cell_type": "code",
   "execution_count": 5,
   "metadata": {},
   "outputs": [
    {
     "name": "stderr",
     "output_type": "stream",
     "text": [
      "You're using a GPTNeoXTokenizerFast tokenizer. Please note that with a fast tokenizer, using the `__call__` method is faster than using a method to encode the text followed by a call to the `pad` method to get a padded encoding.\n"
     ]
    }
   ],
   "source": [
    "with model.invoke(padded, fwd_args={'inference' : True}) as invoker:\n",
    "    mlp_act_pad = submodule.output.save()\n",
    "\n",
    "with model.invoke(unpadded, fwd_args={'inference' : True}) as invoker:\n",
    "    mlp_act_unpad = submodule.output.save()"
   ]
  },
  {
   "cell_type": "code",
   "execution_count": 6,
   "metadata": {},
   "outputs": [
    {
     "name": "stdout",
     "output_type": "stream",
     "text": [
      "Difference in mlp activations for token \" man\" at position 1.\n",
      "shapes: torch.Size([1, 12, 512]), torch.Size([1, 2, 512])\n",
      "abs diff: 0.0027733445167541504\n",
      "rel diff: 0.0002457068476360291\n"
     ]
    }
   ],
   "source": [
    "# Difference in mlp activations for token position\n",
    "print(f'Difference in mlp activations for token \"{model.tokenizer.decode(padded[0, 1])}\" at position 1.')\n",
    "\n",
    "mlp_abs_diff = (mlp_act_pad.value[0, 1, :] - mlp_act_unpad.value[0, 1, :]).abs().sum()\n",
    "rel_diff = mlp_abs_diff / mlp_act_unpad.value[0, 1, :].sum()\n",
    "print(f'shapes: {mlp_act_pad.value.shape}, {mlp_act_unpad.value.shape}')\n",
    "print(f'abs diff: {mlp_abs_diff}')\n",
    "print(f'rel diff: {rel_diff}')"
   ]
  },
  {
   "cell_type": "code",
   "execution_count": null,
   "metadata": {},
   "outputs": [],
   "source": []
  },
  {
   "cell_type": "code",
   "execution_count": null,
   "metadata": {},
   "outputs": [],
   "source": []
  }
 ],
 "metadata": {
  "kernelspec": {
   "display_name": "Python 3",
   "language": "python",
   "name": "python3"
  },
  "language_info": {
   "codemirror_mode": {
    "name": "ipython",
    "version": 3
   },
   "file_extension": ".py",
   "mimetype": "text/x-python",
   "name": "python",
   "nbconvert_exporter": "python",
   "pygments_lexer": "ipython3",
   "version": "3.8.10"
  }
 },
 "nbformat": 4,
 "nbformat_minor": 2
}
