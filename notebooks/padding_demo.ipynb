{
 "cells": [
  {
   "cell_type": "markdown",
   "metadata": {},
   "source": [
    "# Setup"
   ]
  },
  {
   "cell_type": "code",
   "execution_count": 74,
   "metadata": {},
   "outputs": [],
   "source": [
    "import torch as t\n",
    "from torch.nn import functional as F\n",
    "from nnsight import LanguageModel\n",
    "\n",
    "import sys\n",
    "sys.path.append('../')\n",
    "from acdc import patching_on_y\n",
    "from loading_utils import DictionaryCfg, load_examples\n",
    "from circuit import Circuit"
   ]
  },
  {
   "cell_type": "code",
   "execution_count": 12,
   "metadata": {},
   "outputs": [
    {
     "name": "stderr",
     "output_type": "stream",
     "text": [
      "Special tokens have been added in the vocabulary, make sure the associated word embeddings are fine-tuned or trained.\n"
     ]
    }
   ],
   "source": [
    "model = LanguageModel('EleutherAI/pythia-70m-deduped', dispatch=True)\n",
    "\n",
    "dict_cfg = DictionaryCfg(\n",
    "    dictionary_dir='/share/projects/dictionary_circuits/autoencoders/pythia-70m-deduped/',\n",
    "    dictionary_size=32768\n",
    ")"
   ]
  },
  {
   "cell_type": "code",
   "execution_count": 19,
   "metadata": {},
   "outputs": [
    {
     "name": "stdout",
     "output_type": "stream",
     "text": [
      "padded tensor: tensor([[510, 637,   0,   0,   0,   0,   0,   0,   0,   0,   0,   0]])\n",
      "unpadded tensor: tensor([[510, 637]])\n"
     ]
    }
   ],
   "source": [
    "prompt = \"The man\"\n",
    "pad_length = 10\n",
    "unpadded = model.tokenizer(prompt, return_tensors=\"pt\", padding=False).input_ids\n",
    "padded = F.pad(unpadded, (0, pad_length), value=model.tokenizer.pad_token_id)\n",
    "\n",
    "print(f'padded tensor: {padded}')\n",
    "print(f'unpadded tensor: {unpadded}')"
   ]
  },
  {
   "cell_type": "code",
   "execution_count": 29,
   "metadata": {},
   "outputs": [],
   "source": [
    "# Toy dataset for the \"Plural\" task\n",
    "tok = lambda x: t.tensor(model.tokenizer.encode(x))\n",
    "toy_dataset_unpad = [dict(\n",
    "    clean_prefix=tok(\"The man\"),\n",
    "    clean_answer=tok(\" is\"),\n",
    "    patch_prefix=tok(\"The men\"),\n",
    "    patch_answer=tok(\" are\"),\n",
    "    prefix_length_wo_pad=len(unpadded[0]),\n",
    ")]\n",
    "\n",
    "pad_length = 10\n",
    "pad = lambda x: F.pad(tok(x), (0, pad_length), value=model.tokenizer.pad_token_id)\n",
    "toy_dataset_pad = [dict(\n",
    "    clean_prefix=pad(\"The man\"),\n",
    "    clean_answer=tok(\" is\"),\n",
    "    patch_prefix=pad(\"The men\"),\n",
    "    patch_answer=tok(\" are\"),\n",
    "    prefix_length_wo_pad=len(unpadded[0]),\n",
    ")]"
   ]
  },
  {
   "cell_type": "code",
   "execution_count": 40,
   "metadata": {},
   "outputs": [],
   "source": [
    "def load_submodule(model, submodule_str):\n",
    "    if \".\" not in submodule_str:\n",
    "        return getattr(model, submodule_str)\n",
    "    \n",
    "    submodules = submodule_str.split(\".\")\n",
    "    curr_module = None\n",
    "    for module in submodules:\n",
    "        if module == \"model\":\n",
    "            continue\n",
    "        if not curr_module:\n",
    "            curr_module = getattr(model, module)\n",
    "            continue\n",
    "        curr_module = getattr(curr_module, module)\n",
    "    return curr_module\n",
    "\n",
    "submod_name = 'model.gpt_neox.layers.4.mlp.dense_4h_to_h'\n",
    "submodule = load_submodule(model, submod_name)"
   ]
  },
  {
   "cell_type": "markdown",
   "metadata": {},
   "source": [
    "# Right padding affects MLP activations"
   ]
  },
  {
   "cell_type": "code",
   "execution_count": 41,
   "metadata": {},
   "outputs": [],
   "source": [
    "with model.invoke(padded, fwd_args={'inference' : True}) as invoker:\n",
    "    mlp_act_pad = submodule.output.save()\n",
    "\n",
    "with model.invoke(unpadded, fwd_args={'inference' : True}) as invoker:\n",
    "    mlp_act_unpad = submodule.output.save()"
   ]
  },
  {
   "cell_type": "code",
   "execution_count": 42,
   "metadata": {},
   "outputs": [
    {
     "name": "stdout",
     "output_type": "stream",
     "text": [
      "Difference in mlp activations for token \" man\" at position 1.\n",
      "shapes: torch.Size([1, 12, 512]), torch.Size([1, 2, 512])\n",
      "abs diff: 0.002638685517013073\n",
      "rel diff: -0.0007830197573639452\n"
     ]
    }
   ],
   "source": [
    "# Difference in mlp activations for token position\n",
    "print(f'Difference in mlp activations for token \"{model.tokenizer.decode(padded[0, 1])}\" at position 1.')\n",
    "\n",
    "mlp_abs_diff = (mlp_act_pad.value[0, 1, :] - mlp_act_unpad.value[0, 1, :]).abs().sum()\n",
    "rel_diff = mlp_abs_diff / mlp_act_unpad.value[0, 1, :].sum()\n",
    "print(f'shapes: {mlp_act_pad.value.shape}, {mlp_act_unpad.value.shape}')\n",
    "print(f'abs diff: {mlp_abs_diff}')\n",
    "print(f'rel diff: {rel_diff}')"
   ]
  },
  {
   "cell_type": "markdown",
   "metadata": {},
   "source": [
    "# Right padding affects feature effects on y"
   ]
  },
  {
   "cell_type": "code",
   "execution_count": 61,
   "metadata": {},
   "outputs": [],
   "source": [
    "submod_name = 'model.gpt_neox.layers.3.mlp.dense_4h_to_h'\n",
    "\n",
    "effects_on_y_pad, total_effect_on_y_pad = patching_on_y(\n",
    "    toy_dataset_pad,\n",
    "    model,\n",
    "    upstream_submodule_names=[submod_name],\n",
    "    dict_cfg=dict_cfg,\n",
    "    method='separate'\n",
    ")\n",
    "effects_on_y_unpad, total_effect_on_y_unpad = patching_on_y(\n",
    "    toy_dataset_unpad,\n",
    "    model,\n",
    "    upstream_submodule_names=[submod_name],\n",
    "    dict_cfg=dict_cfg,\n",
    "    method='separate'\n",
    ")"
   ]
  },
  {
   "cell_type": "code",
   "execution_count": 66,
   "metadata": {},
   "outputs": [
    {
     "data": {
      "text/plain": [
       "torch.Size([2, 32768])"
      ]
     },
     "execution_count": 66,
     "metadata": {},
     "output_type": "execute_result"
    }
   ],
   "source": [
    "eff_y_pad = effects_on_y_pad[submod_name][:2]\n",
    "eff_y_unpad = effects_on_y_unpad[submod_name][:2]\n",
    "eff_y_pad.shape"
   ]
  },
  {
   "cell_type": "code",
   "execution_count": 69,
   "metadata": {},
   "outputs": [
    {
     "data": {
      "text/plain": [
       "tensor(0.0002, grad_fn=<MaxBackward1>)"
      ]
     },
     "execution_count": 69,
     "metadata": {},
     "output_type": "execute_result"
    }
   ],
   "source": [
    "(eff_y_pad - eff_y_unpad).abs().max()"
   ]
  },
  {
   "cell_type": "code",
   "execution_count": 68,
   "metadata": {},
   "outputs": [
    {
     "data": {
      "text/plain": [
       "(tensor(0.1171, grad_fn=<MaxBackward1>),\n",
       " tensor(7.2724e-05, grad_fn=<MinBackward1>))"
      ]
     },
     "execution_count": 68,
     "metadata": {},
     "output_type": "execute_result"
    }
   ],
   "source": [
    "eff_y_unpad.abs().max(), eff_y_unpad[eff_y_unpad>0].abs().min()"
   ]
  },
  {
   "cell_type": "code",
   "execution_count": 73,
   "metadata": {},
   "outputs": [
    {
     "data": {
      "image/png": "[encoded data removed]",
      "text/plain": [
       "<Figure size 640x480 with 1 Axes>"
      ]
     },
     "metadata": {},
     "output_type": "display_data"
    }
   ],
   "source": [
    "import matplotlib.pyplot as plt\n",
    "plt.hist(eff_y_unpad[eff_y_unpad>0].abs().detach().numpy(), bins=100)\n",
    "plt.xscale('log')"
   ]
  },
  {
   "cell_type": "markdown",
   "metadata": {},
   "source": [
    "# Right padding affects circuits found"
   ]
  },
  {
   "cell_type": "code",
   "execution_count": 77,
   "metadata": {},
   "outputs": [
    {
     "name": "stderr",
     "output_type": "stream",
     "text": [
      "Special tokens have been added in the vocabulary, make sure the associated word embeddings are fine-tuned or trained.\n"
     ]
    },
    {
     "name": "stdout",
     "output_type": "stream",
     "text": [
      "\n",
      "\n",
      "Pad length: None\n",
      "\n",
      "\n"
     ]
    },
    {
     "name": "stderr",
     "output_type": "stream",
     "text": [
      "You're using a GPTNeoXTokenizerFast tokenizer. Please note that with a fast tokenizer, using the `__call__` method is faster than using a method to encode the text followed by a call to the `pad` method to get a padded encoding.\n",
      "downstream_submodules:   0%|          | 0/1 [00:00<?, ?it/s]"
     ]
    },
    {
     "name": "stdout",
     "output_type": "stream",
     "text": [
      "5_22167_mlp\n"
     ]
    },
    {
     "name": "stderr",
     "output_type": "stream",
     "text": [
      "downstream_submodules:   0%|          | 0/1 [00:00<?, ?it/s]\n"
     ]
    },
    {
     "ename": "KeyboardInterrupt",
     "evalue": "",
     "output_type": "error",
     "traceback": [
      "\u001b[0;31m---------------------------------------------------------------------------\u001b[0m",
      "\u001b[0;31mKeyboardInterrupt\u001b[0m                         Traceback (most recent call last)",
      "Cell \u001b[0;32mIn[77], line 22\u001b[0m\n\u001b[1;32m     20\u001b[0m     circuit\u001b[38;5;241m.\u001b[39my_threshold \u001b[38;5;241m=\u001b[39m y_threshold\n\u001b[1;32m     21\u001b[0m     circuit\u001b[38;5;241m.\u001b[39mfeat_threshold \u001b[38;5;241m=\u001b[39m feat_threshold\n\u001b[0;32m---> 22\u001b[0m     eff_outs\u001b[38;5;241m.\u001b[39mappend(\u001b[43mcircuit\u001b[49m\u001b[38;5;241;43m.\u001b[39;49m\u001b[43mlocate_circuit\u001b[49m\u001b[43m(\u001b[49m\u001b[43mpatch_method\u001b[49m\u001b[38;5;241;43m=\u001b[39;49m\u001b[43mpatch_method\u001b[49m\u001b[43m)\u001b[49m)\n\u001b[1;32m     23\u001b[0m     \u001b[38;5;28mprint\u001b[39m(circuit\u001b[38;5;241m.\u001b[39mto_dict())\n\u001b[1;32m     25\u001b[0m \u001b[38;5;66;03m# %%\u001b[39;00m\n",
      "File \u001b[0;32m~/dictionary-circuits/notebooks/../circuit.py:119\u001b[0m, in \u001b[0;36mCircuit.locate_circuit\u001b[0;34m(self, patch_method)\u001b[0m\n\u001b[1;32m    117\u001b[0m \u001b[38;5;28mprint\u001b[39m(ds_node\u001b[38;5;241m.\u001b[39mname)\n\u001b[1;32m    118\u001b[0m ds_node_idx \u001b[38;5;241m=\u001b[39m \u001b[38;5;28mint\u001b[39m(ds_node\u001b[38;5;241m.\u001b[39mname\u001b[38;5;241m.\u001b[39msplit(\u001b[38;5;124m\"\u001b[39m\u001b[38;5;124m_\u001b[39m\u001b[38;5;124m\"\u001b[39m)[\u001b[38;5;241m1\u001b[39m])\n\u001b[0;32m--> 119\u001b[0m feat_ds_effects \u001b[38;5;241m=\u001b[39m \u001b[43mpatching_on_downstream_feature\u001b[49m\u001b[43m(\u001b[49m\n\u001b[1;32m    120\u001b[0m \u001b[43m    \u001b[49m\u001b[38;5;28;43mself\u001b[39;49m\u001b[38;5;241;43m.\u001b[39;49m\u001b[43mdataset\u001b[49m\u001b[43m,\u001b[49m\n\u001b[1;32m    121\u001b[0m \u001b[43m    \u001b[49m\u001b[38;5;28;43mself\u001b[39;49m\u001b[38;5;241;43m.\u001b[39;49m\u001b[43mmodel\u001b[49m\u001b[43m,\u001b[49m\u001b[43m \u001b[49m\n\u001b[1;32m    122\u001b[0m \u001b[43m    \u001b[49m\u001b[43mupstream_submodule_names\u001b[49m\u001b[43m,\u001b[49m\n\u001b[1;32m    123\u001b[0m \u001b[43m    \u001b[49m\u001b[43mds_submod_name\u001b[49m\u001b[43m,\u001b[49m\n\u001b[1;32m    124\u001b[0m \u001b[43m    \u001b[49m\u001b[43mdownstream_feature_id\u001b[49m\u001b[38;5;241;43m=\u001b[39;49m\u001b[43mds_node_idx\u001b[49m\u001b[43m,\u001b[49m\n\u001b[1;32m    125\u001b[0m \u001b[43m    \u001b[49m\u001b[43mdict_cfg\u001b[49m\u001b[38;5;241;43m=\u001b[39;49m\u001b[38;5;28;43mself\u001b[39;49m\u001b[38;5;241;43m.\u001b[39;49m\u001b[43mdict_cfg\u001b[49m\u001b[43m,\u001b[49m\n\u001b[1;32m    126\u001b[0m \u001b[43m    \u001b[49m\u001b[43mmethod\u001b[49m\u001b[38;5;241;43m=\u001b[39;49m\u001b[43mpatch_method\u001b[49m\u001b[43m,\u001b[49m\n\u001b[1;32m    127\u001b[0m \u001b[43m    \u001b[49m\u001b[43m)\u001b[49m\u001b[38;5;241m.\u001b[39meffects\n\u001b[1;32m    128\u001b[0m nodes_per_submod \u001b[38;5;241m=\u001b[39m \u001b[38;5;28mself\u001b[39m\u001b[38;5;241m.\u001b[39m_evaluate_effects(feat_ds_effects, \u001b[38;5;28mself\u001b[39m\u001b[38;5;241m.\u001b[39mfeat_threshold, ds_node, nodes_per_submod)\n",
      "File \u001b[0;32m~/dictionary-circuits/notebooks/../acdc.py:71\u001b[0m, in \u001b[0;36mpatching_on_downstream_feature\u001b[0;34m(dataset, model, upstream_submodule_names, downstream_submodule_name, downstream_feature_id, dict_cfg, method, steps)\u001b[0m\n\u001b[1;32m     68\u001b[0m         f \u001b[38;5;241m=\u001b[39m f[:, :, downstream_feature_id]\n\u001b[1;32m     69\u001b[0m     \u001b[38;5;28;01mreturn\u001b[39;00m f\u001b[38;5;241m.\u001b[39msum(dim\u001b[38;5;241m=\u001b[39m\u001b[38;5;241m-\u001b[39m\u001b[38;5;241m1\u001b[39m)\n\u001b[0;32m---> 71\u001b[0m \u001b[38;5;28;01mreturn\u001b[39;00m \u001b[43mconsolidated_patching_on\u001b[49m\u001b[43m(\u001b[49m\u001b[43mdataset\u001b[49m\u001b[43m,\u001b[49m\u001b[43m \u001b[49m\u001b[43mmodel\u001b[49m\u001b[43m,\u001b[49m\u001b[43m \u001b[49m\u001b[43mupstream_submodule_names\u001b[49m\u001b[43m,\u001b[49m\u001b[43m \u001b[49m\u001b[43mdict_cfg\u001b[49m\u001b[43m,\u001b[49m\u001b[43m \u001b[49m\u001b[43mmetric_fn\u001b[49m\u001b[43m,\u001b[49m\u001b[43m \u001b[49m\u001b[43mmethod\u001b[49m\u001b[43m,\u001b[49m\u001b[43m \u001b[49m\u001b[43msteps\u001b[49m\u001b[43m)\u001b[49m\n",
      "File \u001b[0;32m~/dictionary-circuits/notebooks/../acdc.py:12\u001b[0m, in \u001b[0;36mconsolidated_patching_on\u001b[0;34m(dataset, model, upstream_submodule_names, dict_cfg, metric_fn, method, steps)\u001b[0m\n\u001b[1;32m      9\u001b[0m clean_inputs \u001b[38;5;241m=\u001b[39m t\u001b[38;5;241m.\u001b[39mcat([example[\u001b[38;5;124m'\u001b[39m\u001b[38;5;124mclean_prefix\u001b[39m\u001b[38;5;124m'\u001b[39m] \u001b[38;5;28;01mfor\u001b[39;00m example \u001b[38;5;129;01min\u001b[39;00m dataset], dim\u001b[38;5;241m=\u001b[39m\u001b[38;5;241m0\u001b[39m)\n\u001b[1;32m     10\u001b[0m patch_inputs \u001b[38;5;241m=\u001b[39m t\u001b[38;5;241m.\u001b[39mcat([example[\u001b[38;5;124m'\u001b[39m\u001b[38;5;124mpatch_prefix\u001b[39m\u001b[38;5;124m'\u001b[39m] \u001b[38;5;28;01mfor\u001b[39;00m example \u001b[38;5;129;01min\u001b[39;00m dataset], dim\u001b[38;5;241m=\u001b[39m\u001b[38;5;241m0\u001b[39m)\n\u001b[0;32m---> 12\u001b[0m effects, total_effect \u001b[38;5;241m=\u001b[39m \u001b[43mpatching_effect\u001b[49m\u001b[43m(\u001b[49m\n\u001b[1;32m     13\u001b[0m \u001b[43m    \u001b[49m\u001b[43mclean_inputs\u001b[49m\u001b[43m,\u001b[49m\n\u001b[1;32m     14\u001b[0m \u001b[43m    \u001b[49m\u001b[43mpatch_inputs\u001b[49m\u001b[43m,\u001b[49m\n\u001b[1;32m     15\u001b[0m \u001b[43m    \u001b[49m\u001b[43mmodel\u001b[49m\u001b[43m,\u001b[49m\n\u001b[1;32m     16\u001b[0m \u001b[43m    \u001b[49m\u001b[43mupstream_submodule_names\u001b[49m\u001b[43m,\u001b[49m\n\u001b[1;32m     17\u001b[0m \u001b[43m    \u001b[49m\u001b[43mdict_cfg\u001b[49m\u001b[43m,\u001b[49m\n\u001b[1;32m     18\u001b[0m \u001b[43m    \u001b[49m\u001b[43mmetric_fn\u001b[49m\u001b[43m,\u001b[49m\n\u001b[1;32m     19\u001b[0m \u001b[43m    \u001b[49m\u001b[43mmethod\u001b[49m\u001b[38;5;241;43m=\u001b[39;49m\u001b[43mmethod\u001b[49m\u001b[43m,\u001b[49m\n\u001b[1;32m     20\u001b[0m \u001b[43m    \u001b[49m\u001b[43msteps\u001b[49m\u001b[38;5;241;43m=\u001b[39;49m\u001b[43msteps\u001b[49m\u001b[43m,\u001b[49m\n\u001b[1;32m     21\u001b[0m \u001b[43m\u001b[49m\u001b[43m)\u001b[49m\n\u001b[1;32m     23\u001b[0m \u001b[38;5;28;01mreturn\u001b[39;00m EffectOut(\n\u001b[1;32m     24\u001b[0m     effects\u001b[38;5;241m=\u001b[39m{k : v\u001b[38;5;241m.\u001b[39mmean(dim\u001b[38;5;241m=\u001b[39m\u001b[38;5;241m0\u001b[39m) \u001b[38;5;28;01mfor\u001b[39;00m k, v \u001b[38;5;129;01min\u001b[39;00m effects\u001b[38;5;241m.\u001b[39mitems()},\n\u001b[1;32m     25\u001b[0m     total_effect\u001b[38;5;241m=\u001b[39mtotal_effect\u001b[38;5;241m.\u001b[39mmean(dim\u001b[38;5;241m=\u001b[39m\u001b[38;5;241m0\u001b[39m),\n\u001b[1;32m     26\u001b[0m )\n",
      "File \u001b[0;32m~/dictionary-circuits/notebooks/../attribution.py:249\u001b[0m, in \u001b[0;36mpatching_effect\u001b[0;34m(clean, patch, model, upstream_submodule_names, dict_cfg, metric_fn, method, steps)\u001b[0m\n\u001b[1;32m    247\u001b[0m     \u001b[38;5;28;01mreturn\u001b[39;00m _pe_attrib_all_folded(clean, patch, model, upstream_submodule_names, dict_cfg, metric_fn)\n\u001b[1;32m    248\u001b[0m \u001b[38;5;28;01melif\u001b[39;00m method \u001b[38;5;241m==\u001b[39m \u001b[38;5;124m'\u001b[39m\u001b[38;5;124mseparate\u001b[39m\u001b[38;5;124m'\u001b[39m:\n\u001b[0;32m--> 249\u001b[0m     \u001b[38;5;28;01mreturn\u001b[39;00m \u001b[43m_pe_attrib_separate\u001b[49m\u001b[43m(\u001b[49m\u001b[43mclean\u001b[49m\u001b[43m,\u001b[49m\u001b[43m \u001b[49m\u001b[43mpatch\u001b[49m\u001b[43m,\u001b[49m\u001b[43m \u001b[49m\u001b[43mmodel\u001b[49m\u001b[43m,\u001b[49m\u001b[43m \u001b[49m\u001b[43mupstream_submodule_names\u001b[49m\u001b[43m,\u001b[49m\u001b[43m \u001b[49m\u001b[43mdict_cfg\u001b[49m\u001b[43m,\u001b[49m\u001b[43m \u001b[49m\u001b[43mmetric_fn\u001b[49m\u001b[43m)\u001b[49m\n\u001b[1;32m    250\u001b[0m \u001b[38;5;28;01melif\u001b[39;00m method \u001b[38;5;241m==\u001b[39m \u001b[38;5;124m'\u001b[39m\u001b[38;5;124mig\u001b[39m\u001b[38;5;124m'\u001b[39m:\n\u001b[1;32m    251\u001b[0m     \u001b[38;5;28;01mreturn\u001b[39;00m _pe_ig(clean, patch, model, upstream_submodule_names, dict_cfg, metric_fn, steps\u001b[38;5;241m=\u001b[39msteps)\n",
      "File \u001b[0;32m~/dictionary-circuits/notebooks/../attribution.py:102\u001b[0m, in \u001b[0;36m_pe_attrib_separate\u001b[0;34m(clean, patch, model, upstream_submodule_names, dict_cfg, metric_fn)\u001b[0m\n\u001b[1;32m    100\u001b[0m             residual \u001b[38;5;241m=\u001b[39m (x \u001b[38;5;241m-\u001b[39m x_hat)\u001b[38;5;241m.\u001b[39mdetach()\n\u001b[1;32m    101\u001b[0m             submodule\u001b[38;5;241m.\u001b[39moutput \u001b[38;5;241m=\u001b[39m x_hat \u001b[38;5;241m+\u001b[39m residual\n\u001b[0;32m--> 102\u001b[0m         metric_clean \u001b[38;5;241m=\u001b[39m metric_fn(model)\u001b[38;5;241m.\u001b[39msave()\n\u001b[1;32m    103\u001b[0m     metric_clean\u001b[38;5;241m.\u001b[39mvalue\u001b[38;5;241m.\u001b[39msum()\u001b[38;5;241m.\u001b[39mbackward()\n\u001b[1;32m    105\u001b[0m hidden_states_patch \u001b[38;5;241m=\u001b[39m {}\n",
      "File \u001b[0;32m~/.local/lib/python3.8/site-packages/nnsight/contexts/DirectInvoker.py:32\u001b[0m, in \u001b[0;36mDirectInvoker.__exit__\u001b[0;34m(self, exc_type, exc_val, exc_tb)\u001b[0m\n\u001b[1;32m     31\u001b[0m \u001b[38;5;28;01mdef\u001b[39;00m \u001b[38;5;21m__exit__\u001b[39m(\u001b[38;5;28mself\u001b[39m, exc_type, exc_val, exc_tb) \u001b[38;5;241m-\u001b[39m\u001b[38;5;241m>\u001b[39m \u001b[38;5;28;01mNone\u001b[39;00m:\n\u001b[0;32m---> 32\u001b[0m     \u001b[43mInvoker\u001b[49m\u001b[38;5;241;43m.\u001b[39;49m\u001b[38;5;21;43m__exit__\u001b[39;49m\u001b[43m(\u001b[49m\u001b[38;5;28;43mself\u001b[39;49m\u001b[43m,\u001b[49m\u001b[43m \u001b[49m\u001b[43mexc_type\u001b[49m\u001b[43m,\u001b[49m\u001b[43m \u001b[49m\u001b[43mexc_val\u001b[49m\u001b[43m,\u001b[49m\u001b[43m \u001b[49m\u001b[43mexc_tb\u001b[49m\u001b[43m)\u001b[49m\n\u001b[1;32m     33\u001b[0m     \u001b[38;5;28mself\u001b[39m\u001b[38;5;241m.\u001b[39mfwd_args\u001b[38;5;241m.\u001b[39mpop(\u001b[38;5;124m\"\u001b[39m\u001b[38;5;124mvalidate\u001b[39m\u001b[38;5;124m\"\u001b[39m, \u001b[38;5;28;01mNone\u001b[39;00m)\n\u001b[1;32m     34\u001b[0m     \u001b[38;5;28mself\u001b[39m\u001b[38;5;241m.\u001b[39mkwargs \u001b[38;5;241m=\u001b[39m \u001b[38;5;28mself\u001b[39m\u001b[38;5;241m.\u001b[39mfwd_args\n",
      "File \u001b[0;32m~/.local/lib/python3.8/site-packages/nnsight/contexts/Invoker.py:79\u001b[0m, in \u001b[0;36mInvoker.__exit__\u001b[0;34m(self, exc_type, exc_val, exc_tb)\u001b[0m\n\u001b[1;32m     77\u001b[0m \u001b[38;5;28;01mdef\u001b[39;00m \u001b[38;5;21m__exit__\u001b[39m(\u001b[38;5;28mself\u001b[39m, exc_type, exc_val, exc_tb) \u001b[38;5;241m-\u001b[39m\u001b[38;5;241m>\u001b[39m \u001b[38;5;28;01mNone\u001b[39;00m:\n\u001b[1;32m     78\u001b[0m     \u001b[38;5;28;01mif\u001b[39;00m \u001b[38;5;28misinstance\u001b[39m(exc_val, \u001b[38;5;167;01mBaseException\u001b[39;00m):\n\u001b[0;32m---> 79\u001b[0m         \u001b[38;5;28;01mraise\u001b[39;00m exc_val\n",
      "File \u001b[0;32m~/dictionary-circuits/notebooks/../attribution.py:102\u001b[0m, in \u001b[0;36m_pe_attrib_separate\u001b[0;34m(clean, patch, model, upstream_submodule_names, dict_cfg, metric_fn)\u001b[0m\n\u001b[1;32m    100\u001b[0m             residual \u001b[38;5;241m=\u001b[39m (x \u001b[38;5;241m-\u001b[39m x_hat)\u001b[38;5;241m.\u001b[39mdetach()\n\u001b[1;32m    101\u001b[0m             submodule\u001b[38;5;241m.\u001b[39moutput \u001b[38;5;241m=\u001b[39m x_hat \u001b[38;5;241m+\u001b[39m residual\n\u001b[0;32m--> 102\u001b[0m         metric_clean \u001b[38;5;241m=\u001b[39m \u001b[43mmetric_fn\u001b[49m\u001b[43m(\u001b[49m\u001b[43mmodel\u001b[49m\u001b[43m)\u001b[49m\u001b[38;5;241m.\u001b[39msave()\n\u001b[1;32m    103\u001b[0m     metric_clean\u001b[38;5;241m.\u001b[39mvalue\u001b[38;5;241m.\u001b[39msum()\u001b[38;5;241m.\u001b[39mbackward()\n\u001b[1;32m    105\u001b[0m hidden_states_patch \u001b[38;5;241m=\u001b[39m {}\n",
      "File \u001b[0;32m~/dictionary-circuits/notebooks/../acdc.py:65\u001b[0m, in \u001b[0;36mpatching_on_downstream_feature.<locals>.metric_fn\u001b[0;34m(model)\u001b[0m\n\u001b[1;32m     63\u001b[0m     f \u001b[38;5;241m=\u001b[39m downstream_dictionary\u001b[38;5;241m.\u001b[39mencode(x[\u001b[38;5;241m0\u001b[39m])\n\u001b[1;32m     64\u001b[0m \u001b[38;5;28;01melse\u001b[39;00m:\n\u001b[0;32m---> 65\u001b[0m     f \u001b[38;5;241m=\u001b[39m \u001b[43mdownstream_dictionary\u001b[49m\u001b[38;5;241;43m.\u001b[39;49m\u001b[43mencode\u001b[49m\u001b[43m(\u001b[49m\u001b[43mx\u001b[49m\u001b[43m)\u001b[49m\n\u001b[1;32m     67\u001b[0m \u001b[38;5;28;01mif\u001b[39;00m downstream_feature_id:\n\u001b[1;32m     68\u001b[0m     f \u001b[38;5;241m=\u001b[39m f[:, :, downstream_feature_id]\n",
      "File \u001b[0;32m~/dictionary-circuits/notebooks/../dictionary_learning/dictionary.py:48\u001b[0m, in \u001b[0;36mAutoEncoder.encode\u001b[0;34m(self, x)\u001b[0m\n\u001b[1;32m     47\u001b[0m \u001b[38;5;28;01mdef\u001b[39;00m \u001b[38;5;21mencode\u001b[39m(\u001b[38;5;28mself\u001b[39m, x):\n\u001b[0;32m---> 48\u001b[0m     \u001b[38;5;28;01mreturn\u001b[39;00m nn\u001b[38;5;241m.\u001b[39mReLU()(\u001b[38;5;28mself\u001b[39m\u001b[38;5;241m.\u001b[39mencoder(\u001b[43mx\u001b[49m\u001b[43m \u001b[49m\u001b[38;5;241;43m-\u001b[39;49m\u001b[43m \u001b[49m\u001b[38;5;28;43mself\u001b[39;49m\u001b[38;5;241;43m.\u001b[39;49m\u001b[43mbias\u001b[49m))\n",
      "File \u001b[0;32m~/.local/lib/python3.8/site-packages/nnsight/tracing/Proxy.py:110\u001b[0m, in \u001b[0;36mProxy.__sub__\u001b[0;34m(self, other)\u001b[0m\n\u001b[1;32m    109\u001b[0m \u001b[38;5;28;01mdef\u001b[39;00m \u001b[38;5;21m__sub__\u001b[39m(\u001b[38;5;28mself\u001b[39m, other: Union[Proxy, Any]) \u001b[38;5;241m-\u001b[39m\u001b[38;5;241m>\u001b[39m Proxy:\n\u001b[0;32m--> 110\u001b[0m     \u001b[38;5;28;01mreturn\u001b[39;00m \u001b[38;5;28;43mself\u001b[39;49m\u001b[38;5;241;43m.\u001b[39;49m\u001b[43mnode\u001b[49m\u001b[38;5;241;43m.\u001b[39;49m\u001b[43mgraph\u001b[49m\u001b[38;5;241;43m.\u001b[39;49m\u001b[43madd\u001b[49m\u001b[43m(\u001b[49m\n\u001b[1;32m    111\u001b[0m \u001b[43m        \u001b[49m\u001b[43mtarget\u001b[49m\u001b[38;5;241;43m=\u001b[39;49m\u001b[43moperator\u001b[49m\u001b[38;5;241;43m.\u001b[39;49m\u001b[43msub\u001b[49m\u001b[43m,\u001b[49m\n\u001b[1;32m    112\u001b[0m \u001b[43m        \u001b[49m\u001b[43margs\u001b[49m\u001b[38;5;241;43m=\u001b[39;49m\u001b[43m[\u001b[49m\u001b[38;5;28;43mself\u001b[39;49m\u001b[38;5;241;43m.\u001b[39;49m\u001b[43mnode\u001b[49m\u001b[43m,\u001b[49m\u001b[43m \u001b[49m\u001b[43mother\u001b[49m\u001b[43m]\u001b[49m\u001b[43m,\u001b[49m\n\u001b[1;32m    113\u001b[0m \u001b[43m    \u001b[49m\u001b[43m)\u001b[49m\n",
      "File \u001b[0;32m~/.local/lib/python3.8/site-packages/nnsight/tracing/Graph.py:237\u001b[0m, in \u001b[0;36mGraph.add\u001b[0;34m(self, target, value, args, kwargs, name)\u001b[0m\n\u001b[1;32m    233\u001b[0m     name \u001b[38;5;241m=\u001b[39m \u001b[38;5;124mf\u001b[39m\u001b[38;5;124m\"\u001b[39m\u001b[38;5;132;01m{\u001b[39;00mtarget_name\u001b[38;5;132;01m}\u001b[39;00m\u001b[38;5;124m_\u001b[39m\u001b[38;5;132;01m{\u001b[39;00m\u001b[38;5;28mself\u001b[39m\u001b[38;5;241m.\u001b[39mname_idx[target_name]\u001b[38;5;132;01m}\u001b[39;00m\u001b[38;5;124m\"\u001b[39m\n\u001b[1;32m    235\u001b[0m \u001b[38;5;28mself\u001b[39m\u001b[38;5;241m.\u001b[39mname_idx[target_name] \u001b[38;5;241m+\u001b[39m\u001b[38;5;241m=\u001b[39m \u001b[38;5;241m1\u001b[39m\n\u001b[0;32m--> 237\u001b[0m stack \u001b[38;5;241m=\u001b[39m \u001b[43minspect\u001b[49m\u001b[38;5;241;43m.\u001b[39;49m\u001b[43mstack\u001b[49m\u001b[43m(\u001b[49m\u001b[43m)\u001b[49m\n\u001b[1;32m    238\u001b[0m proxy_frame \u001b[38;5;241m=\u001b[39m stack[\u001b[38;5;241m2\u001b[39m]\n\u001b[1;32m    240\u001b[0m node \u001b[38;5;241m=\u001b[39m Node(\n\u001b[1;32m    241\u001b[0m     name\u001b[38;5;241m=\u001b[39mname,\n\u001b[1;32m    242\u001b[0m     graph\u001b[38;5;241m=\u001b[39m\u001b[38;5;28mself\u001b[39m,\n\u001b[0;32m   (...)\u001b[0m\n\u001b[1;32m    247\u001b[0m     meta\u001b[38;5;241m=\u001b[39m{\u001b[38;5;124m\"\u001b[39m\u001b[38;5;124mline\u001b[39m\u001b[38;5;124m\"\u001b[39m: proxy_frame\u001b[38;5;241m.\u001b[39mlineno, \u001b[38;5;124m\"\u001b[39m\u001b[38;5;124mfile\u001b[39m\u001b[38;5;124m\"\u001b[39m: proxy_frame\u001b[38;5;241m.\u001b[39mfilename},\n\u001b[1;32m    248\u001b[0m )\n",
      "File \u001b[0;32m/usr/lib/python3.8/inspect.py:1526\u001b[0m, in \u001b[0;36mstack\u001b[0;34m(context)\u001b[0m\n\u001b[1;32m   1524\u001b[0m \u001b[38;5;28;01mdef\u001b[39;00m \u001b[38;5;21mstack\u001b[39m(context\u001b[38;5;241m=\u001b[39m\u001b[38;5;241m1\u001b[39m):\n\u001b[1;32m   1525\u001b[0m \u001b[38;5;250m    \u001b[39m\u001b[38;5;124;03m\"\"\"Return a list of records for the stack above the caller's frame.\"\"\"\u001b[39;00m\n\u001b[0;32m-> 1526\u001b[0m     \u001b[38;5;28;01mreturn\u001b[39;00m \u001b[43mgetouterframes\u001b[49m\u001b[43m(\u001b[49m\u001b[43msys\u001b[49m\u001b[38;5;241;43m.\u001b[39;49m\u001b[43m_getframe\u001b[49m\u001b[43m(\u001b[49m\u001b[38;5;241;43m1\u001b[39;49m\u001b[43m)\u001b[49m\u001b[43m,\u001b[49m\u001b[43m \u001b[49m\u001b[43mcontext\u001b[49m\u001b[43m)\u001b[49m\n",
      "File \u001b[0;32m/usr/lib/python3.8/inspect.py:1503\u001b[0m, in \u001b[0;36mgetouterframes\u001b[0;34m(frame, context)\u001b[0m\n\u001b[1;32m   1501\u001b[0m framelist \u001b[38;5;241m=\u001b[39m []\n\u001b[1;32m   1502\u001b[0m \u001b[38;5;28;01mwhile\u001b[39;00m frame:\n\u001b[0;32m-> 1503\u001b[0m     frameinfo \u001b[38;5;241m=\u001b[39m (frame,) \u001b[38;5;241m+\u001b[39m \u001b[43mgetframeinfo\u001b[49m\u001b[43m(\u001b[49m\u001b[43mframe\u001b[49m\u001b[43m,\u001b[49m\u001b[43m \u001b[49m\u001b[43mcontext\u001b[49m\u001b[43m)\u001b[49m\n\u001b[1;32m   1504\u001b[0m     framelist\u001b[38;5;241m.\u001b[39mappend(FrameInfo(\u001b[38;5;241m*\u001b[39mframeinfo))\n\u001b[1;32m   1505\u001b[0m     frame \u001b[38;5;241m=\u001b[39m frame\u001b[38;5;241m.\u001b[39mf_back\n",
      "File \u001b[0;32m/usr/lib/python3.8/inspect.py:1477\u001b[0m, in \u001b[0;36mgetframeinfo\u001b[0;34m(frame, context)\u001b[0m\n\u001b[1;32m   1475\u001b[0m start \u001b[38;5;241m=\u001b[39m lineno \u001b[38;5;241m-\u001b[39m \u001b[38;5;241m1\u001b[39m \u001b[38;5;241m-\u001b[39m context\u001b[38;5;241m/\u001b[39m\u001b[38;5;241m/\u001b[39m\u001b[38;5;241m2\u001b[39m\n\u001b[1;32m   1476\u001b[0m \u001b[38;5;28;01mtry\u001b[39;00m:\n\u001b[0;32m-> 1477\u001b[0m     lines, lnum \u001b[38;5;241m=\u001b[39m \u001b[43mfindsource\u001b[49m\u001b[43m(\u001b[49m\u001b[43mframe\u001b[49m\u001b[43m)\u001b[49m\n\u001b[1;32m   1478\u001b[0m \u001b[38;5;28;01mexcept\u001b[39;00m \u001b[38;5;167;01mOSError\u001b[39;00m:\n\u001b[1;32m   1479\u001b[0m     lines \u001b[38;5;241m=\u001b[39m index \u001b[38;5;241m=\u001b[39m \u001b[38;5;28;01mNone\u001b[39;00m\n",
      "File \u001b[0;32m/usr/lib/python3.8/inspect.py:783\u001b[0m, in \u001b[0;36mfindsource\u001b[0;34m(object)\u001b[0m\n\u001b[1;32m    780\u001b[0m file \u001b[38;5;241m=\u001b[39m getsourcefile(\u001b[38;5;28mobject\u001b[39m)\n\u001b[1;32m    781\u001b[0m \u001b[38;5;28;01mif\u001b[39;00m file:\n\u001b[1;32m    782\u001b[0m     \u001b[38;5;66;03m# Invalidate cache if needed.\u001b[39;00m\n\u001b[0;32m--> 783\u001b[0m     \u001b[43mlinecache\u001b[49m\u001b[38;5;241m.\u001b[39mcheckcache(file)\n\u001b[1;32m    784\u001b[0m \u001b[38;5;28;01melse\u001b[39;00m:\n\u001b[1;32m    785\u001b[0m     file \u001b[38;5;241m=\u001b[39m getfile(\u001b[38;5;28mobject\u001b[39m)\n",
      "\u001b[0;31mKeyboardInterrupt\u001b[0m: "
     ]
    }
   ],
   "source": [
    "model_name = \"EleutherAI/pythia-70m-deduped\"\n",
    "submodules_generic = [\"model.gpt_neox.layers.{}.mlp.dense_4h_to_h\"]\n",
    "dictionary_dir = \"/share/projects/dictionary_circuits/autoencoders/pythia-70m-deduped\"\n",
    "dictionary_size = 32768\n",
    "dataset_dir_share = \"/share/projects/dictionary_circuits/data/phenomena/simple.json\"\n",
    "num_examples = 100\n",
    "patch_method = \"separate\"\n",
    "y_threshold = 0.1\n",
    "feat_threshold = 0.1\n",
    "\n",
    "eff_outs = []\n",
    "for pad_length in [None, 10]:\n",
    "    print(f\"\\n\\nPad length: {pad_length}\\n\\n\")\n",
    "\n",
    "    model = LanguageModel(model_name, dispatch=True)\n",
    "    model.local_model.requires_grad_(True)\n",
    "    dataset = load_examples(dataset_dir_share, num_examples, model, pad_to_length=pad_length)\n",
    "\n",
    "    circuit = Circuit(model, submodules_generic, dictionary_dir, dictionary_size, dataset)\n",
    "    circuit.y_threshold = y_threshold\n",
    "    circuit.feat_threshold = feat_threshold\n",
    "    eff_outs.append(circuit.locate_circuit(patch_method=patch_method))\n",
    "    print(circuit.to_dict())\n",
    "\n",
    "# %%\n",
    "print(f'total effect difference for padding: {eff_outs[0].total_effect.abs().sum() - eff_outs[1].total_effect.abs().sum()}')\n",
    "for i in range (6):\n",
    "    print(f\"\\nSubmodule: {i}\")\n",
    "    submod_name = f'model.gpt_neox.layers.{i}.mlp.dense_4h_to_h'\n",
    "    effects_pos1_nopad = eff_outs[0].effects[submod_name].abs()[1, :]\n",
    "    effects_pos1_pad = eff_outs[1].effects[submod_name].abs()[1, :]\n",
    "    print(f'sum of effect diff: {effects_pos1_pad.sum() - effects_pos1_nopad.sum()}')\n",
    "    print(f'max effect diff: {(effects_pos1_nopad - effects_pos1_pad).max()}')\n"
   ]
  },
  {
   "cell_type": "code",
   "execution_count": null,
   "metadata": {},
   "outputs": [],
   "source": []
  }
 ],
 "metadata": {
  "kernelspec": {
   "display_name": "Python 3",
   "language": "python",
   "name": "python3"
  },
  "language_info": {
   "codemirror_mode": {
    "name": "ipython",
    "version": 3
   },
   "file_extension": ".py",
   "mimetype": "text/x-python",
   "name": "python",
   "nbconvert_exporter": "python",
   "pygments_lexer": "ipython3",
   "version": "3.8.10"
  }
 },
 "nbformat": 4,
 "nbformat_minor": 2
}
