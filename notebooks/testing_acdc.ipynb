{
 "cells": [
  {
   "cell_type": "markdown",
   "metadata": {},
   "source": [
    "# Testing patching functions in acdc.py\n",
    "## Setup"
   ]
  },
  {
   "cell_type": "code",
   "execution_count": 1,
   "metadata": {},
   "outputs": [
    {
     "name": "stderr",
     "output_type": "stream",
     "text": [
      "/home/can/.local/lib/python3.8/site-packages/tqdm/auto.py:21: TqdmWarning: IProgress not found. Please update jupyter and ipywidgets. See https://ipywidgets.readthedocs.io/en/stable/user_install.html\n",
      "  from .autonotebook import tqdm as notebook_tqdm\n"
     ]
    }
   ],
   "source": [
    "# Imports\n",
    "import zstandard as zstd\n",
    "import json\n",
    "import os\n",
    "import io\n",
    "from tqdm import tqdm\n",
    "import sys\n",
    "sys.path.append('..')\n",
    "\n",
    "from einops import rearrange\n",
    "import torch as t\n",
    "from nnsight import LanguageModel\n",
    "from dictionary_learning.buffer import ActivationBuffer\n",
    "from dictionary_learning.dictionary import AutoEncoder\n",
    "from dictionary_learning.training import trainSAE\n",
    "from acdc import patching_on_y, patching_on_downstream_feature\n",
    "\n",
    "import matplotlib.pyplot as plt\n",
    "import pandas as pd\n",
    "import imageio\n",
    "from circuitsvis.activations import text_neuron_activations"
   ]
  },
  {
   "cell_type": "code",
   "execution_count": 2,
   "metadata": {},
   "outputs": [],
   "source": [
    "# Global variables\n",
    "ACTIVATION_DIM = 512\n",
    "DICTIONARY_SIZE = 64 * ACTIVATION_DIM # This is the dict_size sam mostly works with.\n",
    "EPS = 1e-8"
   ]
  },
  {
   "cell_type": "code",
   "execution_count": 3,
   "metadata": {},
   "outputs": [
    {
     "name": "stderr",
     "output_type": "stream",
     "text": [
      "Special tokens have been added in the vocabulary, make sure the associated word embeddings are fine-tuned or trained.\n"
     ]
    }
   ],
   "source": [
    "# Model and SAEs\n",
    "model = LanguageModel('EleutherAI/pythia-70m-deduped', device_map='cuda:0')\n",
    "submodules = [\n",
    "    layer.mlp for layer in model.gpt_neox.layers\n",
    "]\n",
    "\n",
    "dictionaries = []\n",
    "for i in range(len(submodules)):\n",
    "    dictionary = AutoEncoder(ACTIVATION_DIM, DICTIONARY_SIZE).to('cuda:0')\n",
    "    dictionary.load_state_dict(t.load(f'/share/projects/dictionary_circuits/autoencoders/pythia-70m-deduped/mlp_out_layer{i}/1_32768/ae.pt'))\n",
    "    dictionaries.append(dictionary)"
   ]
  },
  {
   "cell_type": "code",
   "execution_count": 4,
   "metadata": {},
   "outputs": [
    {
     "data": {
      "text/plain": [
       "tensor([510, 637])"
      ]
     },
     "execution_count": 4,
     "metadata": {},
     "output_type": "execute_result"
    }
   ],
   "source": [
    "# Toy dataset for the \"Plural\" task\n",
    "\n",
    "plural_token_pos = 1\n",
    "tok = lambda x: t.tensor(model.tokenizer.encode(x))\n",
    "toy_dataset = [dict(\n",
    "    clean_prefix=tok(\"The man\"),\n",
    "    clean_answer=tok(\" is\"),\n",
    "    patch_prefix=tok(\"The men\"),\n",
    "    patch_answer=tok(\" are\"),\n",
    "\n",
    ")]\n",
    "\n",
    "toy_dataset[0]['clean_prefix']"
   ]
  },
  {
   "cell_type": "code",
   "execution_count": 5,
   "metadata": {},
   "outputs": [],
   "source": [
    "# Diverse dataset for Circuitvis evaluation\n",
    "\n",
    "# set up data as a generator\n",
    "data_path = '/share/data/datasets/pile/the-eye.eu/public/AI/pile/train/00.jsonl.zst'\n",
    "compressed_file = open(data_path, 'rb')\n",
    "dctx = zstd.ZstdDecompressor()\n",
    "reader = dctx.stream_reader(compressed_file)\n",
    "text_stream = io.TextIOWrapper(reader, encoding='utf-8')\n",
    "def generator():\n",
    "    for line in text_stream:\n",
    "        yield json.loads(line)['text']\n",
    "data = generator()\n",
    "\n",
    "# Buffer tied to one specific submodule!\n",
    "buffer = ActivationBuffer(\n",
    "    data,\n",
    "    model,\n",
    "    submodules[0], # we only use data from the buffer, not acttivations. Thus we can pass any submodule here\n",
    "    io='out',\n",
    "    in_feats=ACTIVATION_DIM,\n",
    "    out_feats=ACTIVATION_DIM,\n",
    "    in_batch_size=512,\n",
    "    out_batch_size=2 ** 15,\n",
    "    n_ctxs=1e4,\n",
    ")\n",
    "\n",
    "tokenized_prompts = buffer.tokenized_batch(batch_size=512) # [batch, n_ctx]"
   ]
  },
  {
   "cell_type": "code",
   "execution_count": 6,
   "metadata": {},
   "outputs": [],
   "source": [
    "# Circuitsvis visualization\n",
    "\n",
    "def get_feature_activations(layer):\n",
    "    '''\n",
    "    Function for retrieving feature activations from tokenized batch\n",
    "    returns activations for all submodules, dictionaries if layer == None\n",
    "    \n",
    "    '''\n",
    "    with model.generate(max_new_tokens=1, pad_token_id=model.tokenizer.pad_token_id) as generator:\n",
    "        with generator.invoke(tokenized_prompts['input_ids'], scan=False) as invoker:\n",
    "            hidden_states = submodules[layer].output.save() # hidden_states.value: [batch, n_ctx, d_mlp]\n",
    "    dictionary_activation = dictionaries[layer].encode(hidden_states.value)\n",
    "    return dictionary_activation\n",
    "\n",
    "def list_decode(x):\n",
    "    if isinstance(x, int):\n",
    "        return model.tokenizer.decode(x)\n",
    "    else:\n",
    "        return [list_decode(y) for y in x]\n",
    "    \n",
    "def topk_prompts_provider(feature_layer: int, feature_id: int, k: int = 30):\n",
    "    # Sort examples in batch by max feature activation\n",
    "    dictionary_activations = get_feature_activations(feature_layer)\n",
    "    acts = dictionary_activations[:, :, feature_id].cpu() # acts: [batch, pos]\n",
    "    flattened_acts = rearrange(acts, 'b l -> (b l)')\n",
    "    topk_indices = t.argsort(flattened_acts, dim=0, descending=True)[:k] \n",
    "    batch_indices = topk_indices // acts.shape[1]\n",
    "    token_indices = topk_indices % acts.shape[1]\n",
    "\n",
    "    # Visualize\n",
    "    tokens = [\n",
    "    tokenized_prompts['input_ids'][batch_idx, :token_idx+1].tolist() for batch_idx, token_idx in zip(batch_indices, token_indices)\n",
    "    ]\n",
    "    tokens = list_decode(tokens)\n",
    "    activations = [\n",
    "        acts[batch_idx, :token_id+1, None, None] for batch_idx, token_id in zip(batch_indices, token_indices)\n",
    "    ]\n",
    "    return tokens, activations"
   ]
  },
  {
   "cell_type": "markdown",
   "metadata": {},
   "source": [
    "## Testing `patching_on_y`\n",
    "Evaluate causal effects of features in layer 5 on the logit diff between clean and patch answers."
   ]
  },
  {
   "cell_type": "code",
   "execution_count": 7,
   "metadata": {},
   "outputs": [],
   "source": [
    "layer_patching_on_y = 5"
   ]
  },
  {
   "cell_type": "code",
   "execution_count": 8,
   "metadata": {},
   "outputs": [
    {
     "name": "stderr",
     "output_type": "stream",
     "text": [
      "You're using a GPTNeoXTokenizerFast tokenizer. Please note that with a fast tokenizer, using the `__call__` method is faster than using a method to encode the text followed by a call to the `pad` method to get a padded encoding.\n"
     ]
    },
    {
     "name": "stdout",
     "output_type": "stream",
     "text": [
      "total metric diff after replacing clean prefix with patch prefix: 8.8028564453125\n"
     ]
    }
   ],
   "source": [
    "effects_on_y, total_effect_on_y = patching_on_y(\n",
    "    toy_dataset,\n",
    "    model,\n",
    "    submodules,\n",
    "    dictionaries,\n",
    "    method='all-folded'\n",
    ")\n",
    "\n",
    "print(f'total metric diff after replacing clean prefix with patch prefix: {total_effect_on_y}')"
   ]
  },
  {
   "cell_type": "code",
   "execution_count": 9,
   "metadata": {},
   "outputs": [
    {
     "name": "stdout",
     "output_type": "stream",
     "text": [
      "Top 10 features in layer 5 with highest impact on logit diff\n",
      "feat 22167:\t 0.15118589997291565\n",
      "feat 7352:\t 0.0881505087018013\n",
      "feat 10880:\t 0.07269265502691269\n",
      "feat 14747:\t 0.06640410423278809\n",
      "feat 13505:\t 0.05375915765762329\n",
      "feat 19033:\t 0.023533198982477188\n",
      "feat 20780:\t 0.02276180312037468\n",
      "feat 30204:\t 0.013442937284708023\n",
      "feat 5580:\t 0.012757625430822372\n",
      "feat 25775:\t 0.011507009156048298\n"
     ]
    }
   ],
   "source": [
    "# Top 10 features in layer `layer_patching_on_y` with highest impact on logit diff\n",
    "\n",
    "# Only effect on token position `plural_token_pos` matters for \"Plurals\" task\n",
    "effects_on_y = effects_on_y[submodules[layer_patching_on_y]][plural_token_pos].detach().cpu()\n",
    "top_effects_on_y = t.argsort(effects_on_y, descending=True)[:10]\n",
    "top_features_on_y = []\n",
    "print(f'Top 10 features in layer {layer_patching_on_y} with highest impact on logit diff')\n",
    "for i in top_effects_on_y:\n",
    "    top_features_on_y.append(i)\n",
    "    print(f'feat {i}:\\t {effects_on_y[i]}')"
   ]
  },
  {
   "cell_type": "code",
   "execution_count": 10,
   "metadata": {},
   "outputs": [
    {
     "data": {
      "image/png": "[encoded data removed]",
      "text/plain": [
       "<Figure size 640x480 with 1 Axes>"
      ]
     },
     "metadata": {},
     "output_type": "display_data"
    }
   ],
   "source": [
    "plt.figure()\n",
    "plt.hist(effects_on_y[effects_on_y.abs() > EPS], bins=100)\n",
    "plt.xscale('log')\n",
    "plt.title(f'Feature effect on logit diff distribution\\nMLP={layer_patching_on_y}');\n",
    "plt.xlabel('Mean feature activation')\n",
    "plt.ylabel('Frequency');"
   ]
  },
  {
   "cell_type": "code",
   "execution_count": 11,
   "metadata": {},
   "outputs": [
    {
     "data": {
      "text/html": [
       "<div id=\"circuits-vis-5729b72a-0f27\" style=\"margin: 15px 0;\"/>\n",
       "    <script crossorigin type=\"module\">\n",
       "    import { render, TextNeuronActivations } from \"https://unpkg.com/circuitsvis@1.43.2/dist/cdn/esm.js\";\n",
       "    render(\n",
       "      \"circuits-vis-5729b72a-0f27\",\n",
       "      TextNeuronActivations,\n",
       "      {\"tokens\": [[\"It\", \"\\u2019\", \"s\", \" a\", \" crime\", \" so\", \" horrible\", \" that\", \" it\", \"\\u2019\", \"s\", \" hard\", \" to\", \" imagine\", \".\", \" On\", \" Thursday\", \",\", \" a\", \" man\"], [\"It\", \"\\u2019\", \"s\", \" a\", \" crime\", \" so\", \" horrible\", \" that\", \" it\", \"\\u2019\", \"s\", \" hard\", \" to\", \" imagine\", \".\", \" On\", \" Thursday\", \",\", \" a\", \" man\", \" in\", \" C\", \"ang\", \"gu\", \" cut\", \" off\", \" his\", \" wife\", \"\\u2019\", \"s\", \" left\", \" foot\", \" and\", \" attempted\", \" to\", \" cle\", \"ave\", \" off\", \" her\", \" right\", \" foot\", \" as\", \" well\", \".\", \" The\", \" attack\", \" occurred\", \" in\", \" front\", \" of\", \" the\", \" couple\", \"\\u2019\", \"s\", \" young\", \" children\", \",\", \" who\", \" have\", \" now\", \" been\", \" sent\", \" to\", \" their\", \" grandmother\", \" in\", \" Sing\", \"ar\", \"aja\", \" for\", \" care\", \".\", \"\\n\", \"\\n\", \"The\", \" woman\"], [\"Seven\", \" rare\", \" rh\", \"inos\", \" spotted\", \" in\", \" Indonesian\", \" jungle\", \"\\n\", \"\\n\", \"August\", \" 9\", \",\", \" 2012\", \" in\", \" Biology\", \" /\", \" Ec\", \"ology\", \"\\n\", \"\\n\", \"In\", \" this\", \" und\", \"ated\", \" photo\", \" released\", \" by\", \" Le\", \"user\", \" International\", \" Foundation\", \",\", \" a\", \" Sum\", \"at\", \"ran\", \" rh\", \"ino\", \" ro\", \"ams\", \" at\", \" Gun\", \"ung\", \" Le\", \"user\", \" National\", \" Park\", \" in\", \" Ace\", \"h\", \" province\", \",\", \" Indonesia\", \".\", \" A\", \" conservation\", \"ist\"], [\"<|endoftext|>\", \"<|endoftext|>\", \"<|endoftext|>\", \"<|endoftext|>\", \"<|endoftext|>\", \"<|endoftext|>\", \"<|endoftext|>\", \"<|endoftext|>\", \"<|endoftext|>\", \"<|endoftext|>\", \"<|endoftext|>\", \"<|endoftext|>\", \"<|endoftext|>\", \"<|endoftext|>\", \"<|endoftext|>\", \"MI\", \"AM\", \"I\", \" \\u2013\", \" City\", \" of\", \" Miami\", \" police\", \" and\", \" fire\", \" rescue\", \" were\", \" able\", \" to\", \" convince\", \" a\", \" man\"], [\"\\\"\", \"Ryan\", \" got\", \" six\", \" months\", \" probation\", \" and\", \" five\", \" public\", \" work\", \" days\", \",\\\"\", \" a\", \" source\", \" told\", \" Rad\", \"ar\", \".\", \" \\\"\", \"He\", \" has\", \" random\", \" drug\", \" tests\", \" in\", \" between\", \".\\\"\", \"\\n\\n\\n\", \"\\n\", \"Ed\", \"wards\", \",\", \" 30\", \",\", \" showed\", \" up\", \" to\", \" Red\", \" Bank\", \" City\", \" Court\", \" in\", \" a\", \" pink\", \" button\", \"-\", \"down\", \" shirt\", \" without\", \" his\", \" supportive\", \" wife\", \" Mack\", \"enzie\", \" by\", \" his\", \" side\", \".\", \"\\n\", \"\\n\", \"The\", \" legal\", \" trouble\", \" started\", \" when\", \" Mac\", \"i\", \" Book\", \"out\", \" '\", \"s\", \" baby\", \" daddy\", \" was\", \" hit\", \" with\", \" a\", \" citation\", \" on\", \" March\", \" 12\", \",\", \" 2017\", \".\", \" Police\", \" pulled\", \" him\", \" over\", \" during\", \" a\", \" traffic\", \" stop\", \" for\", \" expired\", \" registration\", \".\", \" During\", \" the\", \" stop\", \",\", \" an\", \" officer\"]], \"activations\": [[[[0.0]], [[0.0]], [[0.0]], [[0.0]], [[0.0]], [[0.0]], [[0.0]], [[0.0]], [[0.0]], [[0.0]], [[0.0]], [[0.0]], [[0.0]], [[0.0]], [[0.0]], [[0.0]], [[0.0]], [[0.0]], [[0.0]], [[6.451082706451416]]], [[[0.0]], [[0.0]], [[0.0]], [[0.0]], [[0.0]], [[0.0]], [[0.0]], [[0.0]], [[0.0]], [[0.0]], [[0.0]], [[0.0]], [[0.0]], [[0.0]], [[0.0]], [[0.0]], [[0.0]], [[0.0]], [[0.0]], [[6.451082706451416]], [[0.0]], [[0.0]], [[0.0]], [[0.0]], [[0.0]], [[0.0]], [[0.0]], [[0.0]], [[0.0]], [[0.0]], [[0.0]], [[0.0]], [[0.0]], [[0.0]], [[0.0]], [[0.0]], [[0.0]], [[0.0]], [[0.0]], [[0.0]], [[0.0]], [[0.0]], [[0.0]], [[0.0]], [[0.0]], [[0.0]], [[0.0]], [[0.0]], [[0.0]], [[0.0]], [[0.0]], [[0.29218006134033203]], [[0.0]], [[0.0]], [[0.0]], [[0.0]], [[0.0]], [[0.0]], [[0.0]], [[0.0]], [[0.0]], [[0.0]], [[0.0]], [[0.0]], [[0.0]], [[0.0]], [[0.0]], [[0.0]], [[0.0]], [[0.0]], [[0.0]], [[0.0]], [[0.0]], [[0.0]], [[0.0]], [[4.788418292999268]]], [[[0.0]], [[0.0]], [[0.0]], [[0.0]], [[0.0]], [[0.0]], [[0.0]], [[0.0]], [[0.0]], [[0.0]], [[0.0]], [[0.0]], [[0.0]], [[0.0]], [[0.0]], [[0.0]], [[0.0]], [[0.0]], [[0.0]], [[0.0]], [[0.0]], [[0.0]], [[0.0]], [[0.0]], [[0.0]], [[0.0]], [[0.0]], [[0.0]], [[0.0]], [[0.0]], [[0.0]], [[0.0]], [[0.0]], [[0.0]], [[0.0]], [[0.0]], [[0.0]], [[0.0]], [[0.4353809356689453]], [[0.0]], [[0.0]], [[0.0]], [[0.0]], [[0.0]], [[0.0]], [[0.0]], [[0.0]], [[0.0]], [[0.0]], [[0.0]], [[0.0]], [[0.0]], [[0.0]], [[0.0]], [[0.09580636024475098]], [[0.0]], [[0.0]], [[3.778489589691162]]], [[[0.0]], [[0.0]], [[0.0]], [[0.0]], [[0.0]], [[0.0]], [[0.0]], [[0.0]], [[0.0]], [[0.0]], [[0.0]], [[0.0]], [[0.0]], [[0.0]], [[0.0]], [[0.0]], [[0.0]], [[0.0]], [[0.0]], [[0.0]], [[0.0]], [[0.0]], [[0.0]], [[0.0]], [[0.0]], [[0.0]], [[0.0]], [[0.0]], [[0.0]], [[0.0]], [[0.0]], [[3.607823371887207]]], [[[0.0]], [[0.0]], [[0.0]], [[0.0]], [[0.0]], [[0.0]], [[0.0]], [[0.0]], [[0.0]], [[0.0]], [[0.0]], [[0.0]], [[0.0]], [[2.5565948486328125]], [[0.0]], [[0.0]], [[0.0]], [[0.0]], [[0.0]], [[0.0]], [[0.0]], [[0.0]], [[0.0]], [[0.0]], [[0.0]], [[0.0]], [[0.0]], [[0.0]], [[0.0]], [[0.0]], [[0.0]], [[0.0]], [[0.0]], [[0.0]], [[0.0]], [[0.0]], [[0.0]], [[0.0]], [[0.0]], [[0.0]], [[0.0]], [[0.0]], [[0.0]], [[0.0]], [[0.0]], [[0.0]], [[0.0]], [[0.0]], [[0.0]], [[0.0]], [[0.0]], [[0.0]], [[0.0]], [[0.0]], [[0.0]], [[0.0]], [[0.0]], [[0.0]], [[0.0]], [[0.0]], [[0.0]], [[0.0]], [[0.0]], [[0.0]], [[0.0]], [[0.0]], [[0.0]], [[0.0]], [[0.24161767959594727]], [[0.0]], [[0.0]], [[0.8047651052474976]], [[2.14845609664917]], [[0.11858808994293213]], [[0.0]], [[0.0]], [[0.0]], [[0.2730443477630615]], [[0.0]], [[0.0]], [[0.0]], [[0.0]], [[0.0]], [[0.0]], [[0.0]], [[0.0]], [[0.15681684017181396]], [[0.0]], [[0.0]], [[0.0]], [[0.0]], [[0.0]], [[0.0]], [[0.0]], [[0.0]], [[0.0]], [[0.0]], [[0.0]], [[0.0]], [[0.0]], [[0.023138761520385742]], [[3.190941333770752]]]], \"firstDimensionName\": \"Layer\", \"secondDimensionName\": \"Neuron\"}\n",
       "    )\n",
       "    </script>"
      ],
      "text/plain": [
       "<circuitsvis.utils.render.RenderedHTML at 0x7f34a06985e0>"
      ]
     },
     "execution_count": 11,
     "metadata": {},
     "output_type": "execute_result"
    }
   ],
   "source": [
    "# Need to stack functions to display circuitvis properly\n",
    "text_neuron_activations(\n",
    "    *topk_prompts_provider(\n",
    "        feature_layer=layer_patching_on_y, \n",
    "        feature_id=top_features_on_y[0],\n",
    "        k=5\n",
    "))"
   ]
  },
  {
   "cell_type": "markdown",
   "metadata": {},
   "source": [
    "5/22167 seems to activate on singular nouns related do people."
   ]
  },
  {
   "cell_type": "markdown",
   "metadata": {},
   "source": [
    "## Testing `patching_on_downstream_feature`"
   ]
  },
  {
   "cell_type": "code",
   "execution_count": 12,
   "metadata": {},
   "outputs": [],
   "source": [
    "downstream_feat_layer = 5\n",
    "downstream_feat_id = 22167\n",
    "\n",
    "k_upstream_feats = 3"
   ]
  },
  {
   "cell_type": "code",
   "execution_count": 20,
   "metadata": {},
   "outputs": [
    {
     "ename": "RuntimeError",
     "evalue": "CUDA error: device-side assert triggered\nCUDA kernel errors might be asynchronously reported at some other API call, so the stacktrace below might be incorrect.\nFor debugging consider passing CUDA_LAUNCH_BLOCKING=1.\nCompile with `TORCH_USE_CUDA_DSA` to enable device-side assertions.\n",
     "output_type": "error",
     "traceback": [
      "\u001b[0;31m---------------------------------------------------------------------------\u001b[0m",
      "\u001b[0;31mRuntimeError\u001b[0m                              Traceback (most recent call last)",
      "Cell \u001b[0;32mIn[20], line 1\u001b[0m\n\u001b[0;32m----> 1\u001b[0m effects_on_dsfeat, total_effect_on_dsfeat \u001b[38;5;241m=\u001b[39m \u001b[43mpatching_on_downstream_feature\u001b[49m\u001b[43m(\u001b[49m\n\u001b[1;32m      2\u001b[0m \u001b[43m    \u001b[49m\u001b[43mtoy_dataset\u001b[49m\u001b[43m,\u001b[49m\n\u001b[1;32m      3\u001b[0m \u001b[43m    \u001b[49m\u001b[43mmodel\u001b[49m\u001b[43m,\u001b[49m\n\u001b[1;32m      4\u001b[0m \u001b[43m    \u001b[49m\u001b[43msubmodules\u001b[49m\u001b[43m,\u001b[49m\n\u001b[1;32m      5\u001b[0m \u001b[43m    \u001b[49m\u001b[43mdictionaries\u001b[49m\u001b[43m,\u001b[49m\n\u001b[1;32m      6\u001b[0m \u001b[43m    \u001b[49m\u001b[43mdownstream_feature_layer\u001b[49m\u001b[38;5;241;43m=\u001b[39;49m\u001b[43mdownstream_feat_layer\u001b[49m\u001b[43m,\u001b[49m\n\u001b[1;32m      7\u001b[0m \u001b[43m    \u001b[49m\u001b[43mdownstream_feature_id\u001b[49m\u001b[38;5;241;43m=\u001b[39;49m\u001b[43mdownstream_feat_id\u001b[49m\u001b[43m,\u001b[49m\u001b[43m \u001b[49m\n\u001b[1;32m      8\u001b[0m \u001b[43m    \u001b[49m\u001b[43mmethod\u001b[49m\u001b[38;5;241;43m=\u001b[39;49m\u001b[38;5;124;43m'\u001b[39;49m\u001b[38;5;124;43mall-folded\u001b[39;49m\u001b[38;5;124;43m'\u001b[39;49m\n\u001b[1;32m      9\u001b[0m \u001b[43m)\u001b[49m\n\u001b[1;32m     11\u001b[0m \u001b[38;5;28mprint\u001b[39m(\u001b[38;5;124mf\u001b[39m\u001b[38;5;124m'\u001b[39m\u001b[38;5;124mtotal metric diff after replacing clean prefix with patch prefix: \u001b[39m\u001b[38;5;132;01m{\u001b[39;00mtotal_effect_on_dsfeat\u001b[38;5;132;01m}\u001b[39;00m\u001b[38;5;124m'\u001b[39m)\n",
      "File \u001b[0;32m~/dictionary-circuits/notebooks/../acdc.py:55\u001b[0m, in \u001b[0;36mpatching_on_downstream_feature\u001b[0;34m(dataset, model, submodules, dictionaries, downstream_feature_layer, downstream_feature_id, method, steps)\u001b[0m\n\u001b[1;32m     52\u001b[0m     \u001b[38;5;28;01mreturn\u001b[39;00m consolidated_patching_on(dataset, model, submodules, dictionaries, metric_fn, method, steps)\n\u001b[1;32m     54\u001b[0m \u001b[38;5;66;03m# Outdated patching_on_y; split up into two functions now\u001b[39;00m\n\u001b[0;32m---> 55\u001b[0m \u001b[38;5;124;03m'''\u001b[39;00m\n\u001b[1;32m     56\u001b[0m \u001b[38;5;124;03mdef patching_on_y(\u001b[39;00m\n\u001b[1;32m     57\u001b[0m \u001b[38;5;124;03m    dataset,\u001b[39;00m\n\u001b[1;32m     58\u001b[0m \u001b[38;5;124;03m    model,\u001b[39;00m\n\u001b[1;32m     59\u001b[0m \u001b[38;5;124;03m    submodules,\u001b[39;00m\n\u001b[1;32m     60\u001b[0m \u001b[38;5;124;03m    dictionaries,\u001b[39;00m\n\u001b[1;32m     61\u001b[0m \u001b[38;5;124;03m    method='all-folded',\u001b[39;00m\n\u001b[1;32m     62\u001b[0m \u001b[38;5;124;03m    steps=10,\u001b[39;00m\n\u001b[1;32m     63\u001b[0m \u001b[38;5;124;03m):\u001b[39;00m\n\u001b[1;32m     64\u001b[0m \u001b[38;5;124;03m    clean_inputs = t.cat([example['clean_prefix'] for example in dataset], dim=0)\u001b[39;00m\n\u001b[1;32m     65\u001b[0m \u001b[38;5;124;03m    patch_inputs = t.cat([example['patch_prefix'] for example in dataset], dim=0)\u001b[39;00m\n\u001b[1;32m     66\u001b[0m \u001b[38;5;124;03m    clean_answer_idxs = t.Tensor([example['clean_answer'] for example in dataset]).long() # shape [n_examples]\u001b[39;00m\n\u001b[1;32m     67\u001b[0m \u001b[38;5;124;03m    patch_answer_idxs = t.Tensor([example['patch_answer'] for example in dataset]).long()\u001b[39;00m\n\u001b[1;32m     68\u001b[0m \n\u001b[1;32m     69\u001b[0m \u001b[38;5;124;03m    def metric_fn(model):\u001b[39;00m\n\u001b[1;32m     70\u001b[0m \u001b[38;5;124;03m        logits = model.embed_out.output[:, -1, :] # shape [n_examples, vocab_size]\u001b[39;00m\n\u001b[1;32m     71\u001b[0m \u001b[38;5;124;03m        logit_diff = t.gather(\u001b[39;00m\n\u001b[1;32m     72\u001b[0m \u001b[38;5;124;03m            logits,\u001b[39;00m\n\u001b[1;32m     73\u001b[0m \u001b[38;5;124;03m            dim=-1,\u001b[39;00m\n\u001b[1;32m     74\u001b[0m \u001b[38;5;124;03m            index=patch_answer_idxs.unsqueeze(-1)\u001b[39;00m\n\u001b[1;32m     75\u001b[0m \u001b[38;5;124;03m        ) - t.gather(\u001b[39;00m\n\u001b[1;32m     76\u001b[0m \u001b[38;5;124;03m            logits,\u001b[39;00m\n\u001b[1;32m     77\u001b[0m \u001b[38;5;124;03m            dim=-1,\u001b[39;00m\n\u001b[1;32m     78\u001b[0m \u001b[38;5;124;03m            index=clean_answer_idxs.unsqueeze(-1)\u001b[39;00m\n\u001b[1;32m     79\u001b[0m \u001b[38;5;124;03m        )\u001b[39;00m\n\u001b[1;32m     80\u001b[0m \u001b[38;5;124;03m        return logit_diff.squeeze(-1) # shape [n_examples]\u001b[39;00m\n\u001b[1;32m     81\u001b[0m \n\u001b[1;32m     82\u001b[0m \u001b[38;5;124;03m    effects, total_effect = patching_effect(\u001b[39;00m\n\u001b[1;32m     83\u001b[0m \u001b[38;5;124;03m        clean_inputs,\u001b[39;00m\n\u001b[1;32m     84\u001b[0m \u001b[38;5;124;03m        patch_inputs,\u001b[39;00m\n\u001b[1;32m     85\u001b[0m \u001b[38;5;124;03m        model,\u001b[39;00m\n\u001b[1;32m     86\u001b[0m \u001b[38;5;124;03m        submodules,\u001b[39;00m\n\u001b[1;32m     87\u001b[0m \u001b[38;5;124;03m        dictionaries,\u001b[39;00m\n\u001b[1;32m     88\u001b[0m \u001b[38;5;124;03m        metric_fn,\u001b[39;00m\n\u001b[1;32m     89\u001b[0m \u001b[38;5;124;03m        method=method,\u001b[39;00m\n\u001b[1;32m     90\u001b[0m \u001b[38;5;124;03m        steps=steps,\u001b[39;00m\n\u001b[1;32m     91\u001b[0m \u001b[38;5;124;03m    )\u001b[39;00m\n\u001b[1;32m     92\u001b[0m \n\u001b[1;32m     93\u001b[0m \u001b[38;5;124;03m    return EffectOut(\u001b[39;00m\n\u001b[1;32m     94\u001b[0m \u001b[38;5;124;03m        effects={k : v.mean(dim=0) for k, v in effects.items()}, # v shape: [pos, d_sae]\u001b[39;00m\n\u001b[1;32m     95\u001b[0m \u001b[38;5;124;03m        total_effect=total_effect.mean(dim=0),\u001b[39;00m\n\u001b[1;32m     96\u001b[0m \u001b[38;5;124;03m    )\u001b[39;00m\n\u001b[1;32m     97\u001b[0m \u001b[38;5;124;03m'''\u001b[39;00m\n\u001b[1;32m     99\u001b[0m \u001b[38;5;66;03m# Outdated patching_on_feature_activation()\u001b[39;00m\n\u001b[1;32m    100\u001b[0m \u001b[38;5;124;03m'''\u001b[39;00m\n\u001b[1;32m    101\u001b[0m \u001b[38;5;124;03mdef get_hook(submodule_idx, patch, clean, threshold, mean_effects):\u001b[39;00m\n\u001b[1;32m    102\u001b[0m \u001b[38;5;124;03m    def hook(grad):\u001b[39;00m\n\u001b[0;32m   (...)\u001b[0m\n\u001b[1;32m    234\u001b[0m \u001b[38;5;124;03m    return mean_effects\u001b[39;00m\n\u001b[1;32m    235\u001b[0m \u001b[38;5;124;03m'''\u001b[39;00m\n",
      "File \u001b[0;32m~/dictionary-circuits/notebooks/../acdc.py:11\u001b[0m, in \u001b[0;36mconsolidated_patching_on\u001b[0;34m(dataset, model, submodules, dictionaries, metric_fn, method, steps)\u001b[0m\n\u001b[1;32m      8\u001b[0m clean_inputs \u001b[38;5;241m=\u001b[39m t\u001b[38;5;241m.\u001b[39mcat([example[\u001b[38;5;124m'\u001b[39m\u001b[38;5;124mclean_prefix\u001b[39m\u001b[38;5;124m'\u001b[39m] \u001b[38;5;28;01mfor\u001b[39;00m example \u001b[38;5;129;01min\u001b[39;00m dataset], dim\u001b[38;5;241m=\u001b[39m\u001b[38;5;241m0\u001b[39m)\n\u001b[1;32m      9\u001b[0m patch_inputs \u001b[38;5;241m=\u001b[39m t\u001b[38;5;241m.\u001b[39mcat([example[\u001b[38;5;124m'\u001b[39m\u001b[38;5;124mpatch_prefix\u001b[39m\u001b[38;5;124m'\u001b[39m] \u001b[38;5;28;01mfor\u001b[39;00m example \u001b[38;5;129;01min\u001b[39;00m dataset], dim\u001b[38;5;241m=\u001b[39m\u001b[38;5;241m0\u001b[39m)\n\u001b[0;32m---> 11\u001b[0m effects, total_effect \u001b[38;5;241m=\u001b[39m \u001b[43mpatching_effect\u001b[49m\u001b[43m(\u001b[49m\n\u001b[1;32m     12\u001b[0m \u001b[43m    \u001b[49m\u001b[43mclean_inputs\u001b[49m\u001b[43m,\u001b[49m\n\u001b[1;32m     13\u001b[0m \u001b[43m    \u001b[49m\u001b[43mpatch_inputs\u001b[49m\u001b[43m,\u001b[49m\n\u001b[1;32m     14\u001b[0m \u001b[43m    \u001b[49m\u001b[43mmodel\u001b[49m\u001b[43m,\u001b[49m\n\u001b[1;32m     15\u001b[0m \u001b[43m    \u001b[49m\u001b[43msubmodules\u001b[49m\u001b[43m,\u001b[49m\n\u001b[1;32m     16\u001b[0m \u001b[43m    \u001b[49m\u001b[43mdictionaries\u001b[49m\u001b[43m,\u001b[49m\n\u001b[1;32m     17\u001b[0m \u001b[43m    \u001b[49m\u001b[43mmetric_fn\u001b[49m\u001b[43m,\u001b[49m\n\u001b[1;32m     18\u001b[0m \u001b[43m    \u001b[49m\u001b[43mmethod\u001b[49m\u001b[38;5;241;43m=\u001b[39;49m\u001b[43mmethod\u001b[49m\u001b[43m,\u001b[49m\n\u001b[1;32m     19\u001b[0m \u001b[43m    \u001b[49m\u001b[43msteps\u001b[49m\u001b[38;5;241;43m=\u001b[39;49m\u001b[43msteps\u001b[49m\u001b[43m,\u001b[49m\n\u001b[1;32m     20\u001b[0m \u001b[43m\u001b[49m\u001b[43m)\u001b[49m\n\u001b[1;32m     22\u001b[0m \u001b[38;5;28;01mreturn\u001b[39;00m EffectOut(\n\u001b[1;32m     23\u001b[0m     effects\u001b[38;5;241m=\u001b[39m{k : v\u001b[38;5;241m.\u001b[39mmean(dim\u001b[38;5;241m=\u001b[39m\u001b[38;5;241m0\u001b[39m) \u001b[38;5;28;01mfor\u001b[39;00m k, v \u001b[38;5;129;01min\u001b[39;00m effects\u001b[38;5;241m.\u001b[39mitems()},\n\u001b[1;32m     24\u001b[0m     total_effect\u001b[38;5;241m=\u001b[39mtotal_effect\u001b[38;5;241m.\u001b[39mmean(dim\u001b[38;5;241m=\u001b[39m\u001b[38;5;241m0\u001b[39m),\n\u001b[1;32m     25\u001b[0m )\n",
      "File \u001b[0;32m~/dictionary-circuits/notebooks/../attribution.py:203\u001b[0m, in \u001b[0;36mpatching_effect\u001b[0;34m(clean, patch, model, submodules, dictionaries, metric_fn, method, steps)\u001b[0m\n\u001b[1;32m    192\u001b[0m \u001b[38;5;28;01mdef\u001b[39;00m \u001b[38;5;21mpatching_effect\u001b[39m(\n\u001b[1;32m    193\u001b[0m         clean,\n\u001b[1;32m    194\u001b[0m         patch,\n\u001b[0;32m   (...)\u001b[0m\n\u001b[1;32m    200\u001b[0m         steps\u001b[38;5;241m=\u001b[39m\u001b[38;5;241m10\u001b[39m,\n\u001b[1;32m    201\u001b[0m ):\n\u001b[1;32m    202\u001b[0m     \u001b[38;5;28;01mif\u001b[39;00m method \u001b[38;5;241m==\u001b[39m \u001b[38;5;124m'\u001b[39m\u001b[38;5;124mall-folded\u001b[39m\u001b[38;5;124m'\u001b[39m:\n\u001b[0;32m--> 203\u001b[0m         \u001b[38;5;28;01mreturn\u001b[39;00m \u001b[43m_pe_attrib_all_folded\u001b[49m\u001b[43m(\u001b[49m\u001b[43mclean\u001b[49m\u001b[43m,\u001b[49m\u001b[43m \u001b[49m\u001b[43mpatch\u001b[49m\u001b[43m,\u001b[49m\u001b[43m \u001b[49m\u001b[43mmodel\u001b[49m\u001b[43m,\u001b[49m\u001b[43m \u001b[49m\u001b[43msubmodules\u001b[49m\u001b[43m,\u001b[49m\u001b[43m \u001b[49m\u001b[43mdictionaries\u001b[49m\u001b[43m,\u001b[49m\u001b[43m \u001b[49m\u001b[43mmetric_fn\u001b[49m\u001b[43m)\u001b[49m\n\u001b[1;32m    204\u001b[0m     \u001b[38;5;28;01melif\u001b[39;00m method \u001b[38;5;241m==\u001b[39m \u001b[38;5;124m'\u001b[39m\u001b[38;5;124mseparate\u001b[39m\u001b[38;5;124m'\u001b[39m:\n\u001b[1;32m    205\u001b[0m         \u001b[38;5;28;01mreturn\u001b[39;00m _pe_attrib_separate(clean, patch, model, submodules, dictionaries, metric_fn)\n",
      "File \u001b[0;32m~/dictionary-circuits/notebooks/../attribution.py:27\u001b[0m, in \u001b[0;36m_pe_attrib_all_folded\u001b[0;34m(clean, patch, model, submodules, dictionaries, metric_fn)\u001b[0m\n\u001b[1;32m     25\u001b[0m         residual \u001b[38;5;241m=\u001b[39m (x \u001b[38;5;241m-\u001b[39m x_hat)\u001b[38;5;241m.\u001b[39mdetach()\n\u001b[1;32m     26\u001b[0m         submodule\u001b[38;5;241m.\u001b[39moutput \u001b[38;5;241m=\u001b[39m x_hat \u001b[38;5;241m+\u001b[39m residual\n\u001b[0;32m---> 27\u001b[0m     metric_clean \u001b[38;5;241m=\u001b[39m metric_fn(model)\u001b[38;5;241m.\u001b[39msave()\n\u001b[1;32m     28\u001b[0m metric_clean\u001b[38;5;241m.\u001b[39mvalue\u001b[38;5;241m.\u001b[39msum()\u001b[38;5;241m.\u001b[39mbackward()\n\u001b[1;32m     30\u001b[0m \u001b[38;5;28;01mwith\u001b[39;00m model\u001b[38;5;241m.\u001b[39minvoke(patch):\n",
      "File \u001b[0;32m~/.local/lib/python3.8/site-packages/nnsight/contexts/DirectInvoker.py:37\u001b[0m, in \u001b[0;36mDirectInvoker.__exit__\u001b[0;34m(self, exc_type, exc_val, exc_tb)\u001b[0m\n\u001b[1;32m     34\u001b[0m \u001b[38;5;28mself\u001b[39m\u001b[38;5;241m.\u001b[39mkwargs \u001b[38;5;241m=\u001b[39m \u001b[38;5;28mself\u001b[39m\u001b[38;5;241m.\u001b[39mfwd_args\n\u001b[1;32m     35\u001b[0m \u001b[38;5;28mself\u001b[39m\u001b[38;5;241m.\u001b[39margs \u001b[38;5;241m=\u001b[39m []\n\u001b[0;32m---> 37\u001b[0m \u001b[43mRunner\u001b[49m\u001b[38;5;241;43m.\u001b[39;49m\u001b[38;5;21;43m__exit__\u001b[39;49m\u001b[43m(\u001b[49m\u001b[38;5;28;43mself\u001b[39;49m\u001b[43m,\u001b[49m\u001b[43m \u001b[49m\u001b[43mexc_type\u001b[49m\u001b[43m,\u001b[49m\u001b[43m \u001b[49m\u001b[43mexc_val\u001b[49m\u001b[43m,\u001b[49m\u001b[43m \u001b[49m\u001b[43mexc_tb\u001b[49m\u001b[43m)\u001b[49m\n",
      "File \u001b[0;32m~/.local/lib/python3.8/site-packages/nnsight/contexts/Runner.py:69\u001b[0m, in \u001b[0;36mRunner.__exit__\u001b[0;34m(self, exc_type, exc_val, exc_tb)\u001b[0m\n\u001b[1;32m     67\u001b[0m     \u001b[38;5;28mself\u001b[39m\u001b[38;5;241m.\u001b[39mrun_server()\n\u001b[1;32m     68\u001b[0m \u001b[38;5;28;01melse\u001b[39;00m:\n\u001b[0;32m---> 69\u001b[0m     \u001b[38;5;28;43mself\u001b[39;49m\u001b[38;5;241;43m.\u001b[39;49m\u001b[43mrun_local\u001b[49m\u001b[43m(\u001b[49m\u001b[43m)\u001b[49m\n",
      "File \u001b[0;32m~/.local/lib/python3.8/site-packages/nnsight/contexts/Runner.py:74\u001b[0m, in \u001b[0;36mRunner.run_local\u001b[0;34m(self)\u001b[0m\n\u001b[1;32m     72\u001b[0m \u001b[38;5;250m\u001b[39m\u001b[38;5;124;03m\"\"\"Runs the local_model using it's chosen method.\"\"\"\u001b[39;00m\n\u001b[1;32m     73\u001b[0m \u001b[38;5;66;03m# Run the model and store the output.\u001b[39;00m\n\u001b[0;32m---> 74\u001b[0m \u001b[38;5;28mself\u001b[39m\u001b[38;5;241m.\u001b[39moutput \u001b[38;5;241m=\u001b[39m \u001b[38;5;28;43mself\u001b[39;49m\u001b[38;5;241;43m.\u001b[39;49m\u001b[43mmodel\u001b[49m\u001b[43m(\u001b[49m\n\u001b[1;32m     75\u001b[0m \u001b[43m    \u001b[49m\u001b[38;5;28;43mself\u001b[39;49m\u001b[38;5;241;43m.\u001b[39;49m\u001b[43mmodel\u001b[49m\u001b[38;5;241;43m.\u001b[39;49m\u001b[43m_generation\u001b[49m\u001b[43m \u001b[49m\u001b[38;5;28;43;01mif\u001b[39;49;00m\u001b[43m \u001b[49m\u001b[38;5;28;43mself\u001b[39;49m\u001b[38;5;241;43m.\u001b[39;49m\u001b[43mgeneration\u001b[49m\u001b[43m \u001b[49m\u001b[38;5;28;43;01melse\u001b[39;49;00m\u001b[43m \u001b[49m\u001b[38;5;28;43mself\u001b[39;49m\u001b[38;5;241;43m.\u001b[39;49m\u001b[43mmodel\u001b[49m\u001b[38;5;241;43m.\u001b[39;49m\u001b[43m_forward\u001b[49m\u001b[43m,\u001b[49m\n\u001b[1;32m     76\u001b[0m \u001b[43m    \u001b[49m\u001b[38;5;28;43mself\u001b[39;49m\u001b[38;5;241;43m.\u001b[39;49m\u001b[43mbatched_input\u001b[49m\u001b[43m,\u001b[49m\n\u001b[1;32m     77\u001b[0m \u001b[43m    \u001b[49m\u001b[38;5;28;43mself\u001b[39;49m\u001b[38;5;241;43m.\u001b[39;49m\u001b[43mgraph\u001b[49m\u001b[43m,\u001b[49m\n\u001b[1;32m     78\u001b[0m \u001b[43m    \u001b[49m\u001b[38;5;241;43m*\u001b[39;49m\u001b[38;5;28;43mself\u001b[39;49m\u001b[38;5;241;43m.\u001b[39;49m\u001b[43margs\u001b[49m\u001b[43m,\u001b[49m\n\u001b[1;32m     79\u001b[0m \u001b[43m    \u001b[49m\u001b[38;5;241;43m*\u001b[39;49m\u001b[38;5;241;43m*\u001b[39;49m\u001b[38;5;28;43mself\u001b[39;49m\u001b[38;5;241;43m.\u001b[39;49m\u001b[43mkwargs\u001b[49m\u001b[43m,\u001b[49m\n\u001b[1;32m     80\u001b[0m \u001b[43m\u001b[49m\u001b[43m)\u001b[49m\n",
      "File \u001b[0;32m~/.local/lib/python3.8/site-packages/nnsight/models/AbstractModel.py:200\u001b[0m, in \u001b[0;36mAbstractModel.__call__\u001b[0;34m(self, fn, inputs, graph, edits, inference, *args, **kwargs)\u001b[0m\n\u001b[1;32m    183\u001b[0m \u001b[38;5;28;01mwith\u001b[39;00m torch\u001b[38;5;241m.\u001b[39minference_mode(mode\u001b[38;5;241m=\u001b[39minference):\n\u001b[1;32m    184\u001b[0m     \u001b[38;5;28;01mwith\u001b[39;00m HookModel(\n\u001b[1;32m    185\u001b[0m         \u001b[38;5;28mself\u001b[39m\u001b[38;5;241m.\u001b[39mlocal_model,\n\u001b[1;32m    186\u001b[0m         \u001b[38;5;28mlist\u001b[39m(graph\u001b[38;5;241m.\u001b[39margument_node_names\u001b[38;5;241m.\u001b[39mkeys()),\n\u001b[0;32m   (...)\u001b[0m\n\u001b[1;32m    198\u001b[0m         ),\n\u001b[1;32m    199\u001b[0m     ):\n\u001b[0;32m--> 200\u001b[0m         output \u001b[38;5;241m=\u001b[39m \u001b[43mfn\u001b[49m\u001b[43m(\u001b[49m\u001b[43minputs\u001b[49m\u001b[43m,\u001b[49m\u001b[43m \u001b[49m\u001b[38;5;241;43m*\u001b[39;49m\u001b[43margs\u001b[49m\u001b[43m,\u001b[49m\u001b[43m \u001b[49m\u001b[38;5;241;43m*\u001b[39;49m\u001b[38;5;241;43m*\u001b[39;49m\u001b[43mkwargs\u001b[49m\u001b[43m)\u001b[49m\n\u001b[1;32m    202\u001b[0m increment_hook\u001b[38;5;241m.\u001b[39mremove()\n\u001b[1;32m    204\u001b[0m logger\u001b[38;5;241m.\u001b[39minfo(\u001b[38;5;124mf\u001b[39m\u001b[38;5;124m\"\u001b[39m\u001b[38;5;124mCompleted `\u001b[39m\u001b[38;5;132;01m{\u001b[39;00m\u001b[38;5;28mself\u001b[39m\u001b[38;5;241m.\u001b[39mrepoid_path_clsname\u001b[38;5;132;01m}\u001b[39;00m\u001b[38;5;124m`\u001b[39m\u001b[38;5;124m\"\u001b[39m)\n",
      "File \u001b[0;32m~/.local/lib/python3.8/site-packages/nnsight/models/LanguageModel.py:159\u001b[0m, in \u001b[0;36mLanguageModel._forward\u001b[0;34m(self, prepared_inputs, *args, **kwargs)\u001b[0m\n\u001b[1;32m    157\u001b[0m \u001b[38;5;28;01mdef\u001b[39;00m \u001b[38;5;21m_forward\u001b[39m(\u001b[38;5;28mself\u001b[39m, prepared_inputs, \u001b[38;5;241m*\u001b[39margs, \u001b[38;5;241m*\u001b[39m\u001b[38;5;241m*\u001b[39mkwargs) \u001b[38;5;241m-\u001b[39m\u001b[38;5;241m>\u001b[39m Any:\n\u001b[1;32m    158\u001b[0m     \u001b[38;5;28;01mreturn\u001b[39;00m \u001b[38;5;28mself\u001b[39m\u001b[38;5;241m.\u001b[39mlocal_model(\n\u001b[0;32m--> 159\u001b[0m         \u001b[38;5;241m*\u001b[39margs, \u001b[38;5;241m*\u001b[39m\u001b[38;5;241m*\u001b[39m\u001b[43mprepared_inputs\u001b[49m\u001b[38;5;241;43m.\u001b[39;49m\u001b[43mto\u001b[49m\u001b[43m(\u001b[49m\u001b[38;5;28;43mself\u001b[39;49m\u001b[38;5;241;43m.\u001b[39;49m\u001b[43mlocal_model\u001b[49m\u001b[38;5;241;43m.\u001b[39;49m\u001b[43mdevice\u001b[49m\u001b[43m)\u001b[49m, \u001b[38;5;241m*\u001b[39m\u001b[38;5;241m*\u001b[39mkwargs\n\u001b[1;32m    160\u001b[0m     )\n",
      "File \u001b[0;32m~/.local/lib/python3.8/site-packages/transformers/tokenization_utils_base.py:789\u001b[0m, in \u001b[0;36mBatchEncoding.to\u001b[0;34m(self, device)\u001b[0m\n\u001b[1;32m    785\u001b[0m \u001b[38;5;66;03m# This check catches things like APEX blindly calling \"to\" on all inputs to a module\u001b[39;00m\n\u001b[1;32m    786\u001b[0m \u001b[38;5;66;03m# Otherwise it passes the casts down and casts the LongTensor containing the token idxs\u001b[39;00m\n\u001b[1;32m    787\u001b[0m \u001b[38;5;66;03m# into a HalfTensor\u001b[39;00m\n\u001b[1;32m    788\u001b[0m \u001b[38;5;28;01mif\u001b[39;00m \u001b[38;5;28misinstance\u001b[39m(device, \u001b[38;5;28mstr\u001b[39m) \u001b[38;5;129;01mor\u001b[39;00m is_torch_device(device) \u001b[38;5;129;01mor\u001b[39;00m \u001b[38;5;28misinstance\u001b[39m(device, \u001b[38;5;28mint\u001b[39m):\n\u001b[0;32m--> 789\u001b[0m     \u001b[38;5;28mself\u001b[39m\u001b[38;5;241m.\u001b[39mdata \u001b[38;5;241m=\u001b[39m {k: v\u001b[38;5;241m.\u001b[39mto(device\u001b[38;5;241m=\u001b[39mdevice) \u001b[38;5;28;01mfor\u001b[39;00m k, v \u001b[38;5;129;01min\u001b[39;00m \u001b[38;5;28mself\u001b[39m\u001b[38;5;241m.\u001b[39mdata\u001b[38;5;241m.\u001b[39mitems()}\n\u001b[1;32m    790\u001b[0m \u001b[38;5;28;01melse\u001b[39;00m:\n\u001b[1;32m    791\u001b[0m     logger\u001b[38;5;241m.\u001b[39mwarning(\u001b[38;5;124mf\u001b[39m\u001b[38;5;124m\"\u001b[39m\u001b[38;5;124mAttempting to cast a BatchEncoding to type \u001b[39m\u001b[38;5;132;01m{\u001b[39;00m\u001b[38;5;28mstr\u001b[39m(device)\u001b[38;5;132;01m}\u001b[39;00m\u001b[38;5;124m. This is not supported.\u001b[39m\u001b[38;5;124m\"\u001b[39m)\n",
      "File \u001b[0;32m~/.local/lib/python3.8/site-packages/transformers/tokenization_utils_base.py:789\u001b[0m, in \u001b[0;36m<dictcomp>\u001b[0;34m(.0)\u001b[0m\n\u001b[1;32m    785\u001b[0m \u001b[38;5;66;03m# This check catches things like APEX blindly calling \"to\" on all inputs to a module\u001b[39;00m\n\u001b[1;32m    786\u001b[0m \u001b[38;5;66;03m# Otherwise it passes the casts down and casts the LongTensor containing the token idxs\u001b[39;00m\n\u001b[1;32m    787\u001b[0m \u001b[38;5;66;03m# into a HalfTensor\u001b[39;00m\n\u001b[1;32m    788\u001b[0m \u001b[38;5;28;01mif\u001b[39;00m \u001b[38;5;28misinstance\u001b[39m(device, \u001b[38;5;28mstr\u001b[39m) \u001b[38;5;129;01mor\u001b[39;00m is_torch_device(device) \u001b[38;5;129;01mor\u001b[39;00m \u001b[38;5;28misinstance\u001b[39m(device, \u001b[38;5;28mint\u001b[39m):\n\u001b[0;32m--> 789\u001b[0m     \u001b[38;5;28mself\u001b[39m\u001b[38;5;241m.\u001b[39mdata \u001b[38;5;241m=\u001b[39m {k: \u001b[43mv\u001b[49m\u001b[38;5;241;43m.\u001b[39;49m\u001b[43mto\u001b[49m\u001b[43m(\u001b[49m\u001b[43mdevice\u001b[49m\u001b[38;5;241;43m=\u001b[39;49m\u001b[43mdevice\u001b[49m\u001b[43m)\u001b[49m \u001b[38;5;28;01mfor\u001b[39;00m k, v \u001b[38;5;129;01min\u001b[39;00m \u001b[38;5;28mself\u001b[39m\u001b[38;5;241m.\u001b[39mdata\u001b[38;5;241m.\u001b[39mitems()}\n\u001b[1;32m    790\u001b[0m \u001b[38;5;28;01melse\u001b[39;00m:\n\u001b[1;32m    791\u001b[0m     logger\u001b[38;5;241m.\u001b[39mwarning(\u001b[38;5;124mf\u001b[39m\u001b[38;5;124m\"\u001b[39m\u001b[38;5;124mAttempting to cast a BatchEncoding to type \u001b[39m\u001b[38;5;132;01m{\u001b[39;00m\u001b[38;5;28mstr\u001b[39m(device)\u001b[38;5;132;01m}\u001b[39;00m\u001b[38;5;124m. This is not supported.\u001b[39m\u001b[38;5;124m\"\u001b[39m)\n",
      "\u001b[0;31mRuntimeError\u001b[0m: CUDA error: device-side assert triggered\nCUDA kernel errors might be asynchronously reported at some other API call, so the stacktrace below might be incorrect.\nFor debugging consider passing CUDA_LAUNCH_BLOCKING=1.\nCompile with `TORCH_USE_CUDA_DSA` to enable device-side assertions.\n"
     ]
    }
   ],
   "source": [
    "effects_on_dsfeat, total_effect_on_dsfeat = patching_on_downstream_feature(\n",
    "    toy_dataset,\n",
    "    model,\n",
    "    submodules,\n",
    "    dictionaries,\n",
    "    downstream_feature_layer=downstream_feat_layer,\n",
    "    downstream_feature_id=downstream_feat_id, \n",
    "    method='all-folded'\n",
    ")\n",
    "\n",
    "print(f'total metric diff after replacing clean prefix with patch prefix: {total_effect_on_dsfeat}')"
   ]
  },
  {
   "cell_type": "code",
   "execution_count": 14,
   "metadata": {},
   "outputs": [
    {
     "name": "stdout",
     "output_type": "stream",
     "text": [
      "Top 3 features per layer with highest impact on downstream feat activation\n",
      "\n",
      "Layer 0:\n",
      "feat 21840:\t 0.0\n",
      "feat 21855:\t 0.0\n",
      "feat 21854:\t 0.0\n",
      "\n",
      "Layer 1:\n",
      "feat 14400:\t 0.06060613691806793\n",
      "feat 1566:\t 0.014259410090744495\n",
      "feat 10964:\t 0.013167855329811573\n",
      "\n",
      "Layer 2:\n",
      "feat 12654:\t 0.02732522413134575\n",
      "feat 27186:\t 0.02288554236292839\n",
      "feat 31615:\t 0.014543569646775723\n",
      "\n",
      "Layer 3:\n",
      "feat 26928:\t 0.09637608379125595\n",
      "feat 20945:\t 0.028065158054232597\n",
      "feat 30457:\t 0.015654182061553\n",
      "\n",
      "Layer 4:\n",
      "feat 2871:\t 0.07770593464374542\n",
      "feat 28130:\t 0.00389579264447093\n",
      "feat 11028:\t 0.0014464699197560549\n",
      "\n",
      "Layer 5:\n",
      "feat 7352:\t 0.056569550186395645\n",
      "feat 5580:\t 0.05062364414334297\n",
      "feat 20780:\t 0.03504457697272301\n"
     ]
    }
   ],
   "source": [
    "# Top k features per layer with highest impact on downstream feat activation\n",
    "\n",
    "topk_upstream_feats = t.zeros((len(submodules), k_upstream_feats), dtype=int)\n",
    "print(f'Top {k_upstream_feats} features per layer with highest impact on downstream feat activation')\n",
    "\n",
    "for layer in range(len(submodules)):\n",
    "    print(f'\\nLayer {layer}:')\n",
    "    effects_on_dsfeat_per_layer = effects_on_dsfeat[submodules[layer]][plural_token_pos].detach().cpu() # Only effect on token position `plural_token_pos` matters for \"Plurals\" task\n",
    "    topk_upstream_feats[layer] = t.argsort(effects_on_dsfeat_per_layer, descending=True)[:k_upstream_feats]\n",
    "    for i in topk_upstream_feats[layer]:\n",
    "        print(f'feat {i}:\\t {effects_on_dsfeat_per_layer[i]}')"
   ]
  },
  {
   "cell_type": "markdown",
   "metadata": {},
   "source": [
    "Top 1 features per layer found seem to be related to the plurals task!\n",
    "\n",
    "Values in same or later layer are generally uninterpretable.\n",
    "I expect that, xact patching should yield 0 unconnected features in same or later layer. (No bwdpass involved)"
   ]
  },
  {
   "cell_type": "code",
   "execution_count": 15,
   "metadata": {},
   "outputs": [
    {
     "data": {
      "text/html": [
       "<div id=\"circuits-vis-585e25e9-cdb6\" style=\"margin: 15px 0;\"/>\n",
       "    <script crossorigin type=\"module\">\n",
       "    import { render, TextNeuronActivations } from \"https://unpkg.com/circuitsvis@1.43.2/dist/cdn/esm.js\";\n",
       "    render(\n",
       "      \"circuits-vis-585e25e9-cdb6\",\n",
       "      TextNeuronActivations,\n",
       "      {\"tokens\": [[\"Ben\", \"jamin\", \" Lok\", \" describes\", \" how\", \" the\", \" robot\", \" butt\", \" sensors\", \" work\", \" 2\", \":\", \"26\", \"\\n\", \"\\n\", \"Pro\", \"state\", \" exams\", \" are\", \" potentially\", \"-\", \"life\", \" saving\", \".\", \" But\", \" the\", \" process\", \" of\", \" getting\", \" one\", \" can\", \" be\", \" nerve\", \"-\", \"r\", \"acking\", \" \\u2014\", \" both\", \" for\", \" the\", \" doctor\", \" and\", \" the\", \" patient\", \".\", \"\\n\", \"\\n\", \"A\", \" group\", \" of\", \" scientists\", \" from\", \" D\", \"rex\", \"el\", \" University\", \" and\", \" the\", \" Univers\", \"ities\", \" of\", \" Wisconsin\", \" and\", \" Florida\", \" are\", \" hoping\", \" to\", \" assist\", \" with\", \" that\", \".\", \" They\", \"'ve\", \" designed\", \" a\", \" robot\", \" to\", \" help\", \" medical\", \" students\"], [\"Common\", \"wealth\", \" Bank\", \" and\", \" the\", \" Australian\", \" Chamber\", \" Orchestra\", \" kick\", \" off\", \" the\", \" 2009\", \" Great\", \" Rom\", \"antics\", \" national\", \" tour\", \"\\n\", \"\\n\", \"S\", \"yd\", \"ney\", \",\", \" 11\", \" June\", \" 2009\", \":\", \" The\", \" Commonwealth\", \" Bank\", \" today\", \" congrat\", \"ulated\", \" the\", \" Australian\", \" Chamber\", \" Orchestra\", \" (\", \"AC\", \"O\", \")\", \" on\", \" the\", \" commencement\", \" of\", \" its\", \" Great\", \" Rom\", \"antics\", \" Tour\", \".\", \"\\n\", \"\\n\", \"Common\", \"wealth\", \" Bank\", \" Group\", \" Executive\", \" Human\", \" Resources\", \" and\", \" Group\", \" Services\", \",\", \" Ms\", \" Barbara\", \" Chapman\", \",\", \" said\", \" the\", \" Group\", \" was\", \" committed\", \" to\", \" supporting\", \" the\", \" Arts\", \" in\", \" Australia\", \" and\", \" helping\", \" its\", \" customers\"], [\"Ben\", \"jamin\", \" Lok\", \" describes\", \" how\", \" the\", \" robot\", \" butt\", \" sensors\", \" work\", \" 2\", \":\", \"26\", \"\\n\", \"\\n\", \"Pro\", \"state\", \" exams\", \" are\", \" potentially\", \"-\", \"life\", \" saving\", \".\", \" But\", \" the\", \" process\", \" of\", \" getting\", \" one\", \" can\", \" be\", \" nerve\", \"-\", \"r\", \"acking\", \" \\u2014\", \" both\", \" for\", \" the\", \" doctor\", \" and\", \" the\", \" patient\", \".\", \"\\n\", \"\\n\", \"A\", \" group\", \" of\", \" scientists\", \" from\", \" D\", \"rex\", \"el\", \" University\", \" and\", \" the\", \" Univers\", \"ities\", \" of\", \" Wisconsin\", \" and\", \" Florida\", \" are\", \" hoping\", \" to\", \" assist\", \" with\", \" that\", \".\", \" They\", \"'ve\", \" designed\", \" a\", \" robot\", \" to\", \" help\", \" medical\", \" students\", \" give\", \" better\", \" prostate\", \" exams\", \".\", \"\\n\", \"\\n\", \"The\", \" robot\", \"'s\", \" name\", \" is\", \" \\\"\", \"Patrick\", \"\\\"\", \" and\", \" he\", \"'s\", \" an\", \" interactive\", \" butt\", \".\", \"\\n\", \"\\n\", \"Professor\", \" Benjamin\", \" Lok\", \"\\n\", \"\\n\", \"\\\"\", \"Patrick\", \" is\", \" part\", \" of\", \" a\", \" simulation\", \" where\", \" students\"], [\"New\", \" York\", \" (\", \"CNN\", \" Business\", \")\", \" On\", \" Sunday\", \",\", \" Ford\", \" will\", \" announce\", \" what\", \" is\", \" possibly\", \" the\", \" biggest\", \" change\", \" ever\", \" in\", \" the\", \" 55\", \"-\", \"year\", \" history\", \" of\", \" the\", \" Must\", \"ang\", \".\", \"\\n\", \"\\n\", \"The\", \" autom\", \"aker\", \" will\", \" unve\", \"il\", \" a\", \" vehicle\", \" bearing\", \" the\", \" Must\", \"ang\", \" brand\", \" that\", \"'s\", \" not\", \" a\", \" two\", \"-\", \"door\", \" car\", \".\", \"\\n\", \"\\n\", \"Call\", \"ed\", \" the\", \" Ford\", \" Must\", \"ang\", \" Mach\", \"-\", \"E\", \",\", \" it\", \"'s\", \" a\", \" fully\", \" electric\", \" crossover\", \" SUV\", \" that\", \" will\", \" wear\", \" the\", \" Must\", \"ang\", \"'s\", \" chrome\", \" pony\", \".\", \"\\n\", \"\\n\", \"F\", \"ord\", \" has\", \" apparently\", \" learned\", \" from\", \" brands\", \" like\", \" P\", \"orsche\", \",\", \" Lamb\", \"org\", \"h\", \"ini\", \" and\", \" Je\", \"ep\", \" that\", \" even\", \" ar\", \"dent\", \" fans\"], [\"It\", \" is\", \" a\", \" tr\", \"u\", \"ism\", \" that\", \" modern\", \" cell\", \" phones\", \" feature\", \" a\", \" multitude\", \" of\", \" features\", \" that\", \" expand\", \" on\", \" the\", \" traditional\", \" cell\", \" phone\", \" functionality\", \".\", \" For\", \" example\", \",\", \" today\", \" cell\", \" phone\", \" users\"]], \"activations\": [[[[0.0]], [[0.0]], [[0.0]], [[0.0]], [[0.0]], [[0.0]], [[0.0]], [[0.0]], [[0.21400916576385498]], [[0.0]], [[0.0]], [[0.0]], [[0.0]], [[0.0]], [[0.0]], [[0.0]], [[0.0]], [[0.0]], [[0.0]], [[0.0]], [[0.0]], [[0.0]], [[0.0]], [[0.0]], [[0.0]], [[0.0]], [[0.0]], [[0.0]], [[0.0]], [[0.0]], [[0.0]], [[0.0]], [[0.0]], [[0.0]], [[0.0]], [[0.0]], [[0.0]], [[0.0]], [[0.0]], [[0.0]], [[0.0]], [[0.0]], [[0.0]], [[0.0]], [[0.0]], [[0.0]], [[0.0]], [[0.0]], [[0.0]], [[0.0]], [[1.2162028551101685]], [[0.0]], [[0.0]], [[0.0]], [[0.0]], [[0.0]], [[0.0]], [[0.0]], [[0.0]], [[0.16583633422851562]], [[0.0]], [[0.0]], [[0.0]], [[0.0]], [[0.0]], [[0.0]], [[0.0]], [[0.0]], [[0.0]], [[0.0]], [[0.0]], [[0.01831185817718506]], [[0.0]], [[0.0]], [[0.0]], [[0.0]], [[0.0]], [[0.0]], [[0.0]], [[2.5287742614746094]]], [[[0.0]], [[0.0]], [[0.0]], [[0.0]], [[0.0]], [[0.0]], [[0.0]], [[0.0]], [[0.0]], [[0.0]], [[0.0]], [[0.0]], [[0.0]], [[0.0]], [[0.24253559112548828]], [[0.0]], [[0.0]], [[0.0]], [[0.0]], [[0.0]], [[0.0]], [[0.0]], [[0.0]], [[0.0]], [[0.0]], [[0.0]], [[0.0]], [[0.0]], [[0.0]], [[0.0]], [[0.0]], [[0.0]], [[0.0]], [[0.0]], [[0.0]], [[0.0]], [[0.0]], [[0.0]], [[0.0]], [[0.0]], [[0.10928785800933838]], [[0.0]], [[0.0]], [[0.0]], [[0.0]], [[0.0]], [[0.0]], [[0.0]], [[0.0]], [[0.0]], [[0.0]], [[0.0]], [[0.0]], [[0.0]], [[0.0]], [[0.0]], [[0.0]], [[0.0]], [[0.0]], [[0.0]], [[0.0]], [[0.0]], [[0.0]], [[0.0]], [[0.0]], [[0.0]], [[0.0]], [[0.0]], [[0.0]], [[0.0]], [[0.0]], [[0.0]], [[0.0]], [[0.0]], [[0.0]], [[0.0]], [[0.0]], [[0.0]], [[0.0]], [[0.0]], [[0.0]], [[0.0]], [[2.253542900085449]]], [[[0.0]], [[0.0]], [[0.0]], [[0.0]], [[0.0]], [[0.0]], [[0.0]], [[0.0]], [[0.21400916576385498]], [[0.0]], [[0.0]], [[0.0]], [[0.0]], [[0.0]], [[0.0]], [[0.0]], [[0.0]], [[0.0]], [[0.0]], [[0.0]], [[0.0]], [[0.0]], [[0.0]], [[0.0]], [[0.0]], [[0.0]], [[0.0]], [[0.0]], [[0.0]], [[0.0]], [[0.0]], [[0.0]], [[0.0]], [[0.0]], [[0.0]], [[0.0]], [[0.0]], [[0.0]], [[0.0]], [[0.0]], [[0.0]], [[0.0]], [[0.0]], [[0.0]], [[0.0]], [[0.0]], [[0.0]], [[0.0]], [[0.0]], [[0.0]], [[1.2162028551101685]], [[0.0]], [[0.0]], [[0.0]], [[0.0]], [[0.0]], [[0.0]], [[0.0]], [[0.0]], [[0.16583633422851562]], [[0.0]], [[0.0]], [[0.0]], [[0.0]], [[0.0]], [[0.0]], [[0.0]], [[0.0]], [[0.0]], [[0.0]], [[0.0]], [[0.01831185817718506]], [[0.0]], [[0.0]], [[0.0]], [[0.0]], [[0.0]], [[0.0]], [[0.0]], [[2.5287742614746094]], [[0.0]], [[0.0]], [[0.0]], [[0.0]], [[0.0]], [[0.0]], [[0.0]], [[0.0]], [[0.0]], [[0.0]], [[0.0]], [[0.0]], [[0.0]], [[0.0]], [[0.0]], [[0.0]], [[0.0]], [[0.0]], [[0.0]], [[0.0]], [[0.0]], [[0.0]], [[0.0]], [[0.0]], [[0.0]], [[0.0]], [[0.0]], [[0.0]], [[0.0]], [[0.0]], [[0.0]], [[0.0]], [[0.0]], [[0.0]], [[0.0]], [[0.0]], [[0.0]], [[2.2006239891052246]]], [[[0.0]], [[0.0]], [[0.0]], [[0.0]], [[0.0]], [[0.0]], [[0.0]], [[0.0]], [[0.0]], [[0.0]], [[0.0]], [[0.0]], [[0.0]], [[0.0]], [[0.0]], [[0.0]], [[0.0]], [[0.0]], [[0.0]], [[0.0]], [[0.0]], [[0.0]], [[0.0]], [[0.0]], [[0.0]], [[0.0]], [[0.0]], [[0.0]], [[0.0]], [[0.0]], [[0.0]], [[0.0]], [[0.0]], [[0.0]], [[0.0]], [[0.0]], [[0.0]], [[0.0]], [[0.0]], [[0.0]], [[0.0]], [[0.0]], [[0.0]], [[0.0]], [[0.0]], [[0.0]], [[0.0]], [[0.0]], [[0.0]], [[0.0]], [[0.0]], [[0.0]], [[0.0]], [[0.0]], [[0.0]], [[0.0]], [[0.0]], [[0.0]], [[0.0]], [[0.0]], [[0.0]], [[0.0]], [[0.0]], [[0.0]], [[0.0]], [[0.0]], [[0.0]], [[0.0]], [[0.0]], [[0.0]], [[0.0]], [[0.0]], [[0.0]], [[0.0]], [[0.0]], [[0.0]], [[0.0]], [[0.0]], [[0.0]], [[0.0]], [[0.0]], [[0.0]], [[0.0]], [[0.0]], [[0.0]], [[0.0]], [[0.0]], [[0.0]], [[0.0]], [[0.0]], [[0.0]], [[0.7577693462371826]], [[0.0]], [[0.0]], [[0.0]], [[0.0]], [[0.0]], [[0.0]], [[0.0]], [[0.0]], [[0.0]], [[0.0]], [[0.0]], [[0.0]], [[0.0]], [[0.0]], [[0.0]], [[2.1463074684143066]]], [[[0.0]], [[0.0]], [[0.0]], [[0.0]], [[0.0]], [[0.0]], [[0.0]], [[0.0]], [[0.0]], [[0.011271357536315918]], [[0.0]], [[0.0]], [[0.0]], [[0.0]], [[0.0]], [[0.0]], [[0.0]], [[0.0]], [[0.0]], [[0.0]], [[0.0]], [[0.0]], [[0.0]], [[0.0]], [[0.0]], [[0.0]], [[0.0]], [[0.0]], [[0.0]], [[0.0]], [[2.1062750816345215]]]], \"firstDimensionName\": \"Layer\", \"secondDimensionName\": \"Neuron\"}\n",
       "    )\n",
       "    </script>"
      ],
      "text/plain": [
       "<circuitsvis.utils.render.RenderedHTML at 0x7f34a0bc7f40>"
      ]
     },
     "execution_count": 15,
     "metadata": {},
     "output_type": "execute_result"
    }
   ],
   "source": [
    "tokens, activations = topk_prompts_provider(\n",
    "    feature_layer=3,\n",
    "    feature_id=26928,\n",
    "    k=5\n",
    ")\n",
    "text_neuron_activations(tokens, activations)"
   ]
  },
  {
   "cell_type": "markdown",
   "metadata": {},
   "source": [
    "### Check wheter different patching methods agree in which upstream features have the highest effect on the downstream feature"
   ]
  },
  {
   "cell_type": "code",
   "execution_count": 16,
   "metadata": {},
   "outputs": [
    {
     "data": {
      "text/html": [
       "<div>\n",
       "<style scoped>\n",
       "    .dataframe tbody tr th:only-of-type {\n",
       "        vertical-align: middle;\n",
       "    }\n",
       "\n",
       "    .dataframe tbody tr th {\n",
       "        vertical-align: top;\n",
       "    }\n",
       "\n",
       "    .dataframe thead th {\n",
       "        text-align: right;\n",
       "    }\n",
       "</style>\n",
       "<table border=\"1\" class=\"dataframe\">\n",
       "  <thead>\n",
       "    <tr style=\"text-align: right;\">\n",
       "      <th></th>\n",
       "      <th>all-folded</th>\n",
       "      <th>separate</th>\n",
       "      <th>ig</th>\n",
       "    </tr>\n",
       "  </thead>\n",
       "  <tbody>\n",
       "    <tr>\n",
       "      <th>layer0_top1</th>\n",
       "      <td>21840</td>\n",
       "      <td>15149</td>\n",
       "      <td>21840</td>\n",
       "    </tr>\n",
       "    <tr>\n",
       "      <th>layer0_top2</th>\n",
       "      <td>21855</td>\n",
       "      <td>21848</td>\n",
       "      <td>21855</td>\n",
       "    </tr>\n",
       "    <tr>\n",
       "      <th>layer0_top3</th>\n",
       "      <td>21854</td>\n",
       "      <td>21841</td>\n",
       "      <td>21854</td>\n",
       "    </tr>\n",
       "    <tr>\n",
       "      <th>layer1_top1</th>\n",
       "      <td>14400</td>\n",
       "      <td>14400</td>\n",
       "      <td>14400</td>\n",
       "    </tr>\n",
       "    <tr>\n",
       "      <th>layer1_top2</th>\n",
       "      <td>1566</td>\n",
       "      <td>25045</td>\n",
       "      <td>25045</td>\n",
       "    </tr>\n",
       "    <tr>\n",
       "      <th>layer1_top3</th>\n",
       "      <td>10964</td>\n",
       "      <td>10964</td>\n",
       "      <td>10964</td>\n",
       "    </tr>\n",
       "    <tr>\n",
       "      <th>layer2_top1</th>\n",
       "      <td>12654</td>\n",
       "      <td>12654</td>\n",
       "      <td>12654</td>\n",
       "    </tr>\n",
       "    <tr>\n",
       "      <th>layer2_top2</th>\n",
       "      <td>27186</td>\n",
       "      <td>27186</td>\n",
       "      <td>27186</td>\n",
       "    </tr>\n",
       "    <tr>\n",
       "      <th>layer2_top3</th>\n",
       "      <td>31615</td>\n",
       "      <td>13579</td>\n",
       "      <td>13579</td>\n",
       "    </tr>\n",
       "    <tr>\n",
       "      <th>layer3_top1</th>\n",
       "      <td>26928</td>\n",
       "      <td>26928</td>\n",
       "      <td>26928</td>\n",
       "    </tr>\n",
       "    <tr>\n",
       "      <th>layer3_top2</th>\n",
       "      <td>20945</td>\n",
       "      <td>20945</td>\n",
       "      <td>20945</td>\n",
       "    </tr>\n",
       "    <tr>\n",
       "      <th>layer3_top3</th>\n",
       "      <td>30457</td>\n",
       "      <td>17355</td>\n",
       "      <td>17355</td>\n",
       "    </tr>\n",
       "    <tr>\n",
       "      <th>layer4_top1</th>\n",
       "      <td>2871</td>\n",
       "      <td>2871</td>\n",
       "      <td>2871</td>\n",
       "    </tr>\n",
       "    <tr>\n",
       "      <th>layer4_top2</th>\n",
       "      <td>28130</td>\n",
       "      <td>11028</td>\n",
       "      <td>11028</td>\n",
       "    </tr>\n",
       "    <tr>\n",
       "      <th>layer4_top3</th>\n",
       "      <td>11028</td>\n",
       "      <td>9616</td>\n",
       "      <td>9616</td>\n",
       "    </tr>\n",
       "    <tr>\n",
       "      <th>layer5_top1</th>\n",
       "      <td>7352</td>\n",
       "      <td>7352</td>\n",
       "      <td>7352</td>\n",
       "    </tr>\n",
       "    <tr>\n",
       "      <th>layer5_top2</th>\n",
       "      <td>5580</td>\n",
       "      <td>5580</td>\n",
       "      <td>5580</td>\n",
       "    </tr>\n",
       "    <tr>\n",
       "      <th>layer5_top3</th>\n",
       "      <td>20780</td>\n",
       "      <td>20780</td>\n",
       "      <td>20780</td>\n",
       "    </tr>\n",
       "  </tbody>\n",
       "</table>\n",
       "</div>"
      ],
      "text/plain": [
       "             all-folded  separate     ig\n",
       "layer0_top1       21840     15149  21840\n",
       "layer0_top2       21855     21848  21855\n",
       "layer0_top3       21854     21841  21854\n",
       "layer1_top1       14400     14400  14400\n",
       "layer1_top2        1566     25045  25045\n",
       "layer1_top3       10964     10964  10964\n",
       "layer2_top1       12654     12654  12654\n",
       "layer2_top2       27186     27186  27186\n",
       "layer2_top3       31615     13579  13579\n",
       "layer3_top1       26928     26928  26928\n",
       "layer3_top2       20945     20945  20945\n",
       "layer3_top3       30457     17355  17355\n",
       "layer4_top1        2871      2871   2871\n",
       "layer4_top2       28130     11028  11028\n",
       "layer4_top3       11028      9616   9616\n",
       "layer5_top1        7352      7352   7352\n",
       "layer5_top2        5580      5580   5580\n",
       "layer5_top3       20780     20780  20780"
      ]
     },
     "execution_count": 16,
     "metadata": {},
     "output_type": "execute_result"
    }
   ],
   "source": [
    "methods = ['all-folded', 'separate', 'ig'] #, 'exact']\n",
    "topk_upstream_feats_across_methods = pd.DataFrame()\n",
    "df_idx = []\n",
    "for method in methods:\n",
    "    topk_upstream_feats = t.zeros((len(submodules), k_upstream_feats), dtype=int)\n",
    "\n",
    "    effects_on_dsfeat, total_effect_on_dsfeat = patching_on_downstream_feature(\n",
    "        toy_dataset,\n",
    "        model,\n",
    "        submodules,\n",
    "        dictionaries,\n",
    "        downstream_feature_layer=downstream_feat_layer,\n",
    "        downstream_feature_id=downstream_feat_id, \n",
    "        method=method,\n",
    "    )\n",
    "    for layer in range(len(submodules)):\n",
    "        effects_on_dsfeat_per_layer = effects_on_dsfeat[submodules[layer]][plural_token_pos].detach().cpu() # Only effect on token position `plural_token_pos` matters for \"Plurals\" task\n",
    "        topk_upstream_feats[layer] = t.argsort(effects_on_dsfeat_per_layer, descending=True)[:k_upstream_feats]\n",
    "        if len(df_idx) < len(submodules) * k_upstream_feats:\n",
    "            df_idx += [f'layer{layer}_top{i+1}' for i in range(k_upstream_feats)]\n",
    "\n",
    "    topk_upstream_feats_across_methods[method] = topk_upstream_feats.flatten()\n",
    "\n",
    "topk_upstream_feats_across_methods.index = df_idx\n",
    "topk_upstream_feats_across_methods"
   ]
  },
  {
   "cell_type": "markdown",
   "metadata": {},
   "source": [
    "## Iterative circuit discovery\n",
    "TopK features from each layer with highes effect on metric\n",
    "For each feature found: Top k features with highest absolute effect"
   ]
  },
  {
   "cell_type": "code",
   "execution_count": 17,
   "metadata": {},
   "outputs": [],
   "source": [
    "from collections import namedtuple\n",
    "FeatureEffect = namedtuple('FeatureEffect', ['upstream_feature_layer', 'upstream_feature_id', 'downstream_feature_layer', 'downstream_feature_id', 'effect'])\n",
    "MetricEffect = namedtuple('MetricEffect', ['upstream_feature_layer', 'upstream_feature_id', 'effect'])"
   ]
  },
  {
   "cell_type": "code",
   "execution_count": null,
   "metadata": {},
   "outputs": [],
   "source": [
    "k = 3\n",
    "\n",
    "effect_list = []\n",
    "feature_queue = []\n",
    "\n",
    "# Run patching on y once\n",
    "effects_on_y, _ = patching_on_y(\n",
    "    toy_dataset,\n",
    "    model,\n",
    "    submodules,\n",
    "    dictionaries,\n",
    "    method='all-folded'\n",
    ")\n",
    "\n",
    "for layer, submodule in enumerate(submodules):\n",
    "    topk_features = t.argsort(effects_on_y[submodule], descending=True)[:k]\n",
    "    for feat_id in topk_features:\n",
    "        eff = MetricEffect(\n",
    "            upstream_feature_layer=layer,\n",
    "            upstream_feature_id=feat_id,\n",
    "            effect=effects_on_y[submodule][feat_id]\n",
    "        )\n",
    "        effect_list.append(eff)\n",
    "        feature_queue.append(eff)"
   ]
  },
  {
   "cell_type": "code",
   "execution_count": null,
   "metadata": {},
   "outputs": [],
   "source": [
    "# Run patching on all features in queue\n",
    "while len(feature_queue) > 0:\n",
    "    feature_layer, feature_id, _, _, _ = feature_queue.pop(0)\n",
    "    \n",
    "    effects_on_dsfeat, total_effect_on_dsfeat = patching_on_downstream_feature( # TODO adapt this method to only calculate values for features in layers above downstream feature? Possible for attribution patching methods gradent requires full bwd pass?\n",
    "        toy_dataset,\n",
    "        model,\n",
    "        submodules,\n",
    "        dictionaries,\n",
    "        downstream_feature_layer=feature_layer,\n",
    "        downstream_feature_id=feature_id, \n",
    "        method='all-folded'\n",
    "    )\n",
    "\n",
    "    for layer, submodule in enumerate(submodules[:feature_layer]): # Only layers above downstream feature considered.\n",
    "        topk_features = t.argsort(effects_on_y[submodule], descending=True)[:k]\n",
    "        for feat_id in topk_features:\n",
    "            eff = MetricEffect(\n",
    "                upstream_feature_layer=layer,\n",
    "                upstream_feature_id=feat_id,\n",
    "                effect=effects_on_y[submodule][feat_id]\n",
    "            )\n",
    "            effect_list.append(eff)\n",
    "            feature_queue.append(eff)\n",
    "    "
   ]
  },
  {
   "cell_type": "markdown",
   "metadata": {},
   "source": [
    "## Evaluating the context for features in effect list.\n",
    "- Automatically using LLM?"
   ]
  },
  {
   "cell_type": "markdown",
   "metadata": {},
   "source": []
  }
 ],
 "metadata": {
  "kernelspec": {
   "display_name": "Python 3",
   "language": "python",
   "name": "python3"
  },
  "language_info": {
   "codemirror_mode": {
    "name": "ipython",
    "version": 3
   },
   "file_extension": ".py",
   "mimetype": "text/x-python",
   "name": "python",
   "nbconvert_exporter": "python",
   "pygments_lexer": "ipython3",
   "version": "3.8.10"
  }
 },
 "nbformat": 4,
 "nbformat_minor": 2
}
