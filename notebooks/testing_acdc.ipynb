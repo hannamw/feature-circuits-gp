{
 "cells": [
  {
   "cell_type": "markdown",
   "metadata": {},
   "source": [
    "# Testing patching functions in acdc.py\n",
    "## Setup"
   ]
  },
  {
   "cell_type": "code",
   "execution_count": 1,
   "metadata": {},
   "outputs": [
    {
     "name": "stderr",
     "output_type": "stream",
     "text": [
      "/home/can/.local/lib/python3.8/site-packages/tqdm/auto.py:21: TqdmWarning: IProgress not found. Please update jupyter and ipywidgets. See https://ipywidgets.readthedocs.io/en/stable/user_install.html\n",
      "  from .autonotebook import tqdm as notebook_tqdm\n"
     ]
    }
   ],
   "source": [
    "# Imports\n",
    "import zstandard as zstd\n",
    "import json\n",
    "import os\n",
    "import io\n",
    "from tqdm import tqdm\n",
    "import sys\n",
    "sys.path.append('..')\n",
    "\n",
    "from einops import rearrange\n",
    "import torch as t\n",
    "from nnsight import LanguageModel\n",
    "from dictionary_learning.buffer import ActivationBuffer\n",
    "from dictionary_learning.dictionary import AutoEncoder\n",
    "from dictionary_learning.training import trainSAE\n",
    "from acdc import patching_on_y, patching_on_downstream_feature\n",
    "from loading_utils import DictionaryCfg\n",
    "\n",
    "import matplotlib.pyplot as plt\n",
    "import pandas as pd\n",
    "import imageio\n",
    "from circuitsvis.activations import text_neuron_activations"
   ]
  },
  {
   "cell_type": "code",
   "execution_count": 2,
   "metadata": {},
   "outputs": [],
   "source": [
    "# Global variables\n",
    "ACTIVATION_DIM = 512\n",
    "DICTIONARY_SIZE = 64 * ACTIVATION_DIM # This is the dict_size sam mostly works with.\n",
    "EPS = 1e-8"
   ]
  },
  {
   "cell_type": "code",
   "execution_count": 3,
   "metadata": {},
   "outputs": [
    {
     "name": "stderr",
     "output_type": "stream",
     "text": [
      "Special tokens have been added in the vocabulary, make sure the associated word embeddings are fine-tuned or trained.\n"
     ]
    }
   ],
   "source": [
    "# Model and SAEs\n",
    "model = LanguageModel('EleutherAI/pythia-70m-deduped', device_map='cuda:0')\n",
    "submodules = [\n",
    "    layer.mlp for layer in model.gpt_neox.layers\n",
    "]\n",
    "submodule_name_generic = 'model.gpt_neox.layers.{}.mlp.dense_4h_to_h'\n",
    "submodule_names = [submodule_name_generic.format(str(layer)) for layer in range(model.config.num_hidden_layers)]\n",
    "\n",
    "dictionaries = []\n",
    "for i in range(len(submodules)):\n",
    "    dictionary = AutoEncoder(ACTIVATION_DIM, DICTIONARY_SIZE).to('cuda:0')\n",
    "    dictionary.load_state_dict(t.load(f'/share/projects/dictionary_circuits/autoencoders/pythia-70m-deduped/mlp_out_layer{i}/1_32768/ae.pt'))\n",
    "    dictionaries.append(dictionary)\n",
    "\n",
    "dict_cfg = DictionaryCfg(\n",
    "    dictionary_dir='/share/projects/dictionary_circuits/autoencoders/pythia-70m-deduped/',\n",
    "    dictionary_size=32768\n",
    ")"
   ]
  },
  {
   "cell_type": "code",
   "execution_count": 23,
   "metadata": {},
   "outputs": [
    {
     "data": {
      "text/plain": [
       "tensor([510, 637])"
      ]
     },
     "execution_count": 23,
     "metadata": {},
     "output_type": "execute_result"
    }
   ],
   "source": [
    "# Toy dataset for the \"Plural\" task\n",
    "\n",
    "plural_token_pos = 1\n",
    "tok = lambda x: t.tensor(model.tokenizer.encode(x))\n",
    "toy_dataset = [dict(\n",
    "    clean_prefix=tok(\"The man\"),\n",
    "    clean_answer=tok(\" is\"),\n",
    "    patch_prefix=tok(\"The men\"),\n",
    "    patch_answer=tok(\" are\"),\n",
    "    prefix_length_wo_pad=tok(\"The man\").shape[-1],\n",
    ")]\n",
    "\n",
    "toy_dataset[0]['clean_prefix']"
   ]
  },
  {
   "cell_type": "code",
   "execution_count": 24,
   "metadata": {},
   "outputs": [],
   "source": [
    "# Diverse dataset for Circuitvis evaluation\n",
    "\n",
    "# set up data as a generator\n",
    "data_path = '/share/data/datasets/pile/the-eye.eu/public/AI/pile/train/00.jsonl.zst'\n",
    "compressed_file = open(data_path, 'rb')\n",
    "dctx = zstd.ZstdDecompressor()\n",
    "reader = dctx.stream_reader(compressed_file)\n",
    "text_stream = io.TextIOWrapper(reader, encoding='utf-8')\n",
    "def generator():\n",
    "    for line in text_stream:\n",
    "        yield json.loads(line)['text']\n",
    "data = generator()\n",
    "\n",
    "# Buffer tied to one specific submodule!\n",
    "buffer = ActivationBuffer(\n",
    "    data,\n",
    "    model,\n",
    "    submodules[0], # we only use data from the buffer, not acttivations. Thus we can pass any submodule here\n",
    "    io='out',\n",
    "    in_feats=ACTIVATION_DIM,\n",
    "    out_feats=ACTIVATION_DIM,\n",
    "    in_batch_size=512,\n",
    "    out_batch_size=2 ** 15,\n",
    "    n_ctxs=1e4,\n",
    ")\n",
    "\n",
    "tokenized_prompts = buffer.tokenized_batch(batch_size=512) # [batch, n_ctx]"
   ]
  },
  {
   "cell_type": "code",
   "execution_count": 25,
   "metadata": {},
   "outputs": [],
   "source": [
    "# Circuitsvis visualization\n",
    "\n",
    "def get_feature_activations(layer):\n",
    "    '''\n",
    "    Function for retrieving feature activations from tokenized batch\n",
    "    returns activations for all submodules, dictionaries if layer == None\n",
    "    \n",
    "    '''\n",
    "    with model.generate(max_new_tokens=1, pad_token_id=model.tokenizer.pad_token_id) as generator:\n",
    "        with generator.invoke(tokenized_prompts['input_ids'], scan=False) as invoker:\n",
    "            hidden_states = submodules[layer].output.save() # hidden_states.value: [batch, n_ctx, d_mlp]\n",
    "    dictionary_activation = dictionaries[layer].encode(hidden_states.value)\n",
    "    return dictionary_activation\n",
    "\n",
    "def list_decode(x):\n",
    "    if isinstance(x, int):\n",
    "        return model.tokenizer.decode(x)\n",
    "    else:\n",
    "        return [list_decode(y) for y in x]\n",
    "    \n",
    "def topk_prompts_provider(feature_layer: int, feature_id: int, k: int = 30):\n",
    "    # Sort examples in batch by max feature activation\n",
    "    dictionary_activations = get_feature_activations(feature_layer)\n",
    "    acts = dictionary_activations[:, :, feature_id].cpu() # acts: [batch, pos]\n",
    "    flattened_acts = rearrange(acts, 'b l -> (b l)')\n",
    "    topk_indices = t.argsort(flattened_acts, dim=0, descending=True)[:k] \n",
    "    batch_indices = topk_indices // acts.shape[1]\n",
    "    token_indices = topk_indices % acts.shape[1]\n",
    "\n",
    "    # Visualize\n",
    "    tokens = [\n",
    "    tokenized_prompts['input_ids'][batch_idx, :token_idx+1].tolist() for batch_idx, token_idx in zip(batch_indices, token_indices)\n",
    "    ]\n",
    "    tokens = list_decode(tokens)\n",
    "    activations = [\n",
    "        acts[batch_idx, :token_id+1, None, None] for batch_idx, token_id in zip(batch_indices, token_indices)\n",
    "    ]\n",
    "    return tokens, activations"
   ]
  },
  {
   "cell_type": "markdown",
   "metadata": {},
   "source": [
    "## Testing `patching_on_y`\n",
    "Evaluate causal effects of features in layer 5 on the logit diff between clean and patch answers."
   ]
  },
  {
   "cell_type": "code",
   "execution_count": 26,
   "metadata": {},
   "outputs": [],
   "source": [
    "layer_patching_on_y = 5"
   ]
  },
  {
   "cell_type": "code",
   "execution_count": 27,
   "metadata": {},
   "outputs": [
    {
     "name": "stderr",
     "output_type": "stream",
     "text": [
      "You're using a GPTNeoXTokenizerFast tokenizer. Please note that with a fast tokenizer, using the `__call__` method is faster than using a method to encode the text followed by a call to the `pad` method to get a padded encoding.\n"
     ]
    },
    {
     "name": "stdout",
     "output_type": "stream",
     "text": [
      "total metric diff after replacing clean prefix with patch prefix: 8.802978515625\n"
     ]
    }
   ],
   "source": [
    "effects_on_y, total_effect_on_y = patching_on_y(\n",
    "    toy_dataset,\n",
    "    model,\n",
    "    submodules,\n",
    "    dictionaries,\n",
    "    method='all-folded'\n",
    ")\n",
    "\n",
    "print(f'total metric diff after replacing clean prefix with patch prefix: {total_effect_on_y}')"
   ]
  },
  {
   "cell_type": "code",
   "execution_count": 30,
   "metadata": {},
   "outputs": [
    {
     "name": "stdout",
     "output_type": "stream",
     "text": [
      "Top 10 features in layer 5 with highest impact on logit diff\n",
      "feat 22167:\t 0.15118573606014252\n",
      "feat 7352:\t 0.08815076947212219\n",
      "feat 10880:\t 0.07269265502691269\n",
      "feat 14747:\t 0.06640410423278809\n",
      "feat 13505:\t 0.05375923216342926\n",
      "feat 19033:\t 0.023533709347248077\n",
      "feat 20780:\t 0.022761814296245575\n",
      "feat 30204:\t 0.013442937284708023\n",
      "feat 5580:\t 0.012757628224790096\n",
      "feat 25775:\t 0.011507045477628708\n"
     ]
    }
   ],
   "source": [
    "# Top 10 features in layer `layer_patching_on_y` with highest impact on logit diff\n",
    "\n",
    "# Only effect on token position `plural_token_pos` matters for \"Plurals\" task\n",
    "effects_on_y = effects_on_y[submodules[layer_patching_on_y]][plural_token_pos].detach().cpu()\n",
    "top_effects_on_y = t.argsort(effects_on_y, descending=True)[:10]\n",
    "top_features_on_y = []\n",
    "print(f'Top 10 features in layer {layer_patching_on_y} with highest impact on logit diff')\n",
    "for i in top_effects_on_y:\n",
    "    top_features_on_y.append(i)\n",
    "    print(f'feat {i}:\\t {effects_on_y[i]}')"
   ]
  },
  {
   "cell_type": "code",
   "execution_count": 31,
   "metadata": {},
   "outputs": [
    {
     "data": {
      "image/png": "[encoded data removed]",
      "text/plain": [
       "<Figure size 640x480 with 1 Axes>"
      ]
     },
     "metadata": {},
     "output_type": "display_data"
    }
   ],
   "source": [
    "plt.figure()\n",
    "plt.hist(effects_on_y[effects_on_y.abs() > EPS], bins=100)\n",
    "plt.xscale('log')\n",
    "plt.title(f'Feature effect on logit diff distribution\\nMLP={layer_patching_on_y}');\n",
    "plt.xlabel('Mean feature activation')\n",
    "plt.ylabel('Frequency');"
   ]
  },
  {
   "cell_type": "code",
   "execution_count": 32,
   "metadata": {},
   "outputs": [
    {
     "data": {
      "text/html": [
       "<div id=\"circuits-vis-cc7f0e07-61d5\" style=\"margin: 15px 0;\"/>\n",
       "    <script crossorigin type=\"module\">\n",
       "    import { render, TextNeuronActivations } from \"https://unpkg.com/circuitsvis@1.43.2/dist/cdn/esm.js\";\n",
       "    render(\n",
       "      \"circuits-vis-cc7f0e07-61d5\",\n",
       "      TextNeuronActivations,\n",
       "      {\"tokens\": [[\"<|endoftext|>\", \"<|endoftext|>\", \"<|endoftext|>\", \"<|endoftext|>\", \"<|endoftext|>\", \"<|endoftext|>\", \"<|endoftext|>\", \"<|endoftext|>\", \"<|endoftext|>\", \"<|endoftext|>\", \"<|endoftext|>\", \"<|endoftext|>\", \"<|endoftext|>\", \"<|endoftext|>\", \"<|endoftext|>\", \"<|endoftext|>\", \"<|endoftext|>\", \"<|endoftext|>\", \"<|endoftext|>\", \"<|endoftext|>\", \"<|endoftext|>\", \"<|endoftext|>\", \"<|endoftext|>\", \"<|endoftext|>\", \"<|endoftext|>\", \"<|endoftext|>\", \"<|endoftext|>\", \"<|endoftext|>\", \"<|endoftext|>\", \"<|endoftext|>\", \"<|endoftext|>\", \"<|endoftext|>\", \"<|endoftext|>\", \"<|endoftext|>\", \"<|endoftext|>\", \"<|endoftext|>\", \"<|endoftext|>\", \"<|endoftext|>\", \"<|endoftext|>\", \"<|endoftext|>\", \"<|endoftext|>\", \"<|endoftext|>\", \"<|endoftext|>\", \"<|endoftext|>\", \"<|endoftext|>\", \"View\", \" Transcript\", \"\\n\", \"\\n\", \"Trans\", \"cript\", \"\\n\", \"\\n\", \"W\", \"ally\", \" The\", \" Econom\", \"ist\", \".\", \" Dil\", \"bert\", \":\", \" I\", \" wonder\", \" if\", \" you\", \"'ll\", \" win\", \" the\", \" Nobel\", \" Prize\", \" for\", \" Economics\", \".\", \" Man\"], [\"Eight\", \" months\", \" before\", \" their\", \" company\", \"'s\", \" 20\", \"th\", \" birthday\", \",\", \" Cow\", \"girl\", \" Cream\", \"ery\", \" owners\", \" Sue\", \" Con\", \"ley\", \" and\", \" Peggy\", \" Smith\", \" have\", \" sold\", \" their\", \" nationally\", \" distributed\", \" cheese\", \" business\", \" to\", \" a\", \" larger\", \" Swiss\", \" dairy\", \" company\", \",\", \" Emm\", \"i\", \",\", \" which\", \" six\", \" months\", \" ago\", \" also\", \" bought\", \" up\", \" Sebast\", \"opol\", \" goat\", \" dairy\", \" farm\", \" Red\", \"wood\", \" Hills\", \" Farm\", \" and\", \" Cream\", \"ery\", \".\", \"\\n\", \"\\n\", \"\\\"\", \"We\", \" felt\", \" with\", \" great\", \" confidence\", \" that\", \" we\", \" have\", \" found\", \" a\", \" like\", \"-\", \"minded\", \",\", \" value\", \"-\", \"aligned\", \" partner\", \" in\", \" Emm\", \"i\", \",\\\"\", \" the\", \" duo\", \" wrote\", \" in\", \" a\", \" Facebook\", \" post\", \" announcing\", \" the\", \" move\", \",\", \" which\", \" was\", \" initially\", \" reported\", \" by\", \" the\", \" Chronicle\", \".\", \"\\n\", \"\\n\", \"The\", \" deal\", \" comes\", \" along\", \" with\", \" Tom\"], [\"But\", \" something\", \" is\", \" happening\", \" here\", \" and\", \" you\", \" don\", \"\\u2019\", \"t\", \" know\", \" what\", \" it\", \" is\", \"\\n\", \"\\n\", \"Do\", \" you\", \",\", \" Mr\", \",\", \" Jones\", \"?\", \" (\", \"Bob\", \" Dylan\", \",\", \" 1965\", \")\", \"\\n\", \"\\n\", \"R\", \"ul\", \"ers\", \" seldom\", \" know\", \" what\", \"\\u2019\", \"s\", \" happening\", \",\", \" do\", \" they\", \"?\", \" They\", \" have\", \" the\", \" intelligence\", \" apparatus\", \" and\", \" their\", \" party\", \" polit\", \"icos\", \" feeding\", \" them\", \" whatever\", \" the\", \" powerful\", \" like\", \" to\", \" hear\", \",\", \" but\", \" the\", \" assessment\", \" of\", \" the\", \" people\", \" can\", \" be\", \" in\", \" delicious\", \" discord\", \".\", \"\\n\", \"\\n\", \"At\", \"al\", \" B\", \"ih\", \"ari\", \" V\", \"aj\", \"pay\", \"ee\", \" ordered\", \" elections\", \" early\", \" because\", \" his\", \" India\", \" was\", \" shining\", \".\", \" He\", \" paid\", \" the\", \" price\", \".\", \" Through\", \" cries\", \" of\", \" policy\", \" paralysis\", \" and\", \" corruption\", \",\", \" Man\"], [\"H\", \"ONG\", \" K\", \"ONG\", \" \\u2014\", \" July\", \" 4\", \"th\", \" may\", \" be\", \" a\", \" holiday\", \" for\", \" Americans\", \",\", \" but\", \" in\", \" China\", \" it\", \" is\", \" the\", \" eve\", \" of\", \" nationwide\", \" release\", \" of\", \" \\u201c\", \"Man\"], [\"Follow\", \" Us\", \"\\n\", \"\\n\", \"Tim\"], [\"Man\", \"hattan\", \" Airport\", \" Foundation\", \"\\n\", \"\\n\", \"The\", \" Manhattan\", \" Airport\", \" Foundation\", \" is\", \" a\", \" par\", \"ody\", \" advocacy\", \" organization\", \" lobbying\", \",\", \" as\", \" part\", \" of\", \" a\", \" ho\", \"ax\", \",\", \" for\", \" the\", \" development\", \" of\", \" an\", \" international\", \" airport\", \" replacing\", \" Central\", \" Park\", \" between\", \" 59\", \"th\", \" Street\", \" and\", \" 110\", \"th\", \" Street\", \" in\", \" Manhattan\", \".\", \" The\", \" Foundation\", \" claims\", \" to\", \" have\", \" been\", \" founded\", \" in\", \" 2006\", \" and\", \" that\", \" it\", \" is\", \" composed\", \" of\", \" members\", \" of\", \" civic\", \",\", \" environmental\", \" and\", \" community\", \" groups\", \" as\", \" well\", \" as\", \" elected\", \" officials\", \" and\", \" city\", \" and\", \" state\", \" agencies\", \".\", \"\\n\", \"\\n\", \"The\", \" Foundation\", \" states\", \" that\", \" their\", \" proposed\", \" '\", \"Man\"], [\"Education\", \" Week\", \" reporter\", \" Ben\"], [\"It\", \"\\u2019\", \"s\", \" a\", \" crime\", \" so\", \" horrible\", \" that\", \" it\", \"\\u2019\", \"s\", \" hard\", \" to\", \" imagine\", \".\", \" On\", \" Thursday\", \",\", \" a\", \" man\", \" in\", \" C\", \"ang\", \"gu\", \" cut\", \" off\", \" his\", \" wife\", \"\\u2019\", \"s\", \" left\", \" foot\", \" and\", \" attempted\", \" to\", \" cle\", \"ave\", \" off\", \" her\", \" right\", \" foot\", \" as\", \" well\", \".\", \" The\", \" attack\", \" occurred\", \" in\", \" front\", \" of\", \" the\", \" couple\", \"\\u2019\", \"s\", \" young\", \" children\", \",\", \" who\", \" have\", \" now\", \" been\", \" sent\", \" to\", \" their\", \" grandmother\", \" in\", \" Sing\"], [\"L\", \"uck\", \"now\", \",\", \" Nov\", \" 7\", \":\", \" Ay\", \"od\", \"hy\", \"a\", \" Deep\", \"ost\", \"av\", \" 2018\", \",\", \" an\", \" event\", \" organised\", \" to\", \" mark\", \" Di\", \"w\", \"ali\", \" celebrations\", \" in\", \" Ay\", \"od\", \"hy\", \"a\", \" town\", \" -\", \" has\", \" entered\", \" Gu\", \"in\", \"ness\", \" Book\", \" of\", \" World\", \" Records\", \" on\", \" Tuesday\", \".\", \" A\", \" Gu\", \"in\", \"ness\", \" certificate\", \" was\", \" issued\", \" to\", \" UP\", \" government\", \"'s\", \" tourism\", \" department\", \" and\", \" Dr\", \" Ram\", \" Man\"], [\"My\", \" Hero\", \" Academ\", \"ia\", \" Season\", \" 2\", \"-\", \" Episode\", \" 18\", \"\\n\", \"\\n\", \"After\", \" last\", \" weeks\", \" episode\", \",\", \" I\", \" was\", \" really\", \" curious\", \" what\", \" they\", \" had\", \" in\", \" store\", \" for\", \" us\", \" this\", \" week\", \".\", \" How\", \" the\", \" heroes\", \" will\", \" come\", \" back\", \" to\", \" Earth\", \" after\", \" such\", \" a\", \" traumatic\", \" experience\", \".\", \" And\", \" good\", \" thing\", \" for\", \" us\", \",\", \" this\", \" episode\", \" is\", \" rightly\", \" named\", \" \\u201c\", \"The\", \" After\", \"math\", \" of\", \" Hero\", \" K\", \"iller\", \":\", \" St\", \"ain\", \"\\u201d.\", \"\\n\", \"\\n\", \"My\", \" Hero\", \" Academ\", \"ia\", \"-\", \" Fun\", \"imation\", \"\\n\", \"\\n\", \"We\", \" open\", \" with\", \" Iz\", \"uku\", \",\", \" I\", \"ida\", \",\", \" and\", \" T\", \"odor\", \"oki\", \" all\", \" in\", \" the\", \" hospital\", \".\", \" They\", \" are\", \" all\", \" recovering\", \" from\", \" their\", \" tremendous\", \" fight\", \".\", \" But\", \" also\", \" reflecting\", \" how\", \" lucky\", \" they\", \" are\", \" to\", \" be\", \" alive\", \" still\", \".\", \" The\", \" door\", \" opens\", \" and\", \" we\", \" see\", \" Gran\"], [\"Follow\", \" me\", \" on\", \"\\n\", \"\\n\", \"Thursday\", \",\", \" 29\", \" March\", \" 2012\", \"\\n\", \"\\n\", \"This\", \" is\", \" a\", \" card\", \" I\", \" made\", \" for\", \" my\", \" friend\", \" E\", \"ile\", \"en\", \" who\", \"'s\", \" birthday\", \" it\", \" is\", \" today\", \".....\", \"Happy\", \" Birth\", \"day\", \" E\", \"ile\", \"en\", \"...\", \"I\", \" just\", \" love\", \" this\", \" S\", \".\", \"U\", \".\", \" Elements\", \" of\", \" Style\", \" stamp\", \" set\", \".\", \" Col\", \"oured\", \" with\", \" C\", \"opic\", \" pens\", \" and\", \" I\", \" have\", \" 3\", \"D\", \" some\", \" of\", \" the\", \" flowers\", \".\", \"Card\", \",\", \" papers\", \" and\", \" the\", \" emb\", \"oss\", \"ing\", \" folder\", \" are\", \" all\", \" from\", \" St\", \"amp\", \"in\", \" Up\", \"...\", \"just\", \" added\", \" a\", \" touch\", \" of\", \" gl\", \"it\", \"tered\", \" lace\", \" and\", \" a\", \" few\", \" pear\", \"ls\", \".\", \"\\n\", \"\\n\", \"Saturday\", \",\", \" 24\", \" March\", \" 2012\", \"\\n\", \"\\n\", \"This\", \" is\", \" an\", \" image\", \" from\", \" the\", \" Oh\"], [\"\\\"\", \"K\", \"ids\", \",\", \" on\", \" my\", \" first\", \" day\", \" as\", \" a\", \" college\", \" professor\", \",\", \" there\", \" re\", \" two\", \" things\", \" I\", \" didn\", \"'t\", \" know\", \" that\", \" I\", \" wish\", \" did\", \".\\\"\", \" \\\"\", \"The\", \" first\", \" thing\", \" was\", \" that\", \" your\", \" mother\", \" was\", \" in\", \" that\", \" classroom\", \".\\\"\", \" \\\"\", \"The\", \" second\", \" thing\", \"?\\\"\", \" \\\"\", \"Well\", \",\", \" to\", \" explain\", \" tt\", \",\", \" we\", \" have\", \" to\", \" go\", \" back\", \" to\", \" the\", \" beginning\", \" of\", \" the\", \" summer\", \",\", \" when\", \",\", \" after\", \" a\", \" year\", \" of\", \" wrestling\", \" with\", \" their\", \" feelings\", \" for\", \" each\", \" other\", \",\\\"\", \" \\\"\", \"Bar\"], [\"<|endoftext|>\", \"<|endoftext|>\", \"<|endoftext|>\", \"<|endoftext|>\", \"<|endoftext|>\", \"<|endoftext|>\", \"<|endoftext|>\", \"<|endoftext|>\", \"<|endoftext|>\", \"<|endoftext|>\", \"<|endoftext|>\", \"<|endoftext|>\", \"<|endoftext|>\", \"Rob\", \"ins\", \"ons\", \" ready\", \" to\", \" roll\", \"\\n\", \"\\n\", \"Tw\", \"ins\", \" Ty\", \"rell\", \" and\", \" Ty\", \"ree\", \" Robinson\", \" making\", \" their\", \" marks\", \" in\", \" football\", \",\", \" basketball\", \"\\n\", \"\\n\", \"A\", \" quick\", \" look\", \" at\", \" twin\", \" brothers\", \" Ty\", \"ree\", \" and\", \" Ty\", \"rell\", \" Robinson\", \" (\", \"San\"], [\"<|endoftext|>\", \"<|endoftext|>\", \"<|endoftext|>\", \"<|endoftext|>\", \"<|endoftext|>\", \"<|endoftext|>\", \"<|endoftext|>\", \"<|endoftext|>\", \"<|endoftext|>\", \"<|endoftext|>\", \"<|endoftext|>\", \"<|endoftext|>\", \"<|endoftext|>\", \"<|endoftext|>\", \"<|endoftext|>\", \"<|endoftext|>\", \"<|endoftext|>\", \"<|endoftext|>\", \"<|endoftext|>\", \"<|endoftext|>\", \"<|endoftext|>\", \"<|endoftext|>\", \"<|endoftext|>\", \"<|endoftext|>\", \"Kevin\", \" Os\", \"borne\", \",\", \" the\", \" baby\", \"'s\", \" father\", \",\", \" delivered\", \" his\", \" daughter\", \",\", \" who\", \" weighed\", \" 6\", \" pounds\", \" and\", \" 13\", \" ounces\", \".\", \" Crew\", \" members\", \" found\", \" Os\"], [\"The\", \" Ghost\", \"s\", \" of\", \" Flight\", \" 191\", \" Judith\", \" and\", \" She\"], [\"The\", \" b\", \"ant\", \"am\", \"weight\", \" champion\", \" of\", \" D\", \"EEP\", \",\", \" Tak\"], [\"<|endoftext|>\", \"<|endoftext|>\", \"<|endoftext|>\", \"<|endoftext|>\", \"<|endoftext|>\", \"<|endoftext|>\", \"<|endoftext|>\", \"<|endoftext|>\", \"<|endoftext|>\", \"<|endoftext|>\", \"<|endoftext|>\", \"<|endoftext|>\", \"<|endoftext|>\", \"<|endoftext|>\", \"<|endoftext|>\", \"<|endoftext|>\", \"<|endoftext|>\", \"<|endoftext|>\", \"<|endoftext|>\", \"<|endoftext|>\", \"<|endoftext|>\", \"<|endoftext|>\", \"<|endoftext|>\", \"<|endoftext|>\", \"<|endoftext|>\", \"<|endoftext|>\", \"<|endoftext|>\", \"<|endoftext|>\", \"<|endoftext|>\", \"<|endoftext|>\", \"<|endoftext|>\", \"<|endoftext|>\", \"<|endoftext|>\", \"<|endoftext|>\", \"<|endoftext|>\", \"<|endoftext|>\", \"<|endoftext|>\", \"<|endoftext|>\", \"<|endoftext|>\", \"<|endoftext|>\", \"<|endoftext|>\", \"<|endoftext|>\", \"<|endoftext|>\", \"Tag\", \":\", \" El\", \"oy\", \" Cas\", \"ados\", \"\\n\", \"\\n\", \"Original\", \" US\", \" release\", \" date\", \":\", \" December\", \" 5\", \",\", \" 2008\", \" Production\", \" budget\", \":\", \" $\", \"25\", \",\", \"000\", \",\", \"000\", \" World\", \"wide\", \" gross\", \":\", \" $\", \"27\", \",\", \"426\", \",\", \"335\", \" There\", \" are\", \" timely\", \" films\", \" and\", \" then\", \" there\", \" are\", \" films\", \" that\", \" are\", \" before\", \" their\", \" time\", \".\", \" Ron\"], [\"<|endoftext|>\", \"<|endoftext|>\", \"<|endoftext|>\", \"<|endoftext|>\", \"<|endoftext|>\", \"<|endoftext|>\", \"<|endoftext|>\", \"<|endoftext|>\", \"<|endoftext|>\", \"<|endoftext|>\", \"<|endoftext|>\", \"<|endoftext|>\", \"<|endoftext|>\", \"----------------------\", \" Forward\", \"ed\", \" by\", \" Benjamin\", \" Rogers\", \"/\", \"HOU\", \"/\", \"ECT\", \" on\", \" 10\", \"/\", \"19\", \"/\", \"2000\", \" \", \"\\n\", \"03\", \":\", \"13\", \" PM\", \" ---------------------------\", \"\\n\\n\", \"\\n\", \"D\", \"pl\", \"fl\", \"an\", \"@\", \"a\", \"ol\", \".\", \"com\", \" on\", \" 10\", \"/\", \"18\", \"/\", \"2000\", \" 06\", \":\", \"18\", \":\", \"51\", \" PM\", \"\\n\", \"To\", \":\", \" Benjamin\", \".\", \"Rog\", \"ers\", \"@\", \"enron\", \".\", \"com\", \"\\n\", \"cc\", \":\", \"  \", \"\\n\", \"Subject\", \":\", \" (\", \"no\", \" subject\", \")\", \"\\n\\n\", \"\\n\", \"Ben\"], [\"Chat\", \"S\", \"ua\", \"\\n\", \"\\n\", \"Chat\", \"S\", \"ua\", \" ()\", \" is\", \" a\", \" Thai\", \" film\", \" based\", \" on\", \" a\", \" work\", \" by\", \" \\\"\", \"O\", \"raw\", \"un\", \"\\\"\", \" (\", \"ly\", \"u\", \" S\", \"resa\", \"we\", \"k\", \").\", \" It\", \" was\", \" prem\", \"i\", \"\\u00e8\", \"red\", \" on\", \" June\", \" 18\", \",\", \" 1958\", \",\", \" at\", \" Sal\", \"a\", \" Chal\", \"erm\", \"kr\", \"ung\", \" Royal\", \" Theatre\", \" and\", \" Sal\", \"a\", \" Chal\", \"erm\", \"b\", \"ure\", \" Royal\", \" Theatre\", \".\", \" The\", \" film\", \" was\", \" directed\", \" by\", \" Pr\", \"ate\", \"b\", \" G\", \"omon\", \"p\", \"is\", \".\", \" It\", \" is\", \" a\", \" sequel\", \" to\", \" the\", \" 1956\", \" film\", \" Pra\", \"i\", \"K\", \"uar\", \"ng\", \".\", \"\\n\", \"\\n\", \"The\", \" film\", \" was\", \" the\", \" screen\", \" debut\", \" of\", \" Mit\", \"r\", \" Cha\", \"ib\", \"anch\", \"a\", \",\", \" as\", \" W\", \"ai\", \" S\", \"uk\", \"da\", \",\", \" and\", \" stars\", \" Rew\", \"ade\", \"e\", \" Sew\", \"il\", \"ai\", \",\", \" Win\"], [\"Education\", \" Week\", \" reporter\", \" Ben\", \" Her\", \"old\", \" explores\", \" how\", \" technology\", \" is\", \" shaping\", \" teaching\", \" and\", \" learning\", \" and\", \" the\", \" management\", \" of\", \" schools\", \".\", \" Join\", \" the\", \" discussion\", \" as\", \" he\", \" analy\", \"zes\", \" the\", \" latest\", \" developments\", \".\", \"\\n\", \"\\n\", \"G\", \"ates\", \" Foundation\", \",\", \" Chan\"]], \"activations\": [[[[0.0]], [[0.0]], [[0.0]], [[0.0]], [[0.0]], [[0.0]], [[0.0]], [[0.0]], [[0.0]], [[0.0]], [[0.0]], [[0.0]], [[0.0]], [[0.0]], [[0.0]], [[0.0]], [[0.0]], [[0.0]], [[0.0]], [[0.0]], [[0.0]], [[0.0]], [[0.0]], [[0.0]], [[0.0]], [[0.0]], [[0.0]], [[0.0]], [[0.0]], [[0.0]], [[0.0]], [[0.0]], [[0.0]], [[0.0]], [[0.0]], [[0.0]], [[0.0]], [[0.0]], [[0.0]], [[0.0]], [[0.0]], [[0.0]], [[0.0]], [[0.0]], [[0.0]], [[0.0]], [[0.0]], [[0.0]], [[0.0]], [[0.0]], [[0.12442129850387573]], [[0.0]], [[0.0]], [[0.11521238088607788]], [[0.08617711067199707]], [[0.650688648223877]], [[0.0]], [[0.0]], [[0.0]], [[0.227697491645813]], [[0.0]], [[0.0]], [[0.0]], [[0.0]], [[0.0]], [[0.0]], [[0.0]], [[0.0]], [[0.0]], [[0.0]], [[0.0]], [[0.0]], [[0.0]], [[0.0]], [[2.6830761432647705]]], [[[0.0]], [[0.0]], [[0.0]], [[0.0]], [[0.0]], [[0.0]], [[0.0]], [[0.0]], [[0.0]], [[0.0]], [[0.18108701705932617]], [[0.0]], [[0.0]], [[0.0]], [[0.0]], [[0.0]], [[0.0]], [[0.0]], [[0.0]], [[0.03324079513549805]], [[0.0]], [[0.0]], [[0.0]], [[0.0]], [[0.0]], [[0.0]], [[0.0]], [[0.0]], [[0.0]], [[0.0]], [[0.0]], [[0.0]], [[0.0]], [[0.0]], [[0.0]], [[0.0]], [[0.0]], [[0.0]], [[0.0]], [[0.0]], [[0.0]], [[0.0]], [[0.0]], [[0.0]], [[0.0]], [[0.0]], [[0.0]], [[0.0]], [[0.0]], [[0.0]], [[0.0]], [[0.0]], [[0.0]], [[0.0]], [[0.0]], [[0.0]], [[0.0]], [[0.0]], [[0.0]], [[0.0]], [[0.0]], [[0.0]], [[0.0]], [[0.0]], [[0.0]], [[0.0]], [[0.0]], [[0.0]], [[0.0]], [[0.0]], [[0.0]], [[0.0]], [[0.0]], [[0.0]], [[0.0]], [[0.0]], [[0.0]], [[0.0]], [[0.0]], [[0.0]], [[0.0]], [[0.0]], [[0.0]], [[0.0]], [[0.0]], [[0.0]], [[0.0]], [[0.0]], [[0.0]], [[0.0]], [[0.0]], [[0.0]], [[0.0]], [[0.0]], [[0.0]], [[0.0]], [[0.0]], [[0.0]], [[0.0]], [[0.0]], [[0.0]], [[0.0]], [[0.0]], [[0.0]], [[0.0]], [[0.0]], [[0.0]], [[0.0]], [[0.0]], [[2.408930540084839]]], [[[0.0]], [[0.0]], [[0.0]], [[0.0]], [[0.0]], [[0.0]], [[0.0]], [[0.0]], [[0.0]], [[0.0]], [[0.0]], [[0.0]], [[0.0]], [[0.0]], [[0.0]], [[0.0]], [[0.0]], [[0.0]], [[0.0]], [[0.0]], [[0.0]], [[0.0]], [[0.0]], [[0.0]], [[0.6206173896789551]], [[0.0]], [[0.0]], [[0.0]], [[0.0]], [[0.0]], [[0.0]], [[0.0]], [[0.4015779495239258]], [[0.0]], [[0.0]], [[0.0]], [[0.0]], [[0.0]], [[0.0]], [[0.0]], [[0.0]], [[0.0]], [[0.0]], [[0.0]], [[0.0]], [[0.0]], [[0.0]], [[0.0]], [[0.0]], [[0.0]], [[0.0]], [[0.0]], [[0.0]], [[0.0]], [[0.0]], [[0.0]], [[0.0]], [[0.0]], [[0.0]], [[0.0]], [[0.0]], [[0.0]], [[0.0]], [[0.0]], [[0.0]], [[0.0]], [[0.0]], [[0.0]], [[0.0]], [[0.0]], [[0.0]], [[0.0]], [[0.0]], [[0.060173988342285156]], [[0.0]], [[0.0]], [[0.0]], [[0.0]], [[0.0]], [[0.06329208612442017]], [[0.0]], [[0.0]], [[0.0]], [[0.0]], [[0.0]], [[0.0]], [[0.0]], [[0.0]], [[0.0]], [[0.0]], [[0.0]], [[0.0]], [[0.0]], [[0.0]], [[0.0]], [[0.0]], [[0.0]], [[0.0]], [[0.0]], [[0.0]], [[0.0]], [[0.0]], [[0.0]], [[0.0]], [[0.0]], [[0.0]], [[0.0]], [[0.0]], [[2.3145463466644287]]], [[[0.0]], [[0.0]], [[0.0]], [[0.0]], [[0.0]], [[0.0]], [[0.0]], [[0.0]], [[0.0]], [[0.0]], [[0.0]], [[0.0]], [[0.0]], [[0.0]], [[0.0]], [[0.0]], [[0.0]], [[0.0]], [[0.0]], [[0.0]], [[0.0]], [[0.0]], [[0.0]], [[0.0]], [[0.0]], [[0.0]], [[0.0]], [[2.1805975437164307]]], [[[0.0]], [[0.0]], [[0.0]], [[0.0]], [[2.0856359004974365]]], [[[0.0]], [[0.0]], [[0.0]], [[0.0]], [[0.0]], [[0.0]], [[0.0]], [[0.0]], [[0.0]], [[0.0]], [[0.0]], [[0.0]], [[0.0]], [[0.0]], [[0.0]], [[0.0]], [[0.0]], [[0.0]], [[0.0]], [[0.0]], [[0.0]], [[0.0]], [[0.0]], [[0.0]], [[0.0]], [[0.0]], [[0.0]], [[0.0]], [[0.0]], [[0.0]], [[0.0]], [[0.0]], [[0.0]], [[0.0]], [[0.0]], [[0.0]], [[0.0]], [[0.0]], [[0.0]], [[0.0]], [[0.0]], [[0.0]], [[0.0]], [[0.0]], [[0.0]], [[0.0]], [[0.0]], [[0.0]], [[0.0]], [[0.0]], [[0.0]], [[0.0]], [[0.0]], [[0.0]], [[0.0]], [[0.0]], [[0.0]], [[0.0]], [[0.0]], [[0.0]], [[0.0]], [[0.0]], [[0.0]], [[0.0]], [[0.0]], [[0.0]], [[0.0]], [[0.0]], [[0.0]], [[0.0]], [[0.0]], [[0.0]], [[0.0]], [[0.0]], [[0.0]], [[0.0]], [[0.0]], [[0.0]], [[0.0]], [[0.0]], [[0.0]], [[0.0]], [[0.0]], [[0.0]], [[0.0]], [[0.0]], [[0.0]], [[0.0]], [[0.0]], [[2.079663038253784]]], [[[0.0]], [[0.0]], [[0.0]], [[2.0553925037384033]]], [[[0.0]], [[0.0]], [[0.0]], [[0.0]], [[0.0]], [[0.0]], [[0.0]], [[0.0]], [[0.0]], [[0.0]], [[0.0]], [[0.0]], [[0.0]], [[0.0]], [[0.0]], [[0.0]], [[0.0]], [[0.0]], [[0.0]], [[0.0]], [[0.0]], [[0.45713305473327637]], [[1.2764627933502197]], [[0.0]], [[0.0]], [[0.0]], [[0.0]], [[0.0]], [[0.0]], [[0.0]], [[0.0]], [[0.0]], [[0.0]], [[0.0]], [[0.0]], [[0.0]], [[0.0]], [[0.0]], [[0.0]], [[0.0]], [[0.0]], [[0.0]], [[0.0]], [[0.0]], [[0.0]], [[0.0]], [[0.0]], [[0.0]], [[0.0]], [[0.0]], [[0.0]], [[0.0]], [[0.0]], [[0.0]], [[0.0]], [[0.0]], [[0.0]], [[0.0]], [[0.0]], [[0.0]], [[0.0]], [[0.0]], [[0.0]], [[0.0]], [[0.0]], [[0.0]], [[2.043241262435913]]], [[[0.0]], [[0.0]], [[0.0]], [[0.0]], [[0.0]], [[0.0]], [[0.0]], [[0.3910926580429077]], [[0.19442355632781982]], [[0.0]], [[0.0]], [[0.15326374769210815]], [[0.0]], [[0.0]], [[0.0]], [[0.0]], [[0.0]], [[0.0]], [[0.0]], [[0.0]], [[0.0]], [[0.9799153804779053]], [[0.0]], [[0.0]], [[0.0]], [[0.0]], [[0.0]], [[0.0]], [[0.0]], [[0.0]], [[0.0]], [[0.0]], [[0.0]], [[0.0]], [[0.0]], [[0.2172297239303589]], [[0.0]], [[0.0]], [[0.0]], [[0.0]], [[0.0]], [[0.0]], [[0.0]], [[0.0]], [[0.0]], [[0.3445526361465454]], [[0.12494051456451416]], [[0.0]], [[0.0]], [[0.0]], [[0.0]], [[0.0]], [[0.0]], [[0.0]], [[0.0]], [[0.0]], [[0.0]], [[0.0]], [[0.18480432033538818]], [[0.8056193590164185]], [[1.9138822555541992]]], [[[0.0]], [[0.0]], [[0.06399273872375488]], [[0.0]], [[0.0]], [[0.0]], [[0.0]], [[0.0]], [[0.0]], [[0.0]], [[0.0]], [[0.0]], [[0.0]], [[0.0]], [[0.0]], [[0.0]], [[0.0]], [[0.0]], [[0.0]], [[0.0]], [[0.0]], [[0.0]], [[0.0]], [[0.0]], [[0.0]], [[0.0]], [[0.0]], [[0.0]], [[0.0]], [[0.0]], [[0.0]], [[0.0]], [[0.0]], [[0.0]], [[0.0]], [[0.0]], [[0.0]], [[0.25402867794036865]], [[0.0]], [[0.0]], [[0.0]], [[0.0]], [[0.0]], [[0.0]], [[0.0]], [[0.0]], [[0.0]], [[0.0]], [[0.0]], [[0.0]], [[0.0]], [[0.0]], [[0.0]], [[0.0]], [[0.003109276294708252]], [[0.0]], [[0.0]], [[0.0]], [[0.0]], [[0.0]], [[0.0]], [[0.3105437755584717]], [[0.0]], [[0.0]], [[0.1313149333000183]], [[0.0]], [[0.0]], [[0.0]], [[0.0]], [[0.0]], [[0.03993505239486694]], [[0.0]], [[0.0]], [[0.0]], [[0.0]], [[0.0]], [[0.0]], [[0.0]], [[0.0]], [[0.0]], [[0.0]], [[1.1531212329864502]], [[0.0]], [[0.0]], [[0.0]], [[0.0]], [[0.011061549186706543]], [[0.0]], [[0.12569767236709595]], [[0.4424159526824951]], [[0.0]], [[0.0]], [[0.0]], [[0.0]], [[0.0]], [[0.0]], [[0.0]], [[0.0]], [[0.0]], [[0.0]], [[0.0]], [[0.0]], [[0.0]], [[0.0]], [[0.0]], [[0.0]], [[0.0]], [[0.0]], [[0.0]], [[0.0]], [[0.0]], [[0.0]], [[0.0]], [[0.0]], [[0.0]], [[0.0]], [[0.0]], [[0.0]], [[0.0]], [[0.0]], [[0.0]], [[0.0]], [[0.0]], [[1.7976183891296387]]], [[[0.0]], [[0.0]], [[0.0]], [[0.0]], [[0.0]], [[0.0]], [[0.0]], [[0.0]], [[0.0]], [[0.0]], [[0.0]], [[0.0]], [[0.0]], [[0.0]], [[0.0]], [[0.0]], [[0.0]], [[0.0]], [[0.0]], [[0.0]], [[0.0]], [[0.5084753036499023]], [[0.1856592893600464]], [[0.0]], [[0.0]], [[0.0]], [[0.0]], [[0.0]], [[0.0]], [[0.0]], [[0.0]], [[0.0]], [[0.0]], [[0.0]], [[0.0]], [[0.0]], [[0.0]], [[0.0]], [[0.0]], [[0.0]], [[0.0]], [[0.0]], [[0.05351513624191284]], [[0.3524937629699707]], [[0.0]], [[0.4185972213745117]], [[0.0]], [[0.0]], [[0.0]], [[0.0]], [[0.0]], [[0.0]], [[0.14710062742233276]], [[0.0]], [[0.0]], [[0.0]], [[0.0]], [[0.0]], [[0.0]], [[0.0]], [[0.0]], [[0.0]], [[0.0]], [[0.0]], [[0.0]], [[0.0]], [[0.0]], [[0.0]], [[0.14274132251739502]], [[0.0]], [[0.0]], [[0.0]], [[0.0]], [[0.0]], [[0.0]], [[0.0]], [[0.0]], [[0.0]], [[0.0]], [[0.0]], [[0.0]], [[0.0]], [[0.0]], [[0.0]], [[0.0]], [[0.0]], [[0.0]], [[0.0]], [[0.0]], [[0.0]], [[0.0]], [[0.0]], [[0.0]], [[0.0]], [[0.0]], [[0.0]], [[0.0]], [[0.0]], [[0.0]], [[0.0]], [[0.0]], [[0.0]], [[0.0]], [[0.0]], [[0.0]], [[0.0]], [[0.0]], [[0.0]], [[0.0]], [[0.0]], [[0.0]], [[0.0]], [[0.0]], [[0.0]], [[0.0]], [[1.7563469409942627]]], [[[0.0]], [[0.2469104528427124]], [[0.0]], [[0.0]], [[0.0]], [[0.0]], [[0.0]], [[0.0]], [[0.0]], [[0.0]], [[0.0]], [[0.0]], [[0.0]], [[0.0]], [[0.0]], [[0.0]], [[0.0]], [[0.0]], [[0.0]], [[0.0]], [[0.0]], [[0.0]], [[0.0]], [[0.0]], [[0.0]], [[0.0]], [[0.0]], [[0.0]], [[0.0]], [[0.0]], [[0.0]], [[0.0]], [[0.0]], [[0.0]], [[0.0]], [[0.0]], [[0.0]], [[0.0]], [[0.0]], [[0.0]], [[0.0]], [[0.0]], [[0.0]], [[0.0]], [[0.0]], [[0.0]], [[0.0]], [[0.0]], [[0.0]], [[0.0]], [[0.0]], [[0.0]], [[0.0]], [[0.0]], [[0.0]], [[0.0]], [[0.0]], [[0.0]], [[0.0]], [[0.0]], [[0.0]], [[0.0]], [[0.0]], [[0.0]], [[0.0]], [[0.0]], [[0.0]], [[0.0]], [[0.0]], [[0.0]], [[0.0]], [[0.0]], [[0.0]], [[0.0]], [[0.0]], [[0.0]], [[0.5337263345718384]], [[0.0]], [[1.718266487121582]]], [[[0.0]], [[0.0]], [[0.0]], [[0.0]], [[0.0]], [[0.0]], [[0.0]], [[0.0]], [[0.0]], [[0.0]], [[0.0]], [[0.0]], [[0.0]], [[0.13652664422988892]], [[0.0]], [[0.0]], [[0.0]], [[0.0]], [[0.0]], [[0.0]], [[0.0]], [[0.28980326652526855]], [[0.27268433570861816]], [[1.0595569610595703]], [[0.0]], [[0.0]], [[0.4931197166442871]], [[0.0]], [[0.0]], [[0.0]], [[0.0]], [[0.0]], [[0.0]], [[0.0]], [[0.0]], [[0.0]], [[0.673927903175354]], [[0.0]], [[0.0011972784996032715]], [[0.0]], [[0.0]], [[0.0]], [[0.0]], [[0.0]], [[0.0]], [[0.0]], [[0.0]], [[0.0]], [[0.0]], [[0.0]], [[0.0]], [[1.6911485195159912]]], [[[0.0]], [[0.0]], [[0.0]], [[0.0]], [[0.0]], [[0.0]], [[0.0]], [[0.0]], [[0.0]], [[0.0]], [[0.0]], [[0.0]], [[0.0]], [[0.0]], [[0.0]], [[0.0]], [[0.0]], [[0.0]], [[0.0]], [[0.0]], [[0.0]], [[0.0]], [[0.0]], [[0.0]], [[0.0]], [[0.2544548511505127]], [[0.0]], [[0.0]], [[0.0]], [[0.46578800678253174]], [[0.0]], [[0.0]], [[0.08627575635910034]], [[0.0]], [[0.0]], [[0.08682775497436523]], [[0.14481514692306519]], [[0.0]], [[0.0]], [[0.0]], [[0.0]], [[0.0]], [[0.0]], [[0.0]], [[0.0]], [[0.08432883024215698]], [[0.0]], [[0.0]], [[1.589153528213501]]], [[[0.0]], [[0.5119963884353638]], [[0.0]], [[0.0]], [[0.0]], [[0.0]], [[0.24826645851135254]], [[0.0]], [[1.5804922580718994]]], [[[0.0]], [[0.0]], [[0.0]], [[0.0]], [[0.0]], [[0.0]], [[0.0]], [[0.0]], [[0.0]], [[0.0]], [[1.5652945041656494]]], [[[0.0]], [[0.0]], [[0.0]], [[0.0]], [[0.0]], [[0.0]], [[0.0]], [[0.0]], [[0.0]], [[0.0]], [[0.0]], [[0.0]], [[0.0]], [[0.0]], [[0.0]], [[0.0]], [[0.0]], [[0.0]], [[0.0]], [[0.0]], [[0.0]], [[0.0]], [[0.0]], [[0.0]], [[0.0]], [[0.0]], [[0.0]], [[0.0]], [[0.0]], [[0.0]], [[0.0]], [[0.0]], [[0.0]], [[0.0]], [[0.0]], [[0.0]], [[0.0]], [[0.0]], [[0.0]], [[0.0]], [[0.0]], [[0.0]], [[0.0]], [[0.0]], [[0.0]], [[0.2361689805984497]], [[0.0]], [[0.0]], [[0.0]], [[0.0]], [[0.0]], [[0.0]], [[0.0]], [[0.0]], [[0.0]], [[0.0]], [[0.0]], [[0.0]], [[0.0]], [[0.0]], [[0.0]], [[0.0]], [[0.0]], [[0.0]], [[0.0]], [[0.0]], [[0.0]], [[0.0]], [[0.0]], [[0.0]], [[0.0]], [[0.0]], [[0.0]], [[0.0]], [[0.0]], [[0.0]], [[0.0]], [[0.0]], [[0.0]], [[0.0]], [[0.0]], [[0.0]], [[0.0]], [[0.0]], [[0.0]], [[0.0]], [[0.0]], [[0.0]], [[0.0]], [[0.0]], [[0.0]], [[0.0]], [[0.0]], [[0.0]], [[1.5210871696472168]]], [[[0.0]], [[0.0]], [[0.0]], [[0.0]], [[0.0]], [[0.0]], [[0.0]], [[0.0]], [[0.0]], [[0.0]], [[0.0]], [[0.0]], [[0.0]], [[0.0]], [[0.0]], [[0.0]], [[0.0]], [[0.3057934045791626]], [[0.0]], [[0.0]], [[0.0]], [[0.0]], [[0.0]], [[0.0]], [[0.0]], [[0.0]], [[0.0]], [[0.0]], [[0.0]], [[0.0]], [[0.0]], [[0.0]], [[0.0]], [[0.0]], [[0.0]], [[0.0]], [[0.0]], [[0.0]], [[0.0]], [[0.29600822925567627]], [[0.1799558401107788]], [[0.0738835334777832]], [[0.0]], [[0.0]], [[0.0]], [[0.0]], [[0.0]], [[0.0]], [[0.0]], [[0.0]], [[0.0]], [[0.0]], [[0.0]], [[0.0]], [[0.0]], [[0.0]], [[0.0]], [[0.0]], [[0.0]], [[0.0]], [[0.5184955596923828]], [[0.0]], [[0.0]], [[0.0]], [[0.3196660280227661]], [[0.0]], [[0.0]], [[0.0]], [[0.0]], [[0.0]], [[0.0]], [[0.0]], [[0.0]], [[0.0]], [[0.0]], [[0.0]], [[0.0]], [[0.0]], [[0.0]], [[0.0]], [[0.0]], [[0.0]], [[0.0]], [[1.5042145252227783]]], [[[0.0]], [[0.07950460910797119]], [[0.0]], [[0.0]], [[0.0]], [[0.0]], [[0.0]], [[0.0]], [[0.0]], [[0.0]], [[0.0]], [[0.0]], [[0.0]], [[0.0]], [[0.0]], [[0.0]], [[0.0]], [[0.0]], [[0.0]], [[0.1319793462753296]], [[0.6029633283615112]], [[0.2966562509536743]], [[0.0]], [[0.0]], [[0.6229060888290405]], [[0.0]], [[0.0]], [[0.0]], [[0.03153461217880249]], [[0.10227864980697632]], [[0.0]], [[0.0]], [[0.0]], [[0.0]], [[0.0]], [[0.0]], [[0.0]], [[0.0]], [[0.0]], [[0.0]], [[0.0]], [[0.0]], [[0.0]], [[0.0]], [[1.0034838914871216]], [[0.0]], [[0.38598108291625977]], [[0.0]], [[0.0]], [[0.0]], [[0.0]], [[0.0]], [[0.0]], [[0.2719036340713501]], [[0.0]], [[0.0]], [[0.0]], [[0.10639750957489014]], [[0.0]], [[0.0]], [[0.0]], [[0.0]], [[0.0]], [[0.0]], [[0.0]], [[0.0]], [[0.0]], [[0.0]], [[0.7895808219909668]], [[0.6974588632583618]], [[0.0]], [[0.0]], [[0.1823207139968872]], [[0.14763975143432617]], [[0.0]], [[0.0]], [[0.0]], [[0.0]], [[0.0]], [[0.0]], [[0.0]], [[0.0]], [[0.0]], [[0.9238052368164062]], [[0.39003753662109375]], [[1.1302043199539185]], [[0.0]], [[0.0175209641456604]], [[0.0]], [[0.0]], [[0.0]], [[0.0]], [[0.0]], [[0.0]], [[0.0]], [[0.0]], [[0.0]], [[0.0]], [[1.3792550563812256]], [[0.6123752593994141]], [[1.2417423725128174]], [[0.6742204427719116]], [[0.25118768215179443]], [[0.0]], [[0.0]], [[0.0]], [[0.3480645418167114]], [[0.707633376121521]], [[0.12168937921524048]], [[1.0812567472457886]], [[0.0]], [[0.0]], [[0.0]], [[0.058240413665771484]], [[1.0680856704711914]], [[0.22147417068481445]], [[0.0]], [[1.3246605396270752]], [[0.0]], [[0.0]], [[0.0]], [[1.49149751663208]]], [[[0.0]], [[0.0]], [[0.0]], [[2.0553925037384033]], [[0.10629314184188843]], [[0.0]], [[0.0]], [[0.0]], [[0.0]], [[0.0]], [[0.0]], [[0.0]], [[0.0]], [[0.0]], [[0.0]], [[0.0]], [[0.0]], [[0.0]], [[0.0]], [[0.0]], [[0.0]], [[0.0]], [[0.0]], [[0.0]], [[0.0]], [[0.0]], [[0.0]], [[0.0]], [[0.0]], [[0.0]], [[0.0]], [[0.0]], [[0.0]], [[0.0]], [[0.0]], [[0.0]], [[0.0]], [[1.4637677669525146]]]], \"firstDimensionName\": \"Layer\", \"secondDimensionName\": \"Neuron\"}\n",
       "    )\n",
       "    </script>"
      ],
      "text/plain": [
       "<circuitsvis.utils.render.RenderedHTML at 0x7fde073aa8b0>"
      ]
     },
     "execution_count": 32,
     "metadata": {},
     "output_type": "execute_result"
    }
   ],
   "source": [
    "# Need to stack functions to display circuitvis properly\n",
    "text_neuron_activations(\n",
    "    *topk_prompts_provider(\n",
    "        feature_layer=layer_patching_on_y, \n",
    "        feature_id=8011,\n",
    "        k=20\n",
    "))"
   ]
  },
  {
   "cell_type": "markdown",
   "metadata": {},
   "source": [
    "5/22167 seems to activate on singular nouns related do people."
   ]
  },
  {
   "cell_type": "markdown",
   "metadata": {},
   "source": [
    "## Testing `patching_on_downstream_feature`"
   ]
  },
  {
   "cell_type": "code",
   "execution_count": 33,
   "metadata": {},
   "outputs": [],
   "source": [
    "downstream_feat_layer = 5\n",
    "downstream_feat_id = 22167\n",
    "\n",
    "k_upstream_feats = 3"
   ]
  },
  {
   "cell_type": "code",
   "execution_count": 38,
   "metadata": {},
   "outputs": [
    {
     "name": "stdout",
     "output_type": "stream",
     "text": [
      "total metric diff after replacing clean prefix with patch prefix: -2.3897130489349365\n"
     ]
    }
   ],
   "source": [
    "effects_on_dsfeat, total_effect_on_dsfeat = patching_on_downstream_feature(\n",
    "    toy_dataset,\n",
    "    model,\n",
    "    upstream_submodules=submodules[:downstream_feat_layer],\n",
    "    upstream_dictionaries=dictionaries[:downstream_feat_layer],\n",
    "    downstream_submodule=submodules[downstream_feat_layer],\n",
    "    downstream_dictionary=dictionaries[downstream_feat_layer],\n",
    "    downstream_feature_id=downstream_feat_id,\n",
    "    method='separate'\n",
    ")\n",
    "\n",
    "print(f'total metric diff after replacing clean prefix with patch prefix: {total_effect_on_dsfeat}')"
   ]
  },
  {
   "cell_type": "code",
   "execution_count": 11,
   "metadata": {},
   "outputs": [
    {
     "name": "stdout",
     "output_type": "stream",
     "text": [
      "Top 3 features per layer with highest impact on downstream feat activation\n",
      "\n",
      "Layer 0:\n",
      "feat 21840:\t 0.0\n",
      "feat 21855:\t 0.0\n",
      "feat 21854:\t 0.0\n",
      "\n",
      "Layer 1:\n",
      "feat 14400:\t 0.030630111694335938\n",
      "feat 25045:\t 0.009372711181640625\n",
      "feat 10964:\t 0.006834506988525391\n",
      "\n",
      "Layer 2:\n",
      "feat 12654:\t 0.029448509216308594\n",
      "feat 27186:\t 0.018366336822509766\n",
      "feat 13579:\t 0.009025096893310547\n",
      "\n",
      "Layer 3:\n",
      "feat 26928:\t 0.03757333755493164\n",
      "feat 20945:\t 0.03383207321166992\n",
      "feat 17355:\t 0.03262805938720703\n",
      "\n",
      "Layer 4:\n",
      "feat 2871:\t 0.12388277053833008\n",
      "feat 11028:\t 0.004107952117919922\n",
      "feat 9616:\t 0.0036187171936035156\n"
     ]
    }
   ],
   "source": [
    "# Top k features per layer with highest impact on downstream feat activation\n",
    "\n",
    "topk_upstream_feats = t.zeros((len(submodules), k_upstream_feats), dtype=int)\n",
    "print(f'Top {k_upstream_feats} features per layer with highest impact on downstream feat activation')\n",
    "\n",
    "for layer in range(len(submodules)-1):\n",
    "    print(f'\\nLayer {layer}:')\n",
    "    effects_on_dsfeat_per_layer = effects_on_dsfeat[submodule_names[layer]][plural_token_pos].detach().cpu() # Only effect on token position `plural_token_pos` matters for \"Plurals\" task\n",
    "    topk_upstream_feats[layer] = t.argsort(effects_on_dsfeat_per_layer, descending=True)[:k_upstream_feats]\n",
    "    for i in topk_upstream_feats[layer]:\n",
    "        print(f'feat {i}:\\t {effects_on_dsfeat_per_layer[i]}')"
   ]
  },
  {
   "cell_type": "markdown",
   "metadata": {},
   "source": [
    "Top 1 features per layer found seem to be related to the plurals task!\n",
    "\n",
    "Values in same or later layer are generally uninterpretable.\n",
    "I expect that, xact patching should yield 0 unconnected features in same or later layer. (No bwdpass involved)"
   ]
  },
  {
   "cell_type": "code",
   "execution_count": 39,
   "metadata": {},
   "outputs": [
    {
     "data": {
      "text/html": [
       "<div id=\"circuits-vis-6b1aa1d6-bebd\" style=\"margin: 15px 0;\"/>\n",
       "    <script crossorigin type=\"module\">\n",
       "    import { render, TextNeuronActivations } from \"https://unpkg.com/circuitsvis@1.43.2/dist/cdn/esm.js\";\n",
       "    render(\n",
       "      \"circuits-vis-6b1aa1d6-bebd\",\n",
       "      TextNeuronActivations,\n",
       "      {\"tokens\": [[\"Ben\", \"jamin\", \" Lok\", \" describes\", \" how\", \" the\", \" robot\", \" butt\", \" sensors\", \" work\", \" 2\", \":\", \"26\", \"\\n\", \"\\n\", \"Pro\", \"state\", \" exams\", \" are\", \" potentially\", \"-\", \"life\", \" saving\", \".\", \" But\", \" the\", \" process\", \" of\", \" getting\", \" one\", \" can\", \" be\", \" nerve\", \"-\", \"r\", \"acking\", \" \\u2014\", \" both\", \" for\", \" the\", \" doctor\", \" and\", \" the\", \" patient\", \".\", \"\\n\", \"\\n\", \"A\", \" group\", \" of\", \" scientists\", \" from\", \" D\", \"rex\", \"el\", \" University\", \" and\", \" the\", \" Univers\", \"ities\", \" of\", \" Wisconsin\", \" and\", \" Florida\", \" are\", \" hoping\", \" to\", \" assist\", \" with\", \" that\", \".\", \" They\", \"'ve\", \" designed\", \" a\", \" robot\", \" to\", \" help\", \" medical\", \" students\"], [\"Common\", \"wealth\", \" Bank\", \" and\", \" the\", \" Australian\", \" Chamber\", \" Orchestra\", \" kick\", \" off\", \" the\", \" 2009\", \" Great\", \" Rom\", \"antics\", \" national\", \" tour\", \"\\n\", \"\\n\", \"S\", \"yd\", \"ney\", \",\", \" 11\", \" June\", \" 2009\", \":\", \" The\", \" Commonwealth\", \" Bank\", \" today\", \" congrat\", \"ulated\", \" the\", \" Australian\", \" Chamber\", \" Orchestra\", \" (\", \"AC\", \"O\", \")\", \" on\", \" the\", \" commencement\", \" of\", \" its\", \" Great\", \" Rom\", \"antics\", \" Tour\", \".\", \"\\n\", \"\\n\", \"Common\", \"wealth\", \" Bank\", \" Group\", \" Executive\", \" Human\", \" Resources\", \" and\", \" Group\", \" Services\", \",\", \" Ms\", \" Barbara\", \" Chapman\", \",\", \" said\", \" the\", \" Group\", \" was\", \" committed\", \" to\", \" supporting\", \" the\", \" Arts\", \" in\", \" Australia\", \" and\", \" helping\", \" its\", \" customers\"], [\"Ben\", \"jamin\", \" Lok\", \" describes\", \" how\", \" the\", \" robot\", \" butt\", \" sensors\", \" work\", \" 2\", \":\", \"26\", \"\\n\", \"\\n\", \"Pro\", \"state\", \" exams\", \" are\", \" potentially\", \"-\", \"life\", \" saving\", \".\", \" But\", \" the\", \" process\", \" of\", \" getting\", \" one\", \" can\", \" be\", \" nerve\", \"-\", \"r\", \"acking\", \" \\u2014\", \" both\", \" for\", \" the\", \" doctor\", \" and\", \" the\", \" patient\", \".\", \"\\n\", \"\\n\", \"A\", \" group\", \" of\", \" scientists\", \" from\", \" D\", \"rex\", \"el\", \" University\", \" and\", \" the\", \" Univers\", \"ities\", \" of\", \" Wisconsin\", \" and\", \" Florida\", \" are\", \" hoping\", \" to\", \" assist\", \" with\", \" that\", \".\", \" They\", \"'ve\", \" designed\", \" a\", \" robot\", \" to\", \" help\", \" medical\", \" students\", \" give\", \" better\", \" prostate\", \" exams\", \".\", \"\\n\", \"\\n\", \"The\", \" robot\", \"'s\", \" name\", \" is\", \" \\\"\", \"Patrick\", \"\\\"\", \" and\", \" he\", \"'s\", \" an\", \" interactive\", \" butt\", \".\", \"\\n\", \"\\n\", \"Professor\", \" Benjamin\", \" Lok\", \"\\n\", \"\\n\", \"\\\"\", \"Patrick\", \" is\", \" part\", \" of\", \" a\", \" simulation\", \" where\", \" students\"], [\"New\", \" York\", \" (\", \"CNN\", \" Business\", \")\", \" On\", \" Sunday\", \",\", \" Ford\", \" will\", \" announce\", \" what\", \" is\", \" possibly\", \" the\", \" biggest\", \" change\", \" ever\", \" in\", \" the\", \" 55\", \"-\", \"year\", \" history\", \" of\", \" the\", \" Must\", \"ang\", \".\", \"\\n\", \"\\n\", \"The\", \" autom\", \"aker\", \" will\", \" unve\", \"il\", \" a\", \" vehicle\", \" bearing\", \" the\", \" Must\", \"ang\", \" brand\", \" that\", \"'s\", \" not\", \" a\", \" two\", \"-\", \"door\", \" car\", \".\", \"\\n\", \"\\n\", \"Call\", \"ed\", \" the\", \" Ford\", \" Must\", \"ang\", \" Mach\", \"-\", \"E\", \",\", \" it\", \"'s\", \" a\", \" fully\", \" electric\", \" crossover\", \" SUV\", \" that\", \" will\", \" wear\", \" the\", \" Must\", \"ang\", \"'s\", \" chrome\", \" pony\", \".\", \"\\n\", \"\\n\", \"F\", \"ord\", \" has\", \" apparently\", \" learned\", \" from\", \" brands\", \" like\", \" P\", \"orsche\", \",\", \" Lamb\", \"org\", \"h\", \"ini\", \" and\", \" Je\", \"ep\", \" that\", \" even\", \" ar\", \"dent\", \" fans\"], [\"It\", \" is\", \" a\", \" tr\", \"u\", \"ism\", \" that\", \" modern\", \" cell\", \" phones\", \" feature\", \" a\", \" multitude\", \" of\", \" features\", \" that\", \" expand\", \" on\", \" the\", \" traditional\", \" cell\", \" phone\", \" functionality\", \".\", \" For\", \" example\", \",\", \" today\", \" cell\", \" phone\", \" users\"]], \"activations\": [[[[0.0]], [[0.0]], [[0.0]], [[0.0]], [[0.0]], [[0.0]], [[0.0]], [[0.0]], [[0.21400916576385498]], [[0.0]], [[0.0]], [[0.0]], [[0.0]], [[0.0]], [[0.0]], [[0.0]], [[0.0]], [[0.0]], [[0.0]], [[0.0]], [[0.0]], [[0.0]], [[0.0]], [[0.0]], [[0.0]], [[0.0]], [[0.0]], [[0.0]], [[0.0]], [[0.0]], [[0.0]], [[0.0]], [[0.0]], [[0.0]], [[0.0]], [[0.0]], [[0.0]], [[0.0]], [[0.0]], [[0.0]], [[0.0]], [[0.0]], [[0.0]], [[0.0]], [[0.0]], [[0.0]], [[0.0]], [[0.0]], [[0.0]], [[0.0]], [[1.2162028551101685]], [[0.0]], [[0.0]], [[0.0]], [[0.0]], [[0.0]], [[0.0]], [[0.0]], [[0.0]], [[0.16583633422851562]], [[0.0]], [[0.0]], [[0.0]], [[0.0]], [[0.0]], [[0.0]], [[0.0]], [[0.0]], [[0.0]], [[0.0]], [[0.0]], [[0.01831185817718506]], [[0.0]], [[0.0]], [[0.0]], [[0.0]], [[0.0]], [[0.0]], [[0.0]], [[2.5287742614746094]]], [[[0.0]], [[0.0]], [[0.0]], [[0.0]], [[0.0]], [[0.0]], [[0.0]], [[0.0]], [[0.0]], [[0.0]], [[0.0]], [[0.0]], [[0.0]], [[0.0]], [[0.24253559112548828]], [[0.0]], [[0.0]], [[0.0]], [[0.0]], [[0.0]], [[0.0]], [[0.0]], [[0.0]], [[0.0]], [[0.0]], [[0.0]], [[0.0]], [[0.0]], [[0.0]], [[0.0]], [[0.0]], [[0.0]], [[0.0]], [[0.0]], [[0.0]], [[0.0]], [[0.0]], [[0.0]], [[0.0]], [[0.0]], [[0.10928785800933838]], [[0.0]], [[0.0]], [[0.0]], [[0.0]], [[0.0]], [[0.0]], [[0.0]], [[0.0]], [[0.0]], [[0.0]], [[0.0]], [[0.0]], [[0.0]], [[0.0]], [[0.0]], [[0.0]], [[0.0]], [[0.0]], [[0.0]], [[0.0]], [[0.0]], [[0.0]], [[0.0]], [[0.0]], [[0.0]], [[0.0]], [[0.0]], [[0.0]], [[0.0]], [[0.0]], [[0.0]], [[0.0]], [[0.0]], [[0.0]], [[0.0]], [[0.0]], [[0.0]], [[0.0]], [[0.0]], [[0.0]], [[0.0]], [[2.253542900085449]]], [[[0.0]], [[0.0]], [[0.0]], [[0.0]], [[0.0]], [[0.0]], [[0.0]], [[0.0]], [[0.21400916576385498]], [[0.0]], [[0.0]], [[0.0]], [[0.0]], [[0.0]], [[0.0]], [[0.0]], [[0.0]], [[0.0]], [[0.0]], [[0.0]], [[0.0]], [[0.0]], [[0.0]], [[0.0]], [[0.0]], [[0.0]], [[0.0]], [[0.0]], [[0.0]], [[0.0]], [[0.0]], [[0.0]], [[0.0]], [[0.0]], [[0.0]], [[0.0]], [[0.0]], [[0.0]], [[0.0]], [[0.0]], [[0.0]], [[0.0]], [[0.0]], [[0.0]], [[0.0]], [[0.0]], [[0.0]], [[0.0]], [[0.0]], [[0.0]], [[1.2162028551101685]], [[0.0]], [[0.0]], [[0.0]], [[0.0]], [[0.0]], [[0.0]], [[0.0]], [[0.0]], [[0.16583633422851562]], [[0.0]], [[0.0]], [[0.0]], [[0.0]], [[0.0]], [[0.0]], [[0.0]], [[0.0]], [[0.0]], [[0.0]], [[0.0]], [[0.01831185817718506]], [[0.0]], [[0.0]], [[0.0]], [[0.0]], [[0.0]], [[0.0]], [[0.0]], [[2.5287742614746094]], [[0.0]], [[0.0]], [[0.0]], [[0.0]], [[0.0]], [[0.0]], [[0.0]], [[0.0]], [[0.0]], [[0.0]], [[0.0]], [[0.0]], [[0.0]], [[0.0]], [[0.0]], [[0.0]], [[0.0]], [[0.0]], [[0.0]], [[0.0]], [[0.0]], [[0.0]], [[0.0]], [[0.0]], [[0.0]], [[0.0]], [[0.0]], [[0.0]], [[0.0]], [[0.0]], [[0.0]], [[0.0]], [[0.0]], [[0.0]], [[0.0]], [[0.0]], [[0.0]], [[2.2006239891052246]]], [[[0.0]], [[0.0]], [[0.0]], [[0.0]], [[0.0]], [[0.0]], [[0.0]], [[0.0]], [[0.0]], [[0.0]], [[0.0]], [[0.0]], [[0.0]], [[0.0]], [[0.0]], [[0.0]], [[0.0]], [[0.0]], [[0.0]], [[0.0]], [[0.0]], [[0.0]], [[0.0]], [[0.0]], [[0.0]], [[0.0]], [[0.0]], [[0.0]], [[0.0]], [[0.0]], [[0.0]], [[0.0]], [[0.0]], [[0.0]], [[0.0]], [[0.0]], [[0.0]], [[0.0]], [[0.0]], [[0.0]], [[0.0]], [[0.0]], [[0.0]], [[0.0]], [[0.0]], [[0.0]], [[0.0]], [[0.0]], [[0.0]], [[0.0]], [[0.0]], [[0.0]], [[0.0]], [[0.0]], [[0.0]], [[0.0]], [[0.0]], [[0.0]], [[0.0]], [[0.0]], [[0.0]], [[0.0]], [[0.0]], [[0.0]], [[0.0]], [[0.0]], [[0.0]], [[0.0]], [[0.0]], [[0.0]], [[0.0]], [[0.0]], [[0.0]], [[0.0]], [[0.0]], [[0.0]], [[0.0]], [[0.0]], [[0.0]], [[0.0]], [[0.0]], [[0.0]], [[0.0]], [[0.0]], [[0.0]], [[0.0]], [[0.0]], [[0.0]], [[0.0]], [[0.0]], [[0.0]], [[0.7577693462371826]], [[0.0]], [[0.0]], [[0.0]], [[0.0]], [[0.0]], [[0.0]], [[0.0]], [[0.0]], [[0.0]], [[0.0]], [[0.0]], [[0.0]], [[0.0]], [[0.0]], [[0.0]], [[2.1463074684143066]]], [[[0.0]], [[0.0]], [[0.0]], [[0.0]], [[0.0]], [[0.0]], [[0.0]], [[0.0]], [[0.0]], [[0.011271357536315918]], [[0.0]], [[0.0]], [[0.0]], [[0.0]], [[0.0]], [[0.0]], [[0.0]], [[0.0]], [[0.0]], [[0.0]], [[0.0]], [[0.0]], [[0.0]], [[0.0]], [[0.0]], [[0.0]], [[0.0]], [[0.0]], [[0.0]], [[0.0]], [[2.1062750816345215]]]], \"firstDimensionName\": \"Layer\", \"secondDimensionName\": \"Neuron\"}\n",
       "    )\n",
       "    </script>"
      ],
      "text/plain": [
       "<circuitsvis.utils.render.RenderedHTML at 0x7fdde81ac7f0>"
      ]
     },
     "execution_count": 39,
     "metadata": {},
     "output_type": "execute_result"
    }
   ],
   "source": [
    "tokens, activations = topk_prompts_provider(\n",
    "    feature_layer=3,\n",
    "    feature_id=26928,\n",
    "    k=5\n",
    ")\n",
    "text_neuron_activations(tokens, activations)"
   ]
  },
  {
   "cell_type": "markdown",
   "metadata": {},
   "source": [
    "### Check wheter different patching methods agree in which upstream features have the highest effect on the downstream feature"
   ]
  },
  {
   "cell_type": "code",
   "execution_count": 43,
   "metadata": {},
   "outputs": [
    {
     "data": {
      "text/html": [
       "<div>\n",
       "<style scoped>\n",
       "    .dataframe tbody tr th:only-of-type {\n",
       "        vertical-align: middle;\n",
       "    }\n",
       "\n",
       "    .dataframe tbody tr th {\n",
       "        vertical-align: top;\n",
       "    }\n",
       "\n",
       "    .dataframe thead th {\n",
       "        text-align: right;\n",
       "    }\n",
       "</style>\n",
       "<table border=\"1\" class=\"dataframe\">\n",
       "  <thead>\n",
       "    <tr style=\"text-align: right;\">\n",
       "      <th></th>\n",
       "      <th>all-folded</th>\n",
       "      <th>separate</th>\n",
       "      <th>ig</th>\n",
       "    </tr>\n",
       "  </thead>\n",
       "  <tbody>\n",
       "    <tr>\n",
       "      <th>layer0_top1</th>\n",
       "      <td>15149</td>\n",
       "      <td>15149</td>\n",
       "      <td>21840</td>\n",
       "    </tr>\n",
       "    <tr>\n",
       "      <th>layer0_top2</th>\n",
       "      <td>21848</td>\n",
       "      <td>21848</td>\n",
       "      <td>21855</td>\n",
       "    </tr>\n",
       "    <tr>\n",
       "      <th>layer0_top3</th>\n",
       "      <td>21841</td>\n",
       "      <td>21841</td>\n",
       "      <td>21854</td>\n",
       "    </tr>\n",
       "    <tr>\n",
       "      <th>layer1_top1</th>\n",
       "      <td>14400</td>\n",
       "      <td>14400</td>\n",
       "      <td>14400</td>\n",
       "    </tr>\n",
       "    <tr>\n",
       "      <th>layer1_top2</th>\n",
       "      <td>1566</td>\n",
       "      <td>25045</td>\n",
       "      <td>25045</td>\n",
       "    </tr>\n",
       "    <tr>\n",
       "      <th>layer1_top3</th>\n",
       "      <td>14721</td>\n",
       "      <td>10964</td>\n",
       "      <td>10964</td>\n",
       "    </tr>\n",
       "    <tr>\n",
       "      <th>layer2_top1</th>\n",
       "      <td>27186</td>\n",
       "      <td>12654</td>\n",
       "      <td>12654</td>\n",
       "    </tr>\n",
       "    <tr>\n",
       "      <th>layer2_top2</th>\n",
       "      <td>12654</td>\n",
       "      <td>27186</td>\n",
       "      <td>27186</td>\n",
       "    </tr>\n",
       "    <tr>\n",
       "      <th>layer2_top3</th>\n",
       "      <td>31615</td>\n",
       "      <td>13579</td>\n",
       "      <td>13579</td>\n",
       "    </tr>\n",
       "    <tr>\n",
       "      <th>layer3_top1</th>\n",
       "      <td>26928</td>\n",
       "      <td>26928</td>\n",
       "      <td>26928</td>\n",
       "    </tr>\n",
       "    <tr>\n",
       "      <th>layer3_top2</th>\n",
       "      <td>20945</td>\n",
       "      <td>20945</td>\n",
       "      <td>20945</td>\n",
       "    </tr>\n",
       "    <tr>\n",
       "      <th>layer3_top3</th>\n",
       "      <td>17355</td>\n",
       "      <td>17355</td>\n",
       "      <td>17355</td>\n",
       "    </tr>\n",
       "    <tr>\n",
       "      <th>layer4_top1</th>\n",
       "      <td>2871</td>\n",
       "      <td>2871</td>\n",
       "      <td>2871</td>\n",
       "    </tr>\n",
       "    <tr>\n",
       "      <th>layer4_top2</th>\n",
       "      <td>11028</td>\n",
       "      <td>11028</td>\n",
       "      <td>11028</td>\n",
       "    </tr>\n",
       "    <tr>\n",
       "      <th>layer4_top3</th>\n",
       "      <td>9616</td>\n",
       "      <td>9616</td>\n",
       "      <td>9616</td>\n",
       "    </tr>\n",
       "  </tbody>\n",
       "</table>\n",
       "</div>"
      ],
      "text/plain": [
       "             all-folded  separate     ig\n",
       "layer0_top1       15149     15149  21840\n",
       "layer0_top2       21848     21848  21855\n",
       "layer0_top3       21841     21841  21854\n",
       "layer1_top1       14400     14400  14400\n",
       "layer1_top2        1566     25045  25045\n",
       "layer1_top3       14721     10964  10964\n",
       "layer2_top1       27186     12654  12654\n",
       "layer2_top2       12654     27186  27186\n",
       "layer2_top3       31615     13579  13579\n",
       "layer3_top1       26928     26928  26928\n",
       "layer3_top2       20945     20945  20945\n",
       "layer3_top3       17355     17355  17355\n",
       "layer4_top1        2871      2871   2871\n",
       "layer4_top2       11028     11028  11028\n",
       "layer4_top3        9616      9616   9616"
      ]
     },
     "execution_count": 43,
     "metadata": {},
     "output_type": "execute_result"
    }
   ],
   "source": [
    "methods = ['all-folded', 'separate', 'ig'] #, 'exact']\n",
    "topk_upstream_feats_across_methods = pd.DataFrame()\n",
    "df_idx = [f'layer{layer}_top{i+1}' for layer in range(downstream_feat_layer) for i in range(k_upstream_feats)]\n",
    "for method in methods:\n",
    "    topk_upstream_feats = t.zeros((downstream_feat_layer, k_upstream_feats), dtype=int)\n",
    "\n",
    "    effects_on_dsfeat, total_effect_on_dsfeat = patching_on_downstream_feature(\n",
    "        toy_dataset,\n",
    "        model,\n",
    "        upstream_submodules=submodules[:downstream_feat_layer],\n",
    "        upstream_dictionaries=dictionaries[:downstream_feat_layer],\n",
    "        downstream_submodule=submodules[downstream_feat_layer],\n",
    "        downstream_dictionary=dictionaries[downstream_feat_layer],\n",
    "        downstream_feature_id=downstream_feat_id,\n",
    "        method=method,\n",
    "    )\n",
    "    for layer in range(downstream_feat_layer):\n",
    "        effects_on_dsfeat_per_layer = effects_on_dsfeat[submodules[layer]][plural_token_pos].detach().cpu() # Only effect on token position `plural_token_pos` matters for \"Plurals\" task\n",
    "        topk_upstream_feats[layer] = t.argsort(effects_on_dsfeat_per_layer, descending=True)[:k_upstream_feats]\n",
    "\n",
    "    topk_upstream_feats_across_methods[method] = topk_upstream_feats.flatten()\n",
    "\n",
    "topk_upstream_feats_across_methods.index = df_idx\n",
    "topk_upstream_feats_across_methods"
   ]
  }
 ],
 "metadata": {
  "kernelspec": {
   "display_name": "Python 3",
   "language": "python",
   "name": "python3"
  },
  "language_info": {
   "codemirror_mode": {
    "name": "ipython",
    "version": 3
   },
   "file_extension": ".py",
   "mimetype": "text/x-python",
   "name": "python",
   "nbconvert_exporter": "python",
   "pygments_lexer": "ipython3",
   "version": "3.8.10"
  }
 },
 "nbformat": 4,
 "nbformat_minor": 2
}
