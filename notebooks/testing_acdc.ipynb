{
 "cells": [
  {
   "cell_type": "markdown",
   "metadata": {},
   "source": [
    "# Testing patching functions in acdc.py\n",
    "## Setup"
   ]
  },
  {
   "cell_type": "code",
   "execution_count": 4,
   "metadata": {},
   "outputs": [
    {
     "ename": "ModuleNotFoundError",
     "evalue": "No module named 'dictionary_learning'",
     "output_type": "error",
     "traceback": [
      "\u001b[0;31m---------------------------------------------------------------------------\u001b[0m",
      "\u001b[0;31mModuleNotFoundError\u001b[0m                       Traceback (most recent call last)",
      "Cell \u001b[0;32mIn[4], line 13\u001b[0m\n\u001b[1;32m     11\u001b[0m \u001b[38;5;28;01mimport\u001b[39;00m \u001b[38;5;21;01mtorch\u001b[39;00m \u001b[38;5;28;01mas\u001b[39;00m \u001b[38;5;21;01mt\u001b[39;00m\n\u001b[1;32m     12\u001b[0m \u001b[38;5;28;01mfrom\u001b[39;00m \u001b[38;5;21;01mnnsight\u001b[39;00m \u001b[38;5;28;01mimport\u001b[39;00m LanguageModel\n\u001b[0;32m---> 13\u001b[0m \u001b[38;5;28;01mfrom\u001b[39;00m \u001b[38;5;21;01mdictionary_learning\u001b[39;00m\u001b[38;5;21;01m.\u001b[39;00m\u001b[38;5;21;01mbuffer\u001b[39;00m \u001b[38;5;28;01mimport\u001b[39;00m ActivationBuffer\n\u001b[1;32m     14\u001b[0m \u001b[38;5;28;01mfrom\u001b[39;00m \u001b[38;5;21;01mdictionary_learning\u001b[39;00m\u001b[38;5;21;01m.\u001b[39;00m\u001b[38;5;21;01mdictionary\u001b[39;00m \u001b[38;5;28;01mimport\u001b[39;00m AutoEncoder\n\u001b[1;32m     15\u001b[0m \u001b[38;5;28;01mfrom\u001b[39;00m \u001b[38;5;21;01mdictionary_learning\u001b[39;00m\u001b[38;5;21;01m.\u001b[39;00m\u001b[38;5;21;01mtraining\u001b[39;00m \u001b[38;5;28;01mimport\u001b[39;00m trainSAE\n",
      "\u001b[0;31mModuleNotFoundError\u001b[0m: No module named 'dictionary_learning'"
     ]
    }
   ],
   "source": [
    "# Imports\n",
    "import zstandard as zstd\n",
    "import json\n",
    "import os\n",
    "import io\n",
    "from tqdm import tqdm\n",
    "import sys\n",
    "sys.path.append('..')\n",
    "\n",
    "from einops import rearrange\n",
    "import torch as t\n",
    "from nnsight import LanguageModel\n",
    "from dictionary_learning.buffer import ActivationBuffer\n",
    "from dictionary_learning.dictionary import AutoEncoder\n",
    "from dictionary_learning.training import trainSAE\n",
    "\n",
    "import matplotlib.pyplot as plt\n",
    "import imageio\n",
    "from circuitsvis.activations import text_neuron_activations"
   ]
  },
  {
   "cell_type": "code",
   "execution_count": 2,
   "metadata": {},
   "outputs": [],
   "source": [
    "# Global variables\n",
    "ACTIVATION_DIM = 512\n",
    "DICTIONARY_SIZE = 64 * ACTIVATION_DIM # This is the dict_size sam mostly works with.\n",
    "EPS = 1e-8"
   ]
  },
  {
   "cell_type": "code",
   "execution_count": 3,
   "metadata": {},
   "outputs": [
    {
     "name": "stderr",
     "output_type": "stream",
     "text": [
      "Special tokens have been added in the vocabulary, make sure the associated word embeddings are fine-tuned or trained.\n"
     ]
    }
   ],
   "source": [
    "# Model and SAEs\n",
    "model = LanguageModel('EleutherAI/pythia-70m-deduped', device_map='cuda:0')\n",
    "submodules = [\n",
    "    layer.mlp for layer in model.gpt_neox.layers\n",
    "]\n",
    "\n",
    "dictionaries = []\n",
    "for i in range(len(submodules)):\n",
    "    dictionary = AutoEncoder(ACTIVATION_DIM, DICTIONARY_SIZE).to('cuda:0')\n",
    "    dictionary.load_state_dict(t.load(f'/share/projects/dictionary_circuits/autoencoders/pythia-70m-deduped/mlp_out_layer{i}/1_32768/ae.pt'))\n",
    "    dictionaries.append(dictionary)"
   ]
  },
  {
   "cell_type": "code",
   "execution_count": 15,
   "metadata": {},
   "outputs": [
    {
     "data": {
      "text/plain": [
       "tensor([ 510, 1821])"
      ]
     },
     "execution_count": 15,
     "metadata": {},
     "output_type": "execute_result"
    }
   ],
   "source": [
    "# Toy dataset for the \"Plural\" task\n",
    "\n",
    "plural_token_pos = 1\n",
    "tok = lambda x: t.tensor(model.tokenizer.encode(x))\n",
    "toy_dataset = [dict(\n",
    "    clean_prefix=tok(\"The man\"),\n",
    "    clean_answer=tok(\" is\"),\n",
    "    patch_prefix=tok(\"The men\"),\n",
    "    patch_answer=tok(\" are\"),\n",
    "\n",
    ")]\n",
    "\n",
    "toy_dataset[0]['clean_prefix']"
   ]
  },
  {
   "cell_type": "code",
   "execution_count": 7,
   "metadata": {},
   "outputs": [
    {
     "name": "stdout",
     "output_type": "stream",
     "text": [
      "refreshing buffer...\n"
     ]
    },
    {
     "name": "stderr",
     "output_type": "stream",
     "text": [
      "You're using a GPTNeoXTokenizerFast tokenizer. Please note that with a fast tokenizer, using the `__call__` method is faster than using a method to encode the text followed by a call to the `pad` method to get a padded encoding.\n"
     ]
    },
    {
     "name": "stdout",
     "output_type": "stream",
     "text": [
      "buffer refreshed...\n"
     ]
    },
    {
     "data": {
      "text/plain": [
       "torch.Size([32768, 512])"
      ]
     },
     "execution_count": 7,
     "metadata": {},
     "output_type": "execute_result"
    }
   ],
   "source": [
    "# Diverse dataset for Circuitvis evaluation\n",
    "\n",
    "# set up data as a generator\n",
    "data_path = '/share/data/datasets/pile/the-eye.eu/public/AI/pile/train/00.jsonl.zst'\n",
    "compressed_file = open(data_path, 'rb')\n",
    "dctx = zstd.ZstdDecompressor()\n",
    "reader = dctx.stream_reader(compressed_file)\n",
    "text_stream = io.TextIOWrapper(reader, encoding='utf-8')\n",
    "def generator():\n",
    "    for line in text_stream:\n",
    "        yield json.loads(line)['text']\n",
    "data = generator()\n",
    "\n",
    "# Buffer tied to one specific submodule!\n",
    "buffer = ActivationBuffer(\n",
    "    data,\n",
    "    model,\n",
    "    submodules[0], # we only use data from the buffer, not acttivations. Thus we can pass any submodule here\n",
    "    io='out',\n",
    "    in_feats=ACTIVATION_DIM,\n",
    "    out_feats=ACTIVATION_DIM,\n",
    "    in_batch_size=512,\n",
    "    out_batch_size=2 ** 15,\n",
    "    n_ctxs=1e4,\n",
    ")\n",
    "\n",
    "# returns activations on dataset examples for the submodule specified\n",
    "# for each example, activations per each token positon are concatenated along dim out_batch_size\n",
    "# acts = next(buffer) # [out_batch_size, activation_size]\n",
    "tokenized_prompts = buffer.tokenized_batch(batch_size=512) # [batch, n_ctx]"
   ]
  },
  {
   "cell_type": "code",
   "execution_count": 14,
   "metadata": {},
   "outputs": [],
   "source": [
    "# Circuitsvis visualization\n",
    "\n",
    "def get_feature_activations(layer):\n",
    "    '''\n",
    "    Function for retrieving feature activations from tokenized batch\n",
    "    returns activations for all submodules, dictionaries if layer == None\n",
    "    \n",
    "    '''\n",
    "    with model.generate(max_new_tokens=1, pad_token_id=model.tokenizer.pad_token_id) as generator:\n",
    "        with generator.invoke(tokenized_prompts['input_ids'], scan=False) as invoker:\n",
    "            hidden_states = submodules[layer].output.save() # hidden_states.value: [batch, n_ctx, d_mlp]\n",
    "    dictionary_activation = dictionaries[layer].encode(hidden_states.value)\n",
    "    return dictionary_activation\n",
    "\n",
    "def list_decode(x):\n",
    "    if isinstance(x, int):\n",
    "        return model.tokenizer.decode(x)\n",
    "    else:\n",
    "        return [list_decode(y) for y in x]\n",
    "    \n",
    "def topk_prompts_provider(feature_layer: int, feature_id: int, k: int = 30):\n",
    "    # Sort examples in batch by max feature activation\n",
    "    dictionary_activations = get_feature_activations(feature_layer)\n",
    "    acts = dictionary_activations[:, :, feature_id].cpu() # acts: [batch, pos]\n",
    "    flattened_acts = rearrange(acts, 'b l -> (b l)')\n",
    "    topk_indices = t.argsort(flattened_acts, dim=0, descending=True)[:k] \n",
    "    batch_indices = topk_indices // acts.shape[1]\n",
    "    token_indices = topk_indices % acts.shape[1]\n",
    "\n",
    "    # Visualize\n",
    "    tokens = [\n",
    "    tokenized_prompts['input_ids'][batch_idx, :token_idx+1].tolist() for batch_idx, token_idx in zip(batch_indices, token_indices)\n",
    "    ]\n",
    "    tokens = list_decode(tokens)\n",
    "    activations = [\n",
    "        acts[batch_idx, :token_id+1, None, None] for batch_idx, token_id in zip(batch_indices, token_indices)\n",
    "    ]\n",
    "    return tokens, activations"
   ]
  },
  {
   "cell_type": "markdown",
   "metadata": {},
   "source": [
    "## Testing `patching_on_y`\n",
    "Evaluate causal effects of features in layer 5 on the logit diff between clean and patch answers."
   ]
  },
  {
   "cell_type": "code",
   "execution_count": 1,
   "metadata": {},
   "outputs": [],
   "source": [
    "layer_patching_on_y = 5"
   ]
  },
  {
   "cell_type": "code",
   "execution_count": 17,
   "metadata": {},
   "outputs": [
    {
     "name": "stdout",
     "output_type": "stream",
     "text": [
      "total metric diff after replacing clean prefix with patch prefix: 8.8028564453125\n"
     ]
    }
   ],
   "source": [
    "from acdc import patching_on_y\n",
    "\n",
    "effects_on_y, total_effect_on_y = patching_on_y(\n",
    "    toy_dataset,\n",
    "    model,\n",
    "    submodules,\n",
    "    dictionaries,\n",
    "    method='all-folded'\n",
    ")\n",
    "plural_effect_on_y = effects_on_y[submodules[layer_patching_on_y]][plural_token_pos].detach().cpu()\n",
    "\n",
    "print(f'total metric diff after replacing clean prefix with patch prefix: {total_effect_on_y}')"
   ]
  },
  {
   "cell_type": "code",
   "execution_count": 18,
   "metadata": {},
   "outputs": [
    {
     "name": "stdout",
     "output_type": "stream",
     "text": [
      "feat 22167:\t 0.2865937054157257\n",
      "feat 21277:\t 0.12576480209827423\n",
      "feat 10880:\t 0.10416737198829651\n",
      "feat 14747:\t 0.10214502364397049\n",
      "feat 13505:\t 0.07417690753936768\n",
      "feat 7352:\t 0.053832706063985825\n",
      "feat 27530:\t -0.053781237453222275\n",
      "feat 22606:\t 0.031817931681871414\n",
      "feat 30204:\t 0.0313369482755661\n",
      "feat 8810:\t -0.024746902287006378\n"
     ]
    }
   ],
   "source": [
    "# Top 10 features in layer `layer_patching_on_y` with highest impact on logit diff\n",
    "\n",
    "topk_effects_on_y = sorted(enumerate(plural_effect_on_y), key=lambda x: x[1].abs(), reverse=True)\n",
    "\n",
    "topk_features_on_y = []\n",
    "print(f'Top 10 features in layer {layer_patching_on_y} with highest impact on logit diff')\n",
    "for i, eff in topk_effects_on_y[:10]:\n",
    "    topk_features_on_y.append(i)\n",
    "    print(f'feat {i}:\\t {eff}')"
   ]
  },
  {
   "cell_type": "code",
   "execution_count": 19,
   "metadata": {},
   "outputs": [
    {
     "data": {
      "image/png": "[encoded data removed]",
      "text/plain": [
       "<Figure size 640x480 with 1 Axes>"
      ]
     },
     "metadata": {},
     "output_type": "display_data"
    }
   ],
   "source": [
    "plt.figure()\n",
    "plt.hist(plural_effect_on_y[plural_effect_on_y.abs() > EPS], bins=100)\n",
    "plt.xscale('log')\n",
    "plt.title(f'Feature effect on logit diff distribution\\nMLP={layer_patching_on_y}');\n",
    "plt.xlabel('Mean feature activation')\n",
    "plt.ylabel('Frequency');"
   ]
  },
  {
   "cell_type": "code",
   "execution_count": 20,
   "metadata": {},
   "outputs": [
    {
     "data": {
      "text/html": [
       "<div id=\"circuits-vis-3ce778b1-d607\" style=\"margin: 15px 0;\"/>\n",
       "    <script crossorigin type=\"module\">\n",
       "    import { render, TextNeuronActivations } from \"https://unpkg.com/circuitsvis@1.43.2/dist/cdn/esm.js\";\n",
       "    render(\n",
       "      \"circuits-vis-3ce778b1-d607\",\n",
       "      TextNeuronActivations,\n",
       "      {\"tokens\": [[\"J\", \"ER\", \"SE\", \"Y\", \" CITY\", \",\", \" N\", \".\", \"J\", \".\", \" (\", \"AP\", \")\", \" \\u2014\", \" A\", \" New\", \" Jersey\", \" man\"], [\"John\", \" Dou\", \"c\", \"ette\", \"\\n\", \"\\n\", \"John\", \" Arthur\", \" Dou\", \"c\", \"ette\", \" (\", \"January\", \" 21\", \",\", \" 1921\", \" \\u2013\", \" August\", \" 16\", \",\", \" 1994\", \")\", \" was\", \" an\", \" American\", \" character\", \" actor\", \" who\", \" performed\", \" in\", \" more\", \" than\", \" 280\", \" film\", \" and\", \" television\", \" productions\", \" between\", \" 1941\", \" and\", \" 1987\", \".\", \" A\", \" man\"], [\"B\", \"irmingham\", \" mother\", \" '\", \"d\", \"oused\", \" daughter\", \"'s\", \" body\", \" in\", \" acid\", \"'\", \" Published\", \" duration\", \" 26\", \" October\", \" 2010\", \"\\n\", \"\\n\", \"image\", \" caption\", \" I\", \"man\", \" Omar\", \" Y\", \"ouse\", \"f\", \" has\", \" been\", \" declared\", \" unf\", \"it\", \" to\", \" stand\", \" trial\", \"\\n\", \"\\n\", \"A\", \" three\", \"-\", \"year\", \"-\", \"old\", \" girl\"], [\"Rate\", \" this\", \":\", \"\\n\", \"\\n\", \"Im\", \"am\", \" I\", \"bn\", \" Ul\", \" J\", \"au\", \"zi\", \" Rh\", \".\", \"A\", \" was\", \" a\", \" great\", \" scholar\", \" of\", \" his\", \" time\", \",\", \" he\", \" had\", \" written\", \" around\", \" 150\", \" books\", \" on\", \" different\", \" aspects\", \" of\", \" religious\", \" and\", \" world\", \"ly\", \" matters\", \".\", \"\\n\", \"\\n\", \"Norm\", \"ally\", \" I\", \"bn\", \" Ul\", \" J\", \"au\", \"zi\", \" is\", \" famous\", \" as\", \" a\", \" scholar\", \" only\", \",\", \" but\", \" he\", \" also\", \" wrote\", \" some\", \" books\", \" which\", \" have\", \" got\", \" a\", \" lot\", \" of\", \" humor\", \" in\", \" them\", \".\", \" One\", \" of\", \" those\", \" hum\", \"orous\", \" black\", \" and\", \" white\", \" is\", \" \\u201c\", \"\\u0645\", \"\\u0646\", \" \\u0627\\ufffd\", \"\\ufffd\", \"\\u0628\", \"\\u0627\\u0631\", \" \\u0627\\u0644\\ufffd\", \"\\ufffd\", \"\\u0645\", \"\\u0642\", \"\\u06cc\", \" \\u0648\", \"\\u0627\\u0644\", \"\\u0645\", \"\\u063a\", \"\\u0641\", \"\\u0644\", \"\\u06cc\", \"\\u0646\", \"\\u201d\", \"\\n\", \"\\n\", \"He\", \" writes\", \" in\", \" this\", \" book\", \":\", \"\\n\", \"\\n\", \"An\", \" innocent\", \" man\", \" was\", \" going\", \" somewhere\", \" with\", \" his\", \" donkey\", \".\", \" A\", \" man\"], [\"Pages\", \"\\n\", \"\\n\", \"Wednesday\", \",\", \" July\", \" 26\", \",\", \" 2017\", \"\\n\", \"\\n\", \"F\", \"ear\", \"\\n\", \"\\n\", \"\\\"\", \"The\", \" Lord\", \",\", \" Himself\", \" will\", \" fight\", \" for\", \" you\", \".\", \" Just\", \" stay\", \" calm\", \".\\\"\", \" (\", \"Ex\", \"odus\", \" 14\", \":\", \"14\", \")\", \"It\", \"'s\", \" funny\", \" how\", \" fear\", \" can\", \" creep\", \" in\", \" at\", \" the\", \" most\", \" unexpected\", \" time\", \".\", \" I\", \"'m\", \" not\", \" talking\", \" about\", \" a\", \" fear\", \" of\", \" spiders\", \",\", \" mice\", \" or\", \" vel\", \"our\", \" pants\", \".\", \" I\", \"'m\", \" talking\", \" about\", \" disturbances\", \" that\", \" throw\", \" off\", \" your\", \" balance\", \".\", \"I\", \" have\", \" a\", \" fear\", \" of\", \" confrontation\", \".\", \" Isn\", \"'t\", \" that\", \" silly\", \"?\", \"A\", \" woman\"], [\"Rate\", \" this\", \":\", \"\\n\", \"\\n\", \"Im\", \"am\", \" I\", \"bn\", \" Ul\", \" J\", \"au\", \"zi\", \" Rh\", \".\", \"A\", \" was\", \" a\", \" great\", \" scholar\", \" of\", \" his\", \" time\", \",\", \" he\", \" had\", \" written\", \" around\", \" 150\", \" books\", \" on\", \" different\", \" aspects\", \" of\", \" religious\", \" and\", \" world\", \"ly\", \" matters\", \".\", \"\\n\", \"\\n\", \"Norm\", \"ally\", \" I\", \"bn\", \" Ul\", \" J\", \"au\", \"zi\", \" is\", \" famous\", \" as\", \" a\", \" scholar\", \" only\", \",\", \" but\", \" he\", \" also\", \" wrote\", \" some\", \" books\", \" which\", \" have\", \" got\", \" a\", \" lot\", \" of\", \" humor\", \" in\", \" them\", \".\", \" One\", \" of\", \" those\", \" hum\", \"orous\", \" black\", \" and\", \" white\", \" is\", \" \\u201c\", \"\\u0645\", \"\\u0646\", \" \\u0627\\ufffd\", \"\\ufffd\", \"\\u0628\", \"\\u0627\\u0631\", \" \\u0627\\u0644\\ufffd\", \"\\ufffd\", \"\\u0645\", \"\\u0642\", \"\\u06cc\", \" \\u0648\", \"\\u0627\\u0644\", \"\\u0645\", \"\\u063a\", \"\\u0641\", \"\\u0644\", \"\\u06cc\", \"\\u0646\", \"\\u201d\", \"\\n\", \"\\n\", \"He\", \" writes\", \" in\", \" this\", \" book\", \":\", \"\\n\", \"\\n\", \"An\", \" innocent\", \" man\"], [\"On\", \" the\", \" wall\", \" of\", \" the\", \" deputy\", \" Shin\", \" Bet\", \" head\", \"'s\", \" office\", \" there\", \"'s\", \" one\", \" picture\", \":\", \" An\", \" enlarged\", \" ID\", \" card\", \" with\", \" the\", \" photo\", \" of\", \" an\", \" elderly\", \" man\", \",\", \" sporting\", \" a\", \" white\", \" beard\", \".\", \" What\", \" does\", \" this\", \" man\", \" have\", \" to\", \" do\", \" with\", \" Nad\", \"av\", \" Arg\", \"aman\", \",\", \" who\", \" will\", \" take\", \" on\", \" the\", \" role\", \" of\", \" the\", \" head\", \" of\", \" the\", \" Shin\", \" Bet\", \" in\", \" May\", \"?\", \" The\", \" answer\", \" is\", \" known\", \" to\", \" only\", \" a\", \" handful\", \" of\", \" conf\", \"id\", \"ants\", \" in\", \" the\", \" organization\", \".\", \" The\", \" elegant\", \" old\", \" man\"], [\"On\", \" the\", \" wall\", \" of\", \" the\", \" deputy\", \" Shin\", \" Bet\", \" head\", \"'s\", \" office\", \" there\", \"'s\", \" one\", \" picture\", \":\", \" An\", \" enlarged\", \" ID\", \" card\", \" with\", \" the\", \" photo\", \" of\", \" an\", \" elderly\", \" man\"], [\"Get\", \" breaking\", \" news\", \" alerts\", \" and\", \" special\", \" reports\", \".\", \" The\", \" news\", \" and\", \" stories\", \" that\", \" matter\", \",\", \" delivered\", \" week\", \"day\", \" mornings\", \".\", \"\\n\", \"\\n\", \"Mal\", \"ays\", \"ian\", \" police\", \" on\", \" Wednesday\", \" named\", \" a\", \" North\", \" Korean\", \" embassy\", \" official\", \" as\", \" a\", \" person\", \" of\", \" interest\", \" in\", \" the\", \" airport\", \" murder\", \" of\", \" Kim\", \" Jong\", \" Un\", \"'s\", \" estr\", \"anged\", \" half\", \"-\", \"brother\", \".\", \"\\n\", \"\\n\", \"Royal\", \" Malaysia\", \" Police\", \" Inspector\", \" General\", \" Khal\", \"id\", \" Abu\", \" Bak\", \"ar\", \" said\", \" the\", \" embassy\", \" official\", \",\", \" identified\", \" as\", \" Hy\", \"on\", \" K\", \"wang\", \" Song\", \",\", \" holds\", \" the\", \" title\", \" of\", \" second\", \" secretary\", \".\", \" A\", \" Malaysia\", \"-\", \"based\", \" employee\"], [\"According\", \" to\", \" Phoenix\", \" police\", \" spokesman\", \" Sgt\", \".\", \" Trent\", \" Cr\", \"ump\", \",\", \" two\", \" officers\", \" were\", \" investigating\", \" a\", \" burglary\", \" complaint\", \" Tuesday\", \" evening\", \" (\", \"Dec\", \".\", \" 2\", \")\", \" when\", \" a\", \" resident\"], [\"Arm\", \"ed\", \" robbery\", \" suspects\", \" sought\", \" in\", \" Rolling\", \" Hills\", \" incident\", \"\\n\", \"\\n\", \"L\", \"OWER\", \" P\", \"OT\", \"TS\", \"GR\", \"OVE\", \" \\u2014\", \" Police\", \" are\", \" investigating\", \" a\", \" robbery\", \" in\", \" which\", \" two\", \" men\"], [\"wild\", \"ness\", \",\", \" wonder\", \",\", \" and\", \" the\", \" spirit\", \" of\", \" place\", \"\\n\", \"\\n\", \"Tag\", \" Archives\", \":\", \" Phoenix\", \"\\n\", \"\\n\", \"I\", \" am\", \" back\", \",\", \" pre\", \"-\", \"da\", \"wn\", \",\", \" scr\", \"ambling\", \" up\", \" a\", \" hot\", \" j\", \"umble\", \" of\", \" granite\", \" b\", \"ould\", \"ers\", \".\", \" Burn\", \"ing\", \" my\", \" hands\", \",\", \" then\", \" knees\", \",\", \" all\", \" to\", \" investigate\", \" sc\", \"at\", \",\", \" what\", \" appears\", \" to\", \" be\", \" a\", \" b\", \"usted\", \" lamp\", \" someone\", \" discarded\", \",\", \" a\", \" broken\", \" man\"], [\"Q\", \":\", \"\\n\", \"\\n\", \"M\", \"eno\", \"'s\", \" paradox\", \" -\", \" Did\", \" Socrates\", \" contradict\", \" himself\", \"?\", \"\\n\", \"\\n\", \"[\", \"Source\", \":]\", \" Men\", \"o\", \" then\", \" pro\", \"ff\", \"ers\", \" a\", \" paradox\", \":\", \" \\\"\", \"And\", \" how\", \" will\", \" you\", \" inquire\", \" into\", \" a\", \" thing\", \" when\", \" you\", \" are\", \" wholly\", \" ignorant\", \" of\", \" what\", \" it\", \" is\", \"?\", \" Even\", \" if\", \" you\", \" happen\", \" to\", \" bump\", \" right\", \" into\", \" it\", \",\", \" how\", \" will\", \" you\", \" know\", \" it\", \" is\", \" the\", \" thing\", \" you\", \" didn\", \"'t\", \" know\", \"?\\\"\", \" Socrates\", \" re\", \"ph\", \"r\", \"ases\", \" the\", \" question\", \",\", \" which\", \" has\", \" come\", \" to\", \" be\", \" the\", \" canonical\", \" statement\", \" of\", \" the\", \" paradox\", \":\", \" \\\"[\", \"A\", \"]\", \" man\"], [\"[\", \"A\", \" case\", \" of\", \" tub\", \"ercul\", \"ous\", \" aneurysm\", \" of\", \" sub\", \"cl\", \"avian\", \" artery\", \" occurred\", \" in\", \" the\", \" course\", \" of\", \" treatment\", \" for\", \" mil\", \"iary\", \" tuberculosis\", \"].\", \"\\n\", \"This\", \" case\", \" is\", \" a\", \" 56\", \"-\", \"year\", \" old\", \" woman\"], [\"Arm\", \"ed\", \" robbery\", \" suspects\", \" sought\", \" in\", \" Rolling\", \" Hills\", \" incident\", \"\\n\", \"\\n\", \"L\", \"OWER\", \" P\", \"OT\", \"TS\", \"GR\", \"OVE\", \" \\u2014\", \" Police\", \" are\", \" investigating\", \" a\", \" robbery\", \" in\", \" which\", \" two\", \" men\", \" reportedly\", \" pointed\", \" hand\", \"guns\", \" at\", \" their\", \" victims\", \" before\", \" stealing\", \" two\", \" cell\", \" phones\", \" Sunday\", \".\", \"\\n\", \"\\n\", \"Four\", \" people\"], [\"Get\", \" breaking\", \" news\", \" alerts\", \" and\", \" special\", \" reports\", \".\", \" The\", \" news\", \" and\", \" stories\", \" that\", \" matter\", \",\", \" delivered\", \" week\", \"day\", \" mornings\", \".\", \"\\n\", \"\\n\", \"Mal\", \"ays\", \"ian\", \" police\", \" on\", \" Wednesday\", \" named\", \" a\", \" North\", \" Korean\", \" embassy\", \" official\", \" as\", \" a\", \" person\"], [\"Our\", \" Story\", \"\\n\", \"\\n\", \"Our\", \" Mission\", \"\\n\", \"\\n\", \"National\", \" reach\", \" with\", \" local\", \" impact\", \".\", \" The\", \" mission\", \" of\", \" the\", \" M\", \"BA\", \" Op\", \"ens\", \" Do\", \"ors\", \" Foundation\", \" is\", \" to\", \" help\", \" vulnerable\", \" families\", \" with\", \" critically\", \" ill\", \" or\", \" injured\", \" children\", \" stay\", \" in\", \" their\", \" homes\", \" while\", \" a\", \" child\"], [\"S\", \"afety\", \" and\", \" delay\", \" time\", \" in\", \" pre\", \"hospital\", \" thromb\", \"olysis\", \" of\", \" acute\", \" myocardial\", \" infarction\", \" in\", \" urban\", \" and\", \" rural\", \" areas\", \" in\", \" Sweden\", \".\", \"\\n\", \"Six\", \"teen\", \" hospitals\", \" in\", \" Sweden\", \",\", \" including\", \" those\", \" in\", \" urban\", \" and\", \" more\", \" spars\", \"ely\", \" populated\", \" areas\", \",\", \" and\", \" the\", \" associated\", \" ambulance\", \" organizations\", \" were\", \" enrolled\", \" in\", \" a\", \" prospective\", \" evaluation\", \" of\", \" the\", \" feasibility\", \" of\", \" treating\", \" patients\", \" with\", \" a\", \" ST\", \"-\", \"ele\", \"vation\", \" infarction\", \" with\", \" a\", \" thromb\", \"olytic\", \" agent\", \" (\", \"re\", \"te\", \"pl\", \"ase\", \")\", \" before\", \" hospital\", \" admission\", \".\", \" A\", \" physician\"], [\"N\", \"ora\", \" He\", \"ys\", \"en\", \":\", \" A\", \" Port\", \"rait\", \"\\n\", \"\\n\", \"H\", \"ah\", \"nd\", \"orf\", \" artist\", \" N\", \"ora\", \" He\", \"ys\", \"en\", \" was\", \" the\", \" first\", \" woman\", \" to\", \" win\", \" the\", \" Arch\", \"ib\", \"ald\", \" Prize\", \",\", \" and\", \" Australia\", \"'s\", \" first\", \" female\", \" painter\", \" to\", \" be\", \" appointed\", \" as\", \" an\", \" official\", \" war\", \" artist\", \".\", \" A\", \" portrait\", \"ist\"], [\"Auth\", \"ored\", \" by\", \" Mac\", \" Sl\", \"avo\", \" via\", \" S\", \"HT\", \"F\", \"plan\", \".\", \"com\", \",\", \"\\n\", \"\\n\", \"A\", \" National\", \" Ge\", \"ographic\", \" photographer\"], [\"Recent\", \" News\", \"\\n\", \"\\n\", \"NEW\", \" YORK\", \"\\u2014\", \"St\", \"ressing\", \" that\", \" the\", \" league\", \" will\", \" take\", \" a\", \" hard\", \"-\", \"line\", \" stance\", \" when\", \" enforcing\", \" its\", \" policy\", \" for\", \" on\", \"-\", \"field\", \" conduct\", \",\", \" NFL\", \" commissioner\", \" Roger\", \" Good\", \"ell\", \" announced\", \" plans\", \" Thursday\", \" to\", \" curb\", \" any\", \" prolonged\", \" or\", \" excessive\", \" touchdown\", \" celebrations\", \" by\", \" removing\", \" the\", \" areas\", \" of\", \" players\", \"\\u2019\", \" brains\", \" responsible\", \" for\", \" emotions\", \".\", \"\\n\", \"\\n\", \"S\", \"AR\", \"AT\", \"O\", \"GA\", \" SPR\", \"INGS\", \",\", \" NY\", \"\\u2014\", \"Sp\", \"urn\", \"ing\", \" his\", \" deepest\", \" and\", \" most\", \" ar\", \"dent\", \" desires\", \",\", \" local\", \" man\", \" Mark\", \" Werner\", \" reportedly\", \" betrayed\", \" his\", \" heart\", \" Thursday\", \" by\", \" telling\", \" a\", \" friend\"], [\"J\", \"ER\", \"SE\", \"Y\", \" CITY\", \",\", \" N\", \".\", \"J\", \".\", \" (\", \"AP\", \")\", \" \\u2014\", \" A\", \" New\", \" Jersey\", \" man\", \" has\", \" been\", \" sentenced\", \" to\", \" 106\", \" years\", \" in\", \" prison\", \" in\", \" the\", \" murder\", \" of\", \" an\", \" elderly\", \" neighbor\"], [\"W\", \"ASHINGTON\", \",\", \" Oct\", \".\", \" 3\", \",\", \" 2016\", \" /\", \"PR\", \"New\", \"sw\", \"ire\", \"-\", \"US\", \"New\", \"sw\", \"ire\", \"/\", \" --\", \" Two\", \" letters\", \" from\", \" a\", \" bipartisan\", \" group\", \" of\", \" 11\", \" U\", \".\", \"S\", \".\", \" Senators\", \" \\u2013\", \" including\", \" Bernie\", \" Sanders\", \" (\", \"I\", \"-\", \"VT\", \")\", \" and\", \" Or\", \"rin\", \" H\", \"atch\", \" (\", \"R\", \"-\", \"UT\", \")\", \" \\u2013\", \" are\", \" urging\", \" the\", \" U\", \".\", \"S\", \".\", \" Drug\", \" Enforcement\", \" Administration\", \" (\", \"DE\", \"A\", \")\", \" to\", \" halt\", \" a\", \" proposed\", \" ban\", \" on\", \" the\", \" natural\", \" coffee\", \"-\", \"like\", \" herb\", \" k\", \"rat\", \"om\", \" and\", \" to\", \" allow\", \" for\", \" expert\", \" and\", \" public\", \" input\", \".\", \"\\n\", \"\\n\", \"One\", \" letter\"], [\"According\", \" to\", \" Phoenix\", \" police\", \" spokesman\", \" Sgt\", \".\", \" Trent\", \" Cr\", \"ump\", \",\", \" two\", \" officers\"], [\"wild\", \"ness\", \",\", \" wonder\", \",\", \" and\", \" the\", \" spirit\", \" of\", \" place\", \"\\n\", \"\\n\", \"Tag\", \" Archives\", \":\", \" Phoenix\", \"\\n\", \"\\n\", \"I\", \" am\", \" back\", \",\", \" pre\", \"-\", \"da\", \"wn\", \",\", \" scr\", \"ambling\", \" up\", \" a\", \" hot\", \" j\", \"umble\", \" of\", \" granite\", \" b\", \"ould\", \"ers\", \".\", \" Burn\", \"ing\", \" my\", \" hands\", \",\", \" then\", \" knees\", \",\", \" all\", \" to\", \" investigate\", \" sc\", \"at\", \",\", \" what\", \" appears\", \" to\", \" be\", \" a\", \" b\", \"usted\", \" lamp\", \" someone\"], [\"On\", \" the\", \" wall\", \" of\", \" the\", \" deputy\", \" Shin\", \" Bet\", \" head\", \"'s\", \" office\", \" there\", \"'s\", \" one\", \" picture\", \":\", \" An\", \" enlarged\", \" ID\", \" card\", \" with\", \" the\", \" photo\", \" of\", \" an\", \" elderly\", \" man\", \",\", \" sporting\", \" a\", \" white\", \" beard\", \".\", \" What\", \" does\", \" this\", \" man\", \" have\", \" to\", \" do\", \" with\", \" Nad\", \"av\", \" Arg\", \"aman\", \",\", \" who\", \" will\", \" take\", \" on\", \" the\", \" role\", \" of\", \" the\", \" head\", \" of\", \" the\", \" Shin\", \" Bet\", \" in\", \" May\", \"?\", \" The\", \" answer\", \" is\", \" known\", \" to\", \" only\", \" a\", \" handful\", \" of\", \" conf\", \"id\", \"ants\", \" in\", \" the\", \" organization\", \".\", \" The\", \" elegant\", \" old\", \" man\", \" and\", \" Nad\", \"av\", \" Arg\", \"aman\", \" are\", \" one\", \" and\", \" the\", \" same\", \".\", \" This\", \" is\", \" the\", \" same\", \" man\"], [\"<|endoftext|>\", \"<|endoftext|>\", \"<|endoftext|>\", \"<|endoftext|>\", \"<|endoftext|>\", \"<|endoftext|>\", \"<|endoftext|>\", \"<|endoftext|>\", \"<|endoftext|>\", \"<|endoftext|>\", \"<|endoftext|>\", \"<|endoftext|>\", \"<|endoftext|>\", \"<|endoftext|>\", \"<|endoftext|>\", \"<|endoftext|>\", \"<|endoftext|>\", \"<|endoftext|>\", \"<|endoftext|>\", \"<|endoftext|>\", \"<|endoftext|>\", \"<|endoftext|>\", \"<|endoftext|>\", \"<|endoftext|>\", \"<|endoftext|>\", \"<|endoftext|>\", \"<|endoftext|>\", \"<|endoftext|>\", \"<|endoftext|>\", \"<|endoftext|>\", \"<|endoftext|>\", \"<|endoftext|>\", \"<|endoftext|>\", \"<|endoftext|>\", \"<|endoftext|>\", \"<|endoftext|>\", \"<|endoftext|>\", \"<|endoftext|>\", \"<|endoftext|>\", \"<|endoftext|>\", \"<|endoftext|>\", \"<|endoftext|>\", \"<|endoftext|>\", \"<|endoftext|>\", \"<|endoftext|>\", \"<|endoftext|>\", \"<|endoftext|>\", \"<|endoftext|>\", \"<|endoftext|>\", \"<|endoftext|>\", \"<|endoftext|>\", \"<|endoftext|>\", \"<|endoftext|>\", \"<|endoftext|>\", \"<|endoftext|>\", \"Att\", \"orney\", \" Paul\", \" I\", \"ann\", \"acc\", \"one\", \" reached\", \" a\", \" settlement\", \" on\", \" behalf\", \" of\", \" an\", \" 82\", \" year\", \" old\", \" woman\"], [\"cn\", \"x\", \"ps\", \".\", \"cmd\", \".\", \"push\", \"(\", \"function\", \" ()\", \" {\", \" c\", \"nx\", \"ps\", \"({\", \" player\", \"Id\", \":\", \" '\", \"36\", \"af\", \"7\", \"c\", \"51\", \"-\", \"0\", \"c\", \"af\", \"-\", \"47\", \"41\", \"-\", \"98\", \"24\", \"-\", \"2\", \"c\", \"9\", \"41\", \"fc\", \"6\", \"c\", \"17\", \"b\", \"'\", \" }).\", \"render\", \"('\", \"4\", \"c\", \"4\", \"d\", \"856\", \"e\", \"0\", \"e\", \"6\", \"f\", \"4\", \"e\", \"3\", \"d\", \"808\", \"bb\", \"c\", \"17\", \"15\", \"e\", \"132\", \"f\", \"6\", \"');\", \" });\", \"\\n\", \"\\n\", \"L\", \"OND\", \"ON\", \" \\u2013\", \" A\", \" Ram\", \"at\", \"-\", \"G\", \"an\", \" based\", \" start\", \"-\", \"up\"], [\"F\", \"ord\", \" Open\", \" Prison\", \" riot\", \":\", \" Bre\", \"ath\", \" test\", \" '\", \"trig\", \"gered\", \"'\", \" prison\", \" riot\", \" Published\", \" duration\", \" 30\", \" November\", \" 2012\", \"\\n\", \"\\n\", \"image\", \" caption\", \" The\", \" Ford\", \" Open\", \" Prison\", \" riot\", \" caused\", \" damage\", \" which\", \" cost\", \" \\u00a3\", \"5\", \"m\", \" to\", \" repair\", \"\\n\", \"\\n\", \"A\", \" prison\", \" riot\"], [\"Ot\", \"to\", \" von\", \" B\", \"ress\", \"ens\", \"dor\", \"f\", \"\\n\", \"\\n\", \"O\", \"tt\", \"one\", \" Eug\", \"eno\", \" Cam\", \"el\", \"io\", \" B\", \"ress\", \"el\", \"au\", \",\", \" who\", \" claimed\", \" to\", \" be\", \" Otto\", \" von\", \" B\", \"ress\", \"ens\", \"dor\", \"f\", \",\", \" was\", \" a\", \" German\", \"-\", \"born\", \" fraud\", \"ster\"]], \"activations\": [[[[0.0]], [[0.0]], [[0.0]], [[0.0]], [[0.0]], [[0.0]], [[0.0]], [[0.0]], [[0.0]], [[0.0]], [[0.0]], [[0.0]], [[0.0]], [[0.0]], [[0.0]], [[0.0]], [[0.0]], [[5.356115341186523]]], [[[0.0]], [[0.0]], [[0.0]], [[0.0]], [[0.0]], [[0.0]], [[0.0]], [[0.0]], [[0.0]], [[0.0]], [[0.0]], [[0.0]], [[0.0]], [[0.0]], [[0.0]], [[0.0]], [[0.0]], [[0.0]], [[0.0]], [[0.0]], [[0.0]], [[0.15597081184387207]], [[0.0]], [[0.0]], [[0.0]], [[0.0]], [[0.4937964677810669]], [[0.0]], [[0.0]], [[0.0]], [[0.0]], [[0.0]], [[0.0]], [[0.0]], [[0.0]], [[0.0]], [[0.0]], [[0.0]], [[0.0]], [[0.0]], [[0.0]], [[0.0]], [[0.0]], [[5.3371758460998535]]], [[[0.0]], [[0.0]], [[0.0]], [[0.0]], [[0.0]], [[0.0]], [[0.0]], [[0.0]], [[0.0]], [[0.0]], [[0.0]], [[0.0]], [[0.0]], [[0.0]], [[0.0]], [[0.0]], [[0.0]], [[0.0]], [[0.0]], [[0.0]], [[0.0]], [[0.0]], [[0.0]], [[0.0]], [[0.0]], [[0.0]], [[0.0]], [[0.0]], [[0.0]], [[0.0]], [[0.0]], [[0.0]], [[0.0]], [[0.0]], [[0.0]], [[0.0]], [[0.0]], [[0.0]], [[0.0]], [[0.0]], [[0.0]], [[0.0]], [[0.8280037641525269]], [[5.076600074768066]]], [[[0.0]], [[0.0]], [[0.0]], [[0.0]], [[0.0]], [[0.0]], [[0.0]], [[0.0]], [[0.0]], [[0.0]], [[0.0]], [[0.0]], [[0.0]], [[0.0]], [[0.0]], [[0.0]], [[0.0]], [[0.0]], [[0.0]], [[0.0]], [[0.0]], [[0.0]], [[0.0]], [[0.0]], [[0.0]], [[0.0]], [[0.0]], [[0.0]], [[0.0]], [[0.0]], [[0.0]], [[0.0]], [[0.0]], [[0.0]], [[0.0]], [[0.0]], [[0.0]], [[0.0]], [[0.0]], [[0.0]], [[0.0]], [[0.0]], [[0.0]], [[0.0]], [[0.0]], [[0.0]], [[0.0]], [[0.0]], [[0.0]], [[0.0]], [[0.0]], [[0.0]], [[0.0]], [[0.0]], [[0.0]], [[0.0]], [[0.0]], [[0.0]], [[0.0]], [[0.0]], [[0.0]], [[0.0]], [[0.0]], [[0.0]], [[0.0]], [[0.0]], [[0.0]], [[0.0]], [[0.0]], [[0.0]], [[0.0]], [[0.0]], [[0.0]], [[0.30479001998901367]], [[0.0]], [[0.0]], [[0.0]], [[0.0]], [[0.0]], [[0.0]], [[0.0]], [[0.0]], [[0.0]], [[0.0]], [[0.0]], [[0.0]], [[0.0]], [[0.0]], [[0.0]], [[0.0]], [[0.0]], [[0.0]], [[0.0]], [[0.0]], [[0.0]], [[0.0]], [[0.0]], [[0.0]], [[0.0]], [[0.0]], [[0.0]], [[0.0]], [[0.0]], [[0.0]], [[0.0]], [[0.0]], [[0.0]], [[0.0]], [[0.0]], [[0.0]], [[0.0]], [[0.0]], [[0.0]], [[0.0]], [[0.0]], [[3.978968620300293]], [[0.0]], [[0.0]], [[0.0]], [[0.0]], [[0.0]], [[0.0]], [[0.0]], [[0.0]], [[4.8799543380737305]]], [[[0.0]], [[0.0]], [[0.0]], [[0.0]], [[0.0]], [[0.0]], [[0.0]], [[0.0]], [[0.0]], [[0.0]], [[0.0]], [[0.0]], [[0.0]], [[0.0]], [[0.0]], [[0.0]], [[0.0]], [[0.0]], [[0.0]], [[0.0]], [[0.0]], [[0.0]], [[0.0]], [[0.0]], [[0.0]], [[0.0]], [[0.0]], [[0.0]], [[0.0]], [[0.0]], [[0.0]], [[0.0]], [[0.0]], [[0.0]], [[0.0]], [[0.0]], [[0.0]], [[0.0]], [[0.0]], [[0.0]], [[0.0]], [[0.0]], [[0.0]], [[0.0]], [[0.0]], [[0.0]], [[0.0]], [[0.0]], [[0.0]], [[0.0]], [[0.0]], [[0.0]], [[0.0]], [[0.0]], [[0.0]], [[0.0]], [[0.0]], [[0.0]], [[0.0]], [[0.0]], [[0.0]], [[0.0]], [[0.0]], [[0.0]], [[0.0]], [[0.0]], [[0.0]], [[0.0]], [[0.0]], [[0.0]], [[0.0]], [[0.0]], [[0.0]], [[0.0]], [[0.0]], [[0.0]], [[0.0]], [[0.0]], [[0.0]], [[0.0]], [[0.0]], [[0.0]], [[0.0]], [[0.0]], [[0.0]], [[0.0]], [[0.0]], [[0.0]], [[0.0]], [[0.0]], [[4.764212608337402]]], [[[0.0]], [[0.0]], [[0.0]], [[0.0]], [[0.0]], [[0.0]], [[0.0]], [[0.0]], [[0.0]], [[0.0]], [[0.0]], [[0.0]], [[0.0]], [[0.0]], [[0.0]], [[0.0]], [[0.0]], [[0.0]], [[0.0]], [[0.0]], [[0.0]], [[0.0]], [[0.0]], [[0.0]], [[0.0]], [[0.0]], [[0.0]], [[0.0]], [[0.0]], [[0.0]], [[0.0]], [[0.0]], [[0.0]], [[0.0]], [[0.0]], [[0.0]], [[0.0]], [[0.0]], [[0.0]], [[0.0]], [[0.0]], [[0.0]], [[0.0]], [[0.0]], [[0.0]], [[0.0]], [[0.0]], [[0.0]], [[0.0]], [[0.0]], [[0.0]], [[0.0]], [[0.0]], [[0.0]], [[0.0]], [[0.0]], [[0.0]], [[0.0]], [[0.0]], [[0.0]], [[0.0]], [[0.0]], [[0.0]], [[0.0]], [[0.0]], [[0.0]], [[0.0]], [[0.0]], [[0.0]], [[0.0]], [[0.0]], [[0.0]], [[0.0]], [[0.30479001998901367]], [[0.0]], [[0.0]], [[0.0]], [[0.0]], [[0.0]], [[0.0]], [[0.0]], [[0.0]], [[0.0]], [[0.0]], [[0.0]], [[0.0]], [[0.0]], [[0.0]], [[0.0]], [[0.0]], [[0.0]], [[0.0]], [[0.0]], [[0.0]], [[0.0]], [[0.0]], [[0.0]], [[0.0]], [[0.0]], [[0.0]], [[0.0]], [[0.0]], [[0.0]], [[0.0]], [[0.0]], [[0.0]], [[0.0]], [[0.0]], [[0.0]], [[0.0]], [[0.0]], [[0.0]], [[0.0]], [[0.0]], [[0.0]], [[3.978968620300293]]], [[[0.0]], [[0.0]], [[0.0]], [[0.0]], [[0.0]], [[0.0]], [[0.0]], [[0.0]], [[0.0]], [[0.0]], [[0.0]], [[0.0]], [[0.0]], [[0.21163427829742432]], [[1.0367296934127808]], [[0.0]], [[0.0]], [[0.0]], [[0.0]], [[1.5547236204147339]], [[0.0]], [[0.0]], [[0.0]], [[0.0]], [[0.691014289855957]], [[1.1522578001022339]], [[3.6855058670043945]], [[0.7011216878890991]], [[0.0]], [[0.0]], [[0.05733823776245117]], [[0.7114546298980713]], [[0.0]], [[0.0]], [[0.0]], [[0.0]], [[0.0]], [[0.0]], [[0.0]], [[0.0]], [[0.0]], [[0.0]], [[0.0]], [[0.0]], [[0.0]], [[0.0]], [[0.4549452066421509]], [[0.0]], [[0.0]], [[0.0]], [[0.0]], [[0.0]], [[0.0]], [[0.0]], [[0.0]], [[0.0]], [[0.0]], [[0.0]], [[0.0]], [[0.0]], [[0.0]], [[0.0]], [[0.0]], [[0.0]], [[0.0]], [[0.0]], [[0.0]], [[0.0]], [[0.0]], [[0.0]], [[0.0]], [[0.0]], [[0.0]], [[0.4997469186782837]], [[0.0]], [[0.0]], [[0.0]], [[0.0]], [[0.0]], [[0.0]], [[0.0]], [[3.6914877891540527]]], [[[0.0]], [[0.0]], [[0.0]], [[0.0]], [[0.0]], [[0.0]], [[0.0]], [[0.0]], [[0.0]], [[0.0]], [[0.0]], [[0.0]], [[0.0]], [[0.21163427829742432]], [[1.0367296934127808]], [[0.0]], [[0.0]], [[0.0]], [[0.0]], [[1.5547236204147339]], [[0.0]], [[0.0]], [[0.0]], [[0.0]], [[0.691014289855957]], [[1.1522578001022339]], [[3.6855058670043945]]], [[[0.0]], [[0.0]], [[0.0]], [[0.0]], [[0.0]], [[0.0]], [[0.0]], [[0.0]], [[0.0]], [[0.0]], [[0.0]], [[0.0]], [[0.0]], [[0.0]], [[0.0]], [[0.0]], [[0.0]], [[0.0]], [[0.0]], [[0.0]], [[0.0]], [[0.0]], [[0.0]], [[0.0]], [[0.0]], [[0.0]], [[0.0]], [[0.0]], [[0.0]], [[0.0]], [[0.0]], [[0.0]], [[0.4302043914794922]], [[1.3844112157821655]], [[0.0]], [[0.0]], [[2.4660873413085938]], [[0.0]], [[0.01130819320678711]], [[0.0]], [[0.0]], [[0.0]], [[0.0]], [[0.0]], [[0.0]], [[0.0]], [[0.0]], [[0.0]], [[0.0]], [[0.0]], [[0.0]], [[0.0]], [[0.5792063474655151]], [[0.0]], [[0.0]], [[0.0]], [[0.0]], [[0.0]], [[0.0]], [[0.0]], [[0.0]], [[0.0]], [[0.0]], [[0.0]], [[0.0]], [[0.0]], [[0.0]], [[0.0]], [[0.0]], [[1.1152483224868774]], [[0.0]], [[0.0]], [[0.0]], [[0.0]], [[0.0]], [[0.0]], [[0.0]], [[0.0]], [[0.19620442390441895]], [[0.0]], [[0.0]], [[0.0]], [[0.0]], [[0.0]], [[0.4588634967803955]], [[0.0]], [[0.0]], [[0.0]], [[0.0]], [[0.0]], [[3.67557954788208]]], [[[0.0]], [[0.0]], [[0.0]], [[0.0]], [[0.0]], [[0.0]], [[0.0]], [[0.0]], [[0.0]], [[0.0]], [[0.0]], [[0.015025973320007324]], [[1.997780680656433]], [[0.0]], [[0.0]], [[0.0]], [[0.0]], [[0.0]], [[0.0]], [[0.0]], [[0.0]], [[0.0]], [[0.0]], [[0.0]], [[0.0]], [[0.0]], [[0.0]], [[3.5589399337768555]]], [[[0.0]], [[0.0]], [[0.0]], [[0.0]], [[0.0]], [[0.0]], [[0.0]], [[0.0]], [[0.0]], [[0.0]], [[0.0]], [[0.0]], [[0.0]], [[0.0]], [[0.0]], [[0.0]], [[0.0]], [[0.0]], [[0.0]], [[0.0]], [[0.0]], [[0.0]], [[0.0]], [[0.0]], [[0.0]], [[0.0]], [[0.0]], [[3.4456067085266113]]], [[[0.0]], [[0.0]], [[0.0]], [[0.0]], [[0.0]], [[0.0]], [[0.0]], [[0.0]], [[0.0]], [[0.0]], [[0.0]], [[0.0]], [[0.0]], [[0.0]], [[0.0]], [[0.0]], [[0.0]], [[0.0]], [[0.0]], [[0.0]], [[0.0]], [[0.0]], [[0.0]], [[0.0]], [[0.0]], [[0.0]], [[0.0]], [[0.0]], [[0.0]], [[0.0]], [[0.0]], [[0.0]], [[0.0]], [[0.0]], [[0.0]], [[0.0]], [[0.0]], [[0.0]], [[0.0]], [[0.0]], [[0.0]], [[0.0]], [[0.0]], [[0.0]], [[0.0]], [[0.0]], [[0.0]], [[0.0]], [[0.0]], [[0.0]], [[0.0]], [[0.0]], [[0.0]], [[0.0]], [[0.0]], [[0.0]], [[0.0]], [[0.0]], [[0.0]], [[0.0]], [[0.0]], [[0.043631672859191895]], [[1.9945355653762817]], [[0.0]], [[0.0]], [[0.0]], [[0.0]], [[2.8464431762695312]]], [[[0.0]], [[0.0]], [[0.0]], [[0.0]], [[0.0]], [[0.0]], [[0.0]], [[0.0]], [[0.0]], [[0.0]], [[0.0]], [[0.0]], [[0.0]], [[0.0]], [[0.0]], [[0.0]], [[0.0]], [[0.0]], [[0.0]], [[0.0]], [[0.0]], [[0.0]], [[0.0]], [[0.0]], [[0.0]], [[0.0]], [[0.0]], [[0.0]], [[0.0]], [[0.0]], [[0.0]], [[0.0]], [[0.0]], [[0.0]], [[0.0]], [[0.0]], [[0.0]], [[0.0]], [[0.0]], [[0.0]], [[0.0]], [[0.0]], [[0.0]], [[0.0]], [[0.0]], [[0.0]], [[0.0]], [[0.0]], [[0.0]], [[0.0]], [[0.0]], [[0.0]], [[0.0]], [[0.0]], [[0.0]], [[0.0]], [[0.0]], [[0.0]], [[0.0]], [[0.0]], [[0.0]], [[0.0]], [[0.0]], [[0.0]], [[0.0]], [[0.0]], [[0.0]], [[0.0]], [[0.0]], [[0.0]], [[0.0]], [[0.0]], [[0.0]], [[0.0]], [[0.0]], [[0.0]], [[0.0]], [[0.0]], [[0.0]], [[0.0]], [[0.0]], [[0.0]], [[0.0]], [[0.0]], [[0.0]], [[0.0]], [[0.0]], [[0.0]], [[0.0]], [[0.0]], [[0.0]], [[0.0]], [[0.0]], [[2.772613048553467]]], [[[0.0]], [[0.0]], [[0.0]], [[0.0]], [[0.0]], [[0.0]], [[0.0]], [[0.0]], [[0.0]], [[0.0]], [[0.0]], [[0.0]], [[0.0]], [[0.0]], [[0.0]], [[0.0]], [[0.0]], [[0.0]], [[0.0]], [[0.0]], [[0.0]], [[0.0]], [[0.0]], [[0.0]], [[0.0]], [[0.0]], [[0.0]], [[0.0]], [[0.0]], [[0.0]], [[0.0]], [[0.0]], [[0.0]], [[2.6308512687683105]]], [[[0.0]], [[0.0]], [[0.0]], [[0.0]], [[0.0]], [[0.0]], [[0.0]], [[0.0]], [[0.0]], [[0.0]], [[0.0]], [[0.0]], [[0.0]], [[0.0]], [[0.0]], [[0.0]], [[0.0]], [[0.0]], [[0.0]], [[0.0]], [[0.0]], [[0.0]], [[0.0]], [[0.0]], [[0.0]], [[0.0]], [[0.0]], [[3.4456067085266113]], [[0.4429473876953125]], [[0.0]], [[0.0]], [[0.0]], [[0.0]], [[0.0]], [[0.0]], [[0.0]], [[0.0]], [[0.0]], [[0.0]], [[0.051809072494506836]], [[0.0]], [[0.0]], [[0.0]], [[0.0]], [[0.0]], [[2.5755176544189453]]], [[[0.0]], [[0.0]], [[0.0]], [[0.0]], [[0.0]], [[0.0]], [[0.0]], [[0.0]], [[0.0]], [[0.0]], [[0.0]], [[0.0]], [[0.0]], [[0.0]], [[0.0]], [[0.0]], [[0.0]], [[0.0]], [[0.0]], [[0.0]], [[0.0]], [[0.0]], [[0.0]], [[0.0]], [[0.0]], [[0.0]], [[0.0]], [[0.0]], [[0.0]], [[0.0]], [[0.0]], [[0.0]], [[0.4302043914794922]], [[1.3844112157821655]], [[0.0]], [[0.0]], [[2.4660873413085938]]], [[[0.0]], [[0.0]], [[0.0]], [[0.0]], [[0.0]], [[0.0]], [[0.0]], [[0.0]], [[0.0]], [[0.0]], [[0.0]], [[0.0]], [[0.0]], [[0.0]], [[0.0]], [[0.0]], [[0.0]], [[0.0]], [[0.0]], [[0.0]], [[0.0]], [[0.0]], [[0.0]], [[0.0]], [[0.0]], [[0.0]], [[0.0]], [[0.0]], [[0.0]], [[0.0]], [[0.0]], [[0.0]], [[0.0]], [[0.0]], [[0.0]], [[0.0]], [[0.0]], [[0.0]], [[0.0]], [[0.0]], [[0.0]], [[0.0]], [[2.3769712448120117]]], [[[0.0]], [[0.0]], [[0.0]], [[0.0]], [[0.0]], [[0.0]], [[0.0]], [[0.0]], [[0.0]], [[0.0]], [[0.0]], [[0.0]], [[0.0]], [[0.0]], [[0.0]], [[0.0]], [[0.0]], [[0.0]], [[0.0]], [[0.0]], [[0.0]], [[0.0]], [[0.0]], [[0.0]], [[0.0]], [[0.0]], [[0.0]], [[0.0]], [[0.0]], [[0.0]], [[0.0]], [[0.0]], [[0.0]], [[0.0]], [[0.0]], [[0.0]], [[0.0]], [[0.0]], [[0.0]], [[0.0]], [[0.0]], [[0.0]], [[0.0]], [[0.0]], [[0.0]], [[0.0]], [[0.0]], [[0.0]], [[0.0]], [[0.0]], [[0.0]], [[0.0]], [[0.0]], [[0.0]], [[0.0]], [[0.0]], [[0.0]], [[0.0]], [[0.0]], [[0.0]], [[0.0]], [[0.0]], [[0.0]], [[0.0]], [[0.0]], [[0.0]], [[0.0]], [[0.0]], [[0.0]], [[0.0]], [[0.0]], [[0.0]], [[0.0]], [[0.0]], [[0.0]], [[0.0]], [[0.0]], [[0.0]], [[0.0]], [[0.0]], [[2.3337039947509766]]], [[[0.0]], [[0.0]], [[0.0]], [[0.0]], [[0.0]], [[0.0]], [[0.0]], [[0.0]], [[0.0]], [[0.0]], [[0.0]], [[0.0]], [[0.0]], [[0.0]], [[0.0]], [[0.0]], [[0.0]], [[0.0]], [[0.0]], [[0.0]], [[0.0]], [[0.0]], [[0.0]], [[0.0]], [[1.0820666551589966]], [[0.0]], [[0.0]], [[0.0]], [[0.0]], [[0.0]], [[0.0]], [[0.0]], [[0.0]], [[0.0]], [[0.0]], [[0.0]], [[0.0]], [[0.0]], [[0.0]], [[0.0]], [[0.0]], [[0.0]], [[0.0]], [[0.0]], [[0.0]], [[0.0]], [[0.0]], [[0.0]], [[0.0]], [[0.7756451368331909]], [[2.2820935249328613]]], [[[0.0]], [[0.0]], [[0.0]], [[0.0]], [[0.0]], [[0.0]], [[0.0]], [[0.0]], [[0.0]], [[0.0]], [[0.0]], [[0.0]], [[0.0]], [[0.0]], [[0.0]], [[0.0]], [[0.0]], [[0.0]], [[0.0]], [[0.0]], [[2.218331813812256]]], [[[0.0]], [[0.0]], [[0.0]], [[0.0]], [[0.0]], [[0.0]], [[0.0]], [[0.0]], [[0.0]], [[0.0]], [[0.0]], [[0.0]], [[0.0]], [[0.0]], [[0.0]], [[0.0]], [[0.0]], [[0.0]], [[0.0]], [[0.0]], [[0.0]], [[0.0]], [[0.0]], [[0.0]], [[0.0]], [[0.0]], [[0.0]], [[0.0]], [[0.0]], [[0.0]], [[0.0]], [[0.0]], [[0.0]], [[0.0]], [[0.0]], [[0.0]], [[0.0]], [[0.0]], [[0.0]], [[0.0]], [[0.0]], [[0.0]], [[0.0]], [[0.0]], [[0.0]], [[0.0]], [[0.0]], [[0.0]], [[0.0]], [[0.0]], [[0.0]], [[0.0]], [[0.0]], [[0.0]], [[0.0]], [[0.0]], [[0.0]], [[0.0]], [[0.0]], [[0.0]], [[0.0]], [[0.0]], [[0.0]], [[0.0]], [[0.0]], [[0.0]], [[0.0]], [[0.0]], [[0.0]], [[0.0]], [[0.0]], [[0.0]], [[0.0]], [[0.0]], [[0.0]], [[0.0]], [[0.0]], [[0.0]], [[0.0]], [[0.0]], [[0.0]], [[0.22423207759857178]], [[0.0]], [[0.0]], [[0.18052315711975098]], [[0.0]], [[0.0]], [[0.0]], [[0.0]], [[0.0]], [[0.0]], [[0.0]], [[2.185662269592285]]], [[[0.0]], [[0.0]], [[0.0]], [[0.0]], [[0.0]], [[0.0]], [[0.0]], [[0.0]], [[0.0]], [[0.0]], [[0.0]], [[0.0]], [[0.0]], [[0.0]], [[0.0]], [[0.0]], [[0.0]], [[5.356115341186523]], [[0.0]], [[0.0]], [[0.0]], [[0.0]], [[0.0]], [[0.0]], [[0.0]], [[0.0]], [[0.0]], [[0.0]], [[0.0]], [[0.0]], [[0.0]], [[0.5321518182754517]], [[2.158235549926758]]], [[[0.0]], [[0.0]], [[0.0]], [[0.0]], [[0.0]], [[0.0]], [[0.0]], [[0.0]], [[0.0]], [[0.0]], [[0.0]], [[0.0]], [[0.0]], [[0.0]], [[0.0]], [[0.0]], [[0.0]], [[0.0]], [[0.0]], [[0.0]], [[0.0]], [[0.04763340950012207]], [[0.0]], [[0.0]], [[0.0]], [[0.3096994161605835]], [[0.0]], [[0.0]], [[0.0]], [[0.0]], [[0.0]], [[0.0]], [[0.0]], [[0.0]], [[0.0]], [[0.0]], [[0.0]], [[0.0]], [[0.0]], [[0.0]], [[0.0]], [[0.0]], [[0.0]], [[0.0]], [[0.0]], [[0.0]], [[0.0]], [[0.0]], [[0.0]], [[0.0]], [[0.0]], [[0.0]], [[0.0]], [[0.0]], [[0.0]], [[0.0]], [[0.0]], [[0.0]], [[0.0]], [[0.0]], [[0.0]], [[0.0]], [[0.0]], [[0.0]], [[0.0]], [[0.0]], [[0.0]], [[0.0]], [[0.0]], [[0.0]], [[0.0]], [[0.0]], [[0.0]], [[0.0]], [[0.0]], [[0.0]], [[0.0]], [[0.0]], [[0.0]], [[0.0]], [[0.0]], [[0.0]], [[0.0]], [[0.0]], [[0.0]], [[0.0]], [[0.0]], [[0.0]], [[0.0]], [[0.0]], [[0.0]], [[0.0]], [[0.0]], [[0.35796117782592773]], [[2.142970085144043]]], [[[0.0]], [[0.0]], [[0.0]], [[0.0]], [[0.0]], [[0.0]], [[0.0]], [[0.0]], [[0.0]], [[0.0]], [[0.0]], [[0.015025973320007324]], [[1.997780680656433]]], [[[0.0]], [[0.0]], [[0.0]], [[0.0]], [[0.0]], [[0.0]], [[0.0]], [[0.0]], [[0.0]], [[0.0]], [[0.0]], [[0.0]], [[0.0]], [[0.0]], [[0.0]], [[0.0]], [[0.0]], [[0.0]], [[0.0]], [[0.0]], [[0.0]], [[0.0]], [[0.0]], [[0.0]], [[0.0]], [[0.0]], [[0.0]], [[0.0]], [[0.0]], [[0.0]], [[0.0]], [[0.0]], [[0.0]], [[0.0]], [[0.0]], [[0.0]], [[0.0]], [[0.0]], [[0.0]], [[0.0]], [[0.0]], [[0.0]], [[0.0]], [[0.0]], [[0.0]], [[0.0]], [[0.0]], [[0.0]], [[0.0]], [[0.0]], [[0.0]], [[0.0]], [[0.0]], [[0.0]], [[0.0]], [[0.0]], [[0.0]], [[0.0]], [[0.0]], [[0.0]], [[0.0]], [[0.043631672859191895]], [[1.9945355653762817]]], [[[0.0]], [[0.0]], [[0.0]], [[0.0]], [[0.0]], [[0.0]], [[0.0]], [[0.0]], [[0.0]], [[0.0]], [[0.0]], [[0.0]], [[0.0]], [[0.21163427829742432]], [[1.0367296934127808]], [[0.0]], [[0.0]], [[0.0]], [[0.0]], [[1.5547236204147339]], [[0.0]], [[0.0]], [[0.0]], [[0.0]], [[0.691014289855957]], [[1.1522578001022339]], [[3.6855058670043945]], [[0.7011216878890991]], [[0.0]], [[0.0]], [[0.05733823776245117]], [[0.7114546298980713]], [[0.0]], [[0.0]], [[0.0]], [[0.0]], [[0.0]], [[0.0]], [[0.0]], [[0.0]], [[0.0]], [[0.0]], [[0.0]], [[0.0]], [[0.0]], [[0.0]], [[0.4549452066421509]], [[0.0]], [[0.0]], [[0.0]], [[0.0]], [[0.0]], [[0.0]], [[0.0]], [[0.0]], [[0.0]], [[0.0]], [[0.0]], [[0.0]], [[0.0]], [[0.0]], [[0.0]], [[0.0]], [[0.0]], [[0.0]], [[0.0]], [[0.0]], [[0.0]], [[0.0]], [[0.0]], [[0.0]], [[0.0]], [[0.0]], [[0.4997469186782837]], [[0.0]], [[0.0]], [[0.0]], [[0.0]], [[0.0]], [[0.0]], [[0.0]], [[3.6914877891540527]], [[0.0]], [[0.0]], [[0.0]], [[0.0]], [[0.0]], [[0.0]], [[0.0]], [[0.0]], [[0.0]], [[0.0]], [[0.0]], [[0.0]], [[0.0]], [[0.0]], [[0.0]], [[1.9040063619613647]]], [[[0.0]], [[0.0]], [[0.0]], [[0.0]], [[0.0]], [[0.0]], [[0.0]], [[0.0]], [[0.0]], [[0.0]], [[0.0]], [[0.0]], [[0.0]], [[0.0]], [[0.0]], [[0.0]], [[0.0]], [[0.0]], [[0.0]], [[0.0]], [[0.0]], [[0.0]], [[0.0]], [[0.0]], [[0.0]], [[0.0]], [[0.0]], [[0.0]], [[0.0]], [[0.0]], [[0.0]], [[0.0]], [[0.0]], [[0.0]], [[0.0]], [[0.0]], [[0.0]], [[0.0]], [[0.0]], [[0.0]], [[0.0]], [[0.0]], [[0.0]], [[0.0]], [[0.0]], [[0.0]], [[0.0]], [[0.0]], [[0.0]], [[0.0]], [[0.0]], [[0.0]], [[0.0]], [[0.0]], [[0.0]], [[0.0]], [[0.0]], [[0.0]], [[0.0]], [[0.0]], [[0.0]], [[0.0]], [[0.0]], [[0.0]], [[0.0]], [[0.0]], [[0.0]], [[0.0]], [[0.0]], [[0.0]], [[0.0]], [[0.0]], [[1.885283350944519]]], [[[0.0]], [[0.0]], [[0.0]], [[0.0]], [[0.0]], [[0.0]], [[0.0]], [[0.0]], [[0.0]], [[0.0]], [[0.0]], [[0.0]], [[0.0]], [[0.0]], [[0.0]], [[0.0]], [[0.0]], [[0.0]], [[0.0]], [[0.0]], [[0.0]], [[0.0]], [[0.0]], [[0.0]], [[0.0]], [[0.0]], [[0.0]], [[0.0]], [[0.0]], [[0.0]], [[0.0]], [[0.0]], [[0.0]], [[0.0]], [[0.0]], [[0.0]], [[0.0]], [[0.0]], [[0.0]], [[0.0]], [[0.0]], [[0.0]], [[0.0]], [[0.0]], [[0.0]], [[0.0]], [[0.0]], [[0.0]], [[0.0]], [[0.0]], [[0.0]], [[0.0]], [[0.0]], [[0.0]], [[0.0]], [[0.0]], [[0.0]], [[0.0]], [[0.0]], [[0.0]], [[0.0]], [[0.0]], [[0.0]], [[0.0]], [[0.0]], [[0.0]], [[0.0]], [[0.0]], [[0.0]], [[0.0]], [[0.0]], [[0.0]], [[0.0]], [[0.0]], [[0.0]], [[0.0]], [[0.0]], [[0.0]], [[0.0]], [[0.0]], [[0.0]], [[0.0]], [[0.0]], [[0.0]], [[0.0]], [[0.0]], [[0.0]], [[0.0]], [[1.8850551843643188]]], [[[0.0]], [[0.0]], [[0.0]], [[0.0]], [[0.0]], [[0.0]], [[0.0]], [[0.0]], [[0.0]], [[0.0]], [[0.0]], [[0.0]], [[0.0]], [[0.0]], [[0.0]], [[0.0]], [[0.0]], [[0.0]], [[0.0]], [[0.0]], [[0.0]], [[0.0]], [[0.0]], [[0.0]], [[0.0]], [[0.0]], [[0.0]], [[0.0]], [[0.03543591499328613]], [[0.0]], [[0.0]], [[0.0]], [[0.0]], [[0.0]], [[0.0]], [[0.0]], [[0.0]], [[0.0]], [[0.0]], [[0.0]], [[0.0]], [[0.4962778091430664]], [[1.8424168825149536]]], [[[0.0]], [[0.0]], [[0.0]], [[0.0]], [[0.0]], [[0.0]], [[0.0]], [[0.0]], [[0.0]], [[0.0]], [[0.0]], [[0.0]], [[0.0]], [[0.0]], [[0.0]], [[0.0]], [[0.0]], [[0.0]], [[0.0]], [[0.0]], [[0.0]], [[0.0]], [[0.0]], [[0.0]], [[0.0]], [[0.0]], [[0.0]], [[0.0]], [[0.0]], [[0.0]], [[0.0]], [[0.0]], [[0.0]], [[0.0]], [[0.0]], [[0.12768793106079102]], [[0.0]], [[0.0]], [[0.0]], [[0.0]], [[0.0]], [[1.830490231513977]]]], \"firstDimensionName\": \"Layer\", \"secondDimensionName\": \"Neuron\"}\n",
       "    )\n",
       "    </script>"
      ],
      "text/plain": [
       "<circuitsvis.utils.render.RenderedHTML at 0x7f13a14bdb80>"
      ]
     },
     "execution_count": 20,
     "metadata": {},
     "output_type": "execute_result"
    }
   ],
   "source": [
    "# Need to stack functions to display circuitvis properly\n",
    "text_neuron_activations(\n",
    "    topk_prompts_provider(\n",
    "        feature_layer=layer_patching_on_y, \n",
    "        feature_id=topk_features_on_y[0],\n",
    "        k=5\n",
    "))"
   ]
  },
  {
   "cell_type": "markdown",
   "metadata": {},
   "source": [
    "## Patching on feature activation"
   ]
  },
  {
   "cell_type": "code",
   "execution_count": 21,
   "metadata": {},
   "outputs": [],
   "source": [
    "downstream_feat_layer = 5\n",
    "downstream_feat_id = 22167 # 5/22167 seems to activate on singular nouns related do people\n",
    "\n",
    "k_upstream_feats = 3"
   ]
  },
  {
   "cell_type": "code",
   "execution_count": 22,
   "metadata": {},
   "outputs": [
    {
     "name": "stdout",
     "output_type": "stream",
     "text": [
      "total metric diff after replacing clean prefix with patch prefix: 2.389716148376465\n"
     ]
    }
   ],
   "source": [
    "from acdc import patching_on_feature_activation\n",
    "effects, total_effect = patching_on_feature_activation(\n",
    "    toy_dataset,\n",
    "    model,\n",
    "    submodules,\n",
    "    dictionaries,\n",
    "    downstream_feature_layer=downstream_feat_layer,\n",
    "    downstream_feature_id=downstream_feat_id, \n",
    "    method='all-folded'\n",
    ")\n",
    "\n",
    "print(f'total metric diff after replacing clean prefix with patch prefix: {total_effect}')"
   ]
  },
  {
   "cell_type": "code",
   "execution_count": null,
   "metadata": {},
   "outputs": [],
   "source": []
  },
  {
   "cell_type": "code",
   "execution_count": 23,
   "metadata": {},
   "outputs": [
    {
     "name": "stdout",
     "output_type": "stream",
     "text": [
      "\n",
      "\n",
      "Layer 0:\n",
      "feat 20987:\t 1.8057266473770142\n",
      "feat 15149:\t -1.320497751235962\n",
      "feat 0:\t 0.0\n",
      "\n",
      "\n",
      "Layer 1:\n",
      "feat 16149:\t 0.181435227394104\n",
      "feat 14400:\t -0.03838137537240982\n",
      "feat 25045:\t 0.028566457331180573\n",
      "\n",
      "\n",
      "Layer 2:\n",
      "feat 8734:\t 0.04685451462864876\n",
      "feat 4770:\t 0.024982599541544914\n",
      "feat 31615:\t -0.010588026605546474\n",
      "\n",
      "\n",
      "Layer 3:\n",
      "feat 26928:\t -0.09890806674957275\n",
      "feat 22260:\t 0.03759358078241348\n",
      "feat 21615:\t 0.03652147948741913\n",
      "\n",
      "\n",
      "Layer 4:\n",
      "feat 25647:\t 0.13976886868476868\n",
      "feat 26810:\t 0.08913157135248184\n",
      "feat 16301:\t 0.0890531912446022\n",
      "\n",
      "\n",
      "Layer 5:\n",
      "feat 22167:\t 2.013801336288452\n",
      "feat 10880:\t 0.06829008460044861\n",
      "feat 7352:\t -0.056569550186395645\n"
     ]
    }
   ],
   "source": [
    "# Top k features per layer with highest impact on downstream feat activation\n",
    "\n",
    "topk_effects = sorted(enumerate(plural_effect), key=lambda x: x[1].abs(), reverse=True)\n",
    "\n",
    "topk_features = []\n",
    "print(f'Top 10 features in layer {layer_patching_on_y} with highest impact on downstream feat activation')\n",
    "topk_upstream_feats = t.zeros((len(submodules), k_upstream_feats))\n",
    "for layer in range(len(submodules)):\n",
    "    print(f'\\n\\nLayer {layer}:')\n",
    "    plural_effect = effects[submodules[layer]][plural_token_pos].detach().cpu()\n",
    "\n",
    "    # Top k features with highest mean activation\n",
    "    topk_effects = sorted(enumerate(plural_effect), key=lambda x: x[1].abs(), reverse=True)\n",
    "    topk_features[layer] = topk_effects[:3]\n",
    "    for id, eff in topk_effects[:3]:\n",
    "        print(f'feat {id}:\\t {eff}')"
   ]
  },
  {
   "cell_type": "markdown",
   "metadata": {},
   "source": [
    "Exact patching should yield 0 unconnected features in same or later layer. (No bwdpass involved)"
   ]
  },
  {
   "cell_type": "code",
   "execution_count": 29,
   "metadata": {},
   "outputs": [
    {
     "data": {
      "text/html": [
       "<div id=\"circuits-vis-4bf33fc7-a808\" style=\"margin: 15px 0;\"/>\n",
       "    <script crossorigin type=\"module\">\n",
       "    import { render, TextNeuronActivations } from \"https://unpkg.com/circuitsvis@1.43.2/dist/cdn/esm.js\";\n",
       "    render(\n",
       "      \"circuits-vis-4bf33fc7-a808\",\n",
       "      TextNeuronActivations,\n",
       "      {\"tokens\": [[\"Our\", \" Story\", \"\\n\", \"\\n\", \"Our\", \" Mission\", \"\\n\", \"\\n\", \"National\", \" reach\", \" with\", \" local\", \" impact\", \".\", \" The\", \" mission\", \" of\", \" the\", \" M\", \"BA\", \" Op\", \"ens\", \" Do\", \"ors\", \" Foundation\", \" is\", \" to\", \" help\", \" vulnerable\", \" families\", \" with\", \" critically\", \" ill\", \" or\", \" injured\", \" children\", \" stay\", \" in\", \" their\", \" homes\", \" while\", \" a\", \" child\", \" is\", \" in\", \" treatment\", \".\", \"\\n\", \"\\n\", \"Our\", \" Vision\", \"\\n\", \"\\n\", \"Supporting\", \" families\", \" across\", \" America\", \".\", \" Our\", \" vision\", \" is\", \" a\", \" world\", \" where\", \" families\", \" with\", \" sick\", \" children\", \" receive\", \" mortgage\", \" or\", \" rental\", \" payment\", \" assistance\", \" while\", \" a\", \" child\", \" is\", \" in\", \" treatment\", \",\", \" allowing\", \" parents\"], [\"Getting\", \" '\", \"K\", \"inky\", \"':\", \" Nan\", \"osc\", \"ale\", \" Atomic\", \" Inter\", \"faces\", \" Have\", \" Ser\", \"ious\", \" Fl\", \"aws\", \"\\n\", \"\\n\", \"Below\", \":\", \"\\n\", \"\\n\", \"Next\", \" story\", \" in\", \" Tech\", \" and\", \" gad\", \"gets\", \"\\n\", \"\\n\", \"Scient\", \"ists\"], [\"The\", \" economy\", \" has\", \" been\", \" cru\", \"ising\", \" along\", \" nicely\", \" for\", \" a\", \" few\", \" years\", \" now\", \",\", \" pushing\", \" the\", \" unemployment\", \" rate\", \" to\", \" historic\", \" low\", \"s\", \".\", \"\\n\", \"\\n\", \"But\", \" Millenn\", \"ials\"], [\"Our\", \" Story\", \"\\n\", \"\\n\", \"Our\", \" Mission\", \"\\n\", \"\\n\", \"National\", \" reach\", \" with\", \" local\", \" impact\", \".\", \" The\", \" mission\", \" of\", \" the\", \" M\", \"BA\", \" Op\", \"ens\", \" Do\", \"ors\", \" Foundation\", \" is\", \" to\", \" help\", \" vulnerable\", \" families\", \" with\", \" critically\", \" ill\", \" or\", \" injured\", \" children\", \" stay\", \" in\", \" their\", \" homes\", \" while\", \" a\", \" child\", \" is\", \" in\", \" treatment\", \".\", \"\\n\", \"\\n\", \"Our\", \" Vision\", \"\\n\", \"\\n\", \"Supporting\", \" families\", \" across\", \" America\", \".\", \" Our\", \" vision\", \" is\", \" a\", \" world\", \" where\", \" families\"], [\"Related\", \" T\", \"ags\", \":\", \"\\n\", \"\\n\", \"Lat\", \"est\", \" News\", \"\\n\", \"\\n\", \"HE\", \"LE\", \"NA\", \",\", \" Mont\", \".\", \" (\", \"CBS\", \" DC\", \"/\", \"AP\", \")\", \" \\u2014\", \" The\", \" Roman\", \" Catholic\", \" Di\", \"ocese\", \" of\", \" Hel\", \"ena\", \" is\", \" dropping\", \" group\", \" health\", \" insurance\", \" plans\", \" for\", \" its\", \" 200\", \" employees\", \" in\", \" par\", \"ishes\", \",\", \" schools\", \" and\", \" social\", \" services\", \" across\", \" western\", \" Montana\", \",\", \" a\", \" spokesman\", \" for\", \" the\", \" di\", \"ocese\", \" said\", \".\", \"\\n\", \"\\n\", \"Instead\", \",\", \" the\", \" di\", \"ocese\", \" will\", \" help\", \" those\", \" workers\"]], \"activations\": [[[[0.0]], [[0.0]], [[0.0]], [[0.0]], [[0.0]], [[0.0]], [[0.0]], [[0.0]], [[0.0]], [[0.0]], [[0.0]], [[0.0]], [[0.0]], [[0.0]], [[0.0]], [[0.0]], [[0.0]], [[0.0]], [[0.0]], [[0.0]], [[0.0]], [[0.0]], [[0.0]], [[0.0]], [[0.0]], [[0.0]], [[0.0]], [[0.0]], [[0.0]], [[1.9759870767593384]], [[0.0]], [[0.0]], [[0.0]], [[0.0]], [[0.0]], [[0.27283382415771484]], [[0.0]], [[0.0]], [[0.0]], [[0.0]], [[0.0]], [[0.0]], [[0.0]], [[0.0]], [[0.0]], [[0.0]], [[0.0]], [[0.0]], [[0.0]], [[0.0]], [[0.0]], [[0.0]], [[0.0]], [[0.0]], [[1.891748070716858]], [[0.0]], [[0.0]], [[0.0]], [[0.0]], [[0.0]], [[0.0]], [[0.0]], [[0.0]], [[0.0]], [[2.2822213172912598]], [[0.0]], [[0.0]], [[0.8557988405227661]], [[0.0]], [[0.0]], [[0.0]], [[0.0]], [[0.0]], [[0.0]], [[0.0]], [[0.0]], [[0.0]], [[0.0]], [[0.0]], [[0.0]], [[0.0]], [[0.0]], [[2.6174168586730957]]], [[[0.0]], [[0.0]], [[0.0]], [[0.0]], [[0.0]], [[0.0]], [[0.0]], [[0.0]], [[0.0]], [[0.0]], [[0.0]], [[0.0]], [[0.0]], [[0.0]], [[0.0]], [[0.0]], [[0.0]], [[0.0]], [[0.0]], [[0.0]], [[0.0]], [[0.0]], [[0.0]], [[0.0]], [[0.0]], [[0.0]], [[0.0]], [[0.0]], [[0.0]], [[0.0]], [[0.0]], [[0.0]], [[2.511070728302002]]], [[[0.0]], [[0.0]], [[0.0]], [[0.0]], [[0.0]], [[0.0]], [[0.0]], [[0.0]], [[0.0]], [[0.0]], [[0.0]], [[0.0]], [[0.0]], [[0.0]], [[0.0]], [[0.0]], [[0.0]], [[0.0]], [[0.0]], [[0.0]], [[0.0]], [[0.0]], [[0.0]], [[0.0]], [[0.0]], [[0.0]], [[0.0]], [[2.3777127265930176]]], [[[0.0]], [[0.0]], [[0.0]], [[0.0]], [[0.0]], [[0.0]], [[0.0]], [[0.0]], [[0.0]], [[0.0]], [[0.0]], [[0.0]], [[0.0]], [[0.0]], [[0.0]], [[0.0]], [[0.0]], [[0.0]], [[0.0]], [[0.0]], [[0.0]], [[0.0]], [[0.0]], [[0.0]], [[0.0]], [[0.0]], [[0.0]], [[0.0]], [[0.0]], [[1.9759870767593384]], [[0.0]], [[0.0]], [[0.0]], [[0.0]], [[0.0]], [[0.27283382415771484]], [[0.0]], [[0.0]], [[0.0]], [[0.0]], [[0.0]], [[0.0]], [[0.0]], [[0.0]], [[0.0]], [[0.0]], [[0.0]], [[0.0]], [[0.0]], [[0.0]], [[0.0]], [[0.0]], [[0.0]], [[0.0]], [[1.891748070716858]], [[0.0]], [[0.0]], [[0.0]], [[0.0]], [[0.0]], [[0.0]], [[0.0]], [[0.0]], [[0.0]], [[2.2822213172912598]]], [[[0.0]], [[0.0]], [[0.0]], [[0.0]], [[0.0]], [[0.0]], [[0.0]], [[0.0]], [[0.0]], [[0.0]], [[0.0]], [[0.0]], [[0.0]], [[0.0]], [[0.0]], [[0.0]], [[0.0]], [[0.0]], [[0.0]], [[0.0]], [[0.0]], [[0.0]], [[0.0]], [[0.0]], [[0.0]], [[0.0]], [[0.0]], [[0.0]], [[0.0]], [[0.0]], [[0.0]], [[0.0]], [[0.0]], [[0.0]], [[0.0]], [[0.0]], [[0.0]], [[0.0]], [[0.0]], [[0.0]], [[0.0]], [[0.3814971446990967]], [[0.0]], [[0.0]], [[0.0]], [[0.0]], [[0.13704419136047363]], [[0.0]], [[0.0]], [[0.0]], [[0.0]], [[0.0]], [[0.0]], [[0.0]], [[0.0]], [[0.0]], [[0.0]], [[0.0]], [[0.0]], [[0.3005870580673218]], [[0.0]], [[0.0]], [[0.0]], [[0.0]], [[0.0]], [[0.0]], [[0.0]], [[0.0]], [[0.5084050893783569]], [[0.0]], [[0.0]], [[0.7323141098022461]], [[2.2752685546875]]]], \"firstDimensionName\": \"Layer\", \"secondDimensionName\": \"Neuron\"}\n",
       "    )\n",
       "    </script>"
      ],
      "text/plain": [
       "<circuitsvis.utils.render.RenderedHTML at 0x7f136713a1c0>"
      ]
     },
     "execution_count": 29,
     "metadata": {},
     "output_type": "execute_result"
    }
   ],
   "source": [
    "tokens, activations = topk_prompts_provider(\n",
    "    feature_layer=3,\n",
    "    feature_id=26928,\n",
    "    k=5\n",
    ")\n",
    "text_neuron_activations(tokens, activations)"
   ]
  },
  {
   "cell_type": "code",
   "execution_count": null,
   "metadata": {},
   "outputs": [],
   "source": []
  },
  {
   "cell_type": "code",
   "execution_count": null,
   "metadata": {},
   "outputs": [],
   "source": []
  }
 ],
 "metadata": {
  "kernelspec": {
   "display_name": "Python 3",
   "language": "python",
   "name": "python3"
  },
  "language_info": {
   "codemirror_mode": {
    "name": "ipython",
    "version": 3
   },
   "file_extension": ".py",
   "mimetype": "text/x-python",
   "name": "python",
   "nbconvert_exporter": "python",
   "pygments_lexer": "ipython3",
   "version": "3.8.10"
  }
 },
 "nbformat": 4,
 "nbformat_minor": 2
}
