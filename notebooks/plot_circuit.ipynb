{
 "cells": [
  {
   "cell_type": "code",
   "execution_count": 12,
   "metadata": {},
   "outputs": [],
   "source": [
    "import pickle\n",
    "\n",
    "import matplotlib.pyplot as plt\n",
    "import networkx as nx\n",
    "from networkx.drawing.nx_agraph import graphviz_layout, to_agraph\n",
    "import pygraphviz\n",
    "%matplotlib inline"
   ]
  },
  {
   "cell_type": "code",
   "execution_count": 66,
   "metadata": {},
   "outputs": [],
   "source": [
    "# initialize graph\n",
    "G = nx.DiGraph()\n",
    "\n",
    "# load dictionary\n",
    "circuit_path = \"../simple_circuit.pkl\"\n",
    "circuit_figure_path = circuit_path.split(\".pkl\")[0] + \".png\"\n",
    "with open(circuit_path, \"rb\") as circuit_pickle:\n",
    "    circuit = pickle.load(circuit_pickle)"
   ]
  },
  {
   "cell_type": "code",
   "execution_count": 67,
   "metadata": {},
   "outputs": [],
   "source": [
    "G.graph['node'] = {'shape': 'box', 'style': 'rounded'}\n",
    "G.graph['graph'] = {'rankdir': 'BT'}\n",
    "\n",
    "for parent in circuit:\n",
    "    if parent not in G.nodes:\n",
    "        if \"mlp\" in parent:\n",
    "            color = \"#e5ad76\"\n",
    "        elif \"attn\" in parent:\n",
    "            color = \"#5baf7e\"\n",
    "        elif \"resid\" in parent:\n",
    "            color = \"#88a7cd\"\n",
    "        else:\n",
    "            color = \"white\"\n",
    "\n",
    "        if parent != \"y\":\n",
    "            layer, feat_idx, component = parent.split(\"_\")\n",
    "            nodename = f\"{component}_{layer}/{feat_idx}\"\n",
    "        else:\n",
    "            nodename = \"y\"\n",
    "        G.add_node(parent, label=nodename, style=\"rounded,filled\", fillcolor=color)\n",
    "    for child in circuit[parent]:\n",
    "        child_name, child_effect = child\n",
    "        if child_name not in G.nodes:\n",
    "            if \"mlp\" in child_name:\n",
    "                color = \"#e5ad76\"\n",
    "            elif \"attn\" in child_name:\n",
    "                color = \"#5baf7e\"\n",
    "            elif \"resid\" in child_name:\n",
    "                color = \"#88a7cd\"\n",
    "            else:\n",
    "                color = \"white\"\n",
    "\n",
    "            layer, feat_idx, component = child_name.split(\"_\")\n",
    "            nodename = f\"{component}_{layer}/{feat_idx}\"\n",
    "            G.add_node(child_name, label=nodename, style=\"rounded,filled\", fillcolor=color)\n",
    "        G.add_edge(child_name, parent)\n",
    "\n",
    "A = to_agraph(G)\n",
    "A.layout('dot')\n",
    "A.draw(circuit_figure_path)"
   ]
  },
  {
   "cell_type": "code",
   "execution_count": null,
   "metadata": {},
   "outputs": [],
   "source": []
  }
 ],
 "metadata": {
  "kernelspec": {
   "display_name": "othello",
   "language": "python",
   "name": "python3"
  },
  "language_info": {
   "codemirror_mode": {
    "name": "ipython",
    "version": 3
   },
   "file_extension": ".py",
   "mimetype": "text/x-python",
   "name": "python",
   "nbconvert_exporter": "python",
   "pygments_lexer": "ipython3",
   "version": "3.10.13"
  }
 },
 "nbformat": 4,
 "nbformat_minor": 2
}
