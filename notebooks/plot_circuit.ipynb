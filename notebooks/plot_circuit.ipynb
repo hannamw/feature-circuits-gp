{
 "cells": [
  {
   "cell_type": "code",
   "execution_count": 10,
   "metadata": {},
   "outputs": [],
   "source": [
    "import pickle\n",
    "import os\n",
    "\n",
    "import matplotlib.pyplot as plt\n",
    "import networkx as nx\n",
    "from networkx.drawing.nx_agraph import graphviz_layout, to_agraph\n",
    "import pygraphviz\n",
    "%matplotlib inline"
   ]
  },
  {
   "cell_type": "code",
   "execution_count": 12,
   "metadata": {},
   "outputs": [],
   "source": [
    "# initialize graph\n",
    "G = nx.DiGraph()\n",
    "\n",
    "circuit_path = \"../simple_circuit.pkl\"\n",
    "circuit_figure_filename = os.path.basename(circuit_path).split(\".pkl\")[0] + \".png\"\n",
    "circuit_figure_path = os.path.join(\"../figures/circuits\", circuit_figure_filename)\n",
    "\n",
    "# load dictionary\n",
    "with open(circuit_path, \"rb\") as circuit_pickle:\n",
    "    circuit = pickle.load(circuit_pickle)"
   ]
  },
  {
   "cell_type": "code",
   "execution_count": 13,
   "metadata": {},
   "outputs": [
    {
     "ename": "AttributeError",
     "evalue": "module 'os' has no attribute 'exists'",
     "output_type": "error",
     "traceback": [
      "\u001b[0;31m---------------------------------------------------------------------------\u001b[0m",
      "\u001b[0;31mAttributeError\u001b[0m                            Traceback (most recent call last)",
      "Cell \u001b[0;32mIn[13], line 42\u001b[0m\n\u001b[1;32m     39\u001b[0m A \u001b[38;5;241m=\u001b[39m to_agraph(G)\n\u001b[1;32m     40\u001b[0m A\u001b[38;5;241m.\u001b[39mlayout(\u001b[38;5;124m'\u001b[39m\u001b[38;5;124mdot\u001b[39m\u001b[38;5;124m'\u001b[39m)\n\u001b[0;32m---> 42\u001b[0m \u001b[38;5;28;01mif\u001b[39;00m \u001b[38;5;129;01mnot\u001b[39;00m \u001b[43mos\u001b[49m\u001b[38;5;241;43m.\u001b[39;49m\u001b[43mexists\u001b[49m(\u001b[38;5;124m\"\u001b[39m\u001b[38;5;124m../figures/circuits/\u001b[39m\u001b[38;5;124m\"\u001b[39m):\n\u001b[1;32m     43\u001b[0m     os\u001b[38;5;241m.\u001b[39mmakedirs(\u001b[38;5;124m\"\u001b[39m\u001b[38;5;124m../figures/circuits/\u001b[39m\u001b[38;5;124m\"\u001b[39m)\n\u001b[1;32m     44\u001b[0m A\u001b[38;5;241m.\u001b[39mdraw(circuit_figure_path)\n",
      "\u001b[0;31mAttributeError\u001b[0m: module 'os' has no attribute 'exists'"
     ]
    }
   ],
   "source": [
    "G.graph['node'] = {'shape': 'box', 'style': 'rounded'}\n",
    "G.graph['graph'] = {'rankdir': 'BT'}\n",
    "textcolor = \"black\"     # easy to change in case we use colors where white text will look better\n",
    "\n",
    "for parent in circuit:\n",
    "    if parent not in G.nodes:\n",
    "        if \"mlp\" in parent:\n",
    "            nodecolor = \"#e5ad76\"   # camel\n",
    "        elif \"attn\" in parent:\n",
    "            nodecolor = \"#5baf7e\"   # kelly green\n",
    "        elif \"resid\" in parent:\n",
    "            nodecolor = \"#88a7cd\"   # pastel steel blue\n",
    "        else:\n",
    "            nodecolor = \"white\"\n",
    "\n",
    "        if parent != \"y\":\n",
    "            layer, feat_idx, component = parent.split(\"_\")\n",
    "            nodename = f\"{component}_{layer}/{feat_idx}\"\n",
    "        else:\n",
    "            nodename = \"y\"\n",
    "        G.add_node(parent, label=nodename, style=\"rounded,filled\", fillcolor=nodecolor, fontcolor=textcolor)\n",
    "    for child in circuit[parent]:\n",
    "        child_name, child_effect = child\n",
    "        if child_name not in G.nodes:\n",
    "            if \"mlp\" in child_name:\n",
    "                nodecolor = \"#e5ad76\"\n",
    "            elif \"attn\" in child_name:\n",
    "                nodecolor = \"#5baf7e\"\n",
    "            elif \"resid\" in child_name:\n",
    "                nodecolor = \"#88a7cd\"\n",
    "            else:\n",
    "                nodecolor = \"white\"\n",
    "\n",
    "            layer, feat_idx, component = child_name.split(\"_\")\n",
    "            nodename = f\"{component}_{layer}/{feat_idx}\"\n",
    "            G.add_node(child_name, label=nodename, style=\"rounded,filled\", fillcolor=nodecolor, fontcolor=textcolor)\n",
    "        G.add_edge(child_name, parent)\n",
    "\n",
    "A = to_agraph(G)\n",
    "A.layout('dot')\n",
    "\n",
    "if not os.path.exists(\"../figures/circuits/\"):\n",
    "    os.makedirs(\"../figures/circuits/\")\n",
    "A.draw(circuit_figure_path)"
   ]
  },
  {
   "cell_type": "code",
   "execution_count": null,
   "metadata": {},
   "outputs": [],
   "source": []
  }
 ],
 "metadata": {
  "kernelspec": {
   "display_name": "othello",
   "language": "python",
   "name": "python3"
  },
  "language_info": {
   "codemirror_mode": {
    "name": "ipython",
    "version": 3
   },
   "file_extension": ".py",
   "mimetype": "text/x-python",
   "name": "python",
   "nbconvert_exporter": "python",
   "pygments_lexer": "ipython3",
   "version": "3.10.13"
  }
 },
 "nbformat": 4,
 "nbformat_minor": 2
}
